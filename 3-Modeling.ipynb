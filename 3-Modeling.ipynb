{
 "cells": [
  {
   "cell_type": "code",
   "execution_count": 2,
   "metadata": {},
   "outputs": [],
   "source": [
    "# Import libraries\n",
    "import pandas as pd\n",
    "import numpy as np\n",
    "import matplotlib.pyplot as plt\n",
    "import seaborn as sns\n",
    "import scipy.stats as stats\n",
    "\n",
    "# Supress warnings\n",
    "import warnings\n",
    "warnings.filterwarnings('ignore')\n",
    "\n",
    "# Scikit Learn\n",
    "import sklearn\n",
    "sklearn.set_config(display='diagram')\n",
    "from sklearn.preprocessing import StandardScaler, PowerTransformer, OneHotEncoder, PolynomialFeatures\n",
    "from sklearn.model_selection import cross_val_score, train_test_split, GridSearchCV\n",
    "from sklearn.linear_model import LinearRegression, Lasso, Ridge, ElasticNet  \n",
    "from sklearn.metrics import mean_squared_error\n",
    "from sklearn.dummy import DummyRegressor\n",
    "from sklearn.pipeline import make_pipeline\n",
    "from sklearn.compose import make_column_selector, make_column_transformer\n",
    "from sklearn.feature_selection import SelectKBest, f_regression\n",
    "\n",
    "sns.set_style()\n",
    "pd.set_option('display.max_columns', None)\n",
    "plt.style.use('ggplot')\n",
    "plt.rcParams['figure.figsize'] = (16, 9)\n",
    "\n",
    "from IPython import get_ipython\n",
    "ipython = get_ipython()\n",
    "\n",
    "if 'ipython' in globals():\n",
    "    ipython.magic('matplotlib inline')"
   ]
  },
  {
   "cell_type": "code",
   "execution_count": 22,
   "metadata": {},
   "outputs": [],
   "source": [
    "df = pd.read_csv('data/combined.csv', index_col = 't', parse_dates=True)"
   ]
  },
  {
   "cell_type": "code",
   "execution_count": 23,
   "metadata": {},
   "outputs": [
    {
     "name": "stdout",
     "output_type": "stream",
     "text": [
      "<class 'pandas.core.frame.DataFrame'>\n",
      "DatetimeIndex: 3961 entries, 2010-01-01 to 2020-11-04\n",
      "Data columns (total 49 columns):\n",
      " #   Column                                               Non-Null Count  Dtype  \n",
      "---  ------                                               --------------  -----  \n",
      " 0   market_mvrv_more_155                                 3244 non-null   float64\n",
      " 1   addresses_accumulation_balance                       3596 non-null   float64\n",
      " 2   addresses_new_non_zero_count                         3961 non-null   float64\n",
      " 3   indicators_sopr_account_based                        3398 non-null   float64\n",
      " 4   indicators_sopr_adjusted                             3604 non-null   float64\n",
      " 5   transactions_rate                                    3961 non-null   float64\n",
      " 6   market_mvrv                                          3764 non-null   float64\n",
      " 7   addresses_accumulation_count                         3596 non-null   float64\n",
      " 8   entities_receiving_count                             3596 non-null   float64\n",
      " 9   market_marketcap_usd                                 3764 non-null   float64\n",
      " 10  indicators_nvts                                      3761 non-null   float64\n",
      " 11  addresses_min_1k_count                               3961 non-null   float64\n",
      " 12  indicators_puell_multiple                            3398 non-null   float64\n",
      " 13  transactions_transfers_volume_entity_adjusted_sum    3596 non-null   float64\n",
      " 14  entities_net_growth_count                            3596 non-null   float64\n",
      " 15  indicators_sopr_more_155                             3240 non-null   float64\n",
      " 16  market_price_drawdown_relative                       3764 non-null   float64\n",
      " 17  entities_min_1k_count                                3596 non-null   float64\n",
      " 18  market_price_realized_usd                            3961 non-null   float64\n",
      " 19  market_mvrv_less_155                                 3399 non-null   float64\n",
      " 20  indicators_net_unrealized_profit_loss_account_based  3398 non-null   float64\n",
      " 21  transactions_transfers_volume_adjusted_sum           3961 non-null   float64\n",
      " 22  indicators_hodled_lost_coins                         3596 non-null   float64\n",
      " 23  indicators_sopr                                      3762 non-null   float64\n",
      " 24  addresses_profit_relative                            3398 non-null   float64\n",
      " 25  entities_new_count                                   3596 non-null   float64\n",
      " 26  market_mvrv_z_score                                  3763 non-null   float64\n",
      " 27  indicators_mvrv_account_based                        3398 non-null   float64\n",
      " 28  transactions_size_sum                                3949 non-null   float64\n",
      " 29  entities_profit_relative                             3398 non-null   float64\n",
      " 30  transactions_transfers_volume_miners_net             3596 non-null   float64\n",
      " 31  indicators_nupl_more_155_account_based               3398 non-null   float64\n",
      " 32  indicators_liveliness                                3959 non-null   float64\n",
      " 33  indicators_liveliness_account_based                  3596 non-null   float64\n",
      " 34  transactions_entity_adjusted_count                   3596 non-null   float64\n",
      " 35  transactions_count                                   3961 non-null   float64\n",
      " 36  addresses_min_10k_count                              3961 non-null   float64\n",
      " 37  indicators_reserve_risk                              3733 non-null   float64\n",
      " 38  indicators_realized_profit                           3762 non-null   float64\n",
      " 39  addresses_count                                      3961 non-null   float64\n",
      " 40  indicators_nupl_more_155                             3607 non-null   float64\n",
      " 41  addresses_active_count                               3961 non-null   float64\n",
      " 42  market_marketcap_realized_usd                        3961 non-null   float64\n",
      " 43  market_price_usd_close                               3764 non-null   float64\n",
      " 44  addresses_non_zero_count                             3961 non-null   float64\n",
      " 45  indicators_nvt                                       3761 non-null   float64\n",
      " 46  entities_active_count                                3596 non-null   float64\n",
      " 47  indicators_net_unrealized_profit_loss                3761 non-null   float64\n",
      " 48  indicators_sopr_less_155                             3398 non-null   float64\n",
      "dtypes: float64(49)\n",
      "memory usage: 1.5 MB\n"
     ]
    }
   ],
   "source": [
    "df.info()"
   ]
  },
  {
   "cell_type": "code",
   "execution_count": 24,
   "metadata": {},
   "outputs": [
    {
     "data": {
      "text/html": [
       "<div>\n",
       "<style scoped>\n",
       "    .dataframe tbody tr th:only-of-type {\n",
       "        vertical-align: middle;\n",
       "    }\n",
       "\n",
       "    .dataframe tbody tr th {\n",
       "        vertical-align: top;\n",
       "    }\n",
       "\n",
       "    .dataframe thead th {\n",
       "        text-align: right;\n",
       "    }\n",
       "</style>\n",
       "<table border=\"1\" class=\"dataframe\">\n",
       "  <thead>\n",
       "    <tr style=\"text-align: right;\">\n",
       "      <th></th>\n",
       "      <th>market_mvrv_more_155</th>\n",
       "      <th>addresses_accumulation_balance</th>\n",
       "      <th>addresses_new_non_zero_count</th>\n",
       "      <th>indicators_sopr_account_based</th>\n",
       "      <th>indicators_sopr_adjusted</th>\n",
       "      <th>transactions_rate</th>\n",
       "      <th>market_mvrv</th>\n",
       "      <th>addresses_accumulation_count</th>\n",
       "      <th>entities_receiving_count</th>\n",
       "      <th>market_marketcap_usd</th>\n",
       "      <th>indicators_nvts</th>\n",
       "      <th>addresses_min_1k_count</th>\n",
       "      <th>indicators_puell_multiple</th>\n",
       "      <th>transactions_transfers_volume_entity_adjusted_sum</th>\n",
       "      <th>entities_net_growth_count</th>\n",
       "      <th>indicators_sopr_more_155</th>\n",
       "      <th>market_price_drawdown_relative</th>\n",
       "      <th>entities_min_1k_count</th>\n",
       "      <th>market_price_realized_usd</th>\n",
       "      <th>market_mvrv_less_155</th>\n",
       "      <th>indicators_net_unrealized_profit_loss_account_based</th>\n",
       "      <th>transactions_transfers_volume_adjusted_sum</th>\n",
       "      <th>indicators_hodled_lost_coins</th>\n",
       "      <th>indicators_sopr</th>\n",
       "      <th>addresses_profit_relative</th>\n",
       "      <th>entities_new_count</th>\n",
       "      <th>market_mvrv_z_score</th>\n",
       "      <th>indicators_mvrv_account_based</th>\n",
       "      <th>transactions_size_sum</th>\n",
       "      <th>entities_profit_relative</th>\n",
       "      <th>transactions_transfers_volume_miners_net</th>\n",
       "      <th>indicators_nupl_more_155_account_based</th>\n",
       "      <th>indicators_liveliness</th>\n",
       "      <th>indicators_liveliness_account_based</th>\n",
       "      <th>transactions_entity_adjusted_count</th>\n",
       "      <th>transactions_count</th>\n",
       "      <th>addresses_min_10k_count</th>\n",
       "      <th>indicators_reserve_risk</th>\n",
       "      <th>indicators_realized_profit</th>\n",
       "      <th>addresses_count</th>\n",
       "      <th>indicators_nupl_more_155</th>\n",
       "      <th>addresses_active_count</th>\n",
       "      <th>market_marketcap_realized_usd</th>\n",
       "      <th>market_price_usd_close</th>\n",
       "      <th>addresses_non_zero_count</th>\n",
       "      <th>indicators_nvt</th>\n",
       "      <th>entities_active_count</th>\n",
       "      <th>indicators_net_unrealized_profit_loss</th>\n",
       "      <th>indicators_sopr_less_155</th>\n",
       "    </tr>\n",
       "    <tr>\n",
       "      <th>t</th>\n",
       "      <th></th>\n",
       "      <th></th>\n",
       "      <th></th>\n",
       "      <th></th>\n",
       "      <th></th>\n",
       "      <th></th>\n",
       "      <th></th>\n",
       "      <th></th>\n",
       "      <th></th>\n",
       "      <th></th>\n",
       "      <th></th>\n",
       "      <th></th>\n",
       "      <th></th>\n",
       "      <th></th>\n",
       "      <th></th>\n",
       "      <th></th>\n",
       "      <th></th>\n",
       "      <th></th>\n",
       "      <th></th>\n",
       "      <th></th>\n",
       "      <th></th>\n",
       "      <th></th>\n",
       "      <th></th>\n",
       "      <th></th>\n",
       "      <th></th>\n",
       "      <th></th>\n",
       "      <th></th>\n",
       "      <th></th>\n",
       "      <th></th>\n",
       "      <th></th>\n",
       "      <th></th>\n",
       "      <th></th>\n",
       "      <th></th>\n",
       "      <th></th>\n",
       "      <th></th>\n",
       "      <th></th>\n",
       "      <th></th>\n",
       "      <th></th>\n",
       "      <th></th>\n",
       "      <th></th>\n",
       "      <th></th>\n",
       "      <th></th>\n",
       "      <th></th>\n",
       "      <th></th>\n",
       "      <th></th>\n",
       "      <th></th>\n",
       "      <th></th>\n",
       "      <th></th>\n",
       "      <th></th>\n",
       "    </tr>\n",
       "  </thead>\n",
       "  <tbody>\n",
       "    <tr>\n",
       "      <th>2010-01-01</th>\n",
       "      <td>NaN</td>\n",
       "      <td>70018.15</td>\n",
       "      <td>134.0</td>\n",
       "      <td>NaN</td>\n",
       "      <td>NaN</td>\n",
       "      <td>0.000023</td>\n",
       "      <td>NaN</td>\n",
       "      <td>8.0</td>\n",
       "      <td>2.0</td>\n",
       "      <td>NaN</td>\n",
       "      <td>NaN</td>\n",
       "      <td>9.0</td>\n",
       "      <td>NaN</td>\n",
       "      <td>6700.00</td>\n",
       "      <td>48.0</td>\n",
       "      <td>NaN</td>\n",
       "      <td>NaN</td>\n",
       "      <td>92.0</td>\n",
       "      <td>0.04951</td>\n",
       "      <td>NaN</td>\n",
       "      <td>NaN</td>\n",
       "      <td>100.00</td>\n",
       "      <td>1.616534e+06</td>\n",
       "      <td>NaN</td>\n",
       "      <td>NaN</td>\n",
       "      <td>50.0</td>\n",
       "      <td>NaN</td>\n",
       "      <td>NaN</td>\n",
       "      <td>316.0</td>\n",
       "      <td>NaN</td>\n",
       "      <td>6500.0</td>\n",
       "      <td>NaN</td>\n",
       "      <td>0.008960</td>\n",
       "      <td>0.009140</td>\n",
       "      <td>134.0</td>\n",
       "      <td>2.0</td>\n",
       "      <td>4.0</td>\n",
       "      <td>NaN</td>\n",
       "      <td>NaN</td>\n",
       "      <td>32745.0</td>\n",
       "      <td>NaN</td>\n",
       "      <td>4.0</td>\n",
       "      <td>80758.2365</td>\n",
       "      <td>NaN</td>\n",
       "      <td>29959.0</td>\n",
       "      <td>NaN</td>\n",
       "      <td>4.0</td>\n",
       "      <td>NaN</td>\n",
       "      <td>NaN</td>\n",
       "    </tr>\n",
       "    <tr>\n",
       "      <th>2010-01-02</th>\n",
       "      <td>NaN</td>\n",
       "      <td>70018.15</td>\n",
       "      <td>126.0</td>\n",
       "      <td>NaN</td>\n",
       "      <td>NaN</td>\n",
       "      <td>0.000000</td>\n",
       "      <td>NaN</td>\n",
       "      <td>8.0</td>\n",
       "      <td>0.0</td>\n",
       "      <td>NaN</td>\n",
       "      <td>NaN</td>\n",
       "      <td>9.0</td>\n",
       "      <td>NaN</td>\n",
       "      <td>6300.00</td>\n",
       "      <td>37.0</td>\n",
       "      <td>NaN</td>\n",
       "      <td>NaN</td>\n",
       "      <td>96.0</td>\n",
       "      <td>0.04951</td>\n",
       "      <td>NaN</td>\n",
       "      <td>NaN</td>\n",
       "      <td>0.00</td>\n",
       "      <td>1.622842e+06</td>\n",
       "      <td>NaN</td>\n",
       "      <td>NaN</td>\n",
       "      <td>37.0</td>\n",
       "      <td>NaN</td>\n",
       "      <td>NaN</td>\n",
       "      <td>NaN</td>\n",
       "      <td>NaN</td>\n",
       "      <td>6300.0</td>\n",
       "      <td>NaN</td>\n",
       "      <td>0.008891</td>\n",
       "      <td>0.009069</td>\n",
       "      <td>126.0</td>\n",
       "      <td>0.0</td>\n",
       "      <td>4.0</td>\n",
       "      <td>NaN</td>\n",
       "      <td>NaN</td>\n",
       "      <td>32871.0</td>\n",
       "      <td>NaN</td>\n",
       "      <td>0.0</td>\n",
       "      <td>81067.6740</td>\n",
       "      <td>NaN</td>\n",
       "      <td>30085.0</td>\n",
       "      <td>NaN</td>\n",
       "      <td>0.0</td>\n",
       "      <td>NaN</td>\n",
       "      <td>NaN</td>\n",
       "    </tr>\n",
       "    <tr>\n",
       "      <th>2010-01-03</th>\n",
       "      <td>NaN</td>\n",
       "      <td>70018.15</td>\n",
       "      <td>186.0</td>\n",
       "      <td>NaN</td>\n",
       "      <td>NaN</td>\n",
       "      <td>0.000000</td>\n",
       "      <td>NaN</td>\n",
       "      <td>8.0</td>\n",
       "      <td>0.0</td>\n",
       "      <td>NaN</td>\n",
       "      <td>NaN</td>\n",
       "      <td>9.0</td>\n",
       "      <td>NaN</td>\n",
       "      <td>9300.00</td>\n",
       "      <td>61.0</td>\n",
       "      <td>NaN</td>\n",
       "      <td>NaN</td>\n",
       "      <td>97.0</td>\n",
       "      <td>0.04951</td>\n",
       "      <td>NaN</td>\n",
       "      <td>NaN</td>\n",
       "      <td>0.00</td>\n",
       "      <td>1.632199e+06</td>\n",
       "      <td>NaN</td>\n",
       "      <td>NaN</td>\n",
       "      <td>61.0</td>\n",
       "      <td>NaN</td>\n",
       "      <td>NaN</td>\n",
       "      <td>NaN</td>\n",
       "      <td>NaN</td>\n",
       "      <td>9300.0</td>\n",
       "      <td>NaN</td>\n",
       "      <td>0.008806</td>\n",
       "      <td>0.008983</td>\n",
       "      <td>186.0</td>\n",
       "      <td>0.0</td>\n",
       "      <td>4.0</td>\n",
       "      <td>NaN</td>\n",
       "      <td>NaN</td>\n",
       "      <td>33057.0</td>\n",
       "      <td>NaN</td>\n",
       "      <td>0.0</td>\n",
       "      <td>81528.1170</td>\n",
       "      <td>NaN</td>\n",
       "      <td>30271.0</td>\n",
       "      <td>NaN</td>\n",
       "      <td>0.0</td>\n",
       "      <td>NaN</td>\n",
       "      <td>NaN</td>\n",
       "    </tr>\n",
       "    <tr>\n",
       "      <th>2010-01-04</th>\n",
       "      <td>NaN</td>\n",
       "      <td>90722.50</td>\n",
       "      <td>183.0</td>\n",
       "      <td>NaN</td>\n",
       "      <td>NaN</td>\n",
       "      <td>0.000023</td>\n",
       "      <td>NaN</td>\n",
       "      <td>9.0</td>\n",
       "      <td>3.0</td>\n",
       "      <td>NaN</td>\n",
       "      <td>NaN</td>\n",
       "      <td>9.0</td>\n",
       "      <td>NaN</td>\n",
       "      <td>29854.35</td>\n",
       "      <td>57.0</td>\n",
       "      <td>NaN</td>\n",
       "      <td>NaN</td>\n",
       "      <td>98.0</td>\n",
       "      <td>0.04951</td>\n",
       "      <td>NaN</td>\n",
       "      <td>NaN</td>\n",
       "      <td>20804.35</td>\n",
       "      <td>1.639507e+06</td>\n",
       "      <td>NaN</td>\n",
       "      <td>NaN</td>\n",
       "      <td>59.0</td>\n",
       "      <td>NaN</td>\n",
       "      <td>NaN</td>\n",
       "      <td>9649.0</td>\n",
       "      <td>NaN</td>\n",
       "      <td>5050.0</td>\n",
       "      <td>NaN</td>\n",
       "      <td>0.009810</td>\n",
       "      <td>0.009984</td>\n",
       "      <td>183.0</td>\n",
       "      <td>2.0</td>\n",
       "      <td>4.0</td>\n",
       "      <td>NaN</td>\n",
       "      <td>NaN</td>\n",
       "      <td>33240.0</td>\n",
       "      <td>NaN</td>\n",
       "      <td>85.0</td>\n",
       "      <td>81976.1825</td>\n",
       "      <td>NaN</td>\n",
       "      <td>30372.0</td>\n",
       "      <td>NaN</td>\n",
       "      <td>5.0</td>\n",
       "      <td>NaN</td>\n",
       "      <td>NaN</td>\n",
       "    </tr>\n",
       "    <tr>\n",
       "      <th>2010-01-05</th>\n",
       "      <td>NaN</td>\n",
       "      <td>90722.50</td>\n",
       "      <td>198.0</td>\n",
       "      <td>NaN</td>\n",
       "      <td>NaN</td>\n",
       "      <td>0.000000</td>\n",
       "      <td>NaN</td>\n",
       "      <td>9.0</td>\n",
       "      <td>0.0</td>\n",
       "      <td>NaN</td>\n",
       "      <td>NaN</td>\n",
       "      <td>9.0</td>\n",
       "      <td>NaN</td>\n",
       "      <td>9900.00</td>\n",
       "      <td>62.0</td>\n",
       "      <td>NaN</td>\n",
       "      <td>NaN</td>\n",
       "      <td>98.0</td>\n",
       "      <td>0.04951</td>\n",
       "      <td>NaN</td>\n",
       "      <td>NaN</td>\n",
       "      <td>0.00</td>\n",
       "      <td>1.647175e+06</td>\n",
       "      <td>NaN</td>\n",
       "      <td>NaN</td>\n",
       "      <td>62.0</td>\n",
       "      <td>NaN</td>\n",
       "      <td>NaN</td>\n",
       "      <td>NaN</td>\n",
       "      <td>NaN</td>\n",
       "      <td>9900.0</td>\n",
       "      <td>NaN</td>\n",
       "      <td>0.011092</td>\n",
       "      <td>0.011264</td>\n",
       "      <td>198.0</td>\n",
       "      <td>0.0</td>\n",
       "      <td>4.0</td>\n",
       "      <td>NaN</td>\n",
       "      <td>NaN</td>\n",
       "      <td>33438.0</td>\n",
       "      <td>NaN</td>\n",
       "      <td>0.0</td>\n",
       "      <td>82466.3315</td>\n",
       "      <td>NaN</td>\n",
       "      <td>30570.0</td>\n",
       "      <td>NaN</td>\n",
       "      <td>0.0</td>\n",
       "      <td>NaN</td>\n",
       "      <td>NaN</td>\n",
       "    </tr>\n",
       "  </tbody>\n",
       "</table>\n",
       "</div>"
      ],
      "text/plain": [
       "            market_mvrv_more_155  addresses_accumulation_balance  \\\n",
       "t                                                                  \n",
       "2010-01-01                   NaN                        70018.15   \n",
       "2010-01-02                   NaN                        70018.15   \n",
       "2010-01-03                   NaN                        70018.15   \n",
       "2010-01-04                   NaN                        90722.50   \n",
       "2010-01-05                   NaN                        90722.50   \n",
       "\n",
       "            addresses_new_non_zero_count  indicators_sopr_account_based  \\\n",
       "t                                                                         \n",
       "2010-01-01                         134.0                            NaN   \n",
       "2010-01-02                         126.0                            NaN   \n",
       "2010-01-03                         186.0                            NaN   \n",
       "2010-01-04                         183.0                            NaN   \n",
       "2010-01-05                         198.0                            NaN   \n",
       "\n",
       "            indicators_sopr_adjusted  transactions_rate  market_mvrv  \\\n",
       "t                                                                      \n",
       "2010-01-01                       NaN           0.000023          NaN   \n",
       "2010-01-02                       NaN           0.000000          NaN   \n",
       "2010-01-03                       NaN           0.000000          NaN   \n",
       "2010-01-04                       NaN           0.000023          NaN   \n",
       "2010-01-05                       NaN           0.000000          NaN   \n",
       "\n",
       "            addresses_accumulation_count  entities_receiving_count  \\\n",
       "t                                                                    \n",
       "2010-01-01                           8.0                       2.0   \n",
       "2010-01-02                           8.0                       0.0   \n",
       "2010-01-03                           8.0                       0.0   \n",
       "2010-01-04                           9.0                       3.0   \n",
       "2010-01-05                           9.0                       0.0   \n",
       "\n",
       "            market_marketcap_usd  indicators_nvts  addresses_min_1k_count  \\\n",
       "t                                                                           \n",
       "2010-01-01                   NaN              NaN                     9.0   \n",
       "2010-01-02                   NaN              NaN                     9.0   \n",
       "2010-01-03                   NaN              NaN                     9.0   \n",
       "2010-01-04                   NaN              NaN                     9.0   \n",
       "2010-01-05                   NaN              NaN                     9.0   \n",
       "\n",
       "            indicators_puell_multiple  \\\n",
       "t                                       \n",
       "2010-01-01                        NaN   \n",
       "2010-01-02                        NaN   \n",
       "2010-01-03                        NaN   \n",
       "2010-01-04                        NaN   \n",
       "2010-01-05                        NaN   \n",
       "\n",
       "            transactions_transfers_volume_entity_adjusted_sum  \\\n",
       "t                                                               \n",
       "2010-01-01                                            6700.00   \n",
       "2010-01-02                                            6300.00   \n",
       "2010-01-03                                            9300.00   \n",
       "2010-01-04                                           29854.35   \n",
       "2010-01-05                                            9900.00   \n",
       "\n",
       "            entities_net_growth_count  indicators_sopr_more_155  \\\n",
       "t                                                                 \n",
       "2010-01-01                       48.0                       NaN   \n",
       "2010-01-02                       37.0                       NaN   \n",
       "2010-01-03                       61.0                       NaN   \n",
       "2010-01-04                       57.0                       NaN   \n",
       "2010-01-05                       62.0                       NaN   \n",
       "\n",
       "            market_price_drawdown_relative  entities_min_1k_count  \\\n",
       "t                                                                   \n",
       "2010-01-01                             NaN                   92.0   \n",
       "2010-01-02                             NaN                   96.0   \n",
       "2010-01-03                             NaN                   97.0   \n",
       "2010-01-04                             NaN                   98.0   \n",
       "2010-01-05                             NaN                   98.0   \n",
       "\n",
       "            market_price_realized_usd  market_mvrv_less_155  \\\n",
       "t                                                             \n",
       "2010-01-01                    0.04951                   NaN   \n",
       "2010-01-02                    0.04951                   NaN   \n",
       "2010-01-03                    0.04951                   NaN   \n",
       "2010-01-04                    0.04951                   NaN   \n",
       "2010-01-05                    0.04951                   NaN   \n",
       "\n",
       "            indicators_net_unrealized_profit_loss_account_based  \\\n",
       "t                                                                 \n",
       "2010-01-01                                                NaN     \n",
       "2010-01-02                                                NaN     \n",
       "2010-01-03                                                NaN     \n",
       "2010-01-04                                                NaN     \n",
       "2010-01-05                                                NaN     \n",
       "\n",
       "            transactions_transfers_volume_adjusted_sum  \\\n",
       "t                                                        \n",
       "2010-01-01                                      100.00   \n",
       "2010-01-02                                        0.00   \n",
       "2010-01-03                                        0.00   \n",
       "2010-01-04                                    20804.35   \n",
       "2010-01-05                                        0.00   \n",
       "\n",
       "            indicators_hodled_lost_coins  indicators_sopr  \\\n",
       "t                                                           \n",
       "2010-01-01                  1.616534e+06              NaN   \n",
       "2010-01-02                  1.622842e+06              NaN   \n",
       "2010-01-03                  1.632199e+06              NaN   \n",
       "2010-01-04                  1.639507e+06              NaN   \n",
       "2010-01-05                  1.647175e+06              NaN   \n",
       "\n",
       "            addresses_profit_relative  entities_new_count  \\\n",
       "t                                                           \n",
       "2010-01-01                        NaN                50.0   \n",
       "2010-01-02                        NaN                37.0   \n",
       "2010-01-03                        NaN                61.0   \n",
       "2010-01-04                        NaN                59.0   \n",
       "2010-01-05                        NaN                62.0   \n",
       "\n",
       "            market_mvrv_z_score  indicators_mvrv_account_based  \\\n",
       "t                                                                \n",
       "2010-01-01                  NaN                            NaN   \n",
       "2010-01-02                  NaN                            NaN   \n",
       "2010-01-03                  NaN                            NaN   \n",
       "2010-01-04                  NaN                            NaN   \n",
       "2010-01-05                  NaN                            NaN   \n",
       "\n",
       "            transactions_size_sum  entities_profit_relative  \\\n",
       "t                                                             \n",
       "2010-01-01                  316.0                       NaN   \n",
       "2010-01-02                    NaN                       NaN   \n",
       "2010-01-03                    NaN                       NaN   \n",
       "2010-01-04                 9649.0                       NaN   \n",
       "2010-01-05                    NaN                       NaN   \n",
       "\n",
       "            transactions_transfers_volume_miners_net  \\\n",
       "t                                                      \n",
       "2010-01-01                                    6500.0   \n",
       "2010-01-02                                    6300.0   \n",
       "2010-01-03                                    9300.0   \n",
       "2010-01-04                                    5050.0   \n",
       "2010-01-05                                    9900.0   \n",
       "\n",
       "            indicators_nupl_more_155_account_based  indicators_liveliness  \\\n",
       "t                                                                           \n",
       "2010-01-01                                     NaN               0.008960   \n",
       "2010-01-02                                     NaN               0.008891   \n",
       "2010-01-03                                     NaN               0.008806   \n",
       "2010-01-04                                     NaN               0.009810   \n",
       "2010-01-05                                     NaN               0.011092   \n",
       "\n",
       "            indicators_liveliness_account_based  \\\n",
       "t                                                 \n",
       "2010-01-01                             0.009140   \n",
       "2010-01-02                             0.009069   \n",
       "2010-01-03                             0.008983   \n",
       "2010-01-04                             0.009984   \n",
       "2010-01-05                             0.011264   \n",
       "\n",
       "            transactions_entity_adjusted_count  transactions_count  \\\n",
       "t                                                                    \n",
       "2010-01-01                               134.0                 2.0   \n",
       "2010-01-02                               126.0                 0.0   \n",
       "2010-01-03                               186.0                 0.0   \n",
       "2010-01-04                               183.0                 2.0   \n",
       "2010-01-05                               198.0                 0.0   \n",
       "\n",
       "            addresses_min_10k_count  indicators_reserve_risk  \\\n",
       "t                                                              \n",
       "2010-01-01                      4.0                      NaN   \n",
       "2010-01-02                      4.0                      NaN   \n",
       "2010-01-03                      4.0                      NaN   \n",
       "2010-01-04                      4.0                      NaN   \n",
       "2010-01-05                      4.0                      NaN   \n",
       "\n",
       "            indicators_realized_profit  addresses_count  \\\n",
       "t                                                         \n",
       "2010-01-01                         NaN          32745.0   \n",
       "2010-01-02                         NaN          32871.0   \n",
       "2010-01-03                         NaN          33057.0   \n",
       "2010-01-04                         NaN          33240.0   \n",
       "2010-01-05                         NaN          33438.0   \n",
       "\n",
       "            indicators_nupl_more_155  addresses_active_count  \\\n",
       "t                                                              \n",
       "2010-01-01                       NaN                     4.0   \n",
       "2010-01-02                       NaN                     0.0   \n",
       "2010-01-03                       NaN                     0.0   \n",
       "2010-01-04                       NaN                    85.0   \n",
       "2010-01-05                       NaN                     0.0   \n",
       "\n",
       "            market_marketcap_realized_usd  market_price_usd_close  \\\n",
       "t                                                                   \n",
       "2010-01-01                     80758.2365                     NaN   \n",
       "2010-01-02                     81067.6740                     NaN   \n",
       "2010-01-03                     81528.1170                     NaN   \n",
       "2010-01-04                     81976.1825                     NaN   \n",
       "2010-01-05                     82466.3315                     NaN   \n",
       "\n",
       "            addresses_non_zero_count  indicators_nvt  entities_active_count  \\\n",
       "t                                                                             \n",
       "2010-01-01                   29959.0             NaN                    4.0   \n",
       "2010-01-02                   30085.0             NaN                    0.0   \n",
       "2010-01-03                   30271.0             NaN                    0.0   \n",
       "2010-01-04                   30372.0             NaN                    5.0   \n",
       "2010-01-05                   30570.0             NaN                    0.0   \n",
       "\n",
       "            indicators_net_unrealized_profit_loss  indicators_sopr_less_155  \n",
       "t                                                                            \n",
       "2010-01-01                                    NaN                       NaN  \n",
       "2010-01-02                                    NaN                       NaN  \n",
       "2010-01-03                                    NaN                       NaN  \n",
       "2010-01-04                                    NaN                       NaN  \n",
       "2010-01-05                                    NaN                       NaN  "
      ]
     },
     "execution_count": 24,
     "metadata": {},
     "output_type": "execute_result"
    }
   ],
   "source": [
    "df.head()"
   ]
  },
  {
   "cell_type": "code",
   "execution_count": 25,
   "metadata": {},
   "outputs": [],
   "source": [
    "df = df.resample(rule='D').sum()"
   ]
  },
  {
   "cell_type": "code",
   "execution_count": 27,
   "metadata": {},
   "outputs": [
    {
     "data": {
      "text/plain": [
       "indicators_sopr_less_155                               0.0\n",
       "indicators_sopr                                        0.0\n",
       "transactions_transfers_volume_adjusted_sum             0.0\n",
       "indicators_net_unrealized_profit_loss_account_based    0.0\n",
       "market_mvrv_less_155                                   0.0\n",
       "market_price_realized_usd                              0.0\n",
       "entities_min_1k_count                                  0.0\n",
       "market_price_drawdown_relative                         0.0\n",
       "indicators_sopr_more_155                               0.0\n",
       "entities_net_growth_count                              0.0\n",
       "transactions_transfers_volume_entity_adjusted_sum      0.0\n",
       "indicators_puell_multiple                              0.0\n",
       "addresses_min_1k_count                                 0.0\n",
       "indicators_nvts                                        0.0\n",
       "market_marketcap_usd                                   0.0\n",
       "entities_receiving_count                               0.0\n",
       "addresses_accumulation_count                           0.0\n",
       "market_mvrv                                            0.0\n",
       "transactions_rate                                      0.0\n",
       "indicators_sopr_adjusted                               0.0\n",
       "indicators_sopr_account_based                          0.0\n",
       "addresses_new_non_zero_count                           0.0\n",
       "addresses_accumulation_balance                         0.0\n",
       "indicators_hodled_lost_coins                           0.0\n",
       "addresses_profit_relative                              0.0\n",
       "indicators_net_unrealized_profit_loss                  0.0\n",
       "entities_new_count                                     0.0\n",
       "entities_active_count                                  0.0\n",
       "indicators_nvt                                         0.0\n",
       "addresses_non_zero_count                               0.0\n",
       "market_price_usd_close                                 0.0\n",
       "market_marketcap_realized_usd                          0.0\n",
       "addresses_active_count                                 0.0\n",
       "indicators_nupl_more_155                               0.0\n",
       "addresses_count                                        0.0\n",
       "indicators_realized_profit                             0.0\n",
       "indicators_reserve_risk                                0.0\n",
       "addresses_min_10k_count                                0.0\n",
       "transactions_count                                     0.0\n",
       "transactions_entity_adjusted_count                     0.0\n",
       "indicators_liveliness_account_based                    0.0\n",
       "indicators_liveliness                                  0.0\n",
       "indicators_nupl_more_155_account_based                 0.0\n",
       "transactions_transfers_volume_miners_net               0.0\n",
       "entities_profit_relative                               0.0\n",
       "transactions_size_sum                                  0.0\n",
       "indicators_mvrv_account_based                          0.0\n",
       "market_mvrv_z_score                                    0.0\n",
       "market_mvrv_more_155                                   0.0\n",
       "dtype: float64"
      ]
     },
     "execution_count": 27,
     "metadata": {},
     "output_type": "execute_result"
    }
   ],
   "source": [
    "((df.isnull().sum())/len(df)*100).sort_values(ascending = False)"
   ]
  },
  {
   "cell_type": "code",
   "execution_count": 28,
   "metadata": {},
   "outputs": [],
   "source": [
    "# df[df['indicators_sopr_more_155'].isnull() == False]"
   ]
  },
  {
   "cell_type": "code",
   "execution_count": 28,
   "metadata": {},
   "outputs": [
    {
     "data": {
      "text/plain": [
       "(3035, 49)"
      ]
     },
     "execution_count": 28,
     "metadata": {},
     "output_type": "execute_result"
    }
   ],
   "source": [
    "df.dropna(inplace = True)\n",
    "df.shape"
   ]
  },
  {
   "cell_type": "code",
   "execution_count": 48,
   "metadata": {},
   "outputs": [
    {
     "data": {
      "text/plain": [
       "['market_mvrv_more_155',\n",
       " 'market_mvrv',\n",
       " 'market_marketcap_usd',\n",
       " 'market_price_drawdown_relative',\n",
       " 'market_price_realized_usd',\n",
       " 'market_mvrv_less_155',\n",
       " 'market_mvrv_z_score',\n",
       " 'market_marketcap_realized_usd',\n",
       " 'market_price_usd_close']"
      ]
     },
     "execution_count": 48,
     "metadata": {},
     "output_type": "execute_result"
    }
   ],
   "source": [
    "market_cols = [col for col in df.columns if 'market' in col]\n",
    "market_cols"
   ]
  },
  {
   "cell_type": "code",
   "execution_count": 58,
   "metadata": {},
   "outputs": [
    {
     "data": {
      "text/plain": [
       "['indicators_sopr_account_based',\n",
       " 'indicators_sopr_adjusted',\n",
       " 'indicators_nvts',\n",
       " 'indicators_puell_multiple',\n",
       " 'indicators_sopr_more_155',\n",
       " 'indicators_net_unrealized_profit_loss_account_based',\n",
       " 'indicators_hodled_lost_coins',\n",
       " 'indicators_sopr',\n",
       " 'indicators_mvrv_account_based',\n",
       " 'indicators_nupl_more_155_account_based',\n",
       " 'indicators_liveliness',\n",
       " 'indicators_liveliness_account_based',\n",
       " 'indicators_reserve_risk',\n",
       " 'indicators_realized_profit',\n",
       " 'indicators_nupl_more_155',\n",
       " 'indicators_nvt',\n",
       " 'indicators_net_unrealized_profit_loss',\n",
       " 'indicators_sopr_less_155']"
      ]
     },
     "execution_count": 58,
     "metadata": {},
     "output_type": "execute_result"
    }
   ],
   "source": [
    "indicator_cols = [col for col in df.columns if 'indicators' in col]\n",
    "indicator_cols"
   ]
  },
  {
   "cell_type": "code",
   "execution_count": 78,
   "metadata": {},
   "outputs": [],
   "source": [
    "X = df.drop(columns = market_cols + indicator_cols)\n",
    "y = df['market_price_realized_usd']"
   ]
  },
  {
   "cell_type": "code",
   "execution_count": 79,
   "metadata": {},
   "outputs": [
    {
     "data": {
      "text/plain": [
       "Index(['addresses_accumulation_balance', 'addresses_new_non_zero_count',\n",
       "       'transactions_rate', 'addresses_accumulation_count',\n",
       "       'entities_receiving_count', 'addresses_min_1k_count',\n",
       "       'transactions_transfers_volume_entity_adjusted_sum',\n",
       "       'entities_net_growth_count', 'entities_min_1k_count',\n",
       "       'transactions_transfers_volume_adjusted_sum',\n",
       "       'addresses_profit_relative', 'entities_new_count',\n",
       "       'transactions_size_sum', 'entities_profit_relative',\n",
       "       'transactions_transfers_volume_miners_net',\n",
       "       'transactions_entity_adjusted_count', 'transactions_count',\n",
       "       'addresses_min_10k_count', 'addresses_count', 'addresses_active_count',\n",
       "       'addresses_non_zero_count', 'entities_active_count'],\n",
       "      dtype='object')"
      ]
     },
     "execution_count": 79,
     "metadata": {},
     "output_type": "execute_result"
    }
   ],
   "source": [
    "X.columns"
   ]
  },
  {
   "cell_type": "code",
   "execution_count": 80,
   "metadata": {},
   "outputs": [
    {
     "data": {
      "text/plain": [
       "(3035, 22)"
      ]
     },
     "execution_count": 80,
     "metadata": {},
     "output_type": "execute_result"
    }
   ],
   "source": [
    "X.shape"
   ]
  },
  {
   "cell_type": "code",
   "execution_count": 81,
   "metadata": {},
   "outputs": [
    {
     "data": {
      "text/plain": [
       "(3035,)"
      ]
     },
     "execution_count": 81,
     "metadata": {},
     "output_type": "execute_result"
    }
   ],
   "source": [
    "y.shape"
   ]
  },
  {
   "cell_type": "code",
   "execution_count": 82,
   "metadata": {},
   "outputs": [],
   "source": [
    "X_train, X_test, y_train, y_test = train_test_split(X, y)"
   ]
  },
  {
   "cell_type": "code",
   "execution_count": 83,
   "metadata": {},
   "outputs": [],
   "source": [
    "scaler = StandardScaler()"
   ]
  },
  {
   "cell_type": "code",
   "execution_count": 84,
   "metadata": {},
   "outputs": [],
   "source": [
    "lr = LinearRegression()"
   ]
  },
  {
   "cell_type": "code",
   "execution_count": 85,
   "metadata": {},
   "outputs": [
    {
     "data": {
      "text/html": [
       "<style>div.sk-top-container {color: black;background-color: white;}div.sk-toggleable {background-color: white;}label.sk-toggleable__label {cursor: pointer;display: block;width: 100%;margin-bottom: 0;padding: 0.2em 0.3em;box-sizing: border-box;text-align: center;}div.sk-toggleable__content {max-height: 0;max-width: 0;overflow: hidden;text-align: left;background-color: #f0f8ff;}div.sk-toggleable__content pre {margin: 0.2em;color: black;border-radius: 0.25em;background-color: #f0f8ff;}input.sk-toggleable__control:checked~div.sk-toggleable__content {max-height: 200px;max-width: 100%;overflow: auto;}div.sk-estimator input.sk-toggleable__control:checked~label.sk-toggleable__label {background-color: #d4ebff;}div.sk-label input.sk-toggleable__control:checked~label.sk-toggleable__label {background-color: #d4ebff;}input.sk-hidden--visually {border: 0;clip: rect(1px 1px 1px 1px);clip: rect(1px, 1px, 1px, 1px);height: 1px;margin: -1px;overflow: hidden;padding: 0;position: absolute;width: 1px;}div.sk-estimator {font-family: monospace;background-color: #f0f8ff;margin: 0.25em 0.25em;border: 1px dotted black;border-radius: 0.25em;box-sizing: border-box;}div.sk-estimator:hover {background-color: #d4ebff;}div.sk-parallel-item::after {content: \"\";width: 100%;border-bottom: 1px solid gray;flex-grow: 1;}div.sk-label:hover label.sk-toggleable__label {background-color: #d4ebff;}div.sk-serial::before {content: \"\";position: absolute;border-left: 1px solid gray;box-sizing: border-box;top: 2em;bottom: 0;left: 50%;}div.sk-serial {display: flex;flex-direction: column;align-items: center;background-color: white;}div.sk-item {z-index: 1;}div.sk-parallel {display: flex;align-items: stretch;justify-content: center;background-color: white;}div.sk-parallel-item {display: flex;flex-direction: column;position: relative;background-color: white;}div.sk-parallel-item:first-child::after {align-self: flex-end;width: 50%;}div.sk-parallel-item:last-child::after {align-self: flex-start;width: 50%;}div.sk-parallel-item:only-child::after {width: 0;}div.sk-dashed-wrapped {border: 1px dashed gray;margin: 0.2em;box-sizing: border-box;padding-bottom: 0.1em;background-color: white;position: relative;}div.sk-label label {font-family: monospace;font-weight: bold;background-color: white;display: inline-block;line-height: 1.2em;}div.sk-label-container {position: relative;z-index: 2;text-align: center;}div.sk-container {display: inline-block;position: relative;}</style><div class=\"sk-top-container\"><div class=\"sk-container\"><div class=\"sk-item\"><div class=\"sk-estimator sk-toggleable\"><input class=\"sk-toggleable__control sk-hidden--visually\" id=\"8a5b95ab-7167-467f-993c-9bc889dceb5c\" type=\"checkbox\" checked><label class=\"sk-toggleable__label\" for=\"8a5b95ab-7167-467f-993c-9bc889dceb5c\">LinearRegression</label><div class=\"sk-toggleable__content\"><pre>LinearRegression()</pre></div></div></div></div></div>"
      ],
      "text/plain": [
       "LinearRegression()"
      ]
     },
     "execution_count": 85,
     "metadata": {},
     "output_type": "execute_result"
    }
   ],
   "source": [
    "lr.fit(X_train, y_train)"
   ]
  },
  {
   "cell_type": "code",
   "execution_count": 86,
   "metadata": {},
   "outputs": [
    {
     "data": {
      "text/plain": [
       "0.986703411537047"
      ]
     },
     "execution_count": 86,
     "metadata": {},
     "output_type": "execute_result"
    }
   ],
   "source": [
    "lr.score(X_train, y_train)"
   ]
  },
  {
   "cell_type": "code",
   "execution_count": 87,
   "metadata": {},
   "outputs": [
    {
     "data": {
      "text/plain": [
       "0.9860311443816832"
      ]
     },
     "execution_count": 87,
     "metadata": {},
     "output_type": "execute_result"
    }
   ],
   "source": [
    "lr.score(X_test, y_test)"
   ]
  },
  {
   "cell_type": "code",
   "execution_count": 1,
   "metadata": {},
   "outputs": [
    {
     "ename": "NameError",
     "evalue": "name 'lr' is not defined",
     "output_type": "error",
     "traceback": [
      "\u001b[0;31m---------------------------------------------------------------------------\u001b[0m",
      "\u001b[0;31mNameError\u001b[0m                                 Traceback (most recent call last)",
      "\u001b[0;32m<ipython-input-1-4fecb702b9d5>\u001b[0m in \u001b[0;36m<module>\u001b[0;34m\u001b[0m\n\u001b[0;32m----> 1\u001b[0;31m \u001b[0mlr\u001b[0m\u001b[0;34m.\u001b[0m\u001b[0mcoef_\u001b[0m\u001b[0;34m\u001b[0m\u001b[0;34m\u001b[0m\u001b[0m\n\u001b[0m",
      "\u001b[0;31mNameError\u001b[0m: name 'lr' is not defined"
     ]
    }
   ],
   "source": [
    "lr.coef_"
   ]
  },
  {
   "cell_type": "code",
   "execution_count": 32,
   "metadata": {},
   "outputs": [
    {
     "data": {
      "text/html": [
       "<div>\n",
       "<style scoped>\n",
       "    .dataframe tbody tr th:only-of-type {\n",
       "        vertical-align: middle;\n",
       "    }\n",
       "\n",
       "    .dataframe tbody tr th {\n",
       "        vertical-align: top;\n",
       "    }\n",
       "\n",
       "    .dataframe thead th {\n",
       "        text-align: right;\n",
       "    }\n",
       "</style>\n",
       "<table border=\"1\" class=\"dataframe\">\n",
       "  <thead>\n",
       "    <tr style=\"text-align: right;\">\n",
       "      <th></th>\n",
       "      <th>market_mvrv_more_155</th>\n",
       "      <th>addresses_accumulation_balance</th>\n",
       "      <th>addresses_new_non_zero_count</th>\n",
       "      <th>indicators_sopr_account_based</th>\n",
       "      <th>indicators_sopr_adjusted</th>\n",
       "      <th>transactions_rate</th>\n",
       "      <th>market_mvrv</th>\n",
       "      <th>addresses_accumulation_count</th>\n",
       "      <th>entities_receiving_count</th>\n",
       "      <th>market_marketcap_usd</th>\n",
       "      <th>indicators_nvts</th>\n",
       "      <th>addresses_min_1k_count</th>\n",
       "      <th>indicators_puell_multiple</th>\n",
       "      <th>transactions_transfers_volume_entity_adjusted_sum</th>\n",
       "      <th>entities_net_growth_count</th>\n",
       "      <th>indicators_sopr_more_155</th>\n",
       "      <th>market_price_drawdown_relative</th>\n",
       "      <th>entities_min_1k_count</th>\n",
       "      <th>market_price_realized_usd</th>\n",
       "      <th>market_mvrv_less_155</th>\n",
       "      <th>indicators_net_unrealized_profit_loss_account_based</th>\n",
       "      <th>transactions_transfers_volume_adjusted_sum</th>\n",
       "      <th>indicators_hodled_lost_coins</th>\n",
       "      <th>indicators_sopr</th>\n",
       "      <th>addresses_profit_relative</th>\n",
       "      <th>entities_new_count</th>\n",
       "      <th>market_mvrv_z_score</th>\n",
       "      <th>indicators_mvrv_account_based</th>\n",
       "      <th>transactions_size_sum</th>\n",
       "      <th>entities_profit_relative</th>\n",
       "      <th>transactions_transfers_volume_miners_net</th>\n",
       "      <th>indicators_nupl_more_155_account_based</th>\n",
       "      <th>indicators_liveliness</th>\n",
       "      <th>indicators_liveliness_account_based</th>\n",
       "      <th>transactions_entity_adjusted_count</th>\n",
       "      <th>transactions_count</th>\n",
       "      <th>addresses_min_10k_count</th>\n",
       "      <th>indicators_reserve_risk</th>\n",
       "      <th>indicators_realized_profit</th>\n",
       "      <th>addresses_count</th>\n",
       "      <th>indicators_nupl_more_155</th>\n",
       "      <th>addresses_active_count</th>\n",
       "      <th>market_marketcap_realized_usd</th>\n",
       "      <th>market_price_usd_close</th>\n",
       "      <th>addresses_non_zero_count</th>\n",
       "      <th>indicators_nvt</th>\n",
       "      <th>entities_active_count</th>\n",
       "      <th>indicators_net_unrealized_profit_loss</th>\n",
       "      <th>indicators_sopr_less_155</th>\n",
       "    </tr>\n",
       "    <tr>\n",
       "      <th>t</th>\n",
       "      <th></th>\n",
       "      <th></th>\n",
       "      <th></th>\n",
       "      <th></th>\n",
       "      <th></th>\n",
       "      <th></th>\n",
       "      <th></th>\n",
       "      <th></th>\n",
       "      <th></th>\n",
       "      <th></th>\n",
       "      <th></th>\n",
       "      <th></th>\n",
       "      <th></th>\n",
       "      <th></th>\n",
       "      <th></th>\n",
       "      <th></th>\n",
       "      <th></th>\n",
       "      <th></th>\n",
       "      <th></th>\n",
       "      <th></th>\n",
       "      <th></th>\n",
       "      <th></th>\n",
       "      <th></th>\n",
       "      <th></th>\n",
       "      <th></th>\n",
       "      <th></th>\n",
       "      <th></th>\n",
       "      <th></th>\n",
       "      <th></th>\n",
       "      <th></th>\n",
       "      <th></th>\n",
       "      <th></th>\n",
       "      <th></th>\n",
       "      <th></th>\n",
       "      <th></th>\n",
       "      <th></th>\n",
       "      <th></th>\n",
       "      <th></th>\n",
       "      <th></th>\n",
       "      <th></th>\n",
       "      <th></th>\n",
       "      <th></th>\n",
       "      <th></th>\n",
       "      <th></th>\n",
       "      <th></th>\n",
       "      <th></th>\n",
       "      <th></th>\n",
       "      <th></th>\n",
       "      <th></th>\n",
       "    </tr>\n",
       "  </thead>\n",
       "  <tbody>\n",
       "    <tr>\n",
       "      <th>2010-01-01</th>\n",
       "      <td>0.0</td>\n",
       "      <td>70018.15</td>\n",
       "      <td>134.0</td>\n",
       "      <td>0.0</td>\n",
       "      <td>0.000000</td>\n",
       "      <td>0.000023</td>\n",
       "      <td>0.000000</td>\n",
       "      <td>8.0</td>\n",
       "      <td>2.0</td>\n",
       "      <td>0.000000e+00</td>\n",
       "      <td>0.000000</td>\n",
       "      <td>9.0</td>\n",
       "      <td>0.000000</td>\n",
       "      <td>6700.00</td>\n",
       "      <td>48.0</td>\n",
       "      <td>0.0</td>\n",
       "      <td>0.000000</td>\n",
       "      <td>92.0</td>\n",
       "      <td>0.049510</td>\n",
       "      <td>0.0</td>\n",
       "      <td>0.0</td>\n",
       "      <td>100.000000</td>\n",
       "      <td>1.616534e+06</td>\n",
       "      <td>0.000000</td>\n",
       "      <td>0.0</td>\n",
       "      <td>50.0</td>\n",
       "      <td>0.000000</td>\n",
       "      <td>0.0</td>\n",
       "      <td>316.0</td>\n",
       "      <td>0.0</td>\n",
       "      <td>6500.0</td>\n",
       "      <td>0.0</td>\n",
       "      <td>0.008960</td>\n",
       "      <td>0.009140</td>\n",
       "      <td>134.0</td>\n",
       "      <td>2.0</td>\n",
       "      <td>4.0</td>\n",
       "      <td>0.000000</td>\n",
       "      <td>0.000000e+00</td>\n",
       "      <td>32745.0</td>\n",
       "      <td>0.000000</td>\n",
       "      <td>4.0</td>\n",
       "      <td>8.075824e+04</td>\n",
       "      <td>0.000000</td>\n",
       "      <td>29959.0</td>\n",
       "      <td>0.000000</td>\n",
       "      <td>4.0</td>\n",
       "      <td>0.000000</td>\n",
       "      <td>0.0</td>\n",
       "    </tr>\n",
       "    <tr>\n",
       "      <th>2010-01-02</th>\n",
       "      <td>0.0</td>\n",
       "      <td>70018.15</td>\n",
       "      <td>126.0</td>\n",
       "      <td>0.0</td>\n",
       "      <td>0.000000</td>\n",
       "      <td>0.000000</td>\n",
       "      <td>0.000000</td>\n",
       "      <td>8.0</td>\n",
       "      <td>0.0</td>\n",
       "      <td>0.000000e+00</td>\n",
       "      <td>0.000000</td>\n",
       "      <td>9.0</td>\n",
       "      <td>0.000000</td>\n",
       "      <td>6300.00</td>\n",
       "      <td>37.0</td>\n",
       "      <td>0.0</td>\n",
       "      <td>0.000000</td>\n",
       "      <td>96.0</td>\n",
       "      <td>0.049510</td>\n",
       "      <td>0.0</td>\n",
       "      <td>0.0</td>\n",
       "      <td>0.000000</td>\n",
       "      <td>1.622842e+06</td>\n",
       "      <td>0.000000</td>\n",
       "      <td>0.0</td>\n",
       "      <td>37.0</td>\n",
       "      <td>0.000000</td>\n",
       "      <td>0.0</td>\n",
       "      <td>0.0</td>\n",
       "      <td>0.0</td>\n",
       "      <td>6300.0</td>\n",
       "      <td>0.0</td>\n",
       "      <td>0.008891</td>\n",
       "      <td>0.009069</td>\n",
       "      <td>126.0</td>\n",
       "      <td>0.0</td>\n",
       "      <td>4.0</td>\n",
       "      <td>0.000000</td>\n",
       "      <td>0.000000e+00</td>\n",
       "      <td>32871.0</td>\n",
       "      <td>0.000000</td>\n",
       "      <td>0.0</td>\n",
       "      <td>8.106767e+04</td>\n",
       "      <td>0.000000</td>\n",
       "      <td>30085.0</td>\n",
       "      <td>0.000000</td>\n",
       "      <td>0.0</td>\n",
       "      <td>0.000000</td>\n",
       "      <td>0.0</td>\n",
       "    </tr>\n",
       "    <tr>\n",
       "      <th>2010-01-03</th>\n",
       "      <td>0.0</td>\n",
       "      <td>70018.15</td>\n",
       "      <td>186.0</td>\n",
       "      <td>0.0</td>\n",
       "      <td>0.000000</td>\n",
       "      <td>0.000000</td>\n",
       "      <td>0.000000</td>\n",
       "      <td>8.0</td>\n",
       "      <td>0.0</td>\n",
       "      <td>0.000000e+00</td>\n",
       "      <td>0.000000</td>\n",
       "      <td>9.0</td>\n",
       "      <td>0.000000</td>\n",
       "      <td>9300.00</td>\n",
       "      <td>61.0</td>\n",
       "      <td>0.0</td>\n",
       "      <td>0.000000</td>\n",
       "      <td>97.0</td>\n",
       "      <td>0.049510</td>\n",
       "      <td>0.0</td>\n",
       "      <td>0.0</td>\n",
       "      <td>0.000000</td>\n",
       "      <td>1.632199e+06</td>\n",
       "      <td>0.000000</td>\n",
       "      <td>0.0</td>\n",
       "      <td>61.0</td>\n",
       "      <td>0.000000</td>\n",
       "      <td>0.0</td>\n",
       "      <td>0.0</td>\n",
       "      <td>0.0</td>\n",
       "      <td>9300.0</td>\n",
       "      <td>0.0</td>\n",
       "      <td>0.008806</td>\n",
       "      <td>0.008983</td>\n",
       "      <td>186.0</td>\n",
       "      <td>0.0</td>\n",
       "      <td>4.0</td>\n",
       "      <td>0.000000</td>\n",
       "      <td>0.000000e+00</td>\n",
       "      <td>33057.0</td>\n",
       "      <td>0.000000</td>\n",
       "      <td>0.0</td>\n",
       "      <td>8.152812e+04</td>\n",
       "      <td>0.000000</td>\n",
       "      <td>30271.0</td>\n",
       "      <td>0.000000</td>\n",
       "      <td>0.0</td>\n",
       "      <td>0.000000</td>\n",
       "      <td>0.0</td>\n",
       "    </tr>\n",
       "    <tr>\n",
       "      <th>2010-01-04</th>\n",
       "      <td>0.0</td>\n",
       "      <td>90722.50</td>\n",
       "      <td>183.0</td>\n",
       "      <td>0.0</td>\n",
       "      <td>0.000000</td>\n",
       "      <td>0.000023</td>\n",
       "      <td>0.000000</td>\n",
       "      <td>9.0</td>\n",
       "      <td>3.0</td>\n",
       "      <td>0.000000e+00</td>\n",
       "      <td>0.000000</td>\n",
       "      <td>9.0</td>\n",
       "      <td>0.000000</td>\n",
       "      <td>29854.35</td>\n",
       "      <td>57.0</td>\n",
       "      <td>0.0</td>\n",
       "      <td>0.000000</td>\n",
       "      <td>98.0</td>\n",
       "      <td>0.049510</td>\n",
       "      <td>0.0</td>\n",
       "      <td>0.0</td>\n",
       "      <td>20804.350000</td>\n",
       "      <td>1.639507e+06</td>\n",
       "      <td>0.000000</td>\n",
       "      <td>0.0</td>\n",
       "      <td>59.0</td>\n",
       "      <td>0.000000</td>\n",
       "      <td>0.0</td>\n",
       "      <td>9649.0</td>\n",
       "      <td>0.0</td>\n",
       "      <td>5050.0</td>\n",
       "      <td>0.0</td>\n",
       "      <td>0.009810</td>\n",
       "      <td>0.009984</td>\n",
       "      <td>183.0</td>\n",
       "      <td>2.0</td>\n",
       "      <td>4.0</td>\n",
       "      <td>0.000000</td>\n",
       "      <td>0.000000e+00</td>\n",
       "      <td>33240.0</td>\n",
       "      <td>0.000000</td>\n",
       "      <td>85.0</td>\n",
       "      <td>8.197618e+04</td>\n",
       "      <td>0.000000</td>\n",
       "      <td>30372.0</td>\n",
       "      <td>0.000000</td>\n",
       "      <td>5.0</td>\n",
       "      <td>0.000000</td>\n",
       "      <td>0.0</td>\n",
       "    </tr>\n",
       "    <tr>\n",
       "      <th>2010-01-05</th>\n",
       "      <td>0.0</td>\n",
       "      <td>90722.50</td>\n",
       "      <td>198.0</td>\n",
       "      <td>0.0</td>\n",
       "      <td>0.000000</td>\n",
       "      <td>0.000000</td>\n",
       "      <td>0.000000</td>\n",
       "      <td>9.0</td>\n",
       "      <td>0.0</td>\n",
       "      <td>0.000000e+00</td>\n",
       "      <td>0.000000</td>\n",
       "      <td>9.0</td>\n",
       "      <td>0.000000</td>\n",
       "      <td>9900.00</td>\n",
       "      <td>62.0</td>\n",
       "      <td>0.0</td>\n",
       "      <td>0.000000</td>\n",
       "      <td>98.0</td>\n",
       "      <td>0.049510</td>\n",
       "      <td>0.0</td>\n",
       "      <td>0.0</td>\n",
       "      <td>0.000000</td>\n",
       "      <td>1.647175e+06</td>\n",
       "      <td>0.000000</td>\n",
       "      <td>0.0</td>\n",
       "      <td>62.0</td>\n",
       "      <td>0.000000</td>\n",
       "      <td>0.0</td>\n",
       "      <td>0.0</td>\n",
       "      <td>0.0</td>\n",
       "      <td>9900.0</td>\n",
       "      <td>0.0</td>\n",
       "      <td>0.011092</td>\n",
       "      <td>0.011264</td>\n",
       "      <td>198.0</td>\n",
       "      <td>0.0</td>\n",
       "      <td>4.0</td>\n",
       "      <td>0.000000</td>\n",
       "      <td>0.000000e+00</td>\n",
       "      <td>33438.0</td>\n",
       "      <td>0.000000</td>\n",
       "      <td>0.0</td>\n",
       "      <td>8.246633e+04</td>\n",
       "      <td>0.000000</td>\n",
       "      <td>30570.0</td>\n",
       "      <td>0.000000</td>\n",
       "      <td>0.0</td>\n",
       "      <td>0.000000</td>\n",
       "      <td>0.0</td>\n",
       "    </tr>\n",
       "    <tr>\n",
       "      <th>...</th>\n",
       "      <td>...</td>\n",
       "      <td>...</td>\n",
       "      <td>...</td>\n",
       "      <td>...</td>\n",
       "      <td>...</td>\n",
       "      <td>...</td>\n",
       "      <td>...</td>\n",
       "      <td>...</td>\n",
       "      <td>...</td>\n",
       "      <td>...</td>\n",
       "      <td>...</td>\n",
       "      <td>...</td>\n",
       "      <td>...</td>\n",
       "      <td>...</td>\n",
       "      <td>...</td>\n",
       "      <td>...</td>\n",
       "      <td>...</td>\n",
       "      <td>...</td>\n",
       "      <td>...</td>\n",
       "      <td>...</td>\n",
       "      <td>...</td>\n",
       "      <td>...</td>\n",
       "      <td>...</td>\n",
       "      <td>...</td>\n",
       "      <td>...</td>\n",
       "      <td>...</td>\n",
       "      <td>...</td>\n",
       "      <td>...</td>\n",
       "      <td>...</td>\n",
       "      <td>...</td>\n",
       "      <td>...</td>\n",
       "      <td>...</td>\n",
       "      <td>...</td>\n",
       "      <td>...</td>\n",
       "      <td>...</td>\n",
       "      <td>...</td>\n",
       "      <td>...</td>\n",
       "      <td>...</td>\n",
       "      <td>...</td>\n",
       "      <td>...</td>\n",
       "      <td>...</td>\n",
       "      <td>...</td>\n",
       "      <td>...</td>\n",
       "      <td>...</td>\n",
       "      <td>...</td>\n",
       "      <td>...</td>\n",
       "      <td>...</td>\n",
       "      <td>...</td>\n",
       "      <td>...</td>\n",
       "    </tr>\n",
       "    <tr>\n",
       "      <th>2020-10-31</th>\n",
       "      <td>0.0</td>\n",
       "      <td>0.00</td>\n",
       "      <td>441682.0</td>\n",
       "      <td>0.0</td>\n",
       "      <td>1.034493</td>\n",
       "      <td>3.190775</td>\n",
       "      <td>2.102217</td>\n",
       "      <td>0.0</td>\n",
       "      <td>0.0</td>\n",
       "      <td>2.542128e+11</td>\n",
       "      <td>40.462561</td>\n",
       "      <td>2218.0</td>\n",
       "      <td>0.797535</td>\n",
       "      <td>0.00</td>\n",
       "      <td>0.0</td>\n",
       "      <td>0.0</td>\n",
       "      <td>-0.304509</td>\n",
       "      <td>0.0</td>\n",
       "      <td>6525.668471</td>\n",
       "      <td>0.0</td>\n",
       "      <td>0.0</td>\n",
       "      <td>464942.684793</td>\n",
       "      <td>0.000000e+00</td>\n",
       "      <td>1.008911</td>\n",
       "      <td>0.0</td>\n",
       "      <td>0.0</td>\n",
       "      <td>2.011944</td>\n",
       "      <td>0.0</td>\n",
       "      <td>144560191.0</td>\n",
       "      <td>0.0</td>\n",
       "      <td>0.0</td>\n",
       "      <td>0.0</td>\n",
       "      <td>0.597404</td>\n",
       "      <td>0.000000</td>\n",
       "      <td>0.0</td>\n",
       "      <td>275683.0</td>\n",
       "      <td>107.0</td>\n",
       "      <td>0.002289</td>\n",
       "      <td>2.241091e+08</td>\n",
       "      <td>728855463.0</td>\n",
       "      <td>0.595267</td>\n",
       "      <td>882386.0</td>\n",
       "      <td>1.209261e+11</td>\n",
       "      <td>13779.026946</td>\n",
       "      <td>32704549.0</td>\n",
       "      <td>39.856163</td>\n",
       "      <td>0.0</td>\n",
       "      <td>0.525150</td>\n",
       "      <td>0.0</td>\n",
       "    </tr>\n",
       "    <tr>\n",
       "      <th>2020-11-01</th>\n",
       "      <td>0.0</td>\n",
       "      <td>0.00</td>\n",
       "      <td>425333.0</td>\n",
       "      <td>0.0</td>\n",
       "      <td>1.043032</td>\n",
       "      <td>3.196238</td>\n",
       "      <td>2.102370</td>\n",
       "      <td>0.0</td>\n",
       "      <td>0.0</td>\n",
       "      <td>2.547587e+11</td>\n",
       "      <td>40.719971</td>\n",
       "      <td>2216.0</td>\n",
       "      <td>0.883858</td>\n",
       "      <td>0.00</td>\n",
       "      <td>0.0</td>\n",
       "      <td>0.0</td>\n",
       "      <td>-0.307883</td>\n",
       "      <td>0.0</td>\n",
       "      <td>6538.929512</td>\n",
       "      <td>0.0</td>\n",
       "      <td>0.0</td>\n",
       "      <td>387429.586477</td>\n",
       "      <td>0.000000e+00</td>\n",
       "      <td>1.008232</td>\n",
       "      <td>0.0</td>\n",
       "      <td>0.0</td>\n",
       "      <td>2.014596</td>\n",
       "      <td>0.0</td>\n",
       "      <td>155809162.0</td>\n",
       "      <td>0.0</td>\n",
       "      <td>0.0</td>\n",
       "      <td>0.0</td>\n",
       "      <td>0.597399</td>\n",
       "      <td>0.000000</td>\n",
       "      <td>0.0</td>\n",
       "      <td>276155.0</td>\n",
       "      <td>107.0</td>\n",
       "      <td>0.002290</td>\n",
       "      <td>2.633819e+08</td>\n",
       "      <td>729280796.0</td>\n",
       "      <td>0.592573</td>\n",
       "      <td>891906.0</td>\n",
       "      <td>1.211769e+11</td>\n",
       "      <td>13712.179227</td>\n",
       "      <td>32721339.0</td>\n",
       "      <td>47.832208</td>\n",
       "      <td>0.0</td>\n",
       "      <td>0.521869</td>\n",
       "      <td>0.0</td>\n",
       "    </tr>\n",
       "    <tr>\n",
       "      <th>2020-11-02</th>\n",
       "      <td>0.0</td>\n",
       "      <td>0.00</td>\n",
       "      <td>382139.0</td>\n",
       "      <td>0.0</td>\n",
       "      <td>1.047721</td>\n",
       "      <td>2.598542</td>\n",
       "      <td>2.069608</td>\n",
       "      <td>0.0</td>\n",
       "      <td>0.0</td>\n",
       "      <td>2.515406e+11</td>\n",
       "      <td>40.044418</td>\n",
       "      <td>2227.0</td>\n",
       "      <td>0.664141</td>\n",
       "      <td>0.00</td>\n",
       "      <td>0.0</td>\n",
       "      <td>0.0</td>\n",
       "      <td>-0.315627</td>\n",
       "      <td>0.0</td>\n",
       "      <td>6558.325047</td>\n",
       "      <td>0.0</td>\n",
       "      <td>0.0</td>\n",
       "      <td>629937.426637</td>\n",
       "      <td>0.000000e+00</td>\n",
       "      <td>1.009327</td>\n",
       "      <td>0.0</td>\n",
       "      <td>0.0</td>\n",
       "      <td>1.959276</td>\n",
       "      <td>0.0</td>\n",
       "      <td>125984098.0</td>\n",
       "      <td>0.0</td>\n",
       "      <td>0.0</td>\n",
       "      <td>0.0</td>\n",
       "      <td>0.597476</td>\n",
       "      <td>0.000000</td>\n",
       "      <td>0.0</td>\n",
       "      <td>224514.0</td>\n",
       "      <td>107.0</td>\n",
       "      <td>0.002258</td>\n",
       "      <td>3.721412e+08</td>\n",
       "      <td>729662935.0</td>\n",
       "      <td>0.588429</td>\n",
       "      <td>778647.0</td>\n",
       "      <td>1.215402e+11</td>\n",
       "      <td>13558.759568</td>\n",
       "      <td>32784298.0</td>\n",
       "      <td>29.419122</td>\n",
       "      <td>0.0</td>\n",
       "      <td>0.515162</td>\n",
       "      <td>0.0</td>\n",
       "    </tr>\n",
       "    <tr>\n",
       "      <th>2020-11-03</th>\n",
       "      <td>0.0</td>\n",
       "      <td>0.00</td>\n",
       "      <td>529072.0</td>\n",
       "      <td>0.0</td>\n",
       "      <td>0.000000</td>\n",
       "      <td>3.837188</td>\n",
       "      <td>2.043858</td>\n",
       "      <td>0.0</td>\n",
       "      <td>0.0</td>\n",
       "      <td>2.519089e+11</td>\n",
       "      <td>0.000000</td>\n",
       "      <td>2223.0</td>\n",
       "      <td>0.000000</td>\n",
       "      <td>0.00</td>\n",
       "      <td>0.0</td>\n",
       "      <td>0.0</td>\n",
       "      <td>-0.297655</td>\n",
       "      <td>0.0</td>\n",
       "      <td>6650.360085</td>\n",
       "      <td>0.0</td>\n",
       "      <td>0.0</td>\n",
       "      <td>992984.159481</td>\n",
       "      <td>0.000000e+00</td>\n",
       "      <td>0.000000</td>\n",
       "      <td>0.0</td>\n",
       "      <td>0.0</td>\n",
       "      <td>1.937187</td>\n",
       "      <td>0.0</td>\n",
       "      <td>179503379.0</td>\n",
       "      <td>0.0</td>\n",
       "      <td>0.0</td>\n",
       "      <td>0.0</td>\n",
       "      <td>0.000000</td>\n",
       "      <td>0.000000</td>\n",
       "      <td>0.0</td>\n",
       "      <td>331533.0</td>\n",
       "      <td>108.0</td>\n",
       "      <td>0.000000</td>\n",
       "      <td>0.000000e+00</td>\n",
       "      <td>730192007.0</td>\n",
       "      <td>0.000000</td>\n",
       "      <td>1033207.0</td>\n",
       "      <td>1.232517e+11</td>\n",
       "      <td>13914.806921</td>\n",
       "      <td>32849437.0</td>\n",
       "      <td>0.000000</td>\n",
       "      <td>0.0</td>\n",
       "      <td>0.000000</td>\n",
       "      <td>0.0</td>\n",
       "    </tr>\n",
       "    <tr>\n",
       "      <th>2020-11-04</th>\n",
       "      <td>0.0</td>\n",
       "      <td>0.00</td>\n",
       "      <td>509272.0</td>\n",
       "      <td>0.0</td>\n",
       "      <td>0.000000</td>\n",
       "      <td>3.709931</td>\n",
       "      <td>2.080705</td>\n",
       "      <td>0.0</td>\n",
       "      <td>0.0</td>\n",
       "      <td>2.572120e+11</td>\n",
       "      <td>0.000000</td>\n",
       "      <td>2216.0</td>\n",
       "      <td>0.000000</td>\n",
       "      <td>0.00</td>\n",
       "      <td>0.0</td>\n",
       "      <td>0.0</td>\n",
       "      <td>-0.286923</td>\n",
       "      <td>0.0</td>\n",
       "      <td>6669.752629</td>\n",
       "      <td>0.0</td>\n",
       "      <td>0.0</td>\n",
       "      <td>600745.196884</td>\n",
       "      <td>0.000000e+00</td>\n",
       "      <td>0.000000</td>\n",
       "      <td>0.0</td>\n",
       "      <td>0.0</td>\n",
       "      <td>2.009219</td>\n",
       "      <td>0.0</td>\n",
       "      <td>213361439.0</td>\n",
       "      <td>0.0</td>\n",
       "      <td>0.0</td>\n",
       "      <td>0.0</td>\n",
       "      <td>0.000000</td>\n",
       "      <td>0.000000</td>\n",
       "      <td>0.0</td>\n",
       "      <td>320538.0</td>\n",
       "      <td>107.0</td>\n",
       "      <td>0.000000</td>\n",
       "      <td>0.000000e+00</td>\n",
       "      <td>730701279.0</td>\n",
       "      <td>0.000000</td>\n",
       "      <td>1169309.0</td>\n",
       "      <td>1.236177e+11</td>\n",
       "      <td>14127.434501</td>\n",
       "      <td>32725036.0</td>\n",
       "      <td>0.000000</td>\n",
       "      <td>0.0</td>\n",
       "      <td>0.000000</td>\n",
       "      <td>0.0</td>\n",
       "    </tr>\n",
       "  </tbody>\n",
       "</table>\n",
       "<p>3961 rows × 49 columns</p>\n",
       "</div>"
      ],
      "text/plain": [
       "            market_mvrv_more_155  addresses_accumulation_balance  \\\n",
       "t                                                                  \n",
       "2010-01-01                   0.0                        70018.15   \n",
       "2010-01-02                   0.0                        70018.15   \n",
       "2010-01-03                   0.0                        70018.15   \n",
       "2010-01-04                   0.0                        90722.50   \n",
       "2010-01-05                   0.0                        90722.50   \n",
       "...                          ...                             ...   \n",
       "2020-10-31                   0.0                            0.00   \n",
       "2020-11-01                   0.0                            0.00   \n",
       "2020-11-02                   0.0                            0.00   \n",
       "2020-11-03                   0.0                            0.00   \n",
       "2020-11-04                   0.0                            0.00   \n",
       "\n",
       "            addresses_new_non_zero_count  indicators_sopr_account_based  \\\n",
       "t                                                                         \n",
       "2010-01-01                         134.0                            0.0   \n",
       "2010-01-02                         126.0                            0.0   \n",
       "2010-01-03                         186.0                            0.0   \n",
       "2010-01-04                         183.0                            0.0   \n",
       "2010-01-05                         198.0                            0.0   \n",
       "...                                  ...                            ...   \n",
       "2020-10-31                      441682.0                            0.0   \n",
       "2020-11-01                      425333.0                            0.0   \n",
       "2020-11-02                      382139.0                            0.0   \n",
       "2020-11-03                      529072.0                            0.0   \n",
       "2020-11-04                      509272.0                            0.0   \n",
       "\n",
       "            indicators_sopr_adjusted  transactions_rate  market_mvrv  \\\n",
       "t                                                                      \n",
       "2010-01-01                  0.000000           0.000023     0.000000   \n",
       "2010-01-02                  0.000000           0.000000     0.000000   \n",
       "2010-01-03                  0.000000           0.000000     0.000000   \n",
       "2010-01-04                  0.000000           0.000023     0.000000   \n",
       "2010-01-05                  0.000000           0.000000     0.000000   \n",
       "...                              ...                ...          ...   \n",
       "2020-10-31                  1.034493           3.190775     2.102217   \n",
       "2020-11-01                  1.043032           3.196238     2.102370   \n",
       "2020-11-02                  1.047721           2.598542     2.069608   \n",
       "2020-11-03                  0.000000           3.837188     2.043858   \n",
       "2020-11-04                  0.000000           3.709931     2.080705   \n",
       "\n",
       "            addresses_accumulation_count  entities_receiving_count  \\\n",
       "t                                                                    \n",
       "2010-01-01                           8.0                       2.0   \n",
       "2010-01-02                           8.0                       0.0   \n",
       "2010-01-03                           8.0                       0.0   \n",
       "2010-01-04                           9.0                       3.0   \n",
       "2010-01-05                           9.0                       0.0   \n",
       "...                                  ...                       ...   \n",
       "2020-10-31                           0.0                       0.0   \n",
       "2020-11-01                           0.0                       0.0   \n",
       "2020-11-02                           0.0                       0.0   \n",
       "2020-11-03                           0.0                       0.0   \n",
       "2020-11-04                           0.0                       0.0   \n",
       "\n",
       "            market_marketcap_usd  indicators_nvts  addresses_min_1k_count  \\\n",
       "t                                                                           \n",
       "2010-01-01          0.000000e+00         0.000000                     9.0   \n",
       "2010-01-02          0.000000e+00         0.000000                     9.0   \n",
       "2010-01-03          0.000000e+00         0.000000                     9.0   \n",
       "2010-01-04          0.000000e+00         0.000000                     9.0   \n",
       "2010-01-05          0.000000e+00         0.000000                     9.0   \n",
       "...                          ...              ...                     ...   \n",
       "2020-10-31          2.542128e+11        40.462561                  2218.0   \n",
       "2020-11-01          2.547587e+11        40.719971                  2216.0   \n",
       "2020-11-02          2.515406e+11        40.044418                  2227.0   \n",
       "2020-11-03          2.519089e+11         0.000000                  2223.0   \n",
       "2020-11-04          2.572120e+11         0.000000                  2216.0   \n",
       "\n",
       "            indicators_puell_multiple  \\\n",
       "t                                       \n",
       "2010-01-01                   0.000000   \n",
       "2010-01-02                   0.000000   \n",
       "2010-01-03                   0.000000   \n",
       "2010-01-04                   0.000000   \n",
       "2010-01-05                   0.000000   \n",
       "...                               ...   \n",
       "2020-10-31                   0.797535   \n",
       "2020-11-01                   0.883858   \n",
       "2020-11-02                   0.664141   \n",
       "2020-11-03                   0.000000   \n",
       "2020-11-04                   0.000000   \n",
       "\n",
       "            transactions_transfers_volume_entity_adjusted_sum  \\\n",
       "t                                                               \n",
       "2010-01-01                                            6700.00   \n",
       "2010-01-02                                            6300.00   \n",
       "2010-01-03                                            9300.00   \n",
       "2010-01-04                                           29854.35   \n",
       "2010-01-05                                            9900.00   \n",
       "...                                                       ...   \n",
       "2020-10-31                                               0.00   \n",
       "2020-11-01                                               0.00   \n",
       "2020-11-02                                               0.00   \n",
       "2020-11-03                                               0.00   \n",
       "2020-11-04                                               0.00   \n",
       "\n",
       "            entities_net_growth_count  indicators_sopr_more_155  \\\n",
       "t                                                                 \n",
       "2010-01-01                       48.0                       0.0   \n",
       "2010-01-02                       37.0                       0.0   \n",
       "2010-01-03                       61.0                       0.0   \n",
       "2010-01-04                       57.0                       0.0   \n",
       "2010-01-05                       62.0                       0.0   \n",
       "...                               ...                       ...   \n",
       "2020-10-31                        0.0                       0.0   \n",
       "2020-11-01                        0.0                       0.0   \n",
       "2020-11-02                        0.0                       0.0   \n",
       "2020-11-03                        0.0                       0.0   \n",
       "2020-11-04                        0.0                       0.0   \n",
       "\n",
       "            market_price_drawdown_relative  entities_min_1k_count  \\\n",
       "t                                                                   \n",
       "2010-01-01                        0.000000                   92.0   \n",
       "2010-01-02                        0.000000                   96.0   \n",
       "2010-01-03                        0.000000                   97.0   \n",
       "2010-01-04                        0.000000                   98.0   \n",
       "2010-01-05                        0.000000                   98.0   \n",
       "...                                    ...                    ...   \n",
       "2020-10-31                       -0.304509                    0.0   \n",
       "2020-11-01                       -0.307883                    0.0   \n",
       "2020-11-02                       -0.315627                    0.0   \n",
       "2020-11-03                       -0.297655                    0.0   \n",
       "2020-11-04                       -0.286923                    0.0   \n",
       "\n",
       "            market_price_realized_usd  market_mvrv_less_155  \\\n",
       "t                                                             \n",
       "2010-01-01                   0.049510                   0.0   \n",
       "2010-01-02                   0.049510                   0.0   \n",
       "2010-01-03                   0.049510                   0.0   \n",
       "2010-01-04                   0.049510                   0.0   \n",
       "2010-01-05                   0.049510                   0.0   \n",
       "...                               ...                   ...   \n",
       "2020-10-31                6525.668471                   0.0   \n",
       "2020-11-01                6538.929512                   0.0   \n",
       "2020-11-02                6558.325047                   0.0   \n",
       "2020-11-03                6650.360085                   0.0   \n",
       "2020-11-04                6669.752629                   0.0   \n",
       "\n",
       "            indicators_net_unrealized_profit_loss_account_based  \\\n",
       "t                                                                 \n",
       "2010-01-01                                                0.0     \n",
       "2010-01-02                                                0.0     \n",
       "2010-01-03                                                0.0     \n",
       "2010-01-04                                                0.0     \n",
       "2010-01-05                                                0.0     \n",
       "...                                                       ...     \n",
       "2020-10-31                                                0.0     \n",
       "2020-11-01                                                0.0     \n",
       "2020-11-02                                                0.0     \n",
       "2020-11-03                                                0.0     \n",
       "2020-11-04                                                0.0     \n",
       "\n",
       "            transactions_transfers_volume_adjusted_sum  \\\n",
       "t                                                        \n",
       "2010-01-01                                  100.000000   \n",
       "2010-01-02                                    0.000000   \n",
       "2010-01-03                                    0.000000   \n",
       "2010-01-04                                20804.350000   \n",
       "2010-01-05                                    0.000000   \n",
       "...                                                ...   \n",
       "2020-10-31                               464942.684793   \n",
       "2020-11-01                               387429.586477   \n",
       "2020-11-02                               629937.426637   \n",
       "2020-11-03                               992984.159481   \n",
       "2020-11-04                               600745.196884   \n",
       "\n",
       "            indicators_hodled_lost_coins  indicators_sopr  \\\n",
       "t                                                           \n",
       "2010-01-01                  1.616534e+06         0.000000   \n",
       "2010-01-02                  1.622842e+06         0.000000   \n",
       "2010-01-03                  1.632199e+06         0.000000   \n",
       "2010-01-04                  1.639507e+06         0.000000   \n",
       "2010-01-05                  1.647175e+06         0.000000   \n",
       "...                                  ...              ...   \n",
       "2020-10-31                  0.000000e+00         1.008911   \n",
       "2020-11-01                  0.000000e+00         1.008232   \n",
       "2020-11-02                  0.000000e+00         1.009327   \n",
       "2020-11-03                  0.000000e+00         0.000000   \n",
       "2020-11-04                  0.000000e+00         0.000000   \n",
       "\n",
       "            addresses_profit_relative  entities_new_count  \\\n",
       "t                                                           \n",
       "2010-01-01                        0.0                50.0   \n",
       "2010-01-02                        0.0                37.0   \n",
       "2010-01-03                        0.0                61.0   \n",
       "2010-01-04                        0.0                59.0   \n",
       "2010-01-05                        0.0                62.0   \n",
       "...                               ...                 ...   \n",
       "2020-10-31                        0.0                 0.0   \n",
       "2020-11-01                        0.0                 0.0   \n",
       "2020-11-02                        0.0                 0.0   \n",
       "2020-11-03                        0.0                 0.0   \n",
       "2020-11-04                        0.0                 0.0   \n",
       "\n",
       "            market_mvrv_z_score  indicators_mvrv_account_based  \\\n",
       "t                                                                \n",
       "2010-01-01             0.000000                            0.0   \n",
       "2010-01-02             0.000000                            0.0   \n",
       "2010-01-03             0.000000                            0.0   \n",
       "2010-01-04             0.000000                            0.0   \n",
       "2010-01-05             0.000000                            0.0   \n",
       "...                         ...                            ...   \n",
       "2020-10-31             2.011944                            0.0   \n",
       "2020-11-01             2.014596                            0.0   \n",
       "2020-11-02             1.959276                            0.0   \n",
       "2020-11-03             1.937187                            0.0   \n",
       "2020-11-04             2.009219                            0.0   \n",
       "\n",
       "            transactions_size_sum  entities_profit_relative  \\\n",
       "t                                                             \n",
       "2010-01-01                  316.0                       0.0   \n",
       "2010-01-02                    0.0                       0.0   \n",
       "2010-01-03                    0.0                       0.0   \n",
       "2010-01-04                 9649.0                       0.0   \n",
       "2010-01-05                    0.0                       0.0   \n",
       "...                           ...                       ...   \n",
       "2020-10-31            144560191.0                       0.0   \n",
       "2020-11-01            155809162.0                       0.0   \n",
       "2020-11-02            125984098.0                       0.0   \n",
       "2020-11-03            179503379.0                       0.0   \n",
       "2020-11-04            213361439.0                       0.0   \n",
       "\n",
       "            transactions_transfers_volume_miners_net  \\\n",
       "t                                                      \n",
       "2010-01-01                                    6500.0   \n",
       "2010-01-02                                    6300.0   \n",
       "2010-01-03                                    9300.0   \n",
       "2010-01-04                                    5050.0   \n",
       "2010-01-05                                    9900.0   \n",
       "...                                              ...   \n",
       "2020-10-31                                       0.0   \n",
       "2020-11-01                                       0.0   \n",
       "2020-11-02                                       0.0   \n",
       "2020-11-03                                       0.0   \n",
       "2020-11-04                                       0.0   \n",
       "\n",
       "            indicators_nupl_more_155_account_based  indicators_liveliness  \\\n",
       "t                                                                           \n",
       "2010-01-01                                     0.0               0.008960   \n",
       "2010-01-02                                     0.0               0.008891   \n",
       "2010-01-03                                     0.0               0.008806   \n",
       "2010-01-04                                     0.0               0.009810   \n",
       "2010-01-05                                     0.0               0.011092   \n",
       "...                                            ...                    ...   \n",
       "2020-10-31                                     0.0               0.597404   \n",
       "2020-11-01                                     0.0               0.597399   \n",
       "2020-11-02                                     0.0               0.597476   \n",
       "2020-11-03                                     0.0               0.000000   \n",
       "2020-11-04                                     0.0               0.000000   \n",
       "\n",
       "            indicators_liveliness_account_based  \\\n",
       "t                                                 \n",
       "2010-01-01                             0.009140   \n",
       "2010-01-02                             0.009069   \n",
       "2010-01-03                             0.008983   \n",
       "2010-01-04                             0.009984   \n",
       "2010-01-05                             0.011264   \n",
       "...                                         ...   \n",
       "2020-10-31                             0.000000   \n",
       "2020-11-01                             0.000000   \n",
       "2020-11-02                             0.000000   \n",
       "2020-11-03                             0.000000   \n",
       "2020-11-04                             0.000000   \n",
       "\n",
       "            transactions_entity_adjusted_count  transactions_count  \\\n",
       "t                                                                    \n",
       "2010-01-01                               134.0                 2.0   \n",
       "2010-01-02                               126.0                 0.0   \n",
       "2010-01-03                               186.0                 0.0   \n",
       "2010-01-04                               183.0                 2.0   \n",
       "2010-01-05                               198.0                 0.0   \n",
       "...                                        ...                 ...   \n",
       "2020-10-31                                 0.0            275683.0   \n",
       "2020-11-01                                 0.0            276155.0   \n",
       "2020-11-02                                 0.0            224514.0   \n",
       "2020-11-03                                 0.0            331533.0   \n",
       "2020-11-04                                 0.0            320538.0   \n",
       "\n",
       "            addresses_min_10k_count  indicators_reserve_risk  \\\n",
       "t                                                              \n",
       "2010-01-01                      4.0                 0.000000   \n",
       "2010-01-02                      4.0                 0.000000   \n",
       "2010-01-03                      4.0                 0.000000   \n",
       "2010-01-04                      4.0                 0.000000   \n",
       "2010-01-05                      4.0                 0.000000   \n",
       "...                             ...                      ...   \n",
       "2020-10-31                    107.0                 0.002289   \n",
       "2020-11-01                    107.0                 0.002290   \n",
       "2020-11-02                    107.0                 0.002258   \n",
       "2020-11-03                    108.0                 0.000000   \n",
       "2020-11-04                    107.0                 0.000000   \n",
       "\n",
       "            indicators_realized_profit  addresses_count  \\\n",
       "t                                                         \n",
       "2010-01-01                0.000000e+00          32745.0   \n",
       "2010-01-02                0.000000e+00          32871.0   \n",
       "2010-01-03                0.000000e+00          33057.0   \n",
       "2010-01-04                0.000000e+00          33240.0   \n",
       "2010-01-05                0.000000e+00          33438.0   \n",
       "...                                ...              ...   \n",
       "2020-10-31                2.241091e+08      728855463.0   \n",
       "2020-11-01                2.633819e+08      729280796.0   \n",
       "2020-11-02                3.721412e+08      729662935.0   \n",
       "2020-11-03                0.000000e+00      730192007.0   \n",
       "2020-11-04                0.000000e+00      730701279.0   \n",
       "\n",
       "            indicators_nupl_more_155  addresses_active_count  \\\n",
       "t                                                              \n",
       "2010-01-01                  0.000000                     4.0   \n",
       "2010-01-02                  0.000000                     0.0   \n",
       "2010-01-03                  0.000000                     0.0   \n",
       "2010-01-04                  0.000000                    85.0   \n",
       "2010-01-05                  0.000000                     0.0   \n",
       "...                              ...                     ...   \n",
       "2020-10-31                  0.595267                882386.0   \n",
       "2020-11-01                  0.592573                891906.0   \n",
       "2020-11-02                  0.588429                778647.0   \n",
       "2020-11-03                  0.000000               1033207.0   \n",
       "2020-11-04                  0.000000               1169309.0   \n",
       "\n",
       "            market_marketcap_realized_usd  market_price_usd_close  \\\n",
       "t                                                                   \n",
       "2010-01-01                   8.075824e+04                0.000000   \n",
       "2010-01-02                   8.106767e+04                0.000000   \n",
       "2010-01-03                   8.152812e+04                0.000000   \n",
       "2010-01-04                   8.197618e+04                0.000000   \n",
       "2010-01-05                   8.246633e+04                0.000000   \n",
       "...                                   ...                     ...   \n",
       "2020-10-31                   1.209261e+11            13779.026946   \n",
       "2020-11-01                   1.211769e+11            13712.179227   \n",
       "2020-11-02                   1.215402e+11            13558.759568   \n",
       "2020-11-03                   1.232517e+11            13914.806921   \n",
       "2020-11-04                   1.236177e+11            14127.434501   \n",
       "\n",
       "            addresses_non_zero_count  indicators_nvt  entities_active_count  \\\n",
       "t                                                                             \n",
       "2010-01-01                   29959.0        0.000000                    4.0   \n",
       "2010-01-02                   30085.0        0.000000                    0.0   \n",
       "2010-01-03                   30271.0        0.000000                    0.0   \n",
       "2010-01-04                   30372.0        0.000000                    5.0   \n",
       "2010-01-05                   30570.0        0.000000                    0.0   \n",
       "...                              ...             ...                    ...   \n",
       "2020-10-31                32704549.0       39.856163                    0.0   \n",
       "2020-11-01                32721339.0       47.832208                    0.0   \n",
       "2020-11-02                32784298.0       29.419122                    0.0   \n",
       "2020-11-03                32849437.0        0.000000                    0.0   \n",
       "2020-11-04                32725036.0        0.000000                    0.0   \n",
       "\n",
       "            indicators_net_unrealized_profit_loss  indicators_sopr_less_155  \n",
       "t                                                                            \n",
       "2010-01-01                               0.000000                       0.0  \n",
       "2010-01-02                               0.000000                       0.0  \n",
       "2010-01-03                               0.000000                       0.0  \n",
       "2010-01-04                               0.000000                       0.0  \n",
       "2010-01-05                               0.000000                       0.0  \n",
       "...                                           ...                       ...  \n",
       "2020-10-31                               0.525150                       0.0  \n",
       "2020-11-01                               0.521869                       0.0  \n",
       "2020-11-02                               0.515162                       0.0  \n",
       "2020-11-03                               0.000000                       0.0  \n",
       "2020-11-04                               0.000000                       0.0  \n",
       "\n",
       "[3961 rows x 49 columns]"
      ]
     },
     "execution_count": 32,
     "metadata": {},
     "output_type": "execute_result"
    }
   ],
   "source": [
    "df"
   ]
  },
  {
   "cell_type": "code",
   "execution_count": 134,
   "metadata": {},
   "outputs": [
    {
     "data": {
      "text/plain": [
       "DatetimeIndex(['2010-01-01', '2010-01-02', '2010-01-03', '2010-01-04',\n",
       "               '2010-01-05', '2010-01-06', '2010-01-07', '2010-01-08',\n",
       "               '2010-01-09', '2010-01-10',\n",
       "               ...\n",
       "               '2010-07-07', '2010-07-08', '2010-07-09', '2010-07-10',\n",
       "               '2010-07-11', '2010-07-12', '2010-07-13', '2010-07-14',\n",
       "               '2010-07-15', '2010-07-16'],\n",
       "              dtype='datetime64[ns]', name='t', length=197, freq='D')"
      ]
     },
     "execution_count": 134,
     "metadata": {},
     "output_type": "execute_result"
    }
   ],
   "source": [
    "df[df['market_price_usd_close'] == 0].index"
   ]
  },
  {
   "cell_type": "code",
   "execution_count": 266,
   "metadata": {},
   "outputs": [
    {
     "data": {
      "text/plain": [
       "t\n",
       "2010-01-01    0.000000\n",
       "2010-01-02    0.000000\n",
       "2010-01-03    0.000000\n",
       "2010-01-04    0.000000\n",
       "2010-01-05    0.000000\n",
       "                ...   \n",
       "2011-12-27    4.107745\n",
       "2011-12-28    4.183901\n",
       "2011-12-29    4.166567\n",
       "2011-12-30    4.247843\n",
       "2011-12-31    4.721629\n",
       "Freq: D, Name: market_price_usd_close, Length: 730, dtype: float64"
      ]
     },
     "execution_count": 266,
     "metadata": {},
     "output_type": "execute_result"
    }
   ],
   "source": [
    "df['market_price_usd_close'].loc[:'2011']"
   ]
  },
  {
   "cell_type": "code",
   "execution_count": null,
   "metadata": {},
   "outputs": [],
   "source": [
    "split_date = '2019-01-01'\n",
    "train = df['market_price_usd_close'].loc[df.index <= split_date]\n",
    "test = df['market_price_usd_close'].loc[df.index > split_date]"
   ]
  },
  {
   "cell_type": "code",
   "execution_count": 262,
   "metadata": {},
   "outputs": [
    {
     "data": {
      "text/plain": [
       "t\n",
       "2012-01-01       5.278399\n",
       "2012-01-02       5.216780\n",
       "2012-01-03       4.883428\n",
       "2012-01-04       5.587490\n",
       "2012-01-05       6.982925\n",
       "                 ...     \n",
       "2018-12-27    3659.309902\n",
       "2018-12-28    3926.329136\n",
       "2018-12-29    3827.777300\n",
       "2018-12-30    3867.272361\n",
       "2018-12-31    3741.296795\n",
       "Freq: D, Name: market_price_usd_close, Length: 2557, dtype: float64"
      ]
     },
     "execution_count": 262,
     "metadata": {},
     "output_type": "execute_result"
    }
   ],
   "source": [
    "train"
   ]
  },
  {
   "cell_type": "code",
   "execution_count": 263,
   "metadata": {},
   "outputs": [
    {
     "data": {
      "text/plain": [
       "t\n",
       "2019-01-01     3840.959249\n",
       "2019-01-02     3943.289843\n",
       "2019-01-03     3836.558048\n",
       "2019-01-04     3858.238280\n",
       "2019-01-05     3841.061170\n",
       "                  ...     \n",
       "2020-10-31    13779.026946\n",
       "2020-11-01    13712.179227\n",
       "2020-11-02    13558.759568\n",
       "2020-11-03    13914.806921\n",
       "2020-11-04    14127.434501\n",
       "Freq: D, Name: market_price_usd_close, Length: 674, dtype: float64"
      ]
     },
     "execution_count": 263,
     "metadata": {},
     "output_type": "execute_result"
    }
   ],
   "source": [
    "test"
   ]
  },
  {
   "cell_type": "code",
   "execution_count": 264,
   "metadata": {},
   "outputs": [
    {
     "data": {
      "text/plain": [
       "0.20860414732281027"
      ]
     },
     "execution_count": 264,
     "metadata": {},
     "output_type": "execute_result"
    }
   ],
   "source": [
    "674/(2557+674)"
   ]
  },
  {
   "cell_type": "code",
   "execution_count": 267,
   "metadata": {},
   "outputs": [
    {
     "data": {
      "text/plain": [
       "3961"
      ]
     },
     "execution_count": 267,
     "metadata": {},
     "output_type": "execute_result"
    }
   ],
   "source": [
    "2557+674+730"
   ]
  },
  {
   "cell_type": "code",
   "execution_count": 268,
   "metadata": {},
   "outputs": [
    {
     "data": {
      "image/png": "[encoded data removed]",
      "text/plain": [
       "<Figure size 1440x720 with 1 Axes>"
      ]
     },
     "metadata": {
      "needs_background": "light"
     },
     "output_type": "display_data"
    }
   ],
   "source": [
    "train.plot(label = 'Train')\n",
    "test.plot(figsize=(20,10),  title= 'Daily Bitcoin Price', label = 'Test')\n",
    "plt.legend(fontsize = 15);"
   ]
  },
  {
   "cell_type": "code",
   "execution_count": 269,
   "metadata": {},
   "outputs": [],
   "source": [
    "# Baseline"
   ]
  },
  {
   "cell_type": "code",
   "execution_count": 270,
   "metadata": {},
   "outputs": [],
   "source": [
    "import sktime\n",
    "from sktime.forecasting.model_selection import temporal_train_test_split\n",
    "from sktime.datasets import load_airline\n",
    "from sktime.forecasting.naive import NaiveForecaster\n",
    "from sktime.forecasting.arima import AutoARIMA\n",
    "from sktime.forecasting.ets import AutoETS\n",
    "from sktime.utils.plotting.forecasting import plot_ys\n",
    "from sklearn.metrics import mean_absolute_error as mae"
   ]
  },
  {
   "cell_type": "code",
   "execution_count": 271,
   "metadata": {},
   "outputs": [],
   "source": [
    "df2 = pd.concat([train, test])"
   ]
  },
  {
   "cell_type": "code",
   "execution_count": 272,
   "metadata": {},
   "outputs": [],
   "source": [
    "df2 = df2.reset_index(drop=True)"
   ]
  },
  {
   "cell_type": "code",
   "execution_count": 273,
   "metadata": {},
   "outputs": [
    {
     "data": {
      "text/plain": [
       "Series([], Name: market_price_usd_close, dtype: float64)"
      ]
     },
     "execution_count": 273,
     "metadata": {},
     "output_type": "execute_result"
    }
   ],
   "source": [
    "df2[df2 == 0]"
   ]
  },
  {
   "cell_type": "code",
   "execution_count": 278,
   "metadata": {},
   "outputs": [],
   "source": [
    "train= df2.iloc[:2557]\n",
    "test = df2.iloc[2557:]"
   ]
  },
  {
   "cell_type": "code",
   "execution_count": 279,
   "metadata": {},
   "outputs": [
    {
     "data": {
      "text/plain": [
       "(0          5.278399\n",
       " 1          5.216780\n",
       " 2          4.883428\n",
       " 3          5.587490\n",
       " 4          6.982925\n",
       "            ...     \n",
       " 2552    3659.309902\n",
       " 2553    3926.329136\n",
       " 2554    3827.777300\n",
       " 2555    3867.272361\n",
       " 2556    3741.296795\n",
       " Name: market_price_usd_close, Length: 2557, dtype: float64,\n",
       " 2557     3840.959249\n",
       " 2558     3943.289843\n",
       " 2559     3836.558048\n",
       " 2560     3858.238280\n",
       " 2561     3841.061170\n",
       "             ...     \n",
       " 3226    13779.026946\n",
       " 3227    13712.179227\n",
       " 3228    13558.759568\n",
       " 3229    13914.806921\n",
       " 3230    14127.434501\n",
       " Name: market_price_usd_close, Length: 674, dtype: float64)"
      ]
     },
     "execution_count": 279,
     "metadata": {},
     "output_type": "execute_result"
    }
   ],
   "source": [
    "train, test"
   ]
  },
  {
   "cell_type": "code",
   "execution_count": 280,
   "metadata": {},
   "outputs": [],
   "source": [
    "naive_model_last = NaiveForecaster(strategy='last')\n",
    "naive_model_last.fit(train)\n",
    "y_last_preds = naive_model_last.predict(list(range(1, len(test)+1)))"
   ]
  },
  {
   "cell_type": "code",
   "execution_count": 281,
   "metadata": {},
   "outputs": [],
   "source": [
    "naive_model_mean = NaiveForecaster(strategy='mean')\n",
    "naive_model_mean.fit(train)\n",
    "y_mean_preds = naive_model_mean.predict(list(range(1, len(test)+1)))"
   ]
  },
  {
   "cell_type": "code",
   "execution_count": 282,
   "metadata": {},
   "outputs": [],
   "source": [
    "naive_model_season = NaiveForecaster(strategy='last', sp=364)\n",
    "naive_model_season.fit(train)\n",
    "y_season_preds = naive_model_season.predict(list(range(1, len(test)+1)))"
   ]
  },
  {
   "cell_type": "code",
   "execution_count": 283,
   "metadata": {},
   "outputs": [
    {
     "data": {
      "image/png": "[encoded data removed]",
      "text/plain": [
       "<Figure size 1152x288 with 1 Axes>"
      ]
     },
     "metadata": {
      "needs_background": "light"
     },
     "output_type": "display_data"
    }
   ],
   "source": [
    "plot_ys(y_last_preds, y_mean_preds, y_season_preds, labels=['last', 'mean', 'seasonal']);"
   ]
  },
  {
   "cell_type": "code",
   "execution_count": 284,
   "metadata": {},
   "outputs": [
    {
     "data": {
      "text/plain": [
       "4647.39773670894"
      ]
     },
     "execution_count": 284,
     "metadata": {},
     "output_type": "execute_result"
    }
   ],
   "source": [
    "mae_naive_last = mae(test, y_last_preds)\n",
    "mae_naive_last"
   ]
  },
  {
   "cell_type": "code",
   "execution_count": 285,
   "metadata": {},
   "outputs": [
    {
     "data": {
      "text/plain": [
       "6499.34134659185"
      ]
     },
     "execution_count": 285,
     "metadata": {},
     "output_type": "execute_result"
    }
   ],
   "source": [
    "mae_naive_mean = mae(test, y_mean_preds)\n",
    "mae_naive_mean"
   ]
  },
  {
   "cell_type": "code",
   "execution_count": 286,
   "metadata": {},
   "outputs": [
    {
     "data": {
      "text/plain": [
       "3464.2422170446016"
      ]
     },
     "execution_count": 286,
     "metadata": {},
     "output_type": "execute_result"
    }
   ],
   "source": [
    "mae_naive_seasonal = mae(test, y_season_preds)\n",
    "mae_naive_seasonal"
   ]
  },
  {
   "cell_type": "code",
   "execution_count": 287,
   "metadata": {},
   "outputs": [],
   "source": [
    "# Holt Winters"
   ]
  },
  {
   "cell_type": "code",
   "execution_count": 288,
   "metadata": {},
   "outputs": [],
   "source": [
    "from statsmodels.tsa.api import SimpleExpSmoothing, Holt, ExponentialSmoothing"
   ]
  },
  {
   "cell_type": "code",
   "execution_count": 324,
   "metadata": {},
   "outputs": [],
   "source": [
    "hw = ExponentialSmoothing(\n",
    "    train,\n",
    "    seasonal_periods=52,\n",
    "    trend='mul',\n",
    "    seasonal='add').fit()"
   ]
  },
  {
   "cell_type": "code",
   "execution_count": 325,
   "metadata": {
    "collapsed": true,
    "jupyter": {
     "outputs_hidden": true
    }
   },
   "outputs": [
    {
     "data": {
      "text/html": [
       "<table class=\"simpletable\">\n",
       "<caption>ExponentialSmoothing Model Results</caption>\n",
       "<tr>\n",
       "  <th>Dep. Variable:</th>    <td>market_price_usd_close</td> <th>  No. Observations:  </th>       <td>2557</td>      \n",
       "</tr>\n",
       "<tr>\n",
       "  <th>Model:</th>             <td>ExponentialSmoothing</td>  <th>  SSE                </th>   <td>104676592.340</td> \n",
       "</tr>\n",
       "<tr>\n",
       "  <th>Optimized:</th>                 <td>True</td>          <th>  AIC                </th>     <td>27266.819</td>   \n",
       "</tr>\n",
       "<tr>\n",
       "  <th>Trend:</th>                <td>Multiplicative</td>     <th>  BIC                </th>     <td>27594.228</td>   \n",
       "</tr>\n",
       "<tr>\n",
       "  <th>Seasonal:</th>                <td>Additive</td>        <th>  AICC               </th>     <td>27269.558</td>   \n",
       "</tr>\n",
       "<tr>\n",
       "  <th>Seasonal Periods:</th>           <td>52</td>           <th>  Date:              </th> <td>Thu, 12 Nov 2020</td>\n",
       "</tr>\n",
       "<tr>\n",
       "  <th>Box-Cox:</th>                   <td>False</td>         <th>  Time:              </th>     <td>10:50:27</td>    \n",
       "</tr>\n",
       "<tr>\n",
       "  <th>Box-Cox Coeff.:</th>            <td>None</td>          <th>                     </th>         <td> </td>       \n",
       "</tr>\n",
       "</table>\n",
       "<table class=\"simpletable\">\n",
       "<tr>\n",
       "           <td></td>                  <th>coeff</th>                <th>code</th>               <th>optimized</th>     \n",
       "</tr>\n",
       "<tr>\n",
       "  <th>smoothing_level</th>    <td>           0.9950000</td> <td>               alpha</td> <td>                True</td>\n",
       "</tr>\n",
       "<tr>\n",
       "  <th>smoothing_trend</th>    <td>              0.0001</td> <td>                beta</td> <td>                True</td>\n",
       "</tr>\n",
       "<tr>\n",
       "  <th>smoothing_seasonal</th> <td>              0.0001</td> <td>               gamma</td> <td>                True</td>\n",
       "</tr>\n",
       "<tr>\n",
       "  <th>initial_level</th>      <td>           1832.2419</td> <td>                 l.0</td> <td>                True</td>\n",
       "</tr>\n",
       "<tr>\n",
       "  <th>initial_trend</th>      <td>           0.9968578</td> <td>                 b.0</td> <td>                True</td>\n",
       "</tr>\n",
       "<tr>\n",
       "  <th>initial_seasons.0</th>  <td>          -1826.9635</td> <td>                 s.0</td> <td>                True</td>\n",
       "</tr>\n",
       "<tr>\n",
       "  <th>initial_seasons.1</th>  <td>          -1827.0251</td> <td>                 s.1</td> <td>                True</td>\n",
       "</tr>\n",
       "<tr>\n",
       "  <th>initial_seasons.2</th>  <td>          -1827.3585</td> <td>                 s.2</td> <td>                True</td>\n",
       "</tr>\n",
       "<tr>\n",
       "  <th>initial_seasons.3</th>  <td>          -1826.6544</td> <td>                 s.3</td> <td>                True</td>\n",
       "</tr>\n",
       "<tr>\n",
       "  <th>initial_seasons.4</th>  <td>          -1825.2590</td> <td>                 s.4</td> <td>                True</td>\n",
       "</tr>\n",
       "<tr>\n",
       "  <th>initial_seasons.5</th>  <td>          -1825.5450</td> <td>                 s.5</td> <td>                True</td>\n",
       "</tr>\n",
       "<tr>\n",
       "  <th>initial_seasons.6</th>  <td>          -1825.4303</td> <td>                 s.6</td> <td>                True</td>\n",
       "</tr>\n",
       "<tr>\n",
       "  <th>initial_seasons.7</th>  <td>          -1825.1118</td> <td>                 s.7</td> <td>                True</td>\n",
       "</tr>\n",
       "<tr>\n",
       "  <th>initial_seasons.8</th>  <td>          -1825.9256</td> <td>                 s.8</td> <td>                True</td>\n",
       "</tr>\n",
       "<tr>\n",
       "  <th>initial_seasons.9</th>  <td>          -1825.7922</td> <td>                 s.9</td> <td>                True</td>\n",
       "</tr>\n",
       "<tr>\n",
       "  <th>initial_seasons.10</th> <td>          -1825.3419</td> <td>                s.10</td> <td>                True</td>\n",
       "</tr>\n",
       "<tr>\n",
       "  <th>initial_seasons.11</th> <td>          -1825.4441</td> <td>                s.11</td> <td>                True</td>\n",
       "</tr>\n",
       "<tr>\n",
       "  <th>initial_seasons.12</th> <td>          -1825.8284</td> <td>                s.12</td> <td>                True</td>\n",
       "</tr>\n",
       "<tr>\n",
       "  <th>initial_seasons.13</th> <td>          -1825.4919</td> <td>                s.13</td> <td>                True</td>\n",
       "</tr>\n",
       "<tr>\n",
       "  <th>initial_seasons.14</th> <td>          -1825.2143</td> <td>                s.14</td> <td>                True</td>\n",
       "</tr>\n",
       "<tr>\n",
       "  <th>initial_seasons.15</th> <td>          -1825.5934</td> <td>                s.15</td> <td>                True</td>\n",
       "</tr>\n",
       "<tr>\n",
       "  <th>initial_seasons.16</th> <td>          -1826.6746</td> <td>                s.16</td> <td>                True</td>\n",
       "</tr>\n",
       "<tr>\n",
       "  <th>initial_seasons.17</th> <td>          -1826.3249</td> <td>                s.17</td> <td>                True</td>\n",
       "</tr>\n",
       "<tr>\n",
       "  <th>initial_seasons.18</th> <td>          -1825.8876</td> <td>                s.18</td> <td>                True</td>\n",
       "</tr>\n",
       "<tr>\n",
       "  <th>initial_seasons.19</th> <td>          -1825.8690</td> <td>                s.19</td> <td>                True</td>\n",
       "</tr>\n",
       "<tr>\n",
       "  <th>initial_seasons.20</th> <td>          -1826.0760</td> <td>                s.20</td> <td>                True</td>\n",
       "</tr>\n",
       "<tr>\n",
       "  <th>initial_seasons.21</th> <td>          -1825.9353</td> <td>                s.21</td> <td>                True</td>\n",
       "</tr>\n",
       "<tr>\n",
       "  <th>initial_seasons.22</th> <td>          -1825.8988</td> <td>                s.22</td> <td>                True</td>\n",
       "</tr>\n",
       "<tr>\n",
       "  <th>initial_seasons.23</th> <td>          -1825.9743</td> <td>                s.23</td> <td>                True</td>\n",
       "</tr>\n",
       "<tr>\n",
       "  <th>initial_seasons.24</th> <td>          -1826.4467</td> <td>                s.24</td> <td>                True</td>\n",
       "</tr>\n",
       "<tr>\n",
       "  <th>initial_seasons.25</th> <td>          -1826.9069</td> <td>                s.25</td> <td>                True</td>\n",
       "</tr>\n",
       "<tr>\n",
       "  <th>initial_seasons.26</th> <td>          -1826.9536</td> <td>                s.26</td> <td>                True</td>\n",
       "</tr>\n",
       "<tr>\n",
       "  <th>initial_seasons.27</th> <td>          -1826.6114</td> <td>                s.27</td> <td>                True</td>\n",
       "</tr>\n",
       "<tr>\n",
       "  <th>initial_seasons.28</th> <td>          -1826.8541</td> <td>                s.28</td> <td>                True</td>\n",
       "</tr>\n",
       "<tr>\n",
       "  <th>initial_seasons.29</th> <td>          -1826.7514</td> <td>                s.29</td> <td>                True</td>\n",
       "</tr>\n",
       "<tr>\n",
       "  <th>initial_seasons.30</th> <td>          -1826.7463</td> <td>                s.30</td> <td>                True</td>\n",
       "</tr>\n",
       "<tr>\n",
       "  <th>initial_seasons.31</th> <td>          -1826.1675</td> <td>                s.31</td> <td>                True</td>\n",
       "</tr>\n",
       "<tr>\n",
       "  <th>initial_seasons.32</th> <td>          -1826.1418</td> <td>                s.32</td> <td>                True</td>\n",
       "</tr>\n",
       "<tr>\n",
       "  <th>initial_seasons.33</th> <td>          -1826.2873</td> <td>                s.33</td> <td>                True</td>\n",
       "</tr>\n",
       "<tr>\n",
       "  <th>initial_seasons.34</th> <td>          -1826.3691</td> <td>                s.34</td> <td>                True</td>\n",
       "</tr>\n",
       "<tr>\n",
       "  <th>initial_seasons.35</th> <td>          -1826.5575</td> <td>                s.35</td> <td>                True</td>\n",
       "</tr>\n",
       "<tr>\n",
       "  <th>initial_seasons.36</th> <td>          -1826.7521</td> <td>                s.36</td> <td>                True</td>\n",
       "</tr>\n",
       "<tr>\n",
       "  <th>initial_seasons.37</th> <td>          -1826.6089</td> <td>                s.37</td> <td>                True</td>\n",
       "</tr>\n",
       "<tr>\n",
       "  <th>initial_seasons.38</th> <td>          -1826.6419</td> <td>                s.38</td> <td>                True</td>\n",
       "</tr>\n",
       "<tr>\n",
       "  <th>initial_seasons.39</th> <td>          -1826.4023</td> <td>                s.39</td> <td>                True</td>\n",
       "</tr>\n",
       "<tr>\n",
       "  <th>initial_seasons.40</th> <td>          -1826.3250</td> <td>                s.40</td> <td>                True</td>\n",
       "</tr>\n",
       "<tr>\n",
       "  <th>initial_seasons.41</th> <td>          -1826.6414</td> <td>                s.41</td> <td>                True</td>\n",
       "</tr>\n",
       "<tr>\n",
       "  <th>initial_seasons.42</th> <td>          -1826.7272</td> <td>                s.42</td> <td>                True</td>\n",
       "</tr>\n",
       "<tr>\n",
       "  <th>initial_seasons.43</th> <td>          -1826.9567</td> <td>                s.43</td> <td>                True</td>\n",
       "</tr>\n",
       "<tr>\n",
       "  <th>initial_seasons.44</th> <td>          -1827.8085</td> <td>                s.44</td> <td>                True</td>\n",
       "</tr>\n",
       "<tr>\n",
       "  <th>initial_seasons.45</th> <td>          -1827.9702</td> <td>                s.45</td> <td>                True</td>\n",
       "</tr>\n",
       "<tr>\n",
       "  <th>initial_seasons.46</th> <td>          -1827.9725</td> <td>                s.46</td> <td>                True</td>\n",
       "</tr>\n",
       "<tr>\n",
       "  <th>initial_seasons.47</th> <td>          -1827.8457</td> <td>                s.47</td> <td>                True</td>\n",
       "</tr>\n",
       "<tr>\n",
       "  <th>initial_seasons.48</th> <td>          -1828.0046</td> <td>                s.48</td> <td>                True</td>\n",
       "</tr>\n",
       "<tr>\n",
       "  <th>initial_seasons.49</th> <td>          -1827.8635</td> <td>                s.49</td> <td>                True</td>\n",
       "</tr>\n",
       "<tr>\n",
       "  <th>initial_seasons.50</th> <td>          -1827.8689</td> <td>                s.50</td> <td>                True</td>\n",
       "</tr>\n",
       "<tr>\n",
       "  <th>initial_seasons.51</th> <td>          -1827.9394</td> <td>                s.51</td> <td>                True</td>\n",
       "</tr>\n",
       "</table>"
      ],
      "text/plain": [
       "<class 'statsmodels.iolib.summary.Summary'>\n",
       "\"\"\"\n",
       "                        ExponentialSmoothing Model Results                        \n",
       "==================================================================================\n",
       "Dep. Variable:     market_price_usd_close   No. Observations:                 2557\n",
       "Model:               ExponentialSmoothing   SSE                      104676592.340\n",
       "Optimized:                           True   AIC                          27266.819\n",
       "Trend:                     Multiplicative   BIC                          27594.228\n",
       "Seasonal:                        Additive   AICC                         27269.558\n",
       "Seasonal Periods:                      52   Date:                 Thu, 12 Nov 2020\n",
       "Box-Cox:                            False   Time:                         10:50:27\n",
       "Box-Cox Coeff.:                      None                                         \n",
       "=================================================================================\n",
       "                          coeff                 code              optimized      \n",
       "---------------------------------------------------------------------------------\n",
       "smoothing_level               0.9950000                alpha                 True\n",
       "smoothing_trend                  0.0001                 beta                 True\n",
       "smoothing_seasonal               0.0001                gamma                 True\n",
       "initial_level                 1832.2419                  l.0                 True\n",
       "initial_trend                 0.9968578                  b.0                 True\n",
       "initial_seasons.0            -1826.9635                  s.0                 True\n",
       "initial_seasons.1            -1827.0251                  s.1                 True\n",
       "initial_seasons.2            -1827.3585                  s.2                 True\n",
       "initial_seasons.3            -1826.6544                  s.3                 True\n",
       "initial_seasons.4            -1825.2590                  s.4                 True\n",
       "initial_seasons.5            -1825.5450                  s.5                 True\n",
       "initial_seasons.6            -1825.4303                  s.6                 True\n",
       "initial_seasons.7            -1825.1118                  s.7                 True\n",
       "initial_seasons.8            -1825.9256                  s.8                 True\n",
       "initial_seasons.9            -1825.7922                  s.9                 True\n",
       "initial_seasons.10           -1825.3419                 s.10                 True\n",
       "initial_seasons.11           -1825.4441                 s.11                 True\n",
       "initial_seasons.12           -1825.8284                 s.12                 True\n",
       "initial_seasons.13           -1825.4919                 s.13                 True\n",
       "initial_seasons.14           -1825.2143                 s.14                 True\n",
       "initial_seasons.15           -1825.5934                 s.15                 True\n",
       "initial_seasons.16           -1826.6746                 s.16                 True\n",
       "initial_seasons.17           -1826.3249                 s.17                 True\n",
       "initial_seasons.18           -1825.8876                 s.18                 True\n",
       "initial_seasons.19           -1825.8690                 s.19                 True\n",
       "initial_seasons.20           -1826.0760                 s.20                 True\n",
       "initial_seasons.21           -1825.9353                 s.21                 True\n",
       "initial_seasons.22           -1825.8988                 s.22                 True\n",
       "initial_seasons.23           -1825.9743                 s.23                 True\n",
       "initial_seasons.24           -1826.4467                 s.24                 True\n",
       "initial_seasons.25           -1826.9069                 s.25                 True\n",
       "initial_seasons.26           -1826.9536                 s.26                 True\n",
       "initial_seasons.27           -1826.6114                 s.27                 True\n",
       "initial_seasons.28           -1826.8541                 s.28                 True\n",
       "initial_seasons.29           -1826.7514                 s.29                 True\n",
       "initial_seasons.30           -1826.7463                 s.30                 True\n",
       "initial_seasons.31           -1826.1675                 s.31                 True\n",
       "initial_seasons.32           -1826.1418                 s.32                 True\n",
       "initial_seasons.33           -1826.2873                 s.33                 True\n",
       "initial_seasons.34           -1826.3691                 s.34                 True\n",
       "initial_seasons.35           -1826.5575                 s.35                 True\n",
       "initial_seasons.36           -1826.7521                 s.36                 True\n",
       "initial_seasons.37           -1826.6089                 s.37                 True\n",
       "initial_seasons.38           -1826.6419                 s.38                 True\n",
       "initial_seasons.39           -1826.4023                 s.39                 True\n",
       "initial_seasons.40           -1826.3250                 s.40                 True\n",
       "initial_seasons.41           -1826.6414                 s.41                 True\n",
       "initial_seasons.42           -1826.7272                 s.42                 True\n",
       "initial_seasons.43           -1826.9567                 s.43                 True\n",
       "initial_seasons.44           -1827.8085                 s.44                 True\n",
       "initial_seasons.45           -1827.9702                 s.45                 True\n",
       "initial_seasons.46           -1827.9725                 s.46                 True\n",
       "initial_seasons.47           -1827.8457                 s.47                 True\n",
       "initial_seasons.48           -1828.0046                 s.48                 True\n",
       "initial_seasons.49           -1827.8635                 s.49                 True\n",
       "initial_seasons.50           -1827.8689                 s.50                 True\n",
       "initial_seasons.51           -1827.9394                 s.51                 True\n",
       "---------------------------------------------------------------------------------\n",
       "\"\"\""
      ]
     },
     "execution_count": 325,
     "metadata": {},
     "output_type": "execute_result"
    }
   ],
   "source": [
    "hw.summary()"
   ]
  },
  {
   "cell_type": "code",
   "execution_count": 326,
   "metadata": {},
   "outputs": [
    {
     "data": {
      "text/plain": [
       "2557    3729.503604\n",
       "2558    3717.068662\n",
       "2559    3704.405566\n",
       "2560    3691.503954\n",
       "2561    3679.098280\n",
       "           ...     \n",
       "3226    -628.236076\n",
       "3227    -630.358195\n",
       "3228    -631.852806\n",
       "3229    -634.608633\n",
       "3230    -637.540652\n",
       "Length: 674, dtype: float64"
      ]
     },
     "execution_count": 326,
     "metadata": {},
     "output_type": "execute_result"
    }
   ],
   "source": [
    "preds = hw.forecast(len(test))\n",
    "preds"
   ]
  },
  {
   "cell_type": "code",
   "execution_count": 327,
   "metadata": {},
   "outputs": [
    {
     "data": {
      "image/png": "[encoded data removed]",
      "text/plain": [
       "<Figure size 1152x288 with 1 Axes>"
      ]
     },
     "metadata": {
      "needs_background": "light"
     },
     "output_type": "display_data"
    }
   ],
   "source": [
    "plot_ys(train, test, preds, labels=['train', 'test', 'HW']);"
   ]
  },
  {
   "cell_type": "code",
   "execution_count": 328,
   "metadata": {},
   "outputs": [
    {
     "data": {
      "image/png": "[encoded data removed]",
      "text/plain": [
       "<Figure size 1440x720 with 1 Axes>"
      ]
     },
     "metadata": {
      "needs_background": "light"
     },
     "output_type": "display_data"
    }
   ],
   "source": [
    "train.plot(label = 'Train')\n",
    "# y_season_preds.plot(label = 'seasonal')\n",
    "# y_last_preds.plot(label = 'last')\n",
    "# y_mean_preds.plot(label='mean')\n",
    "preds.plot(label='HW')\n",
    "test.plot(figsize=(20,10),  title= 'Daily Sales', label = 'Test')\n",
    "plt.legend(fontsize = 15);"
   ]
  },
  {
   "cell_type": "code",
   "execution_count": 294,
   "metadata": {},
   "outputs": [
    {
     "data": {
      "text/plain": [
       "7910.9112845436875"
      ]
     },
     "execution_count": 294,
     "metadata": {},
     "output_type": "execute_result"
    }
   ],
   "source": [
    "mae_hw = mae(test, preds)\n",
    "mae_hw"
   ]
  },
  {
   "cell_type": "code",
   "execution_count": 295,
   "metadata": {},
   "outputs": [],
   "source": [
    "# Seasonality"
   ]
  },
  {
   "cell_type": "code",
   "execution_count": 296,
   "metadata": {},
   "outputs": [],
   "source": [
    "from statsmodels.tsa.seasonal import seasonal_decompose"
   ]
  },
  {
   "cell_type": "code",
   "execution_count": 297,
   "metadata": {},
   "outputs": [
    {
     "data": {
      "image/png": "[encoded data removed]",
      "text/plain": [
       "<Figure size 432x288 with 4 Axes>"
      ]
     },
     "metadata": {
      "needs_background": "light"
     },
     "output_type": "display_data"
    }
   ],
   "source": [
    "seasonal_decompose(df['market_price_usd_close'], period=364).plot();"
   ]
  },
  {
   "cell_type": "code",
   "execution_count": 298,
   "metadata": {},
   "outputs": [],
   "source": [
    "# SARIMA "
   ]
  },
  {
   "cell_type": "code",
   "execution_count": 299,
   "metadata": {},
   "outputs": [],
   "source": [
    "# Line of best fit"
   ]
  },
  {
   "cell_type": "code",
   "execution_count": 300,
   "metadata": {},
   "outputs": [],
   "source": [
    "X = pd.to_numeric(df.index)\n",
    "X = X.to_numpy().reshape(-1, 1)\n",
    "y = df['market_price_usd_close']"
   ]
  },
  {
   "cell_type": "code",
   "execution_count": 301,
   "metadata": {},
   "outputs": [],
   "source": [
    "lr = LinearRegression()"
   ]
  },
  {
   "cell_type": "code",
   "execution_count": 302,
   "metadata": {},
   "outputs": [],
   "source": [
    "lr.fit(X, y)\n",
    "preds = lr.predict(X)"
   ]
  },
  {
   "cell_type": "code",
   "execution_count": 303,
   "metadata": {},
   "outputs": [
    {
     "data": {
      "text/plain": [
       "array([-2613.09992514, -2610.45027132, -2607.80061749, ...,\n",
       "        7874.22992228,  7876.87957611,  7879.52922993])"
      ]
     },
     "execution_count": 303,
     "metadata": {},
     "output_type": "execute_result"
    }
   ],
   "source": [
    "preds"
   ]
  },
  {
   "cell_type": "code",
   "execution_count": 304,
   "metadata": {},
   "outputs": [
    {
     "data": {
      "image/png": "[encoded data removed]",
      "text/plain": [
       "<Figure size 432x288 with 1 Axes>"
      ]
     },
     "metadata": {
      "needs_background": "light"
     },
     "output_type": "display_data"
    }
   ],
   "source": [
    "plt.plot(X, y)\n",
    "plt.plot(X, preds);"
   ]
  },
  {
   "cell_type": "code",
   "execution_count": 305,
   "metadata": {},
   "outputs": [],
   "source": [
    "detrended = y - preds\n",
    "\n",
    "# subtract the trend to not have a trendZ"
   ]
  },
  {
   "cell_type": "code",
   "execution_count": 306,
   "metadata": {},
   "outputs": [
    {
     "data": {
      "image/png": "[encoded data removed]",
      "text/plain": [
       "<Figure size 432x288 with 1 Axes>"
      ]
     },
     "metadata": {
      "needs_background": "light"
     },
     "output_type": "display_data"
    }
   ],
   "source": [
    "plt.plot(X, y)\n",
    "plt.plot(X, detrended);"
   ]
  },
  {
   "cell_type": "code",
   "execution_count": 307,
   "metadata": {},
   "outputs": [
    {
     "data": {
      "text/html": [
       "<style>div.sk-top-container {color: black;background-color: white;}div.sk-toggleable {background-color: white;}label.sk-toggleable__label {cursor: pointer;display: block;width: 100%;margin-bottom: 0;padding: 0.2em 0.3em;box-sizing: border-box;text-align: center;}div.sk-toggleable__content {max-height: 0;max-width: 0;overflow: hidden;text-align: left;background-color: #f0f8ff;}div.sk-toggleable__content pre {margin: 0.2em;color: black;border-radius: 0.25em;background-color: #f0f8ff;}input.sk-toggleable__control:checked~div.sk-toggleable__content {max-height: 200px;max-width: 100%;overflow: auto;}div.sk-estimator input.sk-toggleable__control:checked~label.sk-toggleable__label {background-color: #d4ebff;}div.sk-label input.sk-toggleable__control:checked~label.sk-toggleable__label {background-color: #d4ebff;}input.sk-hidden--visually {border: 0;clip: rect(1px 1px 1px 1px);clip: rect(1px, 1px, 1px, 1px);height: 1px;margin: -1px;overflow: hidden;padding: 0;position: absolute;width: 1px;}div.sk-estimator {font-family: monospace;background-color: #f0f8ff;margin: 0.25em 0.25em;border: 1px dotted black;border-radius: 0.25em;box-sizing: border-box;}div.sk-estimator:hover {background-color: #d4ebff;}div.sk-parallel-item::after {content: \"\";width: 100%;border-bottom: 1px solid gray;flex-grow: 1;}div.sk-label:hover label.sk-toggleable__label {background-color: #d4ebff;}div.sk-serial::before {content: \"\";position: absolute;border-left: 1px solid gray;box-sizing: border-box;top: 2em;bottom: 0;left: 50%;}div.sk-serial {display: flex;flex-direction: column;align-items: center;background-color: white;}div.sk-item {z-index: 1;}div.sk-parallel {display: flex;align-items: stretch;justify-content: center;background-color: white;}div.sk-parallel-item {display: flex;flex-direction: column;position: relative;background-color: white;}div.sk-parallel-item:first-child::after {align-self: flex-end;width: 50%;}div.sk-parallel-item:last-child::after {align-self: flex-start;width: 50%;}div.sk-parallel-item:only-child::after {width: 0;}div.sk-dashed-wrapped {border: 1px dashed gray;margin: 0.2em;box-sizing: border-box;padding-bottom: 0.1em;background-color: white;position: relative;}div.sk-label label {font-family: monospace;font-weight: bold;background-color: white;display: inline-block;line-height: 1.2em;}div.sk-label-container {position: relative;z-index: 2;text-align: center;}div.sk-container {display: inline-block;position: relative;}</style><div class=\"sk-top-container\"><div class=\"sk-container\"><div class=\"sk-item\"><div class=\"sk-estimator sk-toggleable\"><input class=\"sk-toggleable__control sk-hidden--visually\" id=\"c338e4af-8144-4864-b79b-5ac78ab8ec1c\" type=\"checkbox\" checked><label class=\"sk-toggleable__label\" for=\"c338e4af-8144-4864-b79b-5ac78ab8ec1c\">AutoARIMA</label><div class=\"sk-toggleable__content\"><pre>AutoARIMA(sp=12, suppress_warnings=True)</pre></div></div></div></div></div>"
      ],
      "text/plain": [
       "AutoARIMA(sp=12, suppress_warnings=True)"
      ]
     },
     "execution_count": 307,
     "metadata": {},
     "output_type": "execute_result"
    }
   ],
   "source": [
    "sarima_model = AutoARIMA(sp=12, suppress_warnings=True)\n",
    "sarima_model.fit(train)"
   ]
  },
  {
   "cell_type": "code",
   "execution_count": 308,
   "metadata": {},
   "outputs": [],
   "source": [
    "y_sarima = sarima_model.predict(np.arange(len(test)) + 1)"
   ]
  },
  {
   "cell_type": "code",
   "execution_count": 309,
   "metadata": {},
   "outputs": [
    {
     "data": {
      "image/png": "[encoded data removed]",
      "text/plain": [
       "<Figure size 1152x288 with 1 Axes>"
      ]
     },
     "metadata": {
      "needs_background": "light"
     },
     "output_type": "display_data"
    }
   ],
   "source": [
    "plot_ys(train, test, y_sarima, labels=['train', 'test', 'SARIMA']);"
   ]
  },
  {
   "cell_type": "code",
   "execution_count": 310,
   "metadata": {},
   "outputs": [
    {
     "data": {
      "text/plain": [
       "4556.059335837061"
      ]
     },
     "execution_count": 310,
     "metadata": {},
     "output_type": "execute_result"
    }
   ],
   "source": [
    "mae_sarima = mae(test, y_sarima)\n",
    "mae_sarima"
   ]
  },
  {
   "cell_type": "code",
   "execution_count": 311,
   "metadata": {},
   "outputs": [
    {
     "name": "stdout",
     "output_type": "stream",
     "text": [
      "Last: 4647.39773670894 \n",
      "Mean: 6499.34134659185 \n",
      "Seasonal: 3464.2422170446016 \n",
      "Holt Winter: 7910.9112845436875 \n",
      "SARIMA: 4556.059335837061\n"
     ]
    }
   ],
   "source": [
    "print('Last:', mae_naive_last, \"\\n\"\n",
    "      'Mean:', mae_naive_mean, \"\\n\"\n",
    "      'Seasonal:', mae_naive_seasonal, \"\\n\"\n",
    "     'Holt Winter:', mae_hw, \"\\n\"\n",
    "      'SARIMA:', mae_sarima)"
   ]
  },
  {
   "cell_type": "code",
   "execution_count": 312,
   "metadata": {},
   "outputs": [],
   "source": [
    "import pmdarima as pmd"
   ]
  },
  {
   "cell_type": "code",
   "execution_count": 313,
   "metadata": {},
   "outputs": [
    {
     "data": {
      "image/png": "[encoded data removed]",
      "text/plain": [
       "<Figure size 576x432 with 3 Axes>"
      ]
     },
     "metadata": {
      "needs_background": "light"
     },
     "output_type": "display_data"
    }
   ],
   "source": [
    "from pmdarima.utils import tsdisplay\n",
    "tsdisplay(train, lag_max=20)"
   ]
  },
  {
   "cell_type": "code",
   "execution_count": 314,
   "metadata": {},
   "outputs": [
    {
     "name": "stdout",
     "output_type": "stream",
     "text": [
      "Performing stepwise search to minimize aic\n",
      " ARIMA(2,1,2)(1,0,1)[52] intercept   : AIC=34378.127, Time=38.94 sec\n",
      " ARIMA(0,1,0)(0,0,0)[52] intercept   : AIC=34395.487, Time=1.38 sec\n",
      " ARIMA(1,1,0)(1,0,0)[52] intercept   : AIC=34383.973, Time=4.37 sec\n",
      " ARIMA(0,1,1)(0,0,1)[52] intercept   : AIC=34383.421, Time=4.58 sec\n",
      " ARIMA(0,1,0)(0,0,0)[52]             : AIC=34393.620, Time=0.03 sec\n",
      " ARIMA(2,1,2)(0,0,1)[52] intercept   : AIC=34376.412, Time=36.47 sec\n",
      " ARIMA(2,1,2)(0,0,0)[52] intercept   : AIC=34374.728, Time=2.35 sec\n",
      " ARIMA(2,1,2)(1,0,0)[52] intercept   : AIC=34376.410, Time=39.90 sec\n",
      " ARIMA(1,1,2)(0,0,0)[52] intercept   : AIC=34384.999, Time=0.30 sec\n",
      " ARIMA(2,1,1)(0,0,0)[52] intercept   : AIC=34384.826, Time=0.19 sec\n",
      " ARIMA(3,1,2)(0,0,0)[52] intercept   : AIC=34376.846, Time=2.32 sec\n",
      " ARIMA(2,1,3)(0,0,0)[52] intercept   : AIC=34305.502, Time=2.63 sec\n",
      " ARIMA(2,1,3)(1,0,0)[52] intercept   : AIC=34306.337, Time=44.07 sec\n",
      " ARIMA(2,1,3)(0,0,1)[52] intercept   : AIC=34306.375, Time=45.99 sec\n",
      " ARIMA(2,1,3)(1,0,1)[52] intercept   : AIC=34309.036, Time=52.65 sec\n",
      " ARIMA(1,1,3)(0,0,0)[52] intercept   : AIC=34374.335, Time=0.76 sec\n",
      " ARIMA(3,1,3)(0,0,0)[52] intercept   : AIC=34325.385, Time=7.44 sec\n",
      " ARIMA(2,1,4)(0,0,0)[52] intercept   : AIC=34329.804, Time=3.41 sec\n",
      " ARIMA(1,1,4)(0,0,0)[52] intercept   : AIC=34357.812, Time=0.87 sec\n",
      " ARIMA(3,1,4)(0,0,0)[52] intercept   : AIC=34350.476, Time=3.15 sec\n",
      " ARIMA(2,1,3)(0,0,0)[52]             : AIC=34303.604, Time=1.46 sec\n",
      " ARIMA(2,1,3)(1,0,0)[52]             : AIC=34304.389, Time=18.40 sec\n",
      " ARIMA(2,1,3)(0,0,1)[52]             : AIC=34304.918, Time=19.60 sec\n",
      " ARIMA(2,1,3)(1,0,1)[52]             : AIC=34306.159, Time=26.30 sec\n",
      " ARIMA(1,1,3)(0,0,0)[52]             : AIC=34372.425, Time=0.39 sec\n",
      " ARIMA(2,1,2)(0,0,0)[52]             : AIC=34372.866, Time=1.72 sec\n",
      " ARIMA(3,1,3)(0,0,0)[52]             : AIC=34319.731, Time=4.87 sec\n",
      " ARIMA(2,1,4)(0,0,0)[52]             : AIC=34327.890, Time=2.73 sec\n",
      " ARIMA(1,1,2)(0,0,0)[52]             : AIC=34383.113, Time=0.25 sec\n",
      " ARIMA(1,1,4)(0,0,0)[52]             : AIC=34355.928, Time=0.65 sec\n",
      " ARIMA(3,1,2)(0,0,0)[52]             : AIC=34374.821, Time=4.70 sec\n",
      " ARIMA(3,1,4)(0,0,0)[52]             : AIC=34348.554, Time=6.60 sec\n",
      "\n",
      "Best model:  ARIMA(2,1,3)(0,0,0)[52]          \n",
      "Total fit time: 379.540 seconds\n"
     ]
    }
   ],
   "source": [
    "model = pmd.auto_arima(train, m = 52, suppress_warning = True, trace = True)"
   ]
  },
  {
   "cell_type": "code",
   "execution_count": 315,
   "metadata": {},
   "outputs": [
    {
     "data": {
      "text/html": [
       "<table class=\"simpletable\">\n",
       "<caption>SARIMAX Results</caption>\n",
       "<tr>\n",
       "  <th>Dep. Variable:</th>           <td>y</td>        <th>  No. Observations:  </th>    <td>2557</td>   \n",
       "</tr>\n",
       "<tr>\n",
       "  <th>Model:</th>           <td>SARIMAX(2, 1, 3)</td> <th>  Log Likelihood     </th> <td>-17145.802</td>\n",
       "</tr>\n",
       "<tr>\n",
       "  <th>Date:</th>            <td>Wed, 11 Nov 2020</td> <th>  AIC                </th>  <td>34303.604</td>\n",
       "</tr>\n",
       "<tr>\n",
       "  <th>Time:</th>                <td>23:00:43</td>     <th>  BIC                </th>  <td>34338.681</td>\n",
       "</tr>\n",
       "<tr>\n",
       "  <th>Sample:</th>                  <td>0</td>        <th>  HQIC               </th>  <td>34316.324</td>\n",
       "</tr>\n",
       "<tr>\n",
       "  <th></th>                      <td> - 2557</td>     <th>                     </th>      <td> </td>    \n",
       "</tr>\n",
       "<tr>\n",
       "  <th>Covariance Type:</th>        <td>opg</td>       <th>                     </th>      <td> </td>    \n",
       "</tr>\n",
       "</table>\n",
       "<table class=\"simpletable\">\n",
       "<tr>\n",
       "     <td></td>       <th>coef</th>     <th>std err</th>      <th>z</th>      <th>P>|z|</th>  <th>[0.025</th>    <th>0.975]</th>  \n",
       "</tr>\n",
       "<tr>\n",
       "  <th>ar.L1</th>  <td>   -1.6361</td> <td>    0.008</td> <td> -203.400</td> <td> 0.000</td> <td>   -1.652</td> <td>   -1.620</td>\n",
       "</tr>\n",
       "<tr>\n",
       "  <th>ar.L2</th>  <td>   -0.9276</td> <td>    0.007</td> <td> -127.055</td> <td> 0.000</td> <td>   -0.942</td> <td>   -0.913</td>\n",
       "</tr>\n",
       "<tr>\n",
       "  <th>ma.L1</th>  <td>    1.7433</td> <td>    0.009</td> <td>  193.121</td> <td> 0.000</td> <td>    1.726</td> <td>    1.761</td>\n",
       "</tr>\n",
       "<tr>\n",
       "  <th>ma.L2</th>  <td>    1.0716</td> <td>    0.012</td> <td>   88.741</td> <td> 0.000</td> <td>    1.048</td> <td>    1.095</td>\n",
       "</tr>\n",
       "<tr>\n",
       "  <th>ma.L3</th>  <td>    0.1014</td> <td>    0.006</td> <td>   17.757</td> <td> 0.000</td> <td>    0.090</td> <td>    0.113</td>\n",
       "</tr>\n",
       "<tr>\n",
       "  <th>sigma2</th> <td> 3.999e+04</td> <td>  264.641</td> <td>  151.096</td> <td> 0.000</td> <td> 3.95e+04</td> <td> 4.05e+04</td>\n",
       "</tr>\n",
       "</table>\n",
       "<table class=\"simpletable\">\n",
       "<tr>\n",
       "  <th>Ljung-Box (L1) (Q):</th>      <td>0.00</td>  <th>  Jarque-Bera (JB):  </th> <td>254319.42</td>\n",
       "</tr>\n",
       "<tr>\n",
       "  <th>Prob(Q):</th>                 <td>0.96</td>  <th>  Prob(JB):          </th>   <td>0.00</td>   \n",
       "</tr>\n",
       "<tr>\n",
       "  <th>Heteroskedasticity (H):</th> <td>187.99</td> <th>  Skew:              </th>   <td>1.44</td>   \n",
       "</tr>\n",
       "<tr>\n",
       "  <th>Prob(H) (two-sided):</th>     <td>0.00</td>  <th>  Kurtosis:          </th>   <td>51.78</td>  \n",
       "</tr>\n",
       "</table><br/><br/>Warnings:<br/>[1] Covariance matrix calculated using the outer product of gradients (complex-step)."
      ],
      "text/plain": [
       "<class 'statsmodels.iolib.summary.Summary'>\n",
       "\"\"\"\n",
       "                               SARIMAX Results                                \n",
       "==============================================================================\n",
       "Dep. Variable:                      y   No. Observations:                 2557\n",
       "Model:               SARIMAX(2, 1, 3)   Log Likelihood              -17145.802\n",
       "Date:                Wed, 11 Nov 2020   AIC                          34303.604\n",
       "Time:                        23:00:43   BIC                          34338.681\n",
       "Sample:                             0   HQIC                         34316.324\n",
       "                               - 2557                                         \n",
       "Covariance Type:                  opg                                         \n",
       "==============================================================================\n",
       "                 coef    std err          z      P>|z|      [0.025      0.975]\n",
       "------------------------------------------------------------------------------\n",
       "ar.L1         -1.6361      0.008   -203.400      0.000      -1.652      -1.620\n",
       "ar.L2         -0.9276      0.007   -127.055      0.000      -0.942      -0.913\n",
       "ma.L1          1.7433      0.009    193.121      0.000       1.726       1.761\n",
       "ma.L2          1.0716      0.012     88.741      0.000       1.048       1.095\n",
       "ma.L3          0.1014      0.006     17.757      0.000       0.090       0.113\n",
       "sigma2      3.999e+04    264.641    151.096      0.000    3.95e+04    4.05e+04\n",
       "===================================================================================\n",
       "Ljung-Box (L1) (Q):                   0.00   Jarque-Bera (JB):            254319.42\n",
       "Prob(Q):                              0.96   Prob(JB):                         0.00\n",
       "Heteroskedasticity (H):             187.99   Skew:                             1.44\n",
       "Prob(H) (two-sided):                  0.00   Kurtosis:                        51.78\n",
       "===================================================================================\n",
       "\n",
       "Warnings:\n",
       "[1] Covariance matrix calculated using the outer product of gradients (complex-step).\n",
       "\"\"\""
      ]
     },
     "execution_count": 315,
     "metadata": {},
     "output_type": "execute_result"
    }
   ],
   "source": [
    "model.summary()"
   ]
  },
  {
   "cell_type": "code",
   "execution_count": 323,
   "metadata": {},
   "outputs": [],
   "source": [
    "sarima_auto_preds = model.predict(test.shape[0])"
   ]
  },
  {
   "cell_type": "code",
   "execution_count": 317,
   "metadata": {},
   "outputs": [],
   "source": [
    "sarima_auto_preds = pd.Series(sarima_auto_preds)"
   ]
  },
  {
   "cell_type": "code",
   "execution_count": 318,
   "metadata": {},
   "outputs": [
    {
     "data": {
      "image/png": "[encoded data removed]",
      "text/plain": [
       "<Figure size 1152x288 with 1 Axes>"
      ]
     },
     "metadata": {
      "needs_background": "light"
     },
     "output_type": "display_data"
    }
   ],
   "source": [
    "plot_ys(train, test, sarima_auto_preds, labels=['train', 'test', 'SARIMA AUTO']);"
   ]
  },
  {
   "cell_type": "code",
   "execution_count": 319,
   "metadata": {},
   "outputs": [
    {
     "data": {
      "image/png": "[encoded data removed]",
      "text/plain": [
       "<Figure size 1152x576 with 1 Axes>"
      ]
     },
     "metadata": {
      "needs_background": "light"
     },
     "output_type": "display_data"
    }
   ],
   "source": [
    "plt.figure(figsize=(16,8))\n",
    "plt.plot(train, label='Train')\n",
    "plt.plot(test, label='Test')\n",
    "plt.plot(sarima_auto_preds, label='SARIMA_auto')\n",
    "plt.legend(loc='best');"
   ]
  },
  {
   "cell_type": "code",
   "execution_count": 321,
   "metadata": {},
   "outputs": [
    {
     "data": {
      "text/plain": [
       "4666.0"
      ]
     },
     "execution_count": 321,
     "metadata": {},
     "output_type": "execute_result"
    }
   ],
   "source": [
    "mae_sarima_auto = np.round(mae(test, sarima_auto_preds), 0)\n",
    "mae_sarima_auto"
   ]
  },
  {
   "cell_type": "code",
   "execution_count": null,
   "metadata": {},
   "outputs": [],
   "source": [
    "# SARIMAX - exogenous variables"
   ]
  },
  {
   "cell_type": "code",
   "execution_count": null,
   "metadata": {},
   "outputs": [],
   "source": [
    "# Time-Series\n",
    "# SARIMA, SARIMAX // ARIMA, ARIMAX\n",
    "\n",
    "# Recurrent Neural Net\n",
    "\n",
    "# Bayesian Model (facebook prophet library)"
   ]
  },
  {
   "cell_type": "code",
   "execution_count": null,
   "metadata": {},
   "outputs": [],
   "source": [
    "# sktime"
   ]
  },
  {
   "cell_type": "code",
   "execution_count": null,
   "metadata": {},
   "outputs": [],
   "source": []
  }
 ],
 "metadata": {
  "kernelspec": {
   "display_name": "Python 3",
   "language": "python",
   "name": "python3"
  },
  "language_info": {
   "codemirror_mode": {
    "name": "ipython",
    "version": 3
   },
   "file_extension": ".py",
   "mimetype": "text/x-python",
   "name": "python",
   "nbconvert_exporter": "python",
   "pygments_lexer": "ipython3",
   "version": "3.7.9"
  }
 },
 "nbformat": 4,
 "nbformat_minor": 4
}

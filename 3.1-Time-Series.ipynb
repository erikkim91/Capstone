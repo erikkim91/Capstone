{
 "cells": [
  {
   "cell_type": "markdown",
   "metadata": {},
   "source": [
    "# Capstone: Bitcoin: Time Series Forecasting Using Machine Learning"
   ]
  },
  {
   "cell_type": "markdown",
   "metadata": {},
   "source": [
    "## 3.1 Modeling - Time Series: SARIMA and SARIMAX\n",
    "---"
   ]
  },
  {
   "cell_type": "markdown",
   "metadata": {},
   "source": [
    "## Imports\n",
    "---"
   ]
  },
  {
   "cell_type": "code",
   "execution_count": 1,
   "metadata": {},
   "outputs": [],
   "source": [
    "import pandas as pd\n",
    "import numpy as np\n",
    "\n",
    "import itertools\n",
    "\n",
    "import statsmodels.api as sm\n",
    "from statsmodels.tsa.stattools import adfuller\n",
    "from statsmodels.graphics.tsaplots import plot_acf, plot_pacf\n",
    "from statsmodels.tsa.statespace.sarimax import SARIMAX\n",
    "from statsmodels.tsa.seasonal import seasonal_decompose\n",
    "from statsmodels.tsa.stattools import kpss\n",
    "\n",
    "import matplotlib.pyplot as plt\n",
    "from matplotlib.pylab import rcParams\n",
    "\n",
    "from sklearn.metrics import mean_squared_error, mean_absolute_error\n",
    "\n",
    "from tqdm import tqdm_notebook as tqdm\n",
    "import _pickle as pickle\n",
    "plt.style.use('ggplot')"
   ]
  },
  {
   "cell_type": "markdown",
   "metadata": {},
   "source": [
    "## Loading in and formatting the Data"
   ]
  },
  {
   "cell_type": "code",
   "execution_count": 2,
   "metadata": {
    "scrolled": true
   },
   "outputs": [
    {
     "data": {
      "text/html": [
       "<div>\n",
       "<style scoped>\n",
       "    .dataframe tbody tr th:only-of-type {\n",
       "        vertical-align: middle;\n",
       "    }\n",
       "\n",
       "    .dataframe tbody tr th {\n",
       "        vertical-align: top;\n",
       "    }\n",
       "\n",
       "    .dataframe thead th {\n",
       "        text-align: right;\n",
       "    }\n",
       "</style>\n",
       "<table border=\"1\" class=\"dataframe\">\n",
       "  <thead>\n",
       "    <tr style=\"text-align: right;\">\n",
       "      <th></th>\n",
       "      <th>t</th>\n",
       "      <th>Close</th>\n",
       "      <th>High</th>\n",
       "      <th>Low</th>\n",
       "      <th>Open</th>\n",
       "    </tr>\n",
       "  </thead>\n",
       "  <tbody>\n",
       "    <tr>\n",
       "      <th>3772</th>\n",
       "      <td>2020-11-13</td>\n",
       "      <td>16311.513323</td>\n",
       "      <td>16462.716548</td>\n",
       "      <td>15992.152801</td>\n",
       "      <td>16292.717048</td>\n",
       "    </tr>\n",
       "    <tr>\n",
       "      <th>3773</th>\n",
       "      <td>2020-11-14</td>\n",
       "      <td>16075.452734</td>\n",
       "      <td>16314.263353</td>\n",
       "      <td>15776.768439</td>\n",
       "      <td>16314.263353</td>\n",
       "    </tr>\n",
       "    <tr>\n",
       "      <th>3774</th>\n",
       "      <td>2020-11-15</td>\n",
       "      <td>15962.098952</td>\n",
       "      <td>16119.264673</td>\n",
       "      <td>15793.533917</td>\n",
       "      <td>16063.671431</td>\n",
       "    </tr>\n",
       "    <tr>\n",
       "      <th>3775</th>\n",
       "      <td>2020-11-16</td>\n",
       "      <td>16709.612284</td>\n",
       "      <td>16804.409142</td>\n",
       "      <td>15887.108131</td>\n",
       "      <td>15953.998053</td>\n",
       "    </tr>\n",
       "    <tr>\n",
       "      <th>3776</th>\n",
       "      <td>2020-11-17</td>\n",
       "      <td>17667.381593</td>\n",
       "      <td>17782.620109</td>\n",
       "      <td>16564.544992</td>\n",
       "      <td>16700.900927</td>\n",
       "    </tr>\n",
       "  </tbody>\n",
       "</table>\n",
       "</div>"
      ],
      "text/plain": [
       "               t         Close          High           Low          Open\n",
       "3772  2020-11-13  16311.513323  16462.716548  15992.152801  16292.717048\n",
       "3773  2020-11-14  16075.452734  16314.263353  15776.768439  16314.263353\n",
       "3774  2020-11-15  15962.098952  16119.264673  15793.533917  16063.671431\n",
       "3775  2020-11-16  16709.612284  16804.409142  15887.108131  15953.998053\n",
       "3776  2020-11-17  17667.381593  17782.620109  16564.544992  16700.900927"
      ]
     },
     "execution_count": 2,
     "metadata": {},
     "output_type": "execute_result"
    }
   ],
   "source": [
    "bc = pd.read_csv('data/ohlc_price.csv')\n",
    "bc.tail()"
   ]
  },
  {
   "cell_type": "code",
   "execution_count": 3,
   "metadata": {},
   "outputs": [],
   "source": [
    "bc.rename(columns={'t':'Date'}, inplace=True)"
   ]
  },
  {
   "cell_type": "code",
   "execution_count": 4,
   "metadata": {},
   "outputs": [
    {
     "data": {
      "text/html": [
       "<div>\n",
       "<style scoped>\n",
       "    .dataframe tbody tr th:only-of-type {\n",
       "        vertical-align: middle;\n",
       "    }\n",
       "\n",
       "    .dataframe tbody tr th {\n",
       "        vertical-align: top;\n",
       "    }\n",
       "\n",
       "    .dataframe thead th {\n",
       "        text-align: right;\n",
       "    }\n",
       "</style>\n",
       "<table border=\"1\" class=\"dataframe\">\n",
       "  <thead>\n",
       "    <tr style=\"text-align: right;\">\n",
       "      <th></th>\n",
       "      <th>Date</th>\n",
       "      <th>Close</th>\n",
       "      <th>High</th>\n",
       "      <th>Low</th>\n",
       "      <th>Open</th>\n",
       "    </tr>\n",
       "  </thead>\n",
       "  <tbody>\n",
       "    <tr>\n",
       "      <th>0</th>\n",
       "      <td>2010-07-17</td>\n",
       "      <td>0.049510</td>\n",
       "      <td>0.049510</td>\n",
       "      <td>0.049510</td>\n",
       "      <td>0.049510</td>\n",
       "    </tr>\n",
       "    <tr>\n",
       "      <th>1</th>\n",
       "      <td>2010-07-18</td>\n",
       "      <td>0.085840</td>\n",
       "      <td>0.085850</td>\n",
       "      <td>0.059410</td>\n",
       "      <td>0.059410</td>\n",
       "    </tr>\n",
       "    <tr>\n",
       "      <th>2</th>\n",
       "      <td>2010-07-19</td>\n",
       "      <td>0.080800</td>\n",
       "      <td>0.093070</td>\n",
       "      <td>0.078550</td>\n",
       "      <td>0.090900</td>\n",
       "    </tr>\n",
       "    <tr>\n",
       "      <th>3</th>\n",
       "      <td>2010-07-20</td>\n",
       "      <td>0.074733</td>\n",
       "      <td>0.081810</td>\n",
       "      <td>0.074260</td>\n",
       "      <td>0.081810</td>\n",
       "    </tr>\n",
       "    <tr>\n",
       "      <th>4</th>\n",
       "      <td>2010-07-21</td>\n",
       "      <td>0.079210</td>\n",
       "      <td>0.079210</td>\n",
       "      <td>0.066340</td>\n",
       "      <td>0.074250</td>\n",
       "    </tr>\n",
       "    <tr>\n",
       "      <th>...</th>\n",
       "      <td>...</td>\n",
       "      <td>...</td>\n",
       "      <td>...</td>\n",
       "      <td>...</td>\n",
       "      <td>...</td>\n",
       "    </tr>\n",
       "    <tr>\n",
       "      <th>3772</th>\n",
       "      <td>2020-11-13</td>\n",
       "      <td>16311.513323</td>\n",
       "      <td>16462.716548</td>\n",
       "      <td>15992.152801</td>\n",
       "      <td>16292.717048</td>\n",
       "    </tr>\n",
       "    <tr>\n",
       "      <th>3773</th>\n",
       "      <td>2020-11-14</td>\n",
       "      <td>16075.452734</td>\n",
       "      <td>16314.263353</td>\n",
       "      <td>15776.768439</td>\n",
       "      <td>16314.263353</td>\n",
       "    </tr>\n",
       "    <tr>\n",
       "      <th>3774</th>\n",
       "      <td>2020-11-15</td>\n",
       "      <td>15962.098952</td>\n",
       "      <td>16119.264673</td>\n",
       "      <td>15793.533917</td>\n",
       "      <td>16063.671431</td>\n",
       "    </tr>\n",
       "    <tr>\n",
       "      <th>3775</th>\n",
       "      <td>2020-11-16</td>\n",
       "      <td>16709.612284</td>\n",
       "      <td>16804.409142</td>\n",
       "      <td>15887.108131</td>\n",
       "      <td>15953.998053</td>\n",
       "    </tr>\n",
       "    <tr>\n",
       "      <th>3776</th>\n",
       "      <td>2020-11-17</td>\n",
       "      <td>17667.381593</td>\n",
       "      <td>17782.620109</td>\n",
       "      <td>16564.544992</td>\n",
       "      <td>16700.900927</td>\n",
       "    </tr>\n",
       "  </tbody>\n",
       "</table>\n",
       "<p>3777 rows × 5 columns</p>\n",
       "</div>"
      ],
      "text/plain": [
       "            Date         Close          High           Low          Open\n",
       "0     2010-07-17      0.049510      0.049510      0.049510      0.049510\n",
       "1     2010-07-18      0.085840      0.085850      0.059410      0.059410\n",
       "2     2010-07-19      0.080800      0.093070      0.078550      0.090900\n",
       "3     2010-07-20      0.074733      0.081810      0.074260      0.081810\n",
       "4     2010-07-21      0.079210      0.079210      0.066340      0.074250\n",
       "...          ...           ...           ...           ...           ...\n",
       "3772  2020-11-13  16311.513323  16462.716548  15992.152801  16292.717048\n",
       "3773  2020-11-14  16075.452734  16314.263353  15776.768439  16314.263353\n",
       "3774  2020-11-15  15962.098952  16119.264673  15793.533917  16063.671431\n",
       "3775  2020-11-16  16709.612284  16804.409142  15887.108131  15953.998053\n",
       "3776  2020-11-17  17667.381593  17782.620109  16564.544992  16700.900927\n",
       "\n",
       "[3777 rows x 5 columns]"
      ]
     },
     "execution_count": 4,
     "metadata": {},
     "output_type": "execute_result"
    }
   ],
   "source": [
    "bc"
   ]
  },
  {
   "cell_type": "markdown",
   "metadata": {},
   "source": [
    "### Converting Dates into a Datetime Format"
   ]
  },
  {
   "cell_type": "code",
   "execution_count": 5,
   "metadata": {},
   "outputs": [
    {
     "data": {
      "text/plain": [
       "Date     datetime64[ns]\n",
       "Close           float64\n",
       "High            float64\n",
       "Low             float64\n",
       "Open            float64\n",
       "dtype: object"
      ]
     },
     "execution_count": 5,
     "metadata": {},
     "output_type": "execute_result"
    }
   ],
   "source": [
    "bc['Date'] = pd.to_datetime(bc.Date)\n",
    "bc.dtypes"
   ]
  },
  {
   "cell_type": "markdown",
   "metadata": {},
   "source": [
    "#### Setting dates as the index"
   ]
  },
  {
   "cell_type": "code",
   "execution_count": 6,
   "metadata": {
    "scrolled": true
   },
   "outputs": [
    {
     "data": {
      "text/html": [
       "<div>\n",
       "<style scoped>\n",
       "    .dataframe tbody tr th:only-of-type {\n",
       "        vertical-align: middle;\n",
       "    }\n",
       "\n",
       "    .dataframe tbody tr th {\n",
       "        vertical-align: top;\n",
       "    }\n",
       "\n",
       "    .dataframe thead th {\n",
       "        text-align: right;\n",
       "    }\n",
       "</style>\n",
       "<table border=\"1\" class=\"dataframe\">\n",
       "  <thead>\n",
       "    <tr style=\"text-align: right;\">\n",
       "      <th></th>\n",
       "      <th>Close</th>\n",
       "      <th>High</th>\n",
       "      <th>Low</th>\n",
       "      <th>Open</th>\n",
       "    </tr>\n",
       "    <tr>\n",
       "      <th>Date</th>\n",
       "      <th></th>\n",
       "      <th></th>\n",
       "      <th></th>\n",
       "      <th></th>\n",
       "    </tr>\n",
       "  </thead>\n",
       "  <tbody>\n",
       "    <tr>\n",
       "      <th>2010-07-17</th>\n",
       "      <td>0.049510</td>\n",
       "      <td>0.04951</td>\n",
       "      <td>0.04951</td>\n",
       "      <td>0.04951</td>\n",
       "    </tr>\n",
       "    <tr>\n",
       "      <th>2010-07-18</th>\n",
       "      <td>0.085840</td>\n",
       "      <td>0.08585</td>\n",
       "      <td>0.05941</td>\n",
       "      <td>0.05941</td>\n",
       "    </tr>\n",
       "    <tr>\n",
       "      <th>2010-07-19</th>\n",
       "      <td>0.080800</td>\n",
       "      <td>0.09307</td>\n",
       "      <td>0.07855</td>\n",
       "      <td>0.09090</td>\n",
       "    </tr>\n",
       "    <tr>\n",
       "      <th>2010-07-20</th>\n",
       "      <td>0.074733</td>\n",
       "      <td>0.08181</td>\n",
       "      <td>0.07426</td>\n",
       "      <td>0.08181</td>\n",
       "    </tr>\n",
       "    <tr>\n",
       "      <th>2010-07-21</th>\n",
       "      <td>0.079210</td>\n",
       "      <td>0.07921</td>\n",
       "      <td>0.06634</td>\n",
       "      <td>0.07425</td>\n",
       "    </tr>\n",
       "  </tbody>\n",
       "</table>\n",
       "</div>"
      ],
      "text/plain": [
       "               Close     High      Low     Open\n",
       "Date                                           \n",
       "2010-07-17  0.049510  0.04951  0.04951  0.04951\n",
       "2010-07-18  0.085840  0.08585  0.05941  0.05941\n",
       "2010-07-19  0.080800  0.09307  0.07855  0.09090\n",
       "2010-07-20  0.074733  0.08181  0.07426  0.08181\n",
       "2010-07-21  0.079210  0.07921  0.06634  0.07425"
      ]
     },
     "execution_count": 6,
     "metadata": {},
     "output_type": "execute_result"
    }
   ],
   "source": [
    "bc.set_index('Date', inplace=True)\n",
    "bc.head()"
   ]
  },
  {
   "cell_type": "markdown",
   "metadata": {},
   "source": [
    "### Exporting this data for later use"
   ]
  },
  {
   "cell_type": "code",
   "execution_count": 7,
   "metadata": {},
   "outputs": [],
   "source": [
    "with open(\"curr_bitcoin.pickle\", 'wb') as fp:\n",
    "    pickle.dump(bc, fp)"
   ]
  },
  {
   "cell_type": "markdown",
   "metadata": {},
   "source": [
    "## Plotting Bitcoin's Historical Prices"
   ]
  },
  {
   "cell_type": "code",
   "execution_count": 8,
   "metadata": {},
   "outputs": [
    {
     "data": {
      "image/png": "[encoded data removed]",
      "text/plain": [
       "<Figure size 1152x360 with 1 Axes>"
      ]
     },
     "metadata": {},
     "output_type": "display_data"
    }
   ],
   "source": [
    "bc['Close'].plot(figsize=(16,5), xlim=('2010', '2022'))\n",
    "plt.xlabel('Date')\n",
    "plt.ylabel('Price in USD')\n",
    "plt.title('Bitcoin Price')\n",
    "plt.savefig('btcprice.png')\n",
    "plt.show()"
   ]
  },
  {
   "cell_type": "markdown",
   "metadata": {},
   "source": [
    "## Detrending, Decomposition and Statistical Tests"
   ]
  },
  {
   "cell_type": "code",
   "execution_count": 9,
   "metadata": {},
   "outputs": [
    {
     "data": {
      "text/plain": [
       "<Figure size 1080x864 with 0 Axes>"
      ]
     },
     "metadata": {},
     "output_type": "display_data"
    },
    {
     "data": {
      "image/png": "[encoded data removed]",
      "text/plain": [
       "<Figure size 432x288 with 4 Axes>"
      ]
     },
     "metadata": {},
     "output_type": "display_data"
    }
   ],
   "source": [
    "plt.figure(figsize=(15,12))\n",
    "seasonal_decompose(bc['Close'], period=364).plot();"
   ]
  },
  {
   "cell_type": "markdown",
   "metadata": {},
   "source": [
    "### ACF and PACF for the Price"
   ]
  },
  {
   "cell_type": "code",
   "execution_count": 10,
   "metadata": {},
   "outputs": [
    {
     "data": {
      "image/png": "[encoded data removed]",
      "text/plain": [
       "<Figure size 1152x576 with 2 Axes>"
      ]
     },
     "metadata": {},
     "output_type": "display_data"
    }
   ],
   "source": [
    "fig, (ax1, ax2) = plt.subplots(2,1,figsize=(16,8))\n",
    "plot_acf(bc['Close'], ax=ax1, lags=50)\n",
    "plot_pacf(bc['Close'], ax=ax2, lags=50)\n",
    "plt.show()"
   ]
  },
  {
   "cell_type": "markdown",
   "metadata": {},
   "source": [
    "### Testing for Stationarity"
   ]
  },
  {
   "cell_type": "code",
   "execution_count": 11,
   "metadata": {
    "papermill": {
     "duration": 0.157482,
     "end_time": "2020-10-02T15:41:10.140142",
     "exception": false,
     "start_time": "2020-10-02T15:41:09.982660",
     "status": "completed"
    },
    "tags": []
   },
   "outputs": [],
   "source": [
    "#ADF"
   ]
  },
  {
   "cell_type": "code",
   "execution_count": 12,
   "metadata": {
    "papermill": {
     "duration": 0.157482,
     "end_time": "2020-10-02T15:41:10.140142",
     "exception": false,
     "start_time": "2020-10-02T15:41:09.982660",
     "status": "completed"
    },
    "tags": []
   },
   "outputs": [],
   "source": [
    "# ADF function (https://www.statsmodels.org/dev/examples/notebooks/generated/stationarity_detrending_adf_kpss.html)\n",
    "def adf_test(timeseries):\n",
    "    print ('Results of Dickey-Fuller Test:')\n",
    "    dftest = adfuller(timeseries, autolag='AIC')\n",
    "    dfoutput = pd.Series(dftest[0:4], index=['Test Statistic','p-value','#Lags Used','Number of Observations Used'])\n",
    "    for key,value in dftest[4].items():\n",
    "       dfoutput['Critical Value (%s)'%key] = value\n",
    "    print (dfoutput)\n",
    "    \n",
    "    if dfoutput['p-value'] > 0.05:\n",
    "        print('Series is not Stationary')\n",
    "    else:\n",
    "        print('Series is Stationary')"
   ]
  },
  {
   "cell_type": "code",
   "execution_count": 13,
   "metadata": {},
   "outputs": [
    {
     "name": "stdout",
     "output_type": "stream",
     "text": [
      "Results of Dickey-Fuller Test:\n",
      "Test Statistic                   -0.103660\n",
      "p-value                           0.949073\n",
      "#Lags Used                       27.000000\n",
      "Number of Observations Used    3749.000000\n",
      "Critical Value (1%)              -3.432095\n",
      "Critical Value (5%)              -2.862311\n",
      "Critical Value (10%)             -2.567181\n",
      "dtype: float64\n",
      "Series is not Stationary\n"
     ]
    }
   ],
   "source": [
    "adf_test(bc['Close'])"
   ]
  },
  {
   "cell_type": "markdown",
   "metadata": {},
   "source": [
    "For the ADF, the null hypothesis is the presence of a unit root, or that the series is non-stationary. Since the p-value is > 0.05, the null hypothesis cannot be rejected. Thus, the series is non-stationary."
   ]
  },
  {
   "cell_type": "code",
   "execution_count": 14,
   "metadata": {},
   "outputs": [],
   "source": [
    "# KPSS\n",
    "def kpss_test(timeseries):\n",
    "    stats, p, lags, critical_values = kpss(timeseries, 'ct')\n",
    "    print(f'Test Statistics : {stats}')\n",
    "    print(f'p-value : {p}')\n",
    "    print(f'Critical Values : {critical_values}')\n",
    "\n",
    "    if p < 0.05:\n",
    "        print('Series is not Stationary')\n",
    "    else:\n",
    "        print('Series is Stationary')"
   ]
  },
  {
   "cell_type": "code",
   "execution_count": 15,
   "metadata": {},
   "outputs": [
    {
     "name": "stdout",
     "output_type": "stream",
     "text": [
      "Test Statistics : 1.459539238271983\n",
      "p-value : 0.01\n",
      "Critical Values : {'10%': 0.119, '5%': 0.146, '2.5%': 0.176, '1%': 0.216}\n",
      "Series is not Stationary\n"
     ]
    },
    {
     "name": "stderr",
     "output_type": "stream",
     "text": [
      "/opt/anaconda3/lib/python3.7/site-packages/statsmodels/tsa/stattools.py:1661: FutureWarning: The behavior of using lags=None will change in the next release. Currently lags=None is the same as lags='legacy', and so a sample-size lag length is used. After the next release, the default will change to be the same as lags='auto' which uses an automatic lag length selection method. To silence this warning, either use 'auto' or 'legacy'\n",
      "  warn(msg, FutureWarning)\n",
      "/opt/anaconda3/lib/python3.7/site-packages/statsmodels/tsa/stattools.py:1685: InterpolationWarning: p-value is smaller than the indicated p-value\n",
      "  warn(\"p-value is smaller than the indicated p-value\", InterpolationWarning)\n"
     ]
    }
   ],
   "source": [
    "kpss_test(bc['Close'])"
   ]
  },
  {
   "cell_type": "markdown",
   "metadata": {},
   "source": [
    "For the KPSS, the null hypothesis is that the series is stationary. Since the p-value is < 0.05, the null hypothesis is rejected. Thus, the series is non-stationary."
   ]
  },
  {
   "cell_type": "markdown",
   "metadata": {},
   "source": [
    "Both tests indicate the data is non-stationary. The data series needs to be detrended."
   ]
  },
  {
   "cell_type": "markdown",
   "metadata": {},
   "source": [
    "### Method #1 - Differencing the Data"
   ]
  },
  {
   "cell_type": "code",
   "execution_count": 16,
   "metadata": {},
   "outputs": [
    {
     "data": {
      "image/png": "[encoded data removed]",
      "text/plain": [
       "<Figure size 864x360 with 1 Axes>"
      ]
     },
     "metadata": {},
     "output_type": "display_data"
    }
   ],
   "source": [
    "# Differencing the price\n",
    "bc_diff = bc['Close'].diff(1).dropna()\n",
    "\n",
    "# Plotting the differences daily\n",
    "bc_diff.plot(figsize=(12,5))\n",
    "plt.title('Plot of the Daily Changes in Price for BTC')\n",
    "plt.ylabel('Change in USD')\n",
    "plt.show()"
   ]
  },
  {
   "cell_type": "markdown",
   "metadata": {},
   "source": [
    "#### Testing for Stationarity"
   ]
  },
  {
   "cell_type": "code",
   "execution_count": 17,
   "metadata": {},
   "outputs": [
    {
     "name": "stdout",
     "output_type": "stream",
     "text": [
      "Results of Dickey-Fuller Test:\n",
      "Test Statistic                -1.103180e+01\n",
      "p-value                        5.643742e-20\n",
      "#Lags Used                     2.600000e+01\n",
      "Number of Observations Used    3.749000e+03\n",
      "Critical Value (1%)           -3.432095e+00\n",
      "Critical Value (5%)           -2.862311e+00\n",
      "Critical Value (10%)          -2.567181e+00\n",
      "dtype: float64\n",
      "Series is Stationary\n"
     ]
    }
   ],
   "source": [
    "adf_test(bc_diff)"
   ]
  },
  {
   "cell_type": "code",
   "execution_count": 18,
   "metadata": {},
   "outputs": [
    {
     "name": "stdout",
     "output_type": "stream",
     "text": [
      "Test Statistics : 0.04074782534681394\n",
      "p-value : 0.1\n",
      "Critical Values : {'10%': 0.119, '5%': 0.146, '2.5%': 0.176, '1%': 0.216}\n",
      "Series is Stationary\n"
     ]
    },
    {
     "name": "stderr",
     "output_type": "stream",
     "text": [
      "/opt/anaconda3/lib/python3.7/site-packages/statsmodels/tsa/stattools.py:1661: FutureWarning: The behavior of using lags=None will change in the next release. Currently lags=None is the same as lags='legacy', and so a sample-size lag length is used. After the next release, the default will change to be the same as lags='auto' which uses an automatic lag length selection method. To silence this warning, either use 'auto' or 'legacy'\n",
      "  warn(msg, FutureWarning)\n",
      "/opt/anaconda3/lib/python3.7/site-packages/statsmodels/tsa/stattools.py:1687: InterpolationWarning: p-value is greater than the indicated p-value\n",
      "  warn(\"p-value is greater than the indicated p-value\", InterpolationWarning)\n"
     ]
    }
   ],
   "source": [
    "# KPSS\n",
    "stats, p, lags, critical_values = kpss(bc_diff, 'ct')\n",
    "\n",
    "print(f'Test Statistics : {stats}')\n",
    "print(f'p-value : {p}')\n",
    "print(f'Critical Values : {critical_values}')\n",
    "\n",
    "if p < 0.05:\n",
    "    print('Series is not Stationary')\n",
    "else:\n",
    "    print('Series is Stationary')"
   ]
  },
  {
   "cell_type": "markdown",
   "metadata": {},
   "source": [
    "#### ACF and PACF for the Differencing"
   ]
  },
  {
   "cell_type": "code",
   "execution_count": 19,
   "metadata": {},
   "outputs": [
    {
     "data": {
      "image/png": "[encoded data removed]",
      "text/plain": [
       "<Figure size 1152x576 with 2 Axes>"
      ]
     },
     "metadata": {},
     "output_type": "display_data"
    }
   ],
   "source": [
    "fig, (ax1, ax2) = plt.subplots(2,1,figsize=(16,8))\n",
    "plot_acf(bc_diff, ax=ax1, lags=50)\n",
    "plot_pacf(bc_diff, ax=ax2, lags=50)\n",
    "plt.show()"
   ]
  },
  {
   "cell_type": "markdown",
   "metadata": {},
   "source": [
    "Appears to be some correlation at day 5 and 10 mostly."
   ]
  },
  {
   "cell_type": "markdown",
   "metadata": {},
   "source": [
    "Differencing makes the data series stationary."
   ]
  },
  {
   "cell_type": "markdown",
   "metadata": {},
   "source": [
    "### Method #2 - Taking the Log then differencing"
   ]
  },
  {
   "cell_type": "code",
   "execution_count": 20,
   "metadata": {},
   "outputs": [],
   "source": [
    "# Converting the data to a logarithmic scale\n",
    "bc_log = pd.DataFrame(np.log(bc['Close']))"
   ]
  },
  {
   "cell_type": "code",
   "execution_count": 21,
   "metadata": {},
   "outputs": [
    {
     "data": {
      "image/png": "[encoded data removed]",
      "text/plain": [
       "<Figure size 1152x576 with 1 Axes>"
      ]
     },
     "metadata": {},
     "output_type": "display_data"
    }
   ],
   "source": [
    "# Plotting the log of the data\n",
    "plt.figure(figsize=(16,8))\n",
    "plt.plot(bc_log)\n",
    "\n",
    "plt.title('Log of BTC')\n",
    "plt.xlabel('Dates')\n",
    "\n",
    "plt.savefig('btc_log.png')\n",
    "plt.show()"
   ]
  },
  {
   "cell_type": "markdown",
   "metadata": {},
   "source": [
    "#### Testing for Stationarity"
   ]
  },
  {
   "cell_type": "code",
   "execution_count": 22,
   "metadata": {},
   "outputs": [
    {
     "name": "stdout",
     "output_type": "stream",
     "text": [
      "Results of Dickey-Fuller Test:\n",
      "Test Statistic                   -2.568111\n",
      "p-value                           0.099769\n",
      "#Lags Used                       23.000000\n",
      "Number of Observations Used    3753.000000\n",
      "Critical Value (1%)              -3.432094\n",
      "Critical Value (5%)              -2.862310\n",
      "Critical Value (10%)             -2.567180\n",
      "dtype: float64\n",
      "Series is not Stationary\n"
     ]
    }
   ],
   "source": [
    "adf_test(bc_log)"
   ]
  },
  {
   "cell_type": "code",
   "execution_count": 23,
   "metadata": {},
   "outputs": [
    {
     "name": "stdout",
     "output_type": "stream",
     "text": [
      "Test Statistics : 1.443777556180776\n",
      "p-value : 0.01\n",
      "Critical Values : {'10%': 0.119, '5%': 0.146, '2.5%': 0.176, '1%': 0.216}\n",
      "Series is not Stationary\n"
     ]
    },
    {
     "name": "stderr",
     "output_type": "stream",
     "text": [
      "/opt/anaconda3/lib/python3.7/site-packages/statsmodels/tsa/stattools.py:1661: FutureWarning: The behavior of using lags=None will change in the next release. Currently lags=None is the same as lags='legacy', and so a sample-size lag length is used. After the next release, the default will change to be the same as lags='auto' which uses an automatic lag length selection method. To silence this warning, either use 'auto' or 'legacy'\n",
      "  warn(msg, FutureWarning)\n",
      "/opt/anaconda3/lib/python3.7/site-packages/statsmodels/tsa/stattools.py:1685: InterpolationWarning: p-value is smaller than the indicated p-value\n",
      "  warn(\"p-value is smaller than the indicated p-value\", InterpolationWarning)\n"
     ]
    }
   ],
   "source": [
    "# KPSS\n",
    "stats, p, lags, critical_values = kpss(bc_log, 'ct')\n",
    "\n",
    "print(f'Test Statistics : {stats}')\n",
    "print(f'p-value : {p}')\n",
    "print(f'Critical Values : {critical_values}')\n",
    "\n",
    "if p < 0.05:\n",
    "    print('Series is not Stationary')\n",
    "else:\n",
    "    print('Series is Stationary')"
   ]
  },
  {
   "cell_type": "markdown",
   "metadata": {},
   "source": [
    "The log(price) does not make the data series stationary."
   ]
  },
  {
   "cell_type": "code",
   "execution_count": 24,
   "metadata": {},
   "outputs": [],
   "source": [
    "# Differencing the log values\n",
    "log_diff = bc_log.diff().dropna()"
   ]
  },
  {
   "cell_type": "code",
   "execution_count": 25,
   "metadata": {},
   "outputs": [
    {
     "data": {
      "image/png": "[encoded data removed]",
      "text/plain": [
       "<Figure size 1152x576 with 1 Axes>"
      ]
     },
     "metadata": {},
     "output_type": "display_data"
    }
   ],
   "source": [
    "# Plotting the daily log difference\n",
    "plt.figure(figsize=(16,8))\n",
    "plt.plot(log_diff)\n",
    "plt.title('Differencing Log')\n",
    "plt.savefig('logdiff.png')\n",
    "plt.show()"
   ]
  },
  {
   "cell_type": "markdown",
   "metadata": {},
   "source": [
    "#### Testing for Stationarity"
   ]
  },
  {
   "cell_type": "code",
   "execution_count": 26,
   "metadata": {},
   "outputs": [
    {
     "name": "stdout",
     "output_type": "stream",
     "text": [
      "Results of Dickey-Fuller Test:\n",
      "Test Statistic                -1.019875e+01\n",
      "p-value                        6.048199e-18\n",
      "#Lags Used                     2.200000e+01\n",
      "Number of Observations Used    3.753000e+03\n",
      "Critical Value (1%)           -3.432094e+00\n",
      "Critical Value (5%)           -2.862310e+00\n",
      "Critical Value (10%)          -2.567180e+00\n",
      "dtype: float64\n",
      "Series is Stationary\n"
     ]
    }
   ],
   "source": [
    "adf_test(log_diff)"
   ]
  },
  {
   "cell_type": "code",
   "execution_count": 27,
   "metadata": {},
   "outputs": [
    {
     "name": "stdout",
     "output_type": "stream",
     "text": [
      "Test Statistics : 0.08351775136239044\n",
      "p-value : 0.1\n",
      "Critical Values : {'10%': 0.119, '5%': 0.146, '2.5%': 0.176, '1%': 0.216}\n",
      "Series is Stationary\n"
     ]
    },
    {
     "name": "stderr",
     "output_type": "stream",
     "text": [
      "/opt/anaconda3/lib/python3.7/site-packages/statsmodels/tsa/stattools.py:1661: FutureWarning: The behavior of using lags=None will change in the next release. Currently lags=None is the same as lags='legacy', and so a sample-size lag length is used. After the next release, the default will change to be the same as lags='auto' which uses an automatic lag length selection method. To silence this warning, either use 'auto' or 'legacy'\n",
      "  warn(msg, FutureWarning)\n",
      "/opt/anaconda3/lib/python3.7/site-packages/statsmodels/tsa/stattools.py:1687: InterpolationWarning: p-value is greater than the indicated p-value\n",
      "  warn(\"p-value is greater than the indicated p-value\", InterpolationWarning)\n"
     ]
    }
   ],
   "source": [
    "# KPSS\n",
    "stats, p, lags, critical_values = kpss(log_diff, 'ct')\n",
    "\n",
    "print(f'Test Statistics : {stats}')\n",
    "print(f'p-value : {p}')\n",
    "print(f'Critical Values : {critical_values}')\n",
    "\n",
    "if p < 0.05:\n",
    "    print('Series is not Stationary')\n",
    "else:\n",
    "    print('Series is Stationary')"
   ]
  },
  {
   "cell_type": "markdown",
   "metadata": {},
   "source": [
    "The results of both tests indicate the log-differenced data series is stationary."
   ]
  },
  {
   "cell_type": "markdown",
   "metadata": {},
   "source": [
    "#### ACF and PACF for the Log Difference"
   ]
  },
  {
   "cell_type": "code",
   "execution_count": 28,
   "metadata": {
    "scrolled": true
   },
   "outputs": [
    {
     "data": {
      "image/png": "[encoded data removed]",
      "text/plain": [
       "<Figure size 1152x576 with 2 Axes>"
      ]
     },
     "metadata": {},
     "output_type": "display_data"
    }
   ],
   "source": [
    "fig, (ax1, ax2) = plt.subplots(2,1,figsize=(16,8))\n",
    "plot_acf(log_diff, ax=ax1, lags=50)\n",
    "plot_pacf(log_diff, ax=ax2, lags=50)\n",
    "plt.savefig('acfpacf.png')\n",
    "plt.show()"
   ]
  },
  {
   "cell_type": "markdown",
   "metadata": {},
   "source": [
    "## Modeling"
   ]
  },
  {
   "cell_type": "markdown",
   "metadata": {},
   "source": [
    "### Hold-out based Validation"
   ]
  },
  {
   "cell_type": "code",
   "execution_count": 29,
   "metadata": {},
   "outputs": [],
   "source": [
    "# Splitting 80/20\n",
    "index = round(len(bc)*.80)\n",
    "\n",
    "train = bc_log.iloc[:index]\n",
    "test = bc_log.iloc[index:]"
   ]
  },
  {
   "cell_type": "markdown",
   "metadata": {},
   "source": [
    "## SARIMA"
   ]
  },
  {
   "cell_type": "markdown",
   "metadata": {},
   "source": [
    "#### Finding the Best Parameters for ARIMA"
   ]
  },
  {
   "cell_type": "code",
   "execution_count": 30,
   "metadata": {},
   "outputs": [],
   "source": [
    "def best_param(model, data, pdq, pdqs):\n",
    "    \"\"\"\n",
    "    Loops through each possible combo for pdq and pdqs\n",
    "    Runs the model for each combo\n",
    "    Retrieves the model with lowest AIC score\n",
    "    \"\"\"\n",
    "    ans = []\n",
    "    for comb in tqdm(pdq):\n",
    "        for combs in tqdm(pdqs):\n",
    "            try:\n",
    "                mod = model(data,\n",
    "                            order=comb,\n",
    "                            seasonal_order=combs,\n",
    "                            enforce_stationarity=False,\n",
    "                            enforce_invertibility=False,\n",
    "                            freq='D',\n",
    "                            suppress_warnings=True)\n",
    "\n",
    "                output = mod.fit()\n",
    "                ans.append([comb, combs, output.aic])\n",
    "            except:\n",
    "                continue\n",
    "\n",
    "    ans_df = pd.DataFrame(ans, columns=['pdq', 'pdqs', 'aic'])\n",
    "    return ans_df.loc[ans_df['aic'].idxmin()]"
   ]
  },
  {
   "cell_type": "code",
   "execution_count": 31,
   "metadata": {},
   "outputs": [],
   "source": [
    "# Assigning variables for p, d, q.\n",
    "p = d = q = range(0,6)\n",
    "d = range(2)\n",
    "\n",
    "# Creating a list of all possible combinations of p, d, and q.\n",
    "pdq = list(itertools.product(p, d, q))\n",
    "\n",
    "# Keeping seasonality at zeroes\n",
    "pdqs = [(0,0,0,0)]"
   ]
  },
  {
   "cell_type": "code",
   "execution_count": 32,
   "metadata": {},
   "outputs": [
    {
     "name": "stderr",
     "output_type": "stream",
     "text": [
      "/opt/anaconda3/lib/python3.7/site-packages/ipykernel_launcher.py:8: TqdmDeprecationWarning: This function will be removed in tqdm==5.0.0\n",
      "Please use `tqdm.notebook.tqdm` instead of `tqdm.tqdm_notebook`\n",
      "  \n"
     ]
    },
    {
     "data": {
      "application/vnd.jupyter.widget-view+json": {
       "model_id": "4254667f89414a059d28bee180497731",
       "version_major": 2,
       "version_minor": 0
      },
      "text/plain": [
       "HBox(children=(FloatProgress(value=0.0, max=72.0), HTML(value='')))"
      ]
     },
     "metadata": {},
     "output_type": "display_data"
    },
    {
     "name": "stderr",
     "output_type": "stream",
     "text": [
      "/opt/anaconda3/lib/python3.7/site-packages/ipykernel_launcher.py:9: TqdmDeprecationWarning: This function will be removed in tqdm==5.0.0\n",
      "Please use `tqdm.notebook.tqdm` instead of `tqdm.tqdm_notebook`\n",
      "  if __name__ == '__main__':\n"
     ]
    },
    {
     "data": {
      "application/vnd.jupyter.widget-view+json": {
       "model_id": "7b67be9430514a8cb9b0b3110bc5c34c",
       "version_major": 2,
       "version_minor": 0
      },
      "text/plain": [
       "HBox(children=(FloatProgress(value=0.0, max=1.0), HTML(value='')))"
      ]
     },
     "metadata": {},
     "output_type": "display_data"
    },
    {
     "name": "stderr",
     "output_type": "stream",
     "text": [
      "/opt/anaconda3/lib/python3.7/site-packages/statsmodels/tsa/base/tsa_model.py:162: ValueWarning: No frequency information was provided, so inferred frequency D will be used.\n",
      "  % freq, ValueWarning)\n"
     ]
    },
    {
     "name": "stdout",
     "output_type": "stream",
     "text": [
      "\n"
     ]
    },
    {
     "data": {
      "application/vnd.jupyter.widget-view+json": {
       "model_id": "a6f81dd6d76946efa2ac4da2093dae17",
       "version_major": 2,
       "version_minor": 0
      },
      "text/plain": [
       "HBox(children=(FloatProgress(value=0.0, max=1.0), HTML(value='')))"
      ]
     },
     "metadata": {},
     "output_type": "display_data"
    },
    {
     "name": "stderr",
     "output_type": "stream",
     "text": [
      "/opt/anaconda3/lib/python3.7/site-packages/statsmodels/tsa/base/tsa_model.py:162: ValueWarning: No frequency information was provided, so inferred frequency D will be used.\n",
      "  % freq, ValueWarning)\n"
     ]
    },
    {
     "name": "stdout",
     "output_type": "stream",
     "text": [
      "\n"
     ]
    },
    {
     "data": {
      "application/vnd.jupyter.widget-view+json": {
       "model_id": "6c8af25d173a4b898e892d85ce570370",
       "version_major": 2,
       "version_minor": 0
      },
      "text/plain": [
       "HBox(children=(FloatProgress(value=0.0, max=1.0), HTML(value='')))"
      ]
     },
     "metadata": {},
     "output_type": "display_data"
    },
    {
     "name": "stderr",
     "output_type": "stream",
     "text": [
      "/opt/anaconda3/lib/python3.7/site-packages/statsmodels/tsa/base/tsa_model.py:162: ValueWarning: No frequency information was provided, so inferred frequency D will be used.\n",
      "  % freq, ValueWarning)\n"
     ]
    },
    {
     "name": "stdout",
     "output_type": "stream",
     "text": [
      "\n"
     ]
    },
    {
     "data": {
      "application/vnd.jupyter.widget-view+json": {
       "model_id": "863818ca04ae4527800b514bb7c46baa",
       "version_major": 2,
       "version_minor": 0
      },
      "text/plain": [
       "HBox(children=(FloatProgress(value=0.0, max=1.0), HTML(value='')))"
      ]
     },
     "metadata": {},
     "output_type": "display_data"
    },
    {
     "name": "stderr",
     "output_type": "stream",
     "text": [
      "/opt/anaconda3/lib/python3.7/site-packages/statsmodels/tsa/base/tsa_model.py:162: ValueWarning: No frequency information was provided, so inferred frequency D will be used.\n",
      "  % freq, ValueWarning)\n"
     ]
    },
    {
     "name": "stdout",
     "output_type": "stream",
     "text": [
      "\n"
     ]
    },
    {
     "data": {
      "application/vnd.jupyter.widget-view+json": {
       "model_id": "801312f780274d14ae055fdf8f7b3930",
       "version_major": 2,
       "version_minor": 0
      },
      "text/plain": [
       "HBox(children=(FloatProgress(value=0.0, max=1.0), HTML(value='')))"
      ]
     },
     "metadata": {},
     "output_type": "display_data"
    },
    {
     "name": "stderr",
     "output_type": "stream",
     "text": [
      "/opt/anaconda3/lib/python3.7/site-packages/statsmodels/tsa/base/tsa_model.py:162: ValueWarning: No frequency information was provided, so inferred frequency D will be used.\n",
      "  % freq, ValueWarning)\n"
     ]
    },
    {
     "name": "stdout",
     "output_type": "stream",
     "text": [
      "\n"
     ]
    },
    {
     "data": {
      "application/vnd.jupyter.widget-view+json": {
       "model_id": "92bd99b112da49fa9ecd0ce67b48c8b0",
       "version_major": 2,
       "version_minor": 0
      },
      "text/plain": [
       "HBox(children=(FloatProgress(value=0.0, max=1.0), HTML(value='')))"
      ]
     },
     "metadata": {},
     "output_type": "display_data"
    },
    {
     "name": "stderr",
     "output_type": "stream",
     "text": [
      "/opt/anaconda3/lib/python3.7/site-packages/statsmodels/tsa/base/tsa_model.py:162: ValueWarning: No frequency information was provided, so inferred frequency D will be used.\n",
      "  % freq, ValueWarning)\n"
     ]
    },
    {
     "name": "stdout",
     "output_type": "stream",
     "text": [
      "\n"
     ]
    },
    {
     "data": {
      "application/vnd.jupyter.widget-view+json": {
       "model_id": "381ab1cffe394352a18f9fa595c61340",
       "version_major": 2,
       "version_minor": 0
      },
      "text/plain": [
       "HBox(children=(FloatProgress(value=0.0, max=1.0), HTML(value='')))"
      ]
     },
     "metadata": {},
     "output_type": "display_data"
    },
    {
     "name": "stdout",
     "output_type": "stream",
     "text": [
      "\n"
     ]
    },
    {
     "name": "stderr",
     "output_type": "stream",
     "text": [
      "/opt/anaconda3/lib/python3.7/site-packages/statsmodels/tsa/base/tsa_model.py:162: ValueWarning: No frequency information was provided, so inferred frequency D will be used.\n",
      "  % freq, ValueWarning)\n"
     ]
    },
    {
     "data": {
      "application/vnd.jupyter.widget-view+json": {
       "model_id": "0680e0dac7b34dc6bfa477d9a738695b",
       "version_major": 2,
       "version_minor": 0
      },
      "text/plain": [
       "HBox(children=(FloatProgress(value=0.0, max=1.0), HTML(value='')))"
      ]
     },
     "metadata": {},
     "output_type": "display_data"
    },
    {
     "name": "stderr",
     "output_type": "stream",
     "text": [
      "/opt/anaconda3/lib/python3.7/site-packages/statsmodels/tsa/base/tsa_model.py:162: ValueWarning: No frequency information was provided, so inferred frequency D will be used.\n",
      "  % freq, ValueWarning)\n"
     ]
    },
    {
     "name": "stdout",
     "output_type": "stream",
     "text": [
      "\n"
     ]
    },
    {
     "data": {
      "application/vnd.jupyter.widget-view+json": {
       "model_id": "6bb10bddb6a546b4917402a6d7b94efc",
       "version_major": 2,
       "version_minor": 0
      },
      "text/plain": [
       "HBox(children=(FloatProgress(value=0.0, max=1.0), HTML(value='')))"
      ]
     },
     "metadata": {},
     "output_type": "display_data"
    },
    {
     "name": "stderr",
     "output_type": "stream",
     "text": [
      "/opt/anaconda3/lib/python3.7/site-packages/statsmodels/tsa/base/tsa_model.py:162: ValueWarning: No frequency information was provided, so inferred frequency D will be used.\n",
      "  % freq, ValueWarning)\n"
     ]
    },
    {
     "name": "stdout",
     "output_type": "stream",
     "text": [
      "\n"
     ]
    },
    {
     "data": {
      "application/vnd.jupyter.widget-view+json": {
       "model_id": "0212a1f4fa5f4bacb49b789c453d4c12",
       "version_major": 2,
       "version_minor": 0
      },
      "text/plain": [
       "HBox(children=(FloatProgress(value=0.0, max=1.0), HTML(value='')))"
      ]
     },
     "metadata": {},
     "output_type": "display_data"
    },
    {
     "name": "stderr",
     "output_type": "stream",
     "text": [
      "/opt/anaconda3/lib/python3.7/site-packages/statsmodels/tsa/base/tsa_model.py:162: ValueWarning: No frequency information was provided, so inferred frequency D will be used.\n",
      "  % freq, ValueWarning)\n"
     ]
    },
    {
     "name": "stdout",
     "output_type": "stream",
     "text": [
      "\n"
     ]
    },
    {
     "data": {
      "application/vnd.jupyter.widget-view+json": {
       "model_id": "f6ecd70d6a334fa19f0ad0b7f86c0c41",
       "version_major": 2,
       "version_minor": 0
      },
      "text/plain": [
       "HBox(children=(FloatProgress(value=0.0, max=1.0), HTML(value='')))"
      ]
     },
     "metadata": {},
     "output_type": "display_data"
    },
    {
     "name": "stderr",
     "output_type": "stream",
     "text": [
      "/opt/anaconda3/lib/python3.7/site-packages/statsmodels/tsa/base/tsa_model.py:162: ValueWarning: No frequency information was provided, so inferred frequency D will be used.\n",
      "  % freq, ValueWarning)\n"
     ]
    },
    {
     "name": "stdout",
     "output_type": "stream",
     "text": [
      "\n"
     ]
    },
    {
     "data": {
      "application/vnd.jupyter.widget-view+json": {
       "model_id": "a5017ee58fb14112919eb59e7eb3f9fe",
       "version_major": 2,
       "version_minor": 0
      },
      "text/plain": [
       "HBox(children=(FloatProgress(value=0.0, max=1.0), HTML(value='')))"
      ]
     },
     "metadata": {},
     "output_type": "display_data"
    },
    {
     "name": "stderr",
     "output_type": "stream",
     "text": [
      "/opt/anaconda3/lib/python3.7/site-packages/statsmodels/tsa/base/tsa_model.py:162: ValueWarning: No frequency information was provided, so inferred frequency D will be used.\n",
      "  % freq, ValueWarning)\n"
     ]
    },
    {
     "name": "stdout",
     "output_type": "stream",
     "text": [
      "\n"
     ]
    },
    {
     "data": {
      "application/vnd.jupyter.widget-view+json": {
       "model_id": "0b8f8068dc8041bda77dbd836e86b135",
       "version_major": 2,
       "version_minor": 0
      },
      "text/plain": [
       "HBox(children=(FloatProgress(value=0.0, max=1.0), HTML(value='')))"
      ]
     },
     "metadata": {},
     "output_type": "display_data"
    },
    {
     "name": "stderr",
     "output_type": "stream",
     "text": [
      "/opt/anaconda3/lib/python3.7/site-packages/statsmodels/tsa/base/tsa_model.py:162: ValueWarning: No frequency information was provided, so inferred frequency D will be used.\n",
      "  % freq, ValueWarning)\n"
     ]
    },
    {
     "name": "stdout",
     "output_type": "stream",
     "text": [
      "\n"
     ]
    },
    {
     "data": {
      "application/vnd.jupyter.widget-view+json": {
       "model_id": "67e89e6de47b4631a613ad1967784e47",
       "version_major": 2,
       "version_minor": 0
      },
      "text/plain": [
       "HBox(children=(FloatProgress(value=0.0, max=1.0), HTML(value='')))"
      ]
     },
     "metadata": {},
     "output_type": "display_data"
    },
    {
     "name": "stderr",
     "output_type": "stream",
     "text": [
      "/opt/anaconda3/lib/python3.7/site-packages/statsmodels/tsa/base/tsa_model.py:162: ValueWarning: No frequency information was provided, so inferred frequency D will be used.\n",
      "  % freq, ValueWarning)\n"
     ]
    },
    {
     "name": "stdout",
     "output_type": "stream",
     "text": [
      "\n"
     ]
    },
    {
     "data": {
      "application/vnd.jupyter.widget-view+json": {
       "model_id": "d2713345ce4f44768edd1a3cc3c4d349",
       "version_major": 2,
       "version_minor": 0
      },
      "text/plain": [
       "HBox(children=(FloatProgress(value=0.0, max=1.0), HTML(value='')))"
      ]
     },
     "metadata": {},
     "output_type": "display_data"
    },
    {
     "name": "stderr",
     "output_type": "stream",
     "text": [
      "/opt/anaconda3/lib/python3.7/site-packages/statsmodels/tsa/base/tsa_model.py:162: ValueWarning: No frequency information was provided, so inferred frequency D will be used.\n",
      "  % freq, ValueWarning)\n"
     ]
    },
    {
     "name": "stdout",
     "output_type": "stream",
     "text": [
      "\n"
     ]
    },
    {
     "data": {
      "application/vnd.jupyter.widget-view+json": {
       "model_id": "d34d0ecad8d7424793d437e7b3fa5652",
       "version_major": 2,
       "version_minor": 0
      },
      "text/plain": [
       "HBox(children=(FloatProgress(value=0.0, max=1.0), HTML(value='')))"
      ]
     },
     "metadata": {},
     "output_type": "display_data"
    },
    {
     "name": "stderr",
     "output_type": "stream",
     "text": [
      "/opt/anaconda3/lib/python3.7/site-packages/statsmodels/tsa/base/tsa_model.py:162: ValueWarning: No frequency information was provided, so inferred frequency D will be used.\n",
      "  % freq, ValueWarning)\n"
     ]
    },
    {
     "name": "stdout",
     "output_type": "stream",
     "text": [
      "\n"
     ]
    },
    {
     "data": {
      "application/vnd.jupyter.widget-view+json": {
       "model_id": "b3d4c6d9dbdb4e959c14b95d00519d10",
       "version_major": 2,
       "version_minor": 0
      },
      "text/plain": [
       "HBox(children=(FloatProgress(value=0.0, max=1.0), HTML(value='')))"
      ]
     },
     "metadata": {},
     "output_type": "display_data"
    },
    {
     "name": "stderr",
     "output_type": "stream",
     "text": [
      "/opt/anaconda3/lib/python3.7/site-packages/statsmodels/tsa/base/tsa_model.py:162: ValueWarning: No frequency information was provided, so inferred frequency D will be used.\n",
      "  % freq, ValueWarning)\n"
     ]
    },
    {
     "name": "stdout",
     "output_type": "stream",
     "text": [
      "\n"
     ]
    },
    {
     "data": {
      "application/vnd.jupyter.widget-view+json": {
       "model_id": "51ddd88b530b464a8a52583a46e78f83",
       "version_major": 2,
       "version_minor": 0
      },
      "text/plain": [
       "HBox(children=(FloatProgress(value=0.0, max=1.0), HTML(value='')))"
      ]
     },
     "metadata": {},
     "output_type": "display_data"
    },
    {
     "name": "stderr",
     "output_type": "stream",
     "text": [
      "/opt/anaconda3/lib/python3.7/site-packages/statsmodels/tsa/base/tsa_model.py:162: ValueWarning: No frequency information was provided, so inferred frequency D will be used.\n",
      "  % freq, ValueWarning)\n"
     ]
    },
    {
     "name": "stdout",
     "output_type": "stream",
     "text": [
      "\n"
     ]
    },
    {
     "data": {
      "application/vnd.jupyter.widget-view+json": {
       "model_id": "001a2f6232a440eb9a4c31f96e058d1e",
       "version_major": 2,
       "version_minor": 0
      },
      "text/plain": [
       "HBox(children=(FloatProgress(value=0.0, max=1.0), HTML(value='')))"
      ]
     },
     "metadata": {},
     "output_type": "display_data"
    },
    {
     "name": "stderr",
     "output_type": "stream",
     "text": [
      "/opt/anaconda3/lib/python3.7/site-packages/statsmodels/tsa/base/tsa_model.py:162: ValueWarning: No frequency information was provided, so inferred frequency D will be used.\n",
      "  % freq, ValueWarning)\n"
     ]
    },
    {
     "name": "stdout",
     "output_type": "stream",
     "text": [
      "\n"
     ]
    },
    {
     "data": {
      "application/vnd.jupyter.widget-view+json": {
       "model_id": "b2e64863b16d4eb398c22e913b7b6429",
       "version_major": 2,
       "version_minor": 0
      },
      "text/plain": [
       "HBox(children=(FloatProgress(value=0.0, max=1.0), HTML(value='')))"
      ]
     },
     "metadata": {},
     "output_type": "display_data"
    },
    {
     "name": "stderr",
     "output_type": "stream",
     "text": [
      "/opt/anaconda3/lib/python3.7/site-packages/statsmodels/tsa/base/tsa_model.py:162: ValueWarning: No frequency information was provided, so inferred frequency D will be used.\n",
      "  % freq, ValueWarning)\n"
     ]
    },
    {
     "name": "stdout",
     "output_type": "stream",
     "text": [
      "\n"
     ]
    },
    {
     "data": {
      "application/vnd.jupyter.widget-view+json": {
       "model_id": "cc1a0ec81a674d269e00726b4f4f00c1",
       "version_major": 2,
       "version_minor": 0
      },
      "text/plain": [
       "HBox(children=(FloatProgress(value=0.0, max=1.0), HTML(value='')))"
      ]
     },
     "metadata": {},
     "output_type": "display_data"
    },
    {
     "name": "stderr",
     "output_type": "stream",
     "text": [
      "/opt/anaconda3/lib/python3.7/site-packages/statsmodels/tsa/base/tsa_model.py:162: ValueWarning: No frequency information was provided, so inferred frequency D will be used.\n",
      "  % freq, ValueWarning)\n"
     ]
    },
    {
     "name": "stdout",
     "output_type": "stream",
     "text": [
      "\n"
     ]
    },
    {
     "data": {
      "application/vnd.jupyter.widget-view+json": {
       "model_id": "870d77f9a74a47109d4d8092f00a0d60",
       "version_major": 2,
       "version_minor": 0
      },
      "text/plain": [
       "HBox(children=(FloatProgress(value=0.0, max=1.0), HTML(value='')))"
      ]
     },
     "metadata": {},
     "output_type": "display_data"
    },
    {
     "name": "stderr",
     "output_type": "stream",
     "text": [
      "/opt/anaconda3/lib/python3.7/site-packages/statsmodels/tsa/base/tsa_model.py:162: ValueWarning: No frequency information was provided, so inferred frequency D will be used.\n",
      "  % freq, ValueWarning)\n"
     ]
    },
    {
     "name": "stdout",
     "output_type": "stream",
     "text": [
      "\n"
     ]
    },
    {
     "data": {
      "application/vnd.jupyter.widget-view+json": {
       "model_id": "807447a973ef4d00bac5880f6812d6c8",
       "version_major": 2,
       "version_minor": 0
      },
      "text/plain": [
       "HBox(children=(FloatProgress(value=0.0, max=1.0), HTML(value='')))"
      ]
     },
     "metadata": {},
     "output_type": "display_data"
    },
    {
     "name": "stderr",
     "output_type": "stream",
     "text": [
      "/opt/anaconda3/lib/python3.7/site-packages/statsmodels/tsa/base/tsa_model.py:162: ValueWarning: No frequency information was provided, so inferred frequency D will be used.\n",
      "  % freq, ValueWarning)\n"
     ]
    },
    {
     "name": "stdout",
     "output_type": "stream",
     "text": [
      "\n"
     ]
    },
    {
     "name": "stderr",
     "output_type": "stream",
     "text": [
      "/opt/anaconda3/lib/python3.7/site-packages/statsmodels/base/model.py:568: ConvergenceWarning: Maximum Likelihood optimization failed to converge. Check mle_retvals\n",
      "  \"Check mle_retvals\", ConvergenceWarning)\n"
     ]
    },
    {
     "data": {
      "application/vnd.jupyter.widget-view+json": {
       "model_id": "ca9c810044bc469bae61ab90e00883fd",
       "version_major": 2,
       "version_minor": 0
      },
      "text/plain": [
       "HBox(children=(FloatProgress(value=0.0, max=1.0), HTML(value='')))"
      ]
     },
     "metadata": {},
     "output_type": "display_data"
    },
    {
     "name": "stderr",
     "output_type": "stream",
     "text": [
      "/opt/anaconda3/lib/python3.7/site-packages/statsmodels/tsa/base/tsa_model.py:162: ValueWarning: No frequency information was provided, so inferred frequency D will be used.\n",
      "  % freq, ValueWarning)\n"
     ]
    },
    {
     "name": "stdout",
     "output_type": "stream",
     "text": [
      "\n"
     ]
    },
    {
     "name": "stderr",
     "output_type": "stream",
     "text": [
      "/opt/anaconda3/lib/python3.7/site-packages/statsmodels/base/model.py:568: ConvergenceWarning: Maximum Likelihood optimization failed to converge. Check mle_retvals\n",
      "  \"Check mle_retvals\", ConvergenceWarning)\n"
     ]
    },
    {
     "data": {
      "application/vnd.jupyter.widget-view+json": {
       "model_id": "c33be0a02e6041cbb9de9d0636a38bc6",
       "version_major": 2,
       "version_minor": 0
      },
      "text/plain": [
       "HBox(children=(FloatProgress(value=0.0, max=1.0), HTML(value='')))"
      ]
     },
     "metadata": {},
     "output_type": "display_data"
    },
    {
     "name": "stderr",
     "output_type": "stream",
     "text": [
      "/opt/anaconda3/lib/python3.7/site-packages/statsmodels/tsa/base/tsa_model.py:162: ValueWarning: No frequency information was provided, so inferred frequency D will be used.\n",
      "  % freq, ValueWarning)\n"
     ]
    },
    {
     "name": "stdout",
     "output_type": "stream",
     "text": [
      "\n"
     ]
    },
    {
     "data": {
      "application/vnd.jupyter.widget-view+json": {
       "model_id": "2c1cd8e6ec2149f2a81b0963f1c545cd",
       "version_major": 2,
       "version_minor": 0
      },
      "text/plain": [
       "HBox(children=(FloatProgress(value=0.0, max=1.0), HTML(value='')))"
      ]
     },
     "metadata": {},
     "output_type": "display_data"
    },
    {
     "name": "stderr",
     "output_type": "stream",
     "text": [
      "/opt/anaconda3/lib/python3.7/site-packages/statsmodels/tsa/base/tsa_model.py:162: ValueWarning: No frequency information was provided, so inferred frequency D will be used.\n",
      "  % freq, ValueWarning)\n"
     ]
    },
    {
     "name": "stdout",
     "output_type": "stream",
     "text": [
      "\n"
     ]
    },
    {
     "name": "stderr",
     "output_type": "stream",
     "text": [
      "/opt/anaconda3/lib/python3.7/site-packages/statsmodels/base/model.py:568: ConvergenceWarning: Maximum Likelihood optimization failed to converge. Check mle_retvals\n",
      "  \"Check mle_retvals\", ConvergenceWarning)\n"
     ]
    },
    {
     "data": {
      "application/vnd.jupyter.widget-view+json": {
       "model_id": "b9a437f02cde40d5bd8e95aa96dc7381",
       "version_major": 2,
       "version_minor": 0
      },
      "text/plain": [
       "HBox(children=(FloatProgress(value=0.0, max=1.0), HTML(value='')))"
      ]
     },
     "metadata": {},
     "output_type": "display_data"
    },
    {
     "name": "stderr",
     "output_type": "stream",
     "text": [
      "/opt/anaconda3/lib/python3.7/site-packages/statsmodels/tsa/base/tsa_model.py:162: ValueWarning: No frequency information was provided, so inferred frequency D will be used.\n",
      "  % freq, ValueWarning)\n"
     ]
    },
    {
     "name": "stdout",
     "output_type": "stream",
     "text": [
      "\n"
     ]
    },
    {
     "data": {
      "application/vnd.jupyter.widget-view+json": {
       "model_id": "5263efa4c3a048d98dbd64038622d363",
       "version_major": 2,
       "version_minor": 0
      },
      "text/plain": [
       "HBox(children=(FloatProgress(value=0.0, max=1.0), HTML(value='')))"
      ]
     },
     "metadata": {},
     "output_type": "display_data"
    },
    {
     "name": "stderr",
     "output_type": "stream",
     "text": [
      "/opt/anaconda3/lib/python3.7/site-packages/statsmodels/tsa/base/tsa_model.py:162: ValueWarning: No frequency information was provided, so inferred frequency D will be used.\n",
      "  % freq, ValueWarning)\n"
     ]
    },
    {
     "name": "stdout",
     "output_type": "stream",
     "text": [
      "\n"
     ]
    },
    {
     "name": "stderr",
     "output_type": "stream",
     "text": [
      "/opt/anaconda3/lib/python3.7/site-packages/statsmodels/base/model.py:568: ConvergenceWarning: Maximum Likelihood optimization failed to converge. Check mle_retvals\n",
      "  \"Check mle_retvals\", ConvergenceWarning)\n"
     ]
    },
    {
     "data": {
      "application/vnd.jupyter.widget-view+json": {
       "model_id": "adedcc257e934f6e8fb5ead59b40691c",
       "version_major": 2,
       "version_minor": 0
      },
      "text/plain": [
       "HBox(children=(FloatProgress(value=0.0, max=1.0), HTML(value='')))"
      ]
     },
     "metadata": {},
     "output_type": "display_data"
    },
    {
     "name": "stderr",
     "output_type": "stream",
     "text": [
      "/opt/anaconda3/lib/python3.7/site-packages/statsmodels/tsa/base/tsa_model.py:162: ValueWarning: No frequency information was provided, so inferred frequency D will be used.\n",
      "  % freq, ValueWarning)\n"
     ]
    },
    {
     "name": "stdout",
     "output_type": "stream",
     "text": [
      "\n"
     ]
    },
    {
     "data": {
      "application/vnd.jupyter.widget-view+json": {
       "model_id": "be9944eb1b4d42548fc42d3379dd1ae2",
       "version_major": 2,
       "version_minor": 0
      },
      "text/plain": [
       "HBox(children=(FloatProgress(value=0.0, max=1.0), HTML(value='')))"
      ]
     },
     "metadata": {},
     "output_type": "display_data"
    },
    {
     "name": "stderr",
     "output_type": "stream",
     "text": [
      "/opt/anaconda3/lib/python3.7/site-packages/statsmodels/tsa/base/tsa_model.py:162: ValueWarning: No frequency information was provided, so inferred frequency D will be used.\n",
      "  % freq, ValueWarning)\n"
     ]
    },
    {
     "name": "stdout",
     "output_type": "stream",
     "text": [
      "\n"
     ]
    },
    {
     "data": {
      "application/vnd.jupyter.widget-view+json": {
       "model_id": "9e355245c9694a409142489efad9831e",
       "version_major": 2,
       "version_minor": 0
      },
      "text/plain": [
       "HBox(children=(FloatProgress(value=0.0, max=1.0), HTML(value='')))"
      ]
     },
     "metadata": {},
     "output_type": "display_data"
    },
    {
     "name": "stderr",
     "output_type": "stream",
     "text": [
      "/opt/anaconda3/lib/python3.7/site-packages/statsmodels/tsa/base/tsa_model.py:162: ValueWarning: No frequency information was provided, so inferred frequency D will be used.\n",
      "  % freq, ValueWarning)\n"
     ]
    },
    {
     "name": "stdout",
     "output_type": "stream",
     "text": [
      "\n"
     ]
    },
    {
     "data": {
      "application/vnd.jupyter.widget-view+json": {
       "model_id": "38aec67c09c94d009005b7edd3415a8e",
       "version_major": 2,
       "version_minor": 0
      },
      "text/plain": [
       "HBox(children=(FloatProgress(value=0.0, max=1.0), HTML(value='')))"
      ]
     },
     "metadata": {},
     "output_type": "display_data"
    },
    {
     "name": "stderr",
     "output_type": "stream",
     "text": [
      "/opt/anaconda3/lib/python3.7/site-packages/statsmodels/tsa/base/tsa_model.py:162: ValueWarning: No frequency information was provided, so inferred frequency D will be used.\n",
      "  % freq, ValueWarning)\n"
     ]
    },
    {
     "name": "stdout",
     "output_type": "stream",
     "text": [
      "\n"
     ]
    },
    {
     "data": {
      "application/vnd.jupyter.widget-view+json": {
       "model_id": "20163e908ce74b1aa1ac8a71eba25b24",
       "version_major": 2,
       "version_minor": 0
      },
      "text/plain": [
       "HBox(children=(FloatProgress(value=0.0, max=1.0), HTML(value='')))"
      ]
     },
     "metadata": {},
     "output_type": "display_data"
    },
    {
     "name": "stderr",
     "output_type": "stream",
     "text": [
      "/opt/anaconda3/lib/python3.7/site-packages/statsmodels/tsa/base/tsa_model.py:162: ValueWarning: No frequency information was provided, so inferred frequency D will be used.\n",
      "  % freq, ValueWarning)\n"
     ]
    },
    {
     "name": "stdout",
     "output_type": "stream",
     "text": [
      "\n"
     ]
    },
    {
     "name": "stderr",
     "output_type": "stream",
     "text": [
      "/opt/anaconda3/lib/python3.7/site-packages/statsmodels/base/model.py:568: ConvergenceWarning: Maximum Likelihood optimization failed to converge. Check mle_retvals\n",
      "  \"Check mle_retvals\", ConvergenceWarning)\n"
     ]
    },
    {
     "data": {
      "application/vnd.jupyter.widget-view+json": {
       "model_id": "f67728ccd32d4073aa6fe6c00eda8c61",
       "version_major": 2,
       "version_minor": 0
      },
      "text/plain": [
       "HBox(children=(FloatProgress(value=0.0, max=1.0), HTML(value='')))"
      ]
     },
     "metadata": {},
     "output_type": "display_data"
    },
    {
     "name": "stderr",
     "output_type": "stream",
     "text": [
      "/opt/anaconda3/lib/python3.7/site-packages/statsmodels/tsa/base/tsa_model.py:162: ValueWarning: No frequency information was provided, so inferred frequency D will be used.\n",
      "  % freq, ValueWarning)\n"
     ]
    },
    {
     "name": "stdout",
     "output_type": "stream",
     "text": [
      "\n"
     ]
    },
    {
     "name": "stderr",
     "output_type": "stream",
     "text": [
      "/opt/anaconda3/lib/python3.7/site-packages/statsmodels/base/model.py:568: ConvergenceWarning: Maximum Likelihood optimization failed to converge. Check mle_retvals\n",
      "  \"Check mle_retvals\", ConvergenceWarning)\n"
     ]
    },
    {
     "data": {
      "application/vnd.jupyter.widget-view+json": {
       "model_id": "e192b691267d4e128b421da1eeee28a2",
       "version_major": 2,
       "version_minor": 0
      },
      "text/plain": [
       "HBox(children=(FloatProgress(value=0.0, max=1.0), HTML(value='')))"
      ]
     },
     "metadata": {},
     "output_type": "display_data"
    },
    {
     "name": "stderr",
     "output_type": "stream",
     "text": [
      "/opt/anaconda3/lib/python3.7/site-packages/statsmodels/tsa/base/tsa_model.py:162: ValueWarning: No frequency information was provided, so inferred frequency D will be used.\n",
      "  % freq, ValueWarning)\n"
     ]
    },
    {
     "name": "stdout",
     "output_type": "stream",
     "text": [
      "\n"
     ]
    },
    {
     "name": "stderr",
     "output_type": "stream",
     "text": [
      "/opt/anaconda3/lib/python3.7/site-packages/statsmodels/base/model.py:568: ConvergenceWarning: Maximum Likelihood optimization failed to converge. Check mle_retvals\n",
      "  \"Check mle_retvals\", ConvergenceWarning)\n"
     ]
    },
    {
     "data": {
      "application/vnd.jupyter.widget-view+json": {
       "model_id": "ef071006da1d43899de97767fac8a583",
       "version_major": 2,
       "version_minor": 0
      },
      "text/plain": [
       "HBox(children=(FloatProgress(value=0.0, max=1.0), HTML(value='')))"
      ]
     },
     "metadata": {},
     "output_type": "display_data"
    },
    {
     "name": "stderr",
     "output_type": "stream",
     "text": [
      "/opt/anaconda3/lib/python3.7/site-packages/statsmodels/tsa/base/tsa_model.py:162: ValueWarning: No frequency information was provided, so inferred frequency D will be used.\n",
      "  % freq, ValueWarning)\n"
     ]
    },
    {
     "name": "stdout",
     "output_type": "stream",
     "text": [
      "\n"
     ]
    },
    {
     "name": "stderr",
     "output_type": "stream",
     "text": [
      "/opt/anaconda3/lib/python3.7/site-packages/statsmodels/base/model.py:568: ConvergenceWarning: Maximum Likelihood optimization failed to converge. Check mle_retvals\n",
      "  \"Check mle_retvals\", ConvergenceWarning)\n"
     ]
    },
    {
     "data": {
      "application/vnd.jupyter.widget-view+json": {
       "model_id": "f4790ecca3af4b61816a55ccda21eaa1",
       "version_major": 2,
       "version_minor": 0
      },
      "text/plain": [
       "HBox(children=(FloatProgress(value=0.0, max=1.0), HTML(value='')))"
      ]
     },
     "metadata": {},
     "output_type": "display_data"
    },
    {
     "name": "stderr",
     "output_type": "stream",
     "text": [
      "/opt/anaconda3/lib/python3.7/site-packages/statsmodels/tsa/base/tsa_model.py:162: ValueWarning: No frequency information was provided, so inferred frequency D will be used.\n",
      "  % freq, ValueWarning)\n"
     ]
    },
    {
     "name": "stdout",
     "output_type": "stream",
     "text": [
      "\n"
     ]
    },
    {
     "data": {
      "application/vnd.jupyter.widget-view+json": {
       "model_id": "8a71e7c13d9c424e987fa881e776c2b0",
       "version_major": 2,
       "version_minor": 0
      },
      "text/plain": [
       "HBox(children=(FloatProgress(value=0.0, max=1.0), HTML(value='')))"
      ]
     },
     "metadata": {},
     "output_type": "display_data"
    },
    {
     "name": "stderr",
     "output_type": "stream",
     "text": [
      "/opt/anaconda3/lib/python3.7/site-packages/statsmodels/tsa/base/tsa_model.py:162: ValueWarning: No frequency information was provided, so inferred frequency D will be used.\n",
      "  % freq, ValueWarning)\n"
     ]
    },
    {
     "name": "stdout",
     "output_type": "stream",
     "text": [
      "\n"
     ]
    },
    {
     "name": "stderr",
     "output_type": "stream",
     "text": [
      "/opt/anaconda3/lib/python3.7/site-packages/statsmodels/base/model.py:568: ConvergenceWarning: Maximum Likelihood optimization failed to converge. Check mle_retvals\n",
      "  \"Check mle_retvals\", ConvergenceWarning)\n"
     ]
    },
    {
     "data": {
      "application/vnd.jupyter.widget-view+json": {
       "model_id": "b9897567a6dc4db0aff70c3d283ab78f",
       "version_major": 2,
       "version_minor": 0
      },
      "text/plain": [
       "HBox(children=(FloatProgress(value=0.0, max=1.0), HTML(value='')))"
      ]
     },
     "metadata": {},
     "output_type": "display_data"
    },
    {
     "name": "stderr",
     "output_type": "stream",
     "text": [
      "/opt/anaconda3/lib/python3.7/site-packages/statsmodels/tsa/base/tsa_model.py:162: ValueWarning: No frequency information was provided, so inferred frequency D will be used.\n",
      "  % freq, ValueWarning)\n"
     ]
    },
    {
     "name": "stdout",
     "output_type": "stream",
     "text": [
      "\n"
     ]
    },
    {
     "name": "stderr",
     "output_type": "stream",
     "text": [
      "/opt/anaconda3/lib/python3.7/site-packages/statsmodels/base/model.py:568: ConvergenceWarning: Maximum Likelihood optimization failed to converge. Check mle_retvals\n",
      "  \"Check mle_retvals\", ConvergenceWarning)\n"
     ]
    },
    {
     "data": {
      "application/vnd.jupyter.widget-view+json": {
       "model_id": "dedc4c44d2cf4f6c9394e18843d7711c",
       "version_major": 2,
       "version_minor": 0
      },
      "text/plain": [
       "HBox(children=(FloatProgress(value=0.0, max=1.0), HTML(value='')))"
      ]
     },
     "metadata": {},
     "output_type": "display_data"
    },
    {
     "name": "stderr",
     "output_type": "stream",
     "text": [
      "/opt/anaconda3/lib/python3.7/site-packages/statsmodels/tsa/base/tsa_model.py:162: ValueWarning: No frequency information was provided, so inferred frequency D will be used.\n",
      "  % freq, ValueWarning)\n"
     ]
    },
    {
     "name": "stdout",
     "output_type": "stream",
     "text": [
      "\n"
     ]
    },
    {
     "data": {
      "application/vnd.jupyter.widget-view+json": {
       "model_id": "40259165fb7e41079c6a3e26e73f13ab",
       "version_major": 2,
       "version_minor": 0
      },
      "text/plain": [
       "HBox(children=(FloatProgress(value=0.0, max=1.0), HTML(value='')))"
      ]
     },
     "metadata": {},
     "output_type": "display_data"
    },
    {
     "name": "stderr",
     "output_type": "stream",
     "text": [
      "/opt/anaconda3/lib/python3.7/site-packages/statsmodels/tsa/base/tsa_model.py:162: ValueWarning: No frequency information was provided, so inferred frequency D will be used.\n",
      "  % freq, ValueWarning)\n"
     ]
    },
    {
     "name": "stdout",
     "output_type": "stream",
     "text": [
      "\n"
     ]
    },
    {
     "data": {
      "application/vnd.jupyter.widget-view+json": {
       "model_id": "ed89b0c90b3f4ad2b021d55447c80d98",
       "version_major": 2,
       "version_minor": 0
      },
      "text/plain": [
       "HBox(children=(FloatProgress(value=0.0, max=1.0), HTML(value='')))"
      ]
     },
     "metadata": {},
     "output_type": "display_data"
    },
    {
     "name": "stderr",
     "output_type": "stream",
     "text": [
      "/opt/anaconda3/lib/python3.7/site-packages/statsmodels/tsa/base/tsa_model.py:162: ValueWarning: No frequency information was provided, so inferred frequency D will be used.\n",
      "  % freq, ValueWarning)\n"
     ]
    },
    {
     "name": "stdout",
     "output_type": "stream",
     "text": [
      "\n"
     ]
    },
    {
     "data": {
      "application/vnd.jupyter.widget-view+json": {
       "model_id": "eb40277adccb42a4a2cc492f6eadc9d9",
       "version_major": 2,
       "version_minor": 0
      },
      "text/plain": [
       "HBox(children=(FloatProgress(value=0.0, max=1.0), HTML(value='')))"
      ]
     },
     "metadata": {},
     "output_type": "display_data"
    },
    {
     "name": "stderr",
     "output_type": "stream",
     "text": [
      "/opt/anaconda3/lib/python3.7/site-packages/statsmodels/tsa/base/tsa_model.py:162: ValueWarning: No frequency information was provided, so inferred frequency D will be used.\n",
      "  % freq, ValueWarning)\n"
     ]
    },
    {
     "name": "stdout",
     "output_type": "stream",
     "text": [
      "\n"
     ]
    },
    {
     "data": {
      "application/vnd.jupyter.widget-view+json": {
       "model_id": "56bddaf7b56045d5aae35048e264c3b0",
       "version_major": 2,
       "version_minor": 0
      },
      "text/plain": [
       "HBox(children=(FloatProgress(value=0.0, max=1.0), HTML(value='')))"
      ]
     },
     "metadata": {},
     "output_type": "display_data"
    },
    {
     "name": "stderr",
     "output_type": "stream",
     "text": [
      "/opt/anaconda3/lib/python3.7/site-packages/statsmodels/tsa/base/tsa_model.py:162: ValueWarning: No frequency information was provided, so inferred frequency D will be used.\n",
      "  % freq, ValueWarning)\n"
     ]
    },
    {
     "name": "stdout",
     "output_type": "stream",
     "text": [
      "\n"
     ]
    },
    {
     "data": {
      "application/vnd.jupyter.widget-view+json": {
       "model_id": "33c95f95c0dd48a2a2eafdd0b16abc7f",
       "version_major": 2,
       "version_minor": 0
      },
      "text/plain": [
       "HBox(children=(FloatProgress(value=0.0, max=1.0), HTML(value='')))"
      ]
     },
     "metadata": {},
     "output_type": "display_data"
    },
    {
     "name": "stderr",
     "output_type": "stream",
     "text": [
      "/opt/anaconda3/lib/python3.7/site-packages/statsmodels/tsa/base/tsa_model.py:162: ValueWarning: No frequency information was provided, so inferred frequency D will be used.\n",
      "  % freq, ValueWarning)\n"
     ]
    },
    {
     "name": "stdout",
     "output_type": "stream",
     "text": [
      "\n"
     ]
    },
    {
     "data": {
      "application/vnd.jupyter.widget-view+json": {
       "model_id": "294c4d3cb597479f83ff92113d707e0d",
       "version_major": 2,
       "version_minor": 0
      },
      "text/plain": [
       "HBox(children=(FloatProgress(value=0.0, max=1.0), HTML(value='')))"
      ]
     },
     "metadata": {},
     "output_type": "display_data"
    },
    {
     "name": "stderr",
     "output_type": "stream",
     "text": [
      "/opt/anaconda3/lib/python3.7/site-packages/statsmodels/tsa/base/tsa_model.py:162: ValueWarning: No frequency information was provided, so inferred frequency D will be used.\n",
      "  % freq, ValueWarning)\n"
     ]
    },
    {
     "name": "stdout",
     "output_type": "stream",
     "text": [
      "\n"
     ]
    },
    {
     "name": "stderr",
     "output_type": "stream",
     "text": [
      "/opt/anaconda3/lib/python3.7/site-packages/statsmodels/base/model.py:568: ConvergenceWarning: Maximum Likelihood optimization failed to converge. Check mle_retvals\n",
      "  \"Check mle_retvals\", ConvergenceWarning)\n"
     ]
    },
    {
     "data": {
      "application/vnd.jupyter.widget-view+json": {
       "model_id": "361da4064c5f4633bfbae7fe6e686982",
       "version_major": 2,
       "version_minor": 0
      },
      "text/plain": [
       "HBox(children=(FloatProgress(value=0.0, max=1.0), HTML(value='')))"
      ]
     },
     "metadata": {},
     "output_type": "display_data"
    },
    {
     "name": "stderr",
     "output_type": "stream",
     "text": [
      "/opt/anaconda3/lib/python3.7/site-packages/statsmodels/tsa/base/tsa_model.py:162: ValueWarning: No frequency information was provided, so inferred frequency D will be used.\n",
      "  % freq, ValueWarning)\n"
     ]
    },
    {
     "name": "stdout",
     "output_type": "stream",
     "text": [
      "\n"
     ]
    },
    {
     "name": "stderr",
     "output_type": "stream",
     "text": [
      "/opt/anaconda3/lib/python3.7/site-packages/statsmodels/base/model.py:568: ConvergenceWarning: Maximum Likelihood optimization failed to converge. Check mle_retvals\n",
      "  \"Check mle_retvals\", ConvergenceWarning)\n"
     ]
    },
    {
     "data": {
      "application/vnd.jupyter.widget-view+json": {
       "model_id": "c03b2dce74974109888df28c29719c34",
       "version_major": 2,
       "version_minor": 0
      },
      "text/plain": [
       "HBox(children=(FloatProgress(value=0.0, max=1.0), HTML(value='')))"
      ]
     },
     "metadata": {},
     "output_type": "display_data"
    },
    {
     "name": "stderr",
     "output_type": "stream",
     "text": [
      "/opt/anaconda3/lib/python3.7/site-packages/statsmodels/tsa/base/tsa_model.py:162: ValueWarning: No frequency information was provided, so inferred frequency D will be used.\n",
      "  % freq, ValueWarning)\n"
     ]
    },
    {
     "name": "stdout",
     "output_type": "stream",
     "text": [
      "\n"
     ]
    },
    {
     "name": "stderr",
     "output_type": "stream",
     "text": [
      "/opt/anaconda3/lib/python3.7/site-packages/statsmodels/base/model.py:568: ConvergenceWarning: Maximum Likelihood optimization failed to converge. Check mle_retvals\n",
      "  \"Check mle_retvals\", ConvergenceWarning)\n"
     ]
    },
    {
     "data": {
      "application/vnd.jupyter.widget-view+json": {
       "model_id": "dc8b0154c2b34a9b9a83637349fabf8b",
       "version_major": 2,
       "version_minor": 0
      },
      "text/plain": [
       "HBox(children=(FloatProgress(value=0.0, max=1.0), HTML(value='')))"
      ]
     },
     "metadata": {},
     "output_type": "display_data"
    },
    {
     "name": "stderr",
     "output_type": "stream",
     "text": [
      "/opt/anaconda3/lib/python3.7/site-packages/statsmodels/tsa/base/tsa_model.py:162: ValueWarning: No frequency information was provided, so inferred frequency D will be used.\n",
      "  % freq, ValueWarning)\n"
     ]
    },
    {
     "name": "stdout",
     "output_type": "stream",
     "text": [
      "\n"
     ]
    },
    {
     "name": "stderr",
     "output_type": "stream",
     "text": [
      "/opt/anaconda3/lib/python3.7/site-packages/statsmodels/base/model.py:568: ConvergenceWarning: Maximum Likelihood optimization failed to converge. Check mle_retvals\n",
      "  \"Check mle_retvals\", ConvergenceWarning)\n"
     ]
    },
    {
     "data": {
      "application/vnd.jupyter.widget-view+json": {
       "model_id": "03aa4a3819a44ded86be7439f3bbe726",
       "version_major": 2,
       "version_minor": 0
      },
      "text/plain": [
       "HBox(children=(FloatProgress(value=0.0, max=1.0), HTML(value='')))"
      ]
     },
     "metadata": {},
     "output_type": "display_data"
    },
    {
     "name": "stderr",
     "output_type": "stream",
     "text": [
      "/opt/anaconda3/lib/python3.7/site-packages/statsmodels/tsa/base/tsa_model.py:162: ValueWarning: No frequency information was provided, so inferred frequency D will be used.\n",
      "  % freq, ValueWarning)\n"
     ]
    },
    {
     "name": "stdout",
     "output_type": "stream",
     "text": [
      "\n"
     ]
    },
    {
     "data": {
      "application/vnd.jupyter.widget-view+json": {
       "model_id": "b0195b66682d4cc3ac388942a9cc6a1c",
       "version_major": 2,
       "version_minor": 0
      },
      "text/plain": [
       "HBox(children=(FloatProgress(value=0.0, max=1.0), HTML(value='')))"
      ]
     },
     "metadata": {},
     "output_type": "display_data"
    },
    {
     "name": "stderr",
     "output_type": "stream",
     "text": [
      "/opt/anaconda3/lib/python3.7/site-packages/statsmodels/tsa/base/tsa_model.py:162: ValueWarning: No frequency information was provided, so inferred frequency D will be used.\n",
      "  % freq, ValueWarning)\n"
     ]
    },
    {
     "name": "stdout",
     "output_type": "stream",
     "text": [
      "\n"
     ]
    },
    {
     "name": "stderr",
     "output_type": "stream",
     "text": [
      "/opt/anaconda3/lib/python3.7/site-packages/statsmodels/base/model.py:568: ConvergenceWarning: Maximum Likelihood optimization failed to converge. Check mle_retvals\n",
      "  \"Check mle_retvals\", ConvergenceWarning)\n"
     ]
    },
    {
     "data": {
      "application/vnd.jupyter.widget-view+json": {
       "model_id": "8fe7941b211e48cfbb09d7504be29b8c",
       "version_major": 2,
       "version_minor": 0
      },
      "text/plain": [
       "HBox(children=(FloatProgress(value=0.0, max=1.0), HTML(value='')))"
      ]
     },
     "metadata": {},
     "output_type": "display_data"
    },
    {
     "name": "stderr",
     "output_type": "stream",
     "text": [
      "/opt/anaconda3/lib/python3.7/site-packages/statsmodels/tsa/base/tsa_model.py:162: ValueWarning: No frequency information was provided, so inferred frequency D will be used.\n",
      "  % freq, ValueWarning)\n"
     ]
    },
    {
     "name": "stdout",
     "output_type": "stream",
     "text": [
      "\n"
     ]
    },
    {
     "data": {
      "application/vnd.jupyter.widget-view+json": {
       "model_id": "ec2f0b500c0c4f76b2cb8ffb1309cdd4",
       "version_major": 2,
       "version_minor": 0
      },
      "text/plain": [
       "HBox(children=(FloatProgress(value=0.0, max=1.0), HTML(value='')))"
      ]
     },
     "metadata": {},
     "output_type": "display_data"
    },
    {
     "name": "stderr",
     "output_type": "stream",
     "text": [
      "/opt/anaconda3/lib/python3.7/site-packages/statsmodels/tsa/base/tsa_model.py:162: ValueWarning: No frequency information was provided, so inferred frequency D will be used.\n",
      "  % freq, ValueWarning)\n"
     ]
    },
    {
     "name": "stdout",
     "output_type": "stream",
     "text": [
      "\n"
     ]
    },
    {
     "name": "stderr",
     "output_type": "stream",
     "text": [
      "/opt/anaconda3/lib/python3.7/site-packages/statsmodels/base/model.py:568: ConvergenceWarning: Maximum Likelihood optimization failed to converge. Check mle_retvals\n",
      "  \"Check mle_retvals\", ConvergenceWarning)\n"
     ]
    },
    {
     "data": {
      "application/vnd.jupyter.widget-view+json": {
       "model_id": "8b109a756790426aaaaea0b3e9ba993a",
       "version_major": 2,
       "version_minor": 0
      },
      "text/plain": [
       "HBox(children=(FloatProgress(value=0.0, max=1.0), HTML(value='')))"
      ]
     },
     "metadata": {},
     "output_type": "display_data"
    },
    {
     "name": "stderr",
     "output_type": "stream",
     "text": [
      "/opt/anaconda3/lib/python3.7/site-packages/statsmodels/tsa/base/tsa_model.py:162: ValueWarning: No frequency information was provided, so inferred frequency D will be used.\n",
      "  % freq, ValueWarning)\n"
     ]
    },
    {
     "name": "stdout",
     "output_type": "stream",
     "text": [
      "\n"
     ]
    },
    {
     "data": {
      "application/vnd.jupyter.widget-view+json": {
       "model_id": "8f45ffdc18eb4068ae81f01d0d600285",
       "version_major": 2,
       "version_minor": 0
      },
      "text/plain": [
       "HBox(children=(FloatProgress(value=0.0, max=1.0), HTML(value='')))"
      ]
     },
     "metadata": {},
     "output_type": "display_data"
    },
    {
     "name": "stderr",
     "output_type": "stream",
     "text": [
      "/opt/anaconda3/lib/python3.7/site-packages/statsmodels/tsa/base/tsa_model.py:162: ValueWarning: No frequency information was provided, so inferred frequency D will be used.\n",
      "  % freq, ValueWarning)\n"
     ]
    },
    {
     "name": "stdout",
     "output_type": "stream",
     "text": [
      "\n"
     ]
    },
    {
     "data": {
      "application/vnd.jupyter.widget-view+json": {
       "model_id": "70011922c13c4a76b2bbad44944576cd",
       "version_major": 2,
       "version_minor": 0
      },
      "text/plain": [
       "HBox(children=(FloatProgress(value=0.0, max=1.0), HTML(value='')))"
      ]
     },
     "metadata": {},
     "output_type": "display_data"
    },
    {
     "name": "stderr",
     "output_type": "stream",
     "text": [
      "/opt/anaconda3/lib/python3.7/site-packages/statsmodels/tsa/base/tsa_model.py:162: ValueWarning: No frequency information was provided, so inferred frequency D will be used.\n",
      "  % freq, ValueWarning)\n"
     ]
    },
    {
     "name": "stdout",
     "output_type": "stream",
     "text": [
      "\n"
     ]
    },
    {
     "data": {
      "application/vnd.jupyter.widget-view+json": {
       "model_id": "ae41a24af1bb425c9d22ab1b8b51ef8f",
       "version_major": 2,
       "version_minor": 0
      },
      "text/plain": [
       "HBox(children=(FloatProgress(value=0.0, max=1.0), HTML(value='')))"
      ]
     },
     "metadata": {},
     "output_type": "display_data"
    },
    {
     "name": "stderr",
     "output_type": "stream",
     "text": [
      "/opt/anaconda3/lib/python3.7/site-packages/statsmodels/tsa/base/tsa_model.py:162: ValueWarning: No frequency information was provided, so inferred frequency D will be used.\n",
      "  % freq, ValueWarning)\n"
     ]
    },
    {
     "name": "stdout",
     "output_type": "stream",
     "text": [
      "\n"
     ]
    },
    {
     "name": "stderr",
     "output_type": "stream",
     "text": [
      "/opt/anaconda3/lib/python3.7/site-packages/statsmodels/base/model.py:568: ConvergenceWarning: Maximum Likelihood optimization failed to converge. Check mle_retvals\n",
      "  \"Check mle_retvals\", ConvergenceWarning)\n"
     ]
    },
    {
     "data": {
      "application/vnd.jupyter.widget-view+json": {
       "model_id": "cc4b52a6af0c47e38f378e8f44e722a1",
       "version_major": 2,
       "version_minor": 0
      },
      "text/plain": [
       "HBox(children=(FloatProgress(value=0.0, max=1.0), HTML(value='')))"
      ]
     },
     "metadata": {},
     "output_type": "display_data"
    },
    {
     "name": "stderr",
     "output_type": "stream",
     "text": [
      "/opt/anaconda3/lib/python3.7/site-packages/statsmodels/tsa/base/tsa_model.py:162: ValueWarning: No frequency information was provided, so inferred frequency D will be used.\n",
      "  % freq, ValueWarning)\n"
     ]
    },
    {
     "name": "stdout",
     "output_type": "stream",
     "text": [
      "\n"
     ]
    },
    {
     "name": "stderr",
     "output_type": "stream",
     "text": [
      "/opt/anaconda3/lib/python3.7/site-packages/statsmodels/base/model.py:568: ConvergenceWarning: Maximum Likelihood optimization failed to converge. Check mle_retvals\n",
      "  \"Check mle_retvals\", ConvergenceWarning)\n"
     ]
    },
    {
     "data": {
      "application/vnd.jupyter.widget-view+json": {
       "model_id": "68618f38cc0f44e0aac76e963f56142f",
       "version_major": 2,
       "version_minor": 0
      },
      "text/plain": [
       "HBox(children=(FloatProgress(value=0.0, max=1.0), HTML(value='')))"
      ]
     },
     "metadata": {},
     "output_type": "display_data"
    },
    {
     "name": "stderr",
     "output_type": "stream",
     "text": [
      "/opt/anaconda3/lib/python3.7/site-packages/statsmodels/tsa/base/tsa_model.py:162: ValueWarning: No frequency information was provided, so inferred frequency D will be used.\n",
      "  % freq, ValueWarning)\n"
     ]
    },
    {
     "name": "stdout",
     "output_type": "stream",
     "text": [
      "\n"
     ]
    },
    {
     "name": "stderr",
     "output_type": "stream",
     "text": [
      "/opt/anaconda3/lib/python3.7/site-packages/statsmodels/base/model.py:568: ConvergenceWarning: Maximum Likelihood optimization failed to converge. Check mle_retvals\n",
      "  \"Check mle_retvals\", ConvergenceWarning)\n"
     ]
    },
    {
     "data": {
      "application/vnd.jupyter.widget-view+json": {
       "model_id": "1c2700e3acb74e6caa9abe43e04739cb",
       "version_major": 2,
       "version_minor": 0
      },
      "text/plain": [
       "HBox(children=(FloatProgress(value=0.0, max=1.0), HTML(value='')))"
      ]
     },
     "metadata": {},
     "output_type": "display_data"
    },
    {
     "name": "stderr",
     "output_type": "stream",
     "text": [
      "/opt/anaconda3/lib/python3.7/site-packages/statsmodels/tsa/base/tsa_model.py:162: ValueWarning: No frequency information was provided, so inferred frequency D will be used.\n",
      "  % freq, ValueWarning)\n",
      "/opt/anaconda3/lib/python3.7/site-packages/statsmodels/base/model.py:568: ConvergenceWarning: Maximum Likelihood optimization failed to converge. Check mle_retvals\n",
      "  \"Check mle_retvals\", ConvergenceWarning)\n"
     ]
    },
    {
     "name": "stdout",
     "output_type": "stream",
     "text": [
      "\n"
     ]
    },
    {
     "data": {
      "application/vnd.jupyter.widget-view+json": {
       "model_id": "44e2d3ef999d41bfb2ee600eda3fb73f",
       "version_major": 2,
       "version_minor": 0
      },
      "text/plain": [
       "HBox(children=(FloatProgress(value=0.0, max=1.0), HTML(value='')))"
      ]
     },
     "metadata": {},
     "output_type": "display_data"
    },
    {
     "name": "stderr",
     "output_type": "stream",
     "text": [
      "/opt/anaconda3/lib/python3.7/site-packages/statsmodels/tsa/base/tsa_model.py:162: ValueWarning: No frequency information was provided, so inferred frequency D will be used.\n",
      "  % freq, ValueWarning)\n",
      "/opt/anaconda3/lib/python3.7/site-packages/statsmodels/base/model.py:568: ConvergenceWarning: Maximum Likelihood optimization failed to converge. Check mle_retvals\n",
      "  \"Check mle_retvals\", ConvergenceWarning)\n"
     ]
    },
    {
     "name": "stdout",
     "output_type": "stream",
     "text": [
      "\n"
     ]
    },
    {
     "data": {
      "application/vnd.jupyter.widget-view+json": {
       "model_id": "69c8bab76fdf4a9780e124f03b7af1e4",
       "version_major": 2,
       "version_minor": 0
      },
      "text/plain": [
       "HBox(children=(FloatProgress(value=0.0, max=1.0), HTML(value='')))"
      ]
     },
     "metadata": {},
     "output_type": "display_data"
    },
    {
     "name": "stderr",
     "output_type": "stream",
     "text": [
      "/opt/anaconda3/lib/python3.7/site-packages/statsmodels/tsa/base/tsa_model.py:162: ValueWarning: No frequency information was provided, so inferred frequency D will be used.\n",
      "  % freq, ValueWarning)\n"
     ]
    },
    {
     "name": "stdout",
     "output_type": "stream",
     "text": [
      "\n"
     ]
    },
    {
     "data": {
      "application/vnd.jupyter.widget-view+json": {
       "model_id": "3b99535a34c8407c9cbe34f18179301b",
       "version_major": 2,
       "version_minor": 0
      },
      "text/plain": [
       "HBox(children=(FloatProgress(value=0.0, max=1.0), HTML(value='')))"
      ]
     },
     "metadata": {},
     "output_type": "display_data"
    },
    {
     "name": "stderr",
     "output_type": "stream",
     "text": [
      "/opt/anaconda3/lib/python3.7/site-packages/statsmodels/tsa/base/tsa_model.py:162: ValueWarning: No frequency information was provided, so inferred frequency D will be used.\n",
      "  % freq, ValueWarning)\n"
     ]
    },
    {
     "name": "stdout",
     "output_type": "stream",
     "text": [
      "\n"
     ]
    },
    {
     "name": "stderr",
     "output_type": "stream",
     "text": [
      "/opt/anaconda3/lib/python3.7/site-packages/statsmodels/base/model.py:568: ConvergenceWarning: Maximum Likelihood optimization failed to converge. Check mle_retvals\n",
      "  \"Check mle_retvals\", ConvergenceWarning)\n"
     ]
    },
    {
     "data": {
      "application/vnd.jupyter.widget-view+json": {
       "model_id": "0ee284290fd74ce1b6683ca0e6c99679",
       "version_major": 2,
       "version_minor": 0
      },
      "text/plain": [
       "HBox(children=(FloatProgress(value=0.0, max=1.0), HTML(value='')))"
      ]
     },
     "metadata": {},
     "output_type": "display_data"
    },
    {
     "name": "stderr",
     "output_type": "stream",
     "text": [
      "/opt/anaconda3/lib/python3.7/site-packages/statsmodels/tsa/base/tsa_model.py:162: ValueWarning: No frequency information was provided, so inferred frequency D will be used.\n",
      "  % freq, ValueWarning)\n"
     ]
    },
    {
     "name": "stdout",
     "output_type": "stream",
     "text": [
      "\n"
     ]
    },
    {
     "name": "stderr",
     "output_type": "stream",
     "text": [
      "/opt/anaconda3/lib/python3.7/site-packages/statsmodels/base/model.py:568: ConvergenceWarning: Maximum Likelihood optimization failed to converge. Check mle_retvals\n",
      "  \"Check mle_retvals\", ConvergenceWarning)\n"
     ]
    },
    {
     "data": {
      "application/vnd.jupyter.widget-view+json": {
       "model_id": "418b1df92cc6485ea718f27ff65049a1",
       "version_major": 2,
       "version_minor": 0
      },
      "text/plain": [
       "HBox(children=(FloatProgress(value=0.0, max=1.0), HTML(value='')))"
      ]
     },
     "metadata": {},
     "output_type": "display_data"
    },
    {
     "name": "stderr",
     "output_type": "stream",
     "text": [
      "/opt/anaconda3/lib/python3.7/site-packages/statsmodels/tsa/base/tsa_model.py:162: ValueWarning: No frequency information was provided, so inferred frequency D will be used.\n",
      "  % freq, ValueWarning)\n"
     ]
    },
    {
     "name": "stdout",
     "output_type": "stream",
     "text": [
      "\n"
     ]
    },
    {
     "name": "stderr",
     "output_type": "stream",
     "text": [
      "/opt/anaconda3/lib/python3.7/site-packages/statsmodels/base/model.py:568: ConvergenceWarning: Maximum Likelihood optimization failed to converge. Check mle_retvals\n",
      "  \"Check mle_retvals\", ConvergenceWarning)\n"
     ]
    },
    {
     "data": {
      "application/vnd.jupyter.widget-view+json": {
       "model_id": "7611237b9abf46a4a08b785540ee427a",
       "version_major": 2,
       "version_minor": 0
      },
      "text/plain": [
       "HBox(children=(FloatProgress(value=0.0, max=1.0), HTML(value='')))"
      ]
     },
     "metadata": {},
     "output_type": "display_data"
    },
    {
     "name": "stderr",
     "output_type": "stream",
     "text": [
      "/opt/anaconda3/lib/python3.7/site-packages/statsmodels/tsa/base/tsa_model.py:162: ValueWarning: No frequency information was provided, so inferred frequency D will be used.\n",
      "  % freq, ValueWarning)\n"
     ]
    },
    {
     "name": "stdout",
     "output_type": "stream",
     "text": [
      "\n"
     ]
    },
    {
     "data": {
      "application/vnd.jupyter.widget-view+json": {
       "model_id": "ac052a7f5f374e12a60788c188d9e27f",
       "version_major": 2,
       "version_minor": 0
      },
      "text/plain": [
       "HBox(children=(FloatProgress(value=0.0, max=1.0), HTML(value='')))"
      ]
     },
     "metadata": {},
     "output_type": "display_data"
    },
    {
     "name": "stderr",
     "output_type": "stream",
     "text": [
      "/opt/anaconda3/lib/python3.7/site-packages/statsmodels/tsa/base/tsa_model.py:162: ValueWarning: No frequency information was provided, so inferred frequency D will be used.\n",
      "  % freq, ValueWarning)\n"
     ]
    },
    {
     "name": "stdout",
     "output_type": "stream",
     "text": [
      "\n"
     ]
    },
    {
     "data": {
      "application/vnd.jupyter.widget-view+json": {
       "model_id": "d864ee4f4b51421eb6930b104bec24c6",
       "version_major": 2,
       "version_minor": 0
      },
      "text/plain": [
       "HBox(children=(FloatProgress(value=0.0, max=1.0), HTML(value='')))"
      ]
     },
     "metadata": {},
     "output_type": "display_data"
    },
    {
     "name": "stderr",
     "output_type": "stream",
     "text": [
      "/opt/anaconda3/lib/python3.7/site-packages/statsmodels/tsa/base/tsa_model.py:162: ValueWarning: No frequency information was provided, so inferred frequency D will be used.\n",
      "  % freq, ValueWarning)\n"
     ]
    },
    {
     "name": "stdout",
     "output_type": "stream",
     "text": [
      "\n"
     ]
    },
    {
     "data": {
      "application/vnd.jupyter.widget-view+json": {
       "model_id": "94338989ebcb4249a2d108a789c1fff4",
       "version_major": 2,
       "version_minor": 0
      },
      "text/plain": [
       "HBox(children=(FloatProgress(value=0.0, max=1.0), HTML(value='')))"
      ]
     },
     "metadata": {},
     "output_type": "display_data"
    },
    {
     "name": "stderr",
     "output_type": "stream",
     "text": [
      "/opt/anaconda3/lib/python3.7/site-packages/statsmodels/tsa/base/tsa_model.py:162: ValueWarning: No frequency information was provided, so inferred frequency D will be used.\n",
      "  % freq, ValueWarning)\n"
     ]
    },
    {
     "name": "stdout",
     "output_type": "stream",
     "text": [
      "\n"
     ]
    },
    {
     "name": "stderr",
     "output_type": "stream",
     "text": [
      "/opt/anaconda3/lib/python3.7/site-packages/statsmodels/base/model.py:568: ConvergenceWarning: Maximum Likelihood optimization failed to converge. Check mle_retvals\n",
      "  \"Check mle_retvals\", ConvergenceWarning)\n"
     ]
    },
    {
     "data": {
      "application/vnd.jupyter.widget-view+json": {
       "model_id": "31dfdf4ff6cc42fe9c408a66da5101ce",
       "version_major": 2,
       "version_minor": 0
      },
      "text/plain": [
       "HBox(children=(FloatProgress(value=0.0, max=1.0), HTML(value='')))"
      ]
     },
     "metadata": {},
     "output_type": "display_data"
    },
    {
     "name": "stderr",
     "output_type": "stream",
     "text": [
      "/opt/anaconda3/lib/python3.7/site-packages/statsmodels/tsa/base/tsa_model.py:162: ValueWarning: No frequency information was provided, so inferred frequency D will be used.\n",
      "  % freq, ValueWarning)\n"
     ]
    },
    {
     "name": "stdout",
     "output_type": "stream",
     "text": [
      "\n"
     ]
    },
    {
     "name": "stderr",
     "output_type": "stream",
     "text": [
      "/opt/anaconda3/lib/python3.7/site-packages/statsmodels/base/model.py:568: ConvergenceWarning: Maximum Likelihood optimization failed to converge. Check mle_retvals\n",
      "  \"Check mle_retvals\", ConvergenceWarning)\n"
     ]
    },
    {
     "data": {
      "application/vnd.jupyter.widget-view+json": {
       "model_id": "95439f0efa93463dbcbe8f9cfd74c0b6",
       "version_major": 2,
       "version_minor": 0
      },
      "text/plain": [
       "HBox(children=(FloatProgress(value=0.0, max=1.0), HTML(value='')))"
      ]
     },
     "metadata": {},
     "output_type": "display_data"
    },
    {
     "name": "stderr",
     "output_type": "stream",
     "text": [
      "/opt/anaconda3/lib/python3.7/site-packages/statsmodels/tsa/base/tsa_model.py:162: ValueWarning: No frequency information was provided, so inferred frequency D will be used.\n",
      "  % freq, ValueWarning)\n"
     ]
    },
    {
     "name": "stdout",
     "output_type": "stream",
     "text": [
      "\n"
     ]
    },
    {
     "name": "stderr",
     "output_type": "stream",
     "text": [
      "/opt/anaconda3/lib/python3.7/site-packages/statsmodels/base/model.py:568: ConvergenceWarning: Maximum Likelihood optimization failed to converge. Check mle_retvals\n",
      "  \"Check mle_retvals\", ConvergenceWarning)\n"
     ]
    },
    {
     "data": {
      "application/vnd.jupyter.widget-view+json": {
       "model_id": "ac354de75e9e4ebe8546d058170e52f3",
       "version_major": 2,
       "version_minor": 0
      },
      "text/plain": [
       "HBox(children=(FloatProgress(value=0.0, max=1.0), HTML(value='')))"
      ]
     },
     "metadata": {},
     "output_type": "display_data"
    },
    {
     "name": "stderr",
     "output_type": "stream",
     "text": [
      "/opt/anaconda3/lib/python3.7/site-packages/statsmodels/tsa/base/tsa_model.py:162: ValueWarning: No frequency information was provided, so inferred frequency D will be used.\n",
      "  % freq, ValueWarning)\n"
     ]
    },
    {
     "name": "stdout",
     "output_type": "stream",
     "text": [
      "\n",
      "\n"
     ]
    },
    {
     "name": "stderr",
     "output_type": "stream",
     "text": [
      "/opt/anaconda3/lib/python3.7/site-packages/statsmodels/base/model.py:568: ConvergenceWarning: Maximum Likelihood optimization failed to converge. Check mle_retvals\n",
      "  \"Check mle_retvals\", ConvergenceWarning)\n"
     ]
    },
    {
     "data": {
      "text/plain": [
       "pdq        (5, 1, 5)\n",
       "pdqs    (0, 0, 0, 0)\n",
       "aic         -11360.9\n",
       "Name: 71, dtype: object"
      ]
     },
     "execution_count": 32,
     "metadata": {},
     "output_type": "execute_result"
    }
   ],
   "source": [
    "# Finding the best parameters\n",
    "best_param(SARIMAX, bc_log, pdq, pdqs)"
   ]
  },
  {
   "cell_type": "markdown",
   "metadata": {},
   "source": [
    "#### Best Parameters according to the function"
   ]
  },
  {
   "cell_type": "code",
   "execution_count": 33,
   "metadata": {},
   "outputs": [],
   "source": [
    "# pdq        (5, 1, 5)\n",
    "# pdqs    (0, 0, 0, 0)\n",
    "# aic         -11342.4"
   ]
  },
  {
   "cell_type": "markdown",
   "metadata": {},
   "source": [
    "### Fitting and Training SARIMAX"
   ]
  },
  {
   "cell_type": "code",
   "execution_count": 34,
   "metadata": {},
   "outputs": [
    {
     "name": "stderr",
     "output_type": "stream",
     "text": [
      "/opt/anaconda3/lib/python3.7/site-packages/statsmodels/tsa/base/tsa_model.py:162: ValueWarning: No frequency information was provided, so inferred frequency D will be used.\n",
      "  % freq, ValueWarning)\n",
      "/opt/anaconda3/lib/python3.7/site-packages/statsmodels/base/model.py:568: ConvergenceWarning: Maximum Likelihood optimization failed to converge. Check mle_retvals\n",
      "  \"Check mle_retvals\", ConvergenceWarning)\n"
     ]
    }
   ],
   "source": [
    "# Fitting the model to the training set\n",
    "model = SARIMAX(train, \n",
    "                order=(5, 1, 5), \n",
    "                seasonal_order=(0,0,0,0), \n",
    "                freq='D', \n",
    "                enforce_stationarity=False, \n",
    "                enforce_invertibility=False)\n",
    "output = model.fit()"
   ]
  },
  {
   "cell_type": "markdown",
   "metadata": {},
   "source": [
    "### Summary and Diagnostics from fitting the model"
   ]
  },
  {
   "cell_type": "code",
   "execution_count": 35,
   "metadata": {},
   "outputs": [
    {
     "name": "stdout",
     "output_type": "stream",
     "text": [
      "                               SARIMAX Results                                \n",
      "==============================================================================\n",
      "Dep. Variable:                  Close   No. Observations:                 3022\n",
      "Model:               SARIMAX(5, 1, 5)   Log Likelihood                4389.798\n",
      "Date:                Wed, 18 Nov 2020   AIC                          -8757.595\n",
      "Time:                        17:15:17   BIC                          -8691.470\n",
      "Sample:                    07-17-2010   HQIC                         -8733.816\n",
      "                         - 10-24-2018                                         \n",
      "Covariance Type:                  opg                                         \n",
      "==============================================================================\n",
      "                 coef    std err          z      P>|z|      [0.025      0.975]\n",
      "------------------------------------------------------------------------------\n",
      "ar.L1          0.4000      0.066      6.094      0.000       0.271       0.529\n",
      "ar.L2         -0.1292      0.042     -3.069      0.002      -0.212      -0.047\n",
      "ar.L3          0.2555      0.066      3.851      0.000       0.125       0.386\n",
      "ar.L4         -0.1322      0.065     -2.024      0.043      -0.260      -0.004\n",
      "ar.L5          0.5122      0.036     14.201      0.000       0.442       0.583\n",
      "ma.L1         -0.3527      0.068     -5.194      0.000      -0.486      -0.220\n",
      "ma.L2          0.0555      0.043      1.295      0.195      -0.029       0.140\n",
      "ma.L3         -0.2323      0.072     -3.234      0.001      -0.373      -0.092\n",
      "ma.L4          0.1169      0.067      1.735      0.083      -0.015       0.249\n",
      "ma.L5         -0.4194      0.040    -10.501      0.000      -0.498      -0.341\n",
      "sigma2         0.0032   3.06e-05    103.942      0.000       0.003       0.003\n",
      "===================================================================================\n",
      "Ljung-Box (Q):                       33.32   Jarque-Bera (JB):             35320.64\n",
      "Prob(Q):                              0.76   Prob(JB):                         0.00\n",
      "Heteroskedasticity (H):               0.28   Skew:                            -0.89\n",
      "Prob(H) (two-sided):                  0.00   Kurtosis:                        19.67\n",
      "===================================================================================\n",
      "\n",
      "Warnings:\n",
      "[1] Covariance matrix calculated using the outer product of gradients (complex-step).\n"
     ]
    },
    {
     "data": {
      "image/png": "[encoded data removed]",
      "text/plain": [
       "<Figure size 1080x576 with 4 Axes>"
      ]
     },
     "metadata": {},
     "output_type": "display_data"
    }
   ],
   "source": [
    "print(output.summary())\n",
    "output.plot_diagnostics(figsize=(15,8))\n",
    "plt.show()"
   ]
  },
  {
   "cell_type": "markdown",
   "metadata": {},
   "source": [
    "### Predictions with ARIMA"
   ]
  },
  {
   "cell_type": "markdown",
   "metadata": {},
   "source": [
    "### Transforming the Data back to its original price"
   ]
  },
  {
   "cell_type": "code",
   "execution_count": 36,
   "metadata": {},
   "outputs": [
    {
     "name": "stderr",
     "output_type": "stream",
     "text": [
      "/opt/anaconda3/lib/python3.7/site-packages/statsmodels/tsa/statespace/kalman_filter.py:2095: RuntimeWarning: invalid value encountered in multiply\n",
      "  endog = np.empty((nforecast, self.k_endog)) * np.nan\n",
      "/opt/anaconda3/lib/python3.7/site-packages/pandas/core/series.py:726: RuntimeWarning: overflow encountered in exp\n",
      "  result = getattr(ufunc, method)(*inputs, **kwargs)\n"
     ]
    }
   ],
   "source": [
    "# Values to test against the test set\n",
    "fc   = output.get_forecast(len(test))\n",
    "conf = fc.conf_int()\n",
    "\n",
    "# Transforming the values back to normal\n",
    "fc_series    = np.exp(pd.Series(fc.predicted_mean, index=test.index))\n",
    "lower_series = np.exp(pd.Series(conf.iloc[:, 0], index=test.index))\n",
    "upper_series = np.exp(pd.Series(conf.iloc[:, 1], index=test.index))\n",
    "\n",
    "etrain = np.exp(train)\n",
    "etest  = np.exp(test)\n",
    "\n",
    "# Values to test against the train set, see how the model fits\n",
    "predictions = output.get_prediction(start=pd.to_datetime('2018'), dynamic=False)\n",
    "pred        = np.exp(predictions.predicted_mean)\n",
    "\n",
    "# Confidence interval for the training set\n",
    "conf_int   = np.exp(predictions.conf_int())\n",
    "low_conf   = np.exp(pd.Series(conf_int.iloc[:,0], index=train.index))\n",
    "upper_conf = np.exp(pd.Series(conf_int.iloc[:,1], index=train.index))"
   ]
  },
  {
   "cell_type": "markdown",
   "metadata": {},
   "source": [
    "### Plotting the Fitted Model and Testing against the Test set"
   ]
  },
  {
   "cell_type": "code",
   "execution_count": 37,
   "metadata": {},
   "outputs": [
    {
     "data": {
      "image/png": "[encoded data removed]",
      "text/plain": [
       "<Figure size 1152x576 with 1 Axes>"
      ]
     },
     "metadata": {},
     "output_type": "display_data"
    }
   ],
   "source": [
    "rcParams['figure.figsize'] = 16, 8\n",
    "\n",
    "# Plotting the training set, test set,forecast, and confidence interval.\n",
    "plt.plot(etrain, label='train')\n",
    "plt.plot(etest, label='actual')\n",
    "plt.plot(fc_series, label='forecast')\n",
    "plt.fill_between(lower_series.index, lower_series, upper_series, color='k', alpha=.15)\n",
    "\n",
    "# Plotting against the training data\n",
    "pred.plot(label='Fit to Training', color='w')\n",
    "\n",
    "# Confidence interval for the fitted data\n",
    "plt.fill_between(conf_int.index, conf_int.iloc[:,0], conf_int.iloc[:,1], color='g',alpha=.5)\n",
    "\n",
    "# Limiting the viewing size\n",
    "plt.xlim(['2018-06', '2021-02'])\n",
    "plt.ylim([0, 50000])\n",
    "\n",
    "plt.title('Fit to Train Data and \\nForecasting vs Actual Test Values')\n",
    "plt.legend()\n",
    "plt.savefig('btc_fit_fc.png')\n",
    "plt.show()"
   ]
  },
  {
   "cell_type": "markdown",
   "metadata": {},
   "source": [
    "### Calculating the RMSE for SARIMA"
   ]
  },
  {
   "cell_type": "code",
   "execution_count": 38,
   "metadata": {},
   "outputs": [
    {
     "name": "stdout",
     "output_type": "stream",
     "text": [
      "The Root Mean Squared Error:  416.9343620763006\n"
     ]
    }
   ],
   "source": [
    "forecast = pred\n",
    "actual_val = etrain.Close\n",
    "\n",
    "# Calculating our errors\n",
    "rmse = np.sqrt(((forecast - actual_val) ** 2).mean())\n",
    "\n",
    "print(\"The Root Mean Squared Error: \", rmse)\n",
    "# print(\"The Mean Absolute Error: \", mean_absolute_error(actual_val, forecast))"
   ]
  },
  {
   "cell_type": "markdown",
   "metadata": {},
   "source": [
    "### Forecasting Future Values"
   ]
  },
  {
   "cell_type": "markdown",
   "metadata": {},
   "source": [
    "#### Fitting the model to the entire dataset"
   ]
  },
  {
   "cell_type": "code",
   "execution_count": 39,
   "metadata": {},
   "outputs": [
    {
     "name": "stderr",
     "output_type": "stream",
     "text": [
      "/opt/anaconda3/lib/python3.7/site-packages/statsmodels/tsa/base/tsa_model.py:162: ValueWarning: No frequency information was provided, so inferred frequency D will be used.\n",
      "  % freq, ValueWarning)\n",
      "/opt/anaconda3/lib/python3.7/site-packages/statsmodels/base/model.py:568: ConvergenceWarning: Maximum Likelihood optimization failed to converge. Check mle_retvals\n",
      "  \"Check mle_retvals\", ConvergenceWarning)\n"
     ]
    }
   ],
   "source": [
    "model = SARIMAX(bc_log, \n",
    "                order=(5, 1, 5), \n",
    "                seasonal_order=(0,0,0,0), \n",
    "                freq='D', \n",
    "                enforce_stationarity=False, \n",
    "                enforce_invertibility=False)\n",
    "output = model.fit()"
   ]
  },
  {
   "cell_type": "code",
   "execution_count": 40,
   "metadata": {},
   "outputs": [],
   "source": [
    "# Getting the forecast of future values\n",
    "future = output.get_forecast(steps=30)\n",
    "\n",
    "# Transforming values back\n",
    "pred_fut = np.exp(future.predicted_mean)\n",
    "\n",
    "# Confidence interval for our forecasted values\n",
    "pred_conf = future.conf_int()\n",
    "\n",
    "# Transforming value back\n",
    "pred_conf = np.exp(pred_conf)"
   ]
  },
  {
   "cell_type": "markdown",
   "metadata": {},
   "source": [
    "### Plotting the forecasted values"
   ]
  },
  {
   "cell_type": "code",
   "execution_count": 41,
   "metadata": {},
   "outputs": [
    {
     "data": {
      "image/png": "[encoded data removed]",
      "text/plain": [
       "<Figure size 1152x576 with 1 Axes>"
      ]
     },
     "metadata": {},
     "output_type": "display_data"
    }
   ],
   "source": [
    "# Plotting the prices up to the most recent\n",
    "ax = np.exp(bc_log).plot(label='Actual', figsize=(16,8))\n",
    "\n",
    "# Plottting the forecast\n",
    "pred_fut.plot(ax=ax, label='Future Vals')\n",
    "\n",
    "# Shading in the confidence interval\n",
    "ax.fill_between(pred_conf.index,\n",
    "                pred_conf.iloc[:, 0],\n",
    "                pred_conf.iloc[:, 1], color='k', alpha=.25)\n",
    "\n",
    "ax.set_xlabel('Date')\n",
    "ax.set_ylabel('Bitcoin Price')\n",
    "ax.set_xlim(['2018-01', '2021-03'])\n",
    "\n",
    "plt.title('Forecasted values')\n",
    "plt.legend()\n",
    "plt.savefig('fc_val.png')\n",
    "plt.show()"
   ]
  },
  {
   "cell_type": "markdown",
   "metadata": {},
   "source": [
    "### Zooming in on the Graph above"
   ]
  },
  {
   "cell_type": "code",
   "execution_count": 42,
   "metadata": {},
   "outputs": [
    {
     "data": {
      "image/png": "[encoded data removed]",
      "text/plain": [
       "<Figure size 1152x576 with 1 Axes>"
      ]
     },
     "metadata": {},
     "output_type": "display_data"
    }
   ],
   "source": [
    "ax = np.exp(bc_log).plot(label='Actual', figsize=(16,8))\n",
    "pred_fut.plot(ax=ax, label='Future Vals')\n",
    "\n",
    "ax.fill_between(pred_conf.index,\n",
    "                pred_conf.iloc[:, 0],\n",
    "                pred_conf.iloc[:, 1], color='k', alpha=.25)\n",
    "\n",
    "ax.set_xlabel('Date')\n",
    "ax.set_ylabel('Bitcoin Price')\n",
    "ax.set_xlim(['2020-01','2021-03'])\n",
    "\n",
    "plt.title('Forecasted values \\nZoomed in')\n",
    "plt.legend()\n",
    "plt.savefig('fc_zoom.png')\n",
    "plt.show()"
   ]
  },
  {
   "cell_type": "markdown",
   "metadata": {},
   "source": [
    "## Incorporating Exogenous Variables: SARIMAX"
   ]
  },
  {
   "cell_type": "markdown",
   "metadata": {},
   "source": [
    "#### Feature Extraction: Rolling Windows"
   ]
  },
  {
   "cell_type": "markdown",
   "metadata": {},
   "source": [
    "Using the pmdarima library this time for Auto Arima."
   ]
  },
  {
   "cell_type": "code",
   "execution_count": 43,
   "metadata": {
    "papermill": {
     "duration": 0.39038,
     "end_time": "2020-10-02T15:41:45.356048",
     "exception": false,
     "start_time": "2020-10-02T15:41:44.965668",
     "status": "completed"
    },
    "tags": []
   },
   "outputs": [],
   "source": [
    "import pmdarima as pmd"
   ]
  },
  {
   "cell_type": "code",
   "execution_count": 44,
   "metadata": {},
   "outputs": [],
   "source": [
    "with open(\"combined_.pickle\",'rb') as fp:\n",
    "    df = pickle.load(fp)"
   ]
  },
  {
   "cell_type": "code",
   "execution_count": 45,
   "metadata": {},
   "outputs": [
    {
     "name": "stdout",
     "output_type": "stream",
     "text": [
      "<class 'pandas.core.frame.DataFrame'>\n",
      "DatetimeIndex: 94606 entries, 2010-01-01 00:00:00 to 2020-11-18 21:50:00\n",
      "Columns: 111 entries, market_mvrv_more_155 to indicators_sopr_less_155\n",
      "dtypes: float64(111)\n",
      "memory usage: 80.8 MB\n"
     ]
    }
   ],
   "source": [
    "df.info()"
   ]
  },
  {
   "cell_type": "code",
   "execution_count": 46,
   "metadata": {},
   "outputs": [
    {
     "data": {
      "text/html": [
       "<div>\n",
       "<style scoped>\n",
       "    .dataframe tbody tr th:only-of-type {\n",
       "        vertical-align: middle;\n",
       "    }\n",
       "\n",
       "    .dataframe tbody tr th {\n",
       "        vertical-align: top;\n",
       "    }\n",
       "\n",
       "    .dataframe thead th {\n",
       "        text-align: right;\n",
       "    }\n",
       "</style>\n",
       "<table border=\"1\" class=\"dataframe\">\n",
       "  <thead>\n",
       "    <tr style=\"text-align: right;\">\n",
       "      <th></th>\n",
       "      <th>market_mvrv_more_155</th>\n",
       "      <th>ma128</th>\n",
       "      <th>ma14</th>\n",
       "      <th>ma200</th>\n",
       "      <th>ma25</th>\n",
       "      <th>ma40</th>\n",
       "      <th>ma60</th>\n",
       "      <th>ma9</th>\n",
       "      <th>ma90</th>\n",
       "      <th>addresses_accumulation_balance</th>\n",
       "      <th>...</th>\n",
       "      <th>mining_difficulty_latest</th>\n",
       "      <th>addresses_non_zero_count</th>\n",
       "      <th>indicators_nvt</th>\n",
       "      <th>entities_active_count</th>\n",
       "      <th>derivatives_futures_volume_daily_perpetual_sum</th>\n",
       "      <th>indicators_net_unrealized_profit_loss</th>\n",
       "      <th>addresses_receiving_from_exchanges_count</th>\n",
       "      <th>supply_current</th>\n",
       "      <th>transactions_transfers_to_exchanges_count</th>\n",
       "      <th>indicators_sopr_less_155</th>\n",
       "    </tr>\n",
       "    <tr>\n",
       "      <th>t</th>\n",
       "      <th></th>\n",
       "      <th></th>\n",
       "      <th></th>\n",
       "      <th></th>\n",
       "      <th></th>\n",
       "      <th></th>\n",
       "      <th></th>\n",
       "      <th></th>\n",
       "      <th></th>\n",
       "      <th></th>\n",
       "      <th></th>\n",
       "      <th></th>\n",
       "      <th></th>\n",
       "      <th></th>\n",
       "      <th></th>\n",
       "      <th></th>\n",
       "      <th></th>\n",
       "      <th></th>\n",
       "      <th></th>\n",
       "      <th></th>\n",
       "      <th></th>\n",
       "    </tr>\n",
       "  </thead>\n",
       "  <tbody>\n",
       "    <tr>\n",
       "      <th>2010-01-01</th>\n",
       "      <td>NaN</td>\n",
       "      <td>4.313379e+09</td>\n",
       "      <td>4.463299e+09</td>\n",
       "      <td>4.306751e+09</td>\n",
       "      <td>4.389233e+09</td>\n",
       "      <td>4.353883e+09</td>\n",
       "      <td>2.169753e+09</td>\n",
       "      <td>4.556816e+09</td>\n",
       "      <td>4.321152e+09</td>\n",
       "      <td>70018.15</td>\n",
       "      <td>...</td>\n",
       "      <td>5.080515e+09</td>\n",
       "      <td>29959.0</td>\n",
       "      <td>NaN</td>\n",
       "      <td>4.0</td>\n",
       "      <td>NaN</td>\n",
       "      <td>NaN</td>\n",
       "      <td>0.0</td>\n",
       "      <td>1631150.0</td>\n",
       "      <td>NaN</td>\n",
       "      <td>NaN</td>\n",
       "    </tr>\n",
       "    <tr>\n",
       "      <th>2010-01-02</th>\n",
       "      <td>NaN</td>\n",
       "      <td>4.319516e+09</td>\n",
       "      <td>4.519409e+09</td>\n",
       "      <td>4.310678e+09</td>\n",
       "      <td>4.420655e+09</td>\n",
       "      <td>4.373522e+09</td>\n",
       "      <td>2.176318e+09</td>\n",
       "      <td>4.644100e+09</td>\n",
       "      <td>4.329881e+09</td>\n",
       "      <td>70018.15</td>\n",
       "      <td>...</td>\n",
       "      <td>5.080515e+09</td>\n",
       "      <td>30085.0</td>\n",
       "      <td>NaN</td>\n",
       "      <td>0.0</td>\n",
       "      <td>NaN</td>\n",
       "      <td>NaN</td>\n",
       "      <td>0.0</td>\n",
       "      <td>1637400.0</td>\n",
       "      <td>NaN</td>\n",
       "      <td>NaN</td>\n",
       "    </tr>\n",
       "    <tr>\n",
       "      <th>2010-01-03</th>\n",
       "      <td>NaN</td>\n",
       "      <td>4.325653e+09</td>\n",
       "      <td>4.575520e+09</td>\n",
       "      <td>4.314606e+09</td>\n",
       "      <td>4.452077e+09</td>\n",
       "      <td>4.393161e+09</td>\n",
       "      <td>2.182929e+09</td>\n",
       "      <td>4.731383e+09</td>\n",
       "      <td>4.338609e+09</td>\n",
       "      <td>70018.15</td>\n",
       "      <td>...</td>\n",
       "      <td>5.080515e+09</td>\n",
       "      <td>30271.0</td>\n",
       "      <td>NaN</td>\n",
       "      <td>0.0</td>\n",
       "      <td>NaN</td>\n",
       "      <td>NaN</td>\n",
       "      <td>0.0</td>\n",
       "      <td>1646700.0</td>\n",
       "      <td>NaN</td>\n",
       "      <td>NaN</td>\n",
       "    </tr>\n",
       "    <tr>\n",
       "      <th>2010-01-04</th>\n",
       "      <td>NaN</td>\n",
       "      <td>4.331790e+09</td>\n",
       "      <td>4.631631e+09</td>\n",
       "      <td>4.318534e+09</td>\n",
       "      <td>4.483499e+09</td>\n",
       "      <td>4.412799e+09</td>\n",
       "      <td>2.189539e+09</td>\n",
       "      <td>4.818666e+09</td>\n",
       "      <td>4.347337e+09</td>\n",
       "      <td>90722.50</td>\n",
       "      <td>...</td>\n",
       "      <td>5.080515e+09</td>\n",
       "      <td>30372.0</td>\n",
       "      <td>NaN</td>\n",
       "      <td>5.0</td>\n",
       "      <td>NaN</td>\n",
       "      <td>NaN</td>\n",
       "      <td>0.0</td>\n",
       "      <td>1655750.0</td>\n",
       "      <td>NaN</td>\n",
       "      <td>NaN</td>\n",
       "    </tr>\n",
       "    <tr>\n",
       "      <th>2010-01-05</th>\n",
       "      <td>NaN</td>\n",
       "      <td>4.337927e+09</td>\n",
       "      <td>4.687741e+09</td>\n",
       "      <td>4.322461e+09</td>\n",
       "      <td>4.514921e+09</td>\n",
       "      <td>4.432438e+09</td>\n",
       "      <td>2.196157e+09</td>\n",
       "      <td>4.905949e+09</td>\n",
       "      <td>4.356065e+09</td>\n",
       "      <td>90722.50</td>\n",
       "      <td>...</td>\n",
       "      <td>5.080515e+09</td>\n",
       "      <td>30570.0</td>\n",
       "      <td>NaN</td>\n",
       "      <td>0.0</td>\n",
       "      <td>NaN</td>\n",
       "      <td>NaN</td>\n",
       "      <td>0.0</td>\n",
       "      <td>1665650.0</td>\n",
       "      <td>NaN</td>\n",
       "      <td>NaN</td>\n",
       "    </tr>\n",
       "  </tbody>\n",
       "</table>\n",
       "<p>5 rows × 111 columns</p>\n",
       "</div>"
      ],
      "text/plain": [
       "            market_mvrv_more_155         ma128          ma14         ma200  \\\n",
       "t                                                                            \n",
       "2010-01-01                   NaN  4.313379e+09  4.463299e+09  4.306751e+09   \n",
       "2010-01-02                   NaN  4.319516e+09  4.519409e+09  4.310678e+09   \n",
       "2010-01-03                   NaN  4.325653e+09  4.575520e+09  4.314606e+09   \n",
       "2010-01-04                   NaN  4.331790e+09  4.631631e+09  4.318534e+09   \n",
       "2010-01-05                   NaN  4.337927e+09  4.687741e+09  4.322461e+09   \n",
       "\n",
       "                    ma25          ma40          ma60           ma9  \\\n",
       "t                                                                    \n",
       "2010-01-01  4.389233e+09  4.353883e+09  2.169753e+09  4.556816e+09   \n",
       "2010-01-02  4.420655e+09  4.373522e+09  2.176318e+09  4.644100e+09   \n",
       "2010-01-03  4.452077e+09  4.393161e+09  2.182929e+09  4.731383e+09   \n",
       "2010-01-04  4.483499e+09  4.412799e+09  2.189539e+09  4.818666e+09   \n",
       "2010-01-05  4.514921e+09  4.432438e+09  2.196157e+09  4.905949e+09   \n",
       "\n",
       "                    ma90  addresses_accumulation_balance  ...  \\\n",
       "t                                                         ...   \n",
       "2010-01-01  4.321152e+09                        70018.15  ...   \n",
       "2010-01-02  4.329881e+09                        70018.15  ...   \n",
       "2010-01-03  4.338609e+09                        70018.15  ...   \n",
       "2010-01-04  4.347337e+09                        90722.50  ...   \n",
       "2010-01-05  4.356065e+09                        90722.50  ...   \n",
       "\n",
       "            mining_difficulty_latest  addresses_non_zero_count  \\\n",
       "t                                                                \n",
       "2010-01-01              5.080515e+09                   29959.0   \n",
       "2010-01-02              5.080515e+09                   30085.0   \n",
       "2010-01-03              5.080515e+09                   30271.0   \n",
       "2010-01-04              5.080515e+09                   30372.0   \n",
       "2010-01-05              5.080515e+09                   30570.0   \n",
       "\n",
       "            indicators_nvt  entities_active_count  \\\n",
       "t                                                   \n",
       "2010-01-01             NaN                    4.0   \n",
       "2010-01-02             NaN                    0.0   \n",
       "2010-01-03             NaN                    0.0   \n",
       "2010-01-04             NaN                    5.0   \n",
       "2010-01-05             NaN                    0.0   \n",
       "\n",
       "            derivatives_futures_volume_daily_perpetual_sum  \\\n",
       "t                                                            \n",
       "2010-01-01                                             NaN   \n",
       "2010-01-02                                             NaN   \n",
       "2010-01-03                                             NaN   \n",
       "2010-01-04                                             NaN   \n",
       "2010-01-05                                             NaN   \n",
       "\n",
       "            indicators_net_unrealized_profit_loss  \\\n",
       "t                                                   \n",
       "2010-01-01                                    NaN   \n",
       "2010-01-02                                    NaN   \n",
       "2010-01-03                                    NaN   \n",
       "2010-01-04                                    NaN   \n",
       "2010-01-05                                    NaN   \n",
       "\n",
       "            addresses_receiving_from_exchanges_count  supply_current  \\\n",
       "t                                                                      \n",
       "2010-01-01                                       0.0       1631150.0   \n",
       "2010-01-02                                       0.0       1637400.0   \n",
       "2010-01-03                                       0.0       1646700.0   \n",
       "2010-01-04                                       0.0       1655750.0   \n",
       "2010-01-05                                       0.0       1665650.0   \n",
       "\n",
       "            transactions_transfers_to_exchanges_count  \\\n",
       "t                                                       \n",
       "2010-01-01                                        NaN   \n",
       "2010-01-02                                        NaN   \n",
       "2010-01-03                                        NaN   \n",
       "2010-01-04                                        NaN   \n",
       "2010-01-05                                        NaN   \n",
       "\n",
       "            indicators_sopr_less_155  \n",
       "t                                     \n",
       "2010-01-01                       NaN  \n",
       "2010-01-02                       NaN  \n",
       "2010-01-03                       NaN  \n",
       "2010-01-04                       NaN  \n",
       "2010-01-05                       NaN  \n",
       "\n",
       "[5 rows x 111 columns]"
      ]
     },
     "execution_count": 46,
     "metadata": {},
     "output_type": "execute_result"
    }
   ],
   "source": [
    "df.head()"
   ]
  },
  {
   "cell_type": "code",
   "execution_count": 47,
   "metadata": {},
   "outputs": [
    {
     "name": "stderr",
     "output_type": "stream",
     "text": [
      "/opt/anaconda3/lib/python3.7/site-packages/pandas/core/series.py:4523: SettingWithCopyWarning: \n",
      "A value is trying to be set on a copy of a slice from a DataFrame\n",
      "\n",
      "See the caveats in the documentation: https://pandas.pydata.org/pandas-docs/stable/user_guide/indexing.html#returning-a-view-versus-a-copy\n",
      "  downcast=downcast,\n",
      "/opt/anaconda3/lib/python3.7/site-packages/ipykernel_launcher.py:30: FutureWarning: weekofyear and week have been deprecated, please use DatetimeIndex.isocalendar().week instead, which returns a Series.  To exactly reproduce the behavior of week and weekofyear and return an Index, you may call pd.Int64Index(idx.isocalendar().week)\n"
     ]
    },
    {
     "data": {
      "text/html": [
       "<div>\n",
       "<style scoped>\n",
       "    .dataframe tbody tr th:only-of-type {\n",
       "        vertical-align: middle;\n",
       "    }\n",
       "\n",
       "    .dataframe tbody tr th {\n",
       "        vertical-align: top;\n",
       "    }\n",
       "\n",
       "    .dataframe thead th {\n",
       "        text-align: right;\n",
       "    }\n",
       "</style>\n",
       "<table border=\"1\" class=\"dataframe\">\n",
       "  <thead>\n",
       "    <tr style=\"text-align: right;\">\n",
       "      <th></th>\n",
       "      <th>market_mvrv_more_155</th>\n",
       "      <th>ma128</th>\n",
       "      <th>ma14</th>\n",
       "      <th>ma200</th>\n",
       "      <th>ma25</th>\n",
       "      <th>ma40</th>\n",
       "      <th>ma60</th>\n",
       "      <th>ma9</th>\n",
       "      <th>ma90</th>\n",
       "      <th>addresses_accumulation_balance</th>\n",
       "      <th>...</th>\n",
       "      <th>derivatives_futures_volume_daily_all_sum_mean_lag3</th>\n",
       "      <th>derivatives_futures_volume_daily_all_sum_mean_lag7</th>\n",
       "      <th>derivatives_futures_volume_daily_all_sum_mean_lag30</th>\n",
       "      <th>derivatives_futures_volume_daily_all_sum_std_lag3</th>\n",
       "      <th>derivatives_futures_volume_daily_all_sum_std_lag7</th>\n",
       "      <th>derivatives_futures_volume_daily_all_sum_std_lag30</th>\n",
       "      <th>month</th>\n",
       "      <th>week</th>\n",
       "      <th>day</th>\n",
       "      <th>day_of_week</th>\n",
       "    </tr>\n",
       "    <tr>\n",
       "      <th>t</th>\n",
       "      <th></th>\n",
       "      <th></th>\n",
       "      <th></th>\n",
       "      <th></th>\n",
       "      <th></th>\n",
       "      <th></th>\n",
       "      <th></th>\n",
       "      <th></th>\n",
       "      <th></th>\n",
       "      <th></th>\n",
       "      <th></th>\n",
       "      <th></th>\n",
       "      <th></th>\n",
       "      <th></th>\n",
       "      <th></th>\n",
       "      <th></th>\n",
       "      <th></th>\n",
       "      <th></th>\n",
       "      <th></th>\n",
       "      <th></th>\n",
       "      <th></th>\n",
       "    </tr>\n",
       "  </thead>\n",
       "  <tbody>\n",
       "    <tr>\n",
       "      <th>2010-01-01</th>\n",
       "      <td>NaN</td>\n",
       "      <td>4.313379e+09</td>\n",
       "      <td>4.463299e+09</td>\n",
       "      <td>4.306751e+09</td>\n",
       "      <td>4.389233e+09</td>\n",
       "      <td>4.353883e+09</td>\n",
       "      <td>2.169753e+09</td>\n",
       "      <td>4.556816e+09</td>\n",
       "      <td>4.321152e+09</td>\n",
       "      <td>70018.15</td>\n",
       "      <td>...</td>\n",
       "      <td>NaN</td>\n",
       "      <td>NaN</td>\n",
       "      <td>NaN</td>\n",
       "      <td>NaN</td>\n",
       "      <td>NaN</td>\n",
       "      <td>NaN</td>\n",
       "      <td>1</td>\n",
       "      <td>53</td>\n",
       "      <td>1</td>\n",
       "      <td>4</td>\n",
       "    </tr>\n",
       "    <tr>\n",
       "      <th>2010-01-02</th>\n",
       "      <td>NaN</td>\n",
       "      <td>4.319516e+09</td>\n",
       "      <td>4.519409e+09</td>\n",
       "      <td>4.310678e+09</td>\n",
       "      <td>4.420655e+09</td>\n",
       "      <td>4.373522e+09</td>\n",
       "      <td>2.176318e+09</td>\n",
       "      <td>4.644100e+09</td>\n",
       "      <td>4.329881e+09</td>\n",
       "      <td>70018.15</td>\n",
       "      <td>...</td>\n",
       "      <td>NaN</td>\n",
       "      <td>NaN</td>\n",
       "      <td>NaN</td>\n",
       "      <td>NaN</td>\n",
       "      <td>NaN</td>\n",
       "      <td>NaN</td>\n",
       "      <td>1</td>\n",
       "      <td>53</td>\n",
       "      <td>2</td>\n",
       "      <td>5</td>\n",
       "    </tr>\n",
       "    <tr>\n",
       "      <th>2010-01-03</th>\n",
       "      <td>NaN</td>\n",
       "      <td>4.325653e+09</td>\n",
       "      <td>4.575520e+09</td>\n",
       "      <td>4.314606e+09</td>\n",
       "      <td>4.452077e+09</td>\n",
       "      <td>4.393161e+09</td>\n",
       "      <td>2.182929e+09</td>\n",
       "      <td>4.731383e+09</td>\n",
       "      <td>4.338609e+09</td>\n",
       "      <td>70018.15</td>\n",
       "      <td>...</td>\n",
       "      <td>NaN</td>\n",
       "      <td>NaN</td>\n",
       "      <td>NaN</td>\n",
       "      <td>NaN</td>\n",
       "      <td>NaN</td>\n",
       "      <td>NaN</td>\n",
       "      <td>1</td>\n",
       "      <td>53</td>\n",
       "      <td>3</td>\n",
       "      <td>6</td>\n",
       "    </tr>\n",
       "    <tr>\n",
       "      <th>2010-01-04</th>\n",
       "      <td>NaN</td>\n",
       "      <td>4.331790e+09</td>\n",
       "      <td>4.631631e+09</td>\n",
       "      <td>4.318534e+09</td>\n",
       "      <td>4.483499e+09</td>\n",
       "      <td>4.412799e+09</td>\n",
       "      <td>2.189539e+09</td>\n",
       "      <td>4.818666e+09</td>\n",
       "      <td>4.347337e+09</td>\n",
       "      <td>90722.50</td>\n",
       "      <td>...</td>\n",
       "      <td>NaN</td>\n",
       "      <td>NaN</td>\n",
       "      <td>NaN</td>\n",
       "      <td>NaN</td>\n",
       "      <td>NaN</td>\n",
       "      <td>NaN</td>\n",
       "      <td>1</td>\n",
       "      <td>1</td>\n",
       "      <td>4</td>\n",
       "      <td>0</td>\n",
       "    </tr>\n",
       "    <tr>\n",
       "      <th>2010-01-05</th>\n",
       "      <td>NaN</td>\n",
       "      <td>4.337927e+09</td>\n",
       "      <td>4.687741e+09</td>\n",
       "      <td>4.322461e+09</td>\n",
       "      <td>4.514921e+09</td>\n",
       "      <td>4.432438e+09</td>\n",
       "      <td>2.196157e+09</td>\n",
       "      <td>4.905949e+09</td>\n",
       "      <td>4.356065e+09</td>\n",
       "      <td>90722.50</td>\n",
       "      <td>...</td>\n",
       "      <td>NaN</td>\n",
       "      <td>NaN</td>\n",
       "      <td>NaN</td>\n",
       "      <td>NaN</td>\n",
       "      <td>NaN</td>\n",
       "      <td>NaN</td>\n",
       "      <td>1</td>\n",
       "      <td>1</td>\n",
       "      <td>5</td>\n",
       "      <td>1</td>\n",
       "    </tr>\n",
       "  </tbody>\n",
       "</table>\n",
       "<p>5 rows × 145 columns</p>\n",
       "</div>"
      ],
      "text/plain": [
       "            market_mvrv_more_155         ma128          ma14         ma200  \\\n",
       "t                                                                            \n",
       "2010-01-01                   NaN  4.313379e+09  4.463299e+09  4.306751e+09   \n",
       "2010-01-02                   NaN  4.319516e+09  4.519409e+09  4.310678e+09   \n",
       "2010-01-03                   NaN  4.325653e+09  4.575520e+09  4.314606e+09   \n",
       "2010-01-04                   NaN  4.331790e+09  4.631631e+09  4.318534e+09   \n",
       "2010-01-05                   NaN  4.337927e+09  4.687741e+09  4.322461e+09   \n",
       "\n",
       "                    ma25          ma40          ma60           ma9  \\\n",
       "t                                                                    \n",
       "2010-01-01  4.389233e+09  4.353883e+09  2.169753e+09  4.556816e+09   \n",
       "2010-01-02  4.420655e+09  4.373522e+09  2.176318e+09  4.644100e+09   \n",
       "2010-01-03  4.452077e+09  4.393161e+09  2.182929e+09  4.731383e+09   \n",
       "2010-01-04  4.483499e+09  4.412799e+09  2.189539e+09  4.818666e+09   \n",
       "2010-01-05  4.514921e+09  4.432438e+09  2.196157e+09  4.905949e+09   \n",
       "\n",
       "                    ma90  addresses_accumulation_balance  ...  \\\n",
       "t                                                         ...   \n",
       "2010-01-01  4.321152e+09                        70018.15  ...   \n",
       "2010-01-02  4.329881e+09                        70018.15  ...   \n",
       "2010-01-03  4.338609e+09                        70018.15  ...   \n",
       "2010-01-04  4.347337e+09                        90722.50  ...   \n",
       "2010-01-05  4.356065e+09                        90722.50  ...   \n",
       "\n",
       "            derivatives_futures_volume_daily_all_sum_mean_lag3  \\\n",
       "t                                                                \n",
       "2010-01-01                                                NaN    \n",
       "2010-01-02                                                NaN    \n",
       "2010-01-03                                                NaN    \n",
       "2010-01-04                                                NaN    \n",
       "2010-01-05                                                NaN    \n",
       "\n",
       "            derivatives_futures_volume_daily_all_sum_mean_lag7  \\\n",
       "t                                                                \n",
       "2010-01-01                                                NaN    \n",
       "2010-01-02                                                NaN    \n",
       "2010-01-03                                                NaN    \n",
       "2010-01-04                                                NaN    \n",
       "2010-01-05                                                NaN    \n",
       "\n",
       "            derivatives_futures_volume_daily_all_sum_mean_lag30  \\\n",
       "t                                                                 \n",
       "2010-01-01                                                NaN     \n",
       "2010-01-02                                                NaN     \n",
       "2010-01-03                                                NaN     \n",
       "2010-01-04                                                NaN     \n",
       "2010-01-05                                                NaN     \n",
       "\n",
       "            derivatives_futures_volume_daily_all_sum_std_lag3  \\\n",
       "t                                                               \n",
       "2010-01-01                                                NaN   \n",
       "2010-01-02                                                NaN   \n",
       "2010-01-03                                                NaN   \n",
       "2010-01-04                                                NaN   \n",
       "2010-01-05                                                NaN   \n",
       "\n",
       "            derivatives_futures_volume_daily_all_sum_std_lag7  \\\n",
       "t                                                               \n",
       "2010-01-01                                                NaN   \n",
       "2010-01-02                                                NaN   \n",
       "2010-01-03                                                NaN   \n",
       "2010-01-04                                                NaN   \n",
       "2010-01-05                                                NaN   \n",
       "\n",
       "            derivatives_futures_volume_daily_all_sum_std_lag30  month  week  \\\n",
       "t                                                                             \n",
       "2010-01-01                                                NaN       1    53   \n",
       "2010-01-02                                                NaN       1    53   \n",
       "2010-01-03                                                NaN       1    53   \n",
       "2010-01-04                                                NaN       1     1   \n",
       "2010-01-05                                                NaN       1     1   \n",
       "\n",
       "            day  day_of_week  \n",
       "t                             \n",
       "2010-01-01    1            4  \n",
       "2010-01-02    2            5  \n",
       "2010-01-03    3            6  \n",
       "2010-01-04    4            0  \n",
       "2010-01-05    5            1  \n",
       "\n",
       "[5 rows x 145 columns]"
      ]
     },
     "execution_count": 47,
     "metadata": {},
     "output_type": "execute_result"
    }
   ],
   "source": [
    "lag_features = [\"Open\", \"High\", \"Low\", \"Close\", \"derivatives_futures_volume_daily_all_sum\"]\n",
    "window1 = 3\n",
    "window2 = 7\n",
    "window3 = 30\n",
    "\n",
    "df_rolled_3d = df[lag_features].rolling(window=window1, min_periods=0)\n",
    "df_rolled_7d = df[lag_features].rolling(window=window2, min_periods=0)\n",
    "df_rolled_30d = df[lag_features].rolling(window=window3, min_periods=0)\n",
    "\n",
    "df_mean_3d = df_rolled_3d.mean().shift(1).reset_index()\n",
    "df_mean_7d = df_rolled_7d.mean().shift(1).reset_index()\n",
    "df_mean_30d = df_rolled_30d.mean().shift(1).reset_index()\n",
    "\n",
    "df_std_3d = df_rolled_3d.std().shift(1).reset_index()\n",
    "df_std_7d = df_rolled_7d.std().shift(1).reset_index()\n",
    "df_std_30d = df_rolled_30d.std().shift(1).reset_index()\n",
    "\n",
    "for feature in lag_features:\n",
    "    df[f\"{feature}_mean_lag{window1}\"] = df_mean_3d[feature]\n",
    "    df[f\"{feature}_mean_lag{window2}\"] = df_mean_7d[feature]\n",
    "    df[f\"{feature}_mean_lag{window3}\"] = df_mean_30d[feature]\n",
    "    \n",
    "    df[f\"{feature}_std_lag{window1}\"] = df_std_3d[feature]\n",
    "    df[f\"{feature}_std_lag{window2}\"] = df_std_7d[feature]\n",
    "    df[f\"{feature}_std_lag{window3}\"] = df_std_30d[feature]\n",
    "\n",
    "df[lag_features].fillna(df.mean(), inplace=True)\n",
    "\n",
    "df[\"month\"] = df.index.month\n",
    "df[\"week\"] = df.index.week\n",
    "df[\"day\"] = df.index.day\n",
    "df[\"day_of_week\"] = df.index.dayofweek\n",
    "\n",
    "df.head()"
   ]
  },
  {
   "cell_type": "markdown",
   "metadata": {},
   "source": [
    "Dropping columns with high % of null values."
   ]
  },
  {
   "cell_type": "code",
   "execution_count": 48,
   "metadata": {},
   "outputs": [
    {
     "data": {
      "text/plain": [
       "['High_mean_lag3',\n",
       " 'Low_std_lag7',\n",
       " 'Open_mean_lag3',\n",
       " 'Open_mean_lag7',\n",
       " 'Open_mean_lag30',\n",
       " 'Open_std_lag3',\n",
       " 'Open_std_lag7',\n",
       " 'Open_std_lag30',\n",
       " 'High_mean_lag7',\n",
       " 'High_mean_lag30',\n",
       " 'High_std_lag3',\n",
       " 'High_std_lag7',\n",
       " 'High_std_lag30',\n",
       " 'Low_mean_lag3',\n",
       " 'Low_mean_lag7',\n",
       " 'Low_mean_lag30',\n",
       " 'Low_std_lag3',\n",
       " 'Low_std_lag30',\n",
       " 'Close_std_lag30',\n",
       " 'derivatives_futures_volume_daily_all_sum_std_lag30',\n",
       " 'derivatives_futures_volume_daily_all_sum_std_lag7',\n",
       " 'derivatives_futures_volume_daily_all_sum_std_lag3',\n",
       " 'derivatives_futures_volume_daily_all_sum_mean_lag30',\n",
       " 'derivatives_futures_volume_daily_all_sum_mean_lag3',\n",
       " 'derivatives_futures_volume_daily_all_sum_mean_lag7',\n",
       " 'Close_std_lag7',\n",
       " 'Close_std_lag3',\n",
       " 'Close_mean_lag30',\n",
       " 'Close_mean_lag7',\n",
       " 'Close_mean_lag3',\n",
       " 'daily_volume',\n",
       " 'open_interest',\n",
       " 'derivatives_futures_funding_rate_perpetual',\n",
       " 'derivatives_futures_volume_daily_all_sum',\n",
       " 'derivatives_futures_open_interest_all_sum',\n",
       " 'derivatives_futures_volume_daily_perpetual_sum',\n",
       " 'derivatives_futures_open_interest_perpetual_sum']"
      ]
     },
     "execution_count": 48,
     "metadata": {},
     "output_type": "execute_result"
    }
   ],
   "source": [
    "to_drop = list(((df.isnull().sum())/len(df)*100).sort_values(ascending = False).head(37).index)\n",
    "to_drop"
   ]
  },
  {
   "cell_type": "code",
   "execution_count": 49,
   "metadata": {},
   "outputs": [
    {
     "data": {
      "text/html": [
       "<div>\n",
       "<style scoped>\n",
       "    .dataframe tbody tr th:only-of-type {\n",
       "        vertical-align: middle;\n",
       "    }\n",
       "\n",
       "    .dataframe tbody tr th {\n",
       "        vertical-align: top;\n",
       "    }\n",
       "\n",
       "    .dataframe thead th {\n",
       "        text-align: right;\n",
       "    }\n",
       "</style>\n",
       "<table border=\"1\" class=\"dataframe\">\n",
       "  <thead>\n",
       "    <tr style=\"text-align: right;\">\n",
       "      <th></th>\n",
       "      <th>market_mvrv_more_155</th>\n",
       "      <th>ma128</th>\n",
       "      <th>ma14</th>\n",
       "      <th>ma200</th>\n",
       "      <th>ma25</th>\n",
       "      <th>ma40</th>\n",
       "      <th>ma60</th>\n",
       "      <th>ma9</th>\n",
       "      <th>ma90</th>\n",
       "      <th>addresses_accumulation_balance</th>\n",
       "      <th>...</th>\n",
       "      <th>entities_active_count</th>\n",
       "      <th>indicators_net_unrealized_profit_loss</th>\n",
       "      <th>addresses_receiving_from_exchanges_count</th>\n",
       "      <th>supply_current</th>\n",
       "      <th>transactions_transfers_to_exchanges_count</th>\n",
       "      <th>indicators_sopr_less_155</th>\n",
       "      <th>month</th>\n",
       "      <th>week</th>\n",
       "      <th>day</th>\n",
       "      <th>day_of_week</th>\n",
       "    </tr>\n",
       "    <tr>\n",
       "      <th>t</th>\n",
       "      <th></th>\n",
       "      <th></th>\n",
       "      <th></th>\n",
       "      <th></th>\n",
       "      <th></th>\n",
       "      <th></th>\n",
       "      <th></th>\n",
       "      <th></th>\n",
       "      <th></th>\n",
       "      <th></th>\n",
       "      <th></th>\n",
       "      <th></th>\n",
       "      <th></th>\n",
       "      <th></th>\n",
       "      <th></th>\n",
       "      <th></th>\n",
       "      <th></th>\n",
       "      <th></th>\n",
       "      <th></th>\n",
       "      <th></th>\n",
       "      <th></th>\n",
       "    </tr>\n",
       "  </thead>\n",
       "  <tbody>\n",
       "    <tr>\n",
       "      <th>2010-01-01</th>\n",
       "      <td>NaN</td>\n",
       "      <td>4.313379e+09</td>\n",
       "      <td>4.463299e+09</td>\n",
       "      <td>4.306751e+09</td>\n",
       "      <td>4.389233e+09</td>\n",
       "      <td>4.353883e+09</td>\n",
       "      <td>2.169753e+09</td>\n",
       "      <td>4.556816e+09</td>\n",
       "      <td>4.321152e+09</td>\n",
       "      <td>70018.15</td>\n",
       "      <td>...</td>\n",
       "      <td>4.0</td>\n",
       "      <td>NaN</td>\n",
       "      <td>0.0</td>\n",
       "      <td>1631150.0</td>\n",
       "      <td>NaN</td>\n",
       "      <td>NaN</td>\n",
       "      <td>1</td>\n",
       "      <td>53</td>\n",
       "      <td>1</td>\n",
       "      <td>4</td>\n",
       "    </tr>\n",
       "    <tr>\n",
       "      <th>2010-01-02</th>\n",
       "      <td>NaN</td>\n",
       "      <td>4.319516e+09</td>\n",
       "      <td>4.519409e+09</td>\n",
       "      <td>4.310678e+09</td>\n",
       "      <td>4.420655e+09</td>\n",
       "      <td>4.373522e+09</td>\n",
       "      <td>2.176318e+09</td>\n",
       "      <td>4.644100e+09</td>\n",
       "      <td>4.329881e+09</td>\n",
       "      <td>70018.15</td>\n",
       "      <td>...</td>\n",
       "      <td>0.0</td>\n",
       "      <td>NaN</td>\n",
       "      <td>0.0</td>\n",
       "      <td>1637400.0</td>\n",
       "      <td>NaN</td>\n",
       "      <td>NaN</td>\n",
       "      <td>1</td>\n",
       "      <td>53</td>\n",
       "      <td>2</td>\n",
       "      <td>5</td>\n",
       "    </tr>\n",
       "    <tr>\n",
       "      <th>2010-01-03</th>\n",
       "      <td>NaN</td>\n",
       "      <td>4.325653e+09</td>\n",
       "      <td>4.575520e+09</td>\n",
       "      <td>4.314606e+09</td>\n",
       "      <td>4.452077e+09</td>\n",
       "      <td>4.393161e+09</td>\n",
       "      <td>2.182929e+09</td>\n",
       "      <td>4.731383e+09</td>\n",
       "      <td>4.338609e+09</td>\n",
       "      <td>70018.15</td>\n",
       "      <td>...</td>\n",
       "      <td>0.0</td>\n",
       "      <td>NaN</td>\n",
       "      <td>0.0</td>\n",
       "      <td>1646700.0</td>\n",
       "      <td>NaN</td>\n",
       "      <td>NaN</td>\n",
       "      <td>1</td>\n",
       "      <td>53</td>\n",
       "      <td>3</td>\n",
       "      <td>6</td>\n",
       "    </tr>\n",
       "    <tr>\n",
       "      <th>2010-01-04</th>\n",
       "      <td>NaN</td>\n",
       "      <td>4.331790e+09</td>\n",
       "      <td>4.631631e+09</td>\n",
       "      <td>4.318534e+09</td>\n",
       "      <td>4.483499e+09</td>\n",
       "      <td>4.412799e+09</td>\n",
       "      <td>2.189539e+09</td>\n",
       "      <td>4.818666e+09</td>\n",
       "      <td>4.347337e+09</td>\n",
       "      <td>90722.50</td>\n",
       "      <td>...</td>\n",
       "      <td>5.0</td>\n",
       "      <td>NaN</td>\n",
       "      <td>0.0</td>\n",
       "      <td>1655750.0</td>\n",
       "      <td>NaN</td>\n",
       "      <td>NaN</td>\n",
       "      <td>1</td>\n",
       "      <td>1</td>\n",
       "      <td>4</td>\n",
       "      <td>0</td>\n",
       "    </tr>\n",
       "    <tr>\n",
       "      <th>2010-01-05</th>\n",
       "      <td>NaN</td>\n",
       "      <td>4.337927e+09</td>\n",
       "      <td>4.687741e+09</td>\n",
       "      <td>4.322461e+09</td>\n",
       "      <td>4.514921e+09</td>\n",
       "      <td>4.432438e+09</td>\n",
       "      <td>2.196157e+09</td>\n",
       "      <td>4.905949e+09</td>\n",
       "      <td>4.356065e+09</td>\n",
       "      <td>90722.50</td>\n",
       "      <td>...</td>\n",
       "      <td>0.0</td>\n",
       "      <td>NaN</td>\n",
       "      <td>0.0</td>\n",
       "      <td>1665650.0</td>\n",
       "      <td>NaN</td>\n",
       "      <td>NaN</td>\n",
       "      <td>1</td>\n",
       "      <td>1</td>\n",
       "      <td>5</td>\n",
       "      <td>1</td>\n",
       "    </tr>\n",
       "  </tbody>\n",
       "</table>\n",
       "<p>5 rows × 108 columns</p>\n",
       "</div>"
      ],
      "text/plain": [
       "            market_mvrv_more_155         ma128          ma14         ma200  \\\n",
       "t                                                                            \n",
       "2010-01-01                   NaN  4.313379e+09  4.463299e+09  4.306751e+09   \n",
       "2010-01-02                   NaN  4.319516e+09  4.519409e+09  4.310678e+09   \n",
       "2010-01-03                   NaN  4.325653e+09  4.575520e+09  4.314606e+09   \n",
       "2010-01-04                   NaN  4.331790e+09  4.631631e+09  4.318534e+09   \n",
       "2010-01-05                   NaN  4.337927e+09  4.687741e+09  4.322461e+09   \n",
       "\n",
       "                    ma25          ma40          ma60           ma9  \\\n",
       "t                                                                    \n",
       "2010-01-01  4.389233e+09  4.353883e+09  2.169753e+09  4.556816e+09   \n",
       "2010-01-02  4.420655e+09  4.373522e+09  2.176318e+09  4.644100e+09   \n",
       "2010-01-03  4.452077e+09  4.393161e+09  2.182929e+09  4.731383e+09   \n",
       "2010-01-04  4.483499e+09  4.412799e+09  2.189539e+09  4.818666e+09   \n",
       "2010-01-05  4.514921e+09  4.432438e+09  2.196157e+09  4.905949e+09   \n",
       "\n",
       "                    ma90  addresses_accumulation_balance  ...  \\\n",
       "t                                                         ...   \n",
       "2010-01-01  4.321152e+09                        70018.15  ...   \n",
       "2010-01-02  4.329881e+09                        70018.15  ...   \n",
       "2010-01-03  4.338609e+09                        70018.15  ...   \n",
       "2010-01-04  4.347337e+09                        90722.50  ...   \n",
       "2010-01-05  4.356065e+09                        90722.50  ...   \n",
       "\n",
       "            entities_active_count  indicators_net_unrealized_profit_loss  \\\n",
       "t                                                                          \n",
       "2010-01-01                    4.0                                    NaN   \n",
       "2010-01-02                    0.0                                    NaN   \n",
       "2010-01-03                    0.0                                    NaN   \n",
       "2010-01-04                    5.0                                    NaN   \n",
       "2010-01-05                    0.0                                    NaN   \n",
       "\n",
       "            addresses_receiving_from_exchanges_count  supply_current  \\\n",
       "t                                                                      \n",
       "2010-01-01                                       0.0       1631150.0   \n",
       "2010-01-02                                       0.0       1637400.0   \n",
       "2010-01-03                                       0.0       1646700.0   \n",
       "2010-01-04                                       0.0       1655750.0   \n",
       "2010-01-05                                       0.0       1665650.0   \n",
       "\n",
       "            transactions_transfers_to_exchanges_count  \\\n",
       "t                                                       \n",
       "2010-01-01                                        NaN   \n",
       "2010-01-02                                        NaN   \n",
       "2010-01-03                                        NaN   \n",
       "2010-01-04                                        NaN   \n",
       "2010-01-05                                        NaN   \n",
       "\n",
       "            indicators_sopr_less_155  month  week  day  day_of_week  \n",
       "t                                                                    \n",
       "2010-01-01                       NaN      1    53    1            4  \n",
       "2010-01-02                       NaN      1    53    2            5  \n",
       "2010-01-03                       NaN      1    53    3            6  \n",
       "2010-01-04                       NaN      1     1    4            0  \n",
       "2010-01-05                       NaN      1     1    5            1  \n",
       "\n",
       "[5 rows x 108 columns]"
      ]
     },
     "execution_count": 49,
     "metadata": {},
     "output_type": "execute_result"
    }
   ],
   "source": [
    "df.drop(columns=to_drop, inplace=True)\n",
    "df.head()"
   ]
  },
  {
   "cell_type": "code",
   "execution_count": 50,
   "metadata": {},
   "outputs": [],
   "source": [
    "# Fill Null Values"
   ]
  },
  {
   "cell_type": "code",
   "execution_count": 51,
   "metadata": {},
   "outputs": [
    {
     "data": {
      "text/plain": [
       "transactions_transfers_volume_miners_to_exchanges      96.814156\n",
       "mining_miners_outflow_multiple                         96.780331\n",
       "indicators_sopr_more_155                               96.562586\n",
       "market_mvrv_more_155                                   96.558358\n",
       "transactions_transfers_from_exchanges_count            96.426231\n",
       "distribution_balance_exchanges                         96.426231\n",
       "transactions_transfers_volume_to_exchanges_sum         96.426231\n",
       "transactions_transfers_volume_from_exchanges_sum       96.426231\n",
       "transactions_transfers_volume_exchanges_net            96.426231\n",
       "transactions_transfers_to_exchanges_count              96.426231\n",
       "indicators_sopr_account_based                          96.395577\n",
       "indicators_net_unrealized_profit_loss_account_based    96.395577\n",
       "indicators_sopr_less_155                               96.395577\n",
       "addresses_profit_relative                              96.395577\n",
       "indicators_mvrv_account_based                          96.395577\n",
       "entities_profit_relative                               96.395577\n",
       "indicators_nupl_more_155_account_based                 96.395577\n",
       "market_mvrv_less_155                                   96.394520\n",
       "indicators_puell_multiple                              96.392406\n",
       "transactions_entity_adjusted_count                     96.186288\n",
       "indicators_liveliness_account_based                    96.186288\n",
       "transactions_transfers_volume_entity_adjusted_sum      96.186288\n",
       "entities_receiving_count                               96.186288\n",
       "transactions_transfers_volume_miners_net               96.186288\n",
       "indicators_hodled_lost_coins                           96.186288\n",
       "entities_min_1k_count                                  96.186288\n",
       "entities_new_count                                     96.186288\n",
       "addresses_accumulation_count                           96.186288\n",
       "entities_net_growth_count                              96.186288\n",
       "addresses_accumulation_balance                         96.186288\n",
       "dtype: float64"
      ]
     },
     "execution_count": 51,
     "metadata": {},
     "output_type": "execute_result"
    }
   ],
   "source": [
    "((df.isnull().sum())/len(df)*100).sort_values(ascending = False).head(30)"
   ]
  },
  {
   "cell_type": "code",
   "execution_count": 52,
   "metadata": {},
   "outputs": [],
   "source": [
    "df.fillna(method='bfill', inplace=True)"
   ]
  },
  {
   "cell_type": "code",
   "execution_count": 53,
   "metadata": {},
   "outputs": [],
   "source": [
    "df.fillna(method='ffill', inplace=True)"
   ]
  },
  {
   "cell_type": "code",
   "execution_count": 54,
   "metadata": {},
   "outputs": [
    {
     "data": {
      "text/plain": [
       "day_of_week                                       0.0\n",
       "supply_profit_relative                            0.0\n",
       "addresses_min_1k_count                            0.0\n",
       "supply_active_more_1y_percent                     0.0\n",
       "transactions_transfers_volume_to_exchanges_sum    0.0\n",
       "                                                 ... \n",
       "blockchain_utxo_profit_relative                   0.0\n",
       "transactions_entity_adjusted_count                0.0\n",
       "mining_volume_mined_sum                           0.0\n",
       "transactions_count                                0.0\n",
       "market_mvrv_more_155                              0.0\n",
       "Length: 108, dtype: float64"
      ]
     },
     "execution_count": 54,
     "metadata": {},
     "output_type": "execute_result"
    }
   ],
   "source": [
    "((df.isnull().sum())/len(df)*100).sort_values(ascending = False)"
   ]
  },
  {
   "cell_type": "markdown",
   "metadata": {},
   "source": [
    "### Exporting this data for later use"
   ]
  },
  {
   "cell_type": "code",
   "execution_count": 55,
   "metadata": {},
   "outputs": [],
   "source": [
    "with open(\"exog_bitcoin.pickle\", 'wb') as fp:\n",
    "    pickle.dump(df, fp)"
   ]
  },
  {
   "cell_type": "code",
   "execution_count": 56,
   "metadata": {},
   "outputs": [
    {
     "name": "stdout",
     "output_type": "stream",
     "text": [
      "train shape : (86549, 108)\n",
      "validation shape : (8057, 108)\n"
     ]
    }
   ],
   "source": [
    "train = df[df.index < \"2020\"]\n",
    "valid = df[df.index >= \"2020\"]\n",
    "\n",
    "print('train shape :', train.shape)\n",
    "print('validation shape :', valid.shape)"
   ]
  },
  {
   "cell_type": "code",
   "execution_count": 57,
   "metadata": {},
   "outputs": [],
   "source": [
    "exogenous_features = [i for i in df.columns if i not in 'CloseHighOpenLow']"
   ]
  },
  {
   "cell_type": "code",
   "execution_count": null,
   "metadata": {},
   "outputs": [
    {
     "name": "stdout",
     "output_type": "stream",
     "text": [
      "Performing stepwise search to minimize aic\n"
     ]
    }
   ],
   "source": [
    "model = pmd.auto_arima(train['Close'], exogenous=train[exogenous_features], \n",
    "                       trace=True, error_action=\"ignore\", suppress_warnings=True,\n",
    "                       m=1460)\n",
    "model.fit(train['Close'], exogenous=train[exogenous_features])\n",
    "\n",
    "forecast = model.predict(n_periods=len(valid), exogenous=valid[exogenous_features])\n",
    "valid[\"Forecast_ARIMAX_1460\"] = forecast"
   ]
  },
  {
   "cell_type": "code",
   "execution_count": null,
   "metadata": {
    "papermill": {
     "duration": 0.553931,
     "end_time": "2020-10-02T15:49:47.459699",
     "exception": false,
     "start_time": "2020-10-02T15:49:46.905768",
     "status": "completed"
    },
    "tags": []
   },
   "outputs": [],
   "source": [
    "valid[[\"Close\", \"Forecast_ARIMAX\"]].plot(figsize=(14, 7));"
   ]
  },
  {
   "cell_type": "code",
   "execution_count": null,
   "metadata": {},
   "outputs": [],
   "source": [
    "print(\"RMSE of Auto ARIMAX:\", np.sqrt(mean_squared_error(valid.Close, valid.Forecast_ARIMAX)))\n",
    "\n",
    "print(\"\\nMAE of Auto ARIMAX:\", mean_absolute_error(valid.Close, valid.Forecast_ARIMAX))"
   ]
  },
  {
   "cell_type": "code",
   "execution_count": null,
   "metadata": {
    "papermill": {
     "duration": 1.358802,
     "end_time": "2020-10-02T15:49:49.378576",
     "exception": false,
     "start_time": "2020-10-02T15:49:48.019774",
     "status": "completed"
    },
    "tags": []
   },
   "outputs": [],
   "source": [
    "model.plot_diagnostics()"
   ]
  },
  {
   "cell_type": "code",
   "execution_count": null,
   "metadata": {},
   "outputs": [],
   "source": [
    "model2 = pmd.auto_arima(train['Close'], \n",
    "                       trace=True, error_action=\"ignore\", suppress_warnings=True,\n",
    "                       m=364)\n",
    "model2.fit(train['Close'])\n",
    "\n",
    "forecast2 = model2.predict(n_periods=len(valid))\n",
    "valid[\"Forecast_ARIMAX_364\"] = forecast2"
   ]
  },
  {
   "cell_type": "code",
   "execution_count": null,
   "metadata": {},
   "outputs": [],
   "source": [
    "valid[[\"Close\", \"Forecast_ARIMAX_364\"]].plot(figsize=(14, 7));"
   ]
  },
  {
   "cell_type": "code",
   "execution_count": null,
   "metadata": {},
   "outputs": [],
   "source": [
    "fig, axes = plt.subplots(1, 2, figsize=(12, 8))\n",
    "x = np.arange(len(valid))\n",
    "\n",
    "# Plot m=1460\n",
    "axes[0].scatter(x, valid, marker='x')\n",
    "axes[0].plot(x, forecast)\n",
    "axes[0].set_title('Test samples vs. forecasts (m=1460)')\n",
    "\n",
    "# Plot m=364\n",
    "axes[1].scatter(x, test, marker='x')\n",
    "axes[1].plot(x, forecast2)\n",
    "axes[1].set_title('Test samples vs. forecasts (m=364)')\n",
    "\n",
    "plt.show()"
   ]
  },
  {
   "cell_type": "markdown",
   "metadata": {},
   "source": [
    "### Exporting this data for later use"
   ]
  },
  {
   "cell_type": "code",
   "execution_count": null,
   "metadata": {},
   "outputs": [],
   "source": [
    "with open(\"valid_ARIMAX_bitcoin.pickle\", 'wb') as fp:\n",
    "    pickle.dump(valid, fp)"
   ]
  },
  {
   "cell_type": "code",
   "execution_count": null,
   "metadata": {},
   "outputs": [],
   "source": []
  }
 ],
 "metadata": {
  "kernelspec": {
   "display_name": "Python 3",
   "language": "python",
   "name": "python3"
  },
  "language_info": {
   "codemirror_mode": {
    "name": "ipython",
    "version": 3
   },
   "file_extension": ".py",
   "mimetype": "text/x-python",
   "name": "python",
   "nbconvert_exporter": "python",
   "pygments_lexer": "ipython3",
   "version": "3.7.9"
  }
 },
 "nbformat": 4,
 "nbformat_minor": 4
}

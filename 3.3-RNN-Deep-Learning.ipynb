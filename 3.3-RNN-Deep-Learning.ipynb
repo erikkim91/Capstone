{
 "cells": [
  {
   "cell_type": "markdown",
   "metadata": {},
   "source": [
    "# Capstone: Bitcoin: Time Series Forecasting Using Machine Learning"
   ]
  },
  {
   "cell_type": "markdown",
   "metadata": {},
   "source": [
    "## 3.3 Modeling - Recurrent Neural Network (LSTM) - BTC\n",
    "---"
   ]
  },
  {
   "cell_type": "markdown",
   "metadata": {},
   "source": [
    "Long Short Term Memory networks are a special kind of RNN that are capable of learning long-term dependencies.\n",
    "LSTMs are explicitly designed to avoid the long-term dependency problem, so they have a memory component to learn long-term behavior.\n",
    "Let's see how it does with Bitcoin's price data."
   ]
  },
  {
   "cell_type": "markdown",
   "metadata": {},
   "source": [
    "## Imports\n",
    "---"
   ]
  },
  {
   "cell_type": "code",
   "execution_count": 1,
   "metadata": {},
   "outputs": [],
   "source": [
    "import numpy as np\n",
    "import matplotlib.pyplot as plt\n",
    "import pandas as pd\n",
    "from sklearn.preprocessing import MinMaxScaler\n",
    "plt.style.use(\"ggplot\")\n",
    "\n",
    "import _pickle as pickle\n",
    "\n",
    "from keras.models import Sequential\n",
    "from keras.layers import LSTM, Dense, Dropout\n",
    "from keras.callbacks import EarlyStopping\n",
    "from sklearn.metrics import mean_absolute_error, mean_squared_error\n",
    "\n",
    "%matplotlib inline"
   ]
  },
  {
   "cell_type": "markdown",
   "metadata": {},
   "source": [
    "### Loading the Data"
   ]
  },
  {
   "cell_type": "code",
   "execution_count": 2,
   "metadata": {},
   "outputs": [],
   "source": [
    "with open(\"curr_bitcoin.pickle\",'rb') as fp:\n",
    "    df = pickle.load(fp)"
   ]
  },
  {
   "cell_type": "code",
   "execution_count": 3,
   "metadata": {},
   "outputs": [
    {
     "name": "stdout",
     "output_type": "stream",
     "text": [
      "<class 'pandas.core.frame.DataFrame'>\n",
      "DatetimeIndex: 3777 entries, 2010-07-17 to 2020-11-17\n",
      "Data columns (total 4 columns):\n",
      " #   Column  Non-Null Count  Dtype  \n",
      "---  ------  --------------  -----  \n",
      " 0   Close   3777 non-null   float64\n",
      " 1   High    3777 non-null   float64\n",
      " 2   Low     3777 non-null   float64\n",
      " 3   Open    3777 non-null   float64\n",
      "dtypes: float64(4)\n",
      "memory usage: 147.5 KB\n"
     ]
    }
   ],
   "source": [
    "df.info()"
   ]
  },
  {
   "cell_type": "code",
   "execution_count": 4,
   "metadata": {},
   "outputs": [
    {
     "data": {
      "text/html": [
       "<div>\n",
       "<style scoped>\n",
       "    .dataframe tbody tr th:only-of-type {\n",
       "        vertical-align: middle;\n",
       "    }\n",
       "\n",
       "    .dataframe tbody tr th {\n",
       "        vertical-align: top;\n",
       "    }\n",
       "\n",
       "    .dataframe thead th {\n",
       "        text-align: right;\n",
       "    }\n",
       "</style>\n",
       "<table border=\"1\" class=\"dataframe\">\n",
       "  <thead>\n",
       "    <tr style=\"text-align: right;\">\n",
       "      <th></th>\n",
       "      <th>Close</th>\n",
       "      <th>High</th>\n",
       "      <th>Low</th>\n",
       "      <th>Open</th>\n",
       "    </tr>\n",
       "    <tr>\n",
       "      <th>Date</th>\n",
       "      <th></th>\n",
       "      <th></th>\n",
       "      <th></th>\n",
       "      <th></th>\n",
       "    </tr>\n",
       "  </thead>\n",
       "  <tbody>\n",
       "    <tr>\n",
       "      <th>2020-11-13</th>\n",
       "      <td>16311.513323</td>\n",
       "      <td>16462.716548</td>\n",
       "      <td>15992.152801</td>\n",
       "      <td>16292.717048</td>\n",
       "    </tr>\n",
       "    <tr>\n",
       "      <th>2020-11-14</th>\n",
       "      <td>16075.452734</td>\n",
       "      <td>16314.263353</td>\n",
       "      <td>15776.768439</td>\n",
       "      <td>16314.263353</td>\n",
       "    </tr>\n",
       "    <tr>\n",
       "      <th>2020-11-15</th>\n",
       "      <td>15962.098952</td>\n",
       "      <td>16119.264673</td>\n",
       "      <td>15793.533917</td>\n",
       "      <td>16063.671431</td>\n",
       "    </tr>\n",
       "    <tr>\n",
       "      <th>2020-11-16</th>\n",
       "      <td>16709.612284</td>\n",
       "      <td>16804.409142</td>\n",
       "      <td>15887.108131</td>\n",
       "      <td>15953.998053</td>\n",
       "    </tr>\n",
       "    <tr>\n",
       "      <th>2020-11-17</th>\n",
       "      <td>17667.381593</td>\n",
       "      <td>17782.620109</td>\n",
       "      <td>16564.544992</td>\n",
       "      <td>16700.900927</td>\n",
       "    </tr>\n",
       "  </tbody>\n",
       "</table>\n",
       "</div>"
      ],
      "text/plain": [
       "                   Close          High           Low          Open\n",
       "Date                                                              \n",
       "2020-11-13  16311.513323  16462.716548  15992.152801  16292.717048\n",
       "2020-11-14  16075.452734  16314.263353  15776.768439  16314.263353\n",
       "2020-11-15  15962.098952  16119.264673  15793.533917  16063.671431\n",
       "2020-11-16  16709.612284  16804.409142  15887.108131  15953.998053\n",
       "2020-11-17  17667.381593  17782.620109  16564.544992  16700.900927"
      ]
     },
     "execution_count": 4,
     "metadata": {},
     "output_type": "execute_result"
    }
   ],
   "source": [
    "df.tail()"
   ]
  },
  {
   "cell_type": "markdown",
   "metadata": {},
   "source": [
    "## Preprocessing Data"
   ]
  },
  {
   "cell_type": "code",
   "execution_count": 5,
   "metadata": {},
   "outputs": [],
   "source": [
    "# Only selecting the 'Close' column\n",
    "df = df[['Close']]"
   ]
  },
  {
   "cell_type": "code",
   "execution_count": 6,
   "metadata": {},
   "outputs": [],
   "source": [
    "# Normalizing/Scaling the Data\n",
    "scaler = MinMaxScaler()\n",
    "df = pd.DataFrame(scaler.fit_transform(df), columns=df.columns, index=df.index)"
   ]
  },
  {
   "cell_type": "code",
   "execution_count": 7,
   "metadata": {},
   "outputs": [
    {
     "data": {
      "text/html": [
       "<div>\n",
       "<style scoped>\n",
       "    .dataframe tbody tr th:only-of-type {\n",
       "        vertical-align: middle;\n",
       "    }\n",
       "\n",
       "    .dataframe tbody tr th {\n",
       "        vertical-align: top;\n",
       "    }\n",
       "\n",
       "    .dataframe thead th {\n",
       "        text-align: right;\n",
       "    }\n",
       "</style>\n",
       "<table border=\"1\" class=\"dataframe\">\n",
       "  <thead>\n",
       "    <tr style=\"text-align: right;\">\n",
       "      <th></th>\n",
       "      <th>Close</th>\n",
       "    </tr>\n",
       "    <tr>\n",
       "      <th>Date</th>\n",
       "      <th></th>\n",
       "    </tr>\n",
       "  </thead>\n",
       "  <tbody>\n",
       "    <tr>\n",
       "      <th>2010-07-17</th>\n",
       "      <td>0.000000</td>\n",
       "    </tr>\n",
       "    <tr>\n",
       "      <th>2010-07-18</th>\n",
       "      <td>0.000002</td>\n",
       "    </tr>\n",
       "    <tr>\n",
       "      <th>2010-07-19</th>\n",
       "      <td>0.000002</td>\n",
       "    </tr>\n",
       "    <tr>\n",
       "      <th>2010-07-20</th>\n",
       "      <td>0.000001</td>\n",
       "    </tr>\n",
       "    <tr>\n",
       "      <th>2010-07-21</th>\n",
       "      <td>0.000002</td>\n",
       "    </tr>\n",
       "  </tbody>\n",
       "</table>\n",
       "</div>"
      ],
      "text/plain": [
       "               Close\n",
       "Date                \n",
       "2010-07-17  0.000000\n",
       "2010-07-18  0.000002\n",
       "2010-07-19  0.000002\n",
       "2010-07-20  0.000001\n",
       "2010-07-21  0.000002"
      ]
     },
     "execution_count": 7,
     "metadata": {},
     "output_type": "execute_result"
    }
   ],
   "source": [
    "# Checking the newly formatted DataFrame\n",
    "df.head()"
   ]
  },
  {
   "cell_type": "code",
   "execution_count": 8,
   "metadata": {},
   "outputs": [
    {
     "data": {
      "image/png": "[encoded data removed]",
      "text/plain": [
       "<Figure size 1008x576 with 1 Axes>"
      ]
     },
     "metadata": {
      "needs_background": "light"
     },
     "output_type": "display_data"
    }
   ],
   "source": [
    "# Plotting the Closing Prices\n",
    "df.plot(figsize=(14,8), xlim=('2010','2022'))\n",
    "plt.title(\"BTC Closing Prices\")\n",
    "plt.ylabel(\"Price (Normalized)\")\n",
    "plt.show()"
   ]
  },
  {
   "cell_type": "markdown",
   "metadata": {},
   "source": [
    "### Custom fuctions to prepare data for LSTM"
   ]
  },
  {
   "cell_type": "code",
   "execution_count": 9,
   "metadata": {},
   "outputs": [],
   "source": [
    "def split_sequence(seq, n_steps_in, n_steps_out):\n",
    "    \"\"\"\n",
    "    Splits the univariate time sequence\n",
    "    \"\"\"\n",
    "    X, y = [], []\n",
    "    \n",
    "    for i in range(len(seq)):\n",
    "        end = i + n_steps_in\n",
    "        out_end = end + n_steps_out\n",
    "        \n",
    "        if out_end > len(seq):\n",
    "            break\n",
    "        \n",
    "        seq_x, seq_y = seq[i:end], seq[end:out_end]\n",
    "        \n",
    "        X.append(seq_x)\n",
    "        y.append(seq_y)\n",
    "    \n",
    "    return np.array(X), np.array(y)"
   ]
  },
  {
   "cell_type": "code",
   "execution_count": 10,
   "metadata": {},
   "outputs": [],
   "source": [
    "def visualize_training_results(results):\n",
    "    \"\"\"\n",
    "    Plots the loss and accuracy for the training and testing data\n",
    "    \"\"\"\n",
    "    history = results.history\n",
    "    plt.figure(figsize=(12,4))\n",
    "    plt.plot(history['val_loss'])\n",
    "    plt.plot(history['loss'])\n",
    "    plt.legend(['val_loss', 'loss'])\n",
    "    plt.title('Loss')\n",
    "    plt.xlabel('Epochs')\n",
    "    plt.ylabel('Loss')\n",
    "    plt.show()\n",
    "    \n",
    "    plt.figure(figsize=(12,4))\n",
    "    plt.plot(history['val_accuracy'])\n",
    "    plt.plot(history['accuracy'])\n",
    "    plt.legend(['val_accuracy', 'accuracy'])\n",
    "    plt.title('Accuracy')\n",
    "    plt.xlabel('Epochs')\n",
    "    plt.ylabel('Accuracy')\n",
    "    plt.show()"
   ]
  },
  {
   "cell_type": "code",
   "execution_count": 11,
   "metadata": {},
   "outputs": [],
   "source": [
    "def layer_maker(n_layers, n_nodes, activation, drop=None, d_rate=.5):\n",
    "    \"\"\"\n",
    "    Creates a specified number of hidden layers for an RNN\n",
    "    Optional: Adds regularization option - the dropout layer to prevent potential overfitting (if necessary)\n",
    "    \"\"\"\n",
    "    \n",
    "    # Creating the specified number of hidden layers with the specified number of nodes\n",
    "    for x in range(1,n_layers+1):\n",
    "        model.add(LSTM(n_nodes, activation=activation, return_sequences=True))\n",
    "\n",
    "        # Adds a Dropout layer after every Nth hidden layer (the 'drop' variable)\n",
    "        try:\n",
    "            if x % drop == 0:\n",
    "                model.add(Dropout(d_rate))\n",
    "        except:\n",
    "            pass"
   ]
  },
  {
   "cell_type": "markdown",
   "metadata": {},
   "source": [
    "### Splitting the Data"
   ]
  },
  {
   "cell_type": "code",
   "execution_count": 12,
   "metadata": {},
   "outputs": [],
   "source": [
    "# How many periods looking back to learn\n",
    "n_per_in  = 60\n",
    "\n",
    "# How many periods to predict\n",
    "n_per_out = 30\n",
    "\n",
    "# Features (in this case it's 1 because there is only one feature: price)\n",
    "n_features = 1\n",
    "\n",
    "# Splitting the data into appropriate sequences\n",
    "X, y = split_sequence(list(df.Close), n_per_in, n_per_out)\n",
    "\n",
    "# Reshaping the X variable from 2D to 3D\n",
    "X = X.reshape((X.shape[0], X.shape[1], n_features))"
   ]
  },
  {
   "cell_type": "code",
   "execution_count": 13,
   "metadata": {},
   "outputs": [
    {
     "data": {
      "text/plain": [
       "(3688, 60, 1)"
      ]
     },
     "execution_count": 13,
     "metadata": {},
     "output_type": "execute_result"
    }
   ],
   "source": [
    "X.shape"
   ]
  },
  {
   "cell_type": "markdown",
   "metadata": {},
   "source": [
    "## Modeling - LSTM (RNN)"
   ]
  },
  {
   "cell_type": "markdown",
   "metadata": {},
   "source": [
    "### Creating the Neural Network"
   ]
  },
  {
   "cell_type": "code",
   "execution_count": 14,
   "metadata": {
    "scrolled": true
   },
   "outputs": [
    {
     "name": "stdout",
     "output_type": "stream",
     "text": [
      "Model: \"sequential\"\n",
      "_________________________________________________________________\n",
      "Layer (type)                 Output Shape              Param #   \n",
      "=================================================================\n",
      "lstm (LSTM)                  (None, 60, 256)           264192    \n",
      "_________________________________________________________________\n",
      "lstm_1 (LSTM)                (None, 60, 128)           197120    \n",
      "_________________________________________________________________\n",
      "dropout (Dropout)            (None, 60, 128)           0         \n",
      "_________________________________________________________________\n",
      "lstm_2 (LSTM)                (None, 60, 128)           131584    \n",
      "_________________________________________________________________\n",
      "dropout_1 (Dropout)          (None, 60, 128)           0         \n",
      "_________________________________________________________________\n",
      "lstm_3 (LSTM)                (None, 10)                5560      \n",
      "_________________________________________________________________\n",
      "dense (Dense)                (None, 30)                330       \n",
      "=================================================================\n",
      "Total params: 598,786\n",
      "Trainable params: 598,786\n",
      "Non-trainable params: 0\n",
      "_________________________________________________________________\n"
     ]
    }
   ],
   "source": [
    "# Instatiating the model\n",
    "model = Sequential()\n",
    "\n",
    "# Activation\n",
    "activ = 'softsign'\n",
    "\n",
    "# Input layer\n",
    "model.add(LSTM(256, return_sequences=True, activation=activ, input_shape=(n_per_in, n_features)))\n",
    "\n",
    "# Hidden layers\n",
    "layer_maker(n_layers=2, n_nodes=128,  activation=activ, drop=1, d_rate=0.1)\n",
    "\n",
    "# Final Hidden layer\n",
    "model.add(LSTM(10))\n",
    "\n",
    "# Output layer\n",
    "model.add(Dense(n_per_out))\n",
    "\n",
    "# Model summary\n",
    "\n",
    "model.summary()"
   ]
  },
  {
   "cell_type": "code",
   "execution_count": 15,
   "metadata": {},
   "outputs": [],
   "source": [
    "# Compiling the data with selected specifications\n",
    "model.compile(optimizer='adam', loss='mse', metrics=['accuracy'])"
   ]
  },
  {
   "cell_type": "markdown",
   "metadata": {},
   "source": [
    "### Fitting and Training the RNN"
   ]
  },
  {
   "cell_type": "code",
   "execution_count": 16,
   "metadata": {},
   "outputs": [
    {
     "name": "stdout",
     "output_type": "stream",
     "text": [
      "Epoch 1/100\n",
      "104/104 [==============================] - 108s 1s/step - loss: 0.0181 - accuracy: 0.0322 - val_loss: 0.0221 - val_accuracy: 0.0325\n",
      "Epoch 2/100\n",
      "104/104 [==============================] - 65s 630ms/step - loss: 0.0032 - accuracy: 0.0226 - val_loss: 0.0098 - val_accuracy: 0.0407\n",
      "Epoch 3/100\n",
      "104/104 [==============================] - 85s 818ms/step - loss: 0.0023 - accuracy: 0.0350 - val_loss: 0.0063 - val_accuracy: 0.0352\n",
      "Epoch 4/100\n",
      "104/104 [==============================] - 71s 685ms/step - loss: 0.0021 - accuracy: 0.0316 - val_loss: 0.0059 - val_accuracy: 0.0569\n",
      "Epoch 5/100\n",
      "104/104 [==============================] - 82s 784ms/step - loss: 0.0021 - accuracy: 0.0319 - val_loss: 0.0051 - val_accuracy: 0.0163\n",
      "Epoch 6/100\n",
      "104/104 [==============================] - 99s 955ms/step - loss: 0.0020 - accuracy: 0.0383 - val_loss: 0.0047 - val_accuracy: 0.0407\n",
      "Epoch 7/100\n",
      "104/104 [==============================] - 112s 1s/step - loss: 0.0022 - accuracy: 0.0325 - val_loss: 0.0055 - val_accuracy: 0.0244\n",
      "Epoch 8/100\n",
      "104/104 [==============================] - 99s 956ms/step - loss: 0.0020 - accuracy: 0.0422 - val_loss: 0.0049 - val_accuracy: 0.0759\n",
      "Epoch 9/100\n",
      "104/104 [==============================] - 72s 692ms/step - loss: 0.0019 - accuracy: 0.0328 - val_loss: 0.0048 - val_accuracy: 0.0515\n",
      "Epoch 10/100\n",
      "104/104 [==============================] - 50s 477ms/step - loss: 0.0018 - accuracy: 0.0398 - val_loss: 0.0050 - val_accuracy: 0.0325\n",
      "Epoch 11/100\n",
      "104/104 [==============================] - 46s 438ms/step - loss: 0.0018 - accuracy: 0.0410 - val_loss: 0.0066 - val_accuracy: 0.0271\n",
      "Epoch 12/100\n",
      "104/104 [==============================] - 48s 458ms/step - loss: 0.0018 - accuracy: 0.0428 - val_loss: 0.0073 - val_accuracy: 0.0596\n",
      "Epoch 13/100\n",
      "104/104 [==============================] - 46s 442ms/step - loss: 0.0018 - accuracy: 0.0353 - val_loss: 0.0056 - val_accuracy: 0.0379\n",
      "Epoch 14/100\n",
      "104/104 [==============================] - 46s 446ms/step - loss: 0.0017 - accuracy: 0.0407 - val_loss: 0.0062 - val_accuracy: 0.0190\n",
      "Epoch 15/100\n",
      "104/104 [==============================] - 45s 434ms/step - loss: 0.0014 - accuracy: 0.0401 - val_loss: 0.0053 - val_accuracy: 0.0379\n",
      "Epoch 16/100\n",
      "104/104 [==============================] - 43s 411ms/step - loss: 0.0012 - accuracy: 0.0476 - val_loss: 0.0092 - val_accuracy: 0.0163\n",
      "Epoch 17/100\n",
      "104/104 [==============================] - 44s 421ms/step - loss: 0.0014 - accuracy: 0.0377 - val_loss: 0.0087 - val_accuracy: 0.0434\n",
      "Epoch 18/100\n",
      "104/104 [==============================] - 41s 393ms/step - loss: 0.0014 - accuracy: 0.0452 - val_loss: 0.0081 - val_accuracy: 0.0813\n",
      "Epoch 19/100\n",
      "104/104 [==============================] - 40s 383ms/step - loss: 0.0012 - accuracy: 0.0530 - val_loss: 0.0095 - val_accuracy: 0.0434\n",
      "Epoch 20/100\n",
      "104/104 [==============================] - 39s 379ms/step - loss: 0.0011 - accuracy: 0.0503 - val_loss: 0.0071 - val_accuracy: 0.0407\n",
      "Epoch 21/100\n",
      "104/104 [==============================] - 40s 383ms/step - loss: 0.0010 - accuracy: 0.0533 - val_loss: 0.0061 - val_accuracy: 0.0434\n",
      "Epoch 22/100\n",
      "104/104 [==============================] - 40s 383ms/step - loss: 9.4980e-04 - accuracy: 0.0407 - val_loss: 0.0065 - val_accuracy: 0.0325\n",
      "Epoch 23/100\n",
      "104/104 [==============================] - 41s 391ms/step - loss: 8.7501e-04 - accuracy: 0.0545 - val_loss: 0.0069 - val_accuracy: 0.0325\n",
      "Epoch 24/100\n",
      "104/104 [==============================] - 38s 368ms/step - loss: 9.0668e-04 - accuracy: 0.0497 - val_loss: 0.0099 - val_accuracy: 0.0352\n",
      "Epoch 25/100\n",
      "104/104 [==============================] - 39s 372ms/step - loss: 8.2324e-04 - accuracy: 0.0500 - val_loss: 0.0086 - val_accuracy: 0.0298\n",
      "Epoch 26/100\n",
      "104/104 [==============================] - 38s 366ms/step - loss: 7.4411e-04 - accuracy: 0.0585 - val_loss: 0.0137 - val_accuracy: 0.0217\n",
      "Epoch 00026: early stopping\n"
     ]
    }
   ],
   "source": [
    "res = model.fit(X, y, epochs=100, batch_size=32, validation_split=0.1,\n",
    "                callbacks = [EarlyStopping(monitor='val_loss', min_delta=5e-5,\n",
    "                                           patience=20, verbose=1)])"
   ]
  },
  {
   "cell_type": "markdown",
   "metadata": {},
   "source": [
    "### Plotting the Accuracy and Loss"
   ]
  },
  {
   "cell_type": "code",
   "execution_count": 17,
   "metadata": {},
   "outputs": [
    {
     "data": {
      "image/png": "[encoded data removed]",
      "text/plain": [
       "<Figure size 864x288 with 1 Axes>"
      ]
     },
     "metadata": {
      "needs_background": "light"
     },
     "output_type": "display_data"
    },
    {
     "data": {
      "image/png": "[encoded data removed]",
      "text/plain": [
       "<Figure size 864x288 with 1 Axes>"
      ]
     },
     "metadata": {
      "needs_background": "light"
     },
     "output_type": "display_data"
    }
   ],
   "source": [
    "visualize_training_results(res)"
   ]
  },
  {
   "cell_type": "markdown",
   "metadata": {},
   "source": [
    "## Visualizing the Predictions"
   ]
  },
  {
   "cell_type": "markdown",
   "metadata": {},
   "source": [
    "### Validating the Model \n",
    "Plotting the difference between the Actual closing prices and the Predicted prices"
   ]
  },
  {
   "cell_type": "code",
   "execution_count": 18,
   "metadata": {},
   "outputs": [
    {
     "name": "stdout",
     "output_type": "stream",
     "text": [
      "Predicted Prices:\n",
      " [[9629.281621653961], [9215.050893210795], [9707.142266962524], [9404.96445980584], [9152.23828181135], [9060.113001674514], [9345.955011604387], [8807.200605865723], [9045.422225766497], [8751.473611488113], [8910.840451479218], [8773.60025736022], [8738.36422761438], [8783.810130626976], [8356.049714779372], [8381.689397662305], [8745.56542810716], [8649.327594673337], [8619.239699423755], [8681.885940675631], [8600.139238972739], [8468.079285869702], [8239.39446983165], [7698.379765105629], [7966.622148442052], [8046.259159922757], [8034.260077875976], [8033.747541070476], [7802.317909474946], [7890.123987078864]]\n",
      "\n",
      "Actual Prices:\n",
      " [[11742.056464068412], [11916.334474515825], [12823.721613011156], [12965.938910967061], [12928.422292893309], [13112.518308892804], [13025.152726171284], [13072.25343050888], [13638.61347118853], [13274.1015514869], [13449.310773172034], [13567.751090472695], [13779.026945510965], [13712.17922675368], [13558.759567504292], [13914.806921199463], [14127.434501432554], [15556.660674219534], [15552.789426236755], [14849.092332069496], [15486.128766242586], [15336.738597655205], [15289.79446632406], [15693.906873452926], [16281.414511965559], [16311.51332263924], [16075.452733873577], [15962.09895156044], [16709.612283879444], [17667.381593434377]]\n"
     ]
    },
    {
     "data": {
      "image/png": "[encoded data removed]",
      "text/plain": [
       "<Figure size 864x360 with 1 Axes>"
      ]
     },
     "metadata": {
      "needs_background": "light"
     },
     "output_type": "display_data"
    }
   ],
   "source": [
    "plt.figure(figsize=(12,5))\n",
    "\n",
    "# Getting predictions by predicting from the last available X variable\n",
    "yhat = model.predict(X[-1].reshape(1, n_per_in, n_features)).tolist()[0]\n",
    "\n",
    "# Transforming values back to their normal prices\n",
    "yhat = scaler.inverse_transform(np.array(yhat).reshape(-1,1)).tolist()\n",
    "\n",
    "# Getting the actual values from the last available y variable which correspond to its respective X variable\n",
    "actual = scaler.inverse_transform(y[-1].reshape(-1,1))\n",
    "\n",
    "# Printing and plotting those predictions\n",
    "print(\"Predicted Prices:\\n\", yhat)\n",
    "plt.plot(yhat, label='Predicted')\n",
    "\n",
    "# Printing and plotting the actual values\n",
    "print(\"\\nActual Prices:\\n\", actual.tolist())\n",
    "plt.plot(actual.tolist(), label='Actual')\n",
    "\n",
    "plt.title(f\"Predicted vs Actual Closing Prices\")\n",
    "plt.ylabel(\"Price\")\n",
    "plt.legend()\n",
    "plt.savefig(\"BTC_validation.png\")\n",
    "plt.show()"
   ]
  },
  {
   "cell_type": "markdown",
   "metadata": {},
   "source": [
    "### Predicting/Forecasting the future prices"
   ]
  },
  {
   "cell_type": "code",
   "execution_count": 19,
   "metadata": {},
   "outputs": [
    {
     "name": "stdout",
     "output_type": "stream",
     "text": [
      "                   Close\n",
      "2020-11-17  13477.121917\n",
      "2020-11-18  13794.180221\n",
      "2020-11-19  13596.067817\n",
      "2020-11-20  13488.320672\n",
      "2020-11-21  13166.146340\n",
      "2020-11-22  13061.939085\n",
      "2020-11-23  13510.906149\n",
      "2020-11-24  12395.208091\n",
      "2020-11-25  12904.343941\n",
      "2020-11-26  12853.487214\n",
      "2020-11-27  12597.755865\n",
      "2020-11-28  12991.709867\n",
      "2020-11-29  12876.568883\n",
      "2020-11-30  13090.176477\n",
      "2020-12-01  11823.930365\n",
      "2020-12-02  12406.409181\n",
      "2020-12-03  12400.759601\n",
      "2020-12-04  12504.580410\n",
      "2020-12-05  12647.190566\n",
      "2020-12-06  12522.260011\n",
      "2020-12-07  12370.425361\n",
      "2020-12-08  12330.448657\n",
      "2020-12-09  12249.027691\n",
      "2020-12-10  11529.792614\n",
      "2020-12-11  11612.994033\n",
      "2020-12-12  12369.350084\n",
      "2020-12-13  11880.262713\n",
      "2020-12-14  11710.004758\n",
      "2020-12-15  11305.330681\n",
      "2020-12-16  11589.914699\n"
     ]
    },
    {
     "data": {
      "image/png": "[encoded data removed]",
      "text/plain": [
       "<Figure size 1152x432 with 1 Axes>"
      ]
     },
     "metadata": {
      "needs_background": "light"
     },
     "output_type": "display_data"
    }
   ],
   "source": [
    "# Predicting off of y because it contains the most recent dates\n",
    "yhat = model.predict(np.array(df.tail(n_per_in)).reshape(1, n_per_in, n_features)).tolist()[0]\n",
    "\n",
    "# Transforming the predicted values back to their original prices\n",
    "yhat = scaler.inverse_transform(np.array(yhat).reshape(-1,1)).tolist()\n",
    "\n",
    "# Creating a DF of the predicted prices\n",
    "preds = pd.DataFrame(yhat, index=pd.date_range(start=df.index[-1], periods=len(yhat), freq=\"D\"), columns=df.columns)\n",
    "\n",
    "# Printing the predicted prices\n",
    "print(preds)\n",
    "\n",
    "# Number of periods back to visualize the actual values\n",
    "pers = 30\n",
    "\n",
    "# Transforming the actual values to their original price\n",
    "actual = pd.DataFrame(scaler.inverse_transform(df[[\"Close\"]].tail(pers)), index=df.Close.tail(pers).index, columns=df.columns).append(preds.head(1))\n",
    "\n",
    "# Plotting\n",
    "plt.figure(figsize=(16,6))\n",
    "plt.plot(actual, label=\"Actual Prices\")\n",
    "plt.plot(preds, label=\"Predicted Prices\")\n",
    "plt.ylabel(\"Price\")\n",
    "plt.xlabel(\"Dates\")\n",
    "plt.title(f\"Forecasting the next {len(yhat)} days\")\n",
    "plt.legend()\n",
    "plt.savefig(\"BTC_predictions.png\")\n",
    "plt.show()"
   ]
  },
  {
   "cell_type": "markdown",
   "metadata": {},
   "source": [
    "### With Train Test Split"
   ]
  },
  {
   "cell_type": "code",
   "execution_count": 20,
   "metadata": {},
   "outputs": [],
   "source": [
    "def train_test_split(df, test_size=0.1):\n",
    "    split_row = len(df) - int(test_size * len(df))\n",
    "    train_data = df.iloc[:split_row]\n",
    "    test_data = df.iloc[split_row:]\n",
    "    return train_data, test_data"
   ]
  },
  {
   "cell_type": "code",
   "execution_count": 21,
   "metadata": {},
   "outputs": [],
   "source": [
    "train, test = train_test_split(df, test_size=0.1)"
   ]
  },
  {
   "cell_type": "code",
   "execution_count": 22,
   "metadata": {},
   "outputs": [],
   "source": [
    "# train, test = df[:3455], df[3455:]"
   ]
  },
  {
   "cell_type": "code",
   "execution_count": 23,
   "metadata": {},
   "outputs": [
    {
     "data": {
      "text/plain": [
       "((3400, 1), (377, 1))"
      ]
     },
     "execution_count": 23,
     "metadata": {},
     "output_type": "execute_result"
    }
   ],
   "source": [
    "train.shape, test.shape"
   ]
  },
  {
   "cell_type": "code",
   "execution_count": 24,
   "metadata": {},
   "outputs": [],
   "source": [
    "# How many periods looking back to learn\n",
    "n_per_in  = 60\n",
    "\n",
    "# How many periods to predict\n",
    "n_per_out = 30\n",
    "\n",
    "# Features (in this case it's 1 because there is only one feature: price)\n",
    "n_features = 1\n",
    "\n",
    "# Splitting the data into appropriate sequences\n",
    "X_train, y_train = split_sequence(list(train.Close), n_per_in, n_per_out)\n",
    "\n",
    "# Reshaping the X variable from 2D to 3D\n",
    "X_train = X_train.reshape((X_train.shape[0], X_train.shape[1], n_features))"
   ]
  },
  {
   "cell_type": "code",
   "execution_count": 25,
   "metadata": {},
   "outputs": [],
   "source": [
    "# Splitting the data into appropriate sequences\n",
    "X_test, y_test = split_sequence(list(test.Close), n_per_in, n_per_out)\n",
    "\n",
    "# Reshaping the X variable from 2D to 3D\n",
    "X_test = X_test.reshape((X_test.shape[0], X_test.shape[1], n_features))"
   ]
  },
  {
   "cell_type": "code",
   "execution_count": 26,
   "metadata": {
    "papermill": {
     "duration": 0.232343,
     "end_time": "2020-10-02T15:52:24.151427",
     "exception": false,
     "start_time": "2020-10-02T15:52:23.919084",
     "status": "completed"
    },
    "tags": []
   },
   "outputs": [
    {
     "data": {
      "text/plain": [
       "((3311, 60, 1), (3311, 30), (288, 60, 1), (288, 30))"
      ]
     },
     "execution_count": 26,
     "metadata": {},
     "output_type": "execute_result"
    }
   ],
   "source": [
    "X_train.shape, y_train.shape, X_test.shape, y_test.shape"
   ]
  },
  {
   "cell_type": "markdown",
   "metadata": {},
   "source": [
    "## Modeling - LSTM (RNN)"
   ]
  },
  {
   "cell_type": "markdown",
   "metadata": {},
   "source": [
    "### Creating the Neural Network"
   ]
  },
  {
   "cell_type": "code",
   "execution_count": 27,
   "metadata": {
    "scrolled": true
   },
   "outputs": [
    {
     "name": "stdout",
     "output_type": "stream",
     "text": [
      "Model: \"sequential_1\"\n",
      "_________________________________________________________________\n",
      "Layer (type)                 Output Shape              Param #   \n",
      "=================================================================\n",
      "lstm_4 (LSTM)                (None, 60, 256)           264192    \n",
      "_________________________________________________________________\n",
      "lstm_5 (LSTM)                (None, 60, 256)           525312    \n",
      "_________________________________________________________________\n",
      "dropout_2 (Dropout)          (None, 60, 256)           0         \n",
      "_________________________________________________________________\n",
      "lstm_6 (LSTM)                (None, 60, 256)           525312    \n",
      "_________________________________________________________________\n",
      "dropout_3 (Dropout)          (None, 60, 256)           0         \n",
      "_________________________________________________________________\n",
      "lstm_7 (LSTM)                (None, 60, 256)           525312    \n",
      "_________________________________________________________________\n",
      "dropout_4 (Dropout)          (None, 60, 256)           0         \n",
      "_________________________________________________________________\n",
      "lstm_8 (LSTM)                (None, 60, 256)           525312    \n",
      "_________________________________________________________________\n",
      "dropout_5 (Dropout)          (None, 60, 256)           0         \n",
      "_________________________________________________________________\n",
      "lstm_9 (LSTM)                (None, 10)                10680     \n",
      "_________________________________________________________________\n",
      "dense_1 (Dense)              (None, 1)                 11        \n",
      "=================================================================\n",
      "Total params: 2,376,131\n",
      "Trainable params: 2,376,131\n",
      "Non-trainable params: 0\n",
      "_________________________________________________________________\n"
     ]
    }
   ],
   "source": [
    "# Instatiating the model\n",
    "model = Sequential()\n",
    "\n",
    "# Activation\n",
    "activ='softsign'\n",
    "\n",
    "# Input layer\n",
    "model.add(LSTM(256, return_sequences=True,  activation=activ, input_shape=(n_per_in, n_features)))\n",
    "\n",
    "# Hidden layers\n",
    "layer_maker(n_layers=4, n_nodes=256,  activation=activ, drop=1, d_rate=0.2)\n",
    "\n",
    "# Final Hidden layer\n",
    "model.add(LSTM(10))\n",
    "\n",
    "# Output layer\n",
    "model.add(Dense(1))\n",
    "\n",
    "# Model summary\n",
    "\n",
    "model.summary()"
   ]
  },
  {
   "cell_type": "code",
   "execution_count": 28,
   "metadata": {},
   "outputs": [],
   "source": [
    "# Compiling the data with selected specifications\n",
    "model.compile(optimizer='adam', loss='mse', metrics=['accuracy'])"
   ]
  },
  {
   "cell_type": "markdown",
   "metadata": {},
   "source": [
    "### Fitting and Training the RNN"
   ]
  },
  {
   "cell_type": "code",
   "execution_count": null,
   "metadata": {},
   "outputs": [
    {
     "name": "stdout",
     "output_type": "stream",
     "text": [
      "Epoch 1/100\n",
      "104/104 [==============================] - 107s 1s/step - loss: 0.0095 - accuracy: 2.6175e-04 - val_loss: 0.0091 - val_accuracy: 0.0000e+00\n",
      "Epoch 2/100\n",
      "104/104 [==============================] - 104s 999ms/step - loss: 0.0265 - accuracy: 0.0000e+00 - val_loss: 0.0113 - val_accuracy: 0.0000e+00\n",
      "Epoch 3/100\n",
      "104/104 [==============================] - 102s 985ms/step - loss: 0.0294 - accuracy: 0.0000e+00 - val_loss: 0.0721 - val_accuracy: 0.0000e+00\n",
      "Epoch 4/100\n",
      "104/104 [==============================] - 99s 954ms/step - loss: 0.0295 - accuracy: 0.0000e+00 - val_loss: 0.0213 - val_accuracy: 0.0000e+00\n",
      "Epoch 5/100\n",
      "104/104 [==============================] - 99s 957ms/step - loss: 0.0315 - accuracy: 0.0000e+00 - val_loss: 0.0335 - val_accuracy: 0.0000e+00\n",
      "Epoch 6/100\n",
      "104/104 [==============================] - 103s 992ms/step - loss: 0.0278 - accuracy: 0.0000e+00 - val_loss: 0.0175 - val_accuracy: 0.0000e+00\n",
      "Epoch 7/100\n",
      "104/104 [==============================] - 101s 969ms/step - loss: 0.0465 - accuracy: 0.0000e+00 - val_loss: 0.1440 - val_accuracy: 0.0000e+00\n",
      "Epoch 8/100\n",
      "104/104 [==============================] - 100s 965ms/step - loss: 0.0340 - accuracy: 0.0000e+00 - val_loss: 0.1324 - val_accuracy: 0.0000e+00\n",
      "Epoch 9/100\n",
      "104/104 [==============================] - 103s 990ms/step - loss: 0.0372 - accuracy: 0.0000e+00 - val_loss: 0.1378 - val_accuracy: 0.0000e+00\n",
      "Epoch 10/100\n",
      "104/104 [==============================] - 104s 998ms/step - loss: 0.0343 - accuracy: 0.0000e+00 - val_loss: 0.1394 - val_accuracy: 0.0000e+00\n",
      "Epoch 11/100\n",
      "104/104 [==============================] - 102s 981ms/step - loss: 0.0341 - accuracy: 0.0000e+00 - val_loss: 0.1452 - val_accuracy: 0.0000e+00\n",
      "Epoch 12/100\n",
      "104/104 [==============================] - 101s 971ms/step - loss: 0.0333 - accuracy: 0.0000e+00 - val_loss: 0.1468 - val_accuracy: 0.0000e+00\n",
      "Epoch 13/100\n",
      "104/104 [==============================] - 102s 985ms/step - loss: 0.0330 - accuracy: 0.0000e+00 - val_loss: 0.1482 - val_accuracy: 0.0000e+00\n",
      "Epoch 14/100\n",
      "104/104 [==============================] - 95s 915ms/step - loss: 0.0328 - accuracy: 0.0000e+00 - val_loss: 0.1492 - val_accuracy: 0.0000e+00\n",
      "Epoch 15/100\n",
      "104/104 [==============================] - 98s 943ms/step - loss: 0.0325 - accuracy: 0.0000e+00 - val_loss: 0.1496 - val_accuracy: 0.0000e+00\n",
      "Epoch 16/100\n",
      "104/104 [==============================] - 112s 1s/step - loss: 0.0323 - accuracy: 0.0000e+00 - val_loss: 0.1497 - val_accuracy: 0.0000e+00\n",
      "Epoch 17/100\n",
      " 33/104 [========>.....................] - ETA: 1:31 - loss: 0.0140 - accuracy: 0.0000e+00"
     ]
    }
   ],
   "source": [
    "res = model.fit(X_train, y_train, epochs=100, batch_size=32, shuffle=False,\n",
    "                validation_data=(X_test, y_test),\n",
    "                callbacks = [EarlyStopping(monitor='val_loss', min_delta=5e-5,\n",
    "                                           patience=20, verbose=1)])"
   ]
  },
  {
   "cell_type": "markdown",
   "metadata": {},
   "source": [
    "### Plotting the Accuracy and Loss"
   ]
  },
  {
   "cell_type": "code",
   "execution_count": null,
   "metadata": {},
   "outputs": [],
   "source": [
    "visualize_training_results(res)"
   ]
  },
  {
   "cell_type": "markdown",
   "metadata": {},
   "source": [
    "## Visualizing the Predictions"
   ]
  },
  {
   "cell_type": "markdown",
   "metadata": {},
   "source": [
    "### Validating the Model \n",
    "Plotting the difference between the Actual closing prices and the Predicted prices"
   ]
  },
  {
   "cell_type": "code",
   "execution_count": null,
   "metadata": {},
   "outputs": [],
   "source": [
    "plt.figure(figsize=(12,5))\n",
    "\n",
    "# Getting predictions by predicting from the last available X variable\n",
    "yhat_train = model.predict(X_train[-1].reshape(1, n_per_in, n_features)).tolist()[0]\n",
    "\n",
    "# Transforming values back to their normal prices\n",
    "yhat_train = scaler.inverse_transform(np.array(yhat_train).reshape(-1,1)).tolist()\n",
    "\n",
    "# Getting the actual values from the last available y variable which correspond to its respective X variable\n",
    "actual = scaler.inverse_transform(y_train[-1].reshape(-1,1))\n",
    "\n",
    "# Printing and plotting those predictions\n",
    "print(\"Predicted Prices:\\n\", yhat_train)\n",
    "plt.plot(yhat_train, label='Predicted')\n",
    "\n",
    "# Printing and plotting the actual values\n",
    "print(\"\\nActual Prices:\\n\", actual.tolist())\n",
    "plt.plot(actual.tolist(), label='Actual')\n",
    "\n",
    "plt.title(f\"Predicted vs Actual Closing Prices\")\n",
    "plt.ylabel(\"Price\")\n",
    "plt.legend()\n",
    "plt.savefig(\"BTC_validation.png\")\n",
    "plt.show()"
   ]
  },
  {
   "cell_type": "markdown",
   "metadata": {},
   "source": [
    "### Predicting/Forecasting the future prices"
   ]
  },
  {
   "cell_type": "code",
   "execution_count": null,
   "metadata": {},
   "outputs": [],
   "source": [
    "# Predicting off of y because it contains the most recent dates\n",
    "yhat_test = model.predict(np.array(df.tail(n_per_in)).reshape(1, n_per_in, n_features)).tolist()[0]\n",
    "\n",
    "# Transforming the predicted values back to their original prices\n",
    "yhat_test = scaler.inverse_transform(np.array(yhat_test).reshape(-1,1)).tolist()\n",
    "\n",
    "# Creating a DF of the predicted prices\n",
    "preds = pd.DataFrame(yhat_test, index=pd.date_range(start=df.index[-1], periods=len(yhat_test), freq=\"D\"), columns=df.columns)\n",
    "\n",
    "# Printing the predicted prices\n",
    "print(preds)\n",
    "\n",
    "# Number of periods back to visualize the actual values\n",
    "pers = 50\n",
    "\n",
    "# Transforming the actual values to their original price\n",
    "actual = pd.DataFrame(scaler.inverse_transform(df[[\"Close\"]].tail(pers)), index=df.Close.tail(pers).index, columns=df.columns).append(preds.head(1))\n",
    "\n",
    "# Plotting\n",
    "plt.figure(figsize=(16,6))\n",
    "plt.plot(actual, label=\"Actual Prices\")\n",
    "plt.plot(preds, label=\"Predicted Prices\")\n",
    "plt.ylabel(\"Price\")\n",
    "plt.xlabel(\"Dates\")\n",
    "plt.title(f\"Forecasting the next {len(yhat_test)} days\")\n",
    "plt.legend()\n",
    "plt.savefig(\"BTC_predictions.png\")\n",
    "plt.show()"
   ]
  },
  {
   "cell_type": "code",
   "execution_count": null,
   "metadata": {},
   "outputs": [],
   "source": [
    "import plotly.offline as py\n",
    "import plotly.graph_objs as go\n",
    "py.init_notebook_mode(connected=True)"
   ]
  },
  {
   "cell_type": "code",
   "execution_count": null,
   "metadata": {},
   "outputs": [],
   "source": [
    "# https://activewizards.com/blog/bitcoin-price-forecasting-with-deep-learning-algorithms/\n",
    "trace1 = go.Scatter(\n",
    "    x = np.arange(0, len(res.history['loss']), 1),\n",
    "    y = res.history['loss'],\n",
    "    mode = 'lines',\n",
    "    name = 'Train loss',\n",
    "    line = dict(color=('rgb(66, 244, 155)'), width=2, dash='dash')\n",
    ")\n",
    "trace2 = go.Scatter(\n",
    "    x = np.arange(0, len(res.history['val_loss']), 1),\n",
    "    y = res.history['val_loss'],\n",
    "    mode = 'lines',\n",
    "    name = 'Test loss',\n",
    "    line = dict(color=('rgb(244, 146, 65)'), width=2)\n",
    ")\n",
    "\n",
    "data = [trace1, trace2]\n",
    "layout = dict(title = 'Train and Test Loss during training',\n",
    "              xaxis = dict(title = 'Epoch number'), yaxis = dict(title = 'Loss'))\n",
    "fig = dict(data=data, layout=layout)\n",
    "py.iplot(fig, filename='training_process')"
   ]
  },
  {
   "cell_type": "code",
   "execution_count": null,
   "metadata": {},
   "outputs": [],
   "source": [
    "working_data = [train, test]\n",
    "working_data = pd.concat(working_data)\n",
    "\n",
    "working_data = working_data.reset_index()\n",
    "working_data['Date'] = pd.to_datetime(working_data['Date'])\n",
    "working_data = working_data.set_index('Date')"
   ]
  },
  {
   "cell_type": "code",
   "execution_count": null,
   "metadata": {},
   "outputs": [],
   "source": [
    "import statsmodels.api as sm\n",
    "s = sm.tsa.seasonal_decompose(working_data.Close.values, period=60)"
   ]
  },
  {
   "cell_type": "code",
   "execution_count": null,
   "metadata": {},
   "outputs": [],
   "source": [
    "trace1 = go.Scatter(x = np.arange(0, len(s.trend), 1),y = s.trend,mode = 'lines',name = 'Trend',\n",
    "    line = dict(color = ('rgb(244, 146, 65)'), width = 4))\n",
    "trace2 = go.Scatter(x = np.arange(0, len(s.seasonal), 1),y = s.seasonal,mode = 'lines',name = 'Seasonal',\n",
    "    line = dict(color = ('rgb(66, 244, 155)'), width = 2))\n",
    "\n",
    "trace3 = go.Scatter(x = np.arange(0, len(s.resid), 1),y = s.resid,mode = 'lines',name = 'Residual',\n",
    "    line = dict(color = ('rgb(209, 244, 66)'), width = 2))\n",
    "\n",
    "trace4 = go.Scatter(x = np.arange(0, len(s.observed), 1),y = s.observed,mode = 'lines',name = 'Observed',\n",
    "    line = dict(color = ('rgb(66, 134, 244)'), width = 2))\n",
    "\n",
    "data = [trace1, trace2, trace3, trace4]\n",
    "layout = dict(title = 'Seasonal decomposition', xaxis = dict(title = 'Time'), yaxis = dict(title = 'Price, USD'))\n",
    "fig = dict(data=data, layout=layout)\n",
    "py.iplot(fig, filename='seasonal_decomposition')"
   ]
  },
  {
   "cell_type": "code",
   "execution_count": null,
   "metadata": {},
   "outputs": [],
   "source": [
    "y_test.shape, X_test.shape"
   ]
  },
  {
   "cell_type": "code",
   "execution_count": null,
   "metadata": {},
   "outputs": [],
   "source": [
    "# # Making the predictions\n",
    "# test_set = X_test.values\n",
    "# inputs = np.reshape(test_set, (len(test_set), 1))\n",
    "# inputs = sc.transform(inputs)\n",
    "# inputs = np.reshape(X_test, (len(X_test), 1, 1))"
   ]
  },
  {
   "cell_type": "code",
   "execution_count": null,
   "metadata": {},
   "outputs": [],
   "source": [
    "predicted_BTC_price = model.predict(X_test)\n",
    "predicted_BTC_price = scaler.inverse_transform(predicted_BTC_price)"
   ]
  },
  {
   "cell_type": "code",
   "execution_count": null,
   "metadata": {},
   "outputs": [],
   "source": [
    "len(predicted_BTC_price) , len(test), X_test.shape"
   ]
  },
  {
   "cell_type": "code",
   "execution_count": null,
   "metadata": {},
   "outputs": [],
   "source": [
    "with open(\"curr_bitcoin.pickle\",'rb') as fp:\n",
    "    btc = pickle.load(fp)"
   ]
  },
  {
   "cell_type": "code",
   "execution_count": null,
   "metadata": {},
   "outputs": [],
   "source": [
    "predicted_BTC_price.shape, test.shape"
   ]
  },
  {
   "cell_type": "code",
   "execution_count": null,
   "metadata": {},
   "outputs": [],
   "source": [
    "# test['Price_Prediction'] = predicted_BTC_price\n",
    "# data_all = pd.concat([test, train], sort=False)"
   ]
  },
  {
   "cell_type": "code",
   "execution_count": null,
   "metadata": {},
   "outputs": [],
   "source": [
    "plt.figure(figsize = (15,5))\n",
    "plt.plot(btc['Close'])"
   ]
  },
  {
   "cell_type": "code",
   "execution_count": null,
   "metadata": {},
   "outputs": [],
   "source": [
    "# add one additional data point to align shapes of the predictions and true labels\n",
    "# X_test = np.append(X_test, scaler.transform(working_data.iloc[-1][0]))\n",
    "# X_test = np.reshape(X_test, (len(X_test), 1, 1))\n",
    "\n",
    "# get predictions and then make some transformations to be able to calculate RMSE properly in USD\n",
    "prediction = model.predict(X_test)\n",
    "prediction_inverse = scaler.inverse_transform(prediction.reshape(-1, 1))\n",
    "y_test_inverse = scaler.inverse_transform(y_test.reshape(-1, 1))\n",
    "prediction2_inverse = np.array(prediction_inverse[:,0][1:])\n",
    "y_test2_inverse = np.array(y_test_inverse[:,0])"
   ]
  },
  {
   "cell_type": "code",
   "execution_count": null,
   "metadata": {},
   "outputs": [],
   "source": [
    "trace1 = go.Scatter(\n",
    "    x = np.arange(0, len(prediction2_inverse), 1),\n",
    "    y = prediction2_inverse,\n",
    "    mode = 'lines',\n",
    "    name = 'Predicted labels',\n",
    "    line = dict(color=('rgb(244, 146, 65)'), width=2)\n",
    ")\n",
    "trace2 = go.Scatter(\n",
    "    x = np.arange(0, len(y_test2_inverse), 1),\n",
    "    y = y_test2_inverse,\n",
    "    mode = 'lines',\n",
    "    name = 'True labels',\n",
    "    line = dict(color=('rgb(66, 244, 155)'), width=1)\n",
    ")\n",
    "\n",
    "data = [trace1, trace2]\n",
    "layout = dict(title = 'Comparison of true prices (on the test dataset) with prices our model predicted',\n",
    "             xaxis = dict(title = 'Day number'), yaxis = dict(title = 'Price, USD'))\n",
    "fig = dict(data=data, layout=layout)\n",
    "py.iplot(fig, filename='results_demonstrating0')"
   ]
  },
  {
   "cell_type": "code",
   "execution_count": null,
   "metadata": {},
   "outputs": [],
   "source": [
    "# rmse = np.sqrt(mean_squared_error(y_test2_inverse[:-1], prediction2_inverse))\n",
    "# # print('Test RMSE: %.3f' % rmse)\n",
    "# mae = mean_absolute_error(y_test2_inverse[:-1], prediction2_inverse)\n",
    "# print('Test MAE: %.3f' % mae)"
   ]
  },
  {
   "cell_type": "code",
   "execution_count": null,
   "metadata": {},
   "outputs": [],
   "source": [
    "y_test2_inverse"
   ]
  },
  {
   "cell_type": "code",
   "execution_count": null,
   "metadata": {},
   "outputs": [],
   "source": [
    "prediction2_inverse.shape"
   ]
  },
  {
   "cell_type": "code",
   "execution_count": null,
   "metadata": {},
   "outputs": [],
   "source": [
    "y_test2_inverse.shape"
   ]
  },
  {
   "cell_type": "code",
   "execution_count": null,
   "metadata": {},
   "outputs": [],
   "source": [
    "Test_Dates = df[len(df)-len(test):].index\n",
    "\n",
    "trace1 = go.Scatter(x=Test_Dates, y=y_test2_inverse, name= 'Actual Price',\n",
    "                   line = dict(color = ('rgb(66, 244, 155)'),width = 2))\n",
    "trace2 = go.Scatter(x=Test_Dates, y=prediction2_inverse, name= 'Predicted Price',\n",
    "                   line = dict(color = ('rgb(244, 146, 65)'),width = 2))\n",
    "data = [trace1, trace2]\n",
    "layout = dict(title = 'Comparison of true prices (on the test dataset) with prices our model predicted, by dates',\n",
    "             xaxis = dict(title = 'Date'), yaxis = dict(title = 'Price, USD'))\n",
    "fig = dict(data=data, layout=layout)\n",
    "py.iplot(fig, filename='results_demonstrating1')"
   ]
  },
  {
   "cell_type": "code",
   "execution_count": null,
   "metadata": {},
   "outputs": [],
   "source": []
  },
  {
   "cell_type": "code",
   "execution_count": null,
   "metadata": {},
   "outputs": [],
   "source": []
  },
  {
   "cell_type": "code",
   "execution_count": null,
   "metadata": {
    "papermill": {
     "duration": 7.628924,
     "end_time": "2020-10-02T16:06:21.635553",
     "exception": false,
     "start_time": "2020-10-02T16:06:14.006629",
     "status": "completed"
    },
    "tags": []
   },
   "outputs": [],
   "source": [
    "#Lets do the prediction and performance checking\n",
    "train_predict = model.predict(X_train)\n",
    "test_predict = model.predict(X_test)"
   ]
  },
  {
   "cell_type": "code",
   "execution_count": null,
   "metadata": {
    "papermill": {
     "duration": 1.922589,
     "end_time": "2020-10-02T16:06:25.399331",
     "exception": false,
     "start_time": "2020-10-02T16:06:23.476742",
     "status": "completed"
    },
    "tags": []
   },
   "outputs": [],
   "source": [
    "#transformation to original form\n",
    "y_train_inv = scaler.inverse_transform(y_train.reshape(-1, 1))\n",
    "y_test_inv = scaler.inverse_transform(y_test.reshape(-1, 1))\n",
    "train_predict_inv = scaler.inverse_transform(train_predict)\n",
    "test_predict_inv = scaler.inverse_transform(test_predict)"
   ]
  },
  {
   "cell_type": "code",
   "execution_count": null,
   "metadata": {
    "papermill": {
     "duration": 2.185843,
     "end_time": "2020-10-02T16:06:29.542838",
     "exception": false,
     "start_time": "2020-10-02T16:06:27.356995",
     "status": "completed"
    },
    "tags": []
   },
   "outputs": [],
   "source": [
    "plt.figure(figsize=(16,7))\n",
    "plt.plot(y_train_inv.flatten(), marker='.', label=\"Actual\", color='blue')\n",
    "plt.plot(train_predict_inv.flatten(), 'r', marker='.', label=\"Predicted\")\n",
    "plt.legend();"
   ]
  },
  {
   "cell_type": "code",
   "execution_count": null,
   "metadata": {
    "papermill": {
     "duration": 2.11178,
     "end_time": "2020-10-02T16:06:33.550223",
     "exception": false,
     "start_time": "2020-10-02T16:06:31.438443",
     "status": "completed"
    },
    "tags": []
   },
   "outputs": [],
   "source": [
    "plt.figure(figsize=(16,7))\n",
    "plt.plot(y_test_inv.flatten(), marker='.', label=\"Actual\")\n",
    "plt.plot(test_predict_inv.flatten(), 'r', marker='.', label=\"Predicted\")\n",
    "plt.legend()"
   ]
  },
  {
   "cell_type": "code",
   "execution_count": null,
   "metadata": {
    "papermill": {
     "duration": 1.949493,
     "end_time": "2020-10-02T16:06:37.417177",
     "exception": false,
     "start_time": "2020-10-02T16:06:35.467684",
     "status": "completed"
    },
    "tags": []
   },
   "outputs": [],
   "source": [
    "# train_RMSE = np.sqrt(mean_squared_error(y_train, train_predict))\n",
    "# test_RMSE = np.sqrt(mean_squared_error(y_test, test_predict))\n",
    "# train_MAE = mean_absolute_error(y_train, train_predict)\n",
    "# test_MAE = mean_absolute_error(y_test, test_predict)\n",
    "\n",
    "\n",
    "# print(f\"Train RMSE: {train_RMSE}\")\n",
    "# print(f\"Train MAE: {train_MAE}\")\n",
    "\n",
    "# print(f\"Test RMSE: {test_RMSE}\")\n",
    "# print(f\"Test MAE: {test_MAE}\")"
   ]
  },
  {
   "cell_type": "markdown",
   "metadata": {
    "papermill": {
     "duration": 1.953637,
     "end_time": "2020-10-02T16:06:41.274289",
     "exception": false,
     "start_time": "2020-10-02T16:06:39.320652",
     "status": "completed"
    },
    "tags": []
   },
   "source": [
    "<a id=\"section-seven\"></a>\n",
    "# Model Selection and Prediction\n",
    "\n",
    "We observed remarkable results using LSTMs. They really work a lot better for most sequence tasks! \n",
    "\n",
    "Let's predict weighted price for next 30 days. "
   ]
  },
  {
   "cell_type": "code",
   "execution_count": null,
   "metadata": {
    "papermill": {
     "duration": 1.856967,
     "end_time": "2020-10-02T16:06:44.987192",
     "exception": false,
     "start_time": "2020-10-02T16:06:43.130225",
     "status": "completed"
    },
    "tags": []
   },
   "outputs": [],
   "source": [
    "test.shape"
   ]
  },
  {
   "cell_type": "code",
   "execution_count": null,
   "metadata": {
    "papermill": {
     "duration": 1.855348,
     "end_time": "2020-10-02T16:06:48.783530",
     "exception": false,
     "start_time": "2020-10-02T16:06:46.928182",
     "status": "completed"
    },
    "tags": []
   },
   "outputs": [],
   "source": [
    "lookback = len(test) - 100\n",
    "x_input=np.array(test[lookback:]).reshape(1,-1)\n",
    "x_input.shape"
   ]
  },
  {
   "cell_type": "code",
   "execution_count": null,
   "metadata": {
    "papermill": {
     "duration": 1.893687,
     "end_time": "2020-10-02T16:06:52.527709",
     "exception": false,
     "start_time": "2020-10-02T16:06:50.634022",
     "status": "completed"
    },
    "tags": []
   },
   "outputs": [],
   "source": [
    "x_input"
   ]
  },
  {
   "cell_type": "code",
   "execution_count": null,
   "metadata": {
    "papermill": {
     "duration": 1.938216,
     "end_time": "2020-10-02T16:06:56.316421",
     "exception": false,
     "start_time": "2020-10-02T16:06:54.378205",
     "status": "completed"
    },
    "tags": []
   },
   "outputs": [],
   "source": [
    "lookback, len(test)"
   ]
  },
  {
   "cell_type": "code",
   "execution_count": null,
   "metadata": {
    "papermill": {
     "duration": 1.864023,
     "end_time": "2020-10-02T16:07:00.031084",
     "exception": false,
     "start_time": "2020-10-02T16:06:58.167061",
     "status": "completed"
    },
    "tags": []
   },
   "outputs": [],
   "source": [
    "temp_input=list(x_input)\n",
    "temp_input=temp_input[0].tolist()\n",
    "temp_input"
   ]
  },
  {
   "cell_type": "code",
   "execution_count": null,
   "metadata": {
    "papermill": {
     "duration": 1.908601,
     "end_time": "2020-10-02T16:07:03.791354",
     "exception": false,
     "start_time": "2020-10-02T16:07:01.882753",
     "status": "completed"
    },
    "tags": []
   },
   "outputs": [],
   "source": [
    "len(temp_input)"
   ]
  },
  {
   "cell_type": "code",
   "execution_count": null,
   "metadata": {
    "papermill": {
     "duration": 3.858336,
     "end_time": "2020-10-02T16:07:09.545847",
     "exception": false,
     "start_time": "2020-10-02T16:07:05.687511",
     "status": "completed"
    },
    "tags": []
   },
   "outputs": [],
   "source": [
    "# demonstrate prediction for next 100 days\n",
    "from numpy import array\n",
    "\n",
    "lst_output=[]\n",
    "n_steps=100\n",
    "i=0\n",
    "while(i<30):\n",
    "    \n",
    "    if(len(temp_input)>100):\n",
    "        #print(temp_input)\n",
    "        x_input=np.array(temp_input[1:])\n",
    "        print(\"{} day input {}\".format(i,x_input))\n",
    "        x_input=x_input.reshape(1,-1)\n",
    "        x_input = x_input.reshape((1, n_steps, 1))\n",
    "        #print(x_input)\n",
    "        yhat = model.predict(x_input, verbose=0)\n",
    "        print(\"{} day output {}\".format(i,yhat))\n",
    "        temp_input.extend(yhat[0].tolist())\n",
    "        temp_input=temp_input[1:]\n",
    "        #print(temp_input)\n",
    "        lst_output.extend(yhat.tolist())\n",
    "        i=i+1\n",
    "    else:\n",
    "        x_input = x_input.reshape((1, n_steps,1))\n",
    "        yhat = model.predict(x_input, verbose=0)\n",
    "        print(yhat[0])\n",
    "        temp_input.extend(yhat[0].tolist())\n",
    "        print(len(temp_input))\n",
    "        lst_output.extend(yhat.tolist())\n",
    "        i=i+1\n",
    "    \n",
    "\n",
    "print(lst_output)"
   ]
  },
  {
   "cell_type": "code",
   "execution_count": null,
   "metadata": {
    "papermill": {
     "duration": 1.954867,
     "end_time": "2020-10-02T16:07:13.359237",
     "exception": false,
     "start_time": "2020-10-02T16:07:11.404370",
     "status": "completed"
    },
    "tags": []
   },
   "outputs": [],
   "source": [
    "len(df)"
   ]
  },
  {
   "cell_type": "code",
   "execution_count": null,
   "metadata": {
    "papermill": {
     "duration": 2.475178,
     "end_time": "2020-10-02T16:07:17.745616",
     "exception": false,
     "start_time": "2020-10-02T16:07:15.270438",
     "status": "completed"
    },
    "tags": []
   },
   "outputs": [],
   "source": [
    "df_=np.array(df).tolist()\n",
    "df_.extend(lst_output)\n",
    "plt.plot(df_)"
   ]
  },
  {
   "cell_type": "code",
   "execution_count": null,
   "metadata": {
    "papermill": {
     "duration": 2.093206,
     "end_time": "2020-10-02T16:07:21.748287",
     "exception": false,
     "start_time": "2020-10-02T16:07:19.655081",
     "status": "completed"
    },
    "tags": []
   },
   "outputs": [],
   "source": [
    "plt.figure(figsize=(14,7))\n",
    "df_invscaled=scaler.inverse_transform(df_).tolist()\n",
    "plt.plot(df_invscaled)"
   ]
  },
  {
   "cell_type": "code",
   "execution_count": null,
   "metadata": {},
   "outputs": [],
   "source": []
  },
  {
   "cell_type": "code",
   "execution_count": null,
   "metadata": {},
   "outputs": [],
   "source": []
  },
  {
   "cell_type": "code",
   "execution_count": null,
   "metadata": {},
   "outputs": [],
   "source": [
    "with open(\"btc_coinmetrics.pickle\",'rb') as fp:\n",
    "    btc = pickle.load(fp)"
   ]
  },
  {
   "cell_type": "code",
   "execution_count": null,
   "metadata": {},
   "outputs": [],
   "source": [
    "btc"
   ]
  },
  {
   "cell_type": "code",
   "execution_count": null,
   "metadata": {},
   "outputs": [],
   "source": [
    "with open(\"hourly_ohlc_price_glassnode.pickle\",'rb') as fp:\n",
    "    hr = pickle.load(fp)"
   ]
  },
  {
   "cell_type": "code",
   "execution_count": null,
   "metadata": {},
   "outputs": [],
   "source": [
    "hr.info()"
   ]
  },
  {
   "cell_type": "code",
   "execution_count": null,
   "metadata": {},
   "outputs": [],
   "source": [
    "hr.head()"
   ]
  },
  {
   "cell_type": "code",
   "execution_count": null,
   "metadata": {},
   "outputs": [],
   "source": [
    "hr = hr['Close']"
   ]
  },
  {
   "cell_type": "code",
   "execution_count": null,
   "metadata": {},
   "outputs": [],
   "source": [
    "hr.fillna(method='bfill', inplace=True)"
   ]
  },
  {
   "cell_type": "code",
   "execution_count": null,
   "metadata": {},
   "outputs": [],
   "source": [
    "dataset = hr.values\n",
    "dataset = dataset.astype('float32')"
   ]
  },
  {
   "cell_type": "code",
   "execution_count": null,
   "metadata": {},
   "outputs": [],
   "source": [
    "scaler = MinMaxScaler()\n",
    "dataset = scaler.fit_transform(hr)"
   ]
  },
  {
   "cell_type": "code",
   "execution_count": null,
   "metadata": {},
   "outputs": [],
   "source": []
  },
  {
   "cell_type": "code",
   "execution_count": null,
   "metadata": {},
   "outputs": [],
   "source": []
  },
  {
   "cell_type": "code",
   "execution_count": null,
   "metadata": {},
   "outputs": [],
   "source": []
  }
 ],
 "metadata": {
  "kernelspec": {
   "display_name": "Python 3",
   "language": "python",
   "name": "python3"
  },
  "language_info": {
   "codemirror_mode": {
    "name": "ipython",
    "version": 3
   },
   "file_extension": ".py",
   "mimetype": "text/x-python",
   "name": "python",
   "nbconvert_exporter": "python",
   "pygments_lexer": "ipython3",
   "version": "3.7.9"
  }
 },
 "nbformat": 4,
 "nbformat_minor": 4
}

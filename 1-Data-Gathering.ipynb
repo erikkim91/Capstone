{
 "cells": [
  {
   "cell_type": "markdown",
   "metadata": {},
   "source": [
    "# Capstone: Bitcoin: Time Series Forecasting Using Machine Learning"
   ]
  },
  {
   "cell_type": "markdown",
   "metadata": {},
   "source": [
    "## 1. Data Gathering\n",
    "---\n"
   ]
  },
  {
   "cell_type": "markdown",
   "metadata": {},
   "source": [
    "## Table of Contents\n",
    "---"
   ]
  },
  {
   "cell_type": "markdown",
   "metadata": {},
   "source": [
    "1. [Problem Statement](#Problem-Statement)\n",
    "2. [Executive Summary](#Executive-Summary)\n",
    "3. [API Scraping](#API-Scraping)\n",
    "4. [Glassnode API](#Glassnode-API)\n",
    "5. [Coinmetrics API](#Glassnode-API)"
   ]
  },
  {
   "cell_type": "markdown",
   "metadata": {},
   "source": [
    "## Problem Statement\n",
    "   ---"
   ]
  },
  {
   "cell_type": "markdown",
   "metadata": {},
   "source": [
    "This project examined Bitcoin data in order to create an accurate forecasting model for Bitcoin prices. Both on-chain (Bitcoin protocol data) and off-chain (market data) were used to analyze important factors and their relationship with the asset price. Underlying hypothesis was that fundamental factors of the Bitcoin blockchain may hold predictive power for future prices. The goal of this project can be summarized by the following problem statement:\n",
    "\n",
    "- Given a  time series of Bitcoin prices and data, can we accurately predict future prices? How accurately?\n",
    "\n",
    "The data was pulled from two sources: Glassnode and Coinmetrics.\n",
    "\n",
    "Various models were used for time-series forecasting:\n",
    "\n",
    "- SARIMA and SARIMAX\n",
    "- Facebook Prophet\n",
    "- LSTM RNN\n",
    "\n",
    "Other models used for regression and feature extration were:\n",
    "\n",
    "- Linear Regression, Extra Trees and Logistic Regression\n",
    "\n",
    "Bitcoin -- Important Facts:\n",
    "\n",
    "- Created in January 3rd, 2009 by Satoshi Nakamoto\n",
    "    - “Bitcoin: A Peer- to-Peer Electronic Cash System”\n",
    "- Bitcoin protocol and blockchain:\n",
    "    - Distributed ledger that maintains the balances of all token trading (data!)\n",
    "    - Decentralized (no central authority)\n",
    "    - Transparent\n",
    "    - Immutable\n",
    "    - Cheap and Fast\n",
    "    - Pseudo-anonymous\n",
    "- Bitcoin token: \n",
    "    - Unit of the digital currency that users own and trade. A bitcoin token is held in a bitcoin wallet (wallet address and key)\n",
    "- Mining and Cryptography:\n",
    "    - Miners compete to do complex mathematical computations in order to get block reward (bitcoins!) every 10 minutes\n",
    "    - Block reward is fixed: was 12.5 now is half: 6.25 bitcoins per block\n",
    "- Bitcoin Halving:\n",
    "    - Occurs every 210,000 blocks\n",
    "    - Block reward is halved (July 2016, May 2020, 2024)\n",
    "    - Hard-coded limit of 21 million bitcoins\n",
    "- Supply/demand imbalance:\n",
    "    - Increase in price\n",
    "- Proven Scarcity: Digital Gold narrative"
   ]
  },
  {
   "cell_type": "markdown",
   "metadata": {},
   "source": [
    "## Executive Summary\n",
    "---"
   ]
  },
  {
   "cell_type": "markdown",
   "metadata": {},
   "source": [
    "To investigate trends and structures in the Bitcoin dataset from the Glassnode and Coinmetrics APIs, we analyzed features that in theory could have impact on prices, investigated trends, created data visualizations to assist in our understanding of the data, then ran time series SARIMA models, Facebook Prophet and deep learning models with LSTM RNNs to inform and communicate our findings.\n",
    "\n",
    "Data Gathering:\n",
    "\n",
    "- Created custom functions to pull from Glassnode and Coinmetrics' API\n",
    "- Ran pull request functions to gather a reasonable amount of data to run insightful models\n",
    "\n",
    "Exploratory Data Analysis:\n",
    "\n",
    "- Explored the distribution of key features and their relationship to price\n",
    "- Analyzed fundamental metrics such as addresses, mining revenue, hashing difficulty and others.\n",
    "- Used correlation matrices to gain more understanding of potential explanatory and predictive variables\n",
    "\n",
    "Cleaning and Preprocessing:\n",
    "\n",
    "- Engineered new columns for title, post and comment lengths\n",
    "- Properly imputed missing data with correct numerical values\n",
    "- Merged dataframes into a single dataframe for modeling\n",
    "- Dropped unecessary columns and otherwise prepared dataset for each respective model\n",
    "\n",
    "Visualizations:\n",
    "\n",
    "- Created plots to visualize relationship of potential key variables with price\n",
    "- Overlayed bitcoin halving dates to infer its impact on price.\n",
    "\n",
    "Time Series and Deep Learning Models:\n",
    "\n",
    "- Created univariate and multivariate models for SARIMA(X), Facebook Prophet and LSTM RNNs\n",
    "- Fine tuned various hyperparameter and network structures for each model\n",
    "- Used appropriate performance metrics for each model\n",
    "\n",
    "Conclusions and Further Developments:\n",
    "\n",
    "- The Facebook Prophet model performed the best amongst the forecasting models\n",
    "- Bitcoin price is predicted to go up to over $20,000 in the next months\n",
    "- Would complement the project by further tuning RNN model, use hourly data for bigger dataset and improve feature selection process"
   ]
  },
  {
   "cell_type": "markdown",
   "metadata": {},
   "source": [
    "## Imports\n",
    "---"
   ]
  },
  {
   "cell_type": "code",
   "execution_count": 285,
   "metadata": {},
   "outputs": [],
   "source": [
    "# Standards\n",
    "import pandas as pd\n",
    "import numpy as np\n",
    "\n",
    "# API\n",
    "import requests\n",
    "import requests as req\n",
    "import json\n",
    "import iso8601\n",
    "\n",
    "# Automating\n",
    "import glob\n",
    "import time\n",
    "from time import sleep\n",
    "import datetime as dt\n",
    "import warnings\n",
    "import sys\n",
    "\n",
    "# Supress warnings\n",
    "import warnings\n",
    "warnings.filterwarnings('ignore')\n",
    "\n",
    "import _pickle as pickle"
   ]
  },
  {
   "cell_type": "markdown",
   "metadata": {},
   "source": [
    "## API Scraping\n",
    "---"
   ]
  },
  {
   "cell_type": "markdown",
   "metadata": {},
   "source": [
    "## Glassnode API"
   ]
  },
  {
   "cell_type": "markdown",
   "metadata": {},
   "source": [
    "### Custom Class to Get Data"
   ]
  },
  {
   "cell_type": "markdown",
   "metadata": {},
   "source": [
    "Created a custom class that pulls Glassnode data via its API."
   ]
  },
  {
   "cell_type": "code",
   "execution_count": 286,
   "metadata": {},
   "outputs": [
    {
     "data": {
      "text/plain": [
       "'\\nList of possible parameters for API:\\na\\nREQUIRED\\nstring\\nasset symbol (only: BTC, LTC, BCH)\\n\\ne\\nOPTIONAL\\nstring\\nexchange (see /endpoints)\\n\\ns\\nOPTIONAL\\ninteger\\nsince, unix timestamp\\n\\nu\\nOPTIONAL\\ninteger\\nuntil, unix timestamp\\n\\ni\\nOPTIONAL\\nstring\\nfrequency interval, 1h, 10m or 24h (default)\\n\\nf\\nOPTIONAL\\nstring\\nformat, csv or json (default)\\n\\nc\\nOPTIONAL\\nstring\\ncurrency, usd or native (default)\\n'"
      ]
     },
     "execution_count": 286,
     "metadata": {},
     "output_type": "execute_result"
    }
   ],
   "source": [
    "# https://github.com/glassnode/glassnode-api-python-client\n",
    "\n",
    "class GlassnodeClient:\n",
    "\n",
    "  def __init__(self):\n",
    "    self._api_key = ''\n",
    "\n",
    "  @property\n",
    "  def api_key(self):\n",
    "    return self._api_key\n",
    "\n",
    "  def set_api_key(self, value):\n",
    "    self._api_key = value\n",
    "\n",
    "  def get(self, url, a='BTC', i='24h', c='native', e=None, s=None, u=None):\n",
    "    p = dict()\n",
    "    p['a'] = a\n",
    "    p['i'] = i\n",
    "    p['c'] = c\n",
    "\n",
    "    if s is not None:\n",
    "      try:\n",
    "        p['s'] = iso8601.parse_date(s).strftime('%s')\n",
    "      except ParseError:\n",
    "        p['s'] = s\n",
    "\n",
    "    if u is not None:\n",
    "      try:\n",
    "        p['u'] = iso8601.parse_date(u).strftime('%s')\n",
    "      except ParseError:\n",
    "        p['u'] = s\n",
    "\n",
    "    p['api_key'] = self.api_key\n",
    "\n",
    "    r = requests.get(url, params=p)\n",
    "\n",
    "    try:\n",
    "       r.raise_for_status()\n",
    "    except Exception as e:\n",
    "        print(e)\n",
    "        print(r.text)\n",
    "\n",
    "    try:\n",
    "        df = pd.DataFrame(json.loads(r.text))\n",
    "        df = df.set_index('t')\n",
    "        df.index = pd.to_datetime(df.index, unit='s')\n",
    "        df = df.sort_index()\n",
    "        col_name = '_'.join(url.split('/')[-2:])\n",
    "        df.rename(columns = {'v': col_name}, inplace = True)\n",
    "#         s = df.v\n",
    "#         s.name = '_'.join(url.split('/')[-2:])\n",
    "        return df\n",
    "    except Exception as e:\n",
    "        print(e)\n",
    "        \n",
    "\"\"\"\n",
    "List of possible parameters for API:\n",
    "a\n",
    "REQUIRED\n",
    "string\n",
    "asset symbol (only: BTC, LTC, BCH)\n",
    "\n",
    "e\n",
    "OPTIONAL\n",
    "string\n",
    "exchange (see /endpoints)\n",
    "\n",
    "s\n",
    "OPTIONAL\n",
    "integer\n",
    "since, unix timestamp\n",
    "\n",
    "u\n",
    "OPTIONAL\n",
    "integer\n",
    "until, unix timestamp\n",
    "\n",
    "i\n",
    "OPTIONAL\n",
    "string\n",
    "frequency interval, 1h, 10m or 24h (default)\n",
    "\n",
    "f\n",
    "OPTIONAL\n",
    "string\n",
    "format, csv or json (default)\n",
    "\n",
    "c\n",
    "OPTIONAL\n",
    "string\n",
    "currency, usd or native (default)\n",
    "\"\"\""
   ]
  },
  {
   "cell_type": "code",
   "execution_count": 287,
   "metadata": {},
   "outputs": [],
   "source": [
    "gn = GlassnodeClient()"
   ]
  },
  {
   "cell_type": "code",
   "execution_count": 288,
   "metadata": {},
   "outputs": [],
   "source": [
    "gn.set_api_key('2eea6100-6a2f-44cc-a965-455b897fe07b')"
   ]
  },
  {
   "cell_type": "code",
   "execution_count": 289,
   "metadata": {},
   "outputs": [
    {
     "data": {
      "text/plain": [
       "'2020-11-18'"
      ]
     },
     "execution_count": 289,
     "metadata": {},
     "output_type": "execute_result"
    }
   ],
   "source": [
    "today = dt.datetime.today().strftime(\"%Y-%m-%d\")\n",
    "today"
   ]
  },
  {
   "cell_type": "code",
   "execution_count": 290,
   "metadata": {},
   "outputs": [],
   "source": [
    "# ADDRESSES"
   ]
  },
  {
   "cell_type": "code",
   "execution_count": 291,
   "metadata": {},
   "outputs": [
    {
     "name": "stdout",
     "output_type": "stream",
     "text": [
      "(3974, 1)\n"
     ]
    },
    {
     "data": {
      "text/html": [
       "<div>\n",
       "<style scoped>\n",
       "    .dataframe tbody tr th:only-of-type {\n",
       "        vertical-align: middle;\n",
       "    }\n",
       "\n",
       "    .dataframe tbody tr th {\n",
       "        vertical-align: top;\n",
       "    }\n",
       "\n",
       "    .dataframe thead th {\n",
       "        text-align: right;\n",
       "    }\n",
       "</style>\n",
       "<table border=\"1\" class=\"dataframe\">\n",
       "  <thead>\n",
       "    <tr style=\"text-align: right;\">\n",
       "      <th></th>\n",
       "      <th>addresses_count</th>\n",
       "    </tr>\n",
       "    <tr>\n",
       "      <th>t</th>\n",
       "      <th></th>\n",
       "    </tr>\n",
       "  </thead>\n",
       "  <tbody>\n",
       "    <tr>\n",
       "      <th>2020-11-16</th>\n",
       "      <td>736497760</td>\n",
       "    </tr>\n",
       "    <tr>\n",
       "      <th>2020-11-17</th>\n",
       "      <td>737056640</td>\n",
       "    </tr>\n",
       "  </tbody>\n",
       "</table>\n",
       "</div>"
      ],
      "text/plain": [
       "            addresses_count\n",
       "t                          \n",
       "2020-11-16        736497760\n",
       "2020-11-17        737056640"
      ]
     },
     "execution_count": 291,
     "metadata": {},
     "output_type": "execute_result"
    }
   ],
   "source": [
    "total_addresses = gn.get('https://api.glassnode.com/v1/metrics/addresses/count',  a='btc', s='2010', u=today)\n",
    "total_addresses.to_csv('data/total_addresses.csv')\n",
    "print(total_addresses.shape)\n",
    "total_addresses.tail(2)"
   ]
  },
  {
   "cell_type": "code",
   "execution_count": 292,
   "metadata": {},
   "outputs": [
    {
     "name": "stdout",
     "output_type": "stream",
     "text": [
      "(3974, 1)\n"
     ]
    },
    {
     "data": {
      "text/html": [
       "<div>\n",
       "<style scoped>\n",
       "    .dataframe tbody tr th:only-of-type {\n",
       "        vertical-align: middle;\n",
       "    }\n",
       "\n",
       "    .dataframe tbody tr th {\n",
       "        vertical-align: top;\n",
       "    }\n",
       "\n",
       "    .dataframe thead th {\n",
       "        text-align: right;\n",
       "    }\n",
       "</style>\n",
       "<table border=\"1\" class=\"dataframe\">\n",
       "  <thead>\n",
       "    <tr style=\"text-align: right;\">\n",
       "      <th></th>\n",
       "      <th>addresses_active_count</th>\n",
       "    </tr>\n",
       "    <tr>\n",
       "      <th>t</th>\n",
       "      <th></th>\n",
       "    </tr>\n",
       "  </thead>\n",
       "  <tbody>\n",
       "    <tr>\n",
       "      <th>2010-01-01</th>\n",
       "      <td>4</td>\n",
       "    </tr>\n",
       "    <tr>\n",
       "      <th>2010-01-02</th>\n",
       "      <td>0</td>\n",
       "    </tr>\n",
       "  </tbody>\n",
       "</table>\n",
       "</div>"
      ],
      "text/plain": [
       "            addresses_active_count\n",
       "t                                 \n",
       "2010-01-01                       4\n",
       "2010-01-02                       0"
      ]
     },
     "execution_count": 292,
     "metadata": {},
     "output_type": "execute_result"
    }
   ],
   "source": [
    "active_addresses = gn.get('https://api.glassnode.com/v1/metrics/addresses/active_count',  a='btc', s='2010', u=today)\n",
    "active_addresses.to_csv('data/active_addresses.csv')\n",
    "print(active_addresses.shape)\n",
    "active_addresses.head(2)"
   ]
  },
  {
   "cell_type": "code",
   "execution_count": 293,
   "metadata": {},
   "outputs": [
    {
     "name": "stdout",
     "output_type": "stream",
     "text": [
      "(3974, 1)\n"
     ]
    },
    {
     "data": {
      "text/html": [
       "<div>\n",
       "<style scoped>\n",
       "    .dataframe tbody tr th:only-of-type {\n",
       "        vertical-align: middle;\n",
       "    }\n",
       "\n",
       "    .dataframe tbody tr th {\n",
       "        vertical-align: top;\n",
       "    }\n",
       "\n",
       "    .dataframe thead th {\n",
       "        text-align: right;\n",
       "    }\n",
       "</style>\n",
       "<table border=\"1\" class=\"dataframe\">\n",
       "  <thead>\n",
       "    <tr style=\"text-align: right;\">\n",
       "      <th></th>\n",
       "      <th>addresses_new_non_zero_count</th>\n",
       "    </tr>\n",
       "    <tr>\n",
       "      <th>t</th>\n",
       "      <th></th>\n",
       "    </tr>\n",
       "  </thead>\n",
       "  <tbody>\n",
       "    <tr>\n",
       "      <th>2010-01-01</th>\n",
       "      <td>134</td>\n",
       "    </tr>\n",
       "    <tr>\n",
       "      <th>2010-01-02</th>\n",
       "      <td>126</td>\n",
       "    </tr>\n",
       "  </tbody>\n",
       "</table>\n",
       "</div>"
      ],
      "text/plain": [
       "            addresses_new_non_zero_count\n",
       "t                                       \n",
       "2010-01-01                           134\n",
       "2010-01-02                           126"
      ]
     },
     "execution_count": 293,
     "metadata": {},
     "output_type": "execute_result"
    }
   ],
   "source": [
    "new_addresses = gn.get('https://api.glassnode.com/v1/metrics/addresses/new_non_zero_count',  a='btc', s='2010', u=today)\n",
    "new_addresses.to_csv('data/new_addresses.csv')\n",
    "print(new_addresses.shape)\n",
    "new_addresses.head(2)"
   ]
  },
  {
   "cell_type": "code",
   "execution_count": 294,
   "metadata": {},
   "outputs": [
    {
     "name": "stdout",
     "output_type": "stream",
     "text": [
      "(3974, 1)\n"
     ]
    },
    {
     "data": {
      "text/html": [
       "<div>\n",
       "<style scoped>\n",
       "    .dataframe tbody tr th:only-of-type {\n",
       "        vertical-align: middle;\n",
       "    }\n",
       "\n",
       "    .dataframe tbody tr th {\n",
       "        vertical-align: top;\n",
       "    }\n",
       "\n",
       "    .dataframe thead th {\n",
       "        text-align: right;\n",
       "    }\n",
       "</style>\n",
       "<table border=\"1\" class=\"dataframe\">\n",
       "  <thead>\n",
       "    <tr style=\"text-align: right;\">\n",
       "      <th></th>\n",
       "      <th>addresses_min_10k_count</th>\n",
       "    </tr>\n",
       "    <tr>\n",
       "      <th>t</th>\n",
       "      <th></th>\n",
       "    </tr>\n",
       "  </thead>\n",
       "  <tbody>\n",
       "    <tr>\n",
       "      <th>2020-11-16</th>\n",
       "      <td>111</td>\n",
       "    </tr>\n",
       "    <tr>\n",
       "      <th>2020-11-17</th>\n",
       "      <td>111</td>\n",
       "    </tr>\n",
       "  </tbody>\n",
       "</table>\n",
       "</div>"
      ],
      "text/plain": [
       "            addresses_min_10k_count\n",
       "t                                  \n",
       "2020-11-16                      111\n",
       "2020-11-17                      111"
      ]
     },
     "execution_count": 294,
     "metadata": {},
     "output_type": "execute_result"
    }
   ],
   "source": [
    "min_10k_addresses = gn.get('https://api.glassnode.com/v1/metrics/addresses/min_10k_count',  a='btc', s='2010', u=today)\n",
    "min_10k_addresses.to_csv('data/min_10k_addresses.csv')\n",
    "print(min_10k_addresses.shape)\n",
    "min_10k_addresses.tail(2)"
   ]
  },
  {
   "cell_type": "code",
   "execution_count": 295,
   "metadata": {},
   "outputs": [
    {
     "name": "stdout",
     "output_type": "stream",
     "text": [
      "(3974, 1)\n"
     ]
    },
    {
     "data": {
      "text/html": [
       "<div>\n",
       "<style scoped>\n",
       "    .dataframe tbody tr th:only-of-type {\n",
       "        vertical-align: middle;\n",
       "    }\n",
       "\n",
       "    .dataframe tbody tr th {\n",
       "        vertical-align: top;\n",
       "    }\n",
       "\n",
       "    .dataframe thead th {\n",
       "        text-align: right;\n",
       "    }\n",
       "</style>\n",
       "<table border=\"1\" class=\"dataframe\">\n",
       "  <thead>\n",
       "    <tr style=\"text-align: right;\">\n",
       "      <th></th>\n",
       "      <th>addresses_min_1k_count</th>\n",
       "    </tr>\n",
       "    <tr>\n",
       "      <th>t</th>\n",
       "      <th></th>\n",
       "    </tr>\n",
       "  </thead>\n",
       "  <tbody>\n",
       "    <tr>\n",
       "      <th>2020-11-16</th>\n",
       "      <td>2237</td>\n",
       "    </tr>\n",
       "    <tr>\n",
       "      <th>2020-11-17</th>\n",
       "      <td>2232</td>\n",
       "    </tr>\n",
       "  </tbody>\n",
       "</table>\n",
       "</div>"
      ],
      "text/plain": [
       "            addresses_min_1k_count\n",
       "t                                 \n",
       "2020-11-16                    2237\n",
       "2020-11-17                    2232"
      ]
     },
     "execution_count": 295,
     "metadata": {},
     "output_type": "execute_result"
    }
   ],
   "source": [
    "min_1k_addresses = gn.get('https://api.glassnode.com/v1/metrics/addresses/min_1k_count',  a='btc', s='2010', u=today)\n",
    "min_1k_addresses.to_csv('data/min_1k_addresses.csv')\n",
    "print(min_1k_addresses.shape)\n",
    "min_1k_addresses.tail(2)"
   ]
  },
  {
   "cell_type": "code",
   "execution_count": 296,
   "metadata": {},
   "outputs": [
    {
     "name": "stdout",
     "output_type": "stream",
     "text": [
      "(3974, 1)\n"
     ]
    },
    {
     "data": {
      "text/html": [
       "<div>\n",
       "<style scoped>\n",
       "    .dataframe tbody tr th:only-of-type {\n",
       "        vertical-align: middle;\n",
       "    }\n",
       "\n",
       "    .dataframe tbody tr th {\n",
       "        vertical-align: top;\n",
       "    }\n",
       "\n",
       "    .dataframe thead th {\n",
       "        text-align: right;\n",
       "    }\n",
       "</style>\n",
       "<table border=\"1\" class=\"dataframe\">\n",
       "  <thead>\n",
       "    <tr style=\"text-align: right;\">\n",
       "      <th></th>\n",
       "      <th>addresses_non_zero_count</th>\n",
       "    </tr>\n",
       "    <tr>\n",
       "      <th>t</th>\n",
       "      <th></th>\n",
       "    </tr>\n",
       "  </thead>\n",
       "  <tbody>\n",
       "    <tr>\n",
       "      <th>2020-11-16</th>\n",
       "      <td>32473955</td>\n",
       "    </tr>\n",
       "    <tr>\n",
       "      <th>2020-11-17</th>\n",
       "      <td>32506599</td>\n",
       "    </tr>\n",
       "  </tbody>\n",
       "</table>\n",
       "</div>"
      ],
      "text/plain": [
       "            addresses_non_zero_count\n",
       "t                                   \n",
       "2020-11-16                  32473955\n",
       "2020-11-17                  32506599"
      ]
     },
     "execution_count": 296,
     "metadata": {},
     "output_type": "execute_result"
    }
   ],
   "source": [
    "non_zero_addresses = gn.get('https://api.glassnode.com/v1/metrics/addresses/non_zero_count',  a='btc', s='2010', u=today)\n",
    "non_zero_addresses.to_csv('data/non_zero_addresses.csv')\n",
    "print(non_zero_addresses.shape)\n",
    "non_zero_addresses.tail(2)"
   ]
  },
  {
   "cell_type": "code",
   "execution_count": 297,
   "metadata": {},
   "outputs": [
    {
     "name": "stdout",
     "output_type": "stream",
     "text": [
      "(3410, 1)\n"
     ]
    },
    {
     "data": {
      "text/html": [
       "<div>\n",
       "<style scoped>\n",
       "    .dataframe tbody tr th:only-of-type {\n",
       "        vertical-align: middle;\n",
       "    }\n",
       "\n",
       "    .dataframe tbody tr th {\n",
       "        vertical-align: top;\n",
       "    }\n",
       "\n",
       "    .dataframe thead th {\n",
       "        text-align: right;\n",
       "    }\n",
       "</style>\n",
       "<table border=\"1\" class=\"dataframe\">\n",
       "  <thead>\n",
       "    <tr style=\"text-align: right;\">\n",
       "      <th></th>\n",
       "      <th>addresses_profit_relative</th>\n",
       "    </tr>\n",
       "    <tr>\n",
       "      <th>t</th>\n",
       "      <th></th>\n",
       "    </tr>\n",
       "  </thead>\n",
       "  <tbody>\n",
       "    <tr>\n",
       "      <th>2019-11-16</th>\n",
       "      <td>0.700704</td>\n",
       "    </tr>\n",
       "    <tr>\n",
       "      <th>2019-11-17</th>\n",
       "      <td>0.702740</td>\n",
       "    </tr>\n",
       "  </tbody>\n",
       "</table>\n",
       "</div>"
      ],
      "text/plain": [
       "            addresses_profit_relative\n",
       "t                                    \n",
       "2019-11-16                   0.700704\n",
       "2019-11-17                   0.702740"
      ]
     },
     "execution_count": 297,
     "metadata": {},
     "output_type": "execute_result"
    }
   ],
   "source": [
    "addresses_profit = gn.get('https://api.glassnode.com/v1/metrics/addresses/profit_relative',  a='btc', s='2010', u=today)\n",
    "addresses_profit.to_csv('data/addresses_profit.csv')\n",
    "print(addresses_profit.shape)\n",
    "addresses_profit.tail(2)"
   ]
  },
  {
   "cell_type": "code",
   "execution_count": 298,
   "metadata": {},
   "outputs": [
    {
     "name": "stdout",
     "output_type": "stream",
     "text": [
      "(3608, 1)\n"
     ]
    },
    {
     "data": {
      "text/html": [
       "<div>\n",
       "<style scoped>\n",
       "    .dataframe tbody tr th:only-of-type {\n",
       "        vertical-align: middle;\n",
       "    }\n",
       "\n",
       "    .dataframe tbody tr th {\n",
       "        vertical-align: top;\n",
       "    }\n",
       "\n",
       "    .dataframe thead th {\n",
       "        text-align: right;\n",
       "    }\n",
       "</style>\n",
       "<table border=\"1\" class=\"dataframe\">\n",
       "  <thead>\n",
       "    <tr style=\"text-align: right;\">\n",
       "      <th></th>\n",
       "      <th>o</th>\n",
       "    </tr>\n",
       "    <tr>\n",
       "      <th>t</th>\n",
       "      <th></th>\n",
       "    </tr>\n",
       "  </thead>\n",
       "  <tbody>\n",
       "    <tr>\n",
       "      <th>2019-11-16</th>\n",
       "      <td>{'0001_001': 0.001503247800988876, '001_01': 0...</td>\n",
       "    </tr>\n",
       "    <tr>\n",
       "      <th>2019-11-17</th>\n",
       "      <td>{'0001_001': 0.0015028925893218802, '001_01': ...</td>\n",
       "    </tr>\n",
       "  </tbody>\n",
       "</table>\n",
       "</div>"
      ],
      "text/plain": [
       "                                                            o\n",
       "t                                                            \n",
       "2019-11-16  {'0001_001': 0.001503247800988876, '001_01': 0...\n",
       "2019-11-17  {'0001_001': 0.0015028925893218802, '001_01': ..."
      ]
     },
     "execution_count": 298,
     "metadata": {},
     "output_type": "execute_result"
    }
   ],
   "source": [
    "addresses_dist = gn.get('https://api.glassnode.com/v1/metrics/addresses/supply_distribution_relative',  a='btc', s='2010', u=today)\n",
    "addresses_dist.to_csv('data/addresses_dist.csv')\n",
    "print(addresses_dist.shape)\n",
    "addresses_dist.tail(2)"
   ]
  },
  {
   "cell_type": "code",
   "execution_count": 299,
   "metadata": {},
   "outputs": [
    {
     "name": "stdout",
     "output_type": "stream",
     "text": [
      "(3608, 1)\n"
     ]
    },
    {
     "data": {
      "text/html": [
       "<div>\n",
       "<style scoped>\n",
       "    .dataframe tbody tr th:only-of-type {\n",
       "        vertical-align: middle;\n",
       "    }\n",
       "\n",
       "    .dataframe tbody tr th {\n",
       "        vertical-align: top;\n",
       "    }\n",
       "\n",
       "    .dataframe thead th {\n",
       "        text-align: right;\n",
       "    }\n",
       "</style>\n",
       "<table border=\"1\" class=\"dataframe\">\n",
       "  <thead>\n",
       "    <tr style=\"text-align: right;\">\n",
       "      <th></th>\n",
       "      <th>addresses_accumulation_count</th>\n",
       "    </tr>\n",
       "    <tr>\n",
       "      <th>t</th>\n",
       "      <th></th>\n",
       "    </tr>\n",
       "  </thead>\n",
       "  <tbody>\n",
       "    <tr>\n",
       "      <th>2019-11-16</th>\n",
       "      <td>459698</td>\n",
       "    </tr>\n",
       "    <tr>\n",
       "      <th>2019-11-17</th>\n",
       "      <td>459975</td>\n",
       "    </tr>\n",
       "  </tbody>\n",
       "</table>\n",
       "</div>"
      ],
      "text/plain": [
       "            addresses_accumulation_count\n",
       "t                                       \n",
       "2019-11-16                        459698\n",
       "2019-11-17                        459975"
      ]
     },
     "execution_count": 299,
     "metadata": {},
     "output_type": "execute_result"
    }
   ],
   "source": [
    "accum_addresses = gn.get('https://api.glassnode.com/v1/metrics/addresses/accumulation_count',  a='btc', s='2010', u=today)\n",
    "accum_addresses.to_csv('data/accum_addresses.csv')\n",
    "print(accum_addresses.shape)\n",
    "accum_addresses.tail(2)"
   ]
  },
  {
   "cell_type": "code",
   "execution_count": 300,
   "metadata": {},
   "outputs": [
    {
     "name": "stdout",
     "output_type": "stream",
     "text": [
      "(3608, 1)\n"
     ]
    },
    {
     "data": {
      "text/html": [
       "<div>\n",
       "<style scoped>\n",
       "    .dataframe tbody tr th:only-of-type {\n",
       "        vertical-align: middle;\n",
       "    }\n",
       "\n",
       "    .dataframe tbody tr th {\n",
       "        vertical-align: top;\n",
       "    }\n",
       "\n",
       "    .dataframe thead th {\n",
       "        text-align: right;\n",
       "    }\n",
       "</style>\n",
       "<table border=\"1\" class=\"dataframe\">\n",
       "  <thead>\n",
       "    <tr style=\"text-align: right;\">\n",
       "      <th></th>\n",
       "      <th>addresses_accumulation_balance</th>\n",
       "    </tr>\n",
       "    <tr>\n",
       "      <th>t</th>\n",
       "      <th></th>\n",
       "    </tr>\n",
       "  </thead>\n",
       "  <tbody>\n",
       "    <tr>\n",
       "      <th>2019-11-16</th>\n",
       "      <td>2.361696e+06</td>\n",
       "    </tr>\n",
       "    <tr>\n",
       "      <th>2019-11-17</th>\n",
       "      <td>2.361896e+06</td>\n",
       "    </tr>\n",
       "  </tbody>\n",
       "</table>\n",
       "</div>"
      ],
      "text/plain": [
       "            addresses_accumulation_balance\n",
       "t                                         \n",
       "2019-11-16                    2.361696e+06\n",
       "2019-11-17                    2.361896e+06"
      ]
     },
     "execution_count": 300,
     "metadata": {},
     "output_type": "execute_result"
    }
   ],
   "source": [
    "accum_balance = gn.get('https://api.glassnode.com/v1/metrics/addresses/accumulation_balance',  a='btc', s='2010', u=today)\n",
    "accum_balance.to_csv('data/accum_balance.csv')\n",
    "print(accum_balance.shape)\n",
    "accum_balance.tail(2)"
   ]
  },
  {
   "cell_type": "code",
   "execution_count": 301,
   "metadata": {},
   "outputs": [
    {
     "name": "stdout",
     "output_type": "stream",
     "text": [
      "(3608, 1)\n"
     ]
    },
    {
     "data": {
      "text/html": [
       "<div>\n",
       "<style scoped>\n",
       "    .dataframe tbody tr th:only-of-type {\n",
       "        vertical-align: middle;\n",
       "    }\n",
       "\n",
       "    .dataframe tbody tr th {\n",
       "        vertical-align: top;\n",
       "    }\n",
       "\n",
       "    .dataframe thead th {\n",
       "        text-align: right;\n",
       "    }\n",
       "</style>\n",
       "<table border=\"1\" class=\"dataframe\">\n",
       "  <thead>\n",
       "    <tr style=\"text-align: right;\">\n",
       "      <th></th>\n",
       "      <th>addresses_sending_to_exchanges_count</th>\n",
       "    </tr>\n",
       "    <tr>\n",
       "      <th>t</th>\n",
       "      <th></th>\n",
       "    </tr>\n",
       "  </thead>\n",
       "  <tbody>\n",
       "    <tr>\n",
       "      <th>2019-11-16</th>\n",
       "      <td>44963</td>\n",
       "    </tr>\n",
       "    <tr>\n",
       "      <th>2019-11-17</th>\n",
       "      <td>44815</td>\n",
       "    </tr>\n",
       "  </tbody>\n",
       "</table>\n",
       "</div>"
      ],
      "text/plain": [
       "            addresses_sending_to_exchanges_count\n",
       "t                                               \n",
       "2019-11-16                                 44963\n",
       "2019-11-17                                 44815"
      ]
     },
     "execution_count": 301,
     "metadata": {},
     "output_type": "execute_result"
    }
   ],
   "source": [
    "dep_addresses = gn.get('https://api.glassnode.com/v1/metrics/addresses/sending_to_exchanges_count',  a='btc', s='2010', u=today)\n",
    "dep_addresses.to_csv('data/dep_addresses.csv')\n",
    "print(dep_addresses.shape)\n",
    "dep_addresses.tail(2)"
   ]
  },
  {
   "cell_type": "code",
   "execution_count": 302,
   "metadata": {},
   "outputs": [
    {
     "name": "stdout",
     "output_type": "stream",
     "text": [
      "(3608, 1)\n"
     ]
    },
    {
     "data": {
      "text/html": [
       "<div>\n",
       "<style scoped>\n",
       "    .dataframe tbody tr th:only-of-type {\n",
       "        vertical-align: middle;\n",
       "    }\n",
       "\n",
       "    .dataframe tbody tr th {\n",
       "        vertical-align: top;\n",
       "    }\n",
       "\n",
       "    .dataframe thead th {\n",
       "        text-align: right;\n",
       "    }\n",
       "</style>\n",
       "<table border=\"1\" class=\"dataframe\">\n",
       "  <thead>\n",
       "    <tr style=\"text-align: right;\">\n",
       "      <th></th>\n",
       "      <th>addresses_receiving_from_exchanges_count</th>\n",
       "    </tr>\n",
       "    <tr>\n",
       "      <th>t</th>\n",
       "      <th></th>\n",
       "    </tr>\n",
       "  </thead>\n",
       "  <tbody>\n",
       "    <tr>\n",
       "      <th>2019-11-16</th>\n",
       "      <td>18748</td>\n",
       "    </tr>\n",
       "    <tr>\n",
       "      <th>2019-11-17</th>\n",
       "      <td>17005</td>\n",
       "    </tr>\n",
       "  </tbody>\n",
       "</table>\n",
       "</div>"
      ],
      "text/plain": [
       "            addresses_receiving_from_exchanges_count\n",
       "t                                                   \n",
       "2019-11-16                                     18748\n",
       "2019-11-17                                     17005"
      ]
     },
     "execution_count": 302,
     "metadata": {},
     "output_type": "execute_result"
    }
   ],
   "source": [
    "with_addresses = gn.get('https://api.glassnode.com/v1/metrics/addresses/receiving_from_exchanges_count',  a='btc', s='2010', u=today)\n",
    "with_addresses.to_csv('data/with_addresses.csv')\n",
    "print(with_addresses.shape)\n",
    "with_addresses.tail(2)"
   ]
  },
  {
   "cell_type": "code",
   "execution_count": 303,
   "metadata": {},
   "outputs": [],
   "source": [
    "# TRANSACTIONS"
   ]
  },
  {
   "cell_type": "code",
   "execution_count": 304,
   "metadata": {},
   "outputs": [
    {
     "name": "stdout",
     "output_type": "stream",
     "text": [
      "(3974, 1)\n"
     ]
    },
    {
     "data": {
      "text/html": [
       "<div>\n",
       "<style scoped>\n",
       "    .dataframe tbody tr th:only-of-type {\n",
       "        vertical-align: middle;\n",
       "    }\n",
       "\n",
       "    .dataframe tbody tr th {\n",
       "        vertical-align: top;\n",
       "    }\n",
       "\n",
       "    .dataframe thead th {\n",
       "        text-align: right;\n",
       "    }\n",
       "</style>\n",
       "<table border=\"1\" class=\"dataframe\">\n",
       "  <thead>\n",
       "    <tr style=\"text-align: right;\">\n",
       "      <th></th>\n",
       "      <th>transactions_count</th>\n",
       "    </tr>\n",
       "    <tr>\n",
       "      <th>t</th>\n",
       "      <th></th>\n",
       "    </tr>\n",
       "  </thead>\n",
       "  <tbody>\n",
       "    <tr>\n",
       "      <th>2020-11-16</th>\n",
       "      <td>311317</td>\n",
       "    </tr>\n",
       "    <tr>\n",
       "      <th>2020-11-17</th>\n",
       "      <td>347615</td>\n",
       "    </tr>\n",
       "  </tbody>\n",
       "</table>\n",
       "</div>"
      ],
      "text/plain": [
       "            transactions_count\n",
       "t                             \n",
       "2020-11-16              311317\n",
       "2020-11-17              347615"
      ]
     },
     "execution_count": 304,
     "metadata": {},
     "output_type": "execute_result"
    }
   ],
   "source": [
    "trans_count = gn.get('https://api.glassnode.com/v1/metrics/transactions/count',  a='btc', s='2010', u=today)\n",
    "trans_count.to_csv('data/trans_count.csv')\n",
    "print(trans_count.shape)\n",
    "trans_count.tail(2)"
   ]
  },
  {
   "cell_type": "code",
   "execution_count": 305,
   "metadata": {},
   "outputs": [
    {
     "name": "stdout",
     "output_type": "stream",
     "text": [
      "(3974, 1)\n"
     ]
    },
    {
     "data": {
      "text/html": [
       "<div>\n",
       "<style scoped>\n",
       "    .dataframe tbody tr th:only-of-type {\n",
       "        vertical-align: middle;\n",
       "    }\n",
       "\n",
       "    .dataframe tbody tr th {\n",
       "        vertical-align: top;\n",
       "    }\n",
       "\n",
       "    .dataframe thead th {\n",
       "        text-align: right;\n",
       "    }\n",
       "</style>\n",
       "<table border=\"1\" class=\"dataframe\">\n",
       "  <thead>\n",
       "    <tr style=\"text-align: right;\">\n",
       "      <th></th>\n",
       "      <th>transactions_rate</th>\n",
       "    </tr>\n",
       "    <tr>\n",
       "      <th>t</th>\n",
       "      <th></th>\n",
       "    </tr>\n",
       "  </thead>\n",
       "  <tbody>\n",
       "    <tr>\n",
       "      <th>2020-11-16</th>\n",
       "      <td>3.603206</td>\n",
       "    </tr>\n",
       "    <tr>\n",
       "      <th>2020-11-17</th>\n",
       "      <td>4.023322</td>\n",
       "    </tr>\n",
       "  </tbody>\n",
       "</table>\n",
       "</div>"
      ],
      "text/plain": [
       "            transactions_rate\n",
       "t                            \n",
       "2020-11-16           3.603206\n",
       "2020-11-17           4.023322"
      ]
     },
     "execution_count": 305,
     "metadata": {},
     "output_type": "execute_result"
    }
   ],
   "source": [
    "trans_rate = gn.get('https://api.glassnode.com/v1/metrics/transactions/rate',  a='btc', s='2010', u=today)\n",
    "trans_rate.to_csv('data/trans_rate.csv')\n",
    "print(trans_rate.shape)\n",
    "trans_rate.tail(2)"
   ]
  },
  {
   "cell_type": "code",
   "execution_count": 306,
   "metadata": {},
   "outputs": [
    {
     "name": "stdout",
     "output_type": "stream",
     "text": [
      "(3974, 1)\n"
     ]
    },
    {
     "data": {
      "text/html": [
       "<div>\n",
       "<style scoped>\n",
       "    .dataframe tbody tr th:only-of-type {\n",
       "        vertical-align: middle;\n",
       "    }\n",
       "\n",
       "    .dataframe tbody tr th {\n",
       "        vertical-align: top;\n",
       "    }\n",
       "\n",
       "    .dataframe thead th {\n",
       "        text-align: right;\n",
       "    }\n",
       "</style>\n",
       "<table border=\"1\" class=\"dataframe\">\n",
       "  <thead>\n",
       "    <tr style=\"text-align: right;\">\n",
       "      <th></th>\n",
       "      <th>transactions_size_sum</th>\n",
       "    </tr>\n",
       "    <tr>\n",
       "      <th>t</th>\n",
       "      <th></th>\n",
       "    </tr>\n",
       "  </thead>\n",
       "  <tbody>\n",
       "    <tr>\n",
       "      <th>2020-11-16</th>\n",
       "      <td>193367265.0</td>\n",
       "    </tr>\n",
       "    <tr>\n",
       "      <th>2020-11-17</th>\n",
       "      <td>201284684.0</td>\n",
       "    </tr>\n",
       "  </tbody>\n",
       "</table>\n",
       "</div>"
      ],
      "text/plain": [
       "            transactions_size_sum\n",
       "t                                \n",
       "2020-11-16            193367265.0\n",
       "2020-11-17            201284684.0"
      ]
     },
     "execution_count": 306,
     "metadata": {},
     "output_type": "execute_result"
    }
   ],
   "source": [
    "trans_size = gn.get('https://api.glassnode.com/v1/metrics/transactions/size_sum',  a='btc', s='2010', u=today)\n",
    "trans_size.to_csv('data/trans_size.csv')\n",
    "print(trans_size.shape)\n",
    "trans_size.tail(2)"
   ]
  },
  {
   "cell_type": "code",
   "execution_count": 307,
   "metadata": {},
   "outputs": [
    {
     "name": "stdout",
     "output_type": "stream",
     "text": [
      "(3974, 1)\n"
     ]
    },
    {
     "data": {
      "text/html": [
       "<div>\n",
       "<style scoped>\n",
       "    .dataframe tbody tr th:only-of-type {\n",
       "        vertical-align: middle;\n",
       "    }\n",
       "\n",
       "    .dataframe tbody tr th {\n",
       "        vertical-align: top;\n",
       "    }\n",
       "\n",
       "    .dataframe thead th {\n",
       "        text-align: right;\n",
       "    }\n",
       "</style>\n",
       "<table border=\"1\" class=\"dataframe\">\n",
       "  <thead>\n",
       "    <tr style=\"text-align: right;\">\n",
       "      <th></th>\n",
       "      <th>transactions_transfers_volume_adjusted_sum</th>\n",
       "    </tr>\n",
       "    <tr>\n",
       "      <th>t</th>\n",
       "      <th></th>\n",
       "    </tr>\n",
       "  </thead>\n",
       "  <tbody>\n",
       "    <tr>\n",
       "      <th>2020-11-16</th>\n",
       "      <td>500350.562608</td>\n",
       "    </tr>\n",
       "    <tr>\n",
       "      <th>2020-11-17</th>\n",
       "      <td>606039.940181</td>\n",
       "    </tr>\n",
       "  </tbody>\n",
       "</table>\n",
       "</div>"
      ],
      "text/plain": [
       "            transactions_transfers_volume_adjusted_sum\n",
       "t                                                     \n",
       "2020-11-16                               500350.562608\n",
       "2020-11-17                               606039.940181"
      ]
     },
     "execution_count": 307,
     "metadata": {},
     "output_type": "execute_result"
    }
   ],
   "source": [
    "transf_adj_vol = gn.get('https://api.glassnode.com/v1/metrics/transactions/transfers_volume_adjusted_sum',  a='btc', s='2010', u=today)\n",
    "transf_adj_vol.to_csv('data/transf_adj_vol.csv')\n",
    "print(transf_adj_vol.shape)\n",
    "transf_adj_vol.tail(2)"
   ]
  },
  {
   "cell_type": "code",
   "execution_count": 308,
   "metadata": {},
   "outputs": [
    {
     "name": "stdout",
     "output_type": "stream",
     "text": [
      "(3608, 1)\n"
     ]
    },
    {
     "data": {
      "text/html": [
       "<div>\n",
       "<style scoped>\n",
       "    .dataframe tbody tr th:only-of-type {\n",
       "        vertical-align: middle;\n",
       "    }\n",
       "\n",
       "    .dataframe tbody tr th {\n",
       "        vertical-align: top;\n",
       "    }\n",
       "\n",
       "    .dataframe thead th {\n",
       "        text-align: right;\n",
       "    }\n",
       "</style>\n",
       "<table border=\"1\" class=\"dataframe\">\n",
       "  <thead>\n",
       "    <tr style=\"text-align: right;\">\n",
       "      <th></th>\n",
       "      <th>transactions_entity_adjusted_count</th>\n",
       "    </tr>\n",
       "    <tr>\n",
       "      <th>t</th>\n",
       "      <th></th>\n",
       "    </tr>\n",
       "  </thead>\n",
       "  <tbody>\n",
       "    <tr>\n",
       "      <th>2019-11-16</th>\n",
       "      <td>211023</td>\n",
       "    </tr>\n",
       "    <tr>\n",
       "      <th>2019-11-17</th>\n",
       "      <td>184499</td>\n",
       "    </tr>\n",
       "  </tbody>\n",
       "</table>\n",
       "</div>"
      ],
      "text/plain": [
       "            transactions_entity_adjusted_count\n",
       "t                                             \n",
       "2019-11-16                              211023\n",
       "2019-11-17                              184499"
      ]
     },
     "execution_count": 308,
     "metadata": {},
     "output_type": "execute_result"
    }
   ],
   "source": [
    "ent_adj_count = gn.get('https://api.glassnode.com/v1/metrics/transactions/entity_adjusted_count',  a='btc', s='2010', u=today)\n",
    "ent_adj_count.to_csv('data/ent_adj_count.csv')\n",
    "print(ent_adj_count.shape)\n",
    "ent_adj_count.tail(2)"
   ]
  },
  {
   "cell_type": "code",
   "execution_count": 309,
   "metadata": {},
   "outputs": [
    {
     "name": "stdout",
     "output_type": "stream",
     "text": [
      "(3608, 1)\n"
     ]
    },
    {
     "data": {
      "text/html": [
       "<div>\n",
       "<style scoped>\n",
       "    .dataframe tbody tr th:only-of-type {\n",
       "        vertical-align: middle;\n",
       "    }\n",
       "\n",
       "    .dataframe tbody tr th {\n",
       "        vertical-align: top;\n",
       "    }\n",
       "\n",
       "    .dataframe thead th {\n",
       "        text-align: right;\n",
       "    }\n",
       "</style>\n",
       "<table border=\"1\" class=\"dataframe\">\n",
       "  <thead>\n",
       "    <tr style=\"text-align: right;\">\n",
       "      <th></th>\n",
       "      <th>transactions_transfers_volume_entity_adjusted_sum</th>\n",
       "    </tr>\n",
       "    <tr>\n",
       "      <th>t</th>\n",
       "      <th></th>\n",
       "    </tr>\n",
       "  </thead>\n",
       "  <tbody>\n",
       "    <tr>\n",
       "      <th>2019-11-16</th>\n",
       "      <td>144724.614192</td>\n",
       "    </tr>\n",
       "    <tr>\n",
       "      <th>2019-11-17</th>\n",
       "      <td>106854.159103</td>\n",
       "    </tr>\n",
       "  </tbody>\n",
       "</table>\n",
       "</div>"
      ],
      "text/plain": [
       "            transactions_transfers_volume_entity_adjusted_sum\n",
       "t                                                            \n",
       "2019-11-16                                      144724.614192\n",
       "2019-11-17                                      106854.159103"
      ]
     },
     "execution_count": 309,
     "metadata": {},
     "output_type": "execute_result"
    }
   ],
   "source": [
    "ent_adj_vol = gn.get('https://api.glassnode.com/v1/metrics/transactions/transfers_volume_entity_adjusted_sum',  a='btc', s='2010', u=today)\n",
    "ent_adj_vol.to_csv('data/ent_adj_vol.csv')\n",
    "print(ent_adj_vol.shape)\n",
    "ent_adj_vol.tail(2)"
   ]
  },
  {
   "cell_type": "code",
   "execution_count": 310,
   "metadata": {},
   "outputs": [
    {
     "name": "stdout",
     "output_type": "stream",
     "text": [
      "(3608, 1)\n"
     ]
    },
    {
     "data": {
      "text/html": [
       "<div>\n",
       "<style scoped>\n",
       "    .dataframe tbody tr th:only-of-type {\n",
       "        vertical-align: middle;\n",
       "    }\n",
       "\n",
       "    .dataframe tbody tr th {\n",
       "        vertical-align: top;\n",
       "    }\n",
       "\n",
       "    .dataframe thead th {\n",
       "        text-align: right;\n",
       "    }\n",
       "</style>\n",
       "<table border=\"1\" class=\"dataframe\">\n",
       "  <thead>\n",
       "    <tr style=\"text-align: right;\">\n",
       "      <th></th>\n",
       "      <th>transactions_transfers_volume_miners_net</th>\n",
       "    </tr>\n",
       "    <tr>\n",
       "      <th>t</th>\n",
       "      <th></th>\n",
       "    </tr>\n",
       "  </thead>\n",
       "  <tbody>\n",
       "    <tr>\n",
       "      <th>2019-11-16</th>\n",
       "      <td>125.416389</td>\n",
       "    </tr>\n",
       "    <tr>\n",
       "      <th>2019-11-17</th>\n",
       "      <td>506.360430</td>\n",
       "    </tr>\n",
       "  </tbody>\n",
       "</table>\n",
       "</div>"
      ],
      "text/plain": [
       "            transactions_transfers_volume_miners_net\n",
       "t                                                   \n",
       "2019-11-16                                125.416389\n",
       "2019-11-17                                506.360430"
      ]
     },
     "execution_count": 310,
     "metadata": {},
     "output_type": "execute_result"
    }
   ],
   "source": [
    "miner_netflow = gn.get('https://api.glassnode.com/v1/metrics/transactions/transfers_volume_miners_net',  a='btc', s='2010', u=today)\n",
    "miner_netflow.to_csv('data/miner_netflow.csv')\n",
    "print(miner_netflow.shape)\n",
    "miner_netflow.tail(2)"
   ]
  },
  {
   "cell_type": "code",
   "execution_count": 311,
   "metadata": {},
   "outputs": [
    {
     "name": "stdout",
     "output_type": "stream",
     "text": [
      "(3381, 1)\n"
     ]
    },
    {
     "data": {
      "text/html": [
       "<div>\n",
       "<style scoped>\n",
       "    .dataframe tbody tr th:only-of-type {\n",
       "        vertical-align: middle;\n",
       "    }\n",
       "\n",
       "    .dataframe tbody tr th {\n",
       "        vertical-align: top;\n",
       "    }\n",
       "\n",
       "    .dataframe thead th {\n",
       "        text-align: right;\n",
       "    }\n",
       "</style>\n",
       "<table border=\"1\" class=\"dataframe\">\n",
       "  <thead>\n",
       "    <tr style=\"text-align: right;\">\n",
       "      <th></th>\n",
       "      <th>transactions_transfers_volume_to_exchanges_mean</th>\n",
       "    </tr>\n",
       "    <tr>\n",
       "      <th>t</th>\n",
       "      <th></th>\n",
       "    </tr>\n",
       "  </thead>\n",
       "  <tbody>\n",
       "    <tr>\n",
       "      <th>2020-11-16</th>\n",
       "      <td>0.965068</td>\n",
       "    </tr>\n",
       "    <tr>\n",
       "      <th>2020-11-17</th>\n",
       "      <td>1.377442</td>\n",
       "    </tr>\n",
       "  </tbody>\n",
       "</table>\n",
       "</div>"
      ],
      "text/plain": [
       "            transactions_transfers_volume_to_exchanges_mean\n",
       "t                                                          \n",
       "2020-11-16                                         0.965068\n",
       "2020-11-17                                         1.377442"
      ]
     },
     "execution_count": 311,
     "metadata": {},
     "output_type": "execute_result"
    }
   ],
   "source": [
    "exch_inflow_vol = gn.get('https://api.glassnode.com/v1/metrics/transactions/transfers_volume_to_exchanges_mean',  a='btc', s='2010', u=today)\n",
    "exch_inflow_vol.to_csv('data/exch_inflow_vol.csv')\n",
    "print(exch_inflow_vol.shape)\n",
    "exch_inflow_vol.tail(2)"
   ]
  },
  {
   "cell_type": "code",
   "execution_count": 312,
   "metadata": {},
   "outputs": [
    {
     "name": "stdout",
     "output_type": "stream",
     "text": [
      "(3381, 1)\n"
     ]
    },
    {
     "data": {
      "text/html": [
       "<div>\n",
       "<style scoped>\n",
       "    .dataframe tbody tr th:only-of-type {\n",
       "        vertical-align: middle;\n",
       "    }\n",
       "\n",
       "    .dataframe tbody tr th {\n",
       "        vertical-align: top;\n",
       "    }\n",
       "\n",
       "    .dataframe thead th {\n",
       "        text-align: right;\n",
       "    }\n",
       "</style>\n",
       "<table border=\"1\" class=\"dataframe\">\n",
       "  <thead>\n",
       "    <tr style=\"text-align: right;\">\n",
       "      <th></th>\n",
       "      <th>transactions_transfers_volume_from_exchanges_mean</th>\n",
       "    </tr>\n",
       "    <tr>\n",
       "      <th>t</th>\n",
       "      <th></th>\n",
       "    </tr>\n",
       "  </thead>\n",
       "  <tbody>\n",
       "    <tr>\n",
       "      <th>2020-11-16</th>\n",
       "      <td>1.423213</td>\n",
       "    </tr>\n",
       "    <tr>\n",
       "      <th>2020-11-17</th>\n",
       "      <td>1.266734</td>\n",
       "    </tr>\n",
       "  </tbody>\n",
       "</table>\n",
       "</div>"
      ],
      "text/plain": [
       "            transactions_transfers_volume_from_exchanges_mean\n",
       "t                                                            \n",
       "2020-11-16                                           1.423213\n",
       "2020-11-17                                           1.266734"
      ]
     },
     "execution_count": 312,
     "metadata": {},
     "output_type": "execute_result"
    }
   ],
   "source": [
    "exch_outflow_vol = gn.get('https://api.glassnode.com/v1/metrics/transactions/transfers_volume_from_exchanges_mean',  a='btc', s='2010', u=today)\n",
    "exch_outflow_vol.to_csv('data/exch_outflow_vol.csv')\n",
    "print(exch_outflow_vol.shape)\n",
    "exch_outflow_vol.tail(2)"
   ]
  },
  {
   "cell_type": "code",
   "execution_count": 313,
   "metadata": {},
   "outputs": [],
   "source": [
    "# ENTITIES"
   ]
  },
  {
   "cell_type": "code",
   "execution_count": 314,
   "metadata": {},
   "outputs": [
    {
     "name": "stdout",
     "output_type": "stream",
     "text": [
      "(3608, 1)\n"
     ]
    },
    {
     "data": {
      "text/html": [
       "<div>\n",
       "<style scoped>\n",
       "    .dataframe tbody tr th:only-of-type {\n",
       "        vertical-align: middle;\n",
       "    }\n",
       "\n",
       "    .dataframe tbody tr th {\n",
       "        vertical-align: top;\n",
       "    }\n",
       "\n",
       "    .dataframe thead th {\n",
       "        text-align: right;\n",
       "    }\n",
       "</style>\n",
       "<table border=\"1\" class=\"dataframe\">\n",
       "  <thead>\n",
       "    <tr style=\"text-align: right;\">\n",
       "      <th></th>\n",
       "      <th>entities_new_count</th>\n",
       "    </tr>\n",
       "    <tr>\n",
       "      <th>t</th>\n",
       "      <th></th>\n",
       "    </tr>\n",
       "  </thead>\n",
       "  <tbody>\n",
       "    <tr>\n",
       "      <th>2019-11-16</th>\n",
       "      <td>86250</td>\n",
       "    </tr>\n",
       "    <tr>\n",
       "      <th>2019-11-17</th>\n",
       "      <td>74030</td>\n",
       "    </tr>\n",
       "  </tbody>\n",
       "</table>\n",
       "</div>"
      ],
      "text/plain": [
       "            entities_new_count\n",
       "t                             \n",
       "2019-11-16               86250\n",
       "2019-11-17               74030"
      ]
     },
     "execution_count": 314,
     "metadata": {},
     "output_type": "execute_result"
    }
   ],
   "source": [
    "new_entities = gn.get('https://api.glassnode.com/v1/metrics/entities/new_count',  a='btc', s='2010', u=today)\n",
    "new_entities.to_csv('data/new_entities.csv')\n",
    "print(new_entities.shape)\n",
    "new_entities.tail(2)"
   ]
  },
  {
   "cell_type": "code",
   "execution_count": 315,
   "metadata": {},
   "outputs": [
    {
     "name": "stdout",
     "output_type": "stream",
     "text": [
      "(3608, 1)\n"
     ]
    },
    {
     "data": {
      "text/html": [
       "<div>\n",
       "<style scoped>\n",
       "    .dataframe tbody tr th:only-of-type {\n",
       "        vertical-align: middle;\n",
       "    }\n",
       "\n",
       "    .dataframe tbody tr th {\n",
       "        vertical-align: top;\n",
       "    }\n",
       "\n",
       "    .dataframe thead th {\n",
       "        text-align: right;\n",
       "    }\n",
       "</style>\n",
       "<table border=\"1\" class=\"dataframe\">\n",
       "  <thead>\n",
       "    <tr style=\"text-align: right;\">\n",
       "      <th></th>\n",
       "      <th>entities_net_growth_count</th>\n",
       "    </tr>\n",
       "    <tr>\n",
       "      <th>t</th>\n",
       "      <th></th>\n",
       "    </tr>\n",
       "  </thead>\n",
       "  <tbody>\n",
       "    <tr>\n",
       "      <th>2019-11-16</th>\n",
       "      <td>7620</td>\n",
       "    </tr>\n",
       "    <tr>\n",
       "      <th>2019-11-17</th>\n",
       "      <td>3417</td>\n",
       "    </tr>\n",
       "  </tbody>\n",
       "</table>\n",
       "</div>"
      ],
      "text/plain": [
       "            entities_net_growth_count\n",
       "t                                    \n",
       "2019-11-16                       7620\n",
       "2019-11-17                       3417"
      ]
     },
     "execution_count": 315,
     "metadata": {},
     "output_type": "execute_result"
    }
   ],
   "source": [
    "entities_growth = gn.get('https://api.glassnode.com/v1/metrics/entities/net_growth_count',  a='btc', s='2010', u=today)\n",
    "entities_growth.to_csv('data/entities_growth.csv')\n",
    "print(entities_growth.shape)\n",
    "entities_growth.tail(2)"
   ]
  },
  {
   "cell_type": "code",
   "execution_count": 316,
   "metadata": {},
   "outputs": [
    {
     "name": "stdout",
     "output_type": "stream",
     "text": [
      "(3608, 1)\n"
     ]
    },
    {
     "data": {
      "text/html": [
       "<div>\n",
       "<style scoped>\n",
       "    .dataframe tbody tr th:only-of-type {\n",
       "        vertical-align: middle;\n",
       "    }\n",
       "\n",
       "    .dataframe tbody tr th {\n",
       "        vertical-align: top;\n",
       "    }\n",
       "\n",
       "    .dataframe thead th {\n",
       "        text-align: right;\n",
       "    }\n",
       "</style>\n",
       "<table border=\"1\" class=\"dataframe\">\n",
       "  <thead>\n",
       "    <tr style=\"text-align: right;\">\n",
       "      <th></th>\n",
       "      <th>entities_min_1k_count</th>\n",
       "    </tr>\n",
       "    <tr>\n",
       "      <th>t</th>\n",
       "      <th></th>\n",
       "    </tr>\n",
       "  </thead>\n",
       "  <tbody>\n",
       "    <tr>\n",
       "      <th>2019-11-16</th>\n",
       "      <td>1733</td>\n",
       "    </tr>\n",
       "    <tr>\n",
       "      <th>2019-11-17</th>\n",
       "      <td>1731</td>\n",
       "    </tr>\n",
       "  </tbody>\n",
       "</table>\n",
       "</div>"
      ],
      "text/plain": [
       "            entities_min_1k_count\n",
       "t                                \n",
       "2019-11-16                   1733\n",
       "2019-11-17                   1731"
      ]
     },
     "execution_count": 316,
     "metadata": {},
     "output_type": "execute_result"
    }
   ],
   "source": [
    "whales = gn.get('https://api.glassnode.com/v1/metrics/entities/min_1k_count',  a='btc', s='2010', u=today)\n",
    "whales.to_csv('data/whales.csv')\n",
    "print(whales.shape)\n",
    "whales.tail(2)"
   ]
  },
  {
   "cell_type": "code",
   "execution_count": 317,
   "metadata": {},
   "outputs": [
    {
     "name": "stdout",
     "output_type": "stream",
     "text": [
      "(3608, 1)\n"
     ]
    },
    {
     "data": {
      "text/html": [
       "<div>\n",
       "<style scoped>\n",
       "    .dataframe tbody tr th:only-of-type {\n",
       "        vertical-align: middle;\n",
       "    }\n",
       "\n",
       "    .dataframe tbody tr th {\n",
       "        vertical-align: top;\n",
       "    }\n",
       "\n",
       "    .dataframe thead th {\n",
       "        text-align: right;\n",
       "    }\n",
       "</style>\n",
       "<table border=\"1\" class=\"dataframe\">\n",
       "  <thead>\n",
       "    <tr style=\"text-align: right;\">\n",
       "      <th></th>\n",
       "      <th>entities_active_count</th>\n",
       "    </tr>\n",
       "    <tr>\n",
       "      <th>t</th>\n",
       "      <th></th>\n",
       "    </tr>\n",
       "  </thead>\n",
       "  <tbody>\n",
       "    <tr>\n",
       "      <th>2019-11-16</th>\n",
       "      <td>202943</td>\n",
       "    </tr>\n",
       "    <tr>\n",
       "      <th>2019-11-17</th>\n",
       "      <td>178521</td>\n",
       "    </tr>\n",
       "  </tbody>\n",
       "</table>\n",
       "</div>"
      ],
      "text/plain": [
       "            entities_active_count\n",
       "t                                \n",
       "2019-11-16                 202943\n",
       "2019-11-17                 178521"
      ]
     },
     "execution_count": 317,
     "metadata": {},
     "output_type": "execute_result"
    }
   ],
   "source": [
    "active_entities = gn.get('https://api.glassnode.com/v1/metrics/entities/active_count',  a='btc', s='2010', u=today)\n",
    "active_entities.to_csv('data/active_entities.csv')\n",
    "print(active_entities.shape)\n",
    "active_entities.tail(2)"
   ]
  },
  {
   "cell_type": "code",
   "execution_count": 318,
   "metadata": {},
   "outputs": [
    {
     "name": "stdout",
     "output_type": "stream",
     "text": [
      "(3608, 1)\n"
     ]
    },
    {
     "data": {
      "text/html": [
       "<div>\n",
       "<style scoped>\n",
       "    .dataframe tbody tr th:only-of-type {\n",
       "        vertical-align: middle;\n",
       "    }\n",
       "\n",
       "    .dataframe tbody tr th {\n",
       "        vertical-align: top;\n",
       "    }\n",
       "\n",
       "    .dataframe thead th {\n",
       "        text-align: right;\n",
       "    }\n",
       "</style>\n",
       "<table border=\"1\" class=\"dataframe\">\n",
       "  <thead>\n",
       "    <tr style=\"text-align: right;\">\n",
       "      <th></th>\n",
       "      <th>entities_receiving_count</th>\n",
       "    </tr>\n",
       "    <tr>\n",
       "      <th>t</th>\n",
       "      <th></th>\n",
       "    </tr>\n",
       "  </thead>\n",
       "  <tbody>\n",
       "    <tr>\n",
       "      <th>2019-11-16</th>\n",
       "      <td>156192</td>\n",
       "    </tr>\n",
       "    <tr>\n",
       "      <th>2019-11-17</th>\n",
       "      <td>134287</td>\n",
       "    </tr>\n",
       "  </tbody>\n",
       "</table>\n",
       "</div>"
      ],
      "text/plain": [
       "            entities_receiving_count\n",
       "t                                   \n",
       "2019-11-16                    156192\n",
       "2019-11-17                    134287"
      ]
     },
     "execution_count": 318,
     "metadata": {},
     "output_type": "execute_result"
    }
   ],
   "source": [
    "receiving_entities = gn.get('https://api.glassnode.com/v1/metrics/entities/receiving_count',  a='btc', s='2010', u=today)\n",
    "receiving_entities.to_csv('data/receiving_entities.csv')\n",
    "print(receiving_entities.shape)\n",
    "receiving_entities.tail(2)"
   ]
  },
  {
   "cell_type": "code",
   "execution_count": 319,
   "metadata": {},
   "outputs": [
    {
     "name": "stdout",
     "output_type": "stream",
     "text": [
      "(3410, 1)\n"
     ]
    },
    {
     "data": {
      "text/html": [
       "<div>\n",
       "<style scoped>\n",
       "    .dataframe tbody tr th:only-of-type {\n",
       "        vertical-align: middle;\n",
       "    }\n",
       "\n",
       "    .dataframe tbody tr th {\n",
       "        vertical-align: top;\n",
       "    }\n",
       "\n",
       "    .dataframe thead th {\n",
       "        text-align: right;\n",
       "    }\n",
       "</style>\n",
       "<table border=\"1\" class=\"dataframe\">\n",
       "  <thead>\n",
       "    <tr style=\"text-align: right;\">\n",
       "      <th></th>\n",
       "      <th>entities_profit_relative</th>\n",
       "    </tr>\n",
       "    <tr>\n",
       "      <th>t</th>\n",
       "      <th></th>\n",
       "    </tr>\n",
       "  </thead>\n",
       "  <tbody>\n",
       "    <tr>\n",
       "      <th>2019-11-16</th>\n",
       "      <td>0.736425</td>\n",
       "    </tr>\n",
       "    <tr>\n",
       "      <th>2019-11-17</th>\n",
       "      <td>0.737995</td>\n",
       "    </tr>\n",
       "  </tbody>\n",
       "</table>\n",
       "</div>"
      ],
      "text/plain": [
       "            entities_profit_relative\n",
       "t                                   \n",
       "2019-11-16                  0.736425\n",
       "2019-11-17                  0.737995"
      ]
     },
     "execution_count": 319,
     "metadata": {},
     "output_type": "execute_result"
    }
   ],
   "source": [
    "profit_entities = gn.get('https://api.glassnode.com/v1/metrics/entities/profit_relative',  a='btc', s='2010', u=today)\n",
    "profit_entities.to_csv('data/profit_entities.csv')\n",
    "print(profit_entities.shape)\n",
    "profit_entities.tail(2)"
   ]
  },
  {
   "cell_type": "code",
   "execution_count": 320,
   "metadata": {},
   "outputs": [
    {
     "name": "stdout",
     "output_type": "stream",
     "text": [
      "(3608, 1)\n"
     ]
    },
    {
     "data": {
      "text/html": [
       "<div>\n",
       "<style scoped>\n",
       "    .dataframe tbody tr th:only-of-type {\n",
       "        vertical-align: middle;\n",
       "    }\n",
       "\n",
       "    .dataframe tbody tr th {\n",
       "        vertical-align: top;\n",
       "    }\n",
       "\n",
       "    .dataframe thead th {\n",
       "        text-align: right;\n",
       "    }\n",
       "</style>\n",
       "<table border=\"1\" class=\"dataframe\">\n",
       "  <thead>\n",
       "    <tr style=\"text-align: right;\">\n",
       "      <th></th>\n",
       "      <th>o</th>\n",
       "    </tr>\n",
       "    <tr>\n",
       "      <th>t</th>\n",
       "      <th></th>\n",
       "    </tr>\n",
       "  </thead>\n",
       "  <tbody>\n",
       "    <tr>\n",
       "      <th>2019-11-16</th>\n",
       "      <td>{'0001_001': 0.0011580326648985, '001_01': 0.0...</td>\n",
       "    </tr>\n",
       "    <tr>\n",
       "      <th>2019-11-17</th>\n",
       "      <td>{'0001_001': 0.0011582004415799, '001_01': 0.0...</td>\n",
       "    </tr>\n",
       "  </tbody>\n",
       "</table>\n",
       "</div>"
      ],
      "text/plain": [
       "                                                            o\n",
       "t                                                            \n",
       "2019-11-16  {'0001_001': 0.0011580326648985, '001_01': 0.0...\n",
       "2019-11-17  {'0001_001': 0.0011582004415799, '001_01': 0.0..."
      ]
     },
     "execution_count": 320,
     "metadata": {},
     "output_type": "execute_result"
    }
   ],
   "source": [
    "entities_dist = gn.get('https://api.glassnode.com/v1/metrics/entities/supply_distribution_relative',  a='btc', s='2010', u=today)\n",
    "entities_dist.to_csv('data/entities_dist.csv')\n",
    "print(entities_dist.shape)\n",
    "entities_dist.tail(2)"
   ]
  },
  {
   "cell_type": "code",
   "execution_count": 321,
   "metadata": {},
   "outputs": [],
   "source": [
    "# MARKET"
   ]
  },
  {
   "cell_type": "code",
   "execution_count": 322,
   "metadata": {},
   "outputs": [
    {
     "name": "stdout",
     "output_type": "stream",
     "text": [
      "(3777, 1)\n"
     ]
    },
    {
     "data": {
      "text/html": [
       "<div>\n",
       "<style scoped>\n",
       "    .dataframe tbody tr th:only-of-type {\n",
       "        vertical-align: middle;\n",
       "    }\n",
       "\n",
       "    .dataframe tbody tr th {\n",
       "        vertical-align: top;\n",
       "    }\n",
       "\n",
       "    .dataframe thead th {\n",
       "        text-align: right;\n",
       "    }\n",
       "</style>\n",
       "<table border=\"1\" class=\"dataframe\">\n",
       "  <thead>\n",
       "    <tr style=\"text-align: right;\">\n",
       "      <th></th>\n",
       "      <th>market_price_usd_close</th>\n",
       "    </tr>\n",
       "    <tr>\n",
       "      <th>t</th>\n",
       "      <th></th>\n",
       "    </tr>\n",
       "  </thead>\n",
       "  <tbody>\n",
       "    <tr>\n",
       "      <th>2020-11-16</th>\n",
       "      <td>16709.612284</td>\n",
       "    </tr>\n",
       "    <tr>\n",
       "      <th>2020-11-17</th>\n",
       "      <td>17667.381593</td>\n",
       "    </tr>\n",
       "  </tbody>\n",
       "</table>\n",
       "</div>"
      ],
      "text/plain": [
       "            market_price_usd_close\n",
       "t                                 \n",
       "2020-11-16            16709.612284\n",
       "2020-11-17            17667.381593"
      ]
     },
     "execution_count": 322,
     "metadata": {},
     "output_type": "execute_result"
    }
   ],
   "source": [
    "closing_price = gn.get('https://api.glassnode.com/v1/metrics/market/price_usd_close',  a='btc', s='2010', u=today)\n",
    "closing_price.to_csv('data/closing_price.csv')\n",
    "print(closing_price.shape)\n",
    "closing_price.tail(2)"
   ]
  },
  {
   "cell_type": "code",
   "execution_count": 323,
   "metadata": {},
   "outputs": [
    {
     "name": "stdout",
     "output_type": "stream",
     "text": [
      "(3777, 4)\n"
     ]
    },
    {
     "data": {
      "text/html": [
       "<div>\n",
       "<style scoped>\n",
       "    .dataframe tbody tr th:only-of-type {\n",
       "        vertical-align: middle;\n",
       "    }\n",
       "\n",
       "    .dataframe tbody tr th {\n",
       "        vertical-align: top;\n",
       "    }\n",
       "\n",
       "    .dataframe thead th {\n",
       "        text-align: right;\n",
       "    }\n",
       "</style>\n",
       "<table border=\"1\" class=\"dataframe\">\n",
       "  <thead>\n",
       "    <tr style=\"text-align: right;\">\n",
       "      <th></th>\n",
       "      <th>Close</th>\n",
       "      <th>High</th>\n",
       "      <th>Low</th>\n",
       "      <th>Open</th>\n",
       "    </tr>\n",
       "    <tr>\n",
       "      <th>t</th>\n",
       "      <th></th>\n",
       "      <th></th>\n",
       "      <th></th>\n",
       "      <th></th>\n",
       "    </tr>\n",
       "  </thead>\n",
       "  <tbody>\n",
       "    <tr>\n",
       "      <th>2020-11-16</th>\n",
       "      <td>16709.612284</td>\n",
       "      <td>16804.409142</td>\n",
       "      <td>15887.108131</td>\n",
       "      <td>15953.998053</td>\n",
       "    </tr>\n",
       "    <tr>\n",
       "      <th>2020-11-17</th>\n",
       "      <td>17667.381593</td>\n",
       "      <td>17782.620109</td>\n",
       "      <td>16564.544992</td>\n",
       "      <td>16700.900927</td>\n",
       "    </tr>\n",
       "  </tbody>\n",
       "</table>\n",
       "</div>"
      ],
      "text/plain": [
       "                   Close          High           Low          Open\n",
       "t                                                                 \n",
       "2020-11-16  16709.612284  16804.409142  15887.108131  15953.998053\n",
       "2020-11-17  17667.381593  17782.620109  16564.544992  16700.900927"
      ]
     },
     "execution_count": 323,
     "metadata": {},
     "output_type": "execute_result"
    }
   ],
   "source": [
    "ohlc_price = gn.get('https://api.glassnode.com/v1/metrics/market/price_usd_ohlc',  a='btc', s='2010', u=today)\n",
    "ohlc_price_df = pd.DataFrame()\n",
    "for i in range(len(ohlc_price['o'])):\n",
    "    df = pd.DataFrame(ohlc_price.iloc[i]['o'].values()).T\n",
    "    df.columns = ohlc_price.iloc[i]['o'].keys()\n",
    "    ohlc_price_df =pd.concat([ohlc_price_df, df])\n",
    "ohlc_price_df.index = ohlc_price.index\n",
    "ohlc_price_df.rename(columns={'c':'Close', 'h': 'High', 'l':'Low', 'o':'Open'}, inplace=True)\n",
    "ohlc_price = ohlc_price_df\n",
    "print(ohlc_price.shape)\n",
    "ohlc_price.to_csv('data/ohlc_price.csv')\n",
    "ohlc_price.tail(2)"
   ]
  },
  {
   "cell_type": "code",
   "execution_count": 324,
   "metadata": {},
   "outputs": [
    {
     "name": "stdout",
     "output_type": "stream",
     "text": [
      "(3777, 1)\n"
     ]
    },
    {
     "data": {
      "text/html": [
       "<div>\n",
       "<style scoped>\n",
       "    .dataframe tbody tr th:only-of-type {\n",
       "        vertical-align: middle;\n",
       "    }\n",
       "\n",
       "    .dataframe tbody tr th {\n",
       "        vertical-align: top;\n",
       "    }\n",
       "\n",
       "    .dataframe thead th {\n",
       "        text-align: right;\n",
       "    }\n",
       "</style>\n",
       "<table border=\"1\" class=\"dataframe\">\n",
       "  <thead>\n",
       "    <tr style=\"text-align: right;\">\n",
       "      <th></th>\n",
       "      <th>market_price_drawdown_relative</th>\n",
       "    </tr>\n",
       "    <tr>\n",
       "      <th>t</th>\n",
       "      <th></th>\n",
       "    </tr>\n",
       "  </thead>\n",
       "  <tbody>\n",
       "    <tr>\n",
       "      <th>2020-11-16</th>\n",
       "      <td>-0.156588</td>\n",
       "    </tr>\n",
       "    <tr>\n",
       "      <th>2020-11-17</th>\n",
       "      <td>-0.108245</td>\n",
       "    </tr>\n",
       "  </tbody>\n",
       "</table>\n",
       "</div>"
      ],
      "text/plain": [
       "            market_price_drawdown_relative\n",
       "t                                         \n",
       "2020-11-16                       -0.156588\n",
       "2020-11-17                       -0.108245"
      ]
     },
     "execution_count": 324,
     "metadata": {},
     "output_type": "execute_result"
    }
   ],
   "source": [
    "pct_from_ath = gn.get('https://api.glassnode.com/v1/metrics/market/price_drawdown_relative',  a='btc', s='2010', u=today)\n",
    "pct_from_ath.to_csv('data/pct_from_ath.csv')\n",
    "print(pct_from_ath.shape)\n",
    "pct_from_ath.tail(2)"
   ]
  },
  {
   "cell_type": "code",
   "execution_count": 325,
   "metadata": {},
   "outputs": [
    {
     "name": "stdout",
     "output_type": "stream",
     "text": [
      "(3974, 1)\n"
     ]
    },
    {
     "data": {
      "text/html": [
       "<div>\n",
       "<style scoped>\n",
       "    .dataframe tbody tr th:only-of-type {\n",
       "        vertical-align: middle;\n",
       "    }\n",
       "\n",
       "    .dataframe tbody tr th {\n",
       "        vertical-align: top;\n",
       "    }\n",
       "\n",
       "    .dataframe thead th {\n",
       "        text-align: right;\n",
       "    }\n",
       "</style>\n",
       "<table border=\"1\" class=\"dataframe\">\n",
       "  <thead>\n",
       "    <tr style=\"text-align: right;\">\n",
       "      <th></th>\n",
       "      <th>market_price_realized_usd</th>\n",
       "    </tr>\n",
       "    <tr>\n",
       "      <th>t</th>\n",
       "      <th></th>\n",
       "    </tr>\n",
       "  </thead>\n",
       "  <tbody>\n",
       "    <tr>\n",
       "      <th>2020-11-16</th>\n",
       "      <td>6926.408944</td>\n",
       "    </tr>\n",
       "    <tr>\n",
       "      <th>2020-11-17</th>\n",
       "      <td>6962.388651</td>\n",
       "    </tr>\n",
       "  </tbody>\n",
       "</table>\n",
       "</div>"
      ],
      "text/plain": [
       "            market_price_realized_usd\n",
       "t                                    \n",
       "2020-11-16                6926.408944\n",
       "2020-11-17                6962.388651"
      ]
     },
     "execution_count": 325,
     "metadata": {},
     "output_type": "execute_result"
    }
   ],
   "source": [
    "realized_price = gn.get('https://api.glassnode.com/v1/metrics/market/price_realized_usd',  a='btc', s='2010', u=today)\n",
    "realized_price.to_csv('data/realized_price.csv')\n",
    "print(realized_price.shape)\n",
    "realized_price.tail(2)"
   ]
  },
  {
   "cell_type": "code",
   "execution_count": 326,
   "metadata": {},
   "outputs": [
    {
     "name": "stdout",
     "output_type": "stream",
     "text": [
      "(3777, 1)\n"
     ]
    },
    {
     "data": {
      "text/html": [
       "<div>\n",
       "<style scoped>\n",
       "    .dataframe tbody tr th:only-of-type {\n",
       "        vertical-align: middle;\n",
       "    }\n",
       "\n",
       "    .dataframe tbody tr th {\n",
       "        vertical-align: top;\n",
       "    }\n",
       "\n",
       "    .dataframe thead th {\n",
       "        text-align: right;\n",
       "    }\n",
       "</style>\n",
       "<table border=\"1\" class=\"dataframe\">\n",
       "  <thead>\n",
       "    <tr style=\"text-align: right;\">\n",
       "      <th></th>\n",
       "      <th>market_marketcap_usd</th>\n",
       "    </tr>\n",
       "    <tr>\n",
       "      <th>t</th>\n",
       "      <th></th>\n",
       "    </tr>\n",
       "  </thead>\n",
       "  <tbody>\n",
       "    <tr>\n",
       "      <th>2020-11-16</th>\n",
       "      <td>3.031369e+11</td>\n",
       "    </tr>\n",
       "    <tr>\n",
       "      <th>2020-11-17</th>\n",
       "      <td>3.162249e+11</td>\n",
       "    </tr>\n",
       "  </tbody>\n",
       "</table>\n",
       "</div>"
      ],
      "text/plain": [
       "            market_marketcap_usd\n",
       "t                               \n",
       "2020-11-16          3.031369e+11\n",
       "2020-11-17          3.162249e+11"
      ]
     },
     "execution_count": 326,
     "metadata": {},
     "output_type": "execute_result"
    }
   ],
   "source": [
    "market_cap = gn.get('https://api.glassnode.com/v1/metrics/market/marketcap_usd',  a='btc', s='2010', u=today)\n",
    "market_cap.to_csv('data/market_cap.csv')\n",
    "print(market_cap.shape)\n",
    "market_cap.tail(2)"
   ]
  },
  {
   "cell_type": "code",
   "execution_count": 327,
   "metadata": {},
   "outputs": [
    {
     "name": "stdout",
     "output_type": "stream",
     "text": [
      "(3974, 1)\n"
     ]
    },
    {
     "data": {
      "text/html": [
       "<div>\n",
       "<style scoped>\n",
       "    .dataframe tbody tr th:only-of-type {\n",
       "        vertical-align: middle;\n",
       "    }\n",
       "\n",
       "    .dataframe tbody tr th {\n",
       "        vertical-align: top;\n",
       "    }\n",
       "\n",
       "    .dataframe thead th {\n",
       "        text-align: right;\n",
       "    }\n",
       "</style>\n",
       "<table border=\"1\" class=\"dataframe\">\n",
       "  <thead>\n",
       "    <tr style=\"text-align: right;\">\n",
       "      <th></th>\n",
       "      <th>market_marketcap_realized_usd</th>\n",
       "    </tr>\n",
       "    <tr>\n",
       "      <th>t</th>\n",
       "      <th></th>\n",
       "    </tr>\n",
       "  </thead>\n",
       "  <tbody>\n",
       "    <tr>\n",
       "      <th>2020-11-16</th>\n",
       "      <td>1.284531e+11</td>\n",
       "    </tr>\n",
       "    <tr>\n",
       "      <th>2020-11-17</th>\n",
       "      <td>1.291272e+11</td>\n",
       "    </tr>\n",
       "  </tbody>\n",
       "</table>\n",
       "</div>"
      ],
      "text/plain": [
       "            market_marketcap_realized_usd\n",
       "t                                        \n",
       "2020-11-16                   1.284531e+11\n",
       "2020-11-17                   1.291272e+11"
      ]
     },
     "execution_count": 327,
     "metadata": {},
     "output_type": "execute_result"
    }
   ],
   "source": [
    "realized_mcap = gn.get('https://api.glassnode.com/v1/metrics/market/marketcap_realized_usd',  a='btc', s='2010', u=today)\n",
    "realized_mcap.to_csv('data/realized_mcap.csv')\n",
    "print(realized_mcap.shape)\n",
    "realized_mcap.tail(2)"
   ]
  },
  {
   "cell_type": "code",
   "execution_count": 328,
   "metadata": {},
   "outputs": [
    {
     "name": "stdout",
     "output_type": "stream",
     "text": [
      "(3777, 1)\n"
     ]
    },
    {
     "data": {
      "text/html": [
       "<div>\n",
       "<style scoped>\n",
       "    .dataframe tbody tr th:only-of-type {\n",
       "        vertical-align: middle;\n",
       "    }\n",
       "\n",
       "    .dataframe tbody tr th {\n",
       "        vertical-align: top;\n",
       "    }\n",
       "\n",
       "    .dataframe thead th {\n",
       "        text-align: right;\n",
       "    }\n",
       "</style>\n",
       "<table border=\"1\" class=\"dataframe\">\n",
       "  <thead>\n",
       "    <tr style=\"text-align: right;\">\n",
       "      <th></th>\n",
       "      <th>market_mvrv</th>\n",
       "    </tr>\n",
       "    <tr>\n",
       "      <th>t</th>\n",
       "      <th></th>\n",
       "    </tr>\n",
       "  </thead>\n",
       "  <tbody>\n",
       "    <tr>\n",
       "      <th>2020-11-16</th>\n",
       "      <td>2.359903</td>\n",
       "    </tr>\n",
       "    <tr>\n",
       "      <th>2020-11-17</th>\n",
       "      <td>2.448941</td>\n",
       "    </tr>\n",
       "  </tbody>\n",
       "</table>\n",
       "</div>"
      ],
      "text/plain": [
       "            market_mvrv\n",
       "t                      \n",
       "2020-11-16     2.359903\n",
       "2020-11-17     2.448941"
      ]
     },
     "execution_count": 328,
     "metadata": {},
     "output_type": "execute_result"
    }
   ],
   "source": [
    "mvrv = gn.get('https://api.glassnode.com/v1/metrics/market/mvrv',  a='btc', s='2010', u=today)\n",
    "mvrv.to_csv('data/mvrv.csv')\n",
    "print(mvrv.shape)\n",
    "mvrv.tail(2)"
   ]
  },
  {
   "cell_type": "code",
   "execution_count": 329,
   "metadata": {},
   "outputs": [
    {
     "name": "stdout",
     "output_type": "stream",
     "text": [
      "(3776, 1)\n"
     ]
    },
    {
     "data": {
      "text/html": [
       "<div>\n",
       "<style scoped>\n",
       "    .dataframe tbody tr th:only-of-type {\n",
       "        vertical-align: middle;\n",
       "    }\n",
       "\n",
       "    .dataframe tbody tr th {\n",
       "        vertical-align: top;\n",
       "    }\n",
       "\n",
       "    .dataframe thead th {\n",
       "        text-align: right;\n",
       "    }\n",
       "</style>\n",
       "<table border=\"1\" class=\"dataframe\">\n",
       "  <thead>\n",
       "    <tr style=\"text-align: right;\">\n",
       "      <th></th>\n",
       "      <th>market_mvrv_z_score</th>\n",
       "    </tr>\n",
       "    <tr>\n",
       "      <th>t</th>\n",
       "      <th></th>\n",
       "    </tr>\n",
       "  </thead>\n",
       "  <tbody>\n",
       "    <tr>\n",
       "      <th>2020-11-16</th>\n",
       "      <td>2.581785</td>\n",
       "    </tr>\n",
       "    <tr>\n",
       "      <th>2020-11-17</th>\n",
       "      <td>2.760377</td>\n",
       "    </tr>\n",
       "  </tbody>\n",
       "</table>\n",
       "</div>"
      ],
      "text/plain": [
       "            market_mvrv_z_score\n",
       "t                              \n",
       "2020-11-16             2.581785\n",
       "2020-11-17             2.760377"
      ]
     },
     "execution_count": 329,
     "metadata": {},
     "output_type": "execute_result"
    }
   ],
   "source": [
    "mvrv_z = gn.get('https://api.glassnode.com/v1/metrics/market/mvrv_z_score',  a='btc', s='2010', u=today)\n",
    "mvrv_z.to_csv('data/mvrv_z.csv')\n",
    "print(mvrv_z.shape)\n",
    "mvrv_z.tail(2)"
   ]
  },
  {
   "cell_type": "code",
   "execution_count": 330,
   "metadata": {},
   "outputs": [
    {
     "name": "stdout",
     "output_type": "stream",
     "text": [
      "(3256, 1)\n"
     ]
    },
    {
     "data": {
      "text/html": [
       "<div>\n",
       "<style scoped>\n",
       "    .dataframe tbody tr th:only-of-type {\n",
       "        vertical-align: middle;\n",
       "    }\n",
       "\n",
       "    .dataframe tbody tr th {\n",
       "        vertical-align: top;\n",
       "    }\n",
       "\n",
       "    .dataframe thead th {\n",
       "        text-align: right;\n",
       "    }\n",
       "</style>\n",
       "<table border=\"1\" class=\"dataframe\">\n",
       "  <thead>\n",
       "    <tr style=\"text-align: right;\">\n",
       "      <th></th>\n",
       "      <th>market_mvrv_more_155</th>\n",
       "    </tr>\n",
       "    <tr>\n",
       "      <th>t</th>\n",
       "      <th></th>\n",
       "    </tr>\n",
       "  </thead>\n",
       "  <tbody>\n",
       "    <tr>\n",
       "      <th>2019-11-16</th>\n",
       "      <td>1.797264</td>\n",
       "    </tr>\n",
       "    <tr>\n",
       "      <th>2019-11-17</th>\n",
       "      <td>1.800986</td>\n",
       "    </tr>\n",
       "  </tbody>\n",
       "</table>\n",
       "</div>"
      ],
      "text/plain": [
       "            market_mvrv_more_155\n",
       "t                               \n",
       "2019-11-16              1.797264\n",
       "2019-11-17              1.800986"
      ]
     },
     "execution_count": 330,
     "metadata": {},
     "output_type": "execute_result"
    }
   ],
   "source": [
    "lt_mvrv = gn.get('https://api.glassnode.com/v1/metrics/market/mvrv_more_155',  a='btc', s='2010', u=today)\n",
    "lt_mvrv.to_csv('data/lt_mvrv.csv')\n",
    "print(lt_mvrv.shape)\n",
    "lt_mvrv.tail(2)"
   ]
  },
  {
   "cell_type": "code",
   "execution_count": 331,
   "metadata": {},
   "outputs": [
    {
     "name": "stdout",
     "output_type": "stream",
     "text": [
      "(3411, 1)\n"
     ]
    },
    {
     "data": {
      "text/html": [
       "<div>\n",
       "<style scoped>\n",
       "    .dataframe tbody tr th:only-of-type {\n",
       "        vertical-align: middle;\n",
       "    }\n",
       "\n",
       "    .dataframe tbody tr th {\n",
       "        vertical-align: top;\n",
       "    }\n",
       "\n",
       "    .dataframe thead th {\n",
       "        text-align: right;\n",
       "    }\n",
       "</style>\n",
       "<table border=\"1\" class=\"dataframe\">\n",
       "  <thead>\n",
       "    <tr style=\"text-align: right;\">\n",
       "      <th></th>\n",
       "      <th>market_mvrv_less_155</th>\n",
       "    </tr>\n",
       "    <tr>\n",
       "      <th>t</th>\n",
       "      <th></th>\n",
       "    </tr>\n",
       "  </thead>\n",
       "  <tbody>\n",
       "    <tr>\n",
       "      <th>2019-11-16</th>\n",
       "      <td>0.885314</td>\n",
       "    </tr>\n",
       "    <tr>\n",
       "      <th>2019-11-17</th>\n",
       "      <td>0.887903</td>\n",
       "    </tr>\n",
       "  </tbody>\n",
       "</table>\n",
       "</div>"
      ],
      "text/plain": [
       "            market_mvrv_less_155\n",
       "t                               \n",
       "2019-11-16              0.885314\n",
       "2019-11-17              0.887903"
      ]
     },
     "execution_count": 331,
     "metadata": {},
     "output_type": "execute_result"
    }
   ],
   "source": [
    "st_mvrv = gn.get('https://api.glassnode.com/v1/metrics/market/mvrv_less_155',  a='btc', s='2010', u=today)\n",
    "st_mvrv.to_csv('data/st_mvrv.csv')\n",
    "print(st_mvrv.shape)\n",
    "st_mvrv.tail(2)"
   ]
  },
  {
   "cell_type": "code",
   "execution_count": 332,
   "metadata": {},
   "outputs": [],
   "source": [
    "# FUTURES"
   ]
  },
  {
   "cell_type": "code",
   "execution_count": 333,
   "metadata": {},
   "outputs": [
    {
     "name": "stdout",
     "output_type": "stream",
     "text": [
      "(9, 1)\n"
     ]
    },
    {
     "data": {
      "text/html": [
       "<div>\n",
       "<style scoped>\n",
       "    .dataframe tbody tr th:only-of-type {\n",
       "        vertical-align: middle;\n",
       "    }\n",
       "\n",
       "    .dataframe tbody tr th {\n",
       "        vertical-align: top;\n",
       "    }\n",
       "\n",
       "    .dataframe thead th {\n",
       "        text-align: right;\n",
       "    }\n",
       "</style>\n",
       "<table border=\"1\" class=\"dataframe\">\n",
       "  <thead>\n",
       "    <tr style=\"text-align: right;\">\n",
       "      <th></th>\n",
       "      <th>daily_volume</th>\n",
       "    </tr>\n",
       "    <tr>\n",
       "      <th>t</th>\n",
       "      <th></th>\n",
       "    </tr>\n",
       "  </thead>\n",
       "  <tbody>\n",
       "    <tr>\n",
       "      <th>2020-11-18 21:50:00</th>\n",
       "      <td>35524.378609</td>\n",
       "    </tr>\n",
       "    <tr>\n",
       "      <th>2020-11-18 21:50:00</th>\n",
       "      <td>407918.775184</td>\n",
       "    </tr>\n",
       "  </tbody>\n",
       "</table>\n",
       "</div>"
      ],
      "text/plain": [
       "                      daily_volume\n",
       "t                                 \n",
       "2020-11-18 21:50:00   35524.378609\n",
       "2020-11-18 21:50:00  407918.775184"
      ]
     },
     "execution_count": 333,
     "metadata": {},
     "output_type": "execute_result"
    }
   ],
   "source": [
    "latest_vol = gn.get('https://api.glassnode.com/v1/metrics/derivatives/futures_volume_daily_latest',  a='btc', s='2010', u=today)\n",
    "latest_vol.to_csv('data/latest_vol.csv')\n",
    "print(latest_vol.shape)\n",
    "latest_vol.tail(2)"
   ]
  },
  {
   "cell_type": "code",
   "execution_count": 334,
   "metadata": {},
   "outputs": [
    {
     "name": "stdout",
     "output_type": "stream",
     "text": [
      "(31, 1)\n"
     ]
    },
    {
     "data": {
      "text/html": [
       "<div>\n",
       "<style scoped>\n",
       "    .dataframe tbody tr th:only-of-type {\n",
       "        vertical-align: middle;\n",
       "    }\n",
       "\n",
       "    .dataframe tbody tr th {\n",
       "        vertical-align: top;\n",
       "    }\n",
       "\n",
       "    .dataframe thead th {\n",
       "        text-align: right;\n",
       "    }\n",
       "</style>\n",
       "<table border=\"1\" class=\"dataframe\">\n",
       "  <thead>\n",
       "    <tr style=\"text-align: right;\">\n",
       "      <th></th>\n",
       "      <th>derivatives_futures_volume_daily_all_sum</th>\n",
       "    </tr>\n",
       "    <tr>\n",
       "      <th>t</th>\n",
       "      <th></th>\n",
       "    </tr>\n",
       "  </thead>\n",
       "  <tbody>\n",
       "    <tr>\n",
       "      <th>2020-11-16</th>\n",
       "      <td>8.988924e+05</td>\n",
       "    </tr>\n",
       "    <tr>\n",
       "      <th>2020-11-17</th>\n",
       "      <td>1.353426e+06</td>\n",
       "    </tr>\n",
       "  </tbody>\n",
       "</table>\n",
       "</div>"
      ],
      "text/plain": [
       "            derivatives_futures_volume_daily_all_sum\n",
       "t                                                   \n",
       "2020-11-16                              8.988924e+05\n",
       "2020-11-17                              1.353426e+06"
      ]
     },
     "execution_count": 334,
     "metadata": {},
     "output_type": "execute_result"
    }
   ],
   "source": [
    "futures_vol = gn.get('https://api.glassnode.com/v1/metrics/derivatives/futures_volume_daily_all_sum',  a='btc', s='2010', u=today)\n",
    "futures_vol.to_csv('data/futures_vol.csv')\n",
    "print(futures_vol.shape)\n",
    "futures_vol.tail(2)"
   ]
  },
  {
   "cell_type": "code",
   "execution_count": 335,
   "metadata": {},
   "outputs": [
    {
     "name": "stdout",
     "output_type": "stream",
     "text": [
      "(31, 1)\n"
     ]
    },
    {
     "data": {
      "text/html": [
       "<div>\n",
       "<style scoped>\n",
       "    .dataframe tbody tr th:only-of-type {\n",
       "        vertical-align: middle;\n",
       "    }\n",
       "\n",
       "    .dataframe tbody tr th {\n",
       "        vertical-align: top;\n",
       "    }\n",
       "\n",
       "    .dataframe thead th {\n",
       "        text-align: right;\n",
       "    }\n",
       "</style>\n",
       "<table border=\"1\" class=\"dataframe\">\n",
       "  <thead>\n",
       "    <tr style=\"text-align: right;\">\n",
       "      <th></th>\n",
       "      <th>derivatives_futures_volume_daily_perpetual_sum</th>\n",
       "    </tr>\n",
       "    <tr>\n",
       "      <th>t</th>\n",
       "      <th></th>\n",
       "    </tr>\n",
       "  </thead>\n",
       "  <tbody>\n",
       "    <tr>\n",
       "      <th>2020-11-16</th>\n",
       "      <td>8.545678e+05</td>\n",
       "    </tr>\n",
       "    <tr>\n",
       "      <th>2020-11-17</th>\n",
       "      <td>1.296401e+06</td>\n",
       "    </tr>\n",
       "  </tbody>\n",
       "</table>\n",
       "</div>"
      ],
      "text/plain": [
       "            derivatives_futures_volume_daily_perpetual_sum\n",
       "t                                                         \n",
       "2020-11-16                                    8.545678e+05\n",
       "2020-11-17                                    1.296401e+06"
      ]
     },
     "execution_count": 335,
     "metadata": {},
     "output_type": "execute_result"
    }
   ],
   "source": [
    "perps_vol = gn.get('https://api.glassnode.com/v1/metrics/derivatives/futures_volume_daily_perpetual_sum',  a='btc', s='2010', u=today)\n",
    "perps_vol.to_csv('data/perps_vol.csv')\n",
    "print(perps_vol.shape)\n",
    "perps_vol.tail(2)"
   ]
  },
  {
   "cell_type": "code",
   "execution_count": 336,
   "metadata": {},
   "outputs": [
    {
     "name": "stdout",
     "output_type": "stream",
     "text": [
      "(8, 1)\n"
     ]
    },
    {
     "data": {
      "text/html": [
       "<div>\n",
       "<style scoped>\n",
       "    .dataframe tbody tr th:only-of-type {\n",
       "        vertical-align: middle;\n",
       "    }\n",
       "\n",
       "    .dataframe tbody tr th {\n",
       "        vertical-align: top;\n",
       "    }\n",
       "\n",
       "    .dataframe thead th {\n",
       "        text-align: right;\n",
       "    }\n",
       "</style>\n",
       "<table border=\"1\" class=\"dataframe\">\n",
       "  <thead>\n",
       "    <tr style=\"text-align: right;\">\n",
       "      <th></th>\n",
       "      <th>open_interest</th>\n",
       "    </tr>\n",
       "    <tr>\n",
       "      <th>t</th>\n",
       "      <th></th>\n",
       "    </tr>\n",
       "  </thead>\n",
       "  <tbody>\n",
       "    <tr>\n",
       "      <th>2020-11-18 21:40:00</th>\n",
       "      <td>3948.299419</td>\n",
       "    </tr>\n",
       "    <tr>\n",
       "      <th>2020-11-18 21:40:00</th>\n",
       "      <td>62736.547376</td>\n",
       "    </tr>\n",
       "  </tbody>\n",
       "</table>\n",
       "</div>"
      ],
      "text/plain": [
       "                     open_interest\n",
       "t                                 \n",
       "2020-11-18 21:40:00    3948.299419\n",
       "2020-11-18 21:40:00   62736.547376"
      ]
     },
     "execution_count": 336,
     "metadata": {},
     "output_type": "execute_result"
    }
   ],
   "source": [
    "latest_oi = gn.get('https://api.glassnode.com/v1/metrics/derivatives/futures_open_interest_latest',  a='btc', s='2010', u=today)\n",
    "latest_oi.to_csv('data/latest_oi.csv')\n",
    "print(latest_oi.shape)\n",
    "latest_oi.tail(2)"
   ]
  },
  {
   "cell_type": "code",
   "execution_count": 337,
   "metadata": {},
   "outputs": [
    {
     "name": "stdout",
     "output_type": "stream",
     "text": [
      "(31, 1)\n"
     ]
    },
    {
     "data": {
      "text/html": [
       "<div>\n",
       "<style scoped>\n",
       "    .dataframe tbody tr th:only-of-type {\n",
       "        vertical-align: middle;\n",
       "    }\n",
       "\n",
       "    .dataframe tbody tr th {\n",
       "        vertical-align: top;\n",
       "    }\n",
       "\n",
       "    .dataframe thead th {\n",
       "        text-align: right;\n",
       "    }\n",
       "</style>\n",
       "<table border=\"1\" class=\"dataframe\">\n",
       "  <thead>\n",
       "    <tr style=\"text-align: right;\">\n",
       "      <th></th>\n",
       "      <th>derivatives_futures_open_interest_all_sum</th>\n",
       "    </tr>\n",
       "    <tr>\n",
       "      <th>t</th>\n",
       "      <th></th>\n",
       "    </tr>\n",
       "  </thead>\n",
       "  <tbody>\n",
       "    <tr>\n",
       "      <th>2020-11-16</th>\n",
       "      <td>209346.065831</td>\n",
       "    </tr>\n",
       "    <tr>\n",
       "      <th>2020-11-17</th>\n",
       "      <td>202642.102475</td>\n",
       "    </tr>\n",
       "  </tbody>\n",
       "</table>\n",
       "</div>"
      ],
      "text/plain": [
       "            derivatives_futures_open_interest_all_sum\n",
       "t                                                    \n",
       "2020-11-16                              209346.065831\n",
       "2020-11-17                              202642.102475"
      ]
     },
     "execution_count": 337,
     "metadata": {},
     "output_type": "execute_result"
    }
   ],
   "source": [
    "futures_oi = gn.get('https://api.glassnode.com/v1/metrics/derivatives/futures_open_interest_all_sum',  a='btc', s='2010', u=today)\n",
    "futures_oi.to_csv('data/futures_oi.csv')\n",
    "print(futures_oi.shape)\n",
    "futures_oi.tail(2)"
   ]
  },
  {
   "cell_type": "code",
   "execution_count": 338,
   "metadata": {},
   "outputs": [
    {
     "name": "stdout",
     "output_type": "stream",
     "text": [
      "(31, 1)\n"
     ]
    },
    {
     "data": {
      "text/html": [
       "<div>\n",
       "<style scoped>\n",
       "    .dataframe tbody tr th:only-of-type {\n",
       "        vertical-align: middle;\n",
       "    }\n",
       "\n",
       "    .dataframe tbody tr th {\n",
       "        vertical-align: top;\n",
       "    }\n",
       "\n",
       "    .dataframe thead th {\n",
       "        text-align: right;\n",
       "    }\n",
       "</style>\n",
       "<table border=\"1\" class=\"dataframe\">\n",
       "  <thead>\n",
       "    <tr style=\"text-align: right;\">\n",
       "      <th></th>\n",
       "      <th>derivatives_futures_open_interest_perpetual_sum</th>\n",
       "    </tr>\n",
       "    <tr>\n",
       "      <th>t</th>\n",
       "      <th></th>\n",
       "    </tr>\n",
       "  </thead>\n",
       "  <tbody>\n",
       "    <tr>\n",
       "      <th>2020-11-16</th>\n",
       "      <td>165264.190975</td>\n",
       "    </tr>\n",
       "    <tr>\n",
       "      <th>2020-11-17</th>\n",
       "      <td>160331.391596</td>\n",
       "    </tr>\n",
       "  </tbody>\n",
       "</table>\n",
       "</div>"
      ],
      "text/plain": [
       "            derivatives_futures_open_interest_perpetual_sum\n",
       "t                                                          \n",
       "2020-11-16                                    165264.190975\n",
       "2020-11-17                                    160331.391596"
      ]
     },
     "execution_count": 338,
     "metadata": {},
     "output_type": "execute_result"
    }
   ],
   "source": [
    "perps_oi = gn.get('https://api.glassnode.com/v1/metrics/derivatives/futures_open_interest_perpetual_sum',  a='btc', s='2010', u=today)\n",
    "perps_oi.to_csv('data/perps_oi.csv')\n",
    "print(perps_oi.shape)\n",
    "perps_oi.tail(2)"
   ]
  },
  {
   "cell_type": "code",
   "execution_count": 339,
   "metadata": {},
   "outputs": [
    {
     "name": "stdout",
     "output_type": "stream",
     "text": [
      "(31, 1)\n"
     ]
    },
    {
     "data": {
      "text/html": [
       "<div>\n",
       "<style scoped>\n",
       "    .dataframe tbody tr th:only-of-type {\n",
       "        vertical-align: middle;\n",
       "    }\n",
       "\n",
       "    .dataframe tbody tr th {\n",
       "        vertical-align: top;\n",
       "    }\n",
       "\n",
       "    .dataframe thead th {\n",
       "        text-align: right;\n",
       "    }\n",
       "</style>\n",
       "<table border=\"1\" class=\"dataframe\">\n",
       "  <thead>\n",
       "    <tr style=\"text-align: right;\">\n",
       "      <th></th>\n",
       "      <th>derivatives_futures_funding_rate_perpetual</th>\n",
       "    </tr>\n",
       "    <tr>\n",
       "      <th>t</th>\n",
       "      <th></th>\n",
       "    </tr>\n",
       "  </thead>\n",
       "  <tbody>\n",
       "    <tr>\n",
       "      <th>2020-11-16</th>\n",
       "      <td>0.000198</td>\n",
       "    </tr>\n",
       "    <tr>\n",
       "      <th>2020-11-17</th>\n",
       "      <td>0.000090</td>\n",
       "    </tr>\n",
       "  </tbody>\n",
       "</table>\n",
       "</div>"
      ],
      "text/plain": [
       "            derivatives_futures_funding_rate_perpetual\n",
       "t                                                     \n",
       "2020-11-16                                    0.000198\n",
       "2020-11-17                                    0.000090"
      ]
     },
     "execution_count": 339,
     "metadata": {},
     "output_type": "execute_result"
    }
   ],
   "source": [
    "funding_rate = gn.get('https://api.glassnode.com/v1/metrics/derivatives/futures_funding_rate_perpetual',  a='btc', s='2010', u=today)\n",
    "funding_rate.to_csv('data/funding_rate.csv')\n",
    "print(funding_rate.shape)\n",
    "funding_rate.tail(2)"
   ]
  },
  {
   "cell_type": "code",
   "execution_count": 340,
   "metadata": {},
   "outputs": [],
   "source": [
    "# EXCHANGES"
   ]
  },
  {
   "cell_type": "code",
   "execution_count": 341,
   "metadata": {},
   "outputs": [
    {
     "name": "stdout",
     "output_type": "stream",
     "text": [
      "(3381, 1)\n"
     ]
    },
    {
     "data": {
      "text/html": [
       "<div>\n",
       "<style scoped>\n",
       "    .dataframe tbody tr th:only-of-type {\n",
       "        vertical-align: middle;\n",
       "    }\n",
       "\n",
       "    .dataframe tbody tr th {\n",
       "        vertical-align: top;\n",
       "    }\n",
       "\n",
       "    .dataframe thead th {\n",
       "        text-align: right;\n",
       "    }\n",
       "</style>\n",
       "<table border=\"1\" class=\"dataframe\">\n",
       "  <thead>\n",
       "    <tr style=\"text-align: right;\">\n",
       "      <th></th>\n",
       "      <th>transactions_transfers_volume_to_exchanges_sum</th>\n",
       "    </tr>\n",
       "    <tr>\n",
       "      <th>t</th>\n",
       "      <th></th>\n",
       "    </tr>\n",
       "  </thead>\n",
       "  <tbody>\n",
       "    <tr>\n",
       "      <th>2020-11-16</th>\n",
       "      <td>43807.318487</td>\n",
       "    </tr>\n",
       "    <tr>\n",
       "      <th>2020-11-17</th>\n",
       "      <td>61297.558270</td>\n",
       "    </tr>\n",
       "  </tbody>\n",
       "</table>\n",
       "</div>"
      ],
      "text/plain": [
       "            transactions_transfers_volume_to_exchanges_sum\n",
       "t                                                         \n",
       "2020-11-16                                    43807.318487\n",
       "2020-11-17                                    61297.558270"
      ]
     },
     "execution_count": 341,
     "metadata": {},
     "output_type": "execute_result"
    }
   ],
   "source": [
    "exch_inflow_vol = gn.get('https://api.glassnode.com/v1/metrics/transactions/transfers_volume_to_exchanges_sum',  a='btc', s='2010', u=today)\n",
    "exch_inflow_vol.to_csv('data/exch_inflow_vol.csv')\n",
    "print(exch_inflow_vol.shape)\n",
    "exch_inflow_vol.tail(2)"
   ]
  },
  {
   "cell_type": "code",
   "execution_count": 342,
   "metadata": {},
   "outputs": [
    {
     "name": "stdout",
     "output_type": "stream",
     "text": [
      "(3381, 1)\n"
     ]
    },
    {
     "data": {
      "text/html": [
       "<div>\n",
       "<style scoped>\n",
       "    .dataframe tbody tr th:only-of-type {\n",
       "        vertical-align: middle;\n",
       "    }\n",
       "\n",
       "    .dataframe tbody tr th {\n",
       "        vertical-align: top;\n",
       "    }\n",
       "\n",
       "    .dataframe thead th {\n",
       "        text-align: right;\n",
       "    }\n",
       "</style>\n",
       "<table border=\"1\" class=\"dataframe\">\n",
       "  <thead>\n",
       "    <tr style=\"text-align: right;\">\n",
       "      <th></th>\n",
       "      <th>transactions_transfers_volume_from_exchanges_sum</th>\n",
       "    </tr>\n",
       "    <tr>\n",
       "      <th>t</th>\n",
       "      <th></th>\n",
       "    </tr>\n",
       "  </thead>\n",
       "  <tbody>\n",
       "    <tr>\n",
       "      <th>2020-11-16</th>\n",
       "      <td>54967.330566</td>\n",
       "    </tr>\n",
       "    <tr>\n",
       "      <th>2020-11-17</th>\n",
       "      <td>57884.666159</td>\n",
       "    </tr>\n",
       "  </tbody>\n",
       "</table>\n",
       "</div>"
      ],
      "text/plain": [
       "            transactions_transfers_volume_from_exchanges_sum\n",
       "t                                                           \n",
       "2020-11-16                                      54967.330566\n",
       "2020-11-17                                      57884.666159"
      ]
     },
     "execution_count": 342,
     "metadata": {},
     "output_type": "execute_result"
    }
   ],
   "source": [
    "exch_outflow_vol = gn.get('https://api.glassnode.com/v1/metrics/transactions/transfers_volume_from_exchanges_sum',  a='btc', s='2010', u=today)\n",
    "exch_outflow_vol.to_csv('data/exch_outflow_vol.csv')\n",
    "print(exch_outflow_vol.shape)\n",
    "exch_outflow_vol.tail(2)"
   ]
  },
  {
   "cell_type": "code",
   "execution_count": 343,
   "metadata": {},
   "outputs": [
    {
     "name": "stdout",
     "output_type": "stream",
     "text": [
      "(3381, 1)\n"
     ]
    },
    {
     "data": {
      "text/html": [
       "<div>\n",
       "<style scoped>\n",
       "    .dataframe tbody tr th:only-of-type {\n",
       "        vertical-align: middle;\n",
       "    }\n",
       "\n",
       "    .dataframe tbody tr th {\n",
       "        vertical-align: top;\n",
       "    }\n",
       "\n",
       "    .dataframe thead th {\n",
       "        text-align: right;\n",
       "    }\n",
       "</style>\n",
       "<table border=\"1\" class=\"dataframe\">\n",
       "  <thead>\n",
       "    <tr style=\"text-align: right;\">\n",
       "      <th></th>\n",
       "      <th>transactions_transfers_to_exchanges_count</th>\n",
       "    </tr>\n",
       "    <tr>\n",
       "      <th>t</th>\n",
       "      <th></th>\n",
       "    </tr>\n",
       "  </thead>\n",
       "  <tbody>\n",
       "    <tr>\n",
       "      <th>2020-11-16</th>\n",
       "      <td>45393</td>\n",
       "    </tr>\n",
       "    <tr>\n",
       "      <th>2020-11-17</th>\n",
       "      <td>44501</td>\n",
       "    </tr>\n",
       "  </tbody>\n",
       "</table>\n",
       "</div>"
      ],
      "text/plain": [
       "            transactions_transfers_to_exchanges_count\n",
       "t                                                    \n",
       "2020-11-16                                      45393\n",
       "2020-11-17                                      44501"
      ]
     },
     "execution_count": 343,
     "metadata": {},
     "output_type": "execute_result"
    }
   ],
   "source": [
    "exch_deposits = gn.get('https://api.glassnode.com/v1/metrics/transactions/transfers_to_exchanges_count',  a='btc', s='2010', u=today)\n",
    "exch_deposits.to_csv('data/exch_deposits.csv')\n",
    "print(exch_deposits.shape)\n",
    "exch_deposits.tail(2)"
   ]
  },
  {
   "cell_type": "code",
   "execution_count": 344,
   "metadata": {},
   "outputs": [
    {
     "name": "stdout",
     "output_type": "stream",
     "text": [
      "(3381, 1)\n"
     ]
    },
    {
     "data": {
      "text/html": [
       "<div>\n",
       "<style scoped>\n",
       "    .dataframe tbody tr th:only-of-type {\n",
       "        vertical-align: middle;\n",
       "    }\n",
       "\n",
       "    .dataframe tbody tr th {\n",
       "        vertical-align: top;\n",
       "    }\n",
       "\n",
       "    .dataframe thead th {\n",
       "        text-align: right;\n",
       "    }\n",
       "</style>\n",
       "<table border=\"1\" class=\"dataframe\">\n",
       "  <thead>\n",
       "    <tr style=\"text-align: right;\">\n",
       "      <th></th>\n",
       "      <th>transactions_transfers_from_exchanges_count</th>\n",
       "    </tr>\n",
       "    <tr>\n",
       "      <th>t</th>\n",
       "      <th></th>\n",
       "    </tr>\n",
       "  </thead>\n",
       "  <tbody>\n",
       "    <tr>\n",
       "      <th>2020-11-16</th>\n",
       "      <td>38622</td>\n",
       "    </tr>\n",
       "    <tr>\n",
       "      <th>2020-11-17</th>\n",
       "      <td>45696</td>\n",
       "    </tr>\n",
       "  </tbody>\n",
       "</table>\n",
       "</div>"
      ],
      "text/plain": [
       "            transactions_transfers_from_exchanges_count\n",
       "t                                                      \n",
       "2020-11-16                                        38622\n",
       "2020-11-17                                        45696"
      ]
     },
     "execution_count": 344,
     "metadata": {},
     "output_type": "execute_result"
    }
   ],
   "source": [
    "exch_with = gn.get('https://api.glassnode.com/v1/metrics/transactions/transfers_from_exchanges_count',  a='btc', s='2010', u=today)\n",
    "exch_with.to_csv('data/exch_with.csv')\n",
    "print(exch_with.shape)\n",
    "exch_with.tail(2)"
   ]
  },
  {
   "cell_type": "code",
   "execution_count": 345,
   "metadata": {},
   "outputs": [
    {
     "name": "stdout",
     "output_type": "stream",
     "text": [
      "(3381, 1)\n"
     ]
    },
    {
     "data": {
      "text/html": [
       "<div>\n",
       "<style scoped>\n",
       "    .dataframe tbody tr th:only-of-type {\n",
       "        vertical-align: middle;\n",
       "    }\n",
       "\n",
       "    .dataframe tbody tr th {\n",
       "        vertical-align: top;\n",
       "    }\n",
       "\n",
       "    .dataframe thead th {\n",
       "        text-align: right;\n",
       "    }\n",
       "</style>\n",
       "<table border=\"1\" class=\"dataframe\">\n",
       "  <thead>\n",
       "    <tr style=\"text-align: right;\">\n",
       "      <th></th>\n",
       "      <th>o</th>\n",
       "    </tr>\n",
       "    <tr>\n",
       "      <th>t</th>\n",
       "      <th></th>\n",
       "    </tr>\n",
       "  </thead>\n",
       "  <tbody>\n",
       "    <tr>\n",
       "      <th>2020-11-16</th>\n",
       "      <td>{'binance': 284372.01124829, 'bitfinex': 61175...</td>\n",
       "    </tr>\n",
       "    <tr>\n",
       "      <th>2020-11-17</th>\n",
       "      <td>{'binance': 285621.78752209, 'bitfinex': 62766...</td>\n",
       "    </tr>\n",
       "  </tbody>\n",
       "</table>\n",
       "</div>"
      ],
      "text/plain": [
       "                                                            o\n",
       "t                                                            \n",
       "2020-11-16  {'binance': 284372.01124829, 'bitfinex': 61175...\n",
       "2020-11-17  {'binance': 285621.78752209, 'bitfinex': 62766..."
      ]
     },
     "execution_count": 345,
     "metadata": {},
     "output_type": "execute_result"
    }
   ],
   "source": [
    "exch_balances_stacked = gn.get('https://api.glassnode.com/v1/metrics/distribution/balance_exchanges_all',  a='btc', s='2010', u=today)\n",
    "exch_balances_stacked.to_csv('data/exch_balances_stacked.csv')\n",
    "print(exch_balances_stacked.shape)\n",
    "exch_balances_stacked.tail(2)"
   ]
  },
  {
   "cell_type": "code",
   "execution_count": 346,
   "metadata": {},
   "outputs": [
    {
     "name": "stdout",
     "output_type": "stream",
     "text": [
      "(3381, 1)\n"
     ]
    },
    {
     "data": {
      "text/html": [
       "<div>\n",
       "<style scoped>\n",
       "    .dataframe tbody tr th:only-of-type {\n",
       "        vertical-align: middle;\n",
       "    }\n",
       "\n",
       "    .dataframe tbody tr th {\n",
       "        vertical-align: top;\n",
       "    }\n",
       "\n",
       "    .dataframe thead th {\n",
       "        text-align: right;\n",
       "    }\n",
       "</style>\n",
       "<table border=\"1\" class=\"dataframe\">\n",
       "  <thead>\n",
       "    <tr style=\"text-align: right;\">\n",
       "      <th></th>\n",
       "      <th>distribution_balance_exchanges</th>\n",
       "    </tr>\n",
       "    <tr>\n",
       "      <th>t</th>\n",
       "      <th></th>\n",
       "    </tr>\n",
       "  </thead>\n",
       "  <tbody>\n",
       "    <tr>\n",
       "      <th>2020-11-16</th>\n",
       "      <td>2.373261e+06</td>\n",
       "    </tr>\n",
       "    <tr>\n",
       "      <th>2020-11-17</th>\n",
       "      <td>2.376666e+06</td>\n",
       "    </tr>\n",
       "  </tbody>\n",
       "</table>\n",
       "</div>"
      ],
      "text/plain": [
       "            distribution_balance_exchanges\n",
       "t                                         \n",
       "2020-11-16                    2.373261e+06\n",
       "2020-11-17                    2.376666e+06"
      ]
     },
     "execution_count": 346,
     "metadata": {},
     "output_type": "execute_result"
    }
   ],
   "source": [
    "exch_balance = gn.get('https://api.glassnode.com/v1/metrics/distribution/balance_exchanges',  a='btc', s='2010', u=today)\n",
    "exch_balance.to_csv('data/exch_balance.csv')\n",
    "print(exch_balance.shape)\n",
    "exch_balance.tail(2)"
   ]
  },
  {
   "cell_type": "code",
   "execution_count": 347,
   "metadata": {},
   "outputs": [
    {
     "name": "stdout",
     "output_type": "stream",
     "text": [
      "(3381, 1)\n"
     ]
    },
    {
     "data": {
      "text/html": [
       "<div>\n",
       "<style scoped>\n",
       "    .dataframe tbody tr th:only-of-type {\n",
       "        vertical-align: middle;\n",
       "    }\n",
       "\n",
       "    .dataframe tbody tr th {\n",
       "        vertical-align: top;\n",
       "    }\n",
       "\n",
       "    .dataframe thead th {\n",
       "        text-align: right;\n",
       "    }\n",
       "</style>\n",
       "<table border=\"1\" class=\"dataframe\">\n",
       "  <thead>\n",
       "    <tr style=\"text-align: right;\">\n",
       "      <th></th>\n",
       "      <th>transactions_transfers_volume_exchanges_net</th>\n",
       "    </tr>\n",
       "    <tr>\n",
       "      <th>t</th>\n",
       "      <th></th>\n",
       "    </tr>\n",
       "  </thead>\n",
       "  <tbody>\n",
       "    <tr>\n",
       "      <th>2020-11-16</th>\n",
       "      <td>-11160.012079</td>\n",
       "    </tr>\n",
       "    <tr>\n",
       "      <th>2020-11-17</th>\n",
       "      <td>3412.892111</td>\n",
       "    </tr>\n",
       "  </tbody>\n",
       "</table>\n",
       "</div>"
      ],
      "text/plain": [
       "            transactions_transfers_volume_exchanges_net\n",
       "t                                                      \n",
       "2020-11-16                                -11160.012079\n",
       "2020-11-17                                  3412.892111"
      ]
     },
     "execution_count": 347,
     "metadata": {},
     "output_type": "execute_result"
    }
   ],
   "source": [
    "exch_net_flow = gn.get('https://api.glassnode.com/v1/metrics/transactions/transfers_volume_exchanges_net',  a='btc', s='2010', u=today)\n",
    "exch_net_flow.to_csv('data/exch_net_flow.csv')\n",
    "print(exch_net_flow.shape)\n",
    "exch_net_flow.tail(2)"
   ]
  },
  {
   "cell_type": "code",
   "execution_count": 348,
   "metadata": {},
   "outputs": [
    {
     "name": "stdout",
     "output_type": "stream",
     "text": [
      "(2763, 1)\n"
     ]
    },
    {
     "data": {
      "text/html": [
       "<div>\n",
       "<style scoped>\n",
       "    .dataframe tbody tr th:only-of-type {\n",
       "        vertical-align: middle;\n",
       "    }\n",
       "\n",
       "    .dataframe tbody tr th {\n",
       "        vertical-align: top;\n",
       "    }\n",
       "\n",
       "    .dataframe thead th {\n",
       "        text-align: right;\n",
       "    }\n",
       "</style>\n",
       "<table border=\"1\" class=\"dataframe\">\n",
       "  <thead>\n",
       "    <tr style=\"text-align: right;\">\n",
       "      <th></th>\n",
       "      <th>volumes</th>\n",
       "    </tr>\n",
       "    <tr>\n",
       "      <th>t</th>\n",
       "      <th></th>\n",
       "    </tr>\n",
       "  </thead>\n",
       "  <tbody>\n",
       "    <tr>\n",
       "      <th>2019-11-16</th>\n",
       "      <td>{'1THash&amp;58COIN': 5.34448167513601, 'BTC.TOP':...</td>\n",
       "    </tr>\n",
       "    <tr>\n",
       "      <th>2019-11-17</th>\n",
       "      <td>{'1THash&amp;58COIN': 6.07623216973426, 'BTC.TOP':...</td>\n",
       "    </tr>\n",
       "  </tbody>\n",
       "</table>\n",
       "</div>"
      ],
      "text/plain": [
       "                                                      volumes\n",
       "t                                                            \n",
       "2019-11-16  {'1THash&58COIN': 5.34448167513601, 'BTC.TOP':...\n",
       "2019-11-17  {'1THash&58COIN': 6.07623216973426, 'BTC.TOP':..."
      ]
     },
     "execution_count": 348,
     "metadata": {},
     "output_type": "execute_result"
    }
   ],
   "source": [
    "min_to_exch_stacked = gn.get('https://api.glassnode.com/v1/metrics/transactions/transfers_volume_miners_to_exchanges_all',  a='btc', s='2010', u=today)\n",
    "min_to_exch_stacked.to_csv('data/min_to_exch_stacked.csv')\n",
    "print(min_to_exch_stacked.shape)\n",
    "min_to_exch_stacked.tail(2)"
   ]
  },
  {
   "cell_type": "code",
   "execution_count": 349,
   "metadata": {},
   "outputs": [
    {
     "name": "stdout",
     "output_type": "stream",
     "text": [
      "(3014, 1)\n"
     ]
    },
    {
     "data": {
      "text/html": [
       "<div>\n",
       "<style scoped>\n",
       "    .dataframe tbody tr th:only-of-type {\n",
       "        vertical-align: middle;\n",
       "    }\n",
       "\n",
       "    .dataframe tbody tr th {\n",
       "        vertical-align: top;\n",
       "    }\n",
       "\n",
       "    .dataframe thead th {\n",
       "        text-align: right;\n",
       "    }\n",
       "</style>\n",
       "<table border=\"1\" class=\"dataframe\">\n",
       "  <thead>\n",
       "    <tr style=\"text-align: right;\">\n",
       "      <th></th>\n",
       "      <th>transactions_transfers_volume_miners_to_exchanges</th>\n",
       "    </tr>\n",
       "    <tr>\n",
       "      <th>t</th>\n",
       "      <th></th>\n",
       "    </tr>\n",
       "  </thead>\n",
       "  <tbody>\n",
       "    <tr>\n",
       "      <th>2019-11-16</th>\n",
       "      <td>255.752997</td>\n",
       "    </tr>\n",
       "    <tr>\n",
       "      <th>2019-11-17</th>\n",
       "      <td>319.865236</td>\n",
       "    </tr>\n",
       "  </tbody>\n",
       "</table>\n",
       "</div>"
      ],
      "text/plain": [
       "            transactions_transfers_volume_miners_to_exchanges\n",
       "t                                                            \n",
       "2019-11-16                                         255.752997\n",
       "2019-11-17                                         319.865236"
      ]
     },
     "execution_count": 349,
     "metadata": {},
     "output_type": "execute_result"
    }
   ],
   "source": [
    "miner_to_exch = gn.get('https://api.glassnode.com/v1/metrics/transactions/transfers_volume_miners_to_exchanges',  a='btc', s='2010', u=today)\n",
    "miner_to_exch.to_csv('data/miner_to_exch.csv')\n",
    "print(miner_to_exch.shape)\n",
    "miner_to_exch.tail(2)"
   ]
  },
  {
   "cell_type": "code",
   "execution_count": 350,
   "metadata": {},
   "outputs": [],
   "source": [
    "# SUPPLY"
   ]
  },
  {
   "cell_type": "code",
   "execution_count": 351,
   "metadata": {},
   "outputs": [
    {
     "name": "stdout",
     "output_type": "stream",
     "text": [
      "(3974, 1)\n"
     ]
    },
    {
     "data": {
      "text/html": [
       "<div>\n",
       "<style scoped>\n",
       "    .dataframe tbody tr th:only-of-type {\n",
       "        vertical-align: middle;\n",
       "    }\n",
       "\n",
       "    .dataframe tbody tr th {\n",
       "        vertical-align: top;\n",
       "    }\n",
       "\n",
       "    .dataframe thead th {\n",
       "        text-align: right;\n",
       "    }\n",
       "</style>\n",
       "<table border=\"1\" class=\"dataframe\">\n",
       "  <thead>\n",
       "    <tr style=\"text-align: right;\">\n",
       "      <th></th>\n",
       "      <th>supply_current</th>\n",
       "    </tr>\n",
       "    <tr>\n",
       "      <th>t</th>\n",
       "      <th></th>\n",
       "    </tr>\n",
       "  </thead>\n",
       "  <tbody>\n",
       "    <tr>\n",
       "      <th>2020-11-16</th>\n",
       "      <td>18545412.50</td>\n",
       "    </tr>\n",
       "    <tr>\n",
       "      <th>2020-11-17</th>\n",
       "      <td>18546393.75</td>\n",
       "    </tr>\n",
       "  </tbody>\n",
       "</table>\n",
       "</div>"
      ],
      "text/plain": [
       "            supply_current\n",
       "t                         \n",
       "2020-11-16     18545412.50\n",
       "2020-11-17     18546393.75"
      ]
     },
     "execution_count": 351,
     "metadata": {},
     "output_type": "execute_result"
    }
   ],
   "source": [
    "circ_supply = gn.get('https://api.glassnode.com/v1/metrics/supply/current',  a='btc', s='2010', u=today)\n",
    "circ_supply.to_csv('data/circ_supply.csv')\n",
    "print(circ_supply.shape)\n",
    "circ_supply.tail(2)"
   ]
  },
  {
   "cell_type": "code",
   "execution_count": 352,
   "metadata": {},
   "outputs": [
    {
     "name": "stdout",
     "output_type": "stream",
     "text": [
      "(3776, 1)\n"
     ]
    },
    {
     "data": {
      "text/html": [
       "<div>\n",
       "<style scoped>\n",
       "    .dataframe tbody tr th:only-of-type {\n",
       "        vertical-align: middle;\n",
       "    }\n",
       "\n",
       "    .dataframe tbody tr th {\n",
       "        vertical-align: top;\n",
       "    }\n",
       "\n",
       "    .dataframe thead th {\n",
       "        text-align: right;\n",
       "    }\n",
       "</style>\n",
       "<table border=\"1\" class=\"dataframe\">\n",
       "  <thead>\n",
       "    <tr style=\"text-align: right;\">\n",
       "      <th></th>\n",
       "      <th>supply_profit_relative</th>\n",
       "    </tr>\n",
       "    <tr>\n",
       "      <th>t</th>\n",
       "      <th></th>\n",
       "    </tr>\n",
       "  </thead>\n",
       "  <tbody>\n",
       "    <tr>\n",
       "      <th>2020-11-16</th>\n",
       "      <td>0.989986</td>\n",
       "    </tr>\n",
       "    <tr>\n",
       "      <th>2020-11-17</th>\n",
       "      <td>0.993428</td>\n",
       "    </tr>\n",
       "  </tbody>\n",
       "</table>\n",
       "</div>"
      ],
      "text/plain": [
       "            supply_profit_relative\n",
       "t                                 \n",
       "2020-11-16                0.989986\n",
       "2020-11-17                0.993428"
      ]
     },
     "execution_count": 352,
     "metadata": {},
     "output_type": "execute_result"
    }
   ],
   "source": [
    "percent_supply_profit = gn.get('https://api.glassnode.com/v1/metrics/supply/profit_relative',  a='btc', s='2010', u=today)\n",
    "percent_supply_profit.to_csv('data/percent_supply_profit.csv')\n",
    "print(percent_supply_profit.shape)\n",
    "percent_supply_profit.tail(2)"
   ]
  },
  {
   "cell_type": "code",
   "execution_count": 353,
   "metadata": {},
   "outputs": [
    {
     "name": "stdout",
     "output_type": "stream",
     "text": [
      "(3974, 1)\n"
     ]
    },
    {
     "data": {
      "text/html": [
       "<div>\n",
       "<style scoped>\n",
       "    .dataframe tbody tr th:only-of-type {\n",
       "        vertical-align: middle;\n",
       "    }\n",
       "\n",
       "    .dataframe tbody tr th {\n",
       "        vertical-align: top;\n",
       "    }\n",
       "\n",
       "    .dataframe thead th {\n",
       "        text-align: right;\n",
       "    }\n",
       "</style>\n",
       "<table border=\"1\" class=\"dataframe\">\n",
       "  <thead>\n",
       "    <tr style=\"text-align: right;\">\n",
       "      <th></th>\n",
       "      <th>o</th>\n",
       "    </tr>\n",
       "    <tr>\n",
       "      <th>t</th>\n",
       "      <th></th>\n",
       "    </tr>\n",
       "  </thead>\n",
       "  <tbody>\n",
       "    <tr>\n",
       "      <th>2020-11-16</th>\n",
       "      <td>{'1d_1w': 0.0265553078346638, '1m_3m': 0.06735...</td>\n",
       "    </tr>\n",
       "    <tr>\n",
       "      <th>2020-11-17</th>\n",
       "      <td>{'1d_1w': 0.0265432043491554, '1m_3m': 0.06619...</td>\n",
       "    </tr>\n",
       "  </tbody>\n",
       "</table>\n",
       "</div>"
      ],
      "text/plain": [
       "                                                            o\n",
       "t                                                            \n",
       "2020-11-16  {'1d_1w': 0.0265553078346638, '1m_3m': 0.06735...\n",
       "2020-11-17  {'1d_1w': 0.0265432043491554, '1m_3m': 0.06619..."
      ]
     },
     "execution_count": 353,
     "metadata": {},
     "output_type": "execute_result"
    }
   ],
   "source": [
    "hodl_waves = gn.get('https://api.glassnode.com/v1/metrics/supply/hodl_waves',  a='btc', s='2010', u=today)\n",
    "hodl_waves.to_csv('data/hodl_waves.csv')\n",
    "print(hodl_waves.shape)\n",
    "hodl_waves.tail(2)"
   ]
  },
  {
   "cell_type": "code",
   "execution_count": 354,
   "metadata": {},
   "outputs": [
    {
     "name": "stdout",
     "output_type": "stream",
     "text": [
      "(3776, 1)\n"
     ]
    },
    {
     "data": {
      "text/html": [
       "<div>\n",
       "<style scoped>\n",
       "    .dataframe tbody tr th:only-of-type {\n",
       "        vertical-align: middle;\n",
       "    }\n",
       "\n",
       "    .dataframe tbody tr th {\n",
       "        vertical-align: top;\n",
       "    }\n",
       "\n",
       "    .dataframe thead th {\n",
       "        text-align: right;\n",
       "    }\n",
       "</style>\n",
       "<table border=\"1\" class=\"dataframe\">\n",
       "  <thead>\n",
       "    <tr style=\"text-align: right;\">\n",
       "      <th></th>\n",
       "      <th>o</th>\n",
       "    </tr>\n",
       "    <tr>\n",
       "      <th>t</th>\n",
       "      <th></th>\n",
       "    </tr>\n",
       "  </thead>\n",
       "  <tbody>\n",
       "    <tr>\n",
       "      <th>2020-11-16</th>\n",
       "      <td>{'1d_1w': 0.0605856421889731, '1m_3m': 0.10636...</td>\n",
       "    </tr>\n",
       "    <tr>\n",
       "      <th>2020-11-17</th>\n",
       "      <td>{'1d_1w': 0.0609485599170486, '1m_3m': 0.10378...</td>\n",
       "    </tr>\n",
       "  </tbody>\n",
       "</table>\n",
       "</div>"
      ],
      "text/plain": [
       "                                                            o\n",
       "t                                                            \n",
       "2020-11-16  {'1d_1w': 0.0605856421889731, '1m_3m': 0.10636...\n",
       "2020-11-17  {'1d_1w': 0.0609485599170486, '1m_3m': 0.10378..."
      ]
     },
     "execution_count": 354,
     "metadata": {},
     "output_type": "execute_result"
    }
   ],
   "source": [
    "rcap_hodl_waves = gn.get('https://api.glassnode.com/v1/metrics/supply/rcap_hodl_waves',  a='btc', s='2010', u=today)\n",
    "rcap_hodl_waves.to_csv('data/rcap_hodl_waves.csv')\n",
    "print(rcap_hodl_waves.shape)\n",
    "rcap_hodl_waves.tail(2)"
   ]
  },
  {
   "cell_type": "code",
   "execution_count": 355,
   "metadata": {},
   "outputs": [
    {
     "name": "stdout",
     "output_type": "stream",
     "text": [
      "(3974, 1)\n"
     ]
    },
    {
     "data": {
      "text/html": [
       "<div>\n",
       "<style scoped>\n",
       "    .dataframe tbody tr th:only-of-type {\n",
       "        vertical-align: middle;\n",
       "    }\n",
       "\n",
       "    .dataframe tbody tr th {\n",
       "        vertical-align: top;\n",
       "    }\n",
       "\n",
       "    .dataframe thead th {\n",
       "        text-align: right;\n",
       "    }\n",
       "</style>\n",
       "<table border=\"1\" class=\"dataframe\">\n",
       "  <thead>\n",
       "    <tr style=\"text-align: right;\">\n",
       "      <th></th>\n",
       "      <th>supply_active_more_1y_percent</th>\n",
       "    </tr>\n",
       "    <tr>\n",
       "      <th>t</th>\n",
       "      <th></th>\n",
       "    </tr>\n",
       "  </thead>\n",
       "  <tbody>\n",
       "    <tr>\n",
       "      <th>2020-11-16</th>\n",
       "      <td>0.616093</td>\n",
       "    </tr>\n",
       "    <tr>\n",
       "      <th>2020-11-17</th>\n",
       "      <td>0.615644</td>\n",
       "    </tr>\n",
       "  </tbody>\n",
       "</table>\n",
       "</div>"
      ],
      "text/plain": [
       "            supply_active_more_1y_percent\n",
       "t                                        \n",
       "2020-11-16                       0.616093\n",
       "2020-11-17                       0.615644"
      ]
     },
     "execution_count": 355,
     "metadata": {},
     "output_type": "execute_result"
    }
   ],
   "source": [
    "last_active_more1y = gn.get('https://api.glassnode.com/v1/metrics/supply/active_more_1y_percent',  a='btc', s='2010', u=today)\n",
    "last_active_more1y.to_csv('data/last_active_more1y.csv')\n",
    "print(last_active_more1y.shape)\n",
    "last_active_more1y.tail(2)"
   ]
  },
  {
   "cell_type": "code",
   "execution_count": 356,
   "metadata": {},
   "outputs": [
    {
     "name": "stdout",
     "output_type": "stream",
     "text": [
      "(3974, 1)\n"
     ]
    },
    {
     "data": {
      "text/html": [
       "<div>\n",
       "<style scoped>\n",
       "    .dataframe tbody tr th:only-of-type {\n",
       "        vertical-align: middle;\n",
       "    }\n",
       "\n",
       "    .dataframe tbody tr th {\n",
       "        vertical-align: top;\n",
       "    }\n",
       "\n",
       "    .dataframe thead th {\n",
       "        text-align: right;\n",
       "    }\n",
       "</style>\n",
       "<table border=\"1\" class=\"dataframe\">\n",
       "  <thead>\n",
       "    <tr style=\"text-align: right;\">\n",
       "      <th></th>\n",
       "      <th>supply_active_more_3y_percent</th>\n",
       "    </tr>\n",
       "    <tr>\n",
       "      <th>t</th>\n",
       "      <th></th>\n",
       "    </tr>\n",
       "  </thead>\n",
       "  <tbody>\n",
       "    <tr>\n",
       "      <th>2020-11-16</th>\n",
       "      <td>0.323502</td>\n",
       "    </tr>\n",
       "    <tr>\n",
       "      <th>2020-11-17</th>\n",
       "      <td>0.323731</td>\n",
       "    </tr>\n",
       "  </tbody>\n",
       "</table>\n",
       "</div>"
      ],
      "text/plain": [
       "            supply_active_more_3y_percent\n",
       "t                                        \n",
       "2020-11-16                       0.323502\n",
       "2020-11-17                       0.323731"
      ]
     },
     "execution_count": 356,
     "metadata": {},
     "output_type": "execute_result"
    }
   ],
   "source": [
    "last_active_more3y = gn.get('https://api.glassnode.com/v1/metrics/supply/active_more_3y_percent',  a='btc', s='2010', u=today)\n",
    "last_active_more3y.to_csv('data/last_active_more3y.csv')\n",
    "print(last_active_more3y.shape)\n",
    "last_active_more3y.tail(2)"
   ]
  },
  {
   "cell_type": "code",
   "execution_count": 357,
   "metadata": {},
   "outputs": [
    {
     "name": "stdout",
     "output_type": "stream",
     "text": [
      "(3974, 1)\n"
     ]
    },
    {
     "data": {
      "text/html": [
       "<div>\n",
       "<style scoped>\n",
       "    .dataframe tbody tr th:only-of-type {\n",
       "        vertical-align: middle;\n",
       "    }\n",
       "\n",
       "    .dataframe tbody tr th {\n",
       "        vertical-align: top;\n",
       "    }\n",
       "\n",
       "    .dataframe thead th {\n",
       "        text-align: right;\n",
       "    }\n",
       "</style>\n",
       "<table border=\"1\" class=\"dataframe\">\n",
       "  <thead>\n",
       "    <tr style=\"text-align: right;\">\n",
       "      <th></th>\n",
       "      <th>supply_current_adjusted</th>\n",
       "    </tr>\n",
       "    <tr>\n",
       "      <th>t</th>\n",
       "      <th></th>\n",
       "    </tr>\n",
       "  </thead>\n",
       "  <tbody>\n",
       "    <tr>\n",
       "      <th>2020-11-16</th>\n",
       "      <td>1.539046e+07</td>\n",
       "    </tr>\n",
       "    <tr>\n",
       "      <th>2020-11-17</th>\n",
       "      <td>1.538678e+07</td>\n",
       "    </tr>\n",
       "  </tbody>\n",
       "</table>\n",
       "</div>"
      ],
      "text/plain": [
       "            supply_current_adjusted\n",
       "t                                  \n",
       "2020-11-16             1.539046e+07\n",
       "2020-11-17             1.538678e+07"
      ]
     },
     "execution_count": 357,
     "metadata": {},
     "output_type": "execute_result"
    }
   ],
   "source": [
    "adjusted_supply = gn.get('https://api.glassnode.com/v1/metrics/supply/current_adjusted',  a='btc', s='2010', u=today)\n",
    "adjusted_supply.to_csv('data/adjusted_supply.csv')\n",
    "print(adjusted_supply.shape)\n",
    "adjusted_supply.tail(2)"
   ]
  },
  {
   "cell_type": "code",
   "execution_count": 358,
   "metadata": {},
   "outputs": [
    {
     "name": "stdout",
     "output_type": "stream",
     "text": [
      "(3974, 1)\n"
     ]
    },
    {
     "data": {
      "text/html": [
       "<div>\n",
       "<style scoped>\n",
       "    .dataframe tbody tr th:only-of-type {\n",
       "        vertical-align: middle;\n",
       "    }\n",
       "\n",
       "    .dataframe tbody tr th {\n",
       "        vertical-align: top;\n",
       "    }\n",
       "\n",
       "    .dataframe thead th {\n",
       "        text-align: right;\n",
       "    }\n",
       "</style>\n",
       "<table border=\"1\" class=\"dataframe\">\n",
       "  <thead>\n",
       "    <tr style=\"text-align: right;\">\n",
       "      <th></th>\n",
       "      <th>supply_inflation_rate</th>\n",
       "    </tr>\n",
       "    <tr>\n",
       "      <th>t</th>\n",
       "      <th></th>\n",
       "    </tr>\n",
       "  </thead>\n",
       "  <tbody>\n",
       "    <tr>\n",
       "      <th>2020-11-16</th>\n",
       "      <td>0.019876</td>\n",
       "    </tr>\n",
       "    <tr>\n",
       "      <th>2020-11-17</th>\n",
       "      <td>0.019499</td>\n",
       "    </tr>\n",
       "  </tbody>\n",
       "</table>\n",
       "</div>"
      ],
      "text/plain": [
       "            supply_inflation_rate\n",
       "t                                \n",
       "2020-11-16               0.019876\n",
       "2020-11-17               0.019499"
      ]
     },
     "execution_count": 358,
     "metadata": {},
     "output_type": "execute_result"
    }
   ],
   "source": [
    "inflation_rate = gn.get('https://api.glassnode.com/v1/metrics/supply/inflation_rate',  a='btc', s='2010', u=today)\n",
    "inflation_rate.to_csv('data/inflation_rate.csv')\n",
    "print(inflation_rate.shape)\n",
    "inflation_rate.tail(2)"
   ]
  },
  {
   "cell_type": "code",
   "execution_count": 359,
   "metadata": {},
   "outputs": [],
   "source": [
    "# UTXO"
   ]
  },
  {
   "cell_type": "code",
   "execution_count": 360,
   "metadata": {},
   "outputs": [
    {
     "name": "stdout",
     "output_type": "stream",
     "text": [
      "(3974, 1)\n"
     ]
    },
    {
     "data": {
      "text/html": [
       "<div>\n",
       "<style scoped>\n",
       "    .dataframe tbody tr th:only-of-type {\n",
       "        vertical-align: middle;\n",
       "    }\n",
       "\n",
       "    .dataframe tbody tr th {\n",
       "        vertical-align: top;\n",
       "    }\n",
       "\n",
       "    .dataframe thead th {\n",
       "        text-align: right;\n",
       "    }\n",
       "</style>\n",
       "<table border=\"1\" class=\"dataframe\">\n",
       "  <thead>\n",
       "    <tr style=\"text-align: right;\">\n",
       "      <th></th>\n",
       "      <th>blockchain_utxo_created_count</th>\n",
       "    </tr>\n",
       "    <tr>\n",
       "      <th>t</th>\n",
       "      <th></th>\n",
       "    </tr>\n",
       "  </thead>\n",
       "  <tbody>\n",
       "    <tr>\n",
       "      <th>2020-11-16</th>\n",
       "      <td>869288</td>\n",
       "    </tr>\n",
       "    <tr>\n",
       "      <th>2020-11-17</th>\n",
       "      <td>974192</td>\n",
       "    </tr>\n",
       "  </tbody>\n",
       "</table>\n",
       "</div>"
      ],
      "text/plain": [
       "            blockchain_utxo_created_count\n",
       "t                                        \n",
       "2020-11-16                         869288\n",
       "2020-11-17                         974192"
      ]
     },
     "execution_count": 360,
     "metadata": {},
     "output_type": "execute_result"
    }
   ],
   "source": [
    "utxo_created_count = gn.get('https://api.glassnode.com/v1/metrics/blockchain/utxo_created_count',  a='btc', s='2010', u=today)\n",
    "utxo_created_count.to_csv('data/utxo_created_count.csv')\n",
    "print(utxo_created_count.shape)\n",
    "utxo_created_count.tail(2)"
   ]
  },
  {
   "cell_type": "code",
   "execution_count": 361,
   "metadata": {},
   "outputs": [
    {
     "name": "stdout",
     "output_type": "stream",
     "text": [
      "(3974, 1)\n"
     ]
    },
    {
     "data": {
      "text/html": [
       "<div>\n",
       "<style scoped>\n",
       "    .dataframe tbody tr th:only-of-type {\n",
       "        vertical-align: middle;\n",
       "    }\n",
       "\n",
       "    .dataframe tbody tr th {\n",
       "        vertical-align: top;\n",
       "    }\n",
       "\n",
       "    .dataframe thead th {\n",
       "        text-align: right;\n",
       "    }\n",
       "</style>\n",
       "<table border=\"1\" class=\"dataframe\">\n",
       "  <thead>\n",
       "    <tr style=\"text-align: right;\">\n",
       "      <th></th>\n",
       "      <th>blockchain_utxo_spent_count</th>\n",
       "    </tr>\n",
       "    <tr>\n",
       "      <th>t</th>\n",
       "      <th></th>\n",
       "    </tr>\n",
       "  </thead>\n",
       "  <tbody>\n",
       "    <tr>\n",
       "      <th>2020-11-16</th>\n",
       "      <td>919942</td>\n",
       "    </tr>\n",
       "    <tr>\n",
       "      <th>2020-11-17</th>\n",
       "      <td>952316</td>\n",
       "    </tr>\n",
       "  </tbody>\n",
       "</table>\n",
       "</div>"
      ],
      "text/plain": [
       "            blockchain_utxo_spent_count\n",
       "t                                      \n",
       "2020-11-16                       919942\n",
       "2020-11-17                       952316"
      ]
     },
     "execution_count": 361,
     "metadata": {},
     "output_type": "execute_result"
    }
   ],
   "source": [
    "utxo_spent_count = gn.get('https://api.glassnode.com/v1/metrics/blockchain/utxo_spent_count',  a='btc', s='2010', u=today)\n",
    "utxo_spent_count.to_csv('data/utxo_spent_count.csv')\n",
    "print(utxo_spent_count.shape)\n",
    "utxo_spent_count.tail(2)"
   ]
  },
  {
   "cell_type": "code",
   "execution_count": 362,
   "metadata": {},
   "outputs": [
    {
     "name": "stdout",
     "output_type": "stream",
     "text": [
      "(3974, 1)\n"
     ]
    },
    {
     "data": {
      "text/html": [
       "<div>\n",
       "<style scoped>\n",
       "    .dataframe tbody tr th:only-of-type {\n",
       "        vertical-align: middle;\n",
       "    }\n",
       "\n",
       "    .dataframe tbody tr th {\n",
       "        vertical-align: top;\n",
       "    }\n",
       "\n",
       "    .dataframe thead th {\n",
       "        text-align: right;\n",
       "    }\n",
       "</style>\n",
       "<table border=\"1\" class=\"dataframe\">\n",
       "  <thead>\n",
       "    <tr style=\"text-align: right;\">\n",
       "      <th></th>\n",
       "      <th>blockchain_utxo_created_value_sum</th>\n",
       "    </tr>\n",
       "    <tr>\n",
       "      <th>t</th>\n",
       "      <th></th>\n",
       "    </tr>\n",
       "  </thead>\n",
       "  <tbody>\n",
       "    <tr>\n",
       "      <th>2020-11-16</th>\n",
       "      <td>3.618304e+06</td>\n",
       "    </tr>\n",
       "    <tr>\n",
       "      <th>2020-11-17</th>\n",
       "      <td>3.030812e+06</td>\n",
       "    </tr>\n",
       "  </tbody>\n",
       "</table>\n",
       "</div>"
      ],
      "text/plain": [
       "            blockchain_utxo_created_value_sum\n",
       "t                                            \n",
       "2020-11-16                       3.618304e+06\n",
       "2020-11-17                       3.030812e+06"
      ]
     },
     "execution_count": 362,
     "metadata": {},
     "output_type": "execute_result"
    }
   ],
   "source": [
    "utxo_created_value_sum = gn.get('https://api.glassnode.com/v1/metrics/blockchain/utxo_created_value_sum',  a='btc', s='2010', u=today)\n",
    "utxo_created_value_sum.to_csv('data/utxo_created_value_sum.csv')\n",
    "print(utxo_created_value_sum.shape)\n",
    "utxo_created_value_sum.tail(2)"
   ]
  },
  {
   "cell_type": "code",
   "execution_count": 363,
   "metadata": {},
   "outputs": [
    {
     "name": "stdout",
     "output_type": "stream",
     "text": [
      "(3974, 1)\n"
     ]
    },
    {
     "data": {
      "text/html": [
       "<div>\n",
       "<style scoped>\n",
       "    .dataframe tbody tr th:only-of-type {\n",
       "        vertical-align: middle;\n",
       "    }\n",
       "\n",
       "    .dataframe tbody tr th {\n",
       "        vertical-align: top;\n",
       "    }\n",
       "\n",
       "    .dataframe thead th {\n",
       "        text-align: right;\n",
       "    }\n",
       "</style>\n",
       "<table border=\"1\" class=\"dataframe\">\n",
       "  <thead>\n",
       "    <tr style=\"text-align: right;\">\n",
       "      <th></th>\n",
       "      <th>blockchain_utxo_spent_value_sum</th>\n",
       "    </tr>\n",
       "    <tr>\n",
       "      <th>t</th>\n",
       "      <th></th>\n",
       "    </tr>\n",
       "  </thead>\n",
       "  <tbody>\n",
       "    <tr>\n",
       "      <th>2020-11-16</th>\n",
       "      <td>3.617304e+06</td>\n",
       "    </tr>\n",
       "    <tr>\n",
       "      <th>2020-11-17</th>\n",
       "      <td>3.029830e+06</td>\n",
       "    </tr>\n",
       "  </tbody>\n",
       "</table>\n",
       "</div>"
      ],
      "text/plain": [
       "            blockchain_utxo_spent_value_sum\n",
       "t                                          \n",
       "2020-11-16                     3.617304e+06\n",
       "2020-11-17                     3.029830e+06"
      ]
     },
     "execution_count": 363,
     "metadata": {},
     "output_type": "execute_result"
    }
   ],
   "source": [
    "utxo_spent_value_sum = gn.get('https://api.glassnode.com/v1/metrics/blockchain/utxo_spent_value_sum',  a='btc', s='2010', u=today)\n",
    "utxo_spent_value_sum.to_csv('data/utxo_spent_value_sum.csv')\n",
    "print(utxo_spent_value_sum.shape)\n",
    "utxo_spent_value_sum.tail(2)"
   ]
  },
  {
   "cell_type": "code",
   "execution_count": 364,
   "metadata": {},
   "outputs": [
    {
     "name": "stdout",
     "output_type": "stream",
     "text": [
      "(3776, 1)\n"
     ]
    },
    {
     "data": {
      "text/html": [
       "<div>\n",
       "<style scoped>\n",
       "    .dataframe tbody tr th:only-of-type {\n",
       "        vertical-align: middle;\n",
       "    }\n",
       "\n",
       "    .dataframe tbody tr th {\n",
       "        vertical-align: top;\n",
       "    }\n",
       "\n",
       "    .dataframe thead th {\n",
       "        text-align: right;\n",
       "    }\n",
       "</style>\n",
       "<table border=\"1\" class=\"dataframe\">\n",
       "  <thead>\n",
       "    <tr style=\"text-align: right;\">\n",
       "      <th></th>\n",
       "      <th>blockchain_utxo_profit_relative</th>\n",
       "    </tr>\n",
       "    <tr>\n",
       "      <th>t</th>\n",
       "      <th></th>\n",
       "    </tr>\n",
       "  </thead>\n",
       "  <tbody>\n",
       "    <tr>\n",
       "      <th>2020-11-16</th>\n",
       "      <td>0.994615</td>\n",
       "    </tr>\n",
       "    <tr>\n",
       "      <th>2020-11-17</th>\n",
       "      <td>0.997520</td>\n",
       "    </tr>\n",
       "  </tbody>\n",
       "</table>\n",
       "</div>"
      ],
      "text/plain": [
       "            blockchain_utxo_profit_relative\n",
       "t                                          \n",
       "2020-11-16                         0.994615\n",
       "2020-11-17                         0.997520"
      ]
     },
     "execution_count": 364,
     "metadata": {},
     "output_type": "execute_result"
    }
   ],
   "source": [
    "utxo_perc_profit = gn.get('https://api.glassnode.com/v1/metrics/blockchain/utxo_profit_relative',  a='btc', s='2010', u=today)\n",
    "utxo_perc_profit.to_csv('data/utxo_perc_profit.csv')\n",
    "print(utxo_perc_profit.shape)\n",
    "utxo_perc_profit.tail(2)"
   ]
  },
  {
   "cell_type": "code",
   "execution_count": 365,
   "metadata": {},
   "outputs": [],
   "source": [
    "# FEES"
   ]
  },
  {
   "cell_type": "code",
   "execution_count": 366,
   "metadata": {},
   "outputs": [
    {
     "name": "stdout",
     "output_type": "stream",
     "text": [
      "(3974, 1)\n"
     ]
    },
    {
     "data": {
      "text/html": [
       "<div>\n",
       "<style scoped>\n",
       "    .dataframe tbody tr th:only-of-type {\n",
       "        vertical-align: middle;\n",
       "    }\n",
       "\n",
       "    .dataframe tbody tr th {\n",
       "        vertical-align: top;\n",
       "    }\n",
       "\n",
       "    .dataframe thead th {\n",
       "        text-align: right;\n",
       "    }\n",
       "</style>\n",
       "<table border=\"1\" class=\"dataframe\">\n",
       "  <thead>\n",
       "    <tr style=\"text-align: right;\">\n",
       "      <th></th>\n",
       "      <th>fees_volume_sum</th>\n",
       "    </tr>\n",
       "    <tr>\n",
       "      <th>t</th>\n",
       "      <th></th>\n",
       "    </tr>\n",
       "  </thead>\n",
       "  <tbody>\n",
       "    <tr>\n",
       "      <th>2020-11-16</th>\n",
       "      <td>83.457706</td>\n",
       "    </tr>\n",
       "    <tr>\n",
       "      <th>2020-11-17</th>\n",
       "      <td>90.541296</td>\n",
       "    </tr>\n",
       "  </tbody>\n",
       "</table>\n",
       "</div>"
      ],
      "text/plain": [
       "            fees_volume_sum\n",
       "t                          \n",
       "2020-11-16        83.457706\n",
       "2020-11-17        90.541296"
      ]
     },
     "execution_count": 366,
     "metadata": {},
     "output_type": "execute_result"
    }
   ],
   "source": [
    "fees_sum = gn.get('https://api.glassnode.com/v1/metrics/fees/volume_sum',  a='btc', s='2010', u=today)\n",
    "fees_sum.to_csv('data/fees_sum.csv')\n",
    "print(fees_sum.shape)\n",
    "fees_sum.tail(2)"
   ]
  },
  {
   "cell_type": "code",
   "execution_count": 367,
   "metadata": {},
   "outputs": [
    {
     "name": "stdout",
     "output_type": "stream",
     "text": [
      "(3974, 1)\n"
     ]
    },
    {
     "data": {
      "text/html": [
       "<div>\n",
       "<style scoped>\n",
       "    .dataframe tbody tr th:only-of-type {\n",
       "        vertical-align: middle;\n",
       "    }\n",
       "\n",
       "    .dataframe tbody tr th {\n",
       "        vertical-align: top;\n",
       "    }\n",
       "\n",
       "    .dataframe thead th {\n",
       "        text-align: right;\n",
       "    }\n",
       "</style>\n",
       "<table border=\"1\" class=\"dataframe\">\n",
       "  <thead>\n",
       "    <tr style=\"text-align: right;\">\n",
       "      <th></th>\n",
       "      <th>fees_volume_mean</th>\n",
       "    </tr>\n",
       "    <tr>\n",
       "      <th>t</th>\n",
       "      <th></th>\n",
       "    </tr>\n",
       "  </thead>\n",
       "  <tbody>\n",
       "    <tr>\n",
       "      <th>2020-11-16</th>\n",
       "      <td>0.000268</td>\n",
       "    </tr>\n",
       "    <tr>\n",
       "      <th>2020-11-17</th>\n",
       "      <td>0.000260</td>\n",
       "    </tr>\n",
       "  </tbody>\n",
       "</table>\n",
       "</div>"
      ],
      "text/plain": [
       "            fees_volume_mean\n",
       "t                           \n",
       "2020-11-16          0.000268\n",
       "2020-11-17          0.000260"
      ]
     },
     "execution_count": 367,
     "metadata": {},
     "output_type": "execute_result"
    }
   ],
   "source": [
    "fees_mean = gn.get('https://api.glassnode.com/v1/metrics/fees/volume_mean',  a='btc', s='2010', u=today)\n",
    "fees_mean.to_csv('data/fees_mean.csv')\n",
    "print(fees_mean.shape)\n",
    "fees_mean.tail(2)"
   ]
  },
  {
   "cell_type": "code",
   "execution_count": 368,
   "metadata": {},
   "outputs": [],
   "source": [
    "# MINING"
   ]
  },
  {
   "cell_type": "code",
   "execution_count": 369,
   "metadata": {},
   "outputs": [
    {
     "name": "stdout",
     "output_type": "stream",
     "text": [
      "(3974, 1)\n"
     ]
    },
    {
     "data": {
      "text/html": [
       "<div>\n",
       "<style scoped>\n",
       "    .dataframe tbody tr th:only-of-type {\n",
       "        vertical-align: middle;\n",
       "    }\n",
       "\n",
       "    .dataframe tbody tr th {\n",
       "        vertical-align: top;\n",
       "    }\n",
       "\n",
       "    .dataframe thead th {\n",
       "        text-align: right;\n",
       "    }\n",
       "</style>\n",
       "<table border=\"1\" class=\"dataframe\">\n",
       "  <thead>\n",
       "    <tr style=\"text-align: right;\">\n",
       "      <th></th>\n",
       "      <th>mining_difficulty_latest</th>\n",
       "    </tr>\n",
       "    <tr>\n",
       "      <th>t</th>\n",
       "      <th></th>\n",
       "    </tr>\n",
       "  </thead>\n",
       "  <tbody>\n",
       "    <tr>\n",
       "      <th>2020-11-16</th>\n",
       "      <td>75577685065077500000000</td>\n",
       "    </tr>\n",
       "    <tr>\n",
       "      <th>2020-11-17</th>\n",
       "      <td>75577685065077500000000</td>\n",
       "    </tr>\n",
       "  </tbody>\n",
       "</table>\n",
       "</div>"
      ],
      "text/plain": [
       "           mining_difficulty_latest\n",
       "t                                  \n",
       "2020-11-16  75577685065077500000000\n",
       "2020-11-17  75577685065077500000000"
      ]
     },
     "execution_count": 369,
     "metadata": {},
     "output_type": "execute_result"
    }
   ],
   "source": [
    "difficulty_latest = gn.get('https://api.glassnode.com/v1/metrics/mining/difficulty_latest',  a='btc', s='2010', u=today)\n",
    "difficulty_latest.to_csv('data/difficulty_latest.csv')\n",
    "print(difficulty_latest.shape)\n",
    "difficulty_latest.tail(2)"
   ]
  },
  {
   "cell_type": "code",
   "execution_count": 370,
   "metadata": {},
   "outputs": [
    {
     "name": "stdout",
     "output_type": "stream",
     "text": [
      "(3974, 1)\n"
     ]
    },
    {
     "data": {
      "text/html": [
       "<div>\n",
       "<style scoped>\n",
       "    .dataframe tbody tr th:only-of-type {\n",
       "        vertical-align: middle;\n",
       "    }\n",
       "\n",
       "    .dataframe tbody tr th {\n",
       "        vertical-align: top;\n",
       "    }\n",
       "\n",
       "    .dataframe thead th {\n",
       "        text-align: right;\n",
       "    }\n",
       "</style>\n",
       "<table border=\"1\" class=\"dataframe\">\n",
       "  <thead>\n",
       "    <tr style=\"text-align: right;\">\n",
       "      <th></th>\n",
       "      <th>mining_hash_rate_mean</th>\n",
       "    </tr>\n",
       "    <tr>\n",
       "      <th>t</th>\n",
       "      <th></th>\n",
       "    </tr>\n",
       "  </thead>\n",
       "  <tbody>\n",
       "    <tr>\n",
       "      <th>2020-11-16</th>\n",
       "      <td>136158304329831000000</td>\n",
       "    </tr>\n",
       "    <tr>\n",
       "      <th>2020-11-17</th>\n",
       "      <td>136840305323567000000</td>\n",
       "    </tr>\n",
       "  </tbody>\n",
       "</table>\n",
       "</div>"
      ],
      "text/plain": [
       "            mining_hash_rate_mean\n",
       "t                                \n",
       "2020-11-16  136158304329831000000\n",
       "2020-11-17  136840305323567000000"
      ]
     },
     "execution_count": 370,
     "metadata": {},
     "output_type": "execute_result"
    }
   ],
   "source": [
    "hash_rate_mean = gn.get('https://api.glassnode.com/v1/metrics/mining/hash_rate_mean',  a='btc', s='2010', u=today)\n",
    "hash_rate_mean.to_csv('data/hash_rate_mean.csv')\n",
    "print(hash_rate_mean.shape)\n",
    "hash_rate_mean.tail(2)"
   ]
  },
  {
   "cell_type": "code",
   "execution_count": 371,
   "metadata": {},
   "outputs": [
    {
     "name": "stdout",
     "output_type": "stream",
     "text": [
      "(3974, 1)\n"
     ]
    },
    {
     "data": {
      "text/html": [
       "<div>\n",
       "<style scoped>\n",
       "    .dataframe tbody tr th:only-of-type {\n",
       "        vertical-align: middle;\n",
       "    }\n",
       "\n",
       "    .dataframe tbody tr th {\n",
       "        vertical-align: top;\n",
       "    }\n",
       "\n",
       "    .dataframe thead th {\n",
       "        text-align: right;\n",
       "    }\n",
       "</style>\n",
       "<table border=\"1\" class=\"dataframe\">\n",
       "  <thead>\n",
       "    <tr style=\"text-align: right;\">\n",
       "      <th></th>\n",
       "      <th>mining_revenue_sum</th>\n",
       "    </tr>\n",
       "    <tr>\n",
       "      <th>t</th>\n",
       "      <th></th>\n",
       "    </tr>\n",
       "  </thead>\n",
       "  <tbody>\n",
       "    <tr>\n",
       "      <th>2020-11-16</th>\n",
       "      <td>1083.457706</td>\n",
       "    </tr>\n",
       "    <tr>\n",
       "      <th>2020-11-17</th>\n",
       "      <td>1071.791296</td>\n",
       "    </tr>\n",
       "  </tbody>\n",
       "</table>\n",
       "</div>"
      ],
      "text/plain": [
       "            mining_revenue_sum\n",
       "t                             \n",
       "2020-11-16         1083.457706\n",
       "2020-11-17         1071.791296"
      ]
     },
     "execution_count": 371,
     "metadata": {},
     "output_type": "execute_result"
    }
   ],
   "source": [
    "miner_revenue = gn.get('https://api.glassnode.com/v1/metrics/mining/revenue_sum',  a='btc', s='2010', u=today)\n",
    "miner_revenue.to_csv('data/miner_revenue.csv')\n",
    "print(miner_revenue.shape)\n",
    "miner_revenue.tail(2)"
   ]
  },
  {
   "cell_type": "code",
   "execution_count": 372,
   "metadata": {},
   "outputs": [
    {
     "name": "stdout",
     "output_type": "stream",
     "text": [
      "(3974, 1)\n"
     ]
    },
    {
     "data": {
      "text/html": [
       "<div>\n",
       "<style scoped>\n",
       "    .dataframe tbody tr th:only-of-type {\n",
       "        vertical-align: middle;\n",
       "    }\n",
       "\n",
       "    .dataframe tbody tr th {\n",
       "        vertical-align: top;\n",
       "    }\n",
       "\n",
       "    .dataframe thead th {\n",
       "        text-align: right;\n",
       "    }\n",
       "</style>\n",
       "<table border=\"1\" class=\"dataframe\">\n",
       "  <thead>\n",
       "    <tr style=\"text-align: right;\">\n",
       "      <th></th>\n",
       "      <th>mining_revenue_from_fees</th>\n",
       "    </tr>\n",
       "    <tr>\n",
       "      <th>t</th>\n",
       "      <th></th>\n",
       "    </tr>\n",
       "  </thead>\n",
       "  <tbody>\n",
       "    <tr>\n",
       "      <th>2020-11-16</th>\n",
       "      <td>0.077029</td>\n",
       "    </tr>\n",
       "    <tr>\n",
       "      <th>2020-11-17</th>\n",
       "      <td>0.084477</td>\n",
       "    </tr>\n",
       "  </tbody>\n",
       "</table>\n",
       "</div>"
      ],
      "text/plain": [
       "            mining_revenue_from_fees\n",
       "t                                   \n",
       "2020-11-16                  0.077029\n",
       "2020-11-17                  0.084477"
      ]
     },
     "execution_count": 372,
     "metadata": {},
     "output_type": "execute_result"
    }
   ],
   "source": [
    "miner_fee_revenue = gn.get('https://api.glassnode.com/v1/metrics/mining/revenue_from_fees',  a='btc', s='2010', u=today)\n",
    "miner_fee_revenue.to_csv('data/miner_fee_revenue.csv')\n",
    "print(miner_fee_revenue.shape)\n",
    "miner_fee_revenue.tail(2)"
   ]
  },
  {
   "cell_type": "code",
   "execution_count": 373,
   "metadata": {},
   "outputs": [
    {
     "name": "stdout",
     "output_type": "stream",
     "text": [
      "(3974, 1)\n"
     ]
    },
    {
     "data": {
      "text/html": [
       "<div>\n",
       "<style scoped>\n",
       "    .dataframe tbody tr th:only-of-type {\n",
       "        vertical-align: middle;\n",
       "    }\n",
       "\n",
       "    .dataframe tbody tr th {\n",
       "        vertical-align: top;\n",
       "    }\n",
       "\n",
       "    .dataframe thead th {\n",
       "        text-align: right;\n",
       "    }\n",
       "</style>\n",
       "<table border=\"1\" class=\"dataframe\">\n",
       "  <thead>\n",
       "    <tr style=\"text-align: right;\">\n",
       "      <th></th>\n",
       "      <th>mining_volume_mined_sum</th>\n",
       "    </tr>\n",
       "    <tr>\n",
       "      <th>t</th>\n",
       "      <th></th>\n",
       "    </tr>\n",
       "  </thead>\n",
       "  <tbody>\n",
       "    <tr>\n",
       "      <th>2020-11-16</th>\n",
       "      <td>1000.00</td>\n",
       "    </tr>\n",
       "    <tr>\n",
       "      <th>2020-11-17</th>\n",
       "      <td>981.25</td>\n",
       "    </tr>\n",
       "  </tbody>\n",
       "</table>\n",
       "</div>"
      ],
      "text/plain": [
       "            mining_volume_mined_sum\n",
       "t                                  \n",
       "2020-11-16                  1000.00\n",
       "2020-11-17                   981.25"
      ]
     },
     "execution_count": 373,
     "metadata": {},
     "output_type": "execute_result"
    }
   ],
   "source": [
    "miner_block_revenue = gn.get('https://api.glassnode.com/v1/metrics/mining/volume_mined_sum',  a='btc', s='2010', u=today)\n",
    "miner_block_revenue.to_csv('data/miner_block_revenue.csv')\n",
    "print(miner_block_revenue.shape)\n",
    "miner_block_revenue.tail(2)"
   ]
  },
  {
   "cell_type": "code",
   "execution_count": 374,
   "metadata": {},
   "outputs": [
    {
     "name": "stdout",
     "output_type": "stream",
     "text": [
      "(3046, 1)\n"
     ]
    },
    {
     "data": {
      "text/html": [
       "<div>\n",
       "<style scoped>\n",
       "    .dataframe tbody tr th:only-of-type {\n",
       "        vertical-align: middle;\n",
       "    }\n",
       "\n",
       "    .dataframe tbody tr th {\n",
       "        vertical-align: top;\n",
       "    }\n",
       "\n",
       "    .dataframe thead th {\n",
       "        text-align: right;\n",
       "    }\n",
       "</style>\n",
       "<table border=\"1\" class=\"dataframe\">\n",
       "  <thead>\n",
       "    <tr style=\"text-align: right;\">\n",
       "      <th></th>\n",
       "      <th>mining_miners_outflow_multiple</th>\n",
       "    </tr>\n",
       "    <tr>\n",
       "      <th>t</th>\n",
       "      <th></th>\n",
       "    </tr>\n",
       "  </thead>\n",
       "  <tbody>\n",
       "    <tr>\n",
       "      <th>2019-11-16</th>\n",
       "      <td>1.252816</td>\n",
       "    </tr>\n",
       "    <tr>\n",
       "      <th>2019-11-17</th>\n",
       "      <td>0.891787</td>\n",
       "    </tr>\n",
       "  </tbody>\n",
       "</table>\n",
       "</div>"
      ],
      "text/plain": [
       "            mining_miners_outflow_multiple\n",
       "t                                         \n",
       "2019-11-16                        1.252816\n",
       "2019-11-17                        0.891787"
      ]
     },
     "execution_count": 374,
     "metadata": {},
     "output_type": "execute_result"
    }
   ],
   "source": [
    "miner_outflow_multiple = gn.get('https://api.glassnode.com/v1/metrics/mining/miners_outflow_multiple',  a='btc', s='2010', u=today)\n",
    "miner_outflow_multiple.to_csv('data/miner_outflow_multiple.csv')\n",
    "print(miner_outflow_multiple.shape)\n",
    "miner_outflow_multiple.tail(2)"
   ]
  },
  {
   "cell_type": "code",
   "execution_count": 375,
   "metadata": {},
   "outputs": [
    {
     "name": "stdout",
     "output_type": "stream",
     "text": [
      "(3776, 1)\n"
     ]
    },
    {
     "data": {
      "text/html": [
       "<div>\n",
       "<style scoped>\n",
       "    .dataframe tbody tr th:only-of-type {\n",
       "        vertical-align: middle;\n",
       "    }\n",
       "\n",
       "    .dataframe tbody tr th {\n",
       "        vertical-align: top;\n",
       "    }\n",
       "\n",
       "    .dataframe thead th {\n",
       "        text-align: right;\n",
       "    }\n",
       "</style>\n",
       "<table border=\"1\" class=\"dataframe\">\n",
       "  <thead>\n",
       "    <tr style=\"text-align: right;\">\n",
       "      <th></th>\n",
       "      <th>mining_thermocap</th>\n",
       "    </tr>\n",
       "    <tr>\n",
       "      <th>t</th>\n",
       "      <th></th>\n",
       "    </tr>\n",
       "  </thead>\n",
       "  <tbody>\n",
       "    <tr>\n",
       "      <th>2020-11-16</th>\n",
       "      <td>1.893076e+10</td>\n",
       "    </tr>\n",
       "    <tr>\n",
       "      <th>2020-11-17</th>\n",
       "      <td>1.894749e+10</td>\n",
       "    </tr>\n",
       "  </tbody>\n",
       "</table>\n",
       "</div>"
      ],
      "text/plain": [
       "            mining_thermocap\n",
       "t                           \n",
       "2020-11-16      1.893076e+10\n",
       "2020-11-17      1.894749e+10"
      ]
     },
     "execution_count": 375,
     "metadata": {},
     "output_type": "execute_result"
    }
   ],
   "source": [
    "thermocap = gn.get('https://api.glassnode.com/v1/metrics/mining/thermocap',  a='btc', s='2010', u=today)\n",
    "thermocap.to_csv('data/thermocap.csv')\n",
    "print(thermocap.shape)\n",
    "thermocap.tail(2)"
   ]
  },
  {
   "cell_type": "code",
   "execution_count": 376,
   "metadata": {},
   "outputs": [
    {
     "name": "stdout",
     "output_type": "stream",
     "text": [
      "(3776, 1)\n"
     ]
    },
    {
     "data": {
      "text/html": [
       "<div>\n",
       "<style scoped>\n",
       "    .dataframe tbody tr th:only-of-type {\n",
       "        vertical-align: middle;\n",
       "    }\n",
       "\n",
       "    .dataframe tbody tr th {\n",
       "        vertical-align: top;\n",
       "    }\n",
       "\n",
       "    .dataframe thead th {\n",
       "        text-align: right;\n",
       "    }\n",
       "</style>\n",
       "<table border=\"1\" class=\"dataframe\">\n",
       "  <thead>\n",
       "    <tr style=\"text-align: right;\">\n",
       "      <th></th>\n",
       "      <th>mining_marketcap_thermocap_ratio</th>\n",
       "    </tr>\n",
       "    <tr>\n",
       "      <th>t</th>\n",
       "      <th></th>\n",
       "    </tr>\n",
       "  </thead>\n",
       "  <tbody>\n",
       "    <tr>\n",
       "      <th>2020-11-16</th>\n",
       "      <td>8.634441e-07</td>\n",
       "    </tr>\n",
       "    <tr>\n",
       "      <th>2020-11-17</th>\n",
       "      <td>8.998808e-07</td>\n",
       "    </tr>\n",
       "  </tbody>\n",
       "</table>\n",
       "</div>"
      ],
      "text/plain": [
       "            mining_marketcap_thermocap_ratio\n",
       "t                                           \n",
       "2020-11-16                      8.634441e-07\n",
       "2020-11-17                      8.998808e-07"
      ]
     },
     "execution_count": 376,
     "metadata": {},
     "output_type": "execute_result"
    }
   ],
   "source": [
    "marketcap_thermocap_ratio = gn.get('https://api.glassnode.com/v1/metrics/mining/marketcap_thermocap_ratio',  a='btc', s='2010', u=today)\n",
    "marketcap_thermocap_ratio.to_csv('data/marketcap_thermocap_ratio.csv')\n",
    "print(marketcap_thermocap_ratio.shape)\n",
    "marketcap_thermocap_ratio.tail(2)"
   ]
  },
  {
   "cell_type": "code",
   "execution_count": 377,
   "metadata": {},
   "outputs": [
    {
     "name": "stdout",
     "output_type": "stream",
     "text": [
      "(3608, 1)\n"
     ]
    },
    {
     "data": {
      "text/html": [
       "<div>\n",
       "<style scoped>\n",
       "    .dataframe tbody tr th:only-of-type {\n",
       "        vertical-align: middle;\n",
       "    }\n",
       "\n",
       "    .dataframe tbody tr th {\n",
       "        vertical-align: top;\n",
       "    }\n",
       "\n",
       "    .dataframe thead th {\n",
       "        text-align: right;\n",
       "    }\n",
       "</style>\n",
       "<table border=\"1\" class=\"dataframe\">\n",
       "  <thead>\n",
       "    <tr style=\"text-align: right;\">\n",
       "      <th></th>\n",
       "      <th>mining_miners_unspent_supply</th>\n",
       "    </tr>\n",
       "    <tr>\n",
       "      <th>t</th>\n",
       "      <th></th>\n",
       "    </tr>\n",
       "  </thead>\n",
       "  <tbody>\n",
       "    <tr>\n",
       "      <th>2019-11-16</th>\n",
       "      <td>1.767987e+06</td>\n",
       "    </tr>\n",
       "    <tr>\n",
       "      <th>2019-11-17</th>\n",
       "      <td>1.768397e+06</td>\n",
       "    </tr>\n",
       "  </tbody>\n",
       "</table>\n",
       "</div>"
      ],
      "text/plain": [
       "            mining_miners_unspent_supply\n",
       "t                                       \n",
       "2019-11-16                  1.767987e+06\n",
       "2019-11-17                  1.768397e+06"
      ]
     },
     "execution_count": 377,
     "metadata": {},
     "output_type": "execute_result"
    }
   ],
   "source": [
    "miners_unspent_supply = gn.get('https://api.glassnode.com/v1/metrics/mining/miners_unspent_supply',  a='btc', s='2010', u=today)\n",
    "miners_unspent_supply.to_csv('data/miners_unspent_supply.csv')\n",
    "print(miners_unspent_supply.shape)\n",
    "miners_unspent_supply.tail(2)"
   ]
  },
  {
   "cell_type": "code",
   "execution_count": 378,
   "metadata": {},
   "outputs": [],
   "source": [
    "# DISTRIBUTION"
   ]
  },
  {
   "cell_type": "code",
   "execution_count": 379,
   "metadata": {},
   "outputs": [
    {
     "name": "stdout",
     "output_type": "stream",
     "text": [
      "(3974, 1)\n"
     ]
    },
    {
     "data": {
      "text/html": [
       "<div>\n",
       "<style scoped>\n",
       "    .dataframe tbody tr th:only-of-type {\n",
       "        vertical-align: middle;\n",
       "    }\n",
       "\n",
       "    .dataframe tbody tr th {\n",
       "        vertical-align: top;\n",
       "    }\n",
       "\n",
       "    .dataframe thead th {\n",
       "        text-align: right;\n",
       "    }\n",
       "</style>\n",
       "<table border=\"1\" class=\"dataframe\">\n",
       "  <thead>\n",
       "    <tr style=\"text-align: right;\">\n",
       "      <th></th>\n",
       "      <th>distribution_balance_1pct_holders</th>\n",
       "    </tr>\n",
       "    <tr>\n",
       "      <th>t</th>\n",
       "      <th></th>\n",
       "    </tr>\n",
       "  </thead>\n",
       "  <tbody>\n",
       "    <tr>\n",
       "      <th>2020-11-16</th>\n",
       "      <td>0.893518</td>\n",
       "    </tr>\n",
       "    <tr>\n",
       "      <th>2020-11-17</th>\n",
       "      <td>0.893712</td>\n",
       "    </tr>\n",
       "  </tbody>\n",
       "</table>\n",
       "</div>"
      ],
      "text/plain": [
       "            distribution_balance_1pct_holders\n",
       "t                                            \n",
       "2020-11-16                           0.893518\n",
       "2020-11-17                           0.893712"
      ]
     },
     "execution_count": 379,
     "metadata": {},
     "output_type": "execute_result"
    }
   ],
   "source": [
    "balance_1pct_holders = gn.get('https://api.glassnode.com/v1/metrics/distribution/balance_1pct_holders',  a='btc', s='2010', u=today)\n",
    "balance_1pct_holders.to_csv('data/balance_1pct_holders.csv')\n",
    "print(balance_1pct_holders.shape)\n",
    "balance_1pct_holders.tail(2)"
   ]
  },
  {
   "cell_type": "code",
   "execution_count": 380,
   "metadata": {},
   "outputs": [
    {
     "name": "stdout",
     "output_type": "stream",
     "text": [
      "(3974, 1)\n"
     ]
    },
    {
     "data": {
      "text/html": [
       "<div>\n",
       "<style scoped>\n",
       "    .dataframe tbody tr th:only-of-type {\n",
       "        vertical-align: middle;\n",
       "    }\n",
       "\n",
       "    .dataframe tbody tr th {\n",
       "        vertical-align: top;\n",
       "    }\n",
       "\n",
       "    .dataframe thead th {\n",
       "        text-align: right;\n",
       "    }\n",
       "</style>\n",
       "<table border=\"1\" class=\"dataframe\">\n",
       "  <thead>\n",
       "    <tr style=\"text-align: right;\">\n",
       "      <th></th>\n",
       "      <th>distribution_gini</th>\n",
       "    </tr>\n",
       "    <tr>\n",
       "      <th>t</th>\n",
       "      <th></th>\n",
       "    </tr>\n",
       "  </thead>\n",
       "  <tbody>\n",
       "    <tr>\n",
       "      <th>2020-11-16</th>\n",
       "      <td>0.987433</td>\n",
       "    </tr>\n",
       "    <tr>\n",
       "      <th>2020-11-17</th>\n",
       "      <td>0.987423</td>\n",
       "    </tr>\n",
       "  </tbody>\n",
       "</table>\n",
       "</div>"
      ],
      "text/plain": [
       "            distribution_gini\n",
       "t                            \n",
       "2020-11-16           0.987433\n",
       "2020-11-17           0.987423"
      ]
     },
     "execution_count": 380,
     "metadata": {},
     "output_type": "execute_result"
    }
   ],
   "source": [
    "gini = gn.get('https://api.glassnode.com/v1/metrics/distribution/gini',  a='btc', s='2010', u=today)\n",
    "gini.to_csv('data/gini.csv')\n",
    "print(gini.shape)\n",
    "gini.tail(2)"
   ]
  },
  {
   "cell_type": "code",
   "execution_count": 381,
   "metadata": {},
   "outputs": [
    {
     "name": "stdout",
     "output_type": "stream",
     "text": [
      "(3974, 1)\n"
     ]
    },
    {
     "data": {
      "text/html": [
       "<div>\n",
       "<style scoped>\n",
       "    .dataframe tbody tr th:only-of-type {\n",
       "        vertical-align: middle;\n",
       "    }\n",
       "\n",
       "    .dataframe tbody tr th {\n",
       "        vertical-align: top;\n",
       "    }\n",
       "\n",
       "    .dataframe thead th {\n",
       "        text-align: right;\n",
       "    }\n",
       "</style>\n",
       "<table border=\"1\" class=\"dataframe\">\n",
       "  <thead>\n",
       "    <tr style=\"text-align: right;\">\n",
       "      <th></th>\n",
       "      <th>distribution_herfindahl</th>\n",
       "    </tr>\n",
       "    <tr>\n",
       "      <th>t</th>\n",
       "      <th></th>\n",
       "    </tr>\n",
       "  </thead>\n",
       "  <tbody>\n",
       "    <tr>\n",
       "      <th>2020-11-16</th>\n",
       "      <td>0.000257</td>\n",
       "    </tr>\n",
       "    <tr>\n",
       "      <th>2020-11-17</th>\n",
       "      <td>0.000258</td>\n",
       "    </tr>\n",
       "  </tbody>\n",
       "</table>\n",
       "</div>"
      ],
      "text/plain": [
       "            distribution_herfindahl\n",
       "t                                  \n",
       "2020-11-16                 0.000257\n",
       "2020-11-17                 0.000258"
      ]
     },
     "execution_count": 381,
     "metadata": {},
     "output_type": "execute_result"
    }
   ],
   "source": [
    "herfindahl = gn.get('https://api.glassnode.com/v1/metrics/distribution/herfindahl',  a='btc', s='2010', u=today)\n",
    "herfindahl.to_csv('data/herfindahl.csv')\n",
    "print(herfindahl.shape)\n",
    "herfindahl.tail(2)"
   ]
  },
  {
   "cell_type": "code",
   "execution_count": 382,
   "metadata": {},
   "outputs": [],
   "source": [
    "# INDICATORS"
   ]
  },
  {
   "cell_type": "code",
   "execution_count": 383,
   "metadata": {},
   "outputs": [
    {
     "name": "stdout",
     "output_type": "stream",
     "text": [
      "(3777, 1)\n"
     ]
    },
    {
     "data": {
      "text/html": [
       "<div>\n",
       "<style scoped>\n",
       "    .dataframe tbody tr th:only-of-type {\n",
       "        vertical-align: middle;\n",
       "    }\n",
       "\n",
       "    .dataframe tbody tr th {\n",
       "        vertical-align: top;\n",
       "    }\n",
       "\n",
       "    .dataframe thead th {\n",
       "        text-align: right;\n",
       "    }\n",
       "</style>\n",
       "<table border=\"1\" class=\"dataframe\">\n",
       "  <thead>\n",
       "    <tr style=\"text-align: right;\">\n",
       "      <th></th>\n",
       "      <th>indicators_sopr</th>\n",
       "    </tr>\n",
       "    <tr>\n",
       "      <th>t</th>\n",
       "      <th></th>\n",
       "    </tr>\n",
       "  </thead>\n",
       "  <tbody>\n",
       "    <tr>\n",
       "      <th>2020-11-16</th>\n",
       "      <td>1.006317</td>\n",
       "    </tr>\n",
       "    <tr>\n",
       "      <th>2020-11-17</th>\n",
       "      <td>1.015811</td>\n",
       "    </tr>\n",
       "  </tbody>\n",
       "</table>\n",
       "</div>"
      ],
      "text/plain": [
       "            indicators_sopr\n",
       "t                          \n",
       "2020-11-16         1.006317\n",
       "2020-11-17         1.015811"
      ]
     },
     "execution_count": 383,
     "metadata": {},
     "output_type": "execute_result"
    }
   ],
   "source": [
    "sopr = gn.get('https://api.glassnode.com/v1/metrics/indicators/sopr', a = 'btc', s='2010', u=today)\n",
    "sopr.to_csv('data/sopr.csv')\n",
    "print(sopr.shape)\n",
    "sopr.tail(2)"
   ]
  },
  {
   "cell_type": "code",
   "execution_count": 384,
   "metadata": {},
   "outputs": [
    {
     "name": "stdout",
     "output_type": "stream",
     "text": [
      "(3777, 1)\n"
     ]
    },
    {
     "data": {
      "text/html": [
       "<div>\n",
       "<style scoped>\n",
       "    .dataframe tbody tr th:only-of-type {\n",
       "        vertical-align: middle;\n",
       "    }\n",
       "\n",
       "    .dataframe tbody tr th {\n",
       "        vertical-align: top;\n",
       "    }\n",
       "\n",
       "    .dataframe thead th {\n",
       "        text-align: right;\n",
       "    }\n",
       "</style>\n",
       "<table border=\"1\" class=\"dataframe\">\n",
       "  <thead>\n",
       "    <tr style=\"text-align: right;\">\n",
       "      <th></th>\n",
       "      <th>indicators_sopr_adjusted</th>\n",
       "    </tr>\n",
       "    <tr>\n",
       "      <th>t</th>\n",
       "      <th></th>\n",
       "    </tr>\n",
       "  </thead>\n",
       "  <tbody>\n",
       "    <tr>\n",
       "      <th>2020-11-16</th>\n",
       "      <td>1.058912</td>\n",
       "    </tr>\n",
       "    <tr>\n",
       "      <th>2020-11-17</th>\n",
       "      <td>1.091134</td>\n",
       "    </tr>\n",
       "  </tbody>\n",
       "</table>\n",
       "</div>"
      ],
      "text/plain": [
       "            indicators_sopr_adjusted\n",
       "t                                   \n",
       "2020-11-16                  1.058912\n",
       "2020-11-17                  1.091134"
      ]
     },
     "execution_count": 384,
     "metadata": {},
     "output_type": "execute_result"
    }
   ],
   "source": [
    "adj_sopr = gn.get('https://api.glassnode.com/v1/metrics/indicators/sopr_adjusted', a = 'btc', s='2010', u=today)\n",
    "adj_sopr.to_csv('data/adj_sopr.csv')\n",
    "print(adj_sopr.shape)\n",
    "adj_sopr.tail(2)"
   ]
  },
  {
   "cell_type": "code",
   "execution_count": 385,
   "metadata": {},
   "outputs": [
    {
     "name": "stdout",
     "output_type": "stream",
     "text": [
      "(3252, 1)\n"
     ]
    },
    {
     "data": {
      "text/html": [
       "<div>\n",
       "<style scoped>\n",
       "    .dataframe tbody tr th:only-of-type {\n",
       "        vertical-align: middle;\n",
       "    }\n",
       "\n",
       "    .dataframe tbody tr th {\n",
       "        vertical-align: top;\n",
       "    }\n",
       "\n",
       "    .dataframe thead th {\n",
       "        text-align: right;\n",
       "    }\n",
       "</style>\n",
       "<table border=\"1\" class=\"dataframe\">\n",
       "  <thead>\n",
       "    <tr style=\"text-align: right;\">\n",
       "      <th></th>\n",
       "      <th>indicators_sopr_more_155</th>\n",
       "    </tr>\n",
       "    <tr>\n",
       "      <th>t</th>\n",
       "      <th></th>\n",
       "    </tr>\n",
       "  </thead>\n",
       "  <tbody>\n",
       "    <tr>\n",
       "      <th>2019-11-16</th>\n",
       "      <td>1.265639</td>\n",
       "    </tr>\n",
       "    <tr>\n",
       "      <th>2019-11-17</th>\n",
       "      <td>1.219194</td>\n",
       "    </tr>\n",
       "  </tbody>\n",
       "</table>\n",
       "</div>"
      ],
      "text/plain": [
       "            indicators_sopr_more_155\n",
       "t                                   \n",
       "2019-11-16                  1.265639\n",
       "2019-11-17                  1.219194"
      ]
     },
     "execution_count": 385,
     "metadata": {},
     "output_type": "execute_result"
    }
   ],
   "source": [
    "lth_sopr = gn.get('https://api.glassnode.com/v1/metrics/indicators/sopr_more_155', a = 'btc', s='2010', u=today)\n",
    "lth_sopr.to_csv('data/lth_sopr.csv')\n",
    "print(lth_sopr.shape)\n",
    "lth_sopr.tail(2)"
   ]
  },
  {
   "cell_type": "code",
   "execution_count": 386,
   "metadata": {},
   "outputs": [
    {
     "name": "stdout",
     "output_type": "stream",
     "text": [
      "(3410, 1)\n"
     ]
    },
    {
     "data": {
      "text/html": [
       "<div>\n",
       "<style scoped>\n",
       "    .dataframe tbody tr th:only-of-type {\n",
       "        vertical-align: middle;\n",
       "    }\n",
       "\n",
       "    .dataframe tbody tr th {\n",
       "        vertical-align: top;\n",
       "    }\n",
       "\n",
       "    .dataframe thead th {\n",
       "        text-align: right;\n",
       "    }\n",
       "</style>\n",
       "<table border=\"1\" class=\"dataframe\">\n",
       "  <thead>\n",
       "    <tr style=\"text-align: right;\">\n",
       "      <th></th>\n",
       "      <th>indicators_sopr_less_155</th>\n",
       "    </tr>\n",
       "    <tr>\n",
       "      <th>t</th>\n",
       "      <th></th>\n",
       "    </tr>\n",
       "  </thead>\n",
       "  <tbody>\n",
       "    <tr>\n",
       "      <th>2019-11-16</th>\n",
       "      <td>0.991642</td>\n",
       "    </tr>\n",
       "    <tr>\n",
       "      <th>2019-11-17</th>\n",
       "      <td>0.997702</td>\n",
       "    </tr>\n",
       "  </tbody>\n",
       "</table>\n",
       "</div>"
      ],
      "text/plain": [
       "            indicators_sopr_less_155\n",
       "t                                   \n",
       "2019-11-16                  0.991642\n",
       "2019-11-17                  0.997702"
      ]
     },
     "execution_count": 386,
     "metadata": {},
     "output_type": "execute_result"
    }
   ],
   "source": [
    "sth_sopr = gn.get('https://api.glassnode.com/v1/metrics/indicators/sopr_less_155', a = 'btc', s='2010', u=today)\n",
    "sth_sopr.to_csv('data/sth_sopr.csv')\n",
    "print(sth_sopr.shape)\n",
    "sth_sopr.tail(2)"
   ]
  },
  {
   "cell_type": "code",
   "execution_count": 387,
   "metadata": {},
   "outputs": [
    {
     "name": "stdout",
     "output_type": "stream",
     "text": [
      "(3776, 1)\n"
     ]
    },
    {
     "data": {
      "text/html": [
       "<div>\n",
       "<style scoped>\n",
       "    .dataframe tbody tr th:only-of-type {\n",
       "        vertical-align: middle;\n",
       "    }\n",
       "\n",
       "    .dataframe tbody tr th {\n",
       "        vertical-align: top;\n",
       "    }\n",
       "\n",
       "    .dataframe thead th {\n",
       "        text-align: right;\n",
       "    }\n",
       "</style>\n",
       "<table border=\"1\" class=\"dataframe\">\n",
       "  <thead>\n",
       "    <tr style=\"text-align: right;\">\n",
       "      <th></th>\n",
       "      <th>indicators_nvt</th>\n",
       "    </tr>\n",
       "    <tr>\n",
       "      <th>t</th>\n",
       "      <th></th>\n",
       "    </tr>\n",
       "  </thead>\n",
       "  <tbody>\n",
       "    <tr>\n",
       "      <th>2020-11-16</th>\n",
       "      <td>37.064838</td>\n",
       "    </tr>\n",
       "    <tr>\n",
       "      <th>2020-11-17</th>\n",
       "      <td>30.602593</td>\n",
       "    </tr>\n",
       "  </tbody>\n",
       "</table>\n",
       "</div>"
      ],
      "text/plain": [
       "            indicators_nvt\n",
       "t                         \n",
       "2020-11-16       37.064838\n",
       "2020-11-17       30.602593"
      ]
     },
     "execution_count": 387,
     "metadata": {},
     "output_type": "execute_result"
    }
   ],
   "source": [
    "ntv = gn.get('https://api.glassnode.com/v1/metrics/indicators/nvt', a = 'btc', s='2010', u=today)\n",
    "ntv.to_csv('data/ntv.csv')\n",
    "print(ntv.shape)\n",
    "ntv.tail(2)"
   ]
  },
  {
   "cell_type": "code",
   "execution_count": 388,
   "metadata": {},
   "outputs": [
    {
     "name": "stdout",
     "output_type": "stream",
     "text": [
      "(3776, 1)\n"
     ]
    },
    {
     "data": {
      "text/html": [
       "<div>\n",
       "<style scoped>\n",
       "    .dataframe tbody tr th:only-of-type {\n",
       "        vertical-align: middle;\n",
       "    }\n",
       "\n",
       "    .dataframe tbody tr th {\n",
       "        vertical-align: top;\n",
       "    }\n",
       "\n",
       "    .dataframe thead th {\n",
       "        text-align: right;\n",
       "    }\n",
       "</style>\n",
       "<table border=\"1\" class=\"dataframe\">\n",
       "  <thead>\n",
       "    <tr style=\"text-align: right;\">\n",
       "      <th></th>\n",
       "      <th>indicators_nvts</th>\n",
       "    </tr>\n",
       "    <tr>\n",
       "      <th>t</th>\n",
       "      <th></th>\n",
       "    </tr>\n",
       "  </thead>\n",
       "  <tbody>\n",
       "    <tr>\n",
       "      <th>2020-11-16</th>\n",
       "      <td>46.073217</td>\n",
       "    </tr>\n",
       "    <tr>\n",
       "      <th>2020-11-17</th>\n",
       "      <td>47.813303</td>\n",
       "    </tr>\n",
       "  </tbody>\n",
       "</table>\n",
       "</div>"
      ],
      "text/plain": [
       "            indicators_nvts\n",
       "t                          \n",
       "2020-11-16        46.073217\n",
       "2020-11-17        47.813303"
      ]
     },
     "execution_count": 388,
     "metadata": {},
     "output_type": "execute_result"
    }
   ],
   "source": [
    "ntvs = gn.get('https://api.glassnode.com/v1/metrics/indicators/nvts', a = 'btc', s='2010', u=today)\n",
    "ntvs.to_csv('data/ntvs.csv')\n",
    "print(ntvs.shape)\n",
    "ntvs.tail(2)"
   ]
  },
  {
   "cell_type": "code",
   "execution_count": 389,
   "metadata": {},
   "outputs": [
    {
     "name": "stdout",
     "output_type": "stream",
     "text": [
      "(3748, 1)\n"
     ]
    },
    {
     "data": {
      "text/html": [
       "<div>\n",
       "<style scoped>\n",
       "    .dataframe tbody tr th:only-of-type {\n",
       "        vertical-align: middle;\n",
       "    }\n",
       "\n",
       "    .dataframe tbody tr th {\n",
       "        vertical-align: top;\n",
       "    }\n",
       "\n",
       "    .dataframe thead th {\n",
       "        text-align: right;\n",
       "    }\n",
       "</style>\n",
       "<table border=\"1\" class=\"dataframe\">\n",
       "  <thead>\n",
       "    <tr style=\"text-align: right;\">\n",
       "      <th></th>\n",
       "      <th>indicators_reserve_risk</th>\n",
       "    </tr>\n",
       "    <tr>\n",
       "      <th>t</th>\n",
       "      <th></th>\n",
       "    </tr>\n",
       "  </thead>\n",
       "  <tbody>\n",
       "    <tr>\n",
       "      <th>2020-11-16</th>\n",
       "      <td>0.002673</td>\n",
       "    </tr>\n",
       "    <tr>\n",
       "      <th>2020-11-17</th>\n",
       "      <td>0.002785</td>\n",
       "    </tr>\n",
       "  </tbody>\n",
       "</table>\n",
       "</div>"
      ],
      "text/plain": [
       "            indicators_reserve_risk\n",
       "t                                  \n",
       "2020-11-16                 0.002673\n",
       "2020-11-17                 0.002785"
      ]
     },
     "execution_count": 389,
     "metadata": {},
     "output_type": "execute_result"
    }
   ],
   "source": [
    "reserve_risk = gn.get('https://api.glassnode.com/v1/metrics/indicators/reserve_risk', a = 'btc', s='2010', u=today)\n",
    "reserve_risk.to_csv('data/reserve_risk.csv')\n",
    "print(reserve_risk.shape)\n",
    "reserve_risk.tail(2)"
   ]
  },
  {
   "cell_type": "code",
   "execution_count": 390,
   "metadata": {},
   "outputs": [
    {
     "name": "stdout",
     "output_type": "stream",
     "text": [
      "(3974, 1)\n"
     ]
    },
    {
     "data": {
      "text/html": [
       "<div>\n",
       "<style scoped>\n",
       "    .dataframe tbody tr th:only-of-type {\n",
       "        vertical-align: middle;\n",
       "    }\n",
       "\n",
       "    .dataframe tbody tr th {\n",
       "        vertical-align: top;\n",
       "    }\n",
       "\n",
       "    .dataframe thead th {\n",
       "        text-align: right;\n",
       "    }\n",
       "</style>\n",
       "<table border=\"1\" class=\"dataframe\">\n",
       "  <thead>\n",
       "    <tr style=\"text-align: right;\">\n",
       "      <th></th>\n",
       "      <th>indicators_liveliness</th>\n",
       "    </tr>\n",
       "    <tr>\n",
       "      <th>t</th>\n",
       "      <th></th>\n",
       "    </tr>\n",
       "  </thead>\n",
       "  <tbody>\n",
       "    <tr>\n",
       "      <th>2020-11-16</th>\n",
       "      <td>0.601580</td>\n",
       "    </tr>\n",
       "    <tr>\n",
       "      <th>2020-11-17</th>\n",
       "      <td>0.601637</td>\n",
       "    </tr>\n",
       "  </tbody>\n",
       "</table>\n",
       "</div>"
      ],
      "text/plain": [
       "            indicators_liveliness\n",
       "t                                \n",
       "2020-11-16               0.601580\n",
       "2020-11-17               0.601637"
      ]
     },
     "execution_count": 390,
     "metadata": {},
     "output_type": "execute_result"
    }
   ],
   "source": [
    "liveliness = gn.get('https://api.glassnode.com/v1/metrics/indicators/liveliness', a = 'btc', s='2010', u=today)\n",
    "liveliness.to_csv('data/liveliness.csv')\n",
    "print(liveliness.shape)\n",
    "liveliness.tail(2)"
   ]
  },
  {
   "cell_type": "code",
   "execution_count": 391,
   "metadata": {},
   "outputs": [
    {
     "name": "stdout",
     "output_type": "stream",
     "text": [
      "(3777, 1)\n"
     ]
    },
    {
     "data": {
      "text/html": [
       "<div>\n",
       "<style scoped>\n",
       "    .dataframe tbody tr th:only-of-type {\n",
       "        vertical-align: middle;\n",
       "    }\n",
       "\n",
       "    .dataframe tbody tr th {\n",
       "        vertical-align: top;\n",
       "    }\n",
       "\n",
       "    .dataframe thead th {\n",
       "        text-align: right;\n",
       "    }\n",
       "</style>\n",
       "<table border=\"1\" class=\"dataframe\">\n",
       "  <thead>\n",
       "    <tr style=\"text-align: right;\">\n",
       "      <th></th>\n",
       "      <th>indicators_realized_profit</th>\n",
       "    </tr>\n",
       "    <tr>\n",
       "      <th>t</th>\n",
       "      <th></th>\n",
       "    </tr>\n",
       "  </thead>\n",
       "  <tbody>\n",
       "    <tr>\n",
       "      <th>2020-11-16</th>\n",
       "      <td>3.902352e+08</td>\n",
       "    </tr>\n",
       "    <tr>\n",
       "      <th>2020-11-17</th>\n",
       "      <td>8.380966e+08</td>\n",
       "    </tr>\n",
       "  </tbody>\n",
       "</table>\n",
       "</div>"
      ],
      "text/plain": [
       "            indicators_realized_profit\n",
       "t                                     \n",
       "2020-11-16                3.902352e+08\n",
       "2020-11-17                8.380966e+08"
      ]
     },
     "execution_count": 391,
     "metadata": {},
     "output_type": "execute_result"
    }
   ],
   "source": [
    "realized_profit = gn.get('https://api.glassnode.com/v1/metrics/indicators/realized_profit', a = 'btc', s='2010', u=today)\n",
    "realized_profit.to_csv('data/realized_profit.csv')\n",
    "print(realized_profit.shape)\n",
    "realized_profit.tail(2)"
   ]
  },
  {
   "cell_type": "code",
   "execution_count": 392,
   "metadata": {},
   "outputs": [
    {
     "name": "stdout",
     "output_type": "stream",
     "text": [
      "(3776, 1)\n"
     ]
    },
    {
     "data": {
      "text/html": [
       "<div>\n",
       "<style scoped>\n",
       "    .dataframe tbody tr th:only-of-type {\n",
       "        vertical-align: middle;\n",
       "    }\n",
       "\n",
       "    .dataframe tbody tr th {\n",
       "        vertical-align: top;\n",
       "    }\n",
       "\n",
       "    .dataframe thead th {\n",
       "        text-align: right;\n",
       "    }\n",
       "</style>\n",
       "<table border=\"1\" class=\"dataframe\">\n",
       "  <thead>\n",
       "    <tr style=\"text-align: right;\">\n",
       "      <th></th>\n",
       "      <th>indicators_net_unrealized_profit_loss</th>\n",
       "    </tr>\n",
       "    <tr>\n",
       "      <th>t</th>\n",
       "      <th></th>\n",
       "    </tr>\n",
       "  </thead>\n",
       "  <tbody>\n",
       "    <tr>\n",
       "      <th>2020-11-16</th>\n",
       "      <td>0.58360</td>\n",
       "    </tr>\n",
       "    <tr>\n",
       "      <th>2020-11-17</th>\n",
       "      <td>0.60368</td>\n",
       "    </tr>\n",
       "  </tbody>\n",
       "</table>\n",
       "</div>"
      ],
      "text/plain": [
       "            indicators_net_unrealized_profit_loss\n",
       "t                                                \n",
       "2020-11-16                                0.58360\n",
       "2020-11-17                                0.60368"
      ]
     },
     "execution_count": 392,
     "metadata": {},
     "output_type": "execute_result"
    }
   ],
   "source": [
    "nupl = gn.get('https://api.glassnode.com/v1/metrics/indicators/net_unrealized_profit_loss', a = 'btc', s='2010', u=today)\n",
    "nupl.to_csv('data/nupl.csv')\n",
    "print(nupl.shape)\n",
    "nupl.tail(2)"
   ]
  },
  {
   "cell_type": "code",
   "execution_count": 393,
   "metadata": {},
   "outputs": [
    {
     "name": "stdout",
     "output_type": "stream",
     "text": [
      "(3622, 1)\n"
     ]
    },
    {
     "data": {
      "text/html": [
       "<div>\n",
       "<style scoped>\n",
       "    .dataframe tbody tr th:only-of-type {\n",
       "        vertical-align: middle;\n",
       "    }\n",
       "\n",
       "    .dataframe tbody tr th {\n",
       "        vertical-align: top;\n",
       "    }\n",
       "\n",
       "    .dataframe thead th {\n",
       "        text-align: right;\n",
       "    }\n",
       "</style>\n",
       "<table border=\"1\" class=\"dataframe\">\n",
       "  <thead>\n",
       "    <tr style=\"text-align: right;\">\n",
       "      <th></th>\n",
       "      <th>indicators_nupl_more_155</th>\n",
       "    </tr>\n",
       "    <tr>\n",
       "      <th>t</th>\n",
       "      <th></th>\n",
       "    </tr>\n",
       "  </thead>\n",
       "  <tbody>\n",
       "    <tr>\n",
       "      <th>2020-11-16</th>\n",
       "      <td>0.664884</td>\n",
       "    </tr>\n",
       "    <tr>\n",
       "      <th>2020-11-17</th>\n",
       "      <td>0.682597</td>\n",
       "    </tr>\n",
       "  </tbody>\n",
       "</table>\n",
       "</div>"
      ],
      "text/plain": [
       "            indicators_nupl_more_155\n",
       "t                                   \n",
       "2020-11-16                  0.664884\n",
       "2020-11-17                  0.682597"
      ]
     },
     "execution_count": 393,
     "metadata": {},
     "output_type": "execute_result"
    }
   ],
   "source": [
    "lt_nupl = gn.get('https://api.glassnode.com/v1/metrics/indicators/nupl_more_155', a = 'btc', s='2010', u=today)\n",
    "lt_nupl.to_csv('data/lt_nupl.csv')\n",
    "print(lt_nupl.shape)\n",
    "lt_nupl.tail(2)"
   ]
  },
  {
   "cell_type": "code",
   "execution_count": 394,
   "metadata": {},
   "outputs": [
    {
     "name": "stdout",
     "output_type": "stream",
     "text": [
      "(3413, 1)\n"
     ]
    },
    {
     "data": {
      "text/html": [
       "<div>\n",
       "<style scoped>\n",
       "    .dataframe tbody tr th:only-of-type {\n",
       "        vertical-align: middle;\n",
       "    }\n",
       "\n",
       "    .dataframe tbody tr th {\n",
       "        vertical-align: top;\n",
       "    }\n",
       "\n",
       "    .dataframe thead th {\n",
       "        text-align: right;\n",
       "    }\n",
       "</style>\n",
       "<table border=\"1\" class=\"dataframe\">\n",
       "  <thead>\n",
       "    <tr style=\"text-align: right;\">\n",
       "      <th></th>\n",
       "      <th>indicators_puell_multiple</th>\n",
       "    </tr>\n",
       "    <tr>\n",
       "      <th>t</th>\n",
       "      <th></th>\n",
       "    </tr>\n",
       "  </thead>\n",
       "  <tbody>\n",
       "    <tr>\n",
       "      <th>2020-11-16</th>\n",
       "      <td>1.353830</td>\n",
       "    </tr>\n",
       "    <tr>\n",
       "      <th>2020-11-17</th>\n",
       "      <td>1.386802</td>\n",
       "    </tr>\n",
       "  </tbody>\n",
       "</table>\n",
       "</div>"
      ],
      "text/plain": [
       "            indicators_puell_multiple\n",
       "t                                    \n",
       "2020-11-16                   1.353830\n",
       "2020-11-17                   1.386802"
      ]
     },
     "execution_count": 394,
     "metadata": {},
     "output_type": "execute_result"
    }
   ],
   "source": [
    "puell = gn.get('https://api.glassnode.com/v1/metrics/indicators/puell_multiple', a = 'btc', s='2010', u=today)\n",
    "puell.to_csv('data/puell.csv')\n",
    "print(puell.shape)\n",
    "puell.tail(2)"
   ]
  },
  {
   "cell_type": "code",
   "execution_count": 395,
   "metadata": {},
   "outputs": [
    {
     "name": "stdout",
     "output_type": "stream",
     "text": [
      "(3608, 1)\n"
     ]
    },
    {
     "data": {
      "text/html": [
       "<div>\n",
       "<style scoped>\n",
       "    .dataframe tbody tr th:only-of-type {\n",
       "        vertical-align: middle;\n",
       "    }\n",
       "\n",
       "    .dataframe tbody tr th {\n",
       "        vertical-align: top;\n",
       "    }\n",
       "\n",
       "    .dataframe thead th {\n",
       "        text-align: right;\n",
       "    }\n",
       "</style>\n",
       "<table border=\"1\" class=\"dataframe\">\n",
       "  <thead>\n",
       "    <tr style=\"text-align: right;\">\n",
       "      <th></th>\n",
       "      <th>indicators_hodled_lost_coins</th>\n",
       "    </tr>\n",
       "    <tr>\n",
       "      <th>t</th>\n",
       "      <th></th>\n",
       "    </tr>\n",
       "  </thead>\n",
       "  <tbody>\n",
       "    <tr>\n",
       "      <th>2019-11-16</th>\n",
       "      <td>7.026274e+06</td>\n",
       "    </tr>\n",
       "    <tr>\n",
       "      <th>2019-11-17</th>\n",
       "      <td>7.030735e+06</td>\n",
       "    </tr>\n",
       "  </tbody>\n",
       "</table>\n",
       "</div>"
      ],
      "text/plain": [
       "            indicators_hodled_lost_coins\n",
       "t                                       \n",
       "2019-11-16                  7.026274e+06\n",
       "2019-11-17                  7.030735e+06"
      ]
     },
     "execution_count": 395,
     "metadata": {},
     "output_type": "execute_result"
    }
   ],
   "source": [
    "hodled_lost = gn.get('https://api.glassnode.com/v1/metrics/indicators/hodled_lost_coins', a = 'btc', s='2010', u=today)\n",
    "hodled_lost.to_csv('data/hodled_lost.csv')\n",
    "print(hodled_lost.shape)\n",
    "hodled_lost.tail(2)"
   ]
  },
  {
   "cell_type": "code",
   "execution_count": 396,
   "metadata": {},
   "outputs": [
    {
     "name": "stdout",
     "output_type": "stream",
     "text": [
      "(3973, 2)\n"
     ]
    },
    {
     "data": {
      "text/html": [
       "<div>\n",
       "<style scoped>\n",
       "    .dataframe tbody tr th:only-of-type {\n",
       "        vertical-align: middle;\n",
       "    }\n",
       "\n",
       "    .dataframe tbody tr th {\n",
       "        vertical-align: top;\n",
       "    }\n",
       "\n",
       "    .dataframe thead th {\n",
       "        text-align: right;\n",
       "    }\n",
       "</style>\n",
       "<table border=\"1\" class=\"dataframe\">\n",
       "  <thead>\n",
       "    <tr style=\"text-align: right;\">\n",
       "      <th></th>\n",
       "      <th>daysTillHalving</th>\n",
       "      <th>indicators_s2f_ratio</th>\n",
       "    </tr>\n",
       "    <tr>\n",
       "      <th>t</th>\n",
       "      <th></th>\n",
       "      <th></th>\n",
       "    </tr>\n",
       "  </thead>\n",
       "  <tbody>\n",
       "    <tr>\n",
       "      <th>2020-11-16</th>\n",
       "      <td>1259.0</td>\n",
       "      <td>26083.099434</td>\n",
       "    </tr>\n",
       "    <tr>\n",
       "      <th>2020-11-17</th>\n",
       "      <td>1258.0</td>\n",
       "      <td>26225.437940</td>\n",
       "    </tr>\n",
       "  </tbody>\n",
       "</table>\n",
       "</div>"
      ],
      "text/plain": [
       "            daysTillHalving  indicators_s2f_ratio\n",
       "t                                                \n",
       "2020-11-16           1259.0          26083.099434\n",
       "2020-11-17           1258.0          26225.437940"
      ]
     },
     "execution_count": 396,
     "metadata": {},
     "output_type": "execute_result"
    }
   ],
   "source": [
    "s2f = gn.get('https://api.glassnode.com/v1/metrics/indicators/stock_to_flow_ratio', a = 'btc', s='2010', u=today)\n",
    "s2f_df = pd.DataFrame()\n",
    "for i in range(len(s2f['o'])):\n",
    "    df = pd.DataFrame(s2f.iloc[i]['o'].values()).T\n",
    "    df.columns = s2f.iloc[i]['o'].keys()\n",
    "    s2f_df =pd.concat([s2f_df, df])\n",
    "s2f_df.index = s2f.index\n",
    "s2f_df.rename(columns={'ratio':'indicators_s2f_ratio'}, inplace=True)\n",
    "s2f = s2f_df\n",
    "print(s2f.shape)\n",
    "s2f.to_csv('data/s2f.csv')\n",
    "s2f.tail(2)"
   ]
  },
  {
   "cell_type": "code",
   "execution_count": 397,
   "metadata": {},
   "outputs": [
    {
     "name": "stdout",
     "output_type": "stream",
     "text": [
      "(3410, 1)\n"
     ]
    },
    {
     "data": {
      "text/html": [
       "<div>\n",
       "<style scoped>\n",
       "    .dataframe tbody tr th:only-of-type {\n",
       "        vertical-align: middle;\n",
       "    }\n",
       "\n",
       "    .dataframe tbody tr th {\n",
       "        vertical-align: top;\n",
       "    }\n",
       "\n",
       "    .dataframe thead th {\n",
       "        text-align: right;\n",
       "    }\n",
       "</style>\n",
       "<table border=\"1\" class=\"dataframe\">\n",
       "  <thead>\n",
       "    <tr style=\"text-align: right;\">\n",
       "      <th></th>\n",
       "      <th>indicators_sopr_account_based</th>\n",
       "    </tr>\n",
       "    <tr>\n",
       "      <th>t</th>\n",
       "      <th></th>\n",
       "    </tr>\n",
       "  </thead>\n",
       "  <tbody>\n",
       "    <tr>\n",
       "      <th>2019-11-16</th>\n",
       "      <td>0.986496</td>\n",
       "    </tr>\n",
       "    <tr>\n",
       "      <th>2019-11-17</th>\n",
       "      <td>0.998638</td>\n",
       "    </tr>\n",
       "  </tbody>\n",
       "</table>\n",
       "</div>"
      ],
      "text/plain": [
       "            indicators_sopr_account_based\n",
       "t                                        \n",
       "2019-11-16                       0.986496\n",
       "2019-11-17                       0.998638"
      ]
     },
     "execution_count": 397,
     "metadata": {},
     "output_type": "execute_result"
    }
   ],
   "source": [
    "ent_adj_sopr = gn.get('https://api.glassnode.com/v1/metrics/indicators/sopr_account_based', a = 'btc', s='2010', u=today)\n",
    "ent_adj_sopr.to_csv('data/ent_adj_sopr.csv')\n",
    "print(ent_adj_sopr.shape)\n",
    "ent_adj_sopr.tail(2)"
   ]
  },
  {
   "cell_type": "code",
   "execution_count": 398,
   "metadata": {},
   "outputs": [
    {
     "name": "stdout",
     "output_type": "stream",
     "text": [
      "(3608, 1)\n"
     ]
    },
    {
     "data": {
      "text/html": [
       "<div>\n",
       "<style scoped>\n",
       "    .dataframe tbody tr th:only-of-type {\n",
       "        vertical-align: middle;\n",
       "    }\n",
       "\n",
       "    .dataframe tbody tr th {\n",
       "        vertical-align: top;\n",
       "    }\n",
       "\n",
       "    .dataframe thead th {\n",
       "        text-align: right;\n",
       "    }\n",
       "</style>\n",
       "<table border=\"1\" class=\"dataframe\">\n",
       "  <thead>\n",
       "    <tr style=\"text-align: right;\">\n",
       "      <th></th>\n",
       "      <th>indicators_liveliness_account_based</th>\n",
       "    </tr>\n",
       "    <tr>\n",
       "      <th>t</th>\n",
       "      <th></th>\n",
       "    </tr>\n",
       "  </thead>\n",
       "  <tbody>\n",
       "    <tr>\n",
       "      <th>2019-11-16</th>\n",
       "      <td>0.610623</td>\n",
       "    </tr>\n",
       "    <tr>\n",
       "      <th>2019-11-17</th>\n",
       "      <td>0.610432</td>\n",
       "    </tr>\n",
       "  </tbody>\n",
       "</table>\n",
       "</div>"
      ],
      "text/plain": [
       "            indicators_liveliness_account_based\n",
       "t                                              \n",
       "2019-11-16                             0.610623\n",
       "2019-11-17                             0.610432"
      ]
     },
     "execution_count": 398,
     "metadata": {},
     "output_type": "execute_result"
    }
   ],
   "source": [
    "ent_adj_liv = gn.get('https://api.glassnode.com/v1/metrics/indicators/liveliness_account_based', a = 'btc', s='2010', u=today)\n",
    "ent_adj_liv.to_csv('data/ent_adj_liv.csv')\n",
    "print(ent_adj_liv.shape)\n",
    "ent_adj_liv.tail(2)"
   ]
  },
  {
   "cell_type": "code",
   "execution_count": 399,
   "metadata": {},
   "outputs": [
    {
     "name": "stdout",
     "output_type": "stream",
     "text": [
      "(3410, 1)\n"
     ]
    },
    {
     "data": {
      "text/html": [
       "<div>\n",
       "<style scoped>\n",
       "    .dataframe tbody tr th:only-of-type {\n",
       "        vertical-align: middle;\n",
       "    }\n",
       "\n",
       "    .dataframe tbody tr th {\n",
       "        vertical-align: top;\n",
       "    }\n",
       "\n",
       "    .dataframe thead th {\n",
       "        text-align: right;\n",
       "    }\n",
       "</style>\n",
       "<table border=\"1\" class=\"dataframe\">\n",
       "  <thead>\n",
       "    <tr style=\"text-align: right;\">\n",
       "      <th></th>\n",
       "      <th>indicators_mvrv_account_based</th>\n",
       "    </tr>\n",
       "    <tr>\n",
       "      <th>t</th>\n",
       "      <th></th>\n",
       "    </tr>\n",
       "  </thead>\n",
       "  <tbody>\n",
       "    <tr>\n",
       "      <th>2019-11-16</th>\n",
       "      <td>1.450571</td>\n",
       "    </tr>\n",
       "    <tr>\n",
       "      <th>2019-11-17</th>\n",
       "      <td>1.461887</td>\n",
       "    </tr>\n",
       "  </tbody>\n",
       "</table>\n",
       "</div>"
      ],
      "text/plain": [
       "            indicators_mvrv_account_based\n",
       "t                                        \n",
       "2019-11-16                       1.450571\n",
       "2019-11-17                       1.461887"
      ]
     },
     "execution_count": 399,
     "metadata": {},
     "output_type": "execute_result"
    }
   ],
   "source": [
    "ent_adj_mvrv = gn.get('https://api.glassnode.com/v1/metrics/indicators/mvrv_account_based', a = 'btc', s='2010', u=today)\n",
    "ent_adj_mvrv.to_csv('data/ent_adj_mvrv.csv')\n",
    "print(ent_adj_mvrv.shape)\n",
    "ent_adj_mvrv.tail(2)"
   ]
  },
  {
   "cell_type": "code",
   "execution_count": 400,
   "metadata": {},
   "outputs": [
    {
     "name": "stdout",
     "output_type": "stream",
     "text": [
      "(3410, 1)\n"
     ]
    },
    {
     "data": {
      "text/html": [
       "<div>\n",
       "<style scoped>\n",
       "    .dataframe tbody tr th:only-of-type {\n",
       "        vertical-align: middle;\n",
       "    }\n",
       "\n",
       "    .dataframe tbody tr th {\n",
       "        vertical-align: top;\n",
       "    }\n",
       "\n",
       "    .dataframe thead th {\n",
       "        text-align: right;\n",
       "    }\n",
       "</style>\n",
       "<table border=\"1\" class=\"dataframe\">\n",
       "  <thead>\n",
       "    <tr style=\"text-align: right;\">\n",
       "      <th></th>\n",
       "      <th>indicators_net_unrealized_profit_loss_account_based</th>\n",
       "    </tr>\n",
       "    <tr>\n",
       "      <th>t</th>\n",
       "      <th></th>\n",
       "    </tr>\n",
       "  </thead>\n",
       "  <tbody>\n",
       "    <tr>\n",
       "      <th>2019-11-16</th>\n",
       "      <td>0.311655</td>\n",
       "    </tr>\n",
       "    <tr>\n",
       "      <th>2019-11-17</th>\n",
       "      <td>0.313732</td>\n",
       "    </tr>\n",
       "  </tbody>\n",
       "</table>\n",
       "</div>"
      ],
      "text/plain": [
       "            indicators_net_unrealized_profit_loss_account_based\n",
       "t                                                              \n",
       "2019-11-16                                           0.311655  \n",
       "2019-11-17                                           0.313732  "
      ]
     },
     "execution_count": 400,
     "metadata": {},
     "output_type": "execute_result"
    }
   ],
   "source": [
    "ent_adj_nupl = gn.get('https://api.glassnode.com/v1/metrics/indicators/net_unrealized_profit_loss_account_based', a = 'btc', s='2010', u=today)\n",
    "ent_adj_nupl.to_csv('data/ent_adj_nupl.csv')\n",
    "print(ent_adj_nupl.shape)\n",
    "ent_adj_nupl.tail(2)"
   ]
  },
  {
   "cell_type": "code",
   "execution_count": 401,
   "metadata": {},
   "outputs": [
    {
     "name": "stdout",
     "output_type": "stream",
     "text": [
      "(3410, 1)\n"
     ]
    },
    {
     "data": {
      "text/html": [
       "<div>\n",
       "<style scoped>\n",
       "    .dataframe tbody tr th:only-of-type {\n",
       "        vertical-align: middle;\n",
       "    }\n",
       "\n",
       "    .dataframe tbody tr th {\n",
       "        vertical-align: top;\n",
       "    }\n",
       "\n",
       "    .dataframe thead th {\n",
       "        text-align: right;\n",
       "    }\n",
       "</style>\n",
       "<table border=\"1\" class=\"dataframe\">\n",
       "  <thead>\n",
       "    <tr style=\"text-align: right;\">\n",
       "      <th></th>\n",
       "      <th>indicators_nupl_more_155_account_based</th>\n",
       "    </tr>\n",
       "    <tr>\n",
       "      <th>t</th>\n",
       "      <th></th>\n",
       "    </tr>\n",
       "  </thead>\n",
       "  <tbody>\n",
       "    <tr>\n",
       "      <th>2019-11-16</th>\n",
       "      <td>0.484264</td>\n",
       "    </tr>\n",
       "    <tr>\n",
       "      <th>2019-11-17</th>\n",
       "      <td>0.485393</td>\n",
       "    </tr>\n",
       "  </tbody>\n",
       "</table>\n",
       "</div>"
      ],
      "text/plain": [
       "            indicators_nupl_more_155_account_based\n",
       "t                                                 \n",
       "2019-11-16                                0.484264\n",
       "2019-11-17                                0.485393"
      ]
     },
     "execution_count": 401,
     "metadata": {},
     "output_type": "execute_result"
    }
   ],
   "source": [
    "ent_adj_lth_nupl = gn.get('https://api.glassnode.com/v1/metrics/indicators/nupl_more_155_account_based', a = 'btc', s='2010', u=today)\n",
    "ent_adj_lth_nupl.to_csv('data/ent_adj_lth_nupl.csv')\n",
    "print(ent_adj_lth_nupl.shape)\n",
    "ent_adj_lth_nupl.tail(2)"
   ]
  },
  {
   "cell_type": "code",
   "execution_count": 402,
   "metadata": {},
   "outputs": [
    {
     "name": "stdout",
     "output_type": "stream",
     "text": [
      "(3974, 8)\n"
     ]
    },
    {
     "data": {
      "text/html": [
       "<div>\n",
       "<style scoped>\n",
       "    .dataframe tbody tr th:only-of-type {\n",
       "        vertical-align: middle;\n",
       "    }\n",
       "\n",
       "    .dataframe tbody tr th {\n",
       "        vertical-align: top;\n",
       "    }\n",
       "\n",
       "    .dataframe thead th {\n",
       "        text-align: right;\n",
       "    }\n",
       "</style>\n",
       "<table border=\"1\" class=\"dataframe\">\n",
       "  <thead>\n",
       "    <tr style=\"text-align: right;\">\n",
       "      <th></th>\n",
       "      <th>ma128</th>\n",
       "      <th>ma14</th>\n",
       "      <th>ma200</th>\n",
       "      <th>ma25</th>\n",
       "      <th>ma40</th>\n",
       "      <th>ma60</th>\n",
       "      <th>ma9</th>\n",
       "      <th>ma90</th>\n",
       "    </tr>\n",
       "    <tr>\n",
       "      <th>t</th>\n",
       "      <th></th>\n",
       "      <th></th>\n",
       "      <th></th>\n",
       "      <th></th>\n",
       "      <th></th>\n",
       "      <th></th>\n",
       "      <th></th>\n",
       "      <th></th>\n",
       "    </tr>\n",
       "  </thead>\n",
       "  <tbody>\n",
       "    <tr>\n",
       "      <th>2020-11-16</th>\n",
       "      <td>77180073821717140000000</td>\n",
       "      <td>72351158730542190000000</td>\n",
       "      <td>73182121023015186000000</td>\n",
       "      <td>78307326694542320000000</td>\n",
       "      <td>80474311801159200000000</td>\n",
       "      <td>81014891970678720000000</td>\n",
       "      <td>72489044471334306000000</td>\n",
       "      <td>78890047893913510000000</td>\n",
       "    </tr>\n",
       "    <tr>\n",
       "      <th>2020-11-17</th>\n",
       "      <td>77240894031957930000000</td>\n",
       "      <td>72599353063967990000000</td>\n",
       "      <td>73217299999143180000000</td>\n",
       "      <td>77894917933014630000000</td>\n",
       "      <td>80291637594277270000000</td>\n",
       "      <td>81032845166880780000000</td>\n",
       "      <td>72875124545552210000000</td>\n",
       "      <td>78921019319488000000000</td>\n",
       "    </tr>\n",
       "  </tbody>\n",
       "</table>\n",
       "</div>"
      ],
      "text/plain": [
       "                              ma128                     ma14  \\\n",
       "t                                                              \n",
       "2020-11-16  77180073821717140000000  72351158730542190000000   \n",
       "2020-11-17  77240894031957930000000  72599353063967990000000   \n",
       "\n",
       "                              ma200                     ma25  \\\n",
       "t                                                              \n",
       "2020-11-16  73182121023015186000000  78307326694542320000000   \n",
       "2020-11-17  73217299999143180000000  77894917933014630000000   \n",
       "\n",
       "                               ma40                     ma60  \\\n",
       "t                                                              \n",
       "2020-11-16  80474311801159200000000  81014891970678720000000   \n",
       "2020-11-17  80291637594277270000000  81032845166880780000000   \n",
       "\n",
       "                                ma9                     ma90  \n",
       "t                                                             \n",
       "2020-11-16  72489044471334306000000  78890047893913510000000  \n",
       "2020-11-17  72875124545552210000000  78921019319488000000000  "
      ]
     },
     "execution_count": 402,
     "metadata": {},
     "output_type": "execute_result"
    }
   ],
   "source": [
    "diff_ribbon = gn.get('https://api.glassnode.com/v1/metrics/indicators/difficulty_ribbon', a = 'btc', s='2010', u=today)\n",
    "diff_ribbon_df = pd.DataFrame()\n",
    "for i in range(len(diff_ribbon['o'])):\n",
    "    df = pd.DataFrame(diff_ribbon.iloc[i]['o'].values()).T\n",
    "    df.columns = diff_ribbon.iloc[i]['o'].keys()\n",
    "    diff_ribbon_df =pd.concat([diff_ribbon_df, df])\n",
    "diff_ribbon_df.index = diff_ribbon.index\n",
    "diff_ribbon = diff_ribbon_df\n",
    "print(diff_ribbon.shape)\n",
    "diff_ribbon.to_csv('data/diff_ribbon.csv')\n",
    "diff_ribbon.tail(2)"
   ]
  },
  {
   "cell_type": "code",
   "execution_count": 403,
   "metadata": {},
   "outputs": [
    {
     "name": "stdout",
     "output_type": "stream",
     "text": [
      "(3974, 1)\n"
     ]
    },
    {
     "data": {
      "text/html": [
       "<div>\n",
       "<style scoped>\n",
       "    .dataframe tbody tr th:only-of-type {\n",
       "        vertical-align: middle;\n",
       "    }\n",
       "\n",
       "    .dataframe tbody tr th {\n",
       "        vertical-align: top;\n",
       "    }\n",
       "\n",
       "    .dataframe thead th {\n",
       "        text-align: right;\n",
       "    }\n",
       "</style>\n",
       "<table border=\"1\" class=\"dataframe\">\n",
       "  <thead>\n",
       "    <tr style=\"text-align: right;\">\n",
       "      <th></th>\n",
       "      <th>indicators_difficulty_ribbon_compression</th>\n",
       "    </tr>\n",
       "    <tr>\n",
       "      <th>t</th>\n",
       "      <th></th>\n",
       "    </tr>\n",
       "  </thead>\n",
       "  <tbody>\n",
       "    <tr>\n",
       "      <th>2020-11-16</th>\n",
       "      <td>0.043584</td>\n",
       "    </tr>\n",
       "    <tr>\n",
       "      <th>2020-11-17</th>\n",
       "      <td>0.041677</td>\n",
       "    </tr>\n",
       "  </tbody>\n",
       "</table>\n",
       "</div>"
      ],
      "text/plain": [
       "            indicators_difficulty_ribbon_compression\n",
       "t                                                   \n",
       "2020-11-16                                  0.043584\n",
       "2020-11-17                                  0.041677"
      ]
     },
     "execution_count": 403,
     "metadata": {},
     "output_type": "execute_result"
    }
   ],
   "source": [
    "diff_ribbon_comp = gn.get('https://api.glassnode.com/v1/metrics/indicators/difficulty_ribbon_compression', a = 'btc', s='2010', u=today)\n",
    "diff_ribbon_comp.to_csv('data/diff_ribbon_comp.csv')\n",
    "print(diff_ribbon_comp.shape)\n",
    "diff_ribbon_comp.tail(2)"
   ]
  },
  {
   "cell_type": "code",
   "execution_count": 404,
   "metadata": {},
   "outputs": [
    {
     "name": "stdout",
     "output_type": "stream",
     "text": [
      "(3974, 3)\n"
     ]
    },
    {
     "data": {
      "text/html": [
       "<div>\n",
       "<style scoped>\n",
       "    .dataframe tbody tr th:only-of-type {\n",
       "        vertical-align: middle;\n",
       "    }\n",
       "\n",
       "    .dataframe tbody tr th {\n",
       "        vertical-align: top;\n",
       "    }\n",
       "\n",
       "    .dataframe thead th {\n",
       "        text-align: right;\n",
       "    }\n",
       "</style>\n",
       "<table border=\"1\" class=\"dataframe\">\n",
       "  <thead>\n",
       "    <tr style=\"text-align: right;\">\n",
       "      <th></th>\n",
       "      <th>crossed</th>\n",
       "      <th>ma30</th>\n",
       "      <th>ma60</th>\n",
       "    </tr>\n",
       "    <tr>\n",
       "      <th>t</th>\n",
       "      <th></th>\n",
       "      <th></th>\n",
       "      <th></th>\n",
       "    </tr>\n",
       "  </thead>\n",
       "  <tbody>\n",
       "    <tr>\n",
       "      <th>2020-11-16</th>\n",
       "      <td>0</td>\n",
       "      <td>122524246548091880000</td>\n",
       "      <td>131289406658736650000</td>\n",
       "    </tr>\n",
       "    <tr>\n",
       "      <th>2020-11-17</th>\n",
       "      <td>0</td>\n",
       "      <td>123017049700365860000</td>\n",
       "      <td>131182436886566190000</td>\n",
       "    </tr>\n",
       "  </tbody>\n",
       "</table>\n",
       "</div>"
      ],
      "text/plain": [
       "           crossed                   ma30                   ma60\n",
       "t                                                               \n",
       "2020-11-16       0  122524246548091880000  131289406658736650000\n",
       "2020-11-17       0  123017049700365860000  131182436886566190000"
      ]
     },
     "execution_count": 404,
     "metadata": {},
     "output_type": "execute_result"
    }
   ],
   "source": [
    "hash_ribbon = gn.get('https://api.glassnode.com/v1/metrics/indicators/hash_ribbon', a = 'btc', s='2010', u=today)\n",
    "hash_ribbon_df = pd.DataFrame()\n",
    "for i in range(len(hash_ribbon['o'])):\n",
    "    df = pd.DataFrame(hash_ribbon.iloc[i]['o'].values()).T\n",
    "    df.columns = hash_ribbon.iloc[i]['o'].keys()\n",
    "    hash_ribbon_df =pd.concat([hash_ribbon_df, df])\n",
    "hash_ribbon_df.index = hash_ribbon.index\n",
    "hash_ribbon = hash_ribbon_df\n",
    "print(hash_ribbon.shape)\n",
    "hash_ribbon.to_csv('data/hash_ribbon.csv')\n",
    "hash_ribbon.tail(2)"
   ]
  },
  {
   "cell_type": "code",
   "execution_count": 405,
   "metadata": {},
   "outputs": [],
   "source": [
    "# Blockchain"
   ]
  },
  {
   "cell_type": "code",
   "execution_count": 406,
   "metadata": {},
   "outputs": [
    {
     "name": "stdout",
     "output_type": "stream",
     "text": [
      "(3974, 1)\n"
     ]
    },
    {
     "data": {
      "text/html": [
       "<div>\n",
       "<style scoped>\n",
       "    .dataframe tbody tr th:only-of-type {\n",
       "        vertical-align: middle;\n",
       "    }\n",
       "\n",
       "    .dataframe tbody tr th {\n",
       "        vertical-align: top;\n",
       "    }\n",
       "\n",
       "    .dataframe thead th {\n",
       "        text-align: right;\n",
       "    }\n",
       "</style>\n",
       "<table border=\"1\" class=\"dataframe\">\n",
       "  <thead>\n",
       "    <tr style=\"text-align: right;\">\n",
       "      <th></th>\n",
       "      <th>blockchain_block_height</th>\n",
       "    </tr>\n",
       "    <tr>\n",
       "      <th>t</th>\n",
       "      <th></th>\n",
       "    </tr>\n",
       "  </thead>\n",
       "  <tbody>\n",
       "    <tr>\n",
       "      <th>2020-11-16</th>\n",
       "      <td>657265</td>\n",
       "    </tr>\n",
       "    <tr>\n",
       "      <th>2020-11-17</th>\n",
       "      <td>657422</td>\n",
       "    </tr>\n",
       "  </tbody>\n",
       "</table>\n",
       "</div>"
      ],
      "text/plain": [
       "            blockchain_block_height\n",
       "t                                  \n",
       "2020-11-16                   657265\n",
       "2020-11-17                   657422"
      ]
     },
     "execution_count": 406,
     "metadata": {},
     "output_type": "execute_result"
    }
   ],
   "source": [
    "block_height = gn.get('https://api.glassnode.com/v1/metrics/blockchain/block_height', a = 'btc', s='2010', u=today)\n",
    "block_height.to_csv('data/block_height.csv')\n",
    "print(block_height.shape)\n",
    "block_height.tail(2)"
   ]
  },
  {
   "cell_type": "code",
   "execution_count": 407,
   "metadata": {},
   "outputs": [
    {
     "name": "stdout",
     "output_type": "stream",
     "text": [
      "(3974, 1)\n"
     ]
    },
    {
     "data": {
      "text/html": [
       "<div>\n",
       "<style scoped>\n",
       "    .dataframe tbody tr th:only-of-type {\n",
       "        vertical-align: middle;\n",
       "    }\n",
       "\n",
       "    .dataframe tbody tr th {\n",
       "        vertical-align: top;\n",
       "    }\n",
       "\n",
       "    .dataframe thead th {\n",
       "        text-align: right;\n",
       "    }\n",
       "</style>\n",
       "<table border=\"1\" class=\"dataframe\">\n",
       "  <thead>\n",
       "    <tr style=\"text-align: right;\">\n",
       "      <th></th>\n",
       "      <th>blockchain_block_count</th>\n",
       "    </tr>\n",
       "    <tr>\n",
       "      <th>t</th>\n",
       "      <th></th>\n",
       "    </tr>\n",
       "  </thead>\n",
       "  <tbody>\n",
       "    <tr>\n",
       "      <th>2020-11-16</th>\n",
       "      <td>160</td>\n",
       "    </tr>\n",
       "    <tr>\n",
       "      <th>2020-11-17</th>\n",
       "      <td>157</td>\n",
       "    </tr>\n",
       "  </tbody>\n",
       "</table>\n",
       "</div>"
      ],
      "text/plain": [
       "            blockchain_block_count\n",
       "t                                 \n",
       "2020-11-16                     160\n",
       "2020-11-17                     157"
      ]
     },
     "execution_count": 407,
     "metadata": {},
     "output_type": "execute_result"
    }
   ],
   "source": [
    "block_count = gn.get('https://api.glassnode.com/v1/metrics/blockchain/block_count', a = 'btc', s='2010', u=today)\n",
    "block_count.to_csv('data/block_count.csv')\n",
    "print(block_count.shape)\n",
    "block_count.tail(2)"
   ]
  },
  {
   "cell_type": "code",
   "execution_count": 408,
   "metadata": {},
   "outputs": [
    {
     "name": "stdout",
     "output_type": "stream",
     "text": [
      "(3974, 1)\n"
     ]
    },
    {
     "data": {
      "text/html": [
       "<div>\n",
       "<style scoped>\n",
       "    .dataframe tbody tr th:only-of-type {\n",
       "        vertical-align: middle;\n",
       "    }\n",
       "\n",
       "    .dataframe tbody tr th {\n",
       "        vertical-align: top;\n",
       "    }\n",
       "\n",
       "    .dataframe thead th {\n",
       "        text-align: right;\n",
       "    }\n",
       "</style>\n",
       "<table border=\"1\" class=\"dataframe\">\n",
       "  <thead>\n",
       "    <tr style=\"text-align: right;\">\n",
       "      <th></th>\n",
       "      <th>blockchain_block_interval_mean</th>\n",
       "    </tr>\n",
       "    <tr>\n",
       "      <th>t</th>\n",
       "      <th></th>\n",
       "    </tr>\n",
       "  </thead>\n",
       "  <tbody>\n",
       "    <tr>\n",
       "      <th>2020-11-16</th>\n",
       "      <td>536.431250</td>\n",
       "    </tr>\n",
       "    <tr>\n",
       "      <th>2020-11-17</th>\n",
       "      <td>552.305732</td>\n",
       "    </tr>\n",
       "  </tbody>\n",
       "</table>\n",
       "</div>"
      ],
      "text/plain": [
       "            blockchain_block_interval_mean\n",
       "t                                         \n",
       "2020-11-16                      536.431250\n",
       "2020-11-17                      552.305732"
      ]
     },
     "execution_count": 408,
     "metadata": {},
     "output_type": "execute_result"
    }
   ],
   "source": [
    "block_interval_mean = gn.get('https://api.glassnode.com/v1/metrics/blockchain/block_interval_mean', a = 'btc', s='2010', u=today)\n",
    "block_interval_mean.to_csv('data/block_interval_mean.csv')\n",
    "print(block_interval_mean.shape)\n",
    "block_interval_mean.tail(2)"
   ]
  },
  {
   "cell_type": "code",
   "execution_count": 409,
   "metadata": {},
   "outputs": [
    {
     "name": "stdout",
     "output_type": "stream",
     "text": [
      "(3974, 1)\n"
     ]
    },
    {
     "data": {
      "text/html": [
       "<div>\n",
       "<style scoped>\n",
       "    .dataframe tbody tr th:only-of-type {\n",
       "        vertical-align: middle;\n",
       "    }\n",
       "\n",
       "    .dataframe tbody tr th {\n",
       "        vertical-align: top;\n",
       "    }\n",
       "\n",
       "    .dataframe thead th {\n",
       "        text-align: right;\n",
       "    }\n",
       "</style>\n",
       "<table border=\"1\" class=\"dataframe\">\n",
       "  <thead>\n",
       "    <tr style=\"text-align: right;\">\n",
       "      <th></th>\n",
       "      <th>blockchain_block_size_mean</th>\n",
       "    </tr>\n",
       "    <tr>\n",
       "      <th>t</th>\n",
       "      <th></th>\n",
       "    </tr>\n",
       "  </thead>\n",
       "  <tbody>\n",
       "    <tr>\n",
       "      <th>2020-11-16</th>\n",
       "      <td>1.208931e+06</td>\n",
       "    </tr>\n",
       "    <tr>\n",
       "      <th>2020-11-17</th>\n",
       "      <td>1.282460e+06</td>\n",
       "    </tr>\n",
       "  </tbody>\n",
       "</table>\n",
       "</div>"
      ],
      "text/plain": [
       "            blockchain_block_size_mean\n",
       "t                                     \n",
       "2020-11-16                1.208931e+06\n",
       "2020-11-17                1.282460e+06"
      ]
     },
     "execution_count": 409,
     "metadata": {},
     "output_type": "execute_result"
    }
   ],
   "source": [
    "block_size_mean = gn.get('https://api.glassnode.com/v1/metrics/blockchain/block_size_mean', a = 'btc', s='2010', u=today)\n",
    "block_size_mean.to_csv('data/block_size_mean.csv')\n",
    "print(block_size_mean.shape)\n",
    "block_size_mean.tail(2)"
   ]
  },
  {
   "cell_type": "code",
   "execution_count": 410,
   "metadata": {},
   "outputs": [],
   "source": [
    "# merging all files into one dataframe\n",
    "directoryPath = 'data/'\n",
    "glued_data = pd.DataFrame()\n",
    "for file_name in glob.glob(directoryPath+'*.csv'):\n",
    "    x = pd.read_csv(file_name, low_memory=False)\n",
    "    glued_data = pd.concat([glued_data,x],axis=0)"
   ]
  },
  {
   "cell_type": "code",
   "execution_count": 411,
   "metadata": {},
   "outputs": [],
   "source": [
    "combined = glued_data.groupby('t').mean()"
   ]
  },
  {
   "cell_type": "code",
   "execution_count": 412,
   "metadata": {},
   "outputs": [],
   "source": [
    "combined.index = pd.to_datetime(combined.index)\n",
    "combined = combined.sort_index()"
   ]
  },
  {
   "cell_type": "code",
   "execution_count": 413,
   "metadata": {},
   "outputs": [
    {
     "name": "stdout",
     "output_type": "stream",
     "text": [
      "<class 'pandas.core.frame.DataFrame'>\n",
      "DatetimeIndex: 94606 entries, 2010-01-01 00:00:00 to 2020-11-18 21:50:00\n",
      "Columns: 111 entries, market_mvrv_more_155 to indicators_sopr_less_155\n",
      "dtypes: float64(111)\n",
      "memory usage: 80.8 MB\n"
     ]
    }
   ],
   "source": [
    "combined.info()"
   ]
  },
  {
   "cell_type": "code",
   "execution_count": 414,
   "metadata": {},
   "outputs": [
    {
     "data": {
      "text/plain": [
       "open_interest                                     99.998943\n",
       "daily_volume                                      99.998943\n",
       "derivatives_futures_open_interest_all_sum         99.967233\n",
       "derivatives_futures_volume_daily_perpetual_sum    99.967233\n",
       "derivatives_futures_funding_rate_perpetual        99.967233\n",
       "                                                    ...    \n",
       "Low                                                1.036932\n",
       "High                                               1.036932\n",
       "Close                                              1.036932\n",
       "market_price_usd_close                             1.036932\n",
       "Open                                               1.036932\n",
       "Length: 111, dtype: float64"
      ]
     },
     "execution_count": 414,
     "metadata": {},
     "output_type": "execute_result"
    }
   ],
   "source": [
    "((combined.isnull().sum())/len(combined)*100).sort_values(ascending = False)"
   ]
  },
  {
   "cell_type": "code",
   "execution_count": 415,
   "metadata": {},
   "outputs": [
    {
     "data": {
      "text/plain": [
       "111"
      ]
     },
     "execution_count": 415,
     "metadata": {},
     "output_type": "execute_result"
    }
   ],
   "source": [
    "len(combined.columns)"
   ]
  },
  {
   "cell_type": "code",
   "execution_count": 416,
   "metadata": {},
   "outputs": [],
   "source": [
    "# export for later use\n",
    "with open(\"combined_.pickle\", 'wb') as fp:\n",
    "    pickle.dump(combined, fp)"
   ]
  },
  {
   "cell_type": "code",
   "execution_count": 417,
   "metadata": {},
   "outputs": [
    {
     "name": "stdout",
     "output_type": "stream",
     "text": [
      "(90630, 1)\n"
     ]
    },
    {
     "data": {
      "text/html": [
       "<div>\n",
       "<style scoped>\n",
       "    .dataframe tbody tr th:only-of-type {\n",
       "        vertical-align: middle;\n",
       "    }\n",
       "\n",
       "    .dataframe tbody tr th {\n",
       "        vertical-align: top;\n",
       "    }\n",
       "\n",
       "    .dataframe thead th {\n",
       "        text-align: right;\n",
       "    }\n",
       "</style>\n",
       "<table border=\"1\" class=\"dataframe\">\n",
       "  <thead>\n",
       "    <tr style=\"text-align: right;\">\n",
       "      <th></th>\n",
       "      <th>market_price_usd_close</th>\n",
       "    </tr>\n",
       "    <tr>\n",
       "      <th>t</th>\n",
       "      <th></th>\n",
       "    </tr>\n",
       "  </thead>\n",
       "  <tbody>\n",
       "    <tr>\n",
       "      <th>2020-11-18 03:00:00</th>\n",
       "      <td>17912.957340</td>\n",
       "    </tr>\n",
       "    <tr>\n",
       "      <th>2020-11-18 04:00:00</th>\n",
       "      <td>18393.585252</td>\n",
       "    </tr>\n",
       "  </tbody>\n",
       "</table>\n",
       "</div>"
      ],
      "text/plain": [
       "                     market_price_usd_close\n",
       "t                                          \n",
       "2020-11-18 03:00:00            17912.957340\n",
       "2020-11-18 04:00:00            18393.585252"
      ]
     },
     "execution_count": 417,
     "metadata": {},
     "output_type": "execute_result"
    }
   ],
   "source": [
    "hourly_price = gn.get('https://api.glassnode.com/v1/metrics/market/price_usd_close',  a='btc', s='2010', i='1h' , u=today)\n",
    "hourly_price.to_csv('data/hourly_price.csv')\n",
    "print(hourly_price.shape)\n",
    "hourly_price.tail(2)"
   ]
  },
  {
   "cell_type": "code",
   "execution_count": 418,
   "metadata": {},
   "outputs": [
    {
     "name": "stdout",
     "output_type": "stream",
     "text": [
      "(90630, 4)\n"
     ]
    },
    {
     "data": {
      "text/html": [
       "<div>\n",
       "<style scoped>\n",
       "    .dataframe tbody tr th:only-of-type {\n",
       "        vertical-align: middle;\n",
       "    }\n",
       "\n",
       "    .dataframe tbody tr th {\n",
       "        vertical-align: top;\n",
       "    }\n",
       "\n",
       "    .dataframe thead th {\n",
       "        text-align: right;\n",
       "    }\n",
       "</style>\n",
       "<table border=\"1\" class=\"dataframe\">\n",
       "  <thead>\n",
       "    <tr style=\"text-align: right;\">\n",
       "      <th></th>\n",
       "      <th>Close</th>\n",
       "      <th>High</th>\n",
       "      <th>Low</th>\n",
       "      <th>Open</th>\n",
       "    </tr>\n",
       "    <tr>\n",
       "      <th>t</th>\n",
       "      <th></th>\n",
       "      <th></th>\n",
       "      <th></th>\n",
       "      <th></th>\n",
       "    </tr>\n",
       "  </thead>\n",
       "  <tbody>\n",
       "    <tr>\n",
       "      <th>2020-11-18 03:00:00</th>\n",
       "      <td>17912.957340</td>\n",
       "      <td>17912.957340</td>\n",
       "      <td>17638.175145</td>\n",
       "      <td>17674.299609</td>\n",
       "    </tr>\n",
       "    <tr>\n",
       "      <th>2020-11-18 04:00:00</th>\n",
       "      <td>18393.585252</td>\n",
       "      <td>18393.585252</td>\n",
       "      <td>17951.328118</td>\n",
       "      <td>17986.879772</td>\n",
       "    </tr>\n",
       "  </tbody>\n",
       "</table>\n",
       "</div>"
      ],
      "text/plain": [
       "                            Close          High           Low          Open\n",
       "t                                                                          \n",
       "2020-11-18 03:00:00  17912.957340  17912.957340  17638.175145  17674.299609\n",
       "2020-11-18 04:00:00  18393.585252  18393.585252  17951.328118  17986.879772"
      ]
     },
     "execution_count": 418,
     "metadata": {},
     "output_type": "execute_result"
    }
   ],
   "source": [
    "hourly_ohlc_price = gn.get('https://api.glassnode.com/v1/metrics/market/price_usd_ohlc',  a='btc', s='2010', i='1h', u=today)\n",
    "ohlc_price_df = pd.DataFrame()\n",
    "for i in range(len(hourly_ohlc_price['o'])):\n",
    "    df = pd.DataFrame(hourly_ohlc_price.iloc[i]['o'].values()).T\n",
    "    df.columns = hourly_ohlc_price.iloc[i]['o'].keys()\n",
    "    ohlc_price_df =pd.concat([ohlc_price_df, df])\n",
    "ohlc_price_df.index = hourly_ohlc_price.index\n",
    "ohlc_price_df.rename(columns={'c':'Close', 'h': 'High', 'l':'Low', 'o':'Open'}, inplace=True)\n",
    "hourly_ohlc_price = ohlc_price_df\n",
    "print(hourly_ohlc_price.shape)\n",
    "hourly_ohlc_price.to_csv('data/hourly_ohlc_price.csv')\n",
    "hourly_ohlc_price.tail(2)"
   ]
  },
  {
   "cell_type": "code",
   "execution_count": 419,
   "metadata": {},
   "outputs": [],
   "source": [
    "with open(\"hourly_ohlc_price_glassnode.pickle\", 'wb') as fp:\n",
    "    pickle.dump(hourly_ohlc_price, fp)"
   ]
  },
  {
   "cell_type": "markdown",
   "metadata": {},
   "source": [
    "## Coinmetrics API"
   ]
  },
  {
   "cell_type": "markdown",
   "metadata": {},
   "source": [
    "Custom class for Coinmetrics API:"
   ]
  },
  {
   "cell_type": "code",
   "execution_count": 420,
   "metadata": {},
   "outputs": [
    {
     "data": {
      "text/plain": [
       "'Market Specific Metrics'"
      ]
     },
     "execution_count": 420,
     "metadata": {},
     "output_type": "execute_result"
    }
   ],
   "source": [
    "# https://github.com/checkmatey/checkonchain/blob/master/general/coinmetrics_api.py\n",
    "# Import Coinmetrics API\n",
    "# from checkonchain.general.__init__ import *\n",
    "import coinmetrics\n",
    "\n",
    "cm = coinmetrics.Community() # Initialize a reference object, in this case `cm` for the Community API\n",
    "\n",
    "class Coinmetrics_api:\n",
    "       \n",
    "    def __init__(self,asset,begin_timestamp,end_timestamp):\n",
    "        print('...Fetching Coinmetrics API for '+asset+'...')\n",
    "        # List all available metrics for BTC.\n",
    "        self.asset = asset\n",
    "        self.begin_timestamp=begin_timestamp\n",
    "        self.end_timestamp=end_timestamp\n",
    "        self.topcapconst = 35\n",
    "\n",
    "    def collect_data(self):\n",
    "        available_data_types = cm.get_available_data_types_for_asset(self.asset)\n",
    "        metric_list = str((','.join(available_data_types))) #setup complete metric list\n",
    "        #print(metric_list)\n",
    "        asset_data = cm.get_asset_data_for_time_range(self.asset, metric_list, self.begin_timestamp, self.end_timestamp)\n",
    "        return asset_data\n",
    "    \n",
    "    def convert_to_pd(self):\n",
    "        asset_data = Coinmetrics_api.collect_data(self)\n",
    "        df = coinmetrics.cm_to_pandas(asset_data)\n",
    "        #Extract Data as column for ease of application\n",
    "        df.index.name = 'date'\n",
    "        df.reset_index(inplace=True)\n",
    "        df['date'] = pd.to_datetime(df['date'])\n",
    "        #Calc - block height\n",
    "        df['blk']=df['BlkCnt'].cumsum()\n",
    "        #Realised Price (Only if present, excludes XMR and ZEC et al.)\n",
    "        if 'CapRealUSD' in df:\n",
    "            df['PriceRealUSD'] = df['CapRealUSD']/df['SplyCur']\n",
    "        #Calc - approx btc block height (Noting BTC blocks were mined from 9/Jan/09)\n",
    "        df['btc_blk_est'] = (df['date'] - pd.to_datetime(np.datetime64('2009-01-09'),utc=True))\n",
    "        df['btc_blk_est'] = df['btc_blk_est']/np.timedelta64(1,'D') #convert from timedelta to Days (float)\n",
    "        df['btc_blk_est'] = df['btc_blk_est']*(24*6) #Note - corrected for neg values in loop below\n",
    "        #Calc - Daily Issuance\n",
    "        for i in range(0,len(df.index)):\n",
    "            #Correct btc_blk_est\n",
    "            df.loc[i,'btc_blk_est'] = max(0,df.loc[i,'btc_blk_est'])\n",
    "            if i == 0:\n",
    "                df.loc[i,'DailyIssuedNtv'] = df.loc[i,'SplyCur']\n",
    "            else:\n",
    "                df.loc[i,'DailyIssuedNtv'] = df.loc[i,'SplyCur'] - df.loc[i-1,'SplyCur']\n",
    "        # Calc - inflation Rate,  S2F, S2F Model, S2F Price\n",
    "        df['DailyIssuedUSD'] = df['DailyIssuedNtv'] * df['PriceUSD']            \n",
    "        df['inf_pct_ann'] = df['DailyIssuedNtv']*365/df['SplyCur']\n",
    "        df['S2F'] = 1/df['inf_pct_ann']     \n",
    "        df = df.set_index('date')\n",
    "        df.index = pd.to_datetime(df.index, unit='D')\n",
    "        df = df.sort_index()\n",
    "        return df\n",
    "\n",
    "\"\"\"#############################  \n",
    "    Coinmetrics Community API\n",
    "BTC = Coinmetrics_api('btc',\"2009-01-03\",\"2019-10-07\").convert_to_pd()  \n",
    "################################\"\"\"\n",
    "\n",
    "\"\"\"Example Calculations\"\"\"\n",
    "#BTC = Coinmetrics_api('btc',\"2009-01-03\",\"2019-10-07\").convert_to_pd()\n",
    "#LTC = Coinmetrics_api('ltc',\"2011-10-07\",today).convert_to_pd()\n",
    "#BCH = Coinmetrics_api('bch',\"2017-08-01\",today).convert_to_pd()\n",
    "#DASH = Coinmetrics_api('dash',\"2014-01-19\",today).convert_to_pd()\n",
    "#DCR = Coinmetrics_api('dcr',\"2016-02-08\",today).convert_to_pd()\n",
    "#XMR = Coinmetrics_api('xmr',\"2014-04-18\",today).convert_to_pd()\n",
    "#ZEC = Coinmetrics_api('zec',\"2016-10-28\",today).convert_to_pd()\n",
    "#ETH = Coinmetrics_api('eth',\"2015-07-30\",today).convert_to_pd()\n",
    "\n",
    "\"\"\"Time Metrics\"\"\"\n",
    "# date               -datetime64[ns, UTC]\n",
    "# blk                -ADDED METRIC - block height (Sum of BlkCnt)\n",
    "# btc_blk_est        -ADDED METRIC - Estimated Bitcoin block-height (Assumes 10min block-times)\n",
    "\n",
    "\"\"\"Blockchain Metrics\"\"\"\n",
    "# AdrActCnt          -Active Addresses\n",
    "# BlkCnt             -Block Count (Daily)\n",
    "# BlkSizeByte        -Block Size (Bytes)\n",
    "# BlkSizeMeanByte    -Block Size Average (Bytes)\n",
    "# SplyCur            -Current Coin Supply\n",
    "# inf_pct_ann        -ADDED METRIC - Inflation % annual\n",
    "# S2F                -ADDED METRIC - Stock-to-Flow Ratio\n",
    "\n",
    "\"\"\"Network Valuation Models\"\"\"\n",
    "# CapMrktCurUSD      - Market Cap\n",
    "# CapRealUSD         - Realised Cap\n",
    "\n",
    "\"\"\"Network Pricing Models\"\"\"\n",
    "# PriceUSD           - Coin Price USD\n",
    "# PriceRealised      - Realised Price USD\n",
    "\n",
    "\"\"\"Network Valuation Oscillators\"\"\"\n",
    "# CapMVRVCur         - MVRV Ratio - Market Cap / Realised Cap\n",
    "# NVTAdj             - NVT Ratio (Adjusted Volume)\n",
    "# NVTAdj90           - NVT Ratio 90D MA (Adjusted Volume)\n",
    "\n",
    "\"\"\"Transaction Flow Metrics\"\"\"\n",
    "# TxCnt              -Count of Transactions\n",
    "# TxTfrCnt           -Count of Transaction Transfers (Cleaned Data)\n",
    "# TxTfrValAdjNtv     -Native Units Transferred (Adjusted Data)\n",
    "# TxTfrValAdjUSD     -USD Value Transferred (Adjusted Data)\n",
    "# TxTfrValNtv        -Total Native Units Value Transferred\n",
    "# TxTfrValUSD        -Total USD Value Transferred\n",
    "# TxTfrValMeanNtv    -Mean Native Units Transferred\n",
    "# TxTfrValMeanUSD    -Mean USD Value Transferred\n",
    "# TxTfrValMedNtv     -Median Native Units Transferred\n",
    "# TxTfrValMedUSD     -Median USD Value Transferred\n",
    "\n",
    "\"\"\"Miner Metrics\"\"\"\n",
    "# DiffMean          - Average Difficulty\n",
    "# FeeMeanNtv        - Mean Fee paid in Native Coins (Daily)\n",
    "# FeeMeanUSD        - Mean Fee paid in USD (Daily)\n",
    "# FeeMedNtv         - Median Fee paid in Native Coins (Daily)\n",
    "# FeeMedUSD         - Mean Fee paid in USD (Daily)\n",
    "# FeeTotNtv         - Total Fees paid in Native Coins (Daily)\n",
    "# FeeTotUSD         - Total Fees paid in Native Coins (Daily)\n",
    "# IssContNtv        - Daily Issued Native Coins to Miners/Validators\n",
    "# IssContPctAnn     - Annualised Inflation Rate\n",
    "# IssContUSD        - Daily Issued USD to Miners/Validators\n",
    "# IssTotNtvDaily    - Issued Native Coins to Miners/Validators (Daily)\n",
    "# IssTotUSD         - Daily Issued USD Value to Miners/Validators (Daily)\n",
    "# DailyIssuedNtv    - ADDED METRIC - Daily Issued Native Units (Sply_n - Sply_n-1)\n",
    "# DailyIssuedUSD    - ADDED METRIC - Daily Issued USD Value (Sply_n - Sply_n-1)\n",
    "\n",
    "\"\"\"Market Specific Metrics\"\"\"\n",
    "# ROI1yr\n",
    "# ROI30d\n",
    "# VtyDayRet180d\n",
    "# VtyDayRet30d\n",
    "# VtyDayRet60d"
   ]
  },
  {
   "cell_type": "code",
   "execution_count": 421,
   "metadata": {},
   "outputs": [
    {
     "name": "stdout",
     "output_type": "stream",
     "text": [
      "...Fetching Coinmetrics API for btc...\n"
     ]
    }
   ],
   "source": [
    "btc = Coinmetrics_api('btc',\"2009-01-03\",\"2020-11-11\").convert_to_pd()"
   ]
  },
  {
   "cell_type": "code",
   "execution_count": 422,
   "metadata": {},
   "outputs": [
    {
     "data": {
      "text/html": [
       "<div>\n",
       "<style scoped>\n",
       "    .dataframe tbody tr th:only-of-type {\n",
       "        vertical-align: middle;\n",
       "    }\n",
       "\n",
       "    .dataframe tbody tr th {\n",
       "        vertical-align: top;\n",
       "    }\n",
       "\n",
       "    .dataframe thead th {\n",
       "        text-align: right;\n",
       "    }\n",
       "</style>\n",
       "<table border=\"1\" class=\"dataframe\">\n",
       "  <thead>\n",
       "    <tr style=\"text-align: right;\">\n",
       "      <th></th>\n",
       "      <th>AdrActCnt</th>\n",
       "      <th>BlkCnt</th>\n",
       "      <th>BlkSizeByte</th>\n",
       "      <th>BlkSizeMeanByte</th>\n",
       "      <th>CapMVRVCur</th>\n",
       "      <th>CapMrktCurUSD</th>\n",
       "      <th>CapRealUSD</th>\n",
       "      <th>DiffMean</th>\n",
       "      <th>FeeMeanNtv</th>\n",
       "      <th>FeeMeanUSD</th>\n",
       "      <th>...</th>\n",
       "      <th>VtyDayRet180d</th>\n",
       "      <th>VtyDayRet30d</th>\n",
       "      <th>VtyDayRet60d</th>\n",
       "      <th>blk</th>\n",
       "      <th>PriceRealUSD</th>\n",
       "      <th>btc_blk_est</th>\n",
       "      <th>DailyIssuedNtv</th>\n",
       "      <th>DailyIssuedUSD</th>\n",
       "      <th>inf_pct_ann</th>\n",
       "      <th>S2F</th>\n",
       "    </tr>\n",
       "    <tr>\n",
       "      <th>date</th>\n",
       "      <th></th>\n",
       "      <th></th>\n",
       "      <th></th>\n",
       "      <th></th>\n",
       "      <th></th>\n",
       "      <th></th>\n",
       "      <th></th>\n",
       "      <th></th>\n",
       "      <th></th>\n",
       "      <th></th>\n",
       "      <th></th>\n",
       "      <th></th>\n",
       "      <th></th>\n",
       "      <th></th>\n",
       "      <th></th>\n",
       "      <th></th>\n",
       "      <th></th>\n",
       "      <th></th>\n",
       "      <th></th>\n",
       "      <th></th>\n",
       "      <th></th>\n",
       "    </tr>\n",
       "  </thead>\n",
       "  <tbody>\n",
       "    <tr>\n",
       "      <th>2009-01-03 00:00:00+00:00</th>\n",
       "      <td>0.0</td>\n",
       "      <td>0.0</td>\n",
       "      <td>0.0</td>\n",
       "      <td>NaN</td>\n",
       "      <td>NaN</td>\n",
       "      <td>NaN</td>\n",
       "      <td>0.000000e+00</td>\n",
       "      <td>NaN</td>\n",
       "      <td>NaN</td>\n",
       "      <td>NaN</td>\n",
       "      <td>...</td>\n",
       "      <td>NaN</td>\n",
       "      <td>NaN</td>\n",
       "      <td>NaN</td>\n",
       "      <td>0.0</td>\n",
       "      <td>NaN</td>\n",
       "      <td>0.0</td>\n",
       "      <td>0.00</td>\n",
       "      <td>NaN</td>\n",
       "      <td>NaN</td>\n",
       "      <td>NaN</td>\n",
       "    </tr>\n",
       "    <tr>\n",
       "      <th>2009-01-04 00:00:00+00:00</th>\n",
       "      <td>0.0</td>\n",
       "      <td>0.0</td>\n",
       "      <td>0.0</td>\n",
       "      <td>NaN</td>\n",
       "      <td>NaN</td>\n",
       "      <td>NaN</td>\n",
       "      <td>0.000000e+00</td>\n",
       "      <td>NaN</td>\n",
       "      <td>NaN</td>\n",
       "      <td>NaN</td>\n",
       "      <td>...</td>\n",
       "      <td>NaN</td>\n",
       "      <td>NaN</td>\n",
       "      <td>NaN</td>\n",
       "      <td>0.0</td>\n",
       "      <td>NaN</td>\n",
       "      <td>0.0</td>\n",
       "      <td>0.00</td>\n",
       "      <td>NaN</td>\n",
       "      <td>NaN</td>\n",
       "      <td>NaN</td>\n",
       "    </tr>\n",
       "    <tr>\n",
       "      <th>2009-01-05 00:00:00+00:00</th>\n",
       "      <td>0.0</td>\n",
       "      <td>0.0</td>\n",
       "      <td>0.0</td>\n",
       "      <td>NaN</td>\n",
       "      <td>NaN</td>\n",
       "      <td>NaN</td>\n",
       "      <td>0.000000e+00</td>\n",
       "      <td>NaN</td>\n",
       "      <td>NaN</td>\n",
       "      <td>NaN</td>\n",
       "      <td>...</td>\n",
       "      <td>NaN</td>\n",
       "      <td>NaN</td>\n",
       "      <td>NaN</td>\n",
       "      <td>0.0</td>\n",
       "      <td>NaN</td>\n",
       "      <td>0.0</td>\n",
       "      <td>0.00</td>\n",
       "      <td>NaN</td>\n",
       "      <td>NaN</td>\n",
       "      <td>NaN</td>\n",
       "    </tr>\n",
       "    <tr>\n",
       "      <th>2009-01-06 00:00:00+00:00</th>\n",
       "      <td>0.0</td>\n",
       "      <td>0.0</td>\n",
       "      <td>0.0</td>\n",
       "      <td>NaN</td>\n",
       "      <td>NaN</td>\n",
       "      <td>NaN</td>\n",
       "      <td>0.000000e+00</td>\n",
       "      <td>NaN</td>\n",
       "      <td>NaN</td>\n",
       "      <td>NaN</td>\n",
       "      <td>...</td>\n",
       "      <td>NaN</td>\n",
       "      <td>NaN</td>\n",
       "      <td>NaN</td>\n",
       "      <td>0.0</td>\n",
       "      <td>NaN</td>\n",
       "      <td>0.0</td>\n",
       "      <td>0.00</td>\n",
       "      <td>NaN</td>\n",
       "      <td>NaN</td>\n",
       "      <td>NaN</td>\n",
       "    </tr>\n",
       "    <tr>\n",
       "      <th>2009-01-07 00:00:00+00:00</th>\n",
       "      <td>0.0</td>\n",
       "      <td>0.0</td>\n",
       "      <td>0.0</td>\n",
       "      <td>NaN</td>\n",
       "      <td>NaN</td>\n",
       "      <td>NaN</td>\n",
       "      <td>0.000000e+00</td>\n",
       "      <td>NaN</td>\n",
       "      <td>NaN</td>\n",
       "      <td>NaN</td>\n",
       "      <td>...</td>\n",
       "      <td>NaN</td>\n",
       "      <td>NaN</td>\n",
       "      <td>NaN</td>\n",
       "      <td>0.0</td>\n",
       "      <td>NaN</td>\n",
       "      <td>0.0</td>\n",
       "      <td>0.00</td>\n",
       "      <td>NaN</td>\n",
       "      <td>NaN</td>\n",
       "      <td>NaN</td>\n",
       "    </tr>\n",
       "    <tr>\n",
       "      <th>...</th>\n",
       "      <td>...</td>\n",
       "      <td>...</td>\n",
       "      <td>...</td>\n",
       "      <td>...</td>\n",
       "      <td>...</td>\n",
       "      <td>...</td>\n",
       "      <td>...</td>\n",
       "      <td>...</td>\n",
       "      <td>...</td>\n",
       "      <td>...</td>\n",
       "      <td>...</td>\n",
       "      <td>...</td>\n",
       "      <td>...</td>\n",
       "      <td>...</td>\n",
       "      <td>...</td>\n",
       "      <td>...</td>\n",
       "      <td>...</td>\n",
       "      <td>...</td>\n",
       "      <td>...</td>\n",
       "      <td>...</td>\n",
       "      <td>...</td>\n",
       "    </tr>\n",
       "    <tr>\n",
       "      <th>2020-11-07 00:00:00+00:00</th>\n",
       "      <td>1055012.0</td>\n",
       "      <td>146.0</td>\n",
       "      <td>198604086.0</td>\n",
       "      <td>1.360302e+06</td>\n",
       "      <td>2.187115</td>\n",
       "      <td>2.755732e+11</td>\n",
       "      <td>1.259985e+11</td>\n",
       "      <td>1.678778e+13</td>\n",
       "      <td>0.000500</td>\n",
       "      <td>7.437259</td>\n",
       "      <td>...</td>\n",
       "      <td>0.026023</td>\n",
       "      <td>0.027211</td>\n",
       "      <td>0.022916</td>\n",
       "      <td>655902.0</td>\n",
       "      <td>6797.245754</td>\n",
       "      <td>622080.0</td>\n",
       "      <td>912.50</td>\n",
       "      <td>1.356555e+07</td>\n",
       "      <td>0.017968</td>\n",
       "      <td>55.655328</td>\n",
       "    </tr>\n",
       "    <tr>\n",
       "      <th>2020-11-08 00:00:00+00:00</th>\n",
       "      <td>920529.0</td>\n",
       "      <td>138.0</td>\n",
       "      <td>189145770.0</td>\n",
       "      <td>1.370622e+06</td>\n",
       "      <td>2.269764</td>\n",
       "      <td>2.873323e+11</td>\n",
       "      <td>1.265912e+11</td>\n",
       "      <td>1.678778e+13</td>\n",
       "      <td>0.000384</td>\n",
       "      <td>5.955396</td>\n",
       "      <td>...</td>\n",
       "      <td>0.026128</td>\n",
       "      <td>0.027797</td>\n",
       "      <td>0.023359</td>\n",
       "      <td>656040.0</td>\n",
       "      <td>6828.902721</td>\n",
       "      <td>622224.0</td>\n",
       "      <td>862.50</td>\n",
       "      <td>1.336875e+07</td>\n",
       "      <td>0.016982</td>\n",
       "      <td>58.884464</td>\n",
       "    </tr>\n",
       "    <tr>\n",
       "      <th>2020-11-09 00:00:00+00:00</th>\n",
       "      <td>1188873.0</td>\n",
       "      <td>185.0</td>\n",
       "      <td>252934375.0</td>\n",
       "      <td>1.367213e+06</td>\n",
       "      <td>2.237517</td>\n",
       "      <td>2.840099e+11</td>\n",
       "      <td>1.269308e+11</td>\n",
       "      <td>1.678778e+13</td>\n",
       "      <td>0.000440</td>\n",
       "      <td>6.745236</td>\n",
       "      <td>...</td>\n",
       "      <td>0.025851</td>\n",
       "      <td>0.028047</td>\n",
       "      <td>0.023476</td>\n",
       "      <td>656225.0</td>\n",
       "      <td>6846.795593</td>\n",
       "      <td>622368.0</td>\n",
       "      <td>1156.25</td>\n",
       "      <td>1.771354e+07</td>\n",
       "      <td>0.022765</td>\n",
       "      <td>43.927367</td>\n",
       "    </tr>\n",
       "    <tr>\n",
       "      <th>2020-11-10 00:00:00+00:00</th>\n",
       "      <td>1026623.0</td>\n",
       "      <td>147.0</td>\n",
       "      <td>180843729.0</td>\n",
       "      <td>1.230229e+06</td>\n",
       "      <td>2.232287</td>\n",
       "      <td>2.840139e+11</td>\n",
       "      <td>1.272300e+11</td>\n",
       "      <td>1.678778e+13</td>\n",
       "      <td>0.000507</td>\n",
       "      <td>7.768952</td>\n",
       "      <td>...</td>\n",
       "      <td>0.025607</td>\n",
       "      <td>0.028102</td>\n",
       "      <td>0.023490</td>\n",
       "      <td>656372.0</td>\n",
       "      <td>6862.592583</td>\n",
       "      <td>622512.0</td>\n",
       "      <td>918.75</td>\n",
       "      <td>1.407458e+07</td>\n",
       "      <td>0.018088</td>\n",
       "      <td>55.285480</td>\n",
       "    </tr>\n",
       "    <tr>\n",
       "      <th>2020-11-11 00:00:00+00:00</th>\n",
       "      <td>1004339.0</td>\n",
       "      <td>147.0</td>\n",
       "      <td>188599811.0</td>\n",
       "      <td>1.282992e+06</td>\n",
       "      <td>2.285633</td>\n",
       "      <td>2.916660e+11</td>\n",
       "      <td>1.276084e+11</td>\n",
       "      <td>1.678778e+13</td>\n",
       "      <td>0.000332</td>\n",
       "      <td>5.227790</td>\n",
       "      <td>...</td>\n",
       "      <td>0.025370</td>\n",
       "      <td>0.028254</td>\n",
       "      <td>0.023631</td>\n",
       "      <td>656519.0</td>\n",
       "      <td>6882.663478</td>\n",
       "      <td>622656.0</td>\n",
       "      <td>918.75</td>\n",
       "      <td>1.445308e+07</td>\n",
       "      <td>0.018087</td>\n",
       "      <td>55.288220</td>\n",
       "    </tr>\n",
       "  </tbody>\n",
       "</table>\n",
       "<p>4331 rows × 49 columns</p>\n",
       "</div>"
      ],
      "text/plain": [
       "                           AdrActCnt  BlkCnt  BlkSizeByte  BlkSizeMeanByte  \\\n",
       "date                                                                         \n",
       "2009-01-03 00:00:00+00:00        0.0     0.0          0.0              NaN   \n",
       "2009-01-04 00:00:00+00:00        0.0     0.0          0.0              NaN   \n",
       "2009-01-05 00:00:00+00:00        0.0     0.0          0.0              NaN   \n",
       "2009-01-06 00:00:00+00:00        0.0     0.0          0.0              NaN   \n",
       "2009-01-07 00:00:00+00:00        0.0     0.0          0.0              NaN   \n",
       "...                              ...     ...          ...              ...   \n",
       "2020-11-07 00:00:00+00:00  1055012.0   146.0  198604086.0     1.360302e+06   \n",
       "2020-11-08 00:00:00+00:00   920529.0   138.0  189145770.0     1.370622e+06   \n",
       "2020-11-09 00:00:00+00:00  1188873.0   185.0  252934375.0     1.367213e+06   \n",
       "2020-11-10 00:00:00+00:00  1026623.0   147.0  180843729.0     1.230229e+06   \n",
       "2020-11-11 00:00:00+00:00  1004339.0   147.0  188599811.0     1.282992e+06   \n",
       "\n",
       "                           CapMVRVCur  CapMrktCurUSD    CapRealUSD  \\\n",
       "date                                                                 \n",
       "2009-01-03 00:00:00+00:00         NaN            NaN  0.000000e+00   \n",
       "2009-01-04 00:00:00+00:00         NaN            NaN  0.000000e+00   \n",
       "2009-01-05 00:00:00+00:00         NaN            NaN  0.000000e+00   \n",
       "2009-01-06 00:00:00+00:00         NaN            NaN  0.000000e+00   \n",
       "2009-01-07 00:00:00+00:00         NaN            NaN  0.000000e+00   \n",
       "...                               ...            ...           ...   \n",
       "2020-11-07 00:00:00+00:00    2.187115   2.755732e+11  1.259985e+11   \n",
       "2020-11-08 00:00:00+00:00    2.269764   2.873323e+11  1.265912e+11   \n",
       "2020-11-09 00:00:00+00:00    2.237517   2.840099e+11  1.269308e+11   \n",
       "2020-11-10 00:00:00+00:00    2.232287   2.840139e+11  1.272300e+11   \n",
       "2020-11-11 00:00:00+00:00    2.285633   2.916660e+11  1.276084e+11   \n",
       "\n",
       "                               DiffMean  FeeMeanNtv  FeeMeanUSD  ...  \\\n",
       "date                                                             ...   \n",
       "2009-01-03 00:00:00+00:00           NaN         NaN         NaN  ...   \n",
       "2009-01-04 00:00:00+00:00           NaN         NaN         NaN  ...   \n",
       "2009-01-05 00:00:00+00:00           NaN         NaN         NaN  ...   \n",
       "2009-01-06 00:00:00+00:00           NaN         NaN         NaN  ...   \n",
       "2009-01-07 00:00:00+00:00           NaN         NaN         NaN  ...   \n",
       "...                                 ...         ...         ...  ...   \n",
       "2020-11-07 00:00:00+00:00  1.678778e+13    0.000500    7.437259  ...   \n",
       "2020-11-08 00:00:00+00:00  1.678778e+13    0.000384    5.955396  ...   \n",
       "2020-11-09 00:00:00+00:00  1.678778e+13    0.000440    6.745236  ...   \n",
       "2020-11-10 00:00:00+00:00  1.678778e+13    0.000507    7.768952  ...   \n",
       "2020-11-11 00:00:00+00:00  1.678778e+13    0.000332    5.227790  ...   \n",
       "\n",
       "                           VtyDayRet180d  VtyDayRet30d  VtyDayRet60d  \\\n",
       "date                                                                   \n",
       "2009-01-03 00:00:00+00:00            NaN           NaN           NaN   \n",
       "2009-01-04 00:00:00+00:00            NaN           NaN           NaN   \n",
       "2009-01-05 00:00:00+00:00            NaN           NaN           NaN   \n",
       "2009-01-06 00:00:00+00:00            NaN           NaN           NaN   \n",
       "2009-01-07 00:00:00+00:00            NaN           NaN           NaN   \n",
       "...                                  ...           ...           ...   \n",
       "2020-11-07 00:00:00+00:00       0.026023      0.027211      0.022916   \n",
       "2020-11-08 00:00:00+00:00       0.026128      0.027797      0.023359   \n",
       "2020-11-09 00:00:00+00:00       0.025851      0.028047      0.023476   \n",
       "2020-11-10 00:00:00+00:00       0.025607      0.028102      0.023490   \n",
       "2020-11-11 00:00:00+00:00       0.025370      0.028254      0.023631   \n",
       "\n",
       "                                blk  PriceRealUSD  btc_blk_est  \\\n",
       "date                                                             \n",
       "2009-01-03 00:00:00+00:00       0.0           NaN          0.0   \n",
       "2009-01-04 00:00:00+00:00       0.0           NaN          0.0   \n",
       "2009-01-05 00:00:00+00:00       0.0           NaN          0.0   \n",
       "2009-01-06 00:00:00+00:00       0.0           NaN          0.0   \n",
       "2009-01-07 00:00:00+00:00       0.0           NaN          0.0   \n",
       "...                             ...           ...          ...   \n",
       "2020-11-07 00:00:00+00:00  655902.0   6797.245754     622080.0   \n",
       "2020-11-08 00:00:00+00:00  656040.0   6828.902721     622224.0   \n",
       "2020-11-09 00:00:00+00:00  656225.0   6846.795593     622368.0   \n",
       "2020-11-10 00:00:00+00:00  656372.0   6862.592583     622512.0   \n",
       "2020-11-11 00:00:00+00:00  656519.0   6882.663478     622656.0   \n",
       "\n",
       "                           DailyIssuedNtv  DailyIssuedUSD  inf_pct_ann  \\\n",
       "date                                                                     \n",
       "2009-01-03 00:00:00+00:00            0.00             NaN          NaN   \n",
       "2009-01-04 00:00:00+00:00            0.00             NaN          NaN   \n",
       "2009-01-05 00:00:00+00:00            0.00             NaN          NaN   \n",
       "2009-01-06 00:00:00+00:00            0.00             NaN          NaN   \n",
       "2009-01-07 00:00:00+00:00            0.00             NaN          NaN   \n",
       "...                                   ...             ...          ...   \n",
       "2020-11-07 00:00:00+00:00          912.50    1.356555e+07     0.017968   \n",
       "2020-11-08 00:00:00+00:00          862.50    1.336875e+07     0.016982   \n",
       "2020-11-09 00:00:00+00:00         1156.25    1.771354e+07     0.022765   \n",
       "2020-11-10 00:00:00+00:00          918.75    1.407458e+07     0.018088   \n",
       "2020-11-11 00:00:00+00:00          918.75    1.445308e+07     0.018087   \n",
       "\n",
       "                                 S2F  \n",
       "date                                  \n",
       "2009-01-03 00:00:00+00:00        NaN  \n",
       "2009-01-04 00:00:00+00:00        NaN  \n",
       "2009-01-05 00:00:00+00:00        NaN  \n",
       "2009-01-06 00:00:00+00:00        NaN  \n",
       "2009-01-07 00:00:00+00:00        NaN  \n",
       "...                              ...  \n",
       "2020-11-07 00:00:00+00:00  55.655328  \n",
       "2020-11-08 00:00:00+00:00  58.884464  \n",
       "2020-11-09 00:00:00+00:00  43.927367  \n",
       "2020-11-10 00:00:00+00:00  55.285480  \n",
       "2020-11-11 00:00:00+00:00  55.288220  \n",
       "\n",
       "[4331 rows x 49 columns]"
      ]
     },
     "execution_count": 422,
     "metadata": {},
     "output_type": "execute_result"
    }
   ],
   "source": [
    "btc"
   ]
  },
  {
   "cell_type": "code",
   "execution_count": 423,
   "metadata": {},
   "outputs": [],
   "source": [
    "with open(\"btc_coinmetrics.pickle\", 'wb') as fp:\n",
    "    pickle.dump(btc, fp)"
   ]
  }
 ],
 "metadata": {
  "kernelspec": {
   "display_name": "Python 3",
   "language": "python",
   "name": "python3"
  },
  "language_info": {
   "codemirror_mode": {
    "name": "ipython",
    "version": 3
   },
   "file_extension": ".py",
   "mimetype": "text/x-python",
   "name": "python",
   "nbconvert_exporter": "python",
   "pygments_lexer": "ipython3",
   "version": "3.7.9"
  }
 },
 "nbformat": 4,
 "nbformat_minor": 4
}

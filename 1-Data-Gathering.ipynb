{
 "cells": [
  {
   "cell_type": "markdown",
   "metadata": {},
   "source": [
    "Pull data from API here"
   ]
  },
  {
   "cell_type": "markdown",
   "metadata": {},
   "source": [
    "PS: \n",
    "- given Bitcoin on-chain data, what are the factors that most affect price movement?\n",
    "- What categories can be identified in the Bitcoin addresses/wallets? (use clustering technique)\n",
    "\n",
    "\n",
    "Dataset: APIs from Glassnode, Coinmetrics.io, Nansen.AI, Dune Analytics, Graph Protocol, Skew.\n",
    "\n",
    "Analysis piece based on the Bitcoin cryptocurrency on-chain data to analyze important factors and their relationship with asset price. Especial focus on wallets and addresses to classify them into meaningful clusters (i.e. exchanges, miners, whales, institutional investors, retail investors etc) and \"old-coin\" movement (coins that were purchased a while ago and have not moved, another subset of early 'OG' investors in the space).\n",
    "This could be replicated to other digital assets, such as Ethereum and its universe of tokens, depending on structure of data pull from APIs cited above.\n",
    "\n",
    "\n",
    "\n",
    "Lots of EDA and subsequent predictive modeling with regression models + classification modeling for clustering.\n",
    "\n",
    "A linear regression, a decision tree ensemble, and a neural net should cover your bases in terms of prediction models (LIightGBM is probably the best decision tree ensemble). Your PS is all about factors, so you'll want to pay attention to feature importances.\n",
    "\n"
   ]
  },
  {
   "cell_type": "markdown",
   "metadata": {},
   "source": [
    "## Imports\n",
    "---"
   ]
  },
  {
   "cell_type": "code",
   "execution_count": 262,
   "metadata": {},
   "outputs": [],
   "source": [
    "# Standards\n",
    "import pandas as pd\n",
    "import numpy as np\n",
    "\n",
    "# API\n",
    "import requests\n",
    "import requests as req\n",
    "import json\n",
    "import iso8601\n",
    "\n",
    "# Automating\n",
    "import glob\n",
    "import time\n",
    "from time import sleep\n",
    "import datetime as dt\n",
    "import warnings\n",
    "import sys\n",
    "\n",
    "# Plotting\n",
    "import matplotlib.pyplot as plt\n",
    "import seaborn as sns\n",
    "\n",
    "plt.style.use('ggplot')\n",
    "plt.rcParams['figure.figsize'] = (16, 9)\n",
    "\n",
    "\n",
    "from IPython import get_ipython\n",
    "ipython = get_ipython()\n",
    "\n",
    "if 'ipython' in globals():\n",
    "    ipython.magic('matplotlib inline')\n",
    "\n",
    "# Supress warnings\n",
    "import warnings\n",
    "warnings.filterwarnings('ignore')"
   ]
  },
  {
   "cell_type": "code",
   "execution_count": 2,
   "metadata": {},
   "outputs": [],
   "source": [
    "# pip install coinmetrics-api-client"
   ]
  },
  {
   "cell_type": "markdown",
   "metadata": {},
   "source": [
    "## API Scraping\n",
    "---"
   ]
  },
  {
   "cell_type": "markdown",
   "metadata": {},
   "source": [
    "### Function to Get Posts"
   ]
  },
  {
   "cell_type": "markdown",
   "metadata": {},
   "source": [
    "Created a custom function that pulls Reddit posts via Pushshift's API."
   ]
  },
  {
   "cell_type": "code",
   "execution_count": 274,
   "metadata": {},
   "outputs": [],
   "source": [
    "# https://github.com/glassnode/glassnode-api-python-client\n",
    "\n",
    "class GlassnodeClient:\n",
    "\n",
    "  def __init__(self):\n",
    "    self._api_key = ''\n",
    "\n",
    "  @property\n",
    "  def api_key(self):\n",
    "    return self._api_key\n",
    "\n",
    "  def set_api_key(self, value):\n",
    "    self._api_key = value\n",
    "\n",
    "  def get(self, url, a='BTC', i='24h', c='native', e=None, s=None, u=None):\n",
    "    p = dict()\n",
    "    p['a'] = a\n",
    "    p['i'] = i\n",
    "    p['c'] = c\n",
    "\n",
    "    if s is not None:\n",
    "      try:\n",
    "        p['s'] = iso8601.parse_date(s).strftime('%s')\n",
    "      except ParseError:\n",
    "        p['s'] = s\n",
    "\n",
    "    if u is not None:\n",
    "      try:\n",
    "        p['u'] = iso8601.parse_date(u).strftime('%s')\n",
    "      except ParseError:\n",
    "        p['u'] = s\n",
    "\n",
    "    p['api_key'] = self.api_key\n",
    "\n",
    "    r = requests.get(url, params=p)\n",
    "\n",
    "    try:\n",
    "       r.raise_for_status()\n",
    "    except Exception as e:\n",
    "        print(e)\n",
    "        print(r.text)\n",
    "\n",
    "    try:\n",
    "        df = pd.DataFrame(json.loads(r.text))\n",
    "        df = df.set_index('t')\n",
    "        df.index = pd.to_datetime(df.index, unit='s')\n",
    "        df = df.sort_index()\n",
    "        col_name = '_'.join(url.split('/')[-2:])\n",
    "        df.rename(columns = {'v': col_name}, inplace = True)\n",
    "#         s = df.v\n",
    "#         s.name = '_'.join(url.split('/')[-2:])\n",
    "        return df\n",
    "    except Exception as e:\n",
    "        print(e)"
   ]
  },
  {
   "cell_type": "code",
   "execution_count": 275,
   "metadata": {},
   "outputs": [],
   "source": [
    "gn = GlassnodeClient()"
   ]
  },
  {
   "cell_type": "code",
   "execution_count": 276,
   "metadata": {},
   "outputs": [],
   "source": [
    "gn.set_api_key('2eea6100-6a2f-44cc-a965-455b897fe07b')"
   ]
  },
  {
   "cell_type": "code",
   "execution_count": 277,
   "metadata": {},
   "outputs": [
    {
     "data": {
      "text/plain": [
       "'2020-11-05'"
      ]
     },
     "execution_count": 277,
     "metadata": {},
     "output_type": "execute_result"
    }
   ],
   "source": [
    "today = dt.datetime.today().strftime(\"%Y-%m-%d\")\n",
    "today"
   ]
  },
  {
   "cell_type": "code",
   "execution_count": 278,
   "metadata": {},
   "outputs": [],
   "source": [
    "# ADDRESSES"
   ]
  },
  {
   "cell_type": "code",
   "execution_count": 325,
   "metadata": {},
   "outputs": [
    {
     "name": "stdout",
     "output_type": "stream",
     "text": [
      "(3961, 1)\n"
     ]
    },
    {
     "data": {
      "text/html": [
       "<div>\n",
       "<style scoped>\n",
       "    .dataframe tbody tr th:only-of-type {\n",
       "        vertical-align: middle;\n",
       "    }\n",
       "\n",
       "    .dataframe tbody tr th {\n",
       "        vertical-align: top;\n",
       "    }\n",
       "\n",
       "    .dataframe thead th {\n",
       "        text-align: right;\n",
       "    }\n",
       "</style>\n",
       "<table border=\"1\" class=\"dataframe\">\n",
       "  <thead>\n",
       "    <tr style=\"text-align: right;\">\n",
       "      <th></th>\n",
       "      <th>addresses_count</th>\n",
       "    </tr>\n",
       "    <tr>\n",
       "      <th>t</th>\n",
       "      <th></th>\n",
       "    </tr>\n",
       "  </thead>\n",
       "  <tbody>\n",
       "    <tr>\n",
       "      <th>2020-11-03</th>\n",
       "      <td>730192007</td>\n",
       "    </tr>\n",
       "    <tr>\n",
       "      <th>2020-11-04</th>\n",
       "      <td>730701279</td>\n",
       "    </tr>\n",
       "  </tbody>\n",
       "</table>\n",
       "</div>"
      ],
      "text/plain": [
       "            addresses_count\n",
       "t                          \n",
       "2020-11-03        730192007\n",
       "2020-11-04        730701279"
      ]
     },
     "execution_count": 325,
     "metadata": {},
     "output_type": "execute_result"
    }
   ],
   "source": [
    "total_addresses = gn.get('https://api.glassnode.com/v1/metrics/addresses/count',  a='btc', s='2010', u=today)\n",
    "total_addresses.to_csv('data/total_addresses.csv')\n",
    "print(total_addresses.shape)\n",
    "total_addresses.tail(2)"
   ]
  },
  {
   "cell_type": "code",
   "execution_count": 326,
   "metadata": {},
   "outputs": [
    {
     "name": "stdout",
     "output_type": "stream",
     "text": [
      "(3961, 1)\n"
     ]
    },
    {
     "data": {
      "text/html": [
       "<div>\n",
       "<style scoped>\n",
       "    .dataframe tbody tr th:only-of-type {\n",
       "        vertical-align: middle;\n",
       "    }\n",
       "\n",
       "    .dataframe tbody tr th {\n",
       "        vertical-align: top;\n",
       "    }\n",
       "\n",
       "    .dataframe thead th {\n",
       "        text-align: right;\n",
       "    }\n",
       "</style>\n",
       "<table border=\"1\" class=\"dataframe\">\n",
       "  <thead>\n",
       "    <tr style=\"text-align: right;\">\n",
       "      <th></th>\n",
       "      <th>addresses_active_count</th>\n",
       "    </tr>\n",
       "    <tr>\n",
       "      <th>t</th>\n",
       "      <th></th>\n",
       "    </tr>\n",
       "  </thead>\n",
       "  <tbody>\n",
       "    <tr>\n",
       "      <th>2010-01-01</th>\n",
       "      <td>4</td>\n",
       "    </tr>\n",
       "    <tr>\n",
       "      <th>2010-01-02</th>\n",
       "      <td>0</td>\n",
       "    </tr>\n",
       "  </tbody>\n",
       "</table>\n",
       "</div>"
      ],
      "text/plain": [
       "            addresses_active_count\n",
       "t                                 \n",
       "2010-01-01                       4\n",
       "2010-01-02                       0"
      ]
     },
     "execution_count": 326,
     "metadata": {},
     "output_type": "execute_result"
    }
   ],
   "source": [
    "active_addresses = gn.get('https://api.glassnode.com/v1/metrics/addresses/active_count',  a='btc', s='2010', u=today)\n",
    "active_addresses.to_csv('data/active_addresses.csv')\n",
    "print(active_addresses.shape)\n",
    "active_addresses.head(2)"
   ]
  },
  {
   "cell_type": "code",
   "execution_count": 327,
   "metadata": {},
   "outputs": [
    {
     "name": "stdout",
     "output_type": "stream",
     "text": [
      "(3961, 1)\n"
     ]
    },
    {
     "data": {
      "text/html": [
       "<div>\n",
       "<style scoped>\n",
       "    .dataframe tbody tr th:only-of-type {\n",
       "        vertical-align: middle;\n",
       "    }\n",
       "\n",
       "    .dataframe tbody tr th {\n",
       "        vertical-align: top;\n",
       "    }\n",
       "\n",
       "    .dataframe thead th {\n",
       "        text-align: right;\n",
       "    }\n",
       "</style>\n",
       "<table border=\"1\" class=\"dataframe\">\n",
       "  <thead>\n",
       "    <tr style=\"text-align: right;\">\n",
       "      <th></th>\n",
       "      <th>addresses_new_non_zero_count</th>\n",
       "    </tr>\n",
       "    <tr>\n",
       "      <th>t</th>\n",
       "      <th></th>\n",
       "    </tr>\n",
       "  </thead>\n",
       "  <tbody>\n",
       "    <tr>\n",
       "      <th>2010-01-01</th>\n",
       "      <td>134</td>\n",
       "    </tr>\n",
       "    <tr>\n",
       "      <th>2010-01-02</th>\n",
       "      <td>126</td>\n",
       "    </tr>\n",
       "  </tbody>\n",
       "</table>\n",
       "</div>"
      ],
      "text/plain": [
       "            addresses_new_non_zero_count\n",
       "t                                       \n",
       "2010-01-01                           134\n",
       "2010-01-02                           126"
      ]
     },
     "execution_count": 327,
     "metadata": {},
     "output_type": "execute_result"
    }
   ],
   "source": [
    "new_addresses = gn.get('https://api.glassnode.com/v1/metrics/addresses/new_non_zero_count',  a='btc', s='2010', u=today)\n",
    "new_addresses.to_csv('data/new_addresses.csv')\n",
    "print(new_addresses.shape)\n",
    "new_addresses.head(2)"
   ]
  },
  {
   "cell_type": "code",
   "execution_count": 328,
   "metadata": {},
   "outputs": [
    {
     "name": "stdout",
     "output_type": "stream",
     "text": [
      "(3961, 1)\n"
     ]
    },
    {
     "data": {
      "text/html": [
       "<div>\n",
       "<style scoped>\n",
       "    .dataframe tbody tr th:only-of-type {\n",
       "        vertical-align: middle;\n",
       "    }\n",
       "\n",
       "    .dataframe tbody tr th {\n",
       "        vertical-align: top;\n",
       "    }\n",
       "\n",
       "    .dataframe thead th {\n",
       "        text-align: right;\n",
       "    }\n",
       "</style>\n",
       "<table border=\"1\" class=\"dataframe\">\n",
       "  <thead>\n",
       "    <tr style=\"text-align: right;\">\n",
       "      <th></th>\n",
       "      <th>addresses_min_10k_count</th>\n",
       "    </tr>\n",
       "    <tr>\n",
       "      <th>t</th>\n",
       "      <th></th>\n",
       "    </tr>\n",
       "  </thead>\n",
       "  <tbody>\n",
       "    <tr>\n",
       "      <th>2020-11-03</th>\n",
       "      <td>108</td>\n",
       "    </tr>\n",
       "    <tr>\n",
       "      <th>2020-11-04</th>\n",
       "      <td>107</td>\n",
       "    </tr>\n",
       "  </tbody>\n",
       "</table>\n",
       "</div>"
      ],
      "text/plain": [
       "            addresses_min_10k_count\n",
       "t                                  \n",
       "2020-11-03                      108\n",
       "2020-11-04                      107"
      ]
     },
     "execution_count": 328,
     "metadata": {},
     "output_type": "execute_result"
    }
   ],
   "source": [
    "min_10k_addresses = gn.get('https://api.glassnode.com/v1/metrics/addresses/min_10k_count',  a='btc', s='2010', u=today)\n",
    "min_10k_addresses.to_csv('data/min_10k_addresses.csv')\n",
    "print(min_10k_addresses.shape)\n",
    "min_10k_addresses.tail(2)"
   ]
  },
  {
   "cell_type": "code",
   "execution_count": 329,
   "metadata": {},
   "outputs": [
    {
     "name": "stdout",
     "output_type": "stream",
     "text": [
      "(3961, 1)\n"
     ]
    },
    {
     "data": {
      "text/html": [
       "<div>\n",
       "<style scoped>\n",
       "    .dataframe tbody tr th:only-of-type {\n",
       "        vertical-align: middle;\n",
       "    }\n",
       "\n",
       "    .dataframe tbody tr th {\n",
       "        vertical-align: top;\n",
       "    }\n",
       "\n",
       "    .dataframe thead th {\n",
       "        text-align: right;\n",
       "    }\n",
       "</style>\n",
       "<table border=\"1\" class=\"dataframe\">\n",
       "  <thead>\n",
       "    <tr style=\"text-align: right;\">\n",
       "      <th></th>\n",
       "      <th>addresses_min_1k_count</th>\n",
       "    </tr>\n",
       "    <tr>\n",
       "      <th>t</th>\n",
       "      <th></th>\n",
       "    </tr>\n",
       "  </thead>\n",
       "  <tbody>\n",
       "    <tr>\n",
       "      <th>2020-11-03</th>\n",
       "      <td>2223</td>\n",
       "    </tr>\n",
       "    <tr>\n",
       "      <th>2020-11-04</th>\n",
       "      <td>2216</td>\n",
       "    </tr>\n",
       "  </tbody>\n",
       "</table>\n",
       "</div>"
      ],
      "text/plain": [
       "            addresses_min_1k_count\n",
       "t                                 \n",
       "2020-11-03                    2223\n",
       "2020-11-04                    2216"
      ]
     },
     "execution_count": 329,
     "metadata": {},
     "output_type": "execute_result"
    }
   ],
   "source": [
    "min_1k_addresses = gn.get('https://api.glassnode.com/v1/metrics/addresses/min_1k_count',  a='btc', s='2010', u=today)\n",
    "min_1k_addresses.to_csv('data/min_1k_addresses.csv')\n",
    "print(min_1k_addresses.shape)\n",
    "min_1k_addresses.tail(2)"
   ]
  },
  {
   "cell_type": "code",
   "execution_count": null,
   "metadata": {},
   "outputs": [],
   "source": []
  },
  {
   "cell_type": "code",
   "execution_count": 330,
   "metadata": {},
   "outputs": [
    {
     "name": "stdout",
     "output_type": "stream",
     "text": [
      "(3961, 1)\n"
     ]
    },
    {
     "data": {
      "text/html": [
       "<div>\n",
       "<style scoped>\n",
       "    .dataframe tbody tr th:only-of-type {\n",
       "        vertical-align: middle;\n",
       "    }\n",
       "\n",
       "    .dataframe tbody tr th {\n",
       "        vertical-align: top;\n",
       "    }\n",
       "\n",
       "    .dataframe thead th {\n",
       "        text-align: right;\n",
       "    }\n",
       "</style>\n",
       "<table border=\"1\" class=\"dataframe\">\n",
       "  <thead>\n",
       "    <tr style=\"text-align: right;\">\n",
       "      <th></th>\n",
       "      <th>addresses_non_zero_count</th>\n",
       "    </tr>\n",
       "    <tr>\n",
       "      <th>t</th>\n",
       "      <th></th>\n",
       "    </tr>\n",
       "  </thead>\n",
       "  <tbody>\n",
       "    <tr>\n",
       "      <th>2020-11-03</th>\n",
       "      <td>32849437</td>\n",
       "    </tr>\n",
       "    <tr>\n",
       "      <th>2020-11-04</th>\n",
       "      <td>32725036</td>\n",
       "    </tr>\n",
       "  </tbody>\n",
       "</table>\n",
       "</div>"
      ],
      "text/plain": [
       "            addresses_non_zero_count\n",
       "t                                   \n",
       "2020-11-03                  32849437\n",
       "2020-11-04                  32725036"
      ]
     },
     "execution_count": 330,
     "metadata": {},
     "output_type": "execute_result"
    }
   ],
   "source": [
    "non_zero_addresses = gn.get('https://api.glassnode.com/v1/metrics/addresses/non_zero_count',  a='btc', s='2010', u=today)\n",
    "non_zero_addresses.to_csv('data/non_zero_addresses.csv')\n",
    "print(non_zero_addresses.shape)\n",
    "non_zero_addresses.tail(2)"
   ]
  },
  {
   "cell_type": "code",
   "execution_count": 331,
   "metadata": {},
   "outputs": [
    {
     "name": "stdout",
     "output_type": "stream",
     "text": [
      "(3398, 1)\n"
     ]
    },
    {
     "data": {
      "text/html": [
       "<div>\n",
       "<style scoped>\n",
       "    .dataframe tbody tr th:only-of-type {\n",
       "        vertical-align: middle;\n",
       "    }\n",
       "\n",
       "    .dataframe tbody tr th {\n",
       "        vertical-align: top;\n",
       "    }\n",
       "\n",
       "    .dataframe thead th {\n",
       "        text-align: right;\n",
       "    }\n",
       "</style>\n",
       "<table border=\"1\" class=\"dataframe\">\n",
       "  <thead>\n",
       "    <tr style=\"text-align: right;\">\n",
       "      <th></th>\n",
       "      <th>addresses_profit_relative</th>\n",
       "    </tr>\n",
       "    <tr>\n",
       "      <th>t</th>\n",
       "      <th></th>\n",
       "    </tr>\n",
       "  </thead>\n",
       "  <tbody>\n",
       "    <tr>\n",
       "      <th>2019-11-04</th>\n",
       "      <td>0.784500</td>\n",
       "    </tr>\n",
       "    <tr>\n",
       "      <th>2019-11-05</th>\n",
       "      <td>0.777738</td>\n",
       "    </tr>\n",
       "  </tbody>\n",
       "</table>\n",
       "</div>"
      ],
      "text/plain": [
       "            addresses_profit_relative\n",
       "t                                    \n",
       "2019-11-04                   0.784500\n",
       "2019-11-05                   0.777738"
      ]
     },
     "execution_count": 331,
     "metadata": {},
     "output_type": "execute_result"
    }
   ],
   "source": [
    "addresses_profit = gn.get('https://api.glassnode.com/v1/metrics/addresses/profit_relative',  a='btc', s='2010', u=today)\n",
    "addresses_profit.to_csv('data/addresses_profit.csv')\n",
    "print(addresses_profit.shape)\n",
    "addresses_profit.tail(2)"
   ]
  },
  {
   "cell_type": "code",
   "execution_count": 332,
   "metadata": {},
   "outputs": [
    {
     "name": "stdout",
     "output_type": "stream",
     "text": [
      "(3596, 1)\n"
     ]
    },
    {
     "data": {
      "text/html": [
       "<div>\n",
       "<style scoped>\n",
       "    .dataframe tbody tr th:only-of-type {\n",
       "        vertical-align: middle;\n",
       "    }\n",
       "\n",
       "    .dataframe tbody tr th {\n",
       "        vertical-align: top;\n",
       "    }\n",
       "\n",
       "    .dataframe thead th {\n",
       "        text-align: right;\n",
       "    }\n",
       "</style>\n",
       "<table border=\"1\" class=\"dataframe\">\n",
       "  <thead>\n",
       "    <tr style=\"text-align: right;\">\n",
       "      <th></th>\n",
       "      <th>o</th>\n",
       "    </tr>\n",
       "    <tr>\n",
       "      <th>t</th>\n",
       "      <th></th>\n",
       "    </tr>\n",
       "  </thead>\n",
       "  <tbody>\n",
       "    <tr>\n",
       "      <th>2019-11-04</th>\n",
       "      <td>{'0001_001': 0.0014880782276447502, '001_01': ...</td>\n",
       "    </tr>\n",
       "    <tr>\n",
       "      <th>2019-11-05</th>\n",
       "      <td>{'0001_001': 0.0014864973671268333, '001_01': ...</td>\n",
       "    </tr>\n",
       "  </tbody>\n",
       "</table>\n",
       "</div>"
      ],
      "text/plain": [
       "                                                            o\n",
       "t                                                            \n",
       "2019-11-04  {'0001_001': 0.0014880782276447502, '001_01': ...\n",
       "2019-11-05  {'0001_001': 0.0014864973671268333, '001_01': ..."
      ]
     },
     "execution_count": 332,
     "metadata": {},
     "output_type": "execute_result"
    }
   ],
   "source": [
    "addresses_dist = gn.get('https://api.glassnode.com/v1/metrics/addresses/supply_distribution_relative',  a='btc', s='2010', u=today)\n",
    "addresses_dist.to_csv('data/addresses_dist.csv')\n",
    "print(addresses_dist.shape)\n",
    "addresses_dist.tail(2)"
   ]
  },
  {
   "cell_type": "code",
   "execution_count": 333,
   "metadata": {},
   "outputs": [
    {
     "name": "stdout",
     "output_type": "stream",
     "text": [
      "(3596, 1)\n"
     ]
    },
    {
     "data": {
      "text/html": [
       "<div>\n",
       "<style scoped>\n",
       "    .dataframe tbody tr th:only-of-type {\n",
       "        vertical-align: middle;\n",
       "    }\n",
       "\n",
       "    .dataframe tbody tr th {\n",
       "        vertical-align: top;\n",
       "    }\n",
       "\n",
       "    .dataframe thead th {\n",
       "        text-align: right;\n",
       "    }\n",
       "</style>\n",
       "<table border=\"1\" class=\"dataframe\">\n",
       "  <thead>\n",
       "    <tr style=\"text-align: right;\">\n",
       "      <th></th>\n",
       "      <th>addresses_accumulation_count</th>\n",
       "    </tr>\n",
       "    <tr>\n",
       "      <th>t</th>\n",
       "      <th></th>\n",
       "    </tr>\n",
       "  </thead>\n",
       "  <tbody>\n",
       "    <tr>\n",
       "      <th>2019-11-04</th>\n",
       "      <td>457297</td>\n",
       "    </tr>\n",
       "    <tr>\n",
       "      <th>2019-11-05</th>\n",
       "      <td>457742</td>\n",
       "    </tr>\n",
       "  </tbody>\n",
       "</table>\n",
       "</div>"
      ],
      "text/plain": [
       "            addresses_accumulation_count\n",
       "t                                       \n",
       "2019-11-04                        457297\n",
       "2019-11-05                        457742"
      ]
     },
     "execution_count": 333,
     "metadata": {},
     "output_type": "execute_result"
    }
   ],
   "source": [
    "accum_addresses = gn.get('https://api.glassnode.com/v1/metrics/addresses/accumulation_count',  a='btc', s='2010', u=today)\n",
    "accum_addresses.to_csv('data/accum_addresses.csv')\n",
    "print(accum_addresses.shape)\n",
    "accum_addresses.tail(2)"
   ]
  },
  {
   "cell_type": "code",
   "execution_count": 386,
   "metadata": {},
   "outputs": [
    {
     "name": "stdout",
     "output_type": "stream",
     "text": [
      "(3596, 1)\n"
     ]
    },
    {
     "data": {
      "text/html": [
       "<div>\n",
       "<style scoped>\n",
       "    .dataframe tbody tr th:only-of-type {\n",
       "        vertical-align: middle;\n",
       "    }\n",
       "\n",
       "    .dataframe tbody tr th {\n",
       "        vertical-align: top;\n",
       "    }\n",
       "\n",
       "    .dataframe thead th {\n",
       "        text-align: right;\n",
       "    }\n",
       "</style>\n",
       "<table border=\"1\" class=\"dataframe\">\n",
       "  <thead>\n",
       "    <tr style=\"text-align: right;\">\n",
       "      <th></th>\n",
       "      <th>addresses_accumulation_balance</th>\n",
       "    </tr>\n",
       "    <tr>\n",
       "      <th>t</th>\n",
       "      <th></th>\n",
       "    </tr>\n",
       "  </thead>\n",
       "  <tbody>\n",
       "    <tr>\n",
       "      <th>2010-01-01</th>\n",
       "      <td>70018.15</td>\n",
       "    </tr>\n",
       "    <tr>\n",
       "      <th>2010-01-02</th>\n",
       "      <td>70018.15</td>\n",
       "    </tr>\n",
       "  </tbody>\n",
       "</table>\n",
       "</div>"
      ],
      "text/plain": [
       "            addresses_accumulation_balance\n",
       "t                                         \n",
       "2010-01-01                        70018.15\n",
       "2010-01-02                        70018.15"
      ]
     },
     "execution_count": 386,
     "metadata": {},
     "output_type": "execute_result"
    }
   ],
   "source": [
    "accum_balance = gn.get('https://api.glassnode.com/v1/metrics/addresses/accumulation_balance',  a='btc', s='2010', u=today)\n",
    "accum_balance.to_csv('data/accum_balance.csv')\n",
    "print(accum_balance.shape)\n",
    "accum_balance.head(2)"
   ]
  },
  {
   "cell_type": "code",
   "execution_count": 335,
   "metadata": {},
   "outputs": [],
   "source": [
    "# TRANSACTIONS"
   ]
  },
  {
   "cell_type": "code",
   "execution_count": 336,
   "metadata": {},
   "outputs": [
    {
     "name": "stdout",
     "output_type": "stream",
     "text": [
      "(3961, 1)\n"
     ]
    },
    {
     "data": {
      "text/html": [
       "<div>\n",
       "<style scoped>\n",
       "    .dataframe tbody tr th:only-of-type {\n",
       "        vertical-align: middle;\n",
       "    }\n",
       "\n",
       "    .dataframe tbody tr th {\n",
       "        vertical-align: top;\n",
       "    }\n",
       "\n",
       "    .dataframe thead th {\n",
       "        text-align: right;\n",
       "    }\n",
       "</style>\n",
       "<table border=\"1\" class=\"dataframe\">\n",
       "  <thead>\n",
       "    <tr style=\"text-align: right;\">\n",
       "      <th></th>\n",
       "      <th>transactions_count</th>\n",
       "    </tr>\n",
       "    <tr>\n",
       "      <th>t</th>\n",
       "      <th></th>\n",
       "    </tr>\n",
       "  </thead>\n",
       "  <tbody>\n",
       "    <tr>\n",
       "      <th>2020-11-03</th>\n",
       "      <td>331533</td>\n",
       "    </tr>\n",
       "    <tr>\n",
       "      <th>2020-11-04</th>\n",
       "      <td>320538</td>\n",
       "    </tr>\n",
       "  </tbody>\n",
       "</table>\n",
       "</div>"
      ],
      "text/plain": [
       "            transactions_count\n",
       "t                             \n",
       "2020-11-03              331533\n",
       "2020-11-04              320538"
      ]
     },
     "execution_count": 336,
     "metadata": {},
     "output_type": "execute_result"
    }
   ],
   "source": [
    "trans_count = gn.get('https://api.glassnode.com/v1/metrics/transactions/count',  a='btc', s='2010', u=today)\n",
    "trans_count.to_csv('data/trans_count.csv')\n",
    "print(trans_count.shape)\n",
    "trans_count.tail(2)"
   ]
  },
  {
   "cell_type": "code",
   "execution_count": 337,
   "metadata": {},
   "outputs": [
    {
     "name": "stdout",
     "output_type": "stream",
     "text": [
      "(3961, 1)\n"
     ]
    },
    {
     "data": {
      "text/html": [
       "<div>\n",
       "<style scoped>\n",
       "    .dataframe tbody tr th:only-of-type {\n",
       "        vertical-align: middle;\n",
       "    }\n",
       "\n",
       "    .dataframe tbody tr th {\n",
       "        vertical-align: top;\n",
       "    }\n",
       "\n",
       "    .dataframe thead th {\n",
       "        text-align: right;\n",
       "    }\n",
       "</style>\n",
       "<table border=\"1\" class=\"dataframe\">\n",
       "  <thead>\n",
       "    <tr style=\"text-align: right;\">\n",
       "      <th></th>\n",
       "      <th>transactions_rate</th>\n",
       "    </tr>\n",
       "    <tr>\n",
       "      <th>t</th>\n",
       "      <th></th>\n",
       "    </tr>\n",
       "  </thead>\n",
       "  <tbody>\n",
       "    <tr>\n",
       "      <th>2020-11-03</th>\n",
       "      <td>3.837188</td>\n",
       "    </tr>\n",
       "    <tr>\n",
       "      <th>2020-11-04</th>\n",
       "      <td>3.709931</td>\n",
       "    </tr>\n",
       "  </tbody>\n",
       "</table>\n",
       "</div>"
      ],
      "text/plain": [
       "            transactions_rate\n",
       "t                            \n",
       "2020-11-03           3.837188\n",
       "2020-11-04           3.709931"
      ]
     },
     "execution_count": 337,
     "metadata": {},
     "output_type": "execute_result"
    }
   ],
   "source": [
    "trans_rate = gn.get('https://api.glassnode.com/v1/metrics/transactions/rate',  a='btc', s='2010', u=today)\n",
    "trans_rate.to_csv('data/trans_rate.csv')\n",
    "print(trans_rate.shape)\n",
    "trans_rate.tail(2)"
   ]
  },
  {
   "cell_type": "code",
   "execution_count": 338,
   "metadata": {},
   "outputs": [],
   "source": [
    "# transf_count = gn.get('https://api.glassnode.com/v1/metrics/transactions/transfers_count',  a='eth', s='2015', u='2019')\n",
    "# transf_count.to_csv('data/transf_count.csv')\n",
    "# print(transf_count.shape)\n",
    "# transf_count.tail(2)"
   ]
  },
  {
   "cell_type": "code",
   "execution_count": 339,
   "metadata": {},
   "outputs": [
    {
     "name": "stdout",
     "output_type": "stream",
     "text": [
      "(3961, 1)\n"
     ]
    },
    {
     "data": {
      "text/html": [
       "<div>\n",
       "<style scoped>\n",
       "    .dataframe tbody tr th:only-of-type {\n",
       "        vertical-align: middle;\n",
       "    }\n",
       "\n",
       "    .dataframe tbody tr th {\n",
       "        vertical-align: top;\n",
       "    }\n",
       "\n",
       "    .dataframe thead th {\n",
       "        text-align: right;\n",
       "    }\n",
       "</style>\n",
       "<table border=\"1\" class=\"dataframe\">\n",
       "  <thead>\n",
       "    <tr style=\"text-align: right;\">\n",
       "      <th></th>\n",
       "      <th>transactions_size_sum</th>\n",
       "    </tr>\n",
       "    <tr>\n",
       "      <th>t</th>\n",
       "      <th></th>\n",
       "    </tr>\n",
       "  </thead>\n",
       "  <tbody>\n",
       "    <tr>\n",
       "      <th>2020-11-03</th>\n",
       "      <td>179503379.0</td>\n",
       "    </tr>\n",
       "    <tr>\n",
       "      <th>2020-11-04</th>\n",
       "      <td>213361439.0</td>\n",
       "    </tr>\n",
       "  </tbody>\n",
       "</table>\n",
       "</div>"
      ],
      "text/plain": [
       "            transactions_size_sum\n",
       "t                                \n",
       "2020-11-03            179503379.0\n",
       "2020-11-04            213361439.0"
      ]
     },
     "execution_count": 339,
     "metadata": {},
     "output_type": "execute_result"
    }
   ],
   "source": [
    "trans_size = gn.get('https://api.glassnode.com/v1/metrics/transactions/size_sum',  a='btc', s='2010', u=today)\n",
    "trans_size.to_csv('data/trans_size.csv')\n",
    "print(trans_size.shape)\n",
    "trans_size.tail(2)"
   ]
  },
  {
   "cell_type": "code",
   "execution_count": 340,
   "metadata": {},
   "outputs": [
    {
     "name": "stdout",
     "output_type": "stream",
     "text": [
      "(3961, 1)\n"
     ]
    },
    {
     "data": {
      "text/html": [
       "<div>\n",
       "<style scoped>\n",
       "    .dataframe tbody tr th:only-of-type {\n",
       "        vertical-align: middle;\n",
       "    }\n",
       "\n",
       "    .dataframe tbody tr th {\n",
       "        vertical-align: top;\n",
       "    }\n",
       "\n",
       "    .dataframe thead th {\n",
       "        text-align: right;\n",
       "    }\n",
       "</style>\n",
       "<table border=\"1\" class=\"dataframe\">\n",
       "  <thead>\n",
       "    <tr style=\"text-align: right;\">\n",
       "      <th></th>\n",
       "      <th>transactions_transfers_volume_adjusted_sum</th>\n",
       "    </tr>\n",
       "    <tr>\n",
       "      <th>t</th>\n",
       "      <th></th>\n",
       "    </tr>\n",
       "  </thead>\n",
       "  <tbody>\n",
       "    <tr>\n",
       "      <th>2020-11-03</th>\n",
       "      <td>992984.159481</td>\n",
       "    </tr>\n",
       "    <tr>\n",
       "      <th>2020-11-04</th>\n",
       "      <td>600745.196884</td>\n",
       "    </tr>\n",
       "  </tbody>\n",
       "</table>\n",
       "</div>"
      ],
      "text/plain": [
       "            transactions_transfers_volume_adjusted_sum\n",
       "t                                                     \n",
       "2020-11-03                               992984.159481\n",
       "2020-11-04                               600745.196884"
      ]
     },
     "execution_count": 340,
     "metadata": {},
     "output_type": "execute_result"
    }
   ],
   "source": [
    "transf_adj_vol = gn.get('https://api.glassnode.com/v1/metrics/transactions/transfers_volume_adjusted_sum',  a='btc', s='2010', u=today)\n",
    "transf_adj_vol.to_csv('data/transf_adj_vol.csv')\n",
    "print(transf_adj_vol.shape)\n",
    "transf_adj_vol.tail(2)"
   ]
  },
  {
   "cell_type": "code",
   "execution_count": 341,
   "metadata": {},
   "outputs": [
    {
     "name": "stdout",
     "output_type": "stream",
     "text": [
      "(3596, 1)\n"
     ]
    },
    {
     "data": {
      "text/html": [
       "<div>\n",
       "<style scoped>\n",
       "    .dataframe tbody tr th:only-of-type {\n",
       "        vertical-align: middle;\n",
       "    }\n",
       "\n",
       "    .dataframe tbody tr th {\n",
       "        vertical-align: top;\n",
       "    }\n",
       "\n",
       "    .dataframe thead th {\n",
       "        text-align: right;\n",
       "    }\n",
       "</style>\n",
       "<table border=\"1\" class=\"dataframe\">\n",
       "  <thead>\n",
       "    <tr style=\"text-align: right;\">\n",
       "      <th></th>\n",
       "      <th>transactions_entity_adjusted_count</th>\n",
       "    </tr>\n",
       "    <tr>\n",
       "      <th>t</th>\n",
       "      <th></th>\n",
       "    </tr>\n",
       "  </thead>\n",
       "  <tbody>\n",
       "    <tr>\n",
       "      <th>2019-11-04</th>\n",
       "      <td>242273</td>\n",
       "    </tr>\n",
       "    <tr>\n",
       "      <th>2019-11-05</th>\n",
       "      <td>252235</td>\n",
       "    </tr>\n",
       "  </tbody>\n",
       "</table>\n",
       "</div>"
      ],
      "text/plain": [
       "            transactions_entity_adjusted_count\n",
       "t                                             \n",
       "2019-11-04                              242273\n",
       "2019-11-05                              252235"
      ]
     },
     "execution_count": 341,
     "metadata": {},
     "output_type": "execute_result"
    }
   ],
   "source": [
    "ent_adj_count = gn.get('https://api.glassnode.com/v1/metrics/transactions/entity_adjusted_count',  a='btc', s='2010', u=today)\n",
    "ent_adj_count.to_csv('data/ent_adj_count.csv')\n",
    "print(ent_adj_count.shape)\n",
    "ent_adj_count.tail(2)"
   ]
  },
  {
   "cell_type": "code",
   "execution_count": 298,
   "metadata": {},
   "outputs": [
    {
     "name": "stdout",
     "output_type": "stream",
     "text": [
      "(3596, 1)\n"
     ]
    },
    {
     "data": {
      "text/html": [
       "<div>\n",
       "<style scoped>\n",
       "    .dataframe tbody tr th:only-of-type {\n",
       "        vertical-align: middle;\n",
       "    }\n",
       "\n",
       "    .dataframe tbody tr th {\n",
       "        vertical-align: top;\n",
       "    }\n",
       "\n",
       "    .dataframe thead th {\n",
       "        text-align: right;\n",
       "    }\n",
       "</style>\n",
       "<table border=\"1\" class=\"dataframe\">\n",
       "  <thead>\n",
       "    <tr style=\"text-align: right;\">\n",
       "      <th></th>\n",
       "      <th>transactions_transfers_volume_entity_adjusted_sum</th>\n",
       "    </tr>\n",
       "    <tr>\n",
       "      <th>t</th>\n",
       "      <th></th>\n",
       "    </tr>\n",
       "  </thead>\n",
       "  <tbody>\n",
       "    <tr>\n",
       "      <th>2019-11-04</th>\n",
       "      <td>262682.754655</td>\n",
       "    </tr>\n",
       "    <tr>\n",
       "      <th>2019-11-05</th>\n",
       "      <td>283275.555478</td>\n",
       "    </tr>\n",
       "  </tbody>\n",
       "</table>\n",
       "</div>"
      ],
      "text/plain": [
       "            transactions_transfers_volume_entity_adjusted_sum\n",
       "t                                                            \n",
       "2019-11-04                                      262682.754655\n",
       "2019-11-05                                      283275.555478"
      ]
     },
     "execution_count": 298,
     "metadata": {},
     "output_type": "execute_result"
    }
   ],
   "source": [
    "ent_adj_vol = gn.get('https://api.glassnode.com/v1/metrics/transactions/transfers_volume_entity_adjusted_sum',  a='btc', s='2010', u=today)\n",
    "ent_adj_vol.to_csv('data/ent_adj_vol.csv')\n",
    "print(ent_adj_vol.shape)\n",
    "ent_adj_vol.tail(2)"
   ]
  },
  {
   "cell_type": "code",
   "execution_count": 299,
   "metadata": {},
   "outputs": [
    {
     "name": "stdout",
     "output_type": "stream",
     "text": [
      "(3596, 1)\n"
     ]
    },
    {
     "data": {
      "text/html": [
       "<div>\n",
       "<style scoped>\n",
       "    .dataframe tbody tr th:only-of-type {\n",
       "        vertical-align: middle;\n",
       "    }\n",
       "\n",
       "    .dataframe tbody tr th {\n",
       "        vertical-align: top;\n",
       "    }\n",
       "\n",
       "    .dataframe thead th {\n",
       "        text-align: right;\n",
       "    }\n",
       "</style>\n",
       "<table border=\"1\" class=\"dataframe\">\n",
       "  <thead>\n",
       "    <tr style=\"text-align: right;\">\n",
       "      <th></th>\n",
       "      <th>transactions_transfers_volume_miners_net</th>\n",
       "    </tr>\n",
       "    <tr>\n",
       "      <th>t</th>\n",
       "      <th></th>\n",
       "    </tr>\n",
       "  </thead>\n",
       "  <tbody>\n",
       "    <tr>\n",
       "      <th>2019-11-04</th>\n",
       "      <td>-43.159573</td>\n",
       "    </tr>\n",
       "    <tr>\n",
       "      <th>2019-11-05</th>\n",
       "      <td>505.518195</td>\n",
       "    </tr>\n",
       "  </tbody>\n",
       "</table>\n",
       "</div>"
      ],
      "text/plain": [
       "            transactions_transfers_volume_miners_net\n",
       "t                                                   \n",
       "2019-11-04                                -43.159573\n",
       "2019-11-05                                505.518195"
      ]
     },
     "execution_count": 299,
     "metadata": {},
     "output_type": "execute_result"
    }
   ],
   "source": [
    "miner_netflow = gn.get('https://api.glassnode.com/v1/metrics/transactions/transfers_volume_miners_net',  a='btc', s='2010', u=today)\n",
    "miner_netflow.to_csv('data/miner_netflow.csv')\n",
    "print(miner_netflow.shape)\n",
    "miner_netflow.tail(2)"
   ]
  },
  {
   "cell_type": "code",
   "execution_count": 300,
   "metadata": {},
   "outputs": [],
   "source": [
    "# ENTITIES"
   ]
  },
  {
   "cell_type": "code",
   "execution_count": 301,
   "metadata": {},
   "outputs": [
    {
     "name": "stdout",
     "output_type": "stream",
     "text": [
      "(3596, 1)\n"
     ]
    },
    {
     "data": {
      "text/html": [
       "<div>\n",
       "<style scoped>\n",
       "    .dataframe tbody tr th:only-of-type {\n",
       "        vertical-align: middle;\n",
       "    }\n",
       "\n",
       "    .dataframe tbody tr th {\n",
       "        vertical-align: top;\n",
       "    }\n",
       "\n",
       "    .dataframe thead th {\n",
       "        text-align: right;\n",
       "    }\n",
       "</style>\n",
       "<table border=\"1\" class=\"dataframe\">\n",
       "  <thead>\n",
       "    <tr style=\"text-align: right;\">\n",
       "      <th></th>\n",
       "      <th>entities_new_count</th>\n",
       "    </tr>\n",
       "    <tr>\n",
       "      <th>t</th>\n",
       "      <th></th>\n",
       "    </tr>\n",
       "  </thead>\n",
       "  <tbody>\n",
       "    <tr>\n",
       "      <th>2019-11-04</th>\n",
       "      <td>108610</td>\n",
       "    </tr>\n",
       "    <tr>\n",
       "      <th>2019-11-05</th>\n",
       "      <td>110287</td>\n",
       "    </tr>\n",
       "  </tbody>\n",
       "</table>\n",
       "</div>"
      ],
      "text/plain": [
       "            entities_new_count\n",
       "t                             \n",
       "2019-11-04              108610\n",
       "2019-11-05              110287"
      ]
     },
     "execution_count": 301,
     "metadata": {},
     "output_type": "execute_result"
    }
   ],
   "source": [
    "new_entities = gn.get('https://api.glassnode.com/v1/metrics/entities/new_count',  a='btc', s='2010', u=today)\n",
    "new_entities.to_csv('data/new_entities.csv')\n",
    "print(new_entities.shape)\n",
    "new_entities.tail(2)"
   ]
  },
  {
   "cell_type": "code",
   "execution_count": 302,
   "metadata": {},
   "outputs": [
    {
     "name": "stdout",
     "output_type": "stream",
     "text": [
      "(3596, 1)\n"
     ]
    },
    {
     "data": {
      "text/html": [
       "<div>\n",
       "<style scoped>\n",
       "    .dataframe tbody tr th:only-of-type {\n",
       "        vertical-align: middle;\n",
       "    }\n",
       "\n",
       "    .dataframe tbody tr th {\n",
       "        vertical-align: top;\n",
       "    }\n",
       "\n",
       "    .dataframe thead th {\n",
       "        text-align: right;\n",
       "    }\n",
       "</style>\n",
       "<table border=\"1\" class=\"dataframe\">\n",
       "  <thead>\n",
       "    <tr style=\"text-align: right;\">\n",
       "      <th></th>\n",
       "      <th>entities_net_growth_count</th>\n",
       "    </tr>\n",
       "    <tr>\n",
       "      <th>t</th>\n",
       "      <th></th>\n",
       "    </tr>\n",
       "  </thead>\n",
       "  <tbody>\n",
       "    <tr>\n",
       "      <th>2019-11-04</th>\n",
       "      <td>8474</td>\n",
       "    </tr>\n",
       "    <tr>\n",
       "      <th>2019-11-05</th>\n",
       "      <td>6798</td>\n",
       "    </tr>\n",
       "  </tbody>\n",
       "</table>\n",
       "</div>"
      ],
      "text/plain": [
       "            entities_net_growth_count\n",
       "t                                    \n",
       "2019-11-04                       8474\n",
       "2019-11-05                       6798"
      ]
     },
     "execution_count": 302,
     "metadata": {},
     "output_type": "execute_result"
    }
   ],
   "source": [
    "entities_growth = gn.get('https://api.glassnode.com/v1/metrics/entities/net_growth_count',  a='btc', s='2010', u=today)\n",
    "entities_growth.to_csv('data/entities_growth.csv')\n",
    "print(entities_growth.shape)\n",
    "entities_growth.tail(2)"
   ]
  },
  {
   "cell_type": "code",
   "execution_count": 303,
   "metadata": {},
   "outputs": [
    {
     "name": "stdout",
     "output_type": "stream",
     "text": [
      "(3596, 1)\n"
     ]
    },
    {
     "data": {
      "text/html": [
       "<div>\n",
       "<style scoped>\n",
       "    .dataframe tbody tr th:only-of-type {\n",
       "        vertical-align: middle;\n",
       "    }\n",
       "\n",
       "    .dataframe tbody tr th {\n",
       "        vertical-align: top;\n",
       "    }\n",
       "\n",
       "    .dataframe thead th {\n",
       "        text-align: right;\n",
       "    }\n",
       "</style>\n",
       "<table border=\"1\" class=\"dataframe\">\n",
       "  <thead>\n",
       "    <tr style=\"text-align: right;\">\n",
       "      <th></th>\n",
       "      <th>entities_min_1k_count</th>\n",
       "    </tr>\n",
       "    <tr>\n",
       "      <th>t</th>\n",
       "      <th></th>\n",
       "    </tr>\n",
       "  </thead>\n",
       "  <tbody>\n",
       "    <tr>\n",
       "      <th>2019-11-04</th>\n",
       "      <td>1728</td>\n",
       "    </tr>\n",
       "    <tr>\n",
       "      <th>2019-11-05</th>\n",
       "      <td>1724</td>\n",
       "    </tr>\n",
       "  </tbody>\n",
       "</table>\n",
       "</div>"
      ],
      "text/plain": [
       "            entities_min_1k_count\n",
       "t                                \n",
       "2019-11-04                   1728\n",
       "2019-11-05                   1724"
      ]
     },
     "execution_count": 303,
     "metadata": {},
     "output_type": "execute_result"
    }
   ],
   "source": [
    "whales = gn.get('https://api.glassnode.com/v1/metrics/entities/min_1k_count',  a='btc', s='2010', u=today)\n",
    "whales.to_csv('data/whales.csv')\n",
    "print(whales.shape)\n",
    "whales.tail(2)"
   ]
  },
  {
   "cell_type": "code",
   "execution_count": 304,
   "metadata": {},
   "outputs": [
    {
     "name": "stdout",
     "output_type": "stream",
     "text": [
      "(3596, 1)\n"
     ]
    },
    {
     "data": {
      "text/html": [
       "<div>\n",
       "<style scoped>\n",
       "    .dataframe tbody tr th:only-of-type {\n",
       "        vertical-align: middle;\n",
       "    }\n",
       "\n",
       "    .dataframe tbody tr th {\n",
       "        vertical-align: top;\n",
       "    }\n",
       "\n",
       "    .dataframe thead th {\n",
       "        text-align: right;\n",
       "    }\n",
       "</style>\n",
       "<table border=\"1\" class=\"dataframe\">\n",
       "  <thead>\n",
       "    <tr style=\"text-align: right;\">\n",
       "      <th></th>\n",
       "      <th>entities_active_count</th>\n",
       "    </tr>\n",
       "    <tr>\n",
       "      <th>t</th>\n",
       "      <th></th>\n",
       "    </tr>\n",
       "  </thead>\n",
       "  <tbody>\n",
       "    <tr>\n",
       "      <th>2019-11-04</th>\n",
       "      <td>246589</td>\n",
       "    </tr>\n",
       "    <tr>\n",
       "      <th>2019-11-05</th>\n",
       "      <td>250246</td>\n",
       "    </tr>\n",
       "  </tbody>\n",
       "</table>\n",
       "</div>"
      ],
      "text/plain": [
       "            entities_active_count\n",
       "t                                \n",
       "2019-11-04                 246589\n",
       "2019-11-05                 250246"
      ]
     },
     "execution_count": 304,
     "metadata": {},
     "output_type": "execute_result"
    }
   ],
   "source": [
    "active_entities = gn.get('https://api.glassnode.com/v1/metrics/entities/active_count',  a='btc', s='2010', u=today)\n",
    "active_entities.to_csv('data/active_entities.csv')\n",
    "print(active_entities.shape)\n",
    "active_entities.tail(2)"
   ]
  },
  {
   "cell_type": "code",
   "execution_count": 305,
   "metadata": {},
   "outputs": [
    {
     "name": "stdout",
     "output_type": "stream",
     "text": [
      "(3596, 1)\n"
     ]
    },
    {
     "data": {
      "text/html": [
       "<div>\n",
       "<style scoped>\n",
       "    .dataframe tbody tr th:only-of-type {\n",
       "        vertical-align: middle;\n",
       "    }\n",
       "\n",
       "    .dataframe tbody tr th {\n",
       "        vertical-align: top;\n",
       "    }\n",
       "\n",
       "    .dataframe thead th {\n",
       "        text-align: right;\n",
       "    }\n",
       "</style>\n",
       "<table border=\"1\" class=\"dataframe\">\n",
       "  <thead>\n",
       "    <tr style=\"text-align: right;\">\n",
       "      <th></th>\n",
       "      <th>entities_receiving_count</th>\n",
       "    </tr>\n",
       "    <tr>\n",
       "      <th>t</th>\n",
       "      <th></th>\n",
       "    </tr>\n",
       "  </thead>\n",
       "  <tbody>\n",
       "    <tr>\n",
       "      <th>2019-11-04</th>\n",
       "      <td>189985</td>\n",
       "    </tr>\n",
       "    <tr>\n",
       "      <th>2019-11-05</th>\n",
       "      <td>189142</td>\n",
       "    </tr>\n",
       "  </tbody>\n",
       "</table>\n",
       "</div>"
      ],
      "text/plain": [
       "            entities_receiving_count\n",
       "t                                   \n",
       "2019-11-04                    189985\n",
       "2019-11-05                    189142"
      ]
     },
     "execution_count": 305,
     "metadata": {},
     "output_type": "execute_result"
    }
   ],
   "source": [
    "receiving_entities = gn.get('https://api.glassnode.com/v1/metrics/entities/receiving_count',  a='btc', s='2010', u=today)\n",
    "receiving_entities.to_csv('data/receiving_entities.csv')\n",
    "print(receiving_entities.shape)\n",
    "receiving_entities.tail(2)"
   ]
  },
  {
   "cell_type": "code",
   "execution_count": 306,
   "metadata": {},
   "outputs": [
    {
     "name": "stdout",
     "output_type": "stream",
     "text": [
      "(3398, 1)\n"
     ]
    },
    {
     "data": {
      "text/html": [
       "<div>\n",
       "<style scoped>\n",
       "    .dataframe tbody tr th:only-of-type {\n",
       "        vertical-align: middle;\n",
       "    }\n",
       "\n",
       "    .dataframe tbody tr th {\n",
       "        vertical-align: top;\n",
       "    }\n",
       "\n",
       "    .dataframe thead th {\n",
       "        text-align: right;\n",
       "    }\n",
       "</style>\n",
       "<table border=\"1\" class=\"dataframe\">\n",
       "  <thead>\n",
       "    <tr style=\"text-align: right;\">\n",
       "      <th></th>\n",
       "      <th>entities_profit_relative</th>\n",
       "    </tr>\n",
       "    <tr>\n",
       "      <th>t</th>\n",
       "      <th></th>\n",
       "    </tr>\n",
       "  </thead>\n",
       "  <tbody>\n",
       "    <tr>\n",
       "      <th>2019-11-04</th>\n",
       "      <td>0.800264</td>\n",
       "    </tr>\n",
       "    <tr>\n",
       "      <th>2019-11-05</th>\n",
       "      <td>0.795614</td>\n",
       "    </tr>\n",
       "  </tbody>\n",
       "</table>\n",
       "</div>"
      ],
      "text/plain": [
       "            entities_profit_relative\n",
       "t                                   \n",
       "2019-11-04                  0.800264\n",
       "2019-11-05                  0.795614"
      ]
     },
     "execution_count": 306,
     "metadata": {},
     "output_type": "execute_result"
    }
   ],
   "source": [
    "profit_entities = gn.get('https://api.glassnode.com/v1/metrics/entities/profit_relative',  a='btc', s='2010', u=today)\n",
    "profit_entities.to_csv('data/profit_entities.csv')\n",
    "print(profit_entities.shape)\n",
    "profit_entities.tail(2)"
   ]
  },
  {
   "cell_type": "code",
   "execution_count": 307,
   "metadata": {},
   "outputs": [
    {
     "name": "stdout",
     "output_type": "stream",
     "text": [
      "(3596, 1)\n"
     ]
    },
    {
     "data": {
      "text/html": [
       "<div>\n",
       "<style scoped>\n",
       "    .dataframe tbody tr th:only-of-type {\n",
       "        vertical-align: middle;\n",
       "    }\n",
       "\n",
       "    .dataframe tbody tr th {\n",
       "        vertical-align: top;\n",
       "    }\n",
       "\n",
       "    .dataframe thead th {\n",
       "        text-align: right;\n",
       "    }\n",
       "</style>\n",
       "<table border=\"1\" class=\"dataframe\">\n",
       "  <thead>\n",
       "    <tr style=\"text-align: right;\">\n",
       "      <th></th>\n",
       "      <th>o</th>\n",
       "    </tr>\n",
       "    <tr>\n",
       "      <th>t</th>\n",
       "      <th></th>\n",
       "    </tr>\n",
       "  </thead>\n",
       "  <tbody>\n",
       "    <tr>\n",
       "      <th>2019-11-04</th>\n",
       "      <td>{'0001_001': 0.00115517557741986, '001_01': 0....</td>\n",
       "    </tr>\n",
       "    <tr>\n",
       "      <th>2019-11-05</th>\n",
       "      <td>{'0001_001': 0.00115616268965041, '001_01': 0....</td>\n",
       "    </tr>\n",
       "  </tbody>\n",
       "</table>\n",
       "</div>"
      ],
      "text/plain": [
       "                                                            o\n",
       "t                                                            \n",
       "2019-11-04  {'0001_001': 0.00115517557741986, '001_01': 0....\n",
       "2019-11-05  {'0001_001': 0.00115616268965041, '001_01': 0...."
      ]
     },
     "execution_count": 307,
     "metadata": {},
     "output_type": "execute_result"
    }
   ],
   "source": [
    "entities_dist = gn.get('https://api.glassnode.com/v1/metrics/entities/supply_distribution_relative',  a='btc', s='2010', u=today)\n",
    "entities_dist.to_csv('data/entities_dist.csv')\n",
    "print(entities_dist.shape)\n",
    "entities_dist.tail(2)"
   ]
  },
  {
   "cell_type": "code",
   "execution_count": 308,
   "metadata": {},
   "outputs": [],
   "source": [
    "# MARKET"
   ]
  },
  {
   "cell_type": "code",
   "execution_count": 309,
   "metadata": {},
   "outputs": [
    {
     "name": "stdout",
     "output_type": "stream",
     "text": [
      "(3764, 1)\n"
     ]
    },
    {
     "data": {
      "text/html": [
       "<div>\n",
       "<style scoped>\n",
       "    .dataframe tbody tr th:only-of-type {\n",
       "        vertical-align: middle;\n",
       "    }\n",
       "\n",
       "    .dataframe tbody tr th {\n",
       "        vertical-align: top;\n",
       "    }\n",
       "\n",
       "    .dataframe thead th {\n",
       "        text-align: right;\n",
       "    }\n",
       "</style>\n",
       "<table border=\"1\" class=\"dataframe\">\n",
       "  <thead>\n",
       "    <tr style=\"text-align: right;\">\n",
       "      <th></th>\n",
       "      <th>market_price_usd_close</th>\n",
       "    </tr>\n",
       "    <tr>\n",
       "      <th>t</th>\n",
       "      <th></th>\n",
       "    </tr>\n",
       "  </thead>\n",
       "  <tbody>\n",
       "    <tr>\n",
       "      <th>2020-11-03</th>\n",
       "      <td>13914.806921</td>\n",
       "    </tr>\n",
       "    <tr>\n",
       "      <th>2020-11-04</th>\n",
       "      <td>14127.434501</td>\n",
       "    </tr>\n",
       "  </tbody>\n",
       "</table>\n",
       "</div>"
      ],
      "text/plain": [
       "            market_price_usd_close\n",
       "t                                 \n",
       "2020-11-03            13914.806921\n",
       "2020-11-04            14127.434501"
      ]
     },
     "execution_count": 309,
     "metadata": {},
     "output_type": "execute_result"
    }
   ],
   "source": [
    "closing_price = gn.get('https://api.glassnode.com/v1/metrics/market/price_usd_close',  a='btc', s='2010', u=today)\n",
    "closing_price.to_csv('data/closing_price.csv')\n",
    "print(closing_price.shape)\n",
    "closing_price.tail(2)"
   ]
  },
  {
   "cell_type": "code",
   "execution_count": 310,
   "metadata": {},
   "outputs": [
    {
     "name": "stdout",
     "output_type": "stream",
     "text": [
      "(3764, 1)\n"
     ]
    },
    {
     "data": {
      "text/html": [
       "<div>\n",
       "<style scoped>\n",
       "    .dataframe tbody tr th:only-of-type {\n",
       "        vertical-align: middle;\n",
       "    }\n",
       "\n",
       "    .dataframe tbody tr th {\n",
       "        vertical-align: top;\n",
       "    }\n",
       "\n",
       "    .dataframe thead th {\n",
       "        text-align: right;\n",
       "    }\n",
       "</style>\n",
       "<table border=\"1\" class=\"dataframe\">\n",
       "  <thead>\n",
       "    <tr style=\"text-align: right;\">\n",
       "      <th></th>\n",
       "      <th>o</th>\n",
       "    </tr>\n",
       "    <tr>\n",
       "      <th>t</th>\n",
       "      <th></th>\n",
       "    </tr>\n",
       "  </thead>\n",
       "  <tbody>\n",
       "    <tr>\n",
       "      <th>2020-11-03</th>\n",
       "      <td>{'c': 13914.806921199463, 'h': 13984.981927819...</td>\n",
       "    </tr>\n",
       "    <tr>\n",
       "      <th>2020-11-04</th>\n",
       "      <td>{'c': 14127.434501432557, 'h': 14211.873754619...</td>\n",
       "    </tr>\n",
       "  </tbody>\n",
       "</table>\n",
       "</div>"
      ],
      "text/plain": [
       "                                                            o\n",
       "t                                                            \n",
       "2020-11-03  {'c': 13914.806921199463, 'h': 13984.981927819...\n",
       "2020-11-04  {'c': 14127.434501432557, 'h': 14211.873754619..."
      ]
     },
     "execution_count": 310,
     "metadata": {},
     "output_type": "execute_result"
    }
   ],
   "source": [
    "ohlc_price = gn.get('https://api.glassnode.com/v1/metrics/market/price_usd_ohlc',  a='btc', s='2010', u=today)\n",
    "ohlc_price.to_csv('data/ohlc_price.csv')\n",
    "print(ohlc_price.shape)\n",
    "ohlc_price.tail(2)"
   ]
  },
  {
   "cell_type": "code",
   "execution_count": 311,
   "metadata": {},
   "outputs": [
    {
     "name": "stdout",
     "output_type": "stream",
     "text": [
      "(3764, 1)\n"
     ]
    },
    {
     "data": {
      "text/html": [
       "<div>\n",
       "<style scoped>\n",
       "    .dataframe tbody tr th:only-of-type {\n",
       "        vertical-align: middle;\n",
       "    }\n",
       "\n",
       "    .dataframe tbody tr th {\n",
       "        vertical-align: top;\n",
       "    }\n",
       "\n",
       "    .dataframe thead th {\n",
       "        text-align: right;\n",
       "    }\n",
       "</style>\n",
       "<table border=\"1\" class=\"dataframe\">\n",
       "  <thead>\n",
       "    <tr style=\"text-align: right;\">\n",
       "      <th></th>\n",
       "      <th>market_price_drawdown_relative</th>\n",
       "    </tr>\n",
       "    <tr>\n",
       "      <th>t</th>\n",
       "      <th></th>\n",
       "    </tr>\n",
       "  </thead>\n",
       "  <tbody>\n",
       "    <tr>\n",
       "      <th>2020-11-03</th>\n",
       "      <td>-0.297655</td>\n",
       "    </tr>\n",
       "    <tr>\n",
       "      <th>2020-11-04</th>\n",
       "      <td>-0.286923</td>\n",
       "    </tr>\n",
       "  </tbody>\n",
       "</table>\n",
       "</div>"
      ],
      "text/plain": [
       "            market_price_drawdown_relative\n",
       "t                                         \n",
       "2020-11-03                       -0.297655\n",
       "2020-11-04                       -0.286923"
      ]
     },
     "execution_count": 311,
     "metadata": {},
     "output_type": "execute_result"
    }
   ],
   "source": [
    "pct_from_ath = gn.get('https://api.glassnode.com/v1/metrics/market/price_drawdown_relative',  a='btc', s='2010', u=today)\n",
    "pct_from_ath.to_csv('data/pct_from_ath.csv')\n",
    "print(pct_from_ath.shape)\n",
    "pct_from_ath.tail(2)"
   ]
  },
  {
   "cell_type": "code",
   "execution_count": 312,
   "metadata": {},
   "outputs": [
    {
     "name": "stdout",
     "output_type": "stream",
     "text": [
      "(3961, 1)\n"
     ]
    },
    {
     "data": {
      "text/html": [
       "<div>\n",
       "<style scoped>\n",
       "    .dataframe tbody tr th:only-of-type {\n",
       "        vertical-align: middle;\n",
       "    }\n",
       "\n",
       "    .dataframe tbody tr th {\n",
       "        vertical-align: top;\n",
       "    }\n",
       "\n",
       "    .dataframe thead th {\n",
       "        text-align: right;\n",
       "    }\n",
       "</style>\n",
       "<table border=\"1\" class=\"dataframe\">\n",
       "  <thead>\n",
       "    <tr style=\"text-align: right;\">\n",
       "      <th></th>\n",
       "      <th>market_price_realized_usd</th>\n",
       "    </tr>\n",
       "    <tr>\n",
       "      <th>t</th>\n",
       "      <th></th>\n",
       "    </tr>\n",
       "  </thead>\n",
       "  <tbody>\n",
       "    <tr>\n",
       "      <th>2020-11-03</th>\n",
       "      <td>6650.360085</td>\n",
       "    </tr>\n",
       "    <tr>\n",
       "      <th>2020-11-04</th>\n",
       "      <td>6669.752629</td>\n",
       "    </tr>\n",
       "  </tbody>\n",
       "</table>\n",
       "</div>"
      ],
      "text/plain": [
       "            market_price_realized_usd\n",
       "t                                    \n",
       "2020-11-03                6650.360085\n",
       "2020-11-04                6669.752629"
      ]
     },
     "execution_count": 312,
     "metadata": {},
     "output_type": "execute_result"
    }
   ],
   "source": [
    "realized_price = gn.get('https://api.glassnode.com/v1/metrics/market/price_realized_usd',  a='btc', s='2010', u=today)\n",
    "realized_price.to_csv('data/realized_price.csv')\n",
    "print(realized_price.shape)\n",
    "realized_price.tail(2)"
   ]
  },
  {
   "cell_type": "code",
   "execution_count": 313,
   "metadata": {},
   "outputs": [
    {
     "name": "stdout",
     "output_type": "stream",
     "text": [
      "(3764, 1)\n"
     ]
    },
    {
     "data": {
      "text/html": [
       "<div>\n",
       "<style scoped>\n",
       "    .dataframe tbody tr th:only-of-type {\n",
       "        vertical-align: middle;\n",
       "    }\n",
       "\n",
       "    .dataframe tbody tr th {\n",
       "        vertical-align: top;\n",
       "    }\n",
       "\n",
       "    .dataframe thead th {\n",
       "        text-align: right;\n",
       "    }\n",
       "</style>\n",
       "<table border=\"1\" class=\"dataframe\">\n",
       "  <thead>\n",
       "    <tr style=\"text-align: right;\">\n",
       "      <th></th>\n",
       "      <th>market_marketcap_usd</th>\n",
       "    </tr>\n",
       "    <tr>\n",
       "      <th>t</th>\n",
       "      <th></th>\n",
       "    </tr>\n",
       "  </thead>\n",
       "  <tbody>\n",
       "    <tr>\n",
       "      <th>2020-11-03</th>\n",
       "      <td>2.519089e+11</td>\n",
       "    </tr>\n",
       "    <tr>\n",
       "      <th>2020-11-04</th>\n",
       "      <td>2.572120e+11</td>\n",
       "    </tr>\n",
       "  </tbody>\n",
       "</table>\n",
       "</div>"
      ],
      "text/plain": [
       "            market_marketcap_usd\n",
       "t                               \n",
       "2020-11-03          2.519089e+11\n",
       "2020-11-04          2.572120e+11"
      ]
     },
     "execution_count": 313,
     "metadata": {},
     "output_type": "execute_result"
    }
   ],
   "source": [
    "market_cap = gn.get('https://api.glassnode.com/v1/metrics/market/marketcap_usd',  a='btc', s='2010', u=today)\n",
    "market_cap.to_csv('data/market_cap.csv')\n",
    "print(market_cap.shape)\n",
    "market_cap.tail(2)"
   ]
  },
  {
   "cell_type": "code",
   "execution_count": 314,
   "metadata": {},
   "outputs": [
    {
     "name": "stdout",
     "output_type": "stream",
     "text": [
      "(3961, 1)\n"
     ]
    },
    {
     "data": {
      "text/html": [
       "<div>\n",
       "<style scoped>\n",
       "    .dataframe tbody tr th:only-of-type {\n",
       "        vertical-align: middle;\n",
       "    }\n",
       "\n",
       "    .dataframe tbody tr th {\n",
       "        vertical-align: top;\n",
       "    }\n",
       "\n",
       "    .dataframe thead th {\n",
       "        text-align: right;\n",
       "    }\n",
       "</style>\n",
       "<table border=\"1\" class=\"dataframe\">\n",
       "  <thead>\n",
       "    <tr style=\"text-align: right;\">\n",
       "      <th></th>\n",
       "      <th>market_marketcap_realized_usd</th>\n",
       "    </tr>\n",
       "    <tr>\n",
       "      <th>t</th>\n",
       "      <th></th>\n",
       "    </tr>\n",
       "  </thead>\n",
       "  <tbody>\n",
       "    <tr>\n",
       "      <th>2020-11-03</th>\n",
       "      <td>1.232517e+11</td>\n",
       "    </tr>\n",
       "    <tr>\n",
       "      <th>2020-11-04</th>\n",
       "      <td>1.236177e+11</td>\n",
       "    </tr>\n",
       "  </tbody>\n",
       "</table>\n",
       "</div>"
      ],
      "text/plain": [
       "            market_marketcap_realized_usd\n",
       "t                                        \n",
       "2020-11-03                   1.232517e+11\n",
       "2020-11-04                   1.236177e+11"
      ]
     },
     "execution_count": 314,
     "metadata": {},
     "output_type": "execute_result"
    }
   ],
   "source": [
    "realized_mcap = gn.get('https://api.glassnode.com/v1/metrics/market/marketcap_realized_usd',  a='btc', s='2010', u=today)\n",
    "realized_mcap.to_csv('data/realized_mcap.csv')\n",
    "print(realized_mcap.shape)\n",
    "realized_mcap.tail(2)"
   ]
  },
  {
   "cell_type": "code",
   "execution_count": 315,
   "metadata": {},
   "outputs": [
    {
     "name": "stdout",
     "output_type": "stream",
     "text": [
      "(3764, 1)\n"
     ]
    },
    {
     "data": {
      "text/html": [
       "<div>\n",
       "<style scoped>\n",
       "    .dataframe tbody tr th:only-of-type {\n",
       "        vertical-align: middle;\n",
       "    }\n",
       "\n",
       "    .dataframe tbody tr th {\n",
       "        vertical-align: top;\n",
       "    }\n",
       "\n",
       "    .dataframe thead th {\n",
       "        text-align: right;\n",
       "    }\n",
       "</style>\n",
       "<table border=\"1\" class=\"dataframe\">\n",
       "  <thead>\n",
       "    <tr style=\"text-align: right;\">\n",
       "      <th></th>\n",
       "      <th>market_mvrv</th>\n",
       "    </tr>\n",
       "    <tr>\n",
       "      <th>t</th>\n",
       "      <th></th>\n",
       "    </tr>\n",
       "  </thead>\n",
       "  <tbody>\n",
       "    <tr>\n",
       "      <th>2020-11-03</th>\n",
       "      <td>2.043858</td>\n",
       "    </tr>\n",
       "    <tr>\n",
       "      <th>2020-11-04</th>\n",
       "      <td>2.080705</td>\n",
       "    </tr>\n",
       "  </tbody>\n",
       "</table>\n",
       "</div>"
      ],
      "text/plain": [
       "            market_mvrv\n",
       "t                      \n",
       "2020-11-03     2.043858\n",
       "2020-11-04     2.080705"
      ]
     },
     "execution_count": 315,
     "metadata": {},
     "output_type": "execute_result"
    }
   ],
   "source": [
    "mvrv = gn.get('https://api.glassnode.com/v1/metrics/market/mvrv',  a='btc', s='2010', u=today)\n",
    "mvrv.to_csv('data/mvrv.csv')\n",
    "print(mvrv.shape)\n",
    "mvrv.tail(2)"
   ]
  },
  {
   "cell_type": "code",
   "execution_count": 316,
   "metadata": {},
   "outputs": [
    {
     "name": "stdout",
     "output_type": "stream",
     "text": [
      "(3763, 1)\n"
     ]
    },
    {
     "data": {
      "text/html": [
       "<div>\n",
       "<style scoped>\n",
       "    .dataframe tbody tr th:only-of-type {\n",
       "        vertical-align: middle;\n",
       "    }\n",
       "\n",
       "    .dataframe tbody tr th {\n",
       "        vertical-align: top;\n",
       "    }\n",
       "\n",
       "    .dataframe thead th {\n",
       "        text-align: right;\n",
       "    }\n",
       "</style>\n",
       "<table border=\"1\" class=\"dataframe\">\n",
       "  <thead>\n",
       "    <tr style=\"text-align: right;\">\n",
       "      <th></th>\n",
       "      <th>market_mvrv_z_score</th>\n",
       "    </tr>\n",
       "    <tr>\n",
       "      <th>t</th>\n",
       "      <th></th>\n",
       "    </tr>\n",
       "  </thead>\n",
       "  <tbody>\n",
       "    <tr>\n",
       "      <th>2020-11-03</th>\n",
       "      <td>1.937187</td>\n",
       "    </tr>\n",
       "    <tr>\n",
       "      <th>2020-11-04</th>\n",
       "      <td>2.009219</td>\n",
       "    </tr>\n",
       "  </tbody>\n",
       "</table>\n",
       "</div>"
      ],
      "text/plain": [
       "            market_mvrv_z_score\n",
       "t                              \n",
       "2020-11-03             1.937187\n",
       "2020-11-04             2.009219"
      ]
     },
     "execution_count": 316,
     "metadata": {},
     "output_type": "execute_result"
    }
   ],
   "source": [
    "mvrv_z = gn.get('https://api.glassnode.com/v1/metrics/market/mvrv_z_score',  a='btc', s='2010', u=today)\n",
    "mvrv_z.to_csv('data/mvrv_z.csv')\n",
    "print(mvrv_z.shape)\n",
    "mvrv_z.tail(2)"
   ]
  },
  {
   "cell_type": "code",
   "execution_count": 317,
   "metadata": {},
   "outputs": [
    {
     "name": "stdout",
     "output_type": "stream",
     "text": [
      "(3244, 1)\n"
     ]
    },
    {
     "data": {
      "text/html": [
       "<div>\n",
       "<style scoped>\n",
       "    .dataframe tbody tr th:only-of-type {\n",
       "        vertical-align: middle;\n",
       "    }\n",
       "\n",
       "    .dataframe tbody tr th {\n",
       "        vertical-align: top;\n",
       "    }\n",
       "\n",
       "    .dataframe thead th {\n",
       "        text-align: right;\n",
       "    }\n",
       "</style>\n",
       "<table border=\"1\" class=\"dataframe\">\n",
       "  <thead>\n",
       "    <tr style=\"text-align: right;\">\n",
       "      <th></th>\n",
       "      <th>market_mvrv_more_155</th>\n",
       "    </tr>\n",
       "    <tr>\n",
       "      <th>t</th>\n",
       "      <th></th>\n",
       "    </tr>\n",
       "  </thead>\n",
       "  <tbody>\n",
       "    <tr>\n",
       "      <th>2019-11-04</th>\n",
       "      <td>2.003473</td>\n",
       "    </tr>\n",
       "    <tr>\n",
       "      <th>2019-11-05</th>\n",
       "      <td>1.994195</td>\n",
       "    </tr>\n",
       "  </tbody>\n",
       "</table>\n",
       "</div>"
      ],
      "text/plain": [
       "            market_mvrv_more_155\n",
       "t                               \n",
       "2019-11-04              2.003473\n",
       "2019-11-05              1.994195"
      ]
     },
     "execution_count": 317,
     "metadata": {},
     "output_type": "execute_result"
    }
   ],
   "source": [
    "lt_mvrv = gn.get('https://api.glassnode.com/v1/metrics/market/mvrv_more_155',  a='btc', s='2010', u=today)\n",
    "lt_mvrv.to_csv('data/lt_mvrv.csv')\n",
    "print(lt_mvrv.shape)\n",
    "lt_mvrv.tail(2)"
   ]
  },
  {
   "cell_type": "code",
   "execution_count": 318,
   "metadata": {},
   "outputs": [
    {
     "name": "stdout",
     "output_type": "stream",
     "text": [
      "(3399, 1)\n"
     ]
    },
    {
     "data": {
      "text/html": [
       "<div>\n",
       "<style scoped>\n",
       "    .dataframe tbody tr th:only-of-type {\n",
       "        vertical-align: middle;\n",
       "    }\n",
       "\n",
       "    .dataframe tbody tr th {\n",
       "        vertical-align: top;\n",
       "    }\n",
       "\n",
       "    .dataframe thead th {\n",
       "        text-align: right;\n",
       "    }\n",
       "</style>\n",
       "<table border=\"1\" class=\"dataframe\">\n",
       "  <thead>\n",
       "    <tr style=\"text-align: right;\">\n",
       "      <th></th>\n",
       "      <th>market_mvrv_less_155</th>\n",
       "    </tr>\n",
       "    <tr>\n",
       "      <th>t</th>\n",
       "      <th></th>\n",
       "    </tr>\n",
       "  </thead>\n",
       "  <tbody>\n",
       "    <tr>\n",
       "      <th>2019-11-04</th>\n",
       "      <td>0.968539</td>\n",
       "    </tr>\n",
       "    <tr>\n",
       "      <th>2019-11-05</th>\n",
       "      <td>0.969696</td>\n",
       "    </tr>\n",
       "  </tbody>\n",
       "</table>\n",
       "</div>"
      ],
      "text/plain": [
       "            market_mvrv_less_155\n",
       "t                               \n",
       "2019-11-04              0.968539\n",
       "2019-11-05              0.969696"
      ]
     },
     "execution_count": 318,
     "metadata": {},
     "output_type": "execute_result"
    }
   ],
   "source": [
    "st_mvrv = gn.get('https://api.glassnode.com/v1/metrics/market/mvrv_less_155',  a='btc', s='2010', u=today)\n",
    "st_mvrv.to_csv('data/st_mvrv.csv')\n",
    "print(st_mvrv.shape)\n",
    "st_mvrv.tail(2)"
   ]
  },
  {
   "cell_type": "code",
   "execution_count": 319,
   "metadata": {},
   "outputs": [],
   "source": [
    "# FUTURES"
   ]
  },
  {
   "cell_type": "code",
   "execution_count": 320,
   "metadata": {},
   "outputs": [],
   "source": [
    "# EXCHANGES"
   ]
  },
  {
   "cell_type": "code",
   "execution_count": 321,
   "metadata": {},
   "outputs": [],
   "source": [
    "# SUPPLY"
   ]
  },
  {
   "cell_type": "code",
   "execution_count": null,
   "metadata": {},
   "outputs": [],
   "source": [
    "# UTXO"
   ]
  },
  {
   "cell_type": "code",
   "execution_count": null,
   "metadata": {},
   "outputs": [],
   "source": [
    "# FEES"
   ]
  },
  {
   "cell_type": "code",
   "execution_count": null,
   "metadata": {},
   "outputs": [],
   "source": [
    "# MINING"
   ]
  },
  {
   "cell_type": "code",
   "execution_count": null,
   "metadata": {},
   "outputs": [],
   "source": [
    "# DISTRIBUTION"
   ]
  },
  {
   "cell_type": "code",
   "execution_count": null,
   "metadata": {},
   "outputs": [],
   "source": [
    "# INDICATORS"
   ]
  },
  {
   "cell_type": "code",
   "execution_count": 323,
   "metadata": {},
   "outputs": [
    {
     "name": "stdout",
     "output_type": "stream",
     "text": [
      "(3762, 1)\n"
     ]
    },
    {
     "data": {
      "text/html": [
       "<div>\n",
       "<style scoped>\n",
       "    .dataframe tbody tr th:only-of-type {\n",
       "        vertical-align: middle;\n",
       "    }\n",
       "\n",
       "    .dataframe tbody tr th {\n",
       "        vertical-align: top;\n",
       "    }\n",
       "\n",
       "    .dataframe thead th {\n",
       "        text-align: right;\n",
       "    }\n",
       "</style>\n",
       "<table border=\"1\" class=\"dataframe\">\n",
       "  <thead>\n",
       "    <tr style=\"text-align: right;\">\n",
       "      <th></th>\n",
       "      <th>indicators_sopr</th>\n",
       "    </tr>\n",
       "    <tr>\n",
       "      <th>t</th>\n",
       "      <th></th>\n",
       "    </tr>\n",
       "  </thead>\n",
       "  <tbody>\n",
       "    <tr>\n",
       "      <th>2020-11-01</th>\n",
       "      <td>1.008232</td>\n",
       "    </tr>\n",
       "    <tr>\n",
       "      <th>2020-11-02</th>\n",
       "      <td>1.009327</td>\n",
       "    </tr>\n",
       "  </tbody>\n",
       "</table>\n",
       "</div>"
      ],
      "text/plain": [
       "            indicators_sopr\n",
       "t                          \n",
       "2020-11-01         1.008232\n",
       "2020-11-02         1.009327"
      ]
     },
     "execution_count": 323,
     "metadata": {},
     "output_type": "execute_result"
    }
   ],
   "source": [
    "sopr = gn.get('https://api.glassnode.com/v1/metrics/indicators/sopr', a = 'btc', s='2010', u='2020-11-03')\n",
    "sopr.to_csv('data/sopr.csv')\n",
    "print(sopr.shape)\n",
    "sopr.tail(2)"
   ]
  },
  {
   "cell_type": "code",
   "execution_count": 89,
   "metadata": {},
   "outputs": [
    {
     "name": "stdout",
     "output_type": "stream",
     "text": [
      "<class 'pandas.core.frame.DataFrame'>\n",
      "DatetimeIndex: 3762 entries, 2010-07-17 to 2020-11-02\n",
      "Data columns (total 1 columns):\n",
      " #   Column  Non-Null Count  Dtype  \n",
      "---  ------  --------------  -----  \n",
      " 0   v       3762 non-null   float64\n",
      "dtypes: float64(1)\n",
      "memory usage: 58.8 KB\n"
     ]
    }
   ],
   "source": [
    "sopr.info()"
   ]
  },
  {
   "cell_type": "code",
   "execution_count": 92,
   "metadata": {},
   "outputs": [
    {
     "data": {
      "image/png": "[encoded data removed]",
      "text/plain": [
       "<Figure size 432x288 with 1 Axes>"
      ]
     },
     "metadata": {
      "needs_background": "light"
     },
     "output_type": "display_data"
    }
   ],
   "source": [
    "plt.plot(sopr);"
   ]
  },
  {
   "cell_type": "code",
   "execution_count": 342,
   "metadata": {},
   "outputs": [
    {
     "name": "stdout",
     "output_type": "stream",
     "text": [
      "(3762, 1)\n"
     ]
    },
    {
     "data": {
      "text/html": [
       "<div>\n",
       "<style scoped>\n",
       "    .dataframe tbody tr th:only-of-type {\n",
       "        vertical-align: middle;\n",
       "    }\n",
       "\n",
       "    .dataframe tbody tr th {\n",
       "        vertical-align: top;\n",
       "    }\n",
       "\n",
       "    .dataframe thead th {\n",
       "        text-align: right;\n",
       "    }\n",
       "</style>\n",
       "<table border=\"1\" class=\"dataframe\">\n",
       "  <thead>\n",
       "    <tr style=\"text-align: right;\">\n",
       "      <th></th>\n",
       "      <th>indicators_sopr_adjusted</th>\n",
       "    </tr>\n",
       "    <tr>\n",
       "      <th>t</th>\n",
       "      <th></th>\n",
       "    </tr>\n",
       "  </thead>\n",
       "  <tbody>\n",
       "    <tr>\n",
       "      <th>2020-11-01</th>\n",
       "      <td>1.043032</td>\n",
       "    </tr>\n",
       "    <tr>\n",
       "      <th>2020-11-02</th>\n",
       "      <td>1.047721</td>\n",
       "    </tr>\n",
       "  </tbody>\n",
       "</table>\n",
       "</div>"
      ],
      "text/plain": [
       "            indicators_sopr_adjusted\n",
       "t                                   \n",
       "2020-11-01                  1.043032\n",
       "2020-11-02                  1.047721"
      ]
     },
     "execution_count": 342,
     "metadata": {},
     "output_type": "execute_result"
    }
   ],
   "source": [
    "adj_sopr = gn.get('https://api.glassnode.com/v1/metrics/indicators/sopr_adjusted', a = 'btc', s='2010', u='2020-11-03')\n",
    "adj_sopr.to_csv('data/adj_sopr.csv')\n",
    "print(adj_sopr.shape)\n",
    "adj_sopr.tail(2)"
   ]
  },
  {
   "cell_type": "code",
   "execution_count": 344,
   "metadata": {},
   "outputs": [
    {
     "name": "stdout",
     "output_type": "stream",
     "text": [
      "(3240, 1)\n"
     ]
    },
    {
     "data": {
      "text/html": [
       "<div>\n",
       "<style scoped>\n",
       "    .dataframe tbody tr th:only-of-type {\n",
       "        vertical-align: middle;\n",
       "    }\n",
       "\n",
       "    .dataframe tbody tr th {\n",
       "        vertical-align: top;\n",
       "    }\n",
       "\n",
       "    .dataframe thead th {\n",
       "        text-align: right;\n",
       "    }\n",
       "</style>\n",
       "<table border=\"1\" class=\"dataframe\">\n",
       "  <thead>\n",
       "    <tr style=\"text-align: right;\">\n",
       "      <th></th>\n",
       "      <th>indicators_sopr_more_155</th>\n",
       "    </tr>\n",
       "    <tr>\n",
       "      <th>t</th>\n",
       "      <th></th>\n",
       "    </tr>\n",
       "  </thead>\n",
       "  <tbody>\n",
       "    <tr>\n",
       "      <th>2019-11-04</th>\n",
       "      <td>1.603278</td>\n",
       "    </tr>\n",
       "    <tr>\n",
       "      <th>2019-11-05</th>\n",
       "      <td>1.022063</td>\n",
       "    </tr>\n",
       "  </tbody>\n",
       "</table>\n",
       "</div>"
      ],
      "text/plain": [
       "            indicators_sopr_more_155\n",
       "t                                   \n",
       "2019-11-04                  1.603278\n",
       "2019-11-05                  1.022063"
      ]
     },
     "execution_count": 344,
     "metadata": {},
     "output_type": "execute_result"
    }
   ],
   "source": [
    "lth_sopr = gn.get('https://api.glassnode.com/v1/metrics/indicators/sopr_more_155', a = 'btc', s='2010', u='2020-11-03')\n",
    "lth_sopr.to_csv('data/lth_sopr.csv')\n",
    "print(lth_sopr.shape)\n",
    "lth_sopr.tail(2)"
   ]
  },
  {
   "cell_type": "code",
   "execution_count": 345,
   "metadata": {},
   "outputs": [
    {
     "name": "stdout",
     "output_type": "stream",
     "text": [
      "(3398, 1)\n"
     ]
    },
    {
     "data": {
      "text/html": [
       "<div>\n",
       "<style scoped>\n",
       "    .dataframe tbody tr th:only-of-type {\n",
       "        vertical-align: middle;\n",
       "    }\n",
       "\n",
       "    .dataframe tbody tr th {\n",
       "        vertical-align: top;\n",
       "    }\n",
       "\n",
       "    .dataframe thead th {\n",
       "        text-align: right;\n",
       "    }\n",
       "</style>\n",
       "<table border=\"1\" class=\"dataframe\">\n",
       "  <thead>\n",
       "    <tr style=\"text-align: right;\">\n",
       "      <th></th>\n",
       "      <th>indicators_sopr_less_155</th>\n",
       "    </tr>\n",
       "    <tr>\n",
       "      <th>t</th>\n",
       "      <th></th>\n",
       "    </tr>\n",
       "  </thead>\n",
       "  <tbody>\n",
       "    <tr>\n",
       "      <th>2019-11-04</th>\n",
       "      <td>1.003646</td>\n",
       "    </tr>\n",
       "    <tr>\n",
       "      <th>2019-11-05</th>\n",
       "      <td>0.934256</td>\n",
       "    </tr>\n",
       "  </tbody>\n",
       "</table>\n",
       "</div>"
      ],
      "text/plain": [
       "            indicators_sopr_less_155\n",
       "t                                   \n",
       "2019-11-04                  1.003646\n",
       "2019-11-05                  0.934256"
      ]
     },
     "execution_count": 345,
     "metadata": {},
     "output_type": "execute_result"
    }
   ],
   "source": [
    "sth_sopr = gn.get('https://api.glassnode.com/v1/metrics/indicators/sopr_less_155', a = 'btc', s='2010', u='2020-11-03')\n",
    "sth_sopr.to_csv('data/sth_sopr.csv')\n",
    "print(sth_sopr.shape)\n",
    "sth_sopr.tail(2)"
   ]
  },
  {
   "cell_type": "code",
   "execution_count": 346,
   "metadata": {},
   "outputs": [
    {
     "name": "stdout",
     "output_type": "stream",
     "text": [
      "(3761, 1)\n"
     ]
    },
    {
     "data": {
      "text/html": [
       "<div>\n",
       "<style scoped>\n",
       "    .dataframe tbody tr th:only-of-type {\n",
       "        vertical-align: middle;\n",
       "    }\n",
       "\n",
       "    .dataframe tbody tr th {\n",
       "        vertical-align: top;\n",
       "    }\n",
       "\n",
       "    .dataframe thead th {\n",
       "        text-align: right;\n",
       "    }\n",
       "</style>\n",
       "<table border=\"1\" class=\"dataframe\">\n",
       "  <thead>\n",
       "    <tr style=\"text-align: right;\">\n",
       "      <th></th>\n",
       "      <th>indicators_nvt</th>\n",
       "    </tr>\n",
       "    <tr>\n",
       "      <th>t</th>\n",
       "      <th></th>\n",
       "    </tr>\n",
       "  </thead>\n",
       "  <tbody>\n",
       "    <tr>\n",
       "      <th>2020-11-01</th>\n",
       "      <td>47.832208</td>\n",
       "    </tr>\n",
       "    <tr>\n",
       "      <th>2020-11-02</th>\n",
       "      <td>29.419122</td>\n",
       "    </tr>\n",
       "  </tbody>\n",
       "</table>\n",
       "</div>"
      ],
      "text/plain": [
       "            indicators_nvt\n",
       "t                         \n",
       "2020-11-01       47.832208\n",
       "2020-11-02       29.419122"
      ]
     },
     "execution_count": 346,
     "metadata": {},
     "output_type": "execute_result"
    }
   ],
   "source": [
    "ntv = gn.get('https://api.glassnode.com/v1/metrics/indicators/nvt', a = 'btc', s='2010', u='2020-11-03')\n",
    "ntv.to_csv('data/ntv.csv')\n",
    "print(ntv.shape)\n",
    "ntv.tail(2)"
   ]
  },
  {
   "cell_type": "code",
   "execution_count": 347,
   "metadata": {},
   "outputs": [
    {
     "name": "stdout",
     "output_type": "stream",
     "text": [
      "(3761, 1)\n"
     ]
    },
    {
     "data": {
      "text/html": [
       "<div>\n",
       "<style scoped>\n",
       "    .dataframe tbody tr th:only-of-type {\n",
       "        vertical-align: middle;\n",
       "    }\n",
       "\n",
       "    .dataframe tbody tr th {\n",
       "        vertical-align: top;\n",
       "    }\n",
       "\n",
       "    .dataframe thead th {\n",
       "        text-align: right;\n",
       "    }\n",
       "</style>\n",
       "<table border=\"1\" class=\"dataframe\">\n",
       "  <thead>\n",
       "    <tr style=\"text-align: right;\">\n",
       "      <th></th>\n",
       "      <th>indicators_nvts</th>\n",
       "    </tr>\n",
       "    <tr>\n",
       "      <th>t</th>\n",
       "      <th></th>\n",
       "    </tr>\n",
       "  </thead>\n",
       "  <tbody>\n",
       "    <tr>\n",
       "      <th>2020-11-01</th>\n",
       "      <td>40.719971</td>\n",
       "    </tr>\n",
       "    <tr>\n",
       "      <th>2020-11-02</th>\n",
       "      <td>40.044418</td>\n",
       "    </tr>\n",
       "  </tbody>\n",
       "</table>\n",
       "</div>"
      ],
      "text/plain": [
       "            indicators_nvts\n",
       "t                          \n",
       "2020-11-01        40.719971\n",
       "2020-11-02        40.044418"
      ]
     },
     "execution_count": 347,
     "metadata": {},
     "output_type": "execute_result"
    }
   ],
   "source": [
    "ntvs = gn.get('https://api.glassnode.com/v1/metrics/indicators/nvts', a = 'btc', s='2010', u='2020-11-03')\n",
    "ntvs.to_csv('data/ntvs.csv')\n",
    "print(ntvs.shape)\n",
    "ntvs.tail(2)"
   ]
  },
  {
   "cell_type": "code",
   "execution_count": 348,
   "metadata": {},
   "outputs": [
    {
     "name": "stdout",
     "output_type": "stream",
     "text": [
      "(3733, 1)\n"
     ]
    },
    {
     "data": {
      "text/html": [
       "<div>\n",
       "<style scoped>\n",
       "    .dataframe tbody tr th:only-of-type {\n",
       "        vertical-align: middle;\n",
       "    }\n",
       "\n",
       "    .dataframe tbody tr th {\n",
       "        vertical-align: top;\n",
       "    }\n",
       "\n",
       "    .dataframe thead th {\n",
       "        text-align: right;\n",
       "    }\n",
       "</style>\n",
       "<table border=\"1\" class=\"dataframe\">\n",
       "  <thead>\n",
       "    <tr style=\"text-align: right;\">\n",
       "      <th></th>\n",
       "      <th>indicators_reserve_risk</th>\n",
       "    </tr>\n",
       "    <tr>\n",
       "      <th>t</th>\n",
       "      <th></th>\n",
       "    </tr>\n",
       "  </thead>\n",
       "  <tbody>\n",
       "    <tr>\n",
       "      <th>2020-11-01</th>\n",
       "      <td>0.002290</td>\n",
       "    </tr>\n",
       "    <tr>\n",
       "      <th>2020-11-02</th>\n",
       "      <td>0.002258</td>\n",
       "    </tr>\n",
       "  </tbody>\n",
       "</table>\n",
       "</div>"
      ],
      "text/plain": [
       "            indicators_reserve_risk\n",
       "t                                  \n",
       "2020-11-01                 0.002290\n",
       "2020-11-02                 0.002258"
      ]
     },
     "execution_count": 348,
     "metadata": {},
     "output_type": "execute_result"
    }
   ],
   "source": [
    "reserve_risk = gn.get('https://api.glassnode.com/v1/metrics/indicators/reserve_risk', a = 'btc', s='2010', u='2020-11-03')\n",
    "reserve_risk.to_csv('data/reserve_risk.csv')\n",
    "print(reserve_risk.shape)\n",
    "reserve_risk.tail(2)"
   ]
  },
  {
   "cell_type": "code",
   "execution_count": 349,
   "metadata": {},
   "outputs": [
    {
     "name": "stdout",
     "output_type": "stream",
     "text": [
      "(3959, 1)\n"
     ]
    },
    {
     "data": {
      "text/html": [
       "<div>\n",
       "<style scoped>\n",
       "    .dataframe tbody tr th:only-of-type {\n",
       "        vertical-align: middle;\n",
       "    }\n",
       "\n",
       "    .dataframe tbody tr th {\n",
       "        vertical-align: top;\n",
       "    }\n",
       "\n",
       "    .dataframe thead th {\n",
       "        text-align: right;\n",
       "    }\n",
       "</style>\n",
       "<table border=\"1\" class=\"dataframe\">\n",
       "  <thead>\n",
       "    <tr style=\"text-align: right;\">\n",
       "      <th></th>\n",
       "      <th>indicators_liveliness</th>\n",
       "    </tr>\n",
       "    <tr>\n",
       "      <th>t</th>\n",
       "      <th></th>\n",
       "    </tr>\n",
       "  </thead>\n",
       "  <tbody>\n",
       "    <tr>\n",
       "      <th>2020-11-01</th>\n",
       "      <td>0.597399</td>\n",
       "    </tr>\n",
       "    <tr>\n",
       "      <th>2020-11-02</th>\n",
       "      <td>0.597476</td>\n",
       "    </tr>\n",
       "  </tbody>\n",
       "</table>\n",
       "</div>"
      ],
      "text/plain": [
       "            indicators_liveliness\n",
       "t                                \n",
       "2020-11-01               0.597399\n",
       "2020-11-02               0.597476"
      ]
     },
     "execution_count": 349,
     "metadata": {},
     "output_type": "execute_result"
    }
   ],
   "source": [
    "liveliness = gn.get('https://api.glassnode.com/v1/metrics/indicators/liveliness', a = 'btc', s='2010', u='2020-11-03')\n",
    "liveliness.to_csv('data/liveliness.csv')\n",
    "print(liveliness.shape)\n",
    "liveliness.tail(2)"
   ]
  },
  {
   "cell_type": "code",
   "execution_count": 350,
   "metadata": {},
   "outputs": [
    {
     "name": "stdout",
     "output_type": "stream",
     "text": [
      "(3762, 1)\n"
     ]
    },
    {
     "data": {
      "text/html": [
       "<div>\n",
       "<style scoped>\n",
       "    .dataframe tbody tr th:only-of-type {\n",
       "        vertical-align: middle;\n",
       "    }\n",
       "\n",
       "    .dataframe tbody tr th {\n",
       "        vertical-align: top;\n",
       "    }\n",
       "\n",
       "    .dataframe thead th {\n",
       "        text-align: right;\n",
       "    }\n",
       "</style>\n",
       "<table border=\"1\" class=\"dataframe\">\n",
       "  <thead>\n",
       "    <tr style=\"text-align: right;\">\n",
       "      <th></th>\n",
       "      <th>indicators_realized_profit</th>\n",
       "    </tr>\n",
       "    <tr>\n",
       "      <th>t</th>\n",
       "      <th></th>\n",
       "    </tr>\n",
       "  </thead>\n",
       "  <tbody>\n",
       "    <tr>\n",
       "      <th>2020-11-01</th>\n",
       "      <td>2.633819e+08</td>\n",
       "    </tr>\n",
       "    <tr>\n",
       "      <th>2020-11-02</th>\n",
       "      <td>3.721412e+08</td>\n",
       "    </tr>\n",
       "  </tbody>\n",
       "</table>\n",
       "</div>"
      ],
      "text/plain": [
       "            indicators_realized_profit\n",
       "t                                     \n",
       "2020-11-01                2.633819e+08\n",
       "2020-11-02                3.721412e+08"
      ]
     },
     "execution_count": 350,
     "metadata": {},
     "output_type": "execute_result"
    }
   ],
   "source": [
    "realized_profit = gn.get('https://api.glassnode.com/v1/metrics/indicators/realized_profit', a = 'btc', s='2010', u='2020-11-03')\n",
    "realized_profit.to_csv('data/realized_profit.csv')\n",
    "print(realized_profit.shape)\n",
    "realized_profit.tail(2)"
   ]
  },
  {
   "cell_type": "code",
   "execution_count": 352,
   "metadata": {},
   "outputs": [
    {
     "name": "stdout",
     "output_type": "stream",
     "text": [
      "(3761, 1)\n"
     ]
    },
    {
     "data": {
      "text/html": [
       "<div>\n",
       "<style scoped>\n",
       "    .dataframe tbody tr th:only-of-type {\n",
       "        vertical-align: middle;\n",
       "    }\n",
       "\n",
       "    .dataframe tbody tr th {\n",
       "        vertical-align: top;\n",
       "    }\n",
       "\n",
       "    .dataframe thead th {\n",
       "        text-align: right;\n",
       "    }\n",
       "</style>\n",
       "<table border=\"1\" class=\"dataframe\">\n",
       "  <thead>\n",
       "    <tr style=\"text-align: right;\">\n",
       "      <th></th>\n",
       "      <th>indicators_net_unrealized_profit_loss</th>\n",
       "    </tr>\n",
       "    <tr>\n",
       "      <th>t</th>\n",
       "      <th></th>\n",
       "    </tr>\n",
       "  </thead>\n",
       "  <tbody>\n",
       "    <tr>\n",
       "      <th>2020-11-01</th>\n",
       "      <td>0.521869</td>\n",
       "    </tr>\n",
       "    <tr>\n",
       "      <th>2020-11-02</th>\n",
       "      <td>0.515162</td>\n",
       "    </tr>\n",
       "  </tbody>\n",
       "</table>\n",
       "</div>"
      ],
      "text/plain": [
       "            indicators_net_unrealized_profit_loss\n",
       "t                                                \n",
       "2020-11-01                               0.521869\n",
       "2020-11-02                               0.515162"
      ]
     },
     "execution_count": 352,
     "metadata": {},
     "output_type": "execute_result"
    }
   ],
   "source": [
    "nupl = gn.get('https://api.glassnode.com/v1/metrics/indicators/net_unrealized_profit_loss', a = 'btc', s='2010', u='2020-11-03')\n",
    "nupl.to_csv('data/nupl.csv')\n",
    "print(nupl.shape)\n",
    "nupl.tail(2)"
   ]
  },
  {
   "cell_type": "code",
   "execution_count": 353,
   "metadata": {},
   "outputs": [
    {
     "name": "stdout",
     "output_type": "stream",
     "text": [
      "(3607, 1)\n"
     ]
    },
    {
     "data": {
      "text/html": [
       "<div>\n",
       "<style scoped>\n",
       "    .dataframe tbody tr th:only-of-type {\n",
       "        vertical-align: middle;\n",
       "    }\n",
       "\n",
       "    .dataframe tbody tr th {\n",
       "        vertical-align: top;\n",
       "    }\n",
       "\n",
       "    .dataframe thead th {\n",
       "        text-align: right;\n",
       "    }\n",
       "</style>\n",
       "<table border=\"1\" class=\"dataframe\">\n",
       "  <thead>\n",
       "    <tr style=\"text-align: right;\">\n",
       "      <th></th>\n",
       "      <th>indicators_nupl_more_155</th>\n",
       "    </tr>\n",
       "    <tr>\n",
       "      <th>t</th>\n",
       "      <th></th>\n",
       "    </tr>\n",
       "  </thead>\n",
       "  <tbody>\n",
       "    <tr>\n",
       "      <th>2020-11-01</th>\n",
       "      <td>0.592573</td>\n",
       "    </tr>\n",
       "    <tr>\n",
       "      <th>2020-11-02</th>\n",
       "      <td>0.588429</td>\n",
       "    </tr>\n",
       "  </tbody>\n",
       "</table>\n",
       "</div>"
      ],
      "text/plain": [
       "            indicators_nupl_more_155\n",
       "t                                   \n",
       "2020-11-01                  0.592573\n",
       "2020-11-02                  0.588429"
      ]
     },
     "execution_count": 353,
     "metadata": {},
     "output_type": "execute_result"
    }
   ],
   "source": [
    "lt_nupl = gn.get('https://api.glassnode.com/v1/metrics/indicators/nupl_more_155', a = 'btc', s='2010', u='2020-11-03')\n",
    "lt_nupl.to_csv('data/lt_nupl.csv')\n",
    "print(lt_nupl.shape)\n",
    "lt_nupl.tail(2)"
   ]
  },
  {
   "cell_type": "code",
   "execution_count": 354,
   "metadata": {},
   "outputs": [
    {
     "name": "stdout",
     "output_type": "stream",
     "text": [
      "(3398, 1)\n"
     ]
    },
    {
     "data": {
      "text/html": [
       "<div>\n",
       "<style scoped>\n",
       "    .dataframe tbody tr th:only-of-type {\n",
       "        vertical-align: middle;\n",
       "    }\n",
       "\n",
       "    .dataframe tbody tr th {\n",
       "        vertical-align: top;\n",
       "    }\n",
       "\n",
       "    .dataframe thead th {\n",
       "        text-align: right;\n",
       "    }\n",
       "</style>\n",
       "<table border=\"1\" class=\"dataframe\">\n",
       "  <thead>\n",
       "    <tr style=\"text-align: right;\">\n",
       "      <th></th>\n",
       "      <th>indicators_puell_multiple</th>\n",
       "    </tr>\n",
       "    <tr>\n",
       "      <th>t</th>\n",
       "      <th></th>\n",
       "    </tr>\n",
       "  </thead>\n",
       "  <tbody>\n",
       "    <tr>\n",
       "      <th>2020-11-01</th>\n",
       "      <td>0.883858</td>\n",
       "    </tr>\n",
       "    <tr>\n",
       "      <th>2020-11-02</th>\n",
       "      <td>0.664141</td>\n",
       "    </tr>\n",
       "  </tbody>\n",
       "</table>\n",
       "</div>"
      ],
      "text/plain": [
       "            indicators_puell_multiple\n",
       "t                                    \n",
       "2020-11-01                   0.883858\n",
       "2020-11-02                   0.664141"
      ]
     },
     "execution_count": 354,
     "metadata": {},
     "output_type": "execute_result"
    }
   ],
   "source": [
    "puell = gn.get('https://api.glassnode.com/v1/metrics/indicators/puell_multiple', a = 'btc', s='2010', u='2020-11-03')\n",
    "puell.to_csv('data/puell.csv')\n",
    "print(puell.shape)\n",
    "puell.tail(2)"
   ]
  },
  {
   "cell_type": "code",
   "execution_count": 355,
   "metadata": {},
   "outputs": [
    {
     "name": "stdout",
     "output_type": "stream",
     "text": [
      "(3596, 1)\n"
     ]
    },
    {
     "data": {
      "text/html": [
       "<div>\n",
       "<style scoped>\n",
       "    .dataframe tbody tr th:only-of-type {\n",
       "        vertical-align: middle;\n",
       "    }\n",
       "\n",
       "    .dataframe tbody tr th {\n",
       "        vertical-align: top;\n",
       "    }\n",
       "\n",
       "    .dataframe thead th {\n",
       "        text-align: right;\n",
       "    }\n",
       "</style>\n",
       "<table border=\"1\" class=\"dataframe\">\n",
       "  <thead>\n",
       "    <tr style=\"text-align: right;\">\n",
       "      <th></th>\n",
       "      <th>indicators_hodled_lost_coins</th>\n",
       "    </tr>\n",
       "    <tr>\n",
       "      <th>t</th>\n",
       "      <th></th>\n",
       "    </tr>\n",
       "  </thead>\n",
       "  <tbody>\n",
       "    <tr>\n",
       "      <th>2019-11-04</th>\n",
       "      <td>7.020714e+06</td>\n",
       "    </tr>\n",
       "    <tr>\n",
       "      <th>2019-11-05</th>\n",
       "      <td>7.019504e+06</td>\n",
       "    </tr>\n",
       "  </tbody>\n",
       "</table>\n",
       "</div>"
      ],
      "text/plain": [
       "            indicators_hodled_lost_coins\n",
       "t                                       \n",
       "2019-11-04                  7.020714e+06\n",
       "2019-11-05                  7.019504e+06"
      ]
     },
     "execution_count": 355,
     "metadata": {},
     "output_type": "execute_result"
    }
   ],
   "source": [
    "hodled_lost = gn.get('https://api.glassnode.com/v1/metrics/indicators/hodled_lost_coins', a = 'btc', s='2010', u='2020-11-03')\n",
    "hodled_lost.to_csv('data/hodled_lost.csv')\n",
    "print(hodled_lost.shape)\n",
    "hodled_lost.tail(2)"
   ]
  },
  {
   "cell_type": "code",
   "execution_count": 356,
   "metadata": {},
   "outputs": [
    {
     "name": "stdout",
     "output_type": "stream",
     "text": [
      "(3958, 1)\n"
     ]
    },
    {
     "data": {
      "text/html": [
       "<div>\n",
       "<style scoped>\n",
       "    .dataframe tbody tr th:only-of-type {\n",
       "        vertical-align: middle;\n",
       "    }\n",
       "\n",
       "    .dataframe tbody tr th {\n",
       "        vertical-align: top;\n",
       "    }\n",
       "\n",
       "    .dataframe thead th {\n",
       "        text-align: right;\n",
       "    }\n",
       "</style>\n",
       "<table border=\"1\" class=\"dataframe\">\n",
       "  <thead>\n",
       "    <tr style=\"text-align: right;\">\n",
       "      <th></th>\n",
       "      <th>o</th>\n",
       "    </tr>\n",
       "    <tr>\n",
       "      <th>t</th>\n",
       "      <th></th>\n",
       "    </tr>\n",
       "  </thead>\n",
       "  <tbody>\n",
       "    <tr>\n",
       "      <th>2020-11-01</th>\n",
       "      <td>{'daysTillHalving': 1274, 'ratio': 23782.09278...</td>\n",
       "    </tr>\n",
       "    <tr>\n",
       "      <th>2020-11-02</th>\n",
       "      <td>{'daysTillHalving': 1273, 'ratio': 23964.59587...</td>\n",
       "    </tr>\n",
       "  </tbody>\n",
       "</table>\n",
       "</div>"
      ],
      "text/plain": [
       "                                                            o\n",
       "t                                                            \n",
       "2020-11-01  {'daysTillHalving': 1274, 'ratio': 23782.09278...\n",
       "2020-11-02  {'daysTillHalving': 1273, 'ratio': 23964.59587..."
      ]
     },
     "execution_count": 356,
     "metadata": {},
     "output_type": "execute_result"
    }
   ],
   "source": [
    "s2f = gn.get('https://api.glassnode.com/v1/metrics/indicators/stock_to_flow_ratio', a = 'btc', s='2010', u='2020-11-03')\n",
    "s2f.to_csv('data/s2f.csv')\n",
    "print(s2f.shape)\n",
    "s2f.tail(2)"
   ]
  },
  {
   "cell_type": "code",
   "execution_count": 365,
   "metadata": {},
   "outputs": [
    {
     "data": {
      "text/plain": [
       "o    {'daysTillHalving': 1273, 'ratio': 23964.59587...\n",
       "Name: 2020-11-02 00:00:00, dtype: object"
      ]
     },
     "execution_count": 365,
     "metadata": {},
     "output_type": "execute_result"
    }
   ],
   "source": [
    "s2f.loc['2020-11-02']"
   ]
  },
  {
   "cell_type": "code",
   "execution_count": 369,
   "metadata": {},
   "outputs": [
    {
     "data": {
      "text/plain": [
       "23964.59587474334"
      ]
     },
     "execution_count": 369,
     "metadata": {},
     "output_type": "execute_result"
    }
   ],
   "source": [
    "s2f['o'][-1]['ratio']"
   ]
  },
  {
   "cell_type": "code",
   "execution_count": 370,
   "metadata": {},
   "outputs": [
    {
     "name": "stdout",
     "output_type": "stream",
     "text": [
      "(3398, 1)\n"
     ]
    },
    {
     "data": {
      "text/html": [
       "<div>\n",
       "<style scoped>\n",
       "    .dataframe tbody tr th:only-of-type {\n",
       "        vertical-align: middle;\n",
       "    }\n",
       "\n",
       "    .dataframe tbody tr th {\n",
       "        vertical-align: top;\n",
       "    }\n",
       "\n",
       "    .dataframe thead th {\n",
       "        text-align: right;\n",
       "    }\n",
       "</style>\n",
       "<table border=\"1\" class=\"dataframe\">\n",
       "  <thead>\n",
       "    <tr style=\"text-align: right;\">\n",
       "      <th></th>\n",
       "      <th>indicators_sopr_account_based</th>\n",
       "    </tr>\n",
       "    <tr>\n",
       "      <th>t</th>\n",
       "      <th></th>\n",
       "    </tr>\n",
       "  </thead>\n",
       "  <tbody>\n",
       "    <tr>\n",
       "      <th>2019-11-04</th>\n",
       "      <td>1.015366</td>\n",
       "    </tr>\n",
       "    <tr>\n",
       "      <th>2019-11-05</th>\n",
       "      <td>1.007590</td>\n",
       "    </tr>\n",
       "  </tbody>\n",
       "</table>\n",
       "</div>"
      ],
      "text/plain": [
       "            indicators_sopr_account_based\n",
       "t                                        \n",
       "2019-11-04                       1.015366\n",
       "2019-11-05                       1.007590"
      ]
     },
     "execution_count": 370,
     "metadata": {},
     "output_type": "execute_result"
    }
   ],
   "source": [
    "ent_adj_sopr = gn.get('https://api.glassnode.com/v1/metrics/indicators/sopr_account_based', a = 'btc', s='2010', u='2020-11-03')\n",
    "ent_adj_sopr.to_csv('data/ent_adj_sopr.csv')\n",
    "print(ent_adj_sopr.shape)\n",
    "ent_adj_sopr.tail(2)"
   ]
  },
  {
   "cell_type": "code",
   "execution_count": 371,
   "metadata": {},
   "outputs": [
    {
     "name": "stdout",
     "output_type": "stream",
     "text": [
      "(3596, 1)\n"
     ]
    },
    {
     "data": {
      "text/html": [
       "<div>\n",
       "<style scoped>\n",
       "    .dataframe tbody tr th:only-of-type {\n",
       "        vertical-align: middle;\n",
       "    }\n",
       "\n",
       "    .dataframe tbody tr th {\n",
       "        vertical-align: top;\n",
       "    }\n",
       "\n",
       "    .dataframe thead th {\n",
       "        text-align: right;\n",
       "    }\n",
       "</style>\n",
       "<table border=\"1\" class=\"dataframe\">\n",
       "  <thead>\n",
       "    <tr style=\"text-align: right;\">\n",
       "      <th></th>\n",
       "      <th>indicators_liveliness_account_based</th>\n",
       "    </tr>\n",
       "    <tr>\n",
       "      <th>t</th>\n",
       "      <th></th>\n",
       "    </tr>\n",
       "  </thead>\n",
       "  <tbody>\n",
       "    <tr>\n",
       "      <th>2019-11-04</th>\n",
       "      <td>0.610421</td>\n",
       "    </tr>\n",
       "    <tr>\n",
       "      <th>2019-11-05</th>\n",
       "      <td>0.610409</td>\n",
       "    </tr>\n",
       "  </tbody>\n",
       "</table>\n",
       "</div>"
      ],
      "text/plain": [
       "            indicators_liveliness_account_based\n",
       "t                                              \n",
       "2019-11-04                             0.610421\n",
       "2019-11-05                             0.610409"
      ]
     },
     "execution_count": 371,
     "metadata": {},
     "output_type": "execute_result"
    }
   ],
   "source": [
    "ent_adj_liv = gn.get('https://api.glassnode.com/v1/metrics/indicators/liveliness_account_based', a = 'btc', s='2010', u='2020-11-03')\n",
    "ent_adj_liv.to_csv('data/ent_adj_liv.csv')\n",
    "print(ent_adj_liv.shape)\n",
    "ent_adj_liv.tail(2)"
   ]
  },
  {
   "cell_type": "code",
   "execution_count": 372,
   "metadata": {},
   "outputs": [
    {
     "name": "stdout",
     "output_type": "stream",
     "text": [
      "(3398, 1)\n"
     ]
    },
    {
     "data": {
      "text/html": [
       "<div>\n",
       "<style scoped>\n",
       "    .dataframe tbody tr th:only-of-type {\n",
       "        vertical-align: middle;\n",
       "    }\n",
       "\n",
       "    .dataframe tbody tr th {\n",
       "        vertical-align: top;\n",
       "    }\n",
       "\n",
       "    .dataframe thead th {\n",
       "        text-align: right;\n",
       "    }\n",
       "</style>\n",
       "<table border=\"1\" class=\"dataframe\">\n",
       "  <thead>\n",
       "    <tr style=\"text-align: right;\">\n",
       "      <th></th>\n",
       "      <th>indicators_mvrv_account_based</th>\n",
       "    </tr>\n",
       "    <tr>\n",
       "      <th>t</th>\n",
       "      <th></th>\n",
       "    </tr>\n",
       "  </thead>\n",
       "  <tbody>\n",
       "    <tr>\n",
       "      <th>2019-11-04</th>\n",
       "      <td>1.581482</td>\n",
       "    </tr>\n",
       "    <tr>\n",
       "      <th>2019-11-05</th>\n",
       "      <td>1.593013</td>\n",
       "    </tr>\n",
       "  </tbody>\n",
       "</table>\n",
       "</div>"
      ],
      "text/plain": [
       "            indicators_mvrv_account_based\n",
       "t                                        \n",
       "2019-11-04                       1.581482\n",
       "2019-11-05                       1.593013"
      ]
     },
     "execution_count": 372,
     "metadata": {},
     "output_type": "execute_result"
    }
   ],
   "source": [
    "ent_adj_mvrv = gn.get('https://api.glassnode.com/v1/metrics/indicators/mvrv_account_based', a = 'btc', s='2010', u='2020-11-03')\n",
    "ent_adj_mvrv.to_csv('data/ent_adj_mvrv.csv')\n",
    "print(ent_adj_mvrv.shape)\n",
    "ent_adj_mvrv.tail(2)"
   ]
  },
  {
   "cell_type": "code",
   "execution_count": 373,
   "metadata": {},
   "outputs": [
    {
     "name": "stdout",
     "output_type": "stream",
     "text": [
      "(3398, 1)\n"
     ]
    },
    {
     "data": {
      "text/html": [
       "<div>\n",
       "<style scoped>\n",
       "    .dataframe tbody tr th:only-of-type {\n",
       "        vertical-align: middle;\n",
       "    }\n",
       "\n",
       "    .dataframe tbody tr th {\n",
       "        vertical-align: top;\n",
       "    }\n",
       "\n",
       "    .dataframe thead th {\n",
       "        text-align: right;\n",
       "    }\n",
       "</style>\n",
       "<table border=\"1\" class=\"dataframe\">\n",
       "  <thead>\n",
       "    <tr style=\"text-align: right;\">\n",
       "      <th></th>\n",
       "      <th>indicators_net_unrealized_profit_loss_account_based</th>\n",
       "    </tr>\n",
       "    <tr>\n",
       "      <th>t</th>\n",
       "      <th></th>\n",
       "    </tr>\n",
       "  </thead>\n",
       "  <tbody>\n",
       "    <tr>\n",
       "      <th>2019-11-04</th>\n",
       "      <td>0.376605</td>\n",
       "    </tr>\n",
       "    <tr>\n",
       "      <th>2019-11-05</th>\n",
       "      <td>0.372797</td>\n",
       "    </tr>\n",
       "  </tbody>\n",
       "</table>\n",
       "</div>"
      ],
      "text/plain": [
       "            indicators_net_unrealized_profit_loss_account_based\n",
       "t                                                              \n",
       "2019-11-04                                           0.376605  \n",
       "2019-11-05                                           0.372797  "
      ]
     },
     "execution_count": 373,
     "metadata": {},
     "output_type": "execute_result"
    }
   ],
   "source": [
    "ent_adj_nupl = gn.get('https://api.glassnode.com/v1/metrics/indicators/net_unrealized_profit_loss_account_based', a = 'btc', s='2010', u='2020-11-03')\n",
    "ent_adj_nupl.to_csv('data/ent_adj_nupl.csv')\n",
    "print(ent_adj_nupl.shape)\n",
    "ent_adj_nupl.tail(2)"
   ]
  },
  {
   "cell_type": "code",
   "execution_count": 374,
   "metadata": {},
   "outputs": [
    {
     "name": "stdout",
     "output_type": "stream",
     "text": [
      "(3398, 1)\n"
     ]
    },
    {
     "data": {
      "text/html": [
       "<div>\n",
       "<style scoped>\n",
       "    .dataframe tbody tr th:only-of-type {\n",
       "        vertical-align: middle;\n",
       "    }\n",
       "\n",
       "    .dataframe tbody tr th {\n",
       "        vertical-align: top;\n",
       "    }\n",
       "\n",
       "    .dataframe thead th {\n",
       "        text-align: right;\n",
       "    }\n",
       "</style>\n",
       "<table border=\"1\" class=\"dataframe\">\n",
       "  <thead>\n",
       "    <tr style=\"text-align: right;\">\n",
       "      <th></th>\n",
       "      <th>indicators_nupl_more_155_account_based</th>\n",
       "    </tr>\n",
       "    <tr>\n",
       "      <th>t</th>\n",
       "      <th></th>\n",
       "    </tr>\n",
       "  </thead>\n",
       "  <tbody>\n",
       "    <tr>\n",
       "      <th>2019-11-04</th>\n",
       "      <td>0.534799</td>\n",
       "    </tr>\n",
       "    <tr>\n",
       "      <th>2019-11-05</th>\n",
       "      <td>0.532703</td>\n",
       "    </tr>\n",
       "  </tbody>\n",
       "</table>\n",
       "</div>"
      ],
      "text/plain": [
       "            indicators_nupl_more_155_account_based\n",
       "t                                                 \n",
       "2019-11-04                                0.534799\n",
       "2019-11-05                                0.532703"
      ]
     },
     "execution_count": 374,
     "metadata": {},
     "output_type": "execute_result"
    }
   ],
   "source": [
    "ent_adj_lth_nupl = gn.get('https://api.glassnode.com/v1/metrics/indicators/nupl_more_155_account_based', a = 'btc', s='2010', u='2020-11-03')\n",
    "ent_adj_lth_nupl.to_csv('data/ent_adj_lth_nupl.csv')\n",
    "print(ent_adj_lth_nupl.shape)\n",
    "ent_adj_lth_nupl.tail(2)"
   ]
  },
  {
   "cell_type": "code",
   "execution_count": 375,
   "metadata": {},
   "outputs": [
    {
     "name": "stdout",
     "output_type": "stream",
     "text": [
      "(3959, 1)\n"
     ]
    },
    {
     "data": {
      "text/html": [
       "<div>\n",
       "<style scoped>\n",
       "    .dataframe tbody tr th:only-of-type {\n",
       "        vertical-align: middle;\n",
       "    }\n",
       "\n",
       "    .dataframe tbody tr th {\n",
       "        vertical-align: top;\n",
       "    }\n",
       "\n",
       "    .dataframe thead th {\n",
       "        text-align: right;\n",
       "    }\n",
       "</style>\n",
       "<table border=\"1\" class=\"dataframe\">\n",
       "  <thead>\n",
       "    <tr style=\"text-align: right;\">\n",
       "      <th></th>\n",
       "      <th>o</th>\n",
       "    </tr>\n",
       "    <tr>\n",
       "      <th>t</th>\n",
       "      <th></th>\n",
       "    </tr>\n",
       "  </thead>\n",
       "  <tbody>\n",
       "    <tr>\n",
       "      <th>2020-11-01</th>\n",
       "      <td>{'ma128': 76540176425025570000000, 'ma14': 858...</td>\n",
       "    </tr>\n",
       "    <tr>\n",
       "      <th>2020-11-02</th>\n",
       "      <td>{'ma128': 76681527546396830000000, 'ma14': 858...</td>\n",
       "    </tr>\n",
       "  </tbody>\n",
       "</table>\n",
       "</div>"
      ],
      "text/plain": [
       "                                                            o\n",
       "t                                                            \n",
       "2020-11-01  {'ma128': 76540176425025570000000, 'ma14': 858...\n",
       "2020-11-02  {'ma128': 76681527546396830000000, 'ma14': 858..."
      ]
     },
     "execution_count": 375,
     "metadata": {},
     "output_type": "execute_result"
    }
   ],
   "source": [
    "diff_ribbon = gn.get('https://api.glassnode.com/v1/metrics/indicators/difficulty_ribbon', a = 'btc', s='2010', u='2020-11-03')\n",
    "diff_ribbon.to_csv('data/diff_ribbon.csv')\n",
    "print(diff_ribbon.shape)\n",
    "diff_ribbon.tail(2)"
   ]
  },
  {
   "cell_type": "code",
   "execution_count": 376,
   "metadata": {},
   "outputs": [
    {
     "name": "stdout",
     "output_type": "stream",
     "text": [
      "(3959, 1)\n"
     ]
    },
    {
     "data": {
      "text/html": [
       "<div>\n",
       "<style scoped>\n",
       "    .dataframe tbody tr th:only-of-type {\n",
       "        vertical-align: middle;\n",
       "    }\n",
       "\n",
       "    .dataframe tbody tr th {\n",
       "        vertical-align: top;\n",
       "    }\n",
       "\n",
       "    .dataframe thead th {\n",
       "        text-align: right;\n",
       "    }\n",
       "</style>\n",
       "<table border=\"1\" class=\"dataframe\">\n",
       "  <thead>\n",
       "    <tr style=\"text-align: right;\">\n",
       "      <th></th>\n",
       "      <th>o</th>\n",
       "    </tr>\n",
       "    <tr>\n",
       "      <th>t</th>\n",
       "      <th></th>\n",
       "    </tr>\n",
       "  </thead>\n",
       "  <tbody>\n",
       "    <tr>\n",
       "      <th>2020-11-01</th>\n",
       "      <td>{'crossed': 0, 'ma30': 132116135061810950000, ...</td>\n",
       "    </tr>\n",
       "    <tr>\n",
       "      <th>2020-11-02</th>\n",
       "      <td>{'crossed': 0, 'ma30': 130467200605520760000, ...</td>\n",
       "    </tr>\n",
       "  </tbody>\n",
       "</table>\n",
       "</div>"
      ],
      "text/plain": [
       "                                                            o\n",
       "t                                                            \n",
       "2020-11-01  {'crossed': 0, 'ma30': 132116135061810950000, ...\n",
       "2020-11-02  {'crossed': 0, 'ma30': 130467200605520760000, ..."
      ]
     },
     "execution_count": 376,
     "metadata": {},
     "output_type": "execute_result"
    }
   ],
   "source": [
    "hash_ribbon = gn.get('https://api.glassnode.com/v1/metrics/indicators/hash_ribbon', a = 'btc', s='2010', u='2020-11-03')\n",
    "hash_ribbon.to_csv('data/hash_ribbon.csv')\n",
    "print(hash_ribbon.shape)\n",
    "hash_ribbon.tail(2)"
   ]
  },
  {
   "cell_type": "code",
   "execution_count": 281,
   "metadata": {},
   "outputs": [
    {
     "data": {
      "text/html": [
       "<div>\n",
       "<style scoped>\n",
       "    .dataframe tbody tr th:only-of-type {\n",
       "        vertical-align: middle;\n",
       "    }\n",
       "\n",
       "    .dataframe tbody tr th {\n",
       "        vertical-align: top;\n",
       "    }\n",
       "\n",
       "    .dataframe thead th {\n",
       "        text-align: right;\n",
       "    }\n",
       "</style>\n",
       "<table border=\"1\" class=\"dataframe\">\n",
       "  <thead>\n",
       "    <tr style=\"text-align: right;\">\n",
       "      <th></th>\n",
       "      <th>addresses_count</th>\n",
       "      <th>addresses_active_count</th>\n",
       "    </tr>\n",
       "    <tr>\n",
       "      <th>t</th>\n",
       "      <th></th>\n",
       "      <th></th>\n",
       "    </tr>\n",
       "  </thead>\n",
       "  <tbody>\n",
       "    <tr>\n",
       "      <th>2010-01-01</th>\n",
       "      <td>32745</td>\n",
       "      <td>4</td>\n",
       "    </tr>\n",
       "    <tr>\n",
       "      <th>2010-01-02</th>\n",
       "      <td>32871</td>\n",
       "      <td>0</td>\n",
       "    </tr>\n",
       "    <tr>\n",
       "      <th>2010-01-03</th>\n",
       "      <td>33057</td>\n",
       "      <td>0</td>\n",
       "    </tr>\n",
       "    <tr>\n",
       "      <th>2010-01-04</th>\n",
       "      <td>33240</td>\n",
       "      <td>85</td>\n",
       "    </tr>\n",
       "    <tr>\n",
       "      <th>2010-01-05</th>\n",
       "      <td>33438</td>\n",
       "      <td>0</td>\n",
       "    </tr>\n",
       "    <tr>\n",
       "      <th>...</th>\n",
       "      <td>...</td>\n",
       "      <td>...</td>\n",
       "    </tr>\n",
       "    <tr>\n",
       "      <th>2020-10-31</th>\n",
       "      <td>728855463</td>\n",
       "      <td>882386</td>\n",
       "    </tr>\n",
       "    <tr>\n",
       "      <th>2020-11-01</th>\n",
       "      <td>729280796</td>\n",
       "      <td>891906</td>\n",
       "    </tr>\n",
       "    <tr>\n",
       "      <th>2020-11-02</th>\n",
       "      <td>729662935</td>\n",
       "      <td>778647</td>\n",
       "    </tr>\n",
       "    <tr>\n",
       "      <th>2020-11-03</th>\n",
       "      <td>730192007</td>\n",
       "      <td>1033207</td>\n",
       "    </tr>\n",
       "    <tr>\n",
       "      <th>2020-11-04</th>\n",
       "      <td>730701279</td>\n",
       "      <td>1169309</td>\n",
       "    </tr>\n",
       "  </tbody>\n",
       "</table>\n",
       "<p>3961 rows × 2 columns</p>\n",
       "</div>"
      ],
      "text/plain": [
       "            addresses_count  addresses_active_count\n",
       "t                                                  \n",
       "2010-01-01            32745                       4\n",
       "2010-01-02            32871                       0\n",
       "2010-01-03            33057                       0\n",
       "2010-01-04            33240                      85\n",
       "2010-01-05            33438                       0\n",
       "...                     ...                     ...\n",
       "2020-10-31        728855463                  882386\n",
       "2020-11-01        729280796                  891906\n",
       "2020-11-02        729662935                  778647\n",
       "2020-11-03        730192007                 1033207\n",
       "2020-11-04        730701279                 1169309\n",
       "\n",
       "[3961 rows x 2 columns]"
      ]
     },
     "execution_count": 281,
     "metadata": {},
     "output_type": "execute_result"
    }
   ],
   "source": [
    "total_addresses.merge(active_addresses, left_index = True, right_index = True)"
   ]
  },
  {
   "cell_type": "code",
   "execution_count": 378,
   "metadata": {},
   "outputs": [],
   "source": [
    "# merging all files into one dataframe\n",
    "directoryPath = 'data/'\n",
    "glued_data = pd.DataFrame()\n",
    "for file_name in glob.glob(directoryPath+'*.csv'):\n",
    "    x = pd.read_csv(file_name, low_memory=False)\n",
    "    glued_data.merge(x, )"
   ]
  },
  {
   "cell_type": "code",
   "execution_count": 398,
   "metadata": {},
   "outputs": [],
   "source": [
    "combined = glued_data.groupby('t').mean()"
   ]
  },
  {
   "cell_type": "code",
   "execution_count": 399,
   "metadata": {},
   "outputs": [
    {
     "name": "stdout",
     "output_type": "stream",
     "text": [
      "<class 'pandas.core.frame.DataFrame'>\n",
      "Index: 3961 entries, 2010-01-01 to 2020-11-04\n",
      "Data columns (total 49 columns):\n",
      " #   Column                                               Non-Null Count  Dtype  \n",
      "---  ------                                               --------------  -----  \n",
      " 0   market_mvrv_more_155                                 3244 non-null   float64\n",
      " 1   addresses_accumulation_balance                       3596 non-null   float64\n",
      " 2   addresses_new_non_zero_count                         3961 non-null   float64\n",
      " 3   indicators_sopr_account_based                        3398 non-null   float64\n",
      " 4   indicators_sopr_adjusted                             3604 non-null   float64\n",
      " 5   transactions_rate                                    3961 non-null   float64\n",
      " 6   market_mvrv                                          3764 non-null   float64\n",
      " 7   addresses_accumulation_count                         3596 non-null   float64\n",
      " 8   entities_receiving_count                             3596 non-null   float64\n",
      " 9   market_marketcap_usd                                 3764 non-null   float64\n",
      " 10  indicators_nvts                                      3761 non-null   float64\n",
      " 11  addresses_min_1k_count                               3961 non-null   float64\n",
      " 12  indicators_puell_multiple                            3398 non-null   float64\n",
      " 13  transactions_transfers_volume_entity_adjusted_sum    3596 non-null   float64\n",
      " 14  entities_net_growth_count                            3596 non-null   float64\n",
      " 15  indicators_sopr_more_155                             3240 non-null   float64\n",
      " 16  market_price_drawdown_relative                       3764 non-null   float64\n",
      " 17  entities_min_1k_count                                3596 non-null   float64\n",
      " 18  market_price_realized_usd                            3961 non-null   float64\n",
      " 19  market_mvrv_less_155                                 3399 non-null   float64\n",
      " 20  indicators_net_unrealized_profit_loss_account_based  3398 non-null   float64\n",
      " 21  transactions_transfers_volume_adjusted_sum           3961 non-null   float64\n",
      " 22  indicators_hodled_lost_coins                         3596 non-null   float64\n",
      " 23  indicators_sopr                                      3762 non-null   float64\n",
      " 24  addresses_profit_relative                            3398 non-null   float64\n",
      " 25  entities_new_count                                   3596 non-null   float64\n",
      " 26  market_mvrv_z_score                                  3763 non-null   float64\n",
      " 27  indicators_mvrv_account_based                        3398 non-null   float64\n",
      " 28  transactions_size_sum                                3949 non-null   float64\n",
      " 29  entities_profit_relative                             3398 non-null   float64\n",
      " 30  transactions_transfers_volume_miners_net             3596 non-null   float64\n",
      " 31  indicators_nupl_more_155_account_based               3398 non-null   float64\n",
      " 32  indicators_liveliness                                3959 non-null   float64\n",
      " 33  indicators_liveliness_account_based                  3596 non-null   float64\n",
      " 34  transactions_entity_adjusted_count                   3596 non-null   float64\n",
      " 35  transactions_count                                   3961 non-null   float64\n",
      " 36  addresses_min_10k_count                              3961 non-null   float64\n",
      " 37  indicators_reserve_risk                              3733 non-null   float64\n",
      " 38  indicators_realized_profit                           3762 non-null   float64\n",
      " 39  addresses_count                                      3961 non-null   float64\n",
      " 40  indicators_nupl_more_155                             3607 non-null   float64\n",
      " 41  addresses_active_count                               3961 non-null   float64\n",
      " 42  market_marketcap_realized_usd                        3961 non-null   float64\n",
      " 43  market_price_usd_close                               3764 non-null   float64\n",
      " 44  addresses_non_zero_count                             3961 non-null   float64\n",
      " 45  indicators_nvt                                       3761 non-null   float64\n",
      " 46  entities_active_count                                3596 non-null   float64\n",
      " 47  indicators_net_unrealized_profit_loss                3761 non-null   float64\n",
      " 48  indicators_sopr_less_155                             3398 non-null   float64\n",
      "dtypes: float64(49)\n",
      "memory usage: 1.5+ MB\n"
     ]
    }
   ],
   "source": [
    "combined.info()"
   ]
  },
  {
   "cell_type": "code",
   "execution_count": 400,
   "metadata": {},
   "outputs": [
    {
     "data": {
      "text/plain": [
       "indicators_sopr_more_155                               18.202474\n",
       "market_mvrv_more_155                                   18.101490\n",
       "indicators_nupl_more_155_account_based                 14.213582\n",
       "indicators_sopr_account_based                          14.213582\n",
       "indicators_puell_multiple                              14.213582\n",
       "indicators_net_unrealized_profit_loss_account_based    14.213582\n",
       "indicators_mvrv_account_based                          14.213582\n",
       "entities_profit_relative                               14.213582\n",
       "indicators_sopr_less_155                               14.213582\n",
       "addresses_profit_relative                              14.213582\n",
       "market_mvrv_less_155                                   14.188336\n",
       "entities_net_growth_count                               9.214845\n",
       "entities_receiving_count                                9.214845\n",
       "addresses_accumulation_balance                          9.214845\n",
       "transactions_entity_adjusted_count                      9.214845\n",
       "indicators_liveliness_account_based                     9.214845\n",
       "transactions_transfers_volume_miners_net                9.214845\n",
       "addresses_accumulation_count                            9.214845\n",
       "entities_min_1k_count                                   9.214845\n",
       "entities_active_count                                   9.214845\n",
       "transactions_transfers_volume_entity_adjusted_sum       9.214845\n",
       "entities_new_count                                      9.214845\n",
       "indicators_hodled_lost_coins                            9.214845\n",
       "indicators_sopr_adjusted                                9.012876\n",
       "indicators_nupl_more_155                                8.937137\n",
       "indicators_reserve_risk                                 5.756122\n",
       "indicators_net_unrealized_profit_loss                   5.049230\n",
       "indicators_nvts                                         5.049230\n",
       "indicators_nvt                                          5.049230\n",
       "indicators_sopr                                         5.023984\n",
       "indicators_realized_profit                              5.023984\n",
       "market_mvrv_z_score                                     4.998738\n",
       "market_price_drawdown_relative                          4.973492\n",
       "market_mvrv                                             4.973492\n",
       "market_price_usd_close                                  4.973492\n",
       "market_marketcap_usd                                    4.973492\n",
       "transactions_size_sum                                   0.302954\n",
       "indicators_liveliness                                   0.050492\n",
       "transactions_rate                                       0.000000\n",
       "addresses_new_non_zero_count                            0.000000\n",
       "market_price_realized_usd                               0.000000\n",
       "addresses_min_1k_count                                  0.000000\n",
       "addresses_non_zero_count                                0.000000\n",
       "addresses_min_10k_count                                 0.000000\n",
       "transactions_transfers_volume_adjusted_sum              0.000000\n",
       "market_marketcap_realized_usd                           0.000000\n",
       "addresses_active_count                                  0.000000\n",
       "transactions_count                                      0.000000\n",
       "addresses_count                                         0.000000\n",
       "dtype: float64"
      ]
     },
     "execution_count": 400,
     "metadata": {},
     "output_type": "execute_result"
    }
   ],
   "source": [
    "((combined.isnull().sum())/len(combined)*100).sort_values(ascending = False)"
   ]
  },
  {
   "cell_type": "code",
   "execution_count": 401,
   "metadata": {},
   "outputs": [
    {
     "data": {
      "text/plain": [
       "49"
      ]
     },
     "execution_count": 401,
     "metadata": {},
     "output_type": "execute_result"
    }
   ],
   "source": [
    "len(combined.columns)"
   ]
  },
  {
   "cell_type": "code",
   "execution_count": 403,
   "metadata": {},
   "outputs": [],
   "source": [
    "combined.to_csv('data/combined.csv')"
   ]
  },
  {
   "cell_type": "markdown",
   "metadata": {},
   "source": [
    "a\n",
    "REQUIRED\n",
    "string\n",
    "asset symbol (only: BTC, LTC, BCH)\n",
    "\n",
    "e\n",
    "OPTIONAL\n",
    "string\n",
    "exchange (see /endpoints)\n",
    "\n",
    "s\n",
    "OPTIONAL\n",
    "integer\n",
    "since, unix timestamp\n",
    "\n",
    "u\n",
    "OPTIONAL\n",
    "integer\n",
    "until, unix timestamp\n",
    "\n",
    "i\n",
    "OPTIONAL\n",
    "string\n",
    "frequency interval, 1h, 10m or 24h (default)\n",
    "\n",
    "f\n",
    "OPTIONAL\n",
    "string\n",
    "format, csv or json (default)\n",
    "\n",
    "c\n",
    "OPTIONAL\n",
    "string\n",
    "currency, usd or native (default)"
   ]
  },
  {
   "cell_type": "code",
   "execution_count": 402,
   "metadata": {},
   "outputs": [],
   "source": [
    "# Coinmetrics"
   ]
  },
  {
   "cell_type": "code",
   "execution_count": 405,
   "metadata": {},
   "outputs": [],
   "source": [
    "import coinmetrics"
   ]
  },
  {
   "cell_type": "code",
   "execution_count": 464,
   "metadata": {},
   "outputs": [
    {
     "data": {
      "text/plain": [
       "'Market Specific Metrics'"
      ]
     },
     "execution_count": 464,
     "metadata": {},
     "output_type": "execute_result"
    }
   ],
   "source": [
    "# https://github.com/checkmatey/checkonchain/blob/master/general/coinmetrics_api.py\n",
    "# Import Coinmetrics API\n",
    "# from checkonchain.general.__init__ import *\n",
    "import coinmetrics\n",
    "\n",
    "cm = coinmetrics.Community() # Initialize a reference object, in this case `cm` for the Community API\n",
    "\n",
    "class Coinmetrics_api:\n",
    "       \n",
    "    def __init__(self,asset,begin_timestamp,end_timestamp):\n",
    "        print('...Fetching Coinmetrics API for '+asset+'...')\n",
    "        # List all available metrics for BTC.\n",
    "        self.asset = asset\n",
    "        self.begin_timestamp=begin_timestamp\n",
    "        self.end_timestamp=end_timestamp\n",
    "        self.topcapconst = 35\n",
    "\n",
    "    def collect_data(self):\n",
    "        available_data_types = cm.get_available_data_types_for_asset(self.asset)\n",
    "        metric_list = str((','.join(available_data_types))) #setup complete metric list\n",
    "        #print(metric_list)\n",
    "        asset_data = cm.get_asset_data_for_time_range(self.asset, metric_list, self.begin_timestamp, self.end_timestamp)\n",
    "        return asset_data\n",
    "    \n",
    "    def convert_to_pd(self):\n",
    "        asset_data = Coinmetrics_api.collect_data(self)\n",
    "        df = coinmetrics.cm_to_pandas(asset_data)\n",
    "        #Extract Data as column for ease of application\n",
    "        df.index.name = 'date'\n",
    "        df.reset_index(inplace=True)\n",
    "        df['date'] = pd.to_datetime(df['date'])\n",
    "        #Calc - block height\n",
    "        df['blk']=df['BlkCnt'].cumsum()\n",
    "        #Realised Price (Only if present, excludes XMR and ZEC et al.)\n",
    "        if 'CapRealUSD' in df:\n",
    "            df['PriceRealUSD'] = df['CapRealUSD']/df['SplyCur']\n",
    "        #Calc - approx btc block height (Noting BTC blocks were mined from 9/Jan/09)\n",
    "        df['btc_blk_est'] = (df['date'] - pd.to_datetime(np.datetime64('2009-01-09'),utc=True))\n",
    "        df['btc_blk_est'] = df['btc_blk_est']/np.timedelta64(1,'D') #convert from timedelta to Days (float)\n",
    "        df['btc_blk_est'] = df['btc_blk_est']*(24*6) #Note - corrected for neg values in loop below\n",
    "        #Calc - Daily Issuance\n",
    "        for i in range(0,len(df.index)):\n",
    "            #Correct btc_blk_est\n",
    "            df.loc[i,'btc_blk_est'] = max(0,df.loc[i,'btc_blk_est'])\n",
    "            if i == 0:\n",
    "                df.loc[i,'DailyIssuedNtv'] = df.loc[i,'SplyCur']\n",
    "            else:\n",
    "                df.loc[i,'DailyIssuedNtv'] = df.loc[i,'SplyCur'] - df.loc[i-1,'SplyCur']\n",
    "        # Calc - inflation Rate,  S2F, S2F Model, S2F Price\n",
    "        df['DailyIssuedUSD'] = df['DailyIssuedNtv'] * df['PriceUSD']            \n",
    "        df['inf_pct_ann'] = df['DailyIssuedNtv']*365/df['SplyCur']\n",
    "        df['S2F'] = 1/df['inf_pct_ann']     \n",
    "        df = df.set_index('date')\n",
    "        df.index = pd.to_datetime(df.index, unit='D')\n",
    "        df = df.sort_index()\n",
    "        return df\n",
    "\n",
    "\"\"\"#############################  \n",
    "    Coinmetrics Community API\n",
    "BTC = Coinmetrics_api('btc',\"2009-01-03\",\"2019-10-07\").convert_to_pd()  \n",
    "################################\"\"\"\n",
    "\n",
    "\"\"\"Example Calculations\"\"\"\n",
    "#BTC = Coinmetrics_api('btc',\"2009-01-03\",\"2019-10-07\").convert_to_pd()\n",
    "#LTC = Coinmetrics_api('ltc',\"2011-10-07\",today).convert_to_pd()\n",
    "#BCH = Coinmetrics_api('bch',\"2017-08-01\",today).convert_to_pd()\n",
    "#DASH = Coinmetrics_api('dash',\"2014-01-19\",today).convert_to_pd()\n",
    "#DCR = Coinmetrics_api('dcr',\"2016-02-08\",today).convert_to_pd()\n",
    "#XMR = Coinmetrics_api('xmr',\"2014-04-18\",today).convert_to_pd()\n",
    "#ZEC = Coinmetrics_api('zec',\"2016-10-28\",today).convert_to_pd()\n",
    "#ETH = Coinmetrics_api('eth',\"2015-07-30\",today).convert_to_pd()\n",
    "\n",
    "\"\"\"Time Metrics\"\"\"\n",
    "# date               -datetime64[ns, UTC]\n",
    "# blk                -ADDED METRIC - block height (Sum of BlkCnt)\n",
    "# btc_blk_est        -ADDED METRIC - Estimated Bitcoin block-height (Assumes 10min block-times)\n",
    "\n",
    "\"\"\"Blockchain Metrics\"\"\"\n",
    "# AdrActCnt          -Active Addresses\n",
    "# BlkCnt             -Block Count (Daily)\n",
    "# BlkSizeByte        -Block Size (Bytes)\n",
    "# BlkSizeMeanByte    -Block Size Average (Bytes)\n",
    "# SplyCur            -Current Coin Supply\n",
    "# inf_pct_ann        -ADDED METRIC - Inflation % annual\n",
    "# S2F                -ADDED METRIC - Stock-to-Flow Ratio\n",
    "\n",
    "\"\"\"Network Valuation Models\"\"\"\n",
    "# CapMrktCurUSD      - Market Cap\n",
    "# CapRealUSD         - Realised Cap\n",
    "\n",
    "\"\"\"Network Pricing Models\"\"\"\n",
    "# PriceUSD           - Coin Price USD\n",
    "# PriceRealised      - Realised Price USD\n",
    "\n",
    "\"\"\"Network Valuation Oscillators\"\"\"\n",
    "# CapMVRVCur         - MVRV Ratio - Market Cap / Realised Cap\n",
    "# NVTAdj             - NVT Ratio (Adjusted Volume)\n",
    "# NVTAdj90           - NVT Ratio 90D MA (Adjusted Volume)\n",
    "\n",
    "\"\"\"Transaction Flow Metrics\"\"\"\n",
    "# TxCnt              -Count of Transactions\n",
    "# TxTfrCnt           -Count of Transaction Transfers (Cleaned Data)\n",
    "# TxTfrValAdjNtv     -Native Units Transferred (Adjusted Data)\n",
    "# TxTfrValAdjUSD     -USD Value Transferred (Adjusted Data)\n",
    "# TxTfrValNtv        -Total Native Units Value Transferred\n",
    "# TxTfrValUSD        -Total USD Value Transferred\n",
    "# TxTfrValMeanNtv    -Mean Native Units Transferred\n",
    "# TxTfrValMeanUSD    -Mean USD Value Transferred\n",
    "# TxTfrValMedNtv     -Median Native Units Transferred\n",
    "# TxTfrValMedUSD     -Median USD Value Transferred\n",
    "\n",
    "\"\"\"Miner Metrics\"\"\"\n",
    "# DiffMean          - Average Difficulty\n",
    "# FeeMeanNtv        - Mean Fee paid in Native Coins (Daily)\n",
    "# FeeMeanUSD        - Mean Fee paid in USD (Daily)\n",
    "# FeeMedNtv         - Median Fee paid in Native Coins (Daily)\n",
    "# FeeMedUSD         - Mean Fee paid in USD (Daily)\n",
    "# FeeTotNtv         - Total Fees paid in Native Coins (Daily)\n",
    "# FeeTotUSD         - Total Fees paid in Native Coins (Daily)\n",
    "# IssContNtv        - Daily Issued Native Coins to Miners/Validators\n",
    "# IssContPctAnn     - Annualised Inflation Rate\n",
    "# IssContUSD        - Daily Issued USD to Miners/Validators\n",
    "# IssTotNtvDaily    - Issued Native Coins to Miners/Validators (Daily)\n",
    "# IssTotUSD         - Daily Issued USD Value to Miners/Validators (Daily)\n",
    "# DailyIssuedNtv    - ADDED METRIC - Daily Issued Native Units (Sply_n - Sply_n-1)\n",
    "# DailyIssuedUSD    - ADDED METRIC - Daily Issued USD Value (Sply_n - Sply_n-1)\n",
    "\n",
    "\"\"\"Market Specific Metrics\"\"\"\n",
    "# ROI1yr\n",
    "# ROI30d\n",
    "# VtyDayRet180d\n",
    "# VtyDayRet30d\n",
    "# VtyDayRet60d"
   ]
  },
  {
   "cell_type": "code",
   "execution_count": 465,
   "metadata": {},
   "outputs": [
    {
     "name": "stdout",
     "output_type": "stream",
     "text": [
      "...Fetching Coinmetrics API for btc...\n"
     ]
    }
   ],
   "source": [
    "btc = Coinmetrics_api('btc',\"2009-01-03\",\"2020-11-05\").convert_to_pd()"
   ]
  },
  {
   "cell_type": "code",
   "execution_count": 466,
   "metadata": {},
   "outputs": [
    {
     "data": {
      "text/html": [
       "<div>\n",
       "<style scoped>\n",
       "    .dataframe tbody tr th:only-of-type {\n",
       "        vertical-align: middle;\n",
       "    }\n",
       "\n",
       "    .dataframe tbody tr th {\n",
       "        vertical-align: top;\n",
       "    }\n",
       "\n",
       "    .dataframe thead th {\n",
       "        text-align: right;\n",
       "    }\n",
       "</style>\n",
       "<table border=\"1\" class=\"dataframe\">\n",
       "  <thead>\n",
       "    <tr style=\"text-align: right;\">\n",
       "      <th></th>\n",
       "      <th>AdrActCnt</th>\n",
       "      <th>BlkCnt</th>\n",
       "      <th>BlkSizeByte</th>\n",
       "      <th>BlkSizeMeanByte</th>\n",
       "      <th>CapMVRVCur</th>\n",
       "      <th>CapMrktCurUSD</th>\n",
       "      <th>CapRealUSD</th>\n",
       "      <th>DiffMean</th>\n",
       "      <th>FeeMeanNtv</th>\n",
       "      <th>FeeMeanUSD</th>\n",
       "      <th>...</th>\n",
       "      <th>VtyDayRet180d</th>\n",
       "      <th>VtyDayRet30d</th>\n",
       "      <th>VtyDayRet60d</th>\n",
       "      <th>blk</th>\n",
       "      <th>PriceRealUSD</th>\n",
       "      <th>btc_blk_est</th>\n",
       "      <th>DailyIssuedNtv</th>\n",
       "      <th>DailyIssuedUSD</th>\n",
       "      <th>inf_pct_ann</th>\n",
       "      <th>S2F</th>\n",
       "    </tr>\n",
       "    <tr>\n",
       "      <th>date</th>\n",
       "      <th></th>\n",
       "      <th></th>\n",
       "      <th></th>\n",
       "      <th></th>\n",
       "      <th></th>\n",
       "      <th></th>\n",
       "      <th></th>\n",
       "      <th></th>\n",
       "      <th></th>\n",
       "      <th></th>\n",
       "      <th></th>\n",
       "      <th></th>\n",
       "      <th></th>\n",
       "      <th></th>\n",
       "      <th></th>\n",
       "      <th></th>\n",
       "      <th></th>\n",
       "      <th></th>\n",
       "      <th></th>\n",
       "      <th></th>\n",
       "      <th></th>\n",
       "    </tr>\n",
       "  </thead>\n",
       "  <tbody>\n",
       "    <tr>\n",
       "      <th>2009-01-03 00:00:00+00:00</th>\n",
       "      <td>0.0</td>\n",
       "      <td>0.0</td>\n",
       "      <td>0.0</td>\n",
       "      <td>NaN</td>\n",
       "      <td>NaN</td>\n",
       "      <td>NaN</td>\n",
       "      <td>0.000000e+00</td>\n",
       "      <td>NaN</td>\n",
       "      <td>NaN</td>\n",
       "      <td>NaN</td>\n",
       "      <td>...</td>\n",
       "      <td>NaN</td>\n",
       "      <td>NaN</td>\n",
       "      <td>NaN</td>\n",
       "      <td>0.0</td>\n",
       "      <td>NaN</td>\n",
       "      <td>0.0</td>\n",
       "      <td>0.000000</td>\n",
       "      <td>NaN</td>\n",
       "      <td>NaN</td>\n",
       "      <td>NaN</td>\n",
       "    </tr>\n",
       "    <tr>\n",
       "      <th>2009-01-04 00:00:00+00:00</th>\n",
       "      <td>0.0</td>\n",
       "      <td>0.0</td>\n",
       "      <td>0.0</td>\n",
       "      <td>NaN</td>\n",
       "      <td>NaN</td>\n",
       "      <td>NaN</td>\n",
       "      <td>0.000000e+00</td>\n",
       "      <td>NaN</td>\n",
       "      <td>NaN</td>\n",
       "      <td>NaN</td>\n",
       "      <td>...</td>\n",
       "      <td>NaN</td>\n",
       "      <td>NaN</td>\n",
       "      <td>NaN</td>\n",
       "      <td>0.0</td>\n",
       "      <td>NaN</td>\n",
       "      <td>0.0</td>\n",
       "      <td>0.000000</td>\n",
       "      <td>NaN</td>\n",
       "      <td>NaN</td>\n",
       "      <td>NaN</td>\n",
       "    </tr>\n",
       "    <tr>\n",
       "      <th>2009-01-05 00:00:00+00:00</th>\n",
       "      <td>0.0</td>\n",
       "      <td>0.0</td>\n",
       "      <td>0.0</td>\n",
       "      <td>NaN</td>\n",
       "      <td>NaN</td>\n",
       "      <td>NaN</td>\n",
       "      <td>0.000000e+00</td>\n",
       "      <td>NaN</td>\n",
       "      <td>NaN</td>\n",
       "      <td>NaN</td>\n",
       "      <td>...</td>\n",
       "      <td>NaN</td>\n",
       "      <td>NaN</td>\n",
       "      <td>NaN</td>\n",
       "      <td>0.0</td>\n",
       "      <td>NaN</td>\n",
       "      <td>0.0</td>\n",
       "      <td>0.000000</td>\n",
       "      <td>NaN</td>\n",
       "      <td>NaN</td>\n",
       "      <td>NaN</td>\n",
       "    </tr>\n",
       "    <tr>\n",
       "      <th>2009-01-06 00:00:00+00:00</th>\n",
       "      <td>0.0</td>\n",
       "      <td>0.0</td>\n",
       "      <td>0.0</td>\n",
       "      <td>NaN</td>\n",
       "      <td>NaN</td>\n",
       "      <td>NaN</td>\n",
       "      <td>0.000000e+00</td>\n",
       "      <td>NaN</td>\n",
       "      <td>NaN</td>\n",
       "      <td>NaN</td>\n",
       "      <td>...</td>\n",
       "      <td>NaN</td>\n",
       "      <td>NaN</td>\n",
       "      <td>NaN</td>\n",
       "      <td>0.0</td>\n",
       "      <td>NaN</td>\n",
       "      <td>0.0</td>\n",
       "      <td>0.000000</td>\n",
       "      <td>NaN</td>\n",
       "      <td>NaN</td>\n",
       "      <td>NaN</td>\n",
       "    </tr>\n",
       "    <tr>\n",
       "      <th>2009-01-07 00:00:00+00:00</th>\n",
       "      <td>0.0</td>\n",
       "      <td>0.0</td>\n",
       "      <td>0.0</td>\n",
       "      <td>NaN</td>\n",
       "      <td>NaN</td>\n",
       "      <td>NaN</td>\n",
       "      <td>0.000000e+00</td>\n",
       "      <td>NaN</td>\n",
       "      <td>NaN</td>\n",
       "      <td>NaN</td>\n",
       "      <td>...</td>\n",
       "      <td>NaN</td>\n",
       "      <td>NaN</td>\n",
       "      <td>NaN</td>\n",
       "      <td>0.0</td>\n",
       "      <td>NaN</td>\n",
       "      <td>0.0</td>\n",
       "      <td>0.000000</td>\n",
       "      <td>NaN</td>\n",
       "      <td>NaN</td>\n",
       "      <td>NaN</td>\n",
       "    </tr>\n",
       "    <tr>\n",
       "      <th>...</th>\n",
       "      <td>...</td>\n",
       "      <td>...</td>\n",
       "      <td>...</td>\n",
       "      <td>...</td>\n",
       "      <td>...</td>\n",
       "      <td>...</td>\n",
       "      <td>...</td>\n",
       "      <td>...</td>\n",
       "      <td>...</td>\n",
       "      <td>...</td>\n",
       "      <td>...</td>\n",
       "      <td>...</td>\n",
       "      <td>...</td>\n",
       "      <td>...</td>\n",
       "      <td>...</td>\n",
       "      <td>...</td>\n",
       "      <td>...</td>\n",
       "      <td>...</td>\n",
       "      <td>...</td>\n",
       "      <td>...</td>\n",
       "      <td>...</td>\n",
       "    </tr>\n",
       "    <tr>\n",
       "      <th>2020-11-01 00:00:00+00:00</th>\n",
       "      <td>897445.0</td>\n",
       "      <td>125.0</td>\n",
       "      <td>155970614.0</td>\n",
       "      <td>1.247765e+06</td>\n",
       "      <td>2.093168</td>\n",
       "      <td>2.545647e+11</td>\n",
       "      <td>1.216170e+11</td>\n",
       "      <td>1.999734e+13</td>\n",
       "      <td>0.000648</td>\n",
       "      <td>8.900458</td>\n",
       "      <td>...</td>\n",
       "      <td>0.026458</td>\n",
       "      <td>0.018588</td>\n",
       "      <td>0.023757</td>\n",
       "      <td>655062.0</td>\n",
       "      <td>6562.732348</td>\n",
       "      <td>621216.0</td>\n",
       "      <td>781.215161</td>\n",
       "      <td>1.073147e+07</td>\n",
       "      <td>0.015387</td>\n",
       "      <td>64.989910</td>\n",
       "    </tr>\n",
       "    <tr>\n",
       "      <th>2020-11-02 00:00:00+00:00</th>\n",
       "      <td>777173.0</td>\n",
       "      <td>95.0</td>\n",
       "      <td>126097116.0</td>\n",
       "      <td>1.327338e+06</td>\n",
       "      <td>2.065861</td>\n",
       "      <td>2.519536e+11</td>\n",
       "      <td>1.219606e+11</td>\n",
       "      <td>1.999734e+13</td>\n",
       "      <td>0.000957</td>\n",
       "      <td>13.007339</td>\n",
       "      <td>...</td>\n",
       "      <td>0.026388</td>\n",
       "      <td>0.018827</td>\n",
       "      <td>0.019009</td>\n",
       "      <td>655157.0</td>\n",
       "      <td>6581.065499</td>\n",
       "      <td>621360.0</td>\n",
       "      <td>593.750000</td>\n",
       "      <td>8.072367e+06</td>\n",
       "      <td>0.011694</td>\n",
       "      <td>85.511966</td>\n",
       "    </tr>\n",
       "    <tr>\n",
       "      <th>2020-11-03 00:00:00+00:00</th>\n",
       "      <td>1029970.0</td>\n",
       "      <td>140.0</td>\n",
       "      <td>179259297.0</td>\n",
       "      <td>1.280424e+06</td>\n",
       "      <td>2.094975</td>\n",
       "      <td>2.594037e+11</td>\n",
       "      <td>1.238219e+11</td>\n",
       "      <td>1.775065e+13</td>\n",
       "      <td>0.000858</td>\n",
       "      <td>12.013911</td>\n",
       "      <td>...</td>\n",
       "      <td>0.025889</td>\n",
       "      <td>0.019200</td>\n",
       "      <td>0.019164</td>\n",
       "      <td>655297.0</td>\n",
       "      <td>6681.184082</td>\n",
       "      <td>621504.0</td>\n",
       "      <td>874.999995</td>\n",
       "      <td>1.224730e+07</td>\n",
       "      <td>0.017233</td>\n",
       "      <td>58.028717</td>\n",
       "    </tr>\n",
       "    <tr>\n",
       "      <th>2020-11-04 00:00:00+00:00</th>\n",
       "      <td>1175181.0</td>\n",
       "      <td>159.0</td>\n",
       "      <td>214138744.0</td>\n",
       "      <td>1.346785e+06</td>\n",
       "      <td>2.108234</td>\n",
       "      <td>2.618684e+11</td>\n",
       "      <td>1.242122e+11</td>\n",
       "      <td>1.678778e+13</td>\n",
       "      <td>0.000643</td>\n",
       "      <td>9.090230</td>\n",
       "      <td>...</td>\n",
       "      <td>0.025869</td>\n",
       "      <td>0.019199</td>\n",
       "      <td>0.018504</td>\n",
       "      <td>655456.0</td>\n",
       "      <td>6701.886973</td>\n",
       "      <td>621648.0</td>\n",
       "      <td>993.749962</td>\n",
       "      <td>1.404084e+07</td>\n",
       "      <td>0.019571</td>\n",
       "      <td>51.097209</td>\n",
       "    </tr>\n",
       "    <tr>\n",
       "      <th>2020-11-05 00:00:00+00:00</th>\n",
       "      <td>1071518.0</td>\n",
       "      <td>147.0</td>\n",
       "      <td>188078794.0</td>\n",
       "      <td>1.279448e+06</td>\n",
       "      <td>2.307493</td>\n",
       "      <td>2.892633e+11</td>\n",
       "      <td>1.253583e+11</td>\n",
       "      <td>1.678778e+13</td>\n",
       "      <td>0.000831</td>\n",
       "      <td>12.973713</td>\n",
       "      <td>...</td>\n",
       "      <td>0.026765</td>\n",
       "      <td>0.024748</td>\n",
       "      <td>0.022112</td>\n",
       "      <td>655603.0</td>\n",
       "      <td>6763.387234</td>\n",
       "      <td>621792.0</td>\n",
       "      <td>918.749995</td>\n",
       "      <td>1.433844e+07</td>\n",
       "      <td>0.018093</td>\n",
       "      <td>55.271148</td>\n",
       "    </tr>\n",
       "  </tbody>\n",
       "</table>\n",
       "<p>4325 rows × 49 columns</p>\n",
       "</div>"
      ],
      "text/plain": [
       "                           AdrActCnt  BlkCnt  BlkSizeByte  BlkSizeMeanByte  \\\n",
       "date                                                                         \n",
       "2009-01-03 00:00:00+00:00        0.0     0.0          0.0              NaN   \n",
       "2009-01-04 00:00:00+00:00        0.0     0.0          0.0              NaN   \n",
       "2009-01-05 00:00:00+00:00        0.0     0.0          0.0              NaN   \n",
       "2009-01-06 00:00:00+00:00        0.0     0.0          0.0              NaN   \n",
       "2009-01-07 00:00:00+00:00        0.0     0.0          0.0              NaN   \n",
       "...                              ...     ...          ...              ...   \n",
       "2020-11-01 00:00:00+00:00   897445.0   125.0  155970614.0     1.247765e+06   \n",
       "2020-11-02 00:00:00+00:00   777173.0    95.0  126097116.0     1.327338e+06   \n",
       "2020-11-03 00:00:00+00:00  1029970.0   140.0  179259297.0     1.280424e+06   \n",
       "2020-11-04 00:00:00+00:00  1175181.0   159.0  214138744.0     1.346785e+06   \n",
       "2020-11-05 00:00:00+00:00  1071518.0   147.0  188078794.0     1.279448e+06   \n",
       "\n",
       "                           CapMVRVCur  CapMrktCurUSD    CapRealUSD  \\\n",
       "date                                                                 \n",
       "2009-01-03 00:00:00+00:00         NaN            NaN  0.000000e+00   \n",
       "2009-01-04 00:00:00+00:00         NaN            NaN  0.000000e+00   \n",
       "2009-01-05 00:00:00+00:00         NaN            NaN  0.000000e+00   \n",
       "2009-01-06 00:00:00+00:00         NaN            NaN  0.000000e+00   \n",
       "2009-01-07 00:00:00+00:00         NaN            NaN  0.000000e+00   \n",
       "...                               ...            ...           ...   \n",
       "2020-11-01 00:00:00+00:00    2.093168   2.545647e+11  1.216170e+11   \n",
       "2020-11-02 00:00:00+00:00    2.065861   2.519536e+11  1.219606e+11   \n",
       "2020-11-03 00:00:00+00:00    2.094975   2.594037e+11  1.238219e+11   \n",
       "2020-11-04 00:00:00+00:00    2.108234   2.618684e+11  1.242122e+11   \n",
       "2020-11-05 00:00:00+00:00    2.307493   2.892633e+11  1.253583e+11   \n",
       "\n",
       "                               DiffMean  FeeMeanNtv  FeeMeanUSD  ...  \\\n",
       "date                                                             ...   \n",
       "2009-01-03 00:00:00+00:00           NaN         NaN         NaN  ...   \n",
       "2009-01-04 00:00:00+00:00           NaN         NaN         NaN  ...   \n",
       "2009-01-05 00:00:00+00:00           NaN         NaN         NaN  ...   \n",
       "2009-01-06 00:00:00+00:00           NaN         NaN         NaN  ...   \n",
       "2009-01-07 00:00:00+00:00           NaN         NaN         NaN  ...   \n",
       "...                                 ...         ...         ...  ...   \n",
       "2020-11-01 00:00:00+00:00  1.999734e+13    0.000648    8.900458  ...   \n",
       "2020-11-02 00:00:00+00:00  1.999734e+13    0.000957   13.007339  ...   \n",
       "2020-11-03 00:00:00+00:00  1.775065e+13    0.000858   12.013911  ...   \n",
       "2020-11-04 00:00:00+00:00  1.678778e+13    0.000643    9.090230  ...   \n",
       "2020-11-05 00:00:00+00:00  1.678778e+13    0.000831   12.973713  ...   \n",
       "\n",
       "                           VtyDayRet180d  VtyDayRet30d  VtyDayRet60d  \\\n",
       "date                                                                   \n",
       "2009-01-03 00:00:00+00:00            NaN           NaN           NaN   \n",
       "2009-01-04 00:00:00+00:00            NaN           NaN           NaN   \n",
       "2009-01-05 00:00:00+00:00            NaN           NaN           NaN   \n",
       "2009-01-06 00:00:00+00:00            NaN           NaN           NaN   \n",
       "2009-01-07 00:00:00+00:00            NaN           NaN           NaN   \n",
       "...                                  ...           ...           ...   \n",
       "2020-11-01 00:00:00+00:00       0.026458      0.018588      0.023757   \n",
       "2020-11-02 00:00:00+00:00       0.026388      0.018827      0.019009   \n",
       "2020-11-03 00:00:00+00:00       0.025889      0.019200      0.019164   \n",
       "2020-11-04 00:00:00+00:00       0.025869      0.019199      0.018504   \n",
       "2020-11-05 00:00:00+00:00       0.026765      0.024748      0.022112   \n",
       "\n",
       "                                blk  PriceRealUSD  btc_blk_est  \\\n",
       "date                                                             \n",
       "2009-01-03 00:00:00+00:00       0.0           NaN          0.0   \n",
       "2009-01-04 00:00:00+00:00       0.0           NaN          0.0   \n",
       "2009-01-05 00:00:00+00:00       0.0           NaN          0.0   \n",
       "2009-01-06 00:00:00+00:00       0.0           NaN          0.0   \n",
       "2009-01-07 00:00:00+00:00       0.0           NaN          0.0   \n",
       "...                             ...           ...          ...   \n",
       "2020-11-01 00:00:00+00:00  655062.0   6562.732348     621216.0   \n",
       "2020-11-02 00:00:00+00:00  655157.0   6581.065499     621360.0   \n",
       "2020-11-03 00:00:00+00:00  655297.0   6681.184082     621504.0   \n",
       "2020-11-04 00:00:00+00:00  655456.0   6701.886973     621648.0   \n",
       "2020-11-05 00:00:00+00:00  655603.0   6763.387234     621792.0   \n",
       "\n",
       "                           DailyIssuedNtv  DailyIssuedUSD  inf_pct_ann  \\\n",
       "date                                                                     \n",
       "2009-01-03 00:00:00+00:00        0.000000             NaN          NaN   \n",
       "2009-01-04 00:00:00+00:00        0.000000             NaN          NaN   \n",
       "2009-01-05 00:00:00+00:00        0.000000             NaN          NaN   \n",
       "2009-01-06 00:00:00+00:00        0.000000             NaN          NaN   \n",
       "2009-01-07 00:00:00+00:00        0.000000             NaN          NaN   \n",
       "...                                   ...             ...          ...   \n",
       "2020-11-01 00:00:00+00:00      781.215161    1.073147e+07     0.015387   \n",
       "2020-11-02 00:00:00+00:00      593.750000    8.072367e+06     0.011694   \n",
       "2020-11-03 00:00:00+00:00      874.999995    1.224730e+07     0.017233   \n",
       "2020-11-04 00:00:00+00:00      993.749962    1.404084e+07     0.019571   \n",
       "2020-11-05 00:00:00+00:00      918.749995    1.433844e+07     0.018093   \n",
       "\n",
       "                                 S2F  \n",
       "date                                  \n",
       "2009-01-03 00:00:00+00:00        NaN  \n",
       "2009-01-04 00:00:00+00:00        NaN  \n",
       "2009-01-05 00:00:00+00:00        NaN  \n",
       "2009-01-06 00:00:00+00:00        NaN  \n",
       "2009-01-07 00:00:00+00:00        NaN  \n",
       "...                              ...  \n",
       "2020-11-01 00:00:00+00:00  64.989910  \n",
       "2020-11-02 00:00:00+00:00  85.511966  \n",
       "2020-11-03 00:00:00+00:00  58.028717  \n",
       "2020-11-04 00:00:00+00:00  51.097209  \n",
       "2020-11-05 00:00:00+00:00  55.271148  \n",
       "\n",
       "[4325 rows x 49 columns]"
      ]
     },
     "execution_count": 466,
     "metadata": {},
     "output_type": "execute_result"
    }
   ],
   "source": [
    "btc"
   ]
  },
  {
   "cell_type": "code",
   "execution_count": 467,
   "metadata": {},
   "outputs": [
    {
     "name": "stdout",
     "output_type": "stream",
     "text": [
      "<class 'pandas.core.frame.DataFrame'>\n",
      "DatetimeIndex: 4325 entries, 2009-01-03 00:00:00+00:00 to 2020-11-05 00:00:00+00:00\n",
      "Data columns (total 49 columns):\n",
      " #   Column              Non-Null Count  Dtype  \n",
      "---  ------              --------------  -----  \n",
      " 0   AdrActCnt           4325 non-null   float64\n",
      " 1   BlkCnt              4325 non-null   float64\n",
      " 2   BlkSizeByte         4325 non-null   float64\n",
      " 3   BlkSizeMeanByte     4319 non-null   float64\n",
      " 4   CapMVRVCur          3764 non-null   float64\n",
      " 5   CapMrktCurUSD       3764 non-null   float64\n",
      " 6   CapRealUSD          4325 non-null   float64\n",
      " 7   DiffMean            4319 non-null   float64\n",
      " 8   FeeMeanNtv          4067 non-null   float64\n",
      " 9   FeeMeanUSD          3764 non-null   float64\n",
      " 10  FeeMedNtv           4067 non-null   float64\n",
      " 11  FeeMedUSD           3764 non-null   float64\n",
      " 12  FeeTotNtv           4325 non-null   float64\n",
      " 13  FeeTotUSD           3764 non-null   float64\n",
      " 14  HashRate            4319 non-null   float64\n",
      " 15  IssContNtv          4319 non-null   float64\n",
      " 16  IssContPctAnn       4319 non-null   float64\n",
      " 17  IssContUSD          3764 non-null   float64\n",
      " 18  IssTotNtv           4319 non-null   float64\n",
      " 19  IssTotUSD           3764 non-null   float64\n",
      " 20  NVTAdj              4065 non-null   float64\n",
      " 21  NVTAdj90            3675 non-null   float64\n",
      " 22  PriceBTC            4325 non-null   float64\n",
      " 23  PriceUSD            3764 non-null   float64\n",
      " 24  ROI1yr              3399 non-null   float64\n",
      " 25  ROI30d              3734 non-null   float64\n",
      " 26  SplyCur             4325 non-null   float64\n",
      " 27  SplyExpFut10yrCMBI  4319 non-null   float64\n",
      " 28  SplyFF              4325 non-null   float64\n",
      " 29  TxCnt               4325 non-null   float64\n",
      " 30  TxTfrCnt            4325 non-null   float64\n",
      " 31  TxTfrValAdjNtv      4325 non-null   float64\n",
      " 32  TxTfrValAdjUSD      3764 non-null   float64\n",
      " 33  TxTfrValMeanNtv     4067 non-null   float64\n",
      " 34  TxTfrValMeanUSD     3764 non-null   float64\n",
      " 35  TxTfrValMedNtv      4067 non-null   float64\n",
      " 36  TxTfrValMedUSD      3764 non-null   float64\n",
      " 37  TxTfrValNtv         4325 non-null   float64\n",
      " 38  TxTfrValUSD         3764 non-null   float64\n",
      " 39  VtyDayRet180d       3584 non-null   float64\n",
      " 40  VtyDayRet30d        3734 non-null   float64\n",
      " 41  VtyDayRet60d        3704 non-null   float64\n",
      " 42  blk                 4325 non-null   float64\n",
      " 43  PriceRealUSD        4319 non-null   float64\n",
      " 44  btc_blk_est         4325 non-null   float64\n",
      " 45  DailyIssuedNtv      4325 non-null   float64\n",
      " 46  DailyIssuedUSD      3764 non-null   float64\n",
      " 47  inf_pct_ann         4319 non-null   float64\n",
      " 48  S2F                 4319 non-null   float64\n",
      "dtypes: float64(49)\n",
      "memory usage: 1.6 MB\n"
     ]
    }
   ],
   "source": [
    "btc.info()"
   ]
  },
  {
   "cell_type": "code",
   "execution_count": 468,
   "metadata": {},
   "outputs": [
    {
     "data": {
      "text/html": [
       "<div>\n",
       "<style scoped>\n",
       "    .dataframe tbody tr th:only-of-type {\n",
       "        vertical-align: middle;\n",
       "    }\n",
       "\n",
       "    .dataframe tbody tr th {\n",
       "        vertical-align: top;\n",
       "    }\n",
       "\n",
       "    .dataframe thead th {\n",
       "        text-align: right;\n",
       "    }\n",
       "</style>\n",
       "<table border=\"1\" class=\"dataframe\">\n",
       "  <thead>\n",
       "    <tr style=\"text-align: right;\">\n",
       "      <th></th>\n",
       "      <th>count</th>\n",
       "      <th>mean</th>\n",
       "      <th>std</th>\n",
       "      <th>min</th>\n",
       "      <th>25%</th>\n",
       "      <th>50%</th>\n",
       "      <th>75%</th>\n",
       "      <th>max</th>\n",
       "    </tr>\n",
       "  </thead>\n",
       "  <tbody>\n",
       "    <tr>\n",
       "      <th>AdrActCnt</th>\n",
       "      <td>4325.0</td>\n",
       "      <td>3.375373e+05</td>\n",
       "      <td>3.304756e+05</td>\n",
       "      <td>0.000000e+00</td>\n",
       "      <td>1.649900e+04</td>\n",
       "      <td>2.211620e+05</td>\n",
       "      <td>6.365650e+05</td>\n",
       "      <td>1.290363e+06</td>\n",
       "    </tr>\n",
       "    <tr>\n",
       "      <th>BlkCnt</th>\n",
       "      <td>4325.0</td>\n",
       "      <td>1.515845e+02</td>\n",
       "      <td>3.541973e+01</td>\n",
       "      <td>0.000000e+00</td>\n",
       "      <td>1.380000e+02</td>\n",
       "      <td>1.520000e+02</td>\n",
       "      <td>1.660000e+02</td>\n",
       "      <td>6.920000e+02</td>\n",
       "    </tr>\n",
       "    <tr>\n",
       "      <th>BlkSizeByte</th>\n",
       "      <td>4325.0</td>\n",
       "      <td>7.133998e+07</td>\n",
       "      <td>6.576339e+07</td>\n",
       "      <td>0.000000e+00</td>\n",
       "      <td>3.230017e+06</td>\n",
       "      <td>4.869817e+07</td>\n",
       "      <td>1.344669e+08</td>\n",
       "      <td>2.565337e+08</td>\n",
       "    </tr>\n",
       "    <tr>\n",
       "      <th>BlkSizeMeanByte</th>\n",
       "      <td>4319.0</td>\n",
       "      <td>4.783265e+05</td>\n",
       "      <td>4.457388e+05</td>\n",
       "      <td>2.150000e+02</td>\n",
       "      <td>2.175124e+04</td>\n",
       "      <td>3.296005e+05</td>\n",
       "      <td>9.231607e+05</td>\n",
       "      <td>1.427240e+06</td>\n",
       "    </tr>\n",
       "    <tr>\n",
       "      <th>CapMVRVCur</th>\n",
       "      <td>3764.0</td>\n",
       "      <td>2.031521e+00</td>\n",
       "      <td>3.025572e+00</td>\n",
       "      <td>3.868285e-01</td>\n",
       "      <td>1.239557e+00</td>\n",
       "      <td>1.665712e+00</td>\n",
       "      <td>2.210643e+00</td>\n",
       "      <td>1.460383e+02</td>\n",
       "    </tr>\n",
       "    <tr>\n",
       "      <th>CapMrktCurUSD</th>\n",
       "      <td>3764.0</td>\n",
       "      <td>4.819950e+10</td>\n",
       "      <td>6.959284e+10</td>\n",
       "      <td>1.776705e+05</td>\n",
       "      <td>2.681948e+08</td>\n",
       "      <td>6.772236e+09</td>\n",
       "      <td>9.612270e+10</td>\n",
       "      <td>3.288988e+11</td>\n",
       "    </tr>\n",
       "    <tr>\n",
       "      <th>CapRealUSD</th>\n",
       "      <td>4325.0</td>\n",
       "      <td>2.583409e+10</td>\n",
       "      <td>3.983097e+10</td>\n",
       "      <td>0.000000e+00</td>\n",
       "      <td>4.296078e+07</td>\n",
       "      <td>4.160805e+09</td>\n",
       "      <td>4.335302e+10</td>\n",
       "      <td>1.253583e+11</td>\n",
       "    </tr>\n",
       "    <tr>\n",
       "      <th>DiffMean</th>\n",
       "      <td>4319.0</td>\n",
       "      <td>2.443962e+12</td>\n",
       "      <td>4.822141e+12</td>\n",
       "      <td>1.000000e+00</td>\n",
       "      <td>1.508590e+06</td>\n",
       "      <td>4.000747e+10</td>\n",
       "      <td>1.417073e+12</td>\n",
       "      <td>1.999734e+13</td>\n",
       "    </tr>\n",
       "    <tr>\n",
       "      <th>FeeMeanNtv</th>\n",
       "      <td>4067.0</td>\n",
       "      <td>9.258536e-04</td>\n",
       "      <td>7.786785e-03</td>\n",
       "      <td>0.000000e+00</td>\n",
       "      <td>1.380411e-04</td>\n",
       "      <td>2.312954e-04</td>\n",
       "      <td>6.835220e-04</td>\n",
       "      <td>2.200000e-01</td>\n",
       "    </tr>\n",
       "    <tr>\n",
       "      <th>FeeMeanUSD</th>\n",
       "      <td>3764.0</td>\n",
       "      <td>1.106191e+00</td>\n",
       "      <td>3.728241e+00</td>\n",
       "      <td>0.000000e+00</td>\n",
       "      <td>3.148392e-02</td>\n",
       "      <td>1.098321e-01</td>\n",
       "      <td>7.353199e-01</td>\n",
       "      <td>5.630812e+01</td>\n",
       "    </tr>\n",
       "    <tr>\n",
       "      <th>FeeMedNtv</th>\n",
       "      <td>4067.0</td>\n",
       "      <td>4.176940e-04</td>\n",
       "      <td>5.877742e-03</td>\n",
       "      <td>0.000000e+00</td>\n",
       "      <td>1.512000e-05</td>\n",
       "      <td>1.000000e-04</td>\n",
       "      <td>2.260000e-04</td>\n",
       "      <td>2.200000e-01</td>\n",
       "    </tr>\n",
       "    <tr>\n",
       "      <th>FeeMedUSD</th>\n",
       "      <td>3764.0</td>\n",
       "      <td>5.949297e-01</td>\n",
       "      <td>2.178923e+00</td>\n",
       "      <td>0.000000e+00</td>\n",
       "      <td>1.244761e-02</td>\n",
       "      <td>5.823460e-02</td>\n",
       "      <td>2.545197e-01</td>\n",
       "      <td>3.369854e+01</td>\n",
       "    </tr>\n",
       "    <tr>\n",
       "      <th>FeeTotNtv</th>\n",
       "      <td>4325.0</td>\n",
       "      <td>5.258475e+01</td>\n",
       "      <td>1.003789e+02</td>\n",
       "      <td>0.000000e+00</td>\n",
       "      <td>7.637517e+00</td>\n",
       "      <td>2.211378e+01</td>\n",
       "      <td>4.785535e+01</td>\n",
       "      <td>1.495749e+03</td>\n",
       "    </tr>\n",
       "    <tr>\n",
       "      <th>FeeTotUSD</th>\n",
       "      <td>3764.0</td>\n",
       "      <td>3.274796e+05</td>\n",
       "      <td>1.225337e+06</td>\n",
       "      <td>0.000000e+00</td>\n",
       "      <td>1.324571e+03</td>\n",
       "      <td>1.077345e+04</td>\n",
       "      <td>1.982460e+05</td>\n",
       "      <td>2.139776e+07</td>\n",
       "    </tr>\n",
       "    <tr>\n",
       "      <th>HashRate</th>\n",
       "      <td>4319.0</td>\n",
       "      <td>1.778136e+07</td>\n",
       "      <td>3.494574e+07</td>\n",
       "      <td>1.988411e-07</td>\n",
       "      <td>1.095322e+01</td>\n",
       "      <td>2.853572e+05</td>\n",
       "      <td>1.111267e+07</td>\n",
       "      <td>1.622631e+08</td>\n",
       "    </tr>\n",
       "    <tr>\n",
       "      <th>IssContNtv</th>\n",
       "      <td>4319.0</td>\n",
       "      <td>4.291497e+03</td>\n",
       "      <td>2.844170e+03</td>\n",
       "      <td>2.000000e+02</td>\n",
       "      <td>1.925000e+03</td>\n",
       "      <td>3.750000e+03</td>\n",
       "      <td>6.050000e+03</td>\n",
       "      <td>3.460000e+04</td>\n",
       "    </tr>\n",
       "    <tr>\n",
       "      <th>IssContPctAnn</th>\n",
       "      <td>4319.0</td>\n",
       "      <td>8.176839e+01</td>\n",
       "      <td>8.499546e+02</td>\n",
       "      <td>1.169460e+00</td>\n",
       "      <td>4.196097e+00</td>\n",
       "      <td>1.025263e+01</td>\n",
       "      <td>3.288494e+01</td>\n",
       "      <td>3.650000e+04</td>\n",
       "    </tr>\n",
       "    <tr>\n",
       "      <th>IssContUSD</th>\n",
       "      <td>3764.0</td>\n",
       "      <td>4.983236e+06</td>\n",
       "      <td>6.680777e+06</td>\n",
       "      <td>3.070000e+02</td>\n",
       "      <td>1.547388e+05</td>\n",
       "      <td>1.579032e+06</td>\n",
       "      <td>8.650617e+06</td>\n",
       "      <td>4.451671e+07</td>\n",
       "    </tr>\n",
       "    <tr>\n",
       "      <th>IssTotNtv</th>\n",
       "      <td>4319.0</td>\n",
       "      <td>4.291497e+03</td>\n",
       "      <td>2.844170e+03</td>\n",
       "      <td>2.000000e+02</td>\n",
       "      <td>1.925000e+03</td>\n",
       "      <td>3.750000e+03</td>\n",
       "      <td>6.050000e+03</td>\n",
       "      <td>3.460000e+04</td>\n",
       "    </tr>\n",
       "    <tr>\n",
       "      <th>IssTotUSD</th>\n",
       "      <td>3764.0</td>\n",
       "      <td>4.983236e+06</td>\n",
       "      <td>6.680777e+06</td>\n",
       "      <td>3.070000e+02</td>\n",
       "      <td>1.547388e+05</td>\n",
       "      <td>1.579032e+06</td>\n",
       "      <td>8.650617e+06</td>\n",
       "      <td>4.451671e+07</td>\n",
       "    </tr>\n",
       "    <tr>\n",
       "      <th>NVTAdj</th>\n",
       "      <td>4065.0</td>\n",
       "      <td>3.601712e+04</td>\n",
       "      <td>1.578812e+06</td>\n",
       "      <td>3.717399e+00</td>\n",
       "      <td>3.783171e+01</td>\n",
       "      <td>5.697626e+01</td>\n",
       "      <td>8.317501e+01</td>\n",
       "      <td>8.145000e+07</td>\n",
       "    </tr>\n",
       "    <tr>\n",
       "      <th>NVTAdj90</th>\n",
       "      <td>3675.0</td>\n",
       "      <td>6.168516e+01</td>\n",
       "      <td>3.271206e+01</td>\n",
       "      <td>1.181012e+01</td>\n",
       "      <td>4.096965e+01</td>\n",
       "      <td>5.261477e+01</td>\n",
       "      <td>7.540054e+01</td>\n",
       "      <td>3.559313e+02</td>\n",
       "    </tr>\n",
       "    <tr>\n",
       "      <th>PriceBTC</th>\n",
       "      <td>4325.0</td>\n",
       "      <td>1.000000e+00</td>\n",
       "      <td>0.000000e+00</td>\n",
       "      <td>1.000000e+00</td>\n",
       "      <td>1.000000e+00</td>\n",
       "      <td>1.000000e+00</td>\n",
       "      <td>1.000000e+00</td>\n",
       "      <td>1.000000e+00</td>\n",
       "    </tr>\n",
       "    <tr>\n",
       "      <th>PriceUSD</th>\n",
       "      <td>3764.0</td>\n",
       "      <td>2.769059e+03</td>\n",
       "      <td>3.911069e+03</td>\n",
       "      <td>5.054062e-02</td>\n",
       "      <td>2.692846e+01</td>\n",
       "      <td>4.737356e+02</td>\n",
       "      <td>5.596332e+03</td>\n",
       "      <td>1.964051e+04</td>\n",
       "    </tr>\n",
       "    <tr>\n",
       "      <th>ROI1yr</th>\n",
       "      <td>3399.0</td>\n",
       "      <td>8.100683e+02</td>\n",
       "      <td>2.387847e+03</td>\n",
       "      <td>-8.373049e+01</td>\n",
       "      <td>1.691264e+01</td>\n",
       "      <td>1.425582e+02</td>\n",
       "      <td>5.752428e+02</td>\n",
       "      <td>2.766663e+04</td>\n",
       "    </tr>\n",
       "    <tr>\n",
       "      <th>ROI30d</th>\n",
       "      <td>3734.0</td>\n",
       "      <td>1.958229e+01</td>\n",
       "      <td>6.615674e+01</td>\n",
       "      <td>-6.166827e+01</td>\n",
       "      <td>-9.921387e+00</td>\n",
       "      <td>4.250861e+00</td>\n",
       "      <td>2.626157e+01</td>\n",
       "      <td>7.748640e+02</td>\n",
       "    </tr>\n",
       "    <tr>\n",
       "      <th>SplyCur</th>\n",
       "      <td>4325.0</td>\n",
       "      <td>1.193835e+07</td>\n",
       "      <td>5.609378e+06</td>\n",
       "      <td>0.000000e+00</td>\n",
       "      <td>7.918650e+06</td>\n",
       "      <td>1.357649e+07</td>\n",
       "      <td>1.669152e+07</td>\n",
       "      <td>1.853483e+07</td>\n",
       "    </tr>\n",
       "    <tr>\n",
       "      <th>SplyExpFut10yrCMBI</th>\n",
       "      <td>4319.0</td>\n",
       "      <td>1.939404e+07</td>\n",
       "      <td>1.008760e+06</td>\n",
       "      <td>1.707025e+07</td>\n",
       "      <td>1.871654e+07</td>\n",
       "      <td>1.974716e+07</td>\n",
       "      <td>2.025369e+07</td>\n",
       "      <td>2.054876e+07</td>\n",
       "    </tr>\n",
       "    <tr>\n",
       "      <th>SplyFF</th>\n",
       "      <td>4325.0</td>\n",
       "      <td>1.044392e+07</td>\n",
       "      <td>4.385231e+06</td>\n",
       "      <td>0.000000e+00</td>\n",
       "      <td>7.916038e+06</td>\n",
       "      <td>1.254748e+07</td>\n",
       "      <td>1.385809e+07</td>\n",
       "      <td>1.443432e+07</td>\n",
       "    </tr>\n",
       "    <tr>\n",
       "      <th>TxCnt</th>\n",
       "      <td>4325.0</td>\n",
       "      <td>1.349195e+05</td>\n",
       "      <td>1.256784e+05</td>\n",
       "      <td>0.000000e+00</td>\n",
       "      <td>6.992000e+03</td>\n",
       "      <td>8.482200e+04</td>\n",
       "      <td>2.505620e+05</td>\n",
       "      <td>4.981420e+05</td>\n",
       "    </tr>\n",
       "    <tr>\n",
       "      <th>TxTfrCnt</th>\n",
       "      <td>4325.0</td>\n",
       "      <td>3.243585e+05</td>\n",
       "      <td>3.000159e+05</td>\n",
       "      <td>0.000000e+00</td>\n",
       "      <td>1.532900e+04</td>\n",
       "      <td>2.296950e+05</td>\n",
       "      <td>5.896760e+05</td>\n",
       "      <td>2.041653e+06</td>\n",
       "    </tr>\n",
       "    <tr>\n",
       "      <th>TxTfrValAdjNtv</th>\n",
       "      <td>4325.0</td>\n",
       "      <td>2.477213e+05</td>\n",
       "      <td>1.775594e+05</td>\n",
       "      <td>0.000000e+00</td>\n",
       "      <td>1.288964e+05</td>\n",
       "      <td>2.339185e+05</td>\n",
       "      <td>3.506874e+05</td>\n",
       "      <td>2.090898e+06</td>\n",
       "    </tr>\n",
       "    <tr>\n",
       "      <th>TxTfrValAdjUSD</th>\n",
       "      <td>3764.0</td>\n",
       "      <td>7.906679e+08</td>\n",
       "      <td>1.233024e+09</td>\n",
       "      <td>4.647065e+02</td>\n",
       "      <td>1.171119e+07</td>\n",
       "      <td>1.445004e+08</td>\n",
       "      <td>1.376373e+09</td>\n",
       "      <td>1.082210e+10</td>\n",
       "    </tr>\n",
       "    <tr>\n",
       "      <th>TxTfrValMeanNtv</th>\n",
       "      <td>4067.0</td>\n",
       "      <td>9.613150e+01</td>\n",
       "      <td>6.815883e+02</td>\n",
       "      <td>1.000000e-02</td>\n",
       "      <td>1.539189e+00</td>\n",
       "      <td>3.535569e+00</td>\n",
       "      <td>2.196458e+01</td>\n",
       "      <td>2.217500e+04</td>\n",
       "    </tr>\n",
       "    <tr>\n",
       "      <th>TxTfrValMeanUSD</th>\n",
       "      <td>3764.0</td>\n",
       "      <td>3.979762e+03</td>\n",
       "      <td>5.438663e+03</td>\n",
       "      <td>7.628727e-01</td>\n",
       "      <td>5.179722e+02</td>\n",
       "      <td>1.691172e+03</td>\n",
       "      <td>6.168471e+03</td>\n",
       "      <td>5.112477e+04</td>\n",
       "    </tr>\n",
       "    <tr>\n",
       "      <th>TxTfrValMedNtv</th>\n",
       "      <td>4067.0</td>\n",
       "      <td>5.539559e+01</td>\n",
       "      <td>6.441774e+02</td>\n",
       "      <td>1.000000e-08</td>\n",
       "      <td>1.189021e-02</td>\n",
       "      <td>2.880000e-02</td>\n",
       "      <td>1.000035e-01</td>\n",
       "      <td>2.217500e+04</td>\n",
       "    </tr>\n",
       "    <tr>\n",
       "      <th>TxTfrValMedUSD</th>\n",
       "      <td>3764.0</td>\n",
       "      <td>3.724868e+01</td>\n",
       "      <td>5.170984e+01</td>\n",
       "      <td>8.203471e-08</td>\n",
       "      <td>3.359788e+00</td>\n",
       "      <td>1.463222e+01</td>\n",
       "      <td>6.552005e+01</td>\n",
       "      <td>5.348536e+02</td>\n",
       "    </tr>\n",
       "    <tr>\n",
       "      <th>TxTfrValNtv</th>\n",
       "      <td>4325.0</td>\n",
       "      <td>1.053061e+06</td>\n",
       "      <td>1.925930e+06</td>\n",
       "      <td>0.000000e+00</td>\n",
       "      <td>3.571108e+05</td>\n",
       "      <td>6.790777e+05</td>\n",
       "      <td>1.285482e+06</td>\n",
       "      <td>6.725965e+07</td>\n",
       "    </tr>\n",
       "    <tr>\n",
       "      <th>TxTfrValUSD</th>\n",
       "      <td>3764.0</td>\n",
       "      <td>2.471018e+09</td>\n",
       "      <td>4.353982e+09</td>\n",
       "      <td>5.874592e+02</td>\n",
       "      <td>4.747265e+07</td>\n",
       "      <td>5.420928e+08</td>\n",
       "      <td>3.808130e+09</td>\n",
       "      <td>4.877049e+10</td>\n",
       "    </tr>\n",
       "    <tr>\n",
       "      <th>VtyDayRet180d</th>\n",
       "      <td>3584.0</td>\n",
       "      <td>4.898150e-02</td>\n",
       "      <td>2.125805e-02</td>\n",
       "      <td>2.029803e-02</td>\n",
       "      <td>3.267610e-02</td>\n",
       "      <td>4.261429e-02</td>\n",
       "      <td>5.912168e-02</td>\n",
       "      <td>1.095320e-01</td>\n",
       "    </tr>\n",
       "    <tr>\n",
       "      <th>VtyDayRet30d</th>\n",
       "      <td>3734.0</td>\n",
       "      <td>4.396802e-02</td>\n",
       "      <td>2.978035e-02</td>\n",
       "      <td>7.480537e-03</td>\n",
       "      <td>2.464976e-02</td>\n",
       "      <td>3.544359e-02</td>\n",
       "      <td>5.332050e-02</td>\n",
       "      <td>1.917221e-01</td>\n",
       "    </tr>\n",
       "    <tr>\n",
       "      <th>VtyDayRet60d</th>\n",
       "      <td>3704.0</td>\n",
       "      <td>4.601789e-02</td>\n",
       "      <td>2.685506e-02</td>\n",
       "      <td>1.040645e-02</td>\n",
       "      <td>2.771957e-02</td>\n",
       "      <td>3.848659e-02</td>\n",
       "      <td>5.781510e-02</td>\n",
       "      <td>1.432690e-01</td>\n",
       "    </tr>\n",
       "    <tr>\n",
       "      <th>blk</th>\n",
       "      <td>4325.0</td>\n",
       "      <td>3.262625e+05</td>\n",
       "      <td>1.947962e+05</td>\n",
       "      <td>0.000000e+00</td>\n",
       "      <td>1.583750e+05</td>\n",
       "      <td>3.330650e+05</td>\n",
       "      <td>4.953340e+05</td>\n",
       "      <td>6.556030e+05</td>\n",
       "    </tr>\n",
       "    <tr>\n",
       "      <th>PriceRealUSD</th>\n",
       "      <td>4319.0</td>\n",
       "      <td>1.482019e+03</td>\n",
       "      <td>2.227893e+03</td>\n",
       "      <td>0.000000e+00</td>\n",
       "      <td>4.993606e+00</td>\n",
       "      <td>3.014366e+02</td>\n",
       "      <td>2.639679e+03</td>\n",
       "      <td>6.763387e+03</td>\n",
       "    </tr>\n",
       "    <tr>\n",
       "      <th>btc_blk_est</th>\n",
       "      <td>4325.0</td>\n",
       "      <td>3.104647e+05</td>\n",
       "      <td>1.798064e+05</td>\n",
       "      <td>0.000000e+00</td>\n",
       "      <td>1.548000e+05</td>\n",
       "      <td>3.104640e+05</td>\n",
       "      <td>4.661280e+05</td>\n",
       "      <td>6.217920e+05</td>\n",
       "    </tr>\n",
       "    <tr>\n",
       "      <th>DailyIssuedNtv</th>\n",
       "      <td>4325.0</td>\n",
       "      <td>4.285511e+03</td>\n",
       "      <td>2.846617e+03</td>\n",
       "      <td>0.000000e+00</td>\n",
       "      <td>1.925000e+03</td>\n",
       "      <td>3.750000e+03</td>\n",
       "      <td>6.050000e+03</td>\n",
       "      <td>3.460000e+04</td>\n",
       "    </tr>\n",
       "    <tr>\n",
       "      <th>DailyIssuedUSD</th>\n",
       "      <td>3764.0</td>\n",
       "      <td>4.983154e+06</td>\n",
       "      <td>6.680619e+06</td>\n",
       "      <td>3.070000e+02</td>\n",
       "      <td>1.547388e+05</td>\n",
       "      <td>1.579028e+06</td>\n",
       "      <td>8.650615e+06</td>\n",
       "      <td>4.451671e+07</td>\n",
       "    </tr>\n",
       "    <tr>\n",
       "      <th>inf_pct_ann</th>\n",
       "      <td>4319.0</td>\n",
       "      <td>8.176818e-01</td>\n",
       "      <td>8.499546e+00</td>\n",
       "      <td>1.169427e-02</td>\n",
       "      <td>4.196096e-02</td>\n",
       "      <td>1.025263e-01</td>\n",
       "      <td>3.288494e-01</td>\n",
       "      <td>3.650000e+02</td>\n",
       "    </tr>\n",
       "    <tr>\n",
       "      <th>S2F</th>\n",
       "      <td>4319.0</td>\n",
       "      <td>1.401951e+01</td>\n",
       "      <td>1.344559e+01</td>\n",
       "      <td>2.739726e-03</td>\n",
       "      <td>3.040906e+00</td>\n",
       "      <td>9.753596e+00</td>\n",
       "      <td>2.383167e+01</td>\n",
       "      <td>8.551197e+01</td>\n",
       "    </tr>\n",
       "  </tbody>\n",
       "</table>\n",
       "</div>"
      ],
      "text/plain": [
       "                     count          mean           std           min  \\\n",
       "AdrActCnt           4325.0  3.375373e+05  3.304756e+05  0.000000e+00   \n",
       "BlkCnt              4325.0  1.515845e+02  3.541973e+01  0.000000e+00   \n",
       "BlkSizeByte         4325.0  7.133998e+07  6.576339e+07  0.000000e+00   \n",
       "BlkSizeMeanByte     4319.0  4.783265e+05  4.457388e+05  2.150000e+02   \n",
       "CapMVRVCur          3764.0  2.031521e+00  3.025572e+00  3.868285e-01   \n",
       "CapMrktCurUSD       3764.0  4.819950e+10  6.959284e+10  1.776705e+05   \n",
       "CapRealUSD          4325.0  2.583409e+10  3.983097e+10  0.000000e+00   \n",
       "DiffMean            4319.0  2.443962e+12  4.822141e+12  1.000000e+00   \n",
       "FeeMeanNtv          4067.0  9.258536e-04  7.786785e-03  0.000000e+00   \n",
       "FeeMeanUSD          3764.0  1.106191e+00  3.728241e+00  0.000000e+00   \n",
       "FeeMedNtv           4067.0  4.176940e-04  5.877742e-03  0.000000e+00   \n",
       "FeeMedUSD           3764.0  5.949297e-01  2.178923e+00  0.000000e+00   \n",
       "FeeTotNtv           4325.0  5.258475e+01  1.003789e+02  0.000000e+00   \n",
       "FeeTotUSD           3764.0  3.274796e+05  1.225337e+06  0.000000e+00   \n",
       "HashRate            4319.0  1.778136e+07  3.494574e+07  1.988411e-07   \n",
       "IssContNtv          4319.0  4.291497e+03  2.844170e+03  2.000000e+02   \n",
       "IssContPctAnn       4319.0  8.176839e+01  8.499546e+02  1.169460e+00   \n",
       "IssContUSD          3764.0  4.983236e+06  6.680777e+06  3.070000e+02   \n",
       "IssTotNtv           4319.0  4.291497e+03  2.844170e+03  2.000000e+02   \n",
       "IssTotUSD           3764.0  4.983236e+06  6.680777e+06  3.070000e+02   \n",
       "NVTAdj              4065.0  3.601712e+04  1.578812e+06  3.717399e+00   \n",
       "NVTAdj90            3675.0  6.168516e+01  3.271206e+01  1.181012e+01   \n",
       "PriceBTC            4325.0  1.000000e+00  0.000000e+00  1.000000e+00   \n",
       "PriceUSD            3764.0  2.769059e+03  3.911069e+03  5.054062e-02   \n",
       "ROI1yr              3399.0  8.100683e+02  2.387847e+03 -8.373049e+01   \n",
       "ROI30d              3734.0  1.958229e+01  6.615674e+01 -6.166827e+01   \n",
       "SplyCur             4325.0  1.193835e+07  5.609378e+06  0.000000e+00   \n",
       "SplyExpFut10yrCMBI  4319.0  1.939404e+07  1.008760e+06  1.707025e+07   \n",
       "SplyFF              4325.0  1.044392e+07  4.385231e+06  0.000000e+00   \n",
       "TxCnt               4325.0  1.349195e+05  1.256784e+05  0.000000e+00   \n",
       "TxTfrCnt            4325.0  3.243585e+05  3.000159e+05  0.000000e+00   \n",
       "TxTfrValAdjNtv      4325.0  2.477213e+05  1.775594e+05  0.000000e+00   \n",
       "TxTfrValAdjUSD      3764.0  7.906679e+08  1.233024e+09  4.647065e+02   \n",
       "TxTfrValMeanNtv     4067.0  9.613150e+01  6.815883e+02  1.000000e-02   \n",
       "TxTfrValMeanUSD     3764.0  3.979762e+03  5.438663e+03  7.628727e-01   \n",
       "TxTfrValMedNtv      4067.0  5.539559e+01  6.441774e+02  1.000000e-08   \n",
       "TxTfrValMedUSD      3764.0  3.724868e+01  5.170984e+01  8.203471e-08   \n",
       "TxTfrValNtv         4325.0  1.053061e+06  1.925930e+06  0.000000e+00   \n",
       "TxTfrValUSD         3764.0  2.471018e+09  4.353982e+09  5.874592e+02   \n",
       "VtyDayRet180d       3584.0  4.898150e-02  2.125805e-02  2.029803e-02   \n",
       "VtyDayRet30d        3734.0  4.396802e-02  2.978035e-02  7.480537e-03   \n",
       "VtyDayRet60d        3704.0  4.601789e-02  2.685506e-02  1.040645e-02   \n",
       "blk                 4325.0  3.262625e+05  1.947962e+05  0.000000e+00   \n",
       "PriceRealUSD        4319.0  1.482019e+03  2.227893e+03  0.000000e+00   \n",
       "btc_blk_est         4325.0  3.104647e+05  1.798064e+05  0.000000e+00   \n",
       "DailyIssuedNtv      4325.0  4.285511e+03  2.846617e+03  0.000000e+00   \n",
       "DailyIssuedUSD      3764.0  4.983154e+06  6.680619e+06  3.070000e+02   \n",
       "inf_pct_ann         4319.0  8.176818e-01  8.499546e+00  1.169427e-02   \n",
       "S2F                 4319.0  1.401951e+01  1.344559e+01  2.739726e-03   \n",
       "\n",
       "                             25%           50%           75%           max  \n",
       "AdrActCnt           1.649900e+04  2.211620e+05  6.365650e+05  1.290363e+06  \n",
       "BlkCnt              1.380000e+02  1.520000e+02  1.660000e+02  6.920000e+02  \n",
       "BlkSizeByte         3.230017e+06  4.869817e+07  1.344669e+08  2.565337e+08  \n",
       "BlkSizeMeanByte     2.175124e+04  3.296005e+05  9.231607e+05  1.427240e+06  \n",
       "CapMVRVCur          1.239557e+00  1.665712e+00  2.210643e+00  1.460383e+02  \n",
       "CapMrktCurUSD       2.681948e+08  6.772236e+09  9.612270e+10  3.288988e+11  \n",
       "CapRealUSD          4.296078e+07  4.160805e+09  4.335302e+10  1.253583e+11  \n",
       "DiffMean            1.508590e+06  4.000747e+10  1.417073e+12  1.999734e+13  \n",
       "FeeMeanNtv          1.380411e-04  2.312954e-04  6.835220e-04  2.200000e-01  \n",
       "FeeMeanUSD          3.148392e-02  1.098321e-01  7.353199e-01  5.630812e+01  \n",
       "FeeMedNtv           1.512000e-05  1.000000e-04  2.260000e-04  2.200000e-01  \n",
       "FeeMedUSD           1.244761e-02  5.823460e-02  2.545197e-01  3.369854e+01  \n",
       "FeeTotNtv           7.637517e+00  2.211378e+01  4.785535e+01  1.495749e+03  \n",
       "FeeTotUSD           1.324571e+03  1.077345e+04  1.982460e+05  2.139776e+07  \n",
       "HashRate            1.095322e+01  2.853572e+05  1.111267e+07  1.622631e+08  \n",
       "IssContNtv          1.925000e+03  3.750000e+03  6.050000e+03  3.460000e+04  \n",
       "IssContPctAnn       4.196097e+00  1.025263e+01  3.288494e+01  3.650000e+04  \n",
       "IssContUSD          1.547388e+05  1.579032e+06  8.650617e+06  4.451671e+07  \n",
       "IssTotNtv           1.925000e+03  3.750000e+03  6.050000e+03  3.460000e+04  \n",
       "IssTotUSD           1.547388e+05  1.579032e+06  8.650617e+06  4.451671e+07  \n",
       "NVTAdj              3.783171e+01  5.697626e+01  8.317501e+01  8.145000e+07  \n",
       "NVTAdj90            4.096965e+01  5.261477e+01  7.540054e+01  3.559313e+02  \n",
       "PriceBTC            1.000000e+00  1.000000e+00  1.000000e+00  1.000000e+00  \n",
       "PriceUSD            2.692846e+01  4.737356e+02  5.596332e+03  1.964051e+04  \n",
       "ROI1yr              1.691264e+01  1.425582e+02  5.752428e+02  2.766663e+04  \n",
       "ROI30d             -9.921387e+00  4.250861e+00  2.626157e+01  7.748640e+02  \n",
       "SplyCur             7.918650e+06  1.357649e+07  1.669152e+07  1.853483e+07  \n",
       "SplyExpFut10yrCMBI  1.871654e+07  1.974716e+07  2.025369e+07  2.054876e+07  \n",
       "SplyFF              7.916038e+06  1.254748e+07  1.385809e+07  1.443432e+07  \n",
       "TxCnt               6.992000e+03  8.482200e+04  2.505620e+05  4.981420e+05  \n",
       "TxTfrCnt            1.532900e+04  2.296950e+05  5.896760e+05  2.041653e+06  \n",
       "TxTfrValAdjNtv      1.288964e+05  2.339185e+05  3.506874e+05  2.090898e+06  \n",
       "TxTfrValAdjUSD      1.171119e+07  1.445004e+08  1.376373e+09  1.082210e+10  \n",
       "TxTfrValMeanNtv     1.539189e+00  3.535569e+00  2.196458e+01  2.217500e+04  \n",
       "TxTfrValMeanUSD     5.179722e+02  1.691172e+03  6.168471e+03  5.112477e+04  \n",
       "TxTfrValMedNtv      1.189021e-02  2.880000e-02  1.000035e-01  2.217500e+04  \n",
       "TxTfrValMedUSD      3.359788e+00  1.463222e+01  6.552005e+01  5.348536e+02  \n",
       "TxTfrValNtv         3.571108e+05  6.790777e+05  1.285482e+06  6.725965e+07  \n",
       "TxTfrValUSD         4.747265e+07  5.420928e+08  3.808130e+09  4.877049e+10  \n",
       "VtyDayRet180d       3.267610e-02  4.261429e-02  5.912168e-02  1.095320e-01  \n",
       "VtyDayRet30d        2.464976e-02  3.544359e-02  5.332050e-02  1.917221e-01  \n",
       "VtyDayRet60d        2.771957e-02  3.848659e-02  5.781510e-02  1.432690e-01  \n",
       "blk                 1.583750e+05  3.330650e+05  4.953340e+05  6.556030e+05  \n",
       "PriceRealUSD        4.993606e+00  3.014366e+02  2.639679e+03  6.763387e+03  \n",
       "btc_blk_est         1.548000e+05  3.104640e+05  4.661280e+05  6.217920e+05  \n",
       "DailyIssuedNtv      1.925000e+03  3.750000e+03  6.050000e+03  3.460000e+04  \n",
       "DailyIssuedUSD      1.547388e+05  1.579028e+06  8.650615e+06  4.451671e+07  \n",
       "inf_pct_ann         4.196096e-02  1.025263e-01  3.288494e-01  3.650000e+02  \n",
       "S2F                 3.040906e+00  9.753596e+00  2.383167e+01  8.551197e+01  "
      ]
     },
     "execution_count": 468,
     "metadata": {},
     "output_type": "execute_result"
    }
   ],
   "source": [
    "btc.describe().T"
   ]
  },
  {
   "cell_type": "code",
   "execution_count": 487,
   "metadata": {},
   "outputs": [
    {
     "data": {
      "text/html": [
       "<div>\n",
       "<style scoped>\n",
       "    .dataframe tbody tr th:only-of-type {\n",
       "        vertical-align: middle;\n",
       "    }\n",
       "\n",
       "    .dataframe tbody tr th {\n",
       "        vertical-align: top;\n",
       "    }\n",
       "\n",
       "    .dataframe thead th {\n",
       "        text-align: right;\n",
       "    }\n",
       "</style>\n",
       "<table border=\"1\" class=\"dataframe\">\n",
       "  <thead>\n",
       "    <tr style=\"text-align: right;\">\n",
       "      <th></th>\n",
       "      <th>PriceUSD</th>\n",
       "    </tr>\n",
       "  </thead>\n",
       "  <tbody>\n",
       "    <tr>\n",
       "      <th>PriceUSD</th>\n",
       "      <td>1.000000</td>\n",
       "    </tr>\n",
       "    <tr>\n",
       "      <th>CapMrktCurUSD</th>\n",
       "      <td>0.998874</td>\n",
       "    </tr>\n",
       "    <tr>\n",
       "      <th>IssTotUSD</th>\n",
       "      <td>0.940451</td>\n",
       "    </tr>\n",
       "    <tr>\n",
       "      <th>IssContUSD</th>\n",
       "      <td>0.940451</td>\n",
       "    </tr>\n",
       "    <tr>\n",
       "      <th>DailyIssuedUSD</th>\n",
       "      <td>0.940445</td>\n",
       "    </tr>\n",
       "    <tr>\n",
       "      <th>PriceRealUSD</th>\n",
       "      <td>0.932047</td>\n",
       "    </tr>\n",
       "    <tr>\n",
       "      <th>CapRealUSD</th>\n",
       "      <td>0.929715</td>\n",
       "    </tr>\n",
       "    <tr>\n",
       "      <th>TxTfrValAdjUSD</th>\n",
       "      <td>0.896378</td>\n",
       "    </tr>\n",
       "    <tr>\n",
       "      <th>TxTfrValMedUSD</th>\n",
       "      <td>0.868140</td>\n",
       "    </tr>\n",
       "    <tr>\n",
       "      <th>AdrActCnt</th>\n",
       "      <td>0.814037</td>\n",
       "    </tr>\n",
       "    <tr>\n",
       "      <th>HashRate</th>\n",
       "      <td>0.804751</td>\n",
       "    </tr>\n",
       "    <tr>\n",
       "      <th>DiffMean</th>\n",
       "      <td>0.801353</td>\n",
       "    </tr>\n",
       "    <tr>\n",
       "      <th>btc_blk_est</th>\n",
       "      <td>0.793177</td>\n",
       "    </tr>\n",
       "    <tr>\n",
       "      <th>blk</th>\n",
       "      <td>0.786566</td>\n",
       "    </tr>\n",
       "    <tr>\n",
       "      <th>S2F</th>\n",
       "      <td>0.779760</td>\n",
       "    </tr>\n",
       "    <tr>\n",
       "      <th>TxTfrValMeanUSD</th>\n",
       "      <td>0.769182</td>\n",
       "    </tr>\n",
       "    <tr>\n",
       "      <th>TxTfrValUSD</th>\n",
       "      <td>0.768988</td>\n",
       "    </tr>\n",
       "    <tr>\n",
       "      <th>BlkSizeByte</th>\n",
       "      <td>0.759566</td>\n",
       "    </tr>\n",
       "    <tr>\n",
       "      <th>BlkSizeMeanByte</th>\n",
       "      <td>0.757682</td>\n",
       "    </tr>\n",
       "    <tr>\n",
       "      <th>TxTfrCnt</th>\n",
       "      <td>0.740442</td>\n",
       "    </tr>\n",
       "    <tr>\n",
       "      <th>TxCnt</th>\n",
       "      <td>0.733491</td>\n",
       "    </tr>\n",
       "    <tr>\n",
       "      <th>SplyExpFut10yrCMBI</th>\n",
       "      <td>0.680192</td>\n",
       "    </tr>\n",
       "    <tr>\n",
       "      <th>SplyCur</th>\n",
       "      <td>0.667860</td>\n",
       "    </tr>\n",
       "    <tr>\n",
       "      <th>SplyFF</th>\n",
       "      <td>0.554250</td>\n",
       "    </tr>\n",
       "    <tr>\n",
       "      <th>FeeMeanUSD</th>\n",
       "      <td>0.545446</td>\n",
       "    </tr>\n",
       "    <tr>\n",
       "      <th>FeeTotUSD</th>\n",
       "      <td>0.533118</td>\n",
       "    </tr>\n",
       "    <tr>\n",
       "      <th>FeeMedUSD</th>\n",
       "      <td>0.514625</td>\n",
       "    </tr>\n",
       "    <tr>\n",
       "      <th>FeeTotNtv</th>\n",
       "      <td>0.388749</td>\n",
       "    </tr>\n",
       "    <tr>\n",
       "      <th>NVTAdj90</th>\n",
       "      <td>0.186478</td>\n",
       "    </tr>\n",
       "    <tr>\n",
       "      <th>NVTAdj</th>\n",
       "      <td>0.168696</td>\n",
       "    </tr>\n",
       "    <tr>\n",
       "      <th>FeeMedNtv</th>\n",
       "      <td>0.066550</td>\n",
       "    </tr>\n",
       "    <tr>\n",
       "      <th>TxTfrValAdjNtv</th>\n",
       "      <td>0.007053</td>\n",
       "    </tr>\n",
       "    <tr>\n",
       "      <th>CapMVRVCur</th>\n",
       "      <td>-0.046938</td>\n",
       "    </tr>\n",
       "    <tr>\n",
       "      <th>ROI30d</th>\n",
       "      <td>-0.082838</td>\n",
       "    </tr>\n",
       "    <tr>\n",
       "      <th>FeeMeanNtv</th>\n",
       "      <td>-0.086890</td>\n",
       "    </tr>\n",
       "    <tr>\n",
       "      <th>VtyDayRet30d</th>\n",
       "      <td>-0.101400</td>\n",
       "    </tr>\n",
       "    <tr>\n",
       "      <th>TxTfrValMedNtv</th>\n",
       "      <td>-0.104070</td>\n",
       "    </tr>\n",
       "    <tr>\n",
       "      <th>TxTfrValNtv</th>\n",
       "      <td>-0.110857</td>\n",
       "    </tr>\n",
       "    <tr>\n",
       "      <th>VtyDayRet60d</th>\n",
       "      <td>-0.130219</td>\n",
       "    </tr>\n",
       "    <tr>\n",
       "      <th>ROI1yr</th>\n",
       "      <td>-0.152551</td>\n",
       "    </tr>\n",
       "    <tr>\n",
       "      <th>BlkCnt</th>\n",
       "      <td>-0.181178</td>\n",
       "    </tr>\n",
       "    <tr>\n",
       "      <th>VtyDayRet180d</th>\n",
       "      <td>-0.181417</td>\n",
       "    </tr>\n",
       "    <tr>\n",
       "      <th>TxTfrValMeanNtv</th>\n",
       "      <td>-0.208228</td>\n",
       "    </tr>\n",
       "    <tr>\n",
       "      <th>IssContPctAnn</th>\n",
       "      <td>-0.433126</td>\n",
       "    </tr>\n",
       "    <tr>\n",
       "      <th>inf_pct_ann</th>\n",
       "      <td>-0.433139</td>\n",
       "    </tr>\n",
       "    <tr>\n",
       "      <th>IssTotNtv</th>\n",
       "      <td>-0.596485</td>\n",
       "    </tr>\n",
       "    <tr>\n",
       "      <th>IssContNtv</th>\n",
       "      <td>-0.596485</td>\n",
       "    </tr>\n",
       "    <tr>\n",
       "      <th>DailyIssuedNtv</th>\n",
       "      <td>-0.596503</td>\n",
       "    </tr>\n",
       "    <tr>\n",
       "      <th>PriceBTC</th>\n",
       "      <td>NaN</td>\n",
       "    </tr>\n",
       "  </tbody>\n",
       "</table>\n",
       "</div>"
      ],
      "text/plain": [
       "                    PriceUSD\n",
       "PriceUSD            1.000000\n",
       "CapMrktCurUSD       0.998874\n",
       "IssTotUSD           0.940451\n",
       "IssContUSD          0.940451\n",
       "DailyIssuedUSD      0.940445\n",
       "PriceRealUSD        0.932047\n",
       "CapRealUSD          0.929715\n",
       "TxTfrValAdjUSD      0.896378\n",
       "TxTfrValMedUSD      0.868140\n",
       "AdrActCnt           0.814037\n",
       "HashRate            0.804751\n",
       "DiffMean            0.801353\n",
       "btc_blk_est         0.793177\n",
       "blk                 0.786566\n",
       "S2F                 0.779760\n",
       "TxTfrValMeanUSD     0.769182\n",
       "TxTfrValUSD         0.768988\n",
       "BlkSizeByte         0.759566\n",
       "BlkSizeMeanByte     0.757682\n",
       "TxTfrCnt            0.740442\n",
       "TxCnt               0.733491\n",
       "SplyExpFut10yrCMBI  0.680192\n",
       "SplyCur             0.667860\n",
       "SplyFF              0.554250\n",
       "FeeMeanUSD          0.545446\n",
       "FeeTotUSD           0.533118\n",
       "FeeMedUSD           0.514625\n",
       "FeeTotNtv           0.388749\n",
       "NVTAdj90            0.186478\n",
       "NVTAdj              0.168696\n",
       "FeeMedNtv           0.066550\n",
       "TxTfrValAdjNtv      0.007053\n",
       "CapMVRVCur         -0.046938\n",
       "ROI30d             -0.082838\n",
       "FeeMeanNtv         -0.086890\n",
       "VtyDayRet30d       -0.101400\n",
       "TxTfrValMedNtv     -0.104070\n",
       "TxTfrValNtv        -0.110857\n",
       "VtyDayRet60d       -0.130219\n",
       "ROI1yr             -0.152551\n",
       "BlkCnt             -0.181178\n",
       "VtyDayRet180d      -0.181417\n",
       "TxTfrValMeanNtv    -0.208228\n",
       "IssContPctAnn      -0.433126\n",
       "inf_pct_ann        -0.433139\n",
       "IssTotNtv          -0.596485\n",
       "IssContNtv         -0.596485\n",
       "DailyIssuedNtv     -0.596503\n",
       "PriceBTC                 NaN"
      ]
     },
     "execution_count": 487,
     "metadata": {},
     "output_type": "execute_result"
    }
   ],
   "source": [
    "btc.corr()[['PriceUSD']].sort_values('PriceUSD', ascending = False)"
   ]
  },
  {
   "cell_type": "code",
   "execution_count": 488,
   "metadata": {},
   "outputs": [
    {
     "data": {
      "text/html": [
       "<div>\n",
       "<style scoped>\n",
       "    .dataframe tbody tr th:only-of-type {\n",
       "        vertical-align: middle;\n",
       "    }\n",
       "\n",
       "    .dataframe tbody tr th {\n",
       "        vertical-align: top;\n",
       "    }\n",
       "\n",
       "    .dataframe thead th {\n",
       "        text-align: right;\n",
       "    }\n",
       "</style>\n",
       "<table border=\"1\" class=\"dataframe\">\n",
       "  <thead>\n",
       "    <tr style=\"text-align: right;\">\n",
       "      <th></th>\n",
       "      <th>PriceUSD</th>\n",
       "    </tr>\n",
       "  </thead>\n",
       "  <tbody>\n",
       "    <tr>\n",
       "      <th>PriceUSD</th>\n",
       "      <td>1.000000</td>\n",
       "    </tr>\n",
       "    <tr>\n",
       "      <th>CapMrktCurUSD</th>\n",
       "      <td>0.998874</td>\n",
       "    </tr>\n",
       "    <tr>\n",
       "      <th>IssTotUSD</th>\n",
       "      <td>0.940451</td>\n",
       "    </tr>\n",
       "    <tr>\n",
       "      <th>IssContUSD</th>\n",
       "      <td>0.940451</td>\n",
       "    </tr>\n",
       "    <tr>\n",
       "      <th>DailyIssuedUSD</th>\n",
       "      <td>0.940445</td>\n",
       "    </tr>\n",
       "    <tr>\n",
       "      <th>PriceRealUSD</th>\n",
       "      <td>0.932047</td>\n",
       "    </tr>\n",
       "    <tr>\n",
       "      <th>CapRealUSD</th>\n",
       "      <td>0.929715</td>\n",
       "    </tr>\n",
       "    <tr>\n",
       "      <th>TxTfrValAdjUSD</th>\n",
       "      <td>0.896378</td>\n",
       "    </tr>\n",
       "    <tr>\n",
       "      <th>TxTfrValMedUSD</th>\n",
       "      <td>0.868140</td>\n",
       "    </tr>\n",
       "    <tr>\n",
       "      <th>AdrActCnt</th>\n",
       "      <td>0.814037</td>\n",
       "    </tr>\n",
       "    <tr>\n",
       "      <th>HashRate</th>\n",
       "      <td>0.804751</td>\n",
       "    </tr>\n",
       "    <tr>\n",
       "      <th>DiffMean</th>\n",
       "      <td>0.801353</td>\n",
       "    </tr>\n",
       "    <tr>\n",
       "      <th>btc_blk_est</th>\n",
       "      <td>0.793177</td>\n",
       "    </tr>\n",
       "    <tr>\n",
       "      <th>blk</th>\n",
       "      <td>0.786566</td>\n",
       "    </tr>\n",
       "    <tr>\n",
       "      <th>S2F</th>\n",
       "      <td>0.779760</td>\n",
       "    </tr>\n",
       "    <tr>\n",
       "      <th>TxTfrValMeanUSD</th>\n",
       "      <td>0.769182</td>\n",
       "    </tr>\n",
       "    <tr>\n",
       "      <th>TxTfrValUSD</th>\n",
       "      <td>0.768988</td>\n",
       "    </tr>\n",
       "    <tr>\n",
       "      <th>BlkSizeByte</th>\n",
       "      <td>0.759566</td>\n",
       "    </tr>\n",
       "    <tr>\n",
       "      <th>BlkSizeMeanByte</th>\n",
       "      <td>0.757682</td>\n",
       "    </tr>\n",
       "    <tr>\n",
       "      <th>TxTfrCnt</th>\n",
       "      <td>0.740442</td>\n",
       "    </tr>\n",
       "  </tbody>\n",
       "</table>\n",
       "</div>"
      ],
      "text/plain": [
       "                 PriceUSD\n",
       "PriceUSD         1.000000\n",
       "CapMrktCurUSD    0.998874\n",
       "IssTotUSD        0.940451\n",
       "IssContUSD       0.940451\n",
       "DailyIssuedUSD   0.940445\n",
       "PriceRealUSD     0.932047\n",
       "CapRealUSD       0.929715\n",
       "TxTfrValAdjUSD   0.896378\n",
       "TxTfrValMedUSD   0.868140\n",
       "AdrActCnt        0.814037\n",
       "HashRate         0.804751\n",
       "DiffMean         0.801353\n",
       "btc_blk_est      0.793177\n",
       "blk              0.786566\n",
       "S2F              0.779760\n",
       "TxTfrValMeanUSD  0.769182\n",
       "TxTfrValUSD      0.768988\n",
       "BlkSizeByte      0.759566\n",
       "BlkSizeMeanByte  0.757682\n",
       "TxTfrCnt         0.740442"
      ]
     },
     "execution_count": 488,
     "metadata": {},
     "output_type": "execute_result"
    }
   ],
   "source": [
    "abs(btc.corr()[['PriceUSD']]).sort_values('PriceUSD', ascending = False).head(20)"
   ]
  },
  {
   "cell_type": "code",
   "execution_count": 502,
   "metadata": {},
   "outputs": [
    {
     "data": {
      "image/png": "[encoded data removed]",
      "text/plain": [
       "<Figure size 1080x720 with 2 Axes>"
      ]
     },
     "metadata": {
      "needs_background": "light"
     },
     "output_type": "display_data"
    }
   ],
   "source": [
    "plt.figure(figsize = (15, 10))\n",
    "sns.heatmap(abs(btc.corr()[['PriceUSD']]).sort_values('PriceUSD', ascending = False))\n",
    "plt.tight_layout()"
   ]
  },
  {
   "cell_type": "code",
   "execution_count": 493,
   "metadata": {},
   "outputs": [],
   "source": [
    "\"\"\"Time Metrics\"\"\"\n",
    "# date               -datetime64[ns, UTC]\n",
    "# blk                -ADDED METRIC - block height (Sum of BlkCnt)\n",
    "# btc_blk_est        -ADDED METRIC - Estimated Bitcoin block-height (Assumes 10min block-times)\n",
    "time_cols = ['date', 'blk', 'btc_blk_est']"
   ]
  },
  {
   "cell_type": "code",
   "execution_count": 424,
   "metadata": {},
   "outputs": [],
   "source": [
    "\"\"\"Blockchain Metrics\"\"\"\n",
    "# AdrActCnt          -Active Addresses\n",
    "# BlkCnt             -Block Count (Daily)\n",
    "# BlkSizeByte        -Block Size (Bytes)\n",
    "# BlkSizeMeanByte    -Block Size Average (Bytes)\n",
    "# SplyCur            -Current Coin Supply\n",
    "# inf_pct_ann        -ADDED METRIC - Inflation % annual\n",
    "# S2F                -ADDED METRIC - Stock-to-Flow Ratio\n",
    "blockchain_cols = ['AdrActCnt', 'BlkCnt', 'BlkSizeByte', 'BlkSizeMeanByte', 'SplyCur', 'inf_pct_ann', 'S2F']"
   ]
  },
  {
   "cell_type": "code",
   "execution_count": 430,
   "metadata": {},
   "outputs": [],
   "source": [
    "\"\"\"Network Valuation Models\"\"\"\n",
    "# CapMrktCurUSD      - Market Cap\n",
    "# CapRealUSD         - Realised Cap\n",
    "market_val_cols = ['CapMrktCurUSD', 'CapRealUSD', 'Market Cap', 'Realised Cap']"
   ]
  },
  {
   "cell_type": "code",
   "execution_count": 431,
   "metadata": {},
   "outputs": [],
   "source": [
    "\"\"\"Network Pricing Models\"\"\"\n",
    "# PriceUSD           - Coin Price USD\n",
    "# PriceRealised      - Realised Price USD\n",
    "market_pricing_cols = ['PriceUSD', 'PriceRealised', 'Coin Price USD', 'Realised Price USD']"
   ]
  },
  {
   "cell_type": "code",
   "execution_count": 432,
   "metadata": {},
   "outputs": [],
   "source": [
    "\"\"\"Network Valuation Oscillators\"\"\"\n",
    "# CapMVRVCur         - MVRV Ratio - Market Cap / Realised Cap\n",
    "# NVTAdj             - NVT Ratio (Adjusted Volume)\n",
    "# NVTAdj90           - NVT Ratio 90D MA (Adjusted Volume)\n",
    "market_oscil_cols = ['CapMVRVCur', 'NVTAdj', 'NVTAdj90', 'MVRV Ratio - Market Cap / Realised Cap', \n",
    "                      'NVT Ratio (Adjusted Volume)', 'NVT Ratio 90D MA (Adjusted Volume)']"
   ]
  },
  {
   "cell_type": "code",
   "execution_count": 428,
   "metadata": {},
   "outputs": [],
   "source": [
    "\"\"\"Transaction Flow Metrics\"\"\"\n",
    "# TxCnt              -Count of Transactions\n",
    "# TxTfrCnt           -Count of Transaction Transfers (Cleaned Data)\n",
    "# TxTfrValAdjNtv     -Native Units Transferred (Adjusted Data)\n",
    "# TxTfrValAdjUSD     -USD Value Transferred (Adjusted Data)\n",
    "# TxTfrValNtv        -Total Native Units Value Transferred\n",
    "# TxTfrValUSD        -Total USD Value Transferred\n",
    "# TxTfrValMeanNtv    -Mean Native Units Transferred\n",
    "# TxTfrValMeanUSD    -Mean USD Value Transferred\n",
    "# TxTfrValMedNtv     -Median Native Units Transferred\n",
    "# TxTfrValMedUSD     -Median USD Value Transferred\n",
    "transaction_cols = ['TxCnt', 'TxTfrCnt', 'TxTfrValAdjNtv', 'TxTfrValAdjUSD', 'TxTfrValNtv', 'TxTfrValUSD', \n",
    "                    'TxTfrValMeanNtv', 'TxTfrValMeanUSD' ,'TxTfrValMedNtv', 'TxTfrValMedUSD']"
   ]
  },
  {
   "cell_type": "code",
   "execution_count": 429,
   "metadata": {},
   "outputs": [],
   "source": [
    "\"\"\"Miner Metrics\"\"\"\n",
    "# DiffMean          - Average Difficulty\n",
    "# FeeMeanNtv        - Mean Fee paid in Native Coins (Daily)\n",
    "# FeeMeanUSD        - Mean Fee paid in USD (Daily)\n",
    "# FeeMedNtv         - Median Fee paid in Native Coins (Daily)\n",
    "# FeeMedUSD         - Mean Fee paid in USD (Daily)\n",
    "# FeeTotNtv         - Total Fees paid in Native Coins (Daily)\n",
    "# FeeTotUSD         - Total Fees paid in Native Coins (Daily)\n",
    "# IssContNtv        - Daily Issued Native Coins to Miners/Validators\n",
    "# IssContPctAnn     - Annualised Inflation Rate\n",
    "# IssContUSD        - Daily Issued USD to Miners/Validators\n",
    "# IssTotNtvDaily    - Issued Native Coins to Miners/Validators (Daily)\n",
    "# IssTotUSD         - Daily Issued USD Value to Miners/Validators (Daily)\n",
    "# DailyIssuedNtv    - ADDED METRIC - Daily Issued Native Units (Sply_n - Sply_n-1)\n",
    "# DailyIssuedUSD    - ADDED METRIC - Daily Issued USD Value (Sply_n - Sply_n-1)\n",
    "miner_cols = ['DiffMean', 'FeeMeanNtv', 'FeeMeanUSD', 'FeeMedNtv', 'FeeMedUSD', 'FeeTotNtv', 'FeeTotUSD',\n",
    "              'IssContNtv', 'IssContPctAnn', 'IssContUSD', 'IssTotNtvDaily', 'IssTotUSD' ,'DailyIssuedNtv', \n",
    "              'DailyIssuedUSD']"
   ]
  },
  {
   "cell_type": "code",
   "execution_count": 433,
   "metadata": {},
   "outputs": [],
   "source": [
    "\"\"\"Market Specific Metrics\"\"\"\n",
    "# ROI1yr\n",
    "# ROI30d\n",
    "# VtyDayRet180d\n",
    "# VtyDayRet30d\n",
    "# VtyDayRet60d\n",
    "market_metrics_cols = ['ROI1yr', 'ROI30d', 'VtyDayRet180d', 'VtyDayRet30d', 'VtyDayRet60d']"
   ]
  },
  {
   "cell_type": "code",
   "execution_count": null,
   "metadata": {},
   "outputs": [],
   "source": []
  }
 ],
 "metadata": {
  "kernelspec": {
   "display_name": "Python 3",
   "language": "python",
   "name": "python3"
  },
  "language_info": {
   "codemirror_mode": {
    "name": "ipython",
    "version": 3
   },
   "file_extension": ".py",
   "mimetype": "text/x-python",
   "name": "python",
   "nbconvert_exporter": "python",
   "pygments_lexer": "ipython3",
   "version": "3.7.9"
  }
 },
 "nbformat": 4,
 "nbformat_minor": 4
}

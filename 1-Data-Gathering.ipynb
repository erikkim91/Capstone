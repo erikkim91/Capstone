{
 "cells": [
  {
   "cell_type": "markdown",
   "metadata": {},
   "source": [
    "Pull data from API here"
   ]
  },
  {
   "cell_type": "markdown",
   "metadata": {},
   "source": [
    "PS: \n",
    "- given Bitcoin on-chain data, what are the factors that most affect price movement?\n",
    "- What categories can be identified in the Bitcoin addresses/wallets? (use clustering technique)\n",
    "\n",
    "\n",
    "Dataset: APIs from Glassnode, Coinmetrics.io, Nansen.AI, Dune Analytics, Graph Protocol, Skew.\n",
    "\n",
    "Analysis piece based on the Bitcoin cryptocurrency on-chain data to analyze important factors and their relationship with asset price. Especial focus on wallets and addresses to classify them into meaningful clusters (i.e. exchanges, miners, whales, institutional investors, retail investors etc) and \"old-coin\" movement (coins that were purchased a while ago and have not moved, another subset of early 'OG' investors in the space).\n",
    "This could be replicated to other digital assets, such as Ethereum and its universe of tokens, depending on structure of data pull from APIs cited above.\n",
    "\n",
    "\n",
    "\n",
    "Lots of EDA and subsequent predictive modeling with regression models + classification modeling for clustering.\n",
    "\n",
    "A linear regression, a decision tree ensemble, and a neural net should cover your bases in terms of prediction models (LIightGBM is probably the best decision tree ensemble). Your PS is all about factors, so you'll want to pay attention to feature importances.\n",
    "\n"
   ]
  },
  {
   "cell_type": "markdown",
   "metadata": {},
   "source": [
    "## Imports\n",
    "---"
   ]
  },
  {
   "cell_type": "code",
   "execution_count": 1,
   "metadata": {},
   "outputs": [],
   "source": [
    "# Standards\n",
    "import pandas as pd\n",
    "import numpy as np\n",
    "\n",
    "# API\n",
    "import requests\n",
    "import requests as req\n",
    "import json\n",
    "import iso8601\n",
    "\n",
    "# Automating\n",
    "import glob\n",
    "import time\n",
    "from time import sleep\n",
    "import datetime as dt\n",
    "import warnings\n",
    "import sys\n",
    "\n",
    "# Plotting\n",
    "import matplotlib.pyplot as plt\n",
    "import seaborn as sns\n",
    "\n",
    "plt.style.use('ggplot')\n",
    "plt.rcParams['figure.figsize'] = (16, 9)\n",
    "\n",
    "\n",
    "from IPython import get_ipython\n",
    "ipython = get_ipython()\n",
    "\n",
    "if 'ipython' in globals():\n",
    "    ipython.magic('matplotlib inline')\n",
    "\n",
    "# Supress warnings\n",
    "import warnings\n",
    "warnings.filterwarnings('ignore')"
   ]
  },
  {
   "cell_type": "code",
   "execution_count": 2,
   "metadata": {},
   "outputs": [],
   "source": [
    "# pip install coinmetrics-api-client"
   ]
  },
  {
   "cell_type": "markdown",
   "metadata": {},
   "source": [
    "## API Scraping\n",
    "---"
   ]
  },
  {
   "cell_type": "markdown",
   "metadata": {},
   "source": [
    "## Glassnode API"
   ]
  },
  {
   "cell_type": "markdown",
   "metadata": {},
   "source": [
    "### Custom Class to Get Data"
   ]
  },
  {
   "cell_type": "markdown",
   "metadata": {},
   "source": [
    "Created a custom class that pulls Glassnode data via its API."
   ]
  },
  {
   "cell_type": "code",
   "execution_count": 3,
   "metadata": {},
   "outputs": [
    {
     "data": {
      "text/plain": [
       "'\\nList of possible parameters for API:\\na\\nREQUIRED\\nstring\\nasset symbol (only: BTC, LTC, BCH)\\n\\ne\\nOPTIONAL\\nstring\\nexchange (see /endpoints)\\n\\ns\\nOPTIONAL\\ninteger\\nsince, unix timestamp\\n\\nu\\nOPTIONAL\\ninteger\\nuntil, unix timestamp\\n\\ni\\nOPTIONAL\\nstring\\nfrequency interval, 1h, 10m or 24h (default)\\n\\nf\\nOPTIONAL\\nstring\\nformat, csv or json (default)\\n\\nc\\nOPTIONAL\\nstring\\ncurrency, usd or native (default)\\n'"
      ]
     },
     "execution_count": 3,
     "metadata": {},
     "output_type": "execute_result"
    }
   ],
   "source": [
    "# https://github.com/glassnode/glassnode-api-python-client\n",
    "\n",
    "class GlassnodeClient:\n",
    "\n",
    "  def __init__(self):\n",
    "    self._api_key = ''\n",
    "\n",
    "  @property\n",
    "  def api_key(self):\n",
    "    return self._api_key\n",
    "\n",
    "  def set_api_key(self, value):\n",
    "    self._api_key = value\n",
    "\n",
    "  def get(self, url, a='BTC', i='24h', c='native', e=None, s=None, u=None):\n",
    "    p = dict()\n",
    "    p['a'] = a\n",
    "    p['i'] = i\n",
    "    p['c'] = c\n",
    "\n",
    "    if s is not None:\n",
    "      try:\n",
    "        p['s'] = iso8601.parse_date(s).strftime('%s')\n",
    "      except ParseError:\n",
    "        p['s'] = s\n",
    "\n",
    "    if u is not None:\n",
    "      try:\n",
    "        p['u'] = iso8601.parse_date(u).strftime('%s')\n",
    "      except ParseError:\n",
    "        p['u'] = s\n",
    "\n",
    "    p['api_key'] = self.api_key\n",
    "\n",
    "    r = requests.get(url, params=p)\n",
    "\n",
    "    try:\n",
    "       r.raise_for_status()\n",
    "    except Exception as e:\n",
    "        print(e)\n",
    "        print(r.text)\n",
    "\n",
    "    try:\n",
    "        df = pd.DataFrame(json.loads(r.text))\n",
    "        df = df.set_index('t')\n",
    "        df.index = pd.to_datetime(df.index, unit='s')\n",
    "        df = df.sort_index()\n",
    "        col_name = '_'.join(url.split('/')[-2:])\n",
    "        df.rename(columns = {'v': col_name}, inplace = True)\n",
    "#         s = df.v\n",
    "#         s.name = '_'.join(url.split('/')[-2:])\n",
    "        return df\n",
    "    except Exception as e:\n",
    "        print(e)\n",
    "        \n",
    "\"\"\"\n",
    "List of possible parameters for API:\n",
    "a\n",
    "REQUIRED\n",
    "string\n",
    "asset symbol (only: BTC, LTC, BCH)\n",
    "\n",
    "e\n",
    "OPTIONAL\n",
    "string\n",
    "exchange (see /endpoints)\n",
    "\n",
    "s\n",
    "OPTIONAL\n",
    "integer\n",
    "since, unix timestamp\n",
    "\n",
    "u\n",
    "OPTIONAL\n",
    "integer\n",
    "until, unix timestamp\n",
    "\n",
    "i\n",
    "OPTIONAL\n",
    "string\n",
    "frequency interval, 1h, 10m or 24h (default)\n",
    "\n",
    "f\n",
    "OPTIONAL\n",
    "string\n",
    "format, csv or json (default)\n",
    "\n",
    "c\n",
    "OPTIONAL\n",
    "string\n",
    "currency, usd or native (default)\n",
    "\"\"\""
   ]
  },
  {
   "cell_type": "code",
   "execution_count": 4,
   "metadata": {},
   "outputs": [],
   "source": [
    "gn = GlassnodeClient()"
   ]
  },
  {
   "cell_type": "code",
   "execution_count": 5,
   "metadata": {},
   "outputs": [],
   "source": [
    "gn.set_api_key('2eea6100-6a2f-44cc-a965-455b897fe07b')"
   ]
  },
  {
   "cell_type": "code",
   "execution_count": 6,
   "metadata": {},
   "outputs": [
    {
     "data": {
      "text/plain": [
       "'2020-11-13'"
      ]
     },
     "execution_count": 6,
     "metadata": {},
     "output_type": "execute_result"
    }
   ],
   "source": [
    "today = dt.datetime.today().strftime(\"%Y-%m-%d\")\n",
    "today"
   ]
  },
  {
   "cell_type": "code",
   "execution_count": 7,
   "metadata": {},
   "outputs": [],
   "source": [
    "# ADDRESSES"
   ]
  },
  {
   "cell_type": "code",
   "execution_count": 8,
   "metadata": {},
   "outputs": [
    {
     "name": "stdout",
     "output_type": "stream",
     "text": [
      "(3969, 1)\n"
     ]
    },
    {
     "data": {
      "text/html": [
       "<div>\n",
       "<style scoped>\n",
       "    .dataframe tbody tr th:only-of-type {\n",
       "        vertical-align: middle;\n",
       "    }\n",
       "\n",
       "    .dataframe tbody tr th {\n",
       "        vertical-align: top;\n",
       "    }\n",
       "\n",
       "    .dataframe thead th {\n",
       "        text-align: right;\n",
       "    }\n",
       "</style>\n",
       "<table border=\"1\" class=\"dataframe\">\n",
       "  <thead>\n",
       "    <tr style=\"text-align: right;\">\n",
       "      <th></th>\n",
       "      <th>addresses_count</th>\n",
       "    </tr>\n",
       "    <tr>\n",
       "      <th>t</th>\n",
       "      <th></th>\n",
       "    </tr>\n",
       "  </thead>\n",
       "  <tbody>\n",
       "    <tr>\n",
       "      <th>2020-11-11</th>\n",
       "      <td>734130462</td>\n",
       "    </tr>\n",
       "    <tr>\n",
       "      <th>2020-11-12</th>\n",
       "      <td>734649966</td>\n",
       "    </tr>\n",
       "  </tbody>\n",
       "</table>\n",
       "</div>"
      ],
      "text/plain": [
       "            addresses_count\n",
       "t                          \n",
       "2020-11-11        734130462\n",
       "2020-11-12        734649966"
      ]
     },
     "execution_count": 8,
     "metadata": {},
     "output_type": "execute_result"
    }
   ],
   "source": [
    "total_addresses = gn.get('https://api.glassnode.com/v1/metrics/addresses/count',  a='btc', s='2010', u=today)\n",
    "total_addresses.to_csv('data/total_addresses.csv')\n",
    "print(total_addresses.shape)\n",
    "total_addresses.tail(2)"
   ]
  },
  {
   "cell_type": "code",
   "execution_count": 9,
   "metadata": {},
   "outputs": [
    {
     "name": "stdout",
     "output_type": "stream",
     "text": [
      "(3969, 1)\n"
     ]
    },
    {
     "data": {
      "text/html": [
       "<div>\n",
       "<style scoped>\n",
       "    .dataframe tbody tr th:only-of-type {\n",
       "        vertical-align: middle;\n",
       "    }\n",
       "\n",
       "    .dataframe tbody tr th {\n",
       "        vertical-align: top;\n",
       "    }\n",
       "\n",
       "    .dataframe thead th {\n",
       "        text-align: right;\n",
       "    }\n",
       "</style>\n",
       "<table border=\"1\" class=\"dataframe\">\n",
       "  <thead>\n",
       "    <tr style=\"text-align: right;\">\n",
       "      <th></th>\n",
       "      <th>addresses_active_count</th>\n",
       "    </tr>\n",
       "    <tr>\n",
       "      <th>t</th>\n",
       "      <th></th>\n",
       "    </tr>\n",
       "  </thead>\n",
       "  <tbody>\n",
       "    <tr>\n",
       "      <th>2010-01-01</th>\n",
       "      <td>4</td>\n",
       "    </tr>\n",
       "    <tr>\n",
       "      <th>2010-01-02</th>\n",
       "      <td>0</td>\n",
       "    </tr>\n",
       "  </tbody>\n",
       "</table>\n",
       "</div>"
      ],
      "text/plain": [
       "            addresses_active_count\n",
       "t                                 \n",
       "2010-01-01                       4\n",
       "2010-01-02                       0"
      ]
     },
     "execution_count": 9,
     "metadata": {},
     "output_type": "execute_result"
    }
   ],
   "source": [
    "active_addresses = gn.get('https://api.glassnode.com/v1/metrics/addresses/active_count',  a='btc', s='2010', u=today)\n",
    "active_addresses.to_csv('data/active_addresses.csv')\n",
    "print(active_addresses.shape)\n",
    "active_addresses.head(2)"
   ]
  },
  {
   "cell_type": "code",
   "execution_count": 10,
   "metadata": {},
   "outputs": [
    {
     "name": "stdout",
     "output_type": "stream",
     "text": [
      "(3969, 1)\n"
     ]
    },
    {
     "data": {
      "text/html": [
       "<div>\n",
       "<style scoped>\n",
       "    .dataframe tbody tr th:only-of-type {\n",
       "        vertical-align: middle;\n",
       "    }\n",
       "\n",
       "    .dataframe tbody tr th {\n",
       "        vertical-align: top;\n",
       "    }\n",
       "\n",
       "    .dataframe thead th {\n",
       "        text-align: right;\n",
       "    }\n",
       "</style>\n",
       "<table border=\"1\" class=\"dataframe\">\n",
       "  <thead>\n",
       "    <tr style=\"text-align: right;\">\n",
       "      <th></th>\n",
       "      <th>addresses_new_non_zero_count</th>\n",
       "    </tr>\n",
       "    <tr>\n",
       "      <th>t</th>\n",
       "      <th></th>\n",
       "    </tr>\n",
       "  </thead>\n",
       "  <tbody>\n",
       "    <tr>\n",
       "      <th>2010-01-01</th>\n",
       "      <td>134</td>\n",
       "    </tr>\n",
       "    <tr>\n",
       "      <th>2010-01-02</th>\n",
       "      <td>126</td>\n",
       "    </tr>\n",
       "  </tbody>\n",
       "</table>\n",
       "</div>"
      ],
      "text/plain": [
       "            addresses_new_non_zero_count\n",
       "t                                       \n",
       "2010-01-01                           134\n",
       "2010-01-02                           126"
      ]
     },
     "execution_count": 10,
     "metadata": {},
     "output_type": "execute_result"
    }
   ],
   "source": [
    "new_addresses = gn.get('https://api.glassnode.com/v1/metrics/addresses/new_non_zero_count',  a='btc', s='2010', u=today)\n",
    "new_addresses.to_csv('data/new_addresses.csv')\n",
    "print(new_addresses.shape)\n",
    "new_addresses.head(2)"
   ]
  },
  {
   "cell_type": "code",
   "execution_count": 11,
   "metadata": {},
   "outputs": [
    {
     "name": "stdout",
     "output_type": "stream",
     "text": [
      "(3969, 1)\n"
     ]
    },
    {
     "data": {
      "text/html": [
       "<div>\n",
       "<style scoped>\n",
       "    .dataframe tbody tr th:only-of-type {\n",
       "        vertical-align: middle;\n",
       "    }\n",
       "\n",
       "    .dataframe tbody tr th {\n",
       "        vertical-align: top;\n",
       "    }\n",
       "\n",
       "    .dataframe thead th {\n",
       "        text-align: right;\n",
       "    }\n",
       "</style>\n",
       "<table border=\"1\" class=\"dataframe\">\n",
       "  <thead>\n",
       "    <tr style=\"text-align: right;\">\n",
       "      <th></th>\n",
       "      <th>addresses_min_10k_count</th>\n",
       "    </tr>\n",
       "    <tr>\n",
       "      <th>t</th>\n",
       "      <th></th>\n",
       "    </tr>\n",
       "  </thead>\n",
       "  <tbody>\n",
       "    <tr>\n",
       "      <th>2020-11-11</th>\n",
       "      <td>111</td>\n",
       "    </tr>\n",
       "    <tr>\n",
       "      <th>2020-11-12</th>\n",
       "      <td>111</td>\n",
       "    </tr>\n",
       "  </tbody>\n",
       "</table>\n",
       "</div>"
      ],
      "text/plain": [
       "            addresses_min_10k_count\n",
       "t                                  \n",
       "2020-11-11                      111\n",
       "2020-11-12                      111"
      ]
     },
     "execution_count": 11,
     "metadata": {},
     "output_type": "execute_result"
    }
   ],
   "source": [
    "min_10k_addresses = gn.get('https://api.glassnode.com/v1/metrics/addresses/min_10k_count',  a='btc', s='2010', u=today)\n",
    "min_10k_addresses.to_csv('data/min_10k_addresses.csv')\n",
    "print(min_10k_addresses.shape)\n",
    "min_10k_addresses.tail(2)"
   ]
  },
  {
   "cell_type": "code",
   "execution_count": 12,
   "metadata": {},
   "outputs": [
    {
     "name": "stdout",
     "output_type": "stream",
     "text": [
      "(3969, 1)\n"
     ]
    },
    {
     "data": {
      "text/html": [
       "<div>\n",
       "<style scoped>\n",
       "    .dataframe tbody tr th:only-of-type {\n",
       "        vertical-align: middle;\n",
       "    }\n",
       "\n",
       "    .dataframe tbody tr th {\n",
       "        vertical-align: top;\n",
       "    }\n",
       "\n",
       "    .dataframe thead th {\n",
       "        text-align: right;\n",
       "    }\n",
       "</style>\n",
       "<table border=\"1\" class=\"dataframe\">\n",
       "  <thead>\n",
       "    <tr style=\"text-align: right;\">\n",
       "      <th></th>\n",
       "      <th>addresses_min_1k_count</th>\n",
       "    </tr>\n",
       "    <tr>\n",
       "      <th>t</th>\n",
       "      <th></th>\n",
       "    </tr>\n",
       "  </thead>\n",
       "  <tbody>\n",
       "    <tr>\n",
       "      <th>2020-11-11</th>\n",
       "      <td>2231</td>\n",
       "    </tr>\n",
       "    <tr>\n",
       "      <th>2020-11-12</th>\n",
       "      <td>2230</td>\n",
       "    </tr>\n",
       "  </tbody>\n",
       "</table>\n",
       "</div>"
      ],
      "text/plain": [
       "            addresses_min_1k_count\n",
       "t                                 \n",
       "2020-11-11                    2231\n",
       "2020-11-12                    2230"
      ]
     },
     "execution_count": 12,
     "metadata": {},
     "output_type": "execute_result"
    }
   ],
   "source": [
    "min_1k_addresses = gn.get('https://api.glassnode.com/v1/metrics/addresses/min_1k_count',  a='btc', s='2010', u=today)\n",
    "min_1k_addresses.to_csv('data/min_1k_addresses.csv')\n",
    "print(min_1k_addresses.shape)\n",
    "min_1k_addresses.tail(2)"
   ]
  },
  {
   "cell_type": "code",
   "execution_count": 13,
   "metadata": {},
   "outputs": [
    {
     "name": "stdout",
     "output_type": "stream",
     "text": [
      "(3969, 1)\n"
     ]
    },
    {
     "data": {
      "text/html": [
       "<div>\n",
       "<style scoped>\n",
       "    .dataframe tbody tr th:only-of-type {\n",
       "        vertical-align: middle;\n",
       "    }\n",
       "\n",
       "    .dataframe tbody tr th {\n",
       "        vertical-align: top;\n",
       "    }\n",
       "\n",
       "    .dataframe thead th {\n",
       "        text-align: right;\n",
       "    }\n",
       "</style>\n",
       "<table border=\"1\" class=\"dataframe\">\n",
       "  <thead>\n",
       "    <tr style=\"text-align: right;\">\n",
       "      <th></th>\n",
       "      <th>addresses_non_zero_count</th>\n",
       "    </tr>\n",
       "    <tr>\n",
       "      <th>t</th>\n",
       "      <th></th>\n",
       "    </tr>\n",
       "  </thead>\n",
       "  <tbody>\n",
       "    <tr>\n",
       "      <th>2020-11-11</th>\n",
       "      <td>32453384</td>\n",
       "    </tr>\n",
       "    <tr>\n",
       "      <th>2020-11-12</th>\n",
       "      <td>32460139</td>\n",
       "    </tr>\n",
       "  </tbody>\n",
       "</table>\n",
       "</div>"
      ],
      "text/plain": [
       "            addresses_non_zero_count\n",
       "t                                   \n",
       "2020-11-11                  32453384\n",
       "2020-11-12                  32460139"
      ]
     },
     "execution_count": 13,
     "metadata": {},
     "output_type": "execute_result"
    }
   ],
   "source": [
    "non_zero_addresses = gn.get('https://api.glassnode.com/v1/metrics/addresses/non_zero_count',  a='btc', s='2010', u=today)\n",
    "non_zero_addresses.to_csv('data/non_zero_addresses.csv')\n",
    "print(non_zero_addresses.shape)\n",
    "non_zero_addresses.tail(2)"
   ]
  },
  {
   "cell_type": "code",
   "execution_count": 14,
   "metadata": {},
   "outputs": [
    {
     "name": "stdout",
     "output_type": "stream",
     "text": [
      "(3405, 1)\n"
     ]
    },
    {
     "data": {
      "text/html": [
       "<div>\n",
       "<style scoped>\n",
       "    .dataframe tbody tr th:only-of-type {\n",
       "        vertical-align: middle;\n",
       "    }\n",
       "\n",
       "    .dataframe tbody tr th {\n",
       "        vertical-align: top;\n",
       "    }\n",
       "\n",
       "    .dataframe thead th {\n",
       "        text-align: right;\n",
       "    }\n",
       "</style>\n",
       "<table border=\"1\" class=\"dataframe\">\n",
       "  <thead>\n",
       "    <tr style=\"text-align: right;\">\n",
       "      <th></th>\n",
       "      <th>addresses_profit_relative</th>\n",
       "    </tr>\n",
       "    <tr>\n",
       "      <th>t</th>\n",
       "      <th></th>\n",
       "    </tr>\n",
       "  </thead>\n",
       "  <tbody>\n",
       "    <tr>\n",
       "      <th>2019-11-11</th>\n",
       "      <td>0.714647</td>\n",
       "    </tr>\n",
       "    <tr>\n",
       "      <th>2019-11-12</th>\n",
       "      <td>0.725986</td>\n",
       "    </tr>\n",
       "  </tbody>\n",
       "</table>\n",
       "</div>"
      ],
      "text/plain": [
       "            addresses_profit_relative\n",
       "t                                    \n",
       "2019-11-11                   0.714647\n",
       "2019-11-12                   0.725986"
      ]
     },
     "execution_count": 14,
     "metadata": {},
     "output_type": "execute_result"
    }
   ],
   "source": [
    "addresses_profit = gn.get('https://api.glassnode.com/v1/metrics/addresses/profit_relative',  a='btc', s='2010', u=today)\n",
    "addresses_profit.to_csv('data/addresses_profit.csv')\n",
    "print(addresses_profit.shape)\n",
    "addresses_profit.tail(2)"
   ]
  },
  {
   "cell_type": "code",
   "execution_count": 15,
   "metadata": {},
   "outputs": [
    {
     "name": "stdout",
     "output_type": "stream",
     "text": [
      "(3603, 1)\n"
     ]
    },
    {
     "data": {
      "text/html": [
       "<div>\n",
       "<style scoped>\n",
       "    .dataframe tbody tr th:only-of-type {\n",
       "        vertical-align: middle;\n",
       "    }\n",
       "\n",
       "    .dataframe tbody tr th {\n",
       "        vertical-align: top;\n",
       "    }\n",
       "\n",
       "    .dataframe thead th {\n",
       "        text-align: right;\n",
       "    }\n",
       "</style>\n",
       "<table border=\"1\" class=\"dataframe\">\n",
       "  <thead>\n",
       "    <tr style=\"text-align: right;\">\n",
       "      <th></th>\n",
       "      <th>o</th>\n",
       "    </tr>\n",
       "    <tr>\n",
       "      <th>t</th>\n",
       "      <th></th>\n",
       "    </tr>\n",
       "  </thead>\n",
       "  <tbody>\n",
       "    <tr>\n",
       "      <th>2019-11-11</th>\n",
       "      <td>{'0001_001': 0.001486693159923475, '001_01': 0...</td>\n",
       "    </tr>\n",
       "    <tr>\n",
       "      <th>2019-11-12</th>\n",
       "      <td>{'0001_001': 0.001490609658762449, '001_01': 0...</td>\n",
       "    </tr>\n",
       "  </tbody>\n",
       "</table>\n",
       "</div>"
      ],
      "text/plain": [
       "                                                            o\n",
       "t                                                            \n",
       "2019-11-11  {'0001_001': 0.001486693159923475, '001_01': 0...\n",
       "2019-11-12  {'0001_001': 0.001490609658762449, '001_01': 0..."
      ]
     },
     "execution_count": 15,
     "metadata": {},
     "output_type": "execute_result"
    }
   ],
   "source": [
    "addresses_dist = gn.get('https://api.glassnode.com/v1/metrics/addresses/supply_distribution_relative',  a='btc', s='2010', u=today)\n",
    "addresses_dist.to_csv('data/addresses_dist.csv')\n",
    "print(addresses_dist.shape)\n",
    "addresses_dist.tail(2)"
   ]
  },
  {
   "cell_type": "code",
   "execution_count": 16,
   "metadata": {},
   "outputs": [
    {
     "name": "stdout",
     "output_type": "stream",
     "text": [
      "(3603, 1)\n"
     ]
    },
    {
     "data": {
      "text/html": [
       "<div>\n",
       "<style scoped>\n",
       "    .dataframe tbody tr th:only-of-type {\n",
       "        vertical-align: middle;\n",
       "    }\n",
       "\n",
       "    .dataframe tbody tr th {\n",
       "        vertical-align: top;\n",
       "    }\n",
       "\n",
       "    .dataframe thead th {\n",
       "        text-align: right;\n",
       "    }\n",
       "</style>\n",
       "<table border=\"1\" class=\"dataframe\">\n",
       "  <thead>\n",
       "    <tr style=\"text-align: right;\">\n",
       "      <th></th>\n",
       "      <th>addresses_accumulation_count</th>\n",
       "    </tr>\n",
       "    <tr>\n",
       "      <th>t</th>\n",
       "      <th></th>\n",
       "    </tr>\n",
       "  </thead>\n",
       "  <tbody>\n",
       "    <tr>\n",
       "      <th>2019-11-11</th>\n",
       "      <td>458032</td>\n",
       "    </tr>\n",
       "    <tr>\n",
       "      <th>2019-11-12</th>\n",
       "      <td>458095</td>\n",
       "    </tr>\n",
       "  </tbody>\n",
       "</table>\n",
       "</div>"
      ],
      "text/plain": [
       "            addresses_accumulation_count\n",
       "t                                       \n",
       "2019-11-11                        458032\n",
       "2019-11-12                        458095"
      ]
     },
     "execution_count": 16,
     "metadata": {},
     "output_type": "execute_result"
    }
   ],
   "source": [
    "accum_addresses = gn.get('https://api.glassnode.com/v1/metrics/addresses/accumulation_count',  a='btc', s='2010', u=today)\n",
    "accum_addresses.to_csv('data/accum_addresses.csv')\n",
    "print(accum_addresses.shape)\n",
    "accum_addresses.tail(2)"
   ]
  },
  {
   "cell_type": "code",
   "execution_count": 17,
   "metadata": {},
   "outputs": [
    {
     "name": "stdout",
     "output_type": "stream",
     "text": [
      "(3603, 1)\n"
     ]
    },
    {
     "data": {
      "text/html": [
       "<div>\n",
       "<style scoped>\n",
       "    .dataframe tbody tr th:only-of-type {\n",
       "        vertical-align: middle;\n",
       "    }\n",
       "\n",
       "    .dataframe tbody tr th {\n",
       "        vertical-align: top;\n",
       "    }\n",
       "\n",
       "    .dataframe thead th {\n",
       "        text-align: right;\n",
       "    }\n",
       "</style>\n",
       "<table border=\"1\" class=\"dataframe\">\n",
       "  <thead>\n",
       "    <tr style=\"text-align: right;\">\n",
       "      <th></th>\n",
       "      <th>addresses_accumulation_balance</th>\n",
       "    </tr>\n",
       "    <tr>\n",
       "      <th>t</th>\n",
       "      <th></th>\n",
       "    </tr>\n",
       "  </thead>\n",
       "  <tbody>\n",
       "    <tr>\n",
       "      <th>2010-01-01</th>\n",
       "      <td>70018.15</td>\n",
       "    </tr>\n",
       "    <tr>\n",
       "      <th>2010-01-02</th>\n",
       "      <td>70018.15</td>\n",
       "    </tr>\n",
       "  </tbody>\n",
       "</table>\n",
       "</div>"
      ],
      "text/plain": [
       "            addresses_accumulation_balance\n",
       "t                                         \n",
       "2010-01-01                        70018.15\n",
       "2010-01-02                        70018.15"
      ]
     },
     "execution_count": 17,
     "metadata": {},
     "output_type": "execute_result"
    }
   ],
   "source": [
    "accum_balance = gn.get('https://api.glassnode.com/v1/metrics/addresses/accumulation_balance',  a='btc', s='2010', u=today)\n",
    "accum_balance.to_csv('data/accum_balance.csv')\n",
    "print(accum_balance.shape)\n",
    "accum_balance.head(2)"
   ]
  },
  {
   "cell_type": "code",
   "execution_count": 18,
   "metadata": {},
   "outputs": [],
   "source": [
    "# TRANSACTIONS"
   ]
  },
  {
   "cell_type": "code",
   "execution_count": 19,
   "metadata": {},
   "outputs": [
    {
     "name": "stdout",
     "output_type": "stream",
     "text": [
      "(3969, 1)\n"
     ]
    },
    {
     "data": {
      "text/html": [
       "<div>\n",
       "<style scoped>\n",
       "    .dataframe tbody tr th:only-of-type {\n",
       "        vertical-align: middle;\n",
       "    }\n",
       "\n",
       "    .dataframe tbody tr th {\n",
       "        vertical-align: top;\n",
       "    }\n",
       "\n",
       "    .dataframe thead th {\n",
       "        text-align: right;\n",
       "    }\n",
       "</style>\n",
       "<table border=\"1\" class=\"dataframe\">\n",
       "  <thead>\n",
       "    <tr style=\"text-align: right;\">\n",
       "      <th></th>\n",
       "      <th>transactions_count</th>\n",
       "    </tr>\n",
       "    <tr>\n",
       "      <th>t</th>\n",
       "      <th></th>\n",
       "    </tr>\n",
       "  </thead>\n",
       "  <tbody>\n",
       "    <tr>\n",
       "      <th>2020-11-11</th>\n",
       "      <td>322130</td>\n",
       "    </tr>\n",
       "    <tr>\n",
       "      <th>2020-11-12</th>\n",
       "      <td>324695</td>\n",
       "    </tr>\n",
       "  </tbody>\n",
       "</table>\n",
       "</div>"
      ],
      "text/plain": [
       "            transactions_count\n",
       "t                             \n",
       "2020-11-11              322130\n",
       "2020-11-12              324695"
      ]
     },
     "execution_count": 19,
     "metadata": {},
     "output_type": "execute_result"
    }
   ],
   "source": [
    "trans_count = gn.get('https://api.glassnode.com/v1/metrics/transactions/count',  a='btc', s='2010', u=today)\n",
    "trans_count.to_csv('data/trans_count.csv')\n",
    "print(trans_count.shape)\n",
    "trans_count.tail(2)"
   ]
  },
  {
   "cell_type": "code",
   "execution_count": 20,
   "metadata": {},
   "outputs": [
    {
     "name": "stdout",
     "output_type": "stream",
     "text": [
      "(3969, 1)\n"
     ]
    },
    {
     "data": {
      "text/html": [
       "<div>\n",
       "<style scoped>\n",
       "    .dataframe tbody tr th:only-of-type {\n",
       "        vertical-align: middle;\n",
       "    }\n",
       "\n",
       "    .dataframe tbody tr th {\n",
       "        vertical-align: top;\n",
       "    }\n",
       "\n",
       "    .dataframe thead th {\n",
       "        text-align: right;\n",
       "    }\n",
       "</style>\n",
       "<table border=\"1\" class=\"dataframe\">\n",
       "  <thead>\n",
       "    <tr style=\"text-align: right;\">\n",
       "      <th></th>\n",
       "      <th>transactions_rate</th>\n",
       "    </tr>\n",
       "    <tr>\n",
       "      <th>t</th>\n",
       "      <th></th>\n",
       "    </tr>\n",
       "  </thead>\n",
       "  <tbody>\n",
       "    <tr>\n",
       "      <th>2020-11-11</th>\n",
       "      <td>3.728356</td>\n",
       "    </tr>\n",
       "    <tr>\n",
       "      <th>2020-11-12</th>\n",
       "      <td>3.758044</td>\n",
       "    </tr>\n",
       "  </tbody>\n",
       "</table>\n",
       "</div>"
      ],
      "text/plain": [
       "            transactions_rate\n",
       "t                            \n",
       "2020-11-11           3.728356\n",
       "2020-11-12           3.758044"
      ]
     },
     "execution_count": 20,
     "metadata": {},
     "output_type": "execute_result"
    }
   ],
   "source": [
    "trans_rate = gn.get('https://api.glassnode.com/v1/metrics/transactions/rate',  a='btc', s='2010', u=today)\n",
    "trans_rate.to_csv('data/trans_rate.csv')\n",
    "print(trans_rate.shape)\n",
    "trans_rate.tail(2)"
   ]
  },
  {
   "cell_type": "code",
   "execution_count": 21,
   "metadata": {},
   "outputs": [],
   "source": [
    "# transf_count = gn.get('https://api.glassnode.com/v1/metrics/transactions/transfers_count',  a='eth', s='2015', u='2019')\n",
    "# transf_count.to_csv('data/transf_count.csv')\n",
    "# print(transf_count.shape)\n",
    "# transf_count.tail(2)"
   ]
  },
  {
   "cell_type": "code",
   "execution_count": 22,
   "metadata": {},
   "outputs": [
    {
     "name": "stdout",
     "output_type": "stream",
     "text": [
      "(3969, 1)\n"
     ]
    },
    {
     "data": {
      "text/html": [
       "<div>\n",
       "<style scoped>\n",
       "    .dataframe tbody tr th:only-of-type {\n",
       "        vertical-align: middle;\n",
       "    }\n",
       "\n",
       "    .dataframe tbody tr th {\n",
       "        vertical-align: top;\n",
       "    }\n",
       "\n",
       "    .dataframe thead th {\n",
       "        text-align: right;\n",
       "    }\n",
       "</style>\n",
       "<table border=\"1\" class=\"dataframe\">\n",
       "  <thead>\n",
       "    <tr style=\"text-align: right;\">\n",
       "      <th></th>\n",
       "      <th>transactions_size_sum</th>\n",
       "    </tr>\n",
       "    <tr>\n",
       "      <th>t</th>\n",
       "      <th></th>\n",
       "    </tr>\n",
       "  </thead>\n",
       "  <tbody>\n",
       "    <tr>\n",
       "      <th>2020-11-11</th>\n",
       "      <td>190626630.0</td>\n",
       "    </tr>\n",
       "    <tr>\n",
       "      <th>2020-11-12</th>\n",
       "      <td>199554177.0</td>\n",
       "    </tr>\n",
       "  </tbody>\n",
       "</table>\n",
       "</div>"
      ],
      "text/plain": [
       "            transactions_size_sum\n",
       "t                                \n",
       "2020-11-11            190626630.0\n",
       "2020-11-12            199554177.0"
      ]
     },
     "execution_count": 22,
     "metadata": {},
     "output_type": "execute_result"
    }
   ],
   "source": [
    "trans_size = gn.get('https://api.glassnode.com/v1/metrics/transactions/size_sum',  a='btc', s='2010', u=today)\n",
    "trans_size.to_csv('data/trans_size.csv')\n",
    "print(trans_size.shape)\n",
    "trans_size.tail(2)"
   ]
  },
  {
   "cell_type": "code",
   "execution_count": 23,
   "metadata": {},
   "outputs": [
    {
     "name": "stdout",
     "output_type": "stream",
     "text": [
      "(3969, 1)\n"
     ]
    },
    {
     "data": {
      "text/html": [
       "<div>\n",
       "<style scoped>\n",
       "    .dataframe tbody tr th:only-of-type {\n",
       "        vertical-align: middle;\n",
       "    }\n",
       "\n",
       "    .dataframe tbody tr th {\n",
       "        vertical-align: top;\n",
       "    }\n",
       "\n",
       "    .dataframe thead th {\n",
       "        text-align: right;\n",
       "    }\n",
       "</style>\n",
       "<table border=\"1\" class=\"dataframe\">\n",
       "  <thead>\n",
       "    <tr style=\"text-align: right;\">\n",
       "      <th></th>\n",
       "      <th>transactions_transfers_volume_adjusted_sum</th>\n",
       "    </tr>\n",
       "    <tr>\n",
       "      <th>t</th>\n",
       "      <th></th>\n",
       "    </tr>\n",
       "  </thead>\n",
       "  <tbody>\n",
       "    <tr>\n",
       "      <th>2020-11-11</th>\n",
       "      <td>573006.909133</td>\n",
       "    </tr>\n",
       "    <tr>\n",
       "      <th>2020-11-12</th>\n",
       "      <td>621611.969407</td>\n",
       "    </tr>\n",
       "  </tbody>\n",
       "</table>\n",
       "</div>"
      ],
      "text/plain": [
       "            transactions_transfers_volume_adjusted_sum\n",
       "t                                                     \n",
       "2020-11-11                               573006.909133\n",
       "2020-11-12                               621611.969407"
      ]
     },
     "execution_count": 23,
     "metadata": {},
     "output_type": "execute_result"
    }
   ],
   "source": [
    "transf_adj_vol = gn.get('https://api.glassnode.com/v1/metrics/transactions/transfers_volume_adjusted_sum',  a='btc', s='2010', u=today)\n",
    "transf_adj_vol.to_csv('data/transf_adj_vol.csv')\n",
    "print(transf_adj_vol.shape)\n",
    "transf_adj_vol.tail(2)"
   ]
  },
  {
   "cell_type": "code",
   "execution_count": 24,
   "metadata": {},
   "outputs": [
    {
     "name": "stdout",
     "output_type": "stream",
     "text": [
      "(3603, 1)\n"
     ]
    },
    {
     "data": {
      "text/html": [
       "<div>\n",
       "<style scoped>\n",
       "    .dataframe tbody tr th:only-of-type {\n",
       "        vertical-align: middle;\n",
       "    }\n",
       "\n",
       "    .dataframe tbody tr th {\n",
       "        vertical-align: top;\n",
       "    }\n",
       "\n",
       "    .dataframe thead th {\n",
       "        text-align: right;\n",
       "    }\n",
       "</style>\n",
       "<table border=\"1\" class=\"dataframe\">\n",
       "  <thead>\n",
       "    <tr style=\"text-align: right;\">\n",
       "      <th></th>\n",
       "      <th>transactions_entity_adjusted_count</th>\n",
       "    </tr>\n",
       "    <tr>\n",
       "      <th>t</th>\n",
       "      <th></th>\n",
       "    </tr>\n",
       "  </thead>\n",
       "  <tbody>\n",
       "    <tr>\n",
       "      <th>2019-11-11</th>\n",
       "      <td>226240</td>\n",
       "    </tr>\n",
       "    <tr>\n",
       "      <th>2019-11-12</th>\n",
       "      <td>220610</td>\n",
       "    </tr>\n",
       "  </tbody>\n",
       "</table>\n",
       "</div>"
      ],
      "text/plain": [
       "            transactions_entity_adjusted_count\n",
       "t                                             \n",
       "2019-11-11                              226240\n",
       "2019-11-12                              220610"
      ]
     },
     "execution_count": 24,
     "metadata": {},
     "output_type": "execute_result"
    }
   ],
   "source": [
    "ent_adj_count = gn.get('https://api.glassnode.com/v1/metrics/transactions/entity_adjusted_count',  a='btc', s='2010', u=today)\n",
    "ent_adj_count.to_csv('data/ent_adj_count.csv')\n",
    "print(ent_adj_count.shape)\n",
    "ent_adj_count.tail(2)"
   ]
  },
  {
   "cell_type": "code",
   "execution_count": 25,
   "metadata": {},
   "outputs": [
    {
     "name": "stdout",
     "output_type": "stream",
     "text": [
      "(3603, 1)\n"
     ]
    },
    {
     "data": {
      "text/html": [
       "<div>\n",
       "<style scoped>\n",
       "    .dataframe tbody tr th:only-of-type {\n",
       "        vertical-align: middle;\n",
       "    }\n",
       "\n",
       "    .dataframe tbody tr th {\n",
       "        vertical-align: top;\n",
       "    }\n",
       "\n",
       "    .dataframe thead th {\n",
       "        text-align: right;\n",
       "    }\n",
       "</style>\n",
       "<table border=\"1\" class=\"dataframe\">\n",
       "  <thead>\n",
       "    <tr style=\"text-align: right;\">\n",
       "      <th></th>\n",
       "      <th>transactions_transfers_volume_entity_adjusted_sum</th>\n",
       "    </tr>\n",
       "    <tr>\n",
       "      <th>t</th>\n",
       "      <th></th>\n",
       "    </tr>\n",
       "  </thead>\n",
       "  <tbody>\n",
       "    <tr>\n",
       "      <th>2019-11-11</th>\n",
       "      <td>175936.771925</td>\n",
       "    </tr>\n",
       "    <tr>\n",
       "      <th>2019-11-12</th>\n",
       "      <td>216643.710252</td>\n",
       "    </tr>\n",
       "  </tbody>\n",
       "</table>\n",
       "</div>"
      ],
      "text/plain": [
       "            transactions_transfers_volume_entity_adjusted_sum\n",
       "t                                                            \n",
       "2019-11-11                                      175936.771925\n",
       "2019-11-12                                      216643.710252"
      ]
     },
     "execution_count": 25,
     "metadata": {},
     "output_type": "execute_result"
    }
   ],
   "source": [
    "ent_adj_vol = gn.get('https://api.glassnode.com/v1/metrics/transactions/transfers_volume_entity_adjusted_sum',  a='btc', s='2010', u=today)\n",
    "ent_adj_vol.to_csv('data/ent_adj_vol.csv')\n",
    "print(ent_adj_vol.shape)\n",
    "ent_adj_vol.tail(2)"
   ]
  },
  {
   "cell_type": "code",
   "execution_count": 26,
   "metadata": {},
   "outputs": [
    {
     "name": "stdout",
     "output_type": "stream",
     "text": [
      "(3603, 1)\n"
     ]
    },
    {
     "data": {
      "text/html": [
       "<div>\n",
       "<style scoped>\n",
       "    .dataframe tbody tr th:only-of-type {\n",
       "        vertical-align: middle;\n",
       "    }\n",
       "\n",
       "    .dataframe tbody tr th {\n",
       "        vertical-align: top;\n",
       "    }\n",
       "\n",
       "    .dataframe thead th {\n",
       "        text-align: right;\n",
       "    }\n",
       "</style>\n",
       "<table border=\"1\" class=\"dataframe\">\n",
       "  <thead>\n",
       "    <tr style=\"text-align: right;\">\n",
       "      <th></th>\n",
       "      <th>transactions_transfers_volume_miners_net</th>\n",
       "    </tr>\n",
       "    <tr>\n",
       "      <th>t</th>\n",
       "      <th></th>\n",
       "    </tr>\n",
       "  </thead>\n",
       "  <tbody>\n",
       "    <tr>\n",
       "      <th>2019-11-11</th>\n",
       "      <td>228.466552</td>\n",
       "    </tr>\n",
       "    <tr>\n",
       "      <th>2019-11-12</th>\n",
       "      <td>-317.148431</td>\n",
       "    </tr>\n",
       "  </tbody>\n",
       "</table>\n",
       "</div>"
      ],
      "text/plain": [
       "            transactions_transfers_volume_miners_net\n",
       "t                                                   \n",
       "2019-11-11                                228.466552\n",
       "2019-11-12                               -317.148431"
      ]
     },
     "execution_count": 26,
     "metadata": {},
     "output_type": "execute_result"
    }
   ],
   "source": [
    "miner_netflow = gn.get('https://api.glassnode.com/v1/metrics/transactions/transfers_volume_miners_net',  a='btc', s='2010', u=today)\n",
    "miner_netflow.to_csv('data/miner_netflow.csv')\n",
    "print(miner_netflow.shape)\n",
    "miner_netflow.tail(2)"
   ]
  },
  {
   "cell_type": "code",
   "execution_count": 27,
   "metadata": {},
   "outputs": [],
   "source": [
    "# ENTITIES"
   ]
  },
  {
   "cell_type": "code",
   "execution_count": 28,
   "metadata": {},
   "outputs": [
    {
     "name": "stdout",
     "output_type": "stream",
     "text": [
      "(3603, 1)\n"
     ]
    },
    {
     "data": {
      "text/html": [
       "<div>\n",
       "<style scoped>\n",
       "    .dataframe tbody tr th:only-of-type {\n",
       "        vertical-align: middle;\n",
       "    }\n",
       "\n",
       "    .dataframe tbody tr th {\n",
       "        vertical-align: top;\n",
       "    }\n",
       "\n",
       "    .dataframe thead th {\n",
       "        text-align: right;\n",
       "    }\n",
       "</style>\n",
       "<table border=\"1\" class=\"dataframe\">\n",
       "  <thead>\n",
       "    <tr style=\"text-align: right;\">\n",
       "      <th></th>\n",
       "      <th>entities_new_count</th>\n",
       "    </tr>\n",
       "    <tr>\n",
       "      <th>t</th>\n",
       "      <th></th>\n",
       "    </tr>\n",
       "  </thead>\n",
       "  <tbody>\n",
       "    <tr>\n",
       "      <th>2019-11-11</th>\n",
       "      <td>98125</td>\n",
       "    </tr>\n",
       "    <tr>\n",
       "      <th>2019-11-12</th>\n",
       "      <td>97390</td>\n",
       "    </tr>\n",
       "  </tbody>\n",
       "</table>\n",
       "</div>"
      ],
      "text/plain": [
       "            entities_new_count\n",
       "t                             \n",
       "2019-11-11               98125\n",
       "2019-11-12               97390"
      ]
     },
     "execution_count": 28,
     "metadata": {},
     "output_type": "execute_result"
    }
   ],
   "source": [
    "new_entities = gn.get('https://api.glassnode.com/v1/metrics/entities/new_count',  a='btc', s='2010', u=today)\n",
    "new_entities.to_csv('data/new_entities.csv')\n",
    "print(new_entities.shape)\n",
    "new_entities.tail(2)"
   ]
  },
  {
   "cell_type": "code",
   "execution_count": 29,
   "metadata": {},
   "outputs": [
    {
     "name": "stdout",
     "output_type": "stream",
     "text": [
      "(3603, 1)\n"
     ]
    },
    {
     "data": {
      "text/html": [
       "<div>\n",
       "<style scoped>\n",
       "    .dataframe tbody tr th:only-of-type {\n",
       "        vertical-align: middle;\n",
       "    }\n",
       "\n",
       "    .dataframe tbody tr th {\n",
       "        vertical-align: top;\n",
       "    }\n",
       "\n",
       "    .dataframe thead th {\n",
       "        text-align: right;\n",
       "    }\n",
       "</style>\n",
       "<table border=\"1\" class=\"dataframe\">\n",
       "  <thead>\n",
       "    <tr style=\"text-align: right;\">\n",
       "      <th></th>\n",
       "      <th>entities_net_growth_count</th>\n",
       "    </tr>\n",
       "    <tr>\n",
       "      <th>t</th>\n",
       "      <th></th>\n",
       "    </tr>\n",
       "  </thead>\n",
       "  <tbody>\n",
       "    <tr>\n",
       "      <th>2019-11-11</th>\n",
       "      <td>9131</td>\n",
       "    </tr>\n",
       "    <tr>\n",
       "      <th>2019-11-12</th>\n",
       "      <td>10875</td>\n",
       "    </tr>\n",
       "  </tbody>\n",
       "</table>\n",
       "</div>"
      ],
      "text/plain": [
       "            entities_net_growth_count\n",
       "t                                    \n",
       "2019-11-11                       9131\n",
       "2019-11-12                      10875"
      ]
     },
     "execution_count": 29,
     "metadata": {},
     "output_type": "execute_result"
    }
   ],
   "source": [
    "entities_growth = gn.get('https://api.glassnode.com/v1/metrics/entities/net_growth_count',  a='btc', s='2010', u=today)\n",
    "entities_growth.to_csv('data/entities_growth.csv')\n",
    "print(entities_growth.shape)\n",
    "entities_growth.tail(2)"
   ]
  },
  {
   "cell_type": "code",
   "execution_count": 30,
   "metadata": {},
   "outputs": [
    {
     "name": "stdout",
     "output_type": "stream",
     "text": [
      "(3603, 1)\n"
     ]
    },
    {
     "data": {
      "text/html": [
       "<div>\n",
       "<style scoped>\n",
       "    .dataframe tbody tr th:only-of-type {\n",
       "        vertical-align: middle;\n",
       "    }\n",
       "\n",
       "    .dataframe tbody tr th {\n",
       "        vertical-align: top;\n",
       "    }\n",
       "\n",
       "    .dataframe thead th {\n",
       "        text-align: right;\n",
       "    }\n",
       "</style>\n",
       "<table border=\"1\" class=\"dataframe\">\n",
       "  <thead>\n",
       "    <tr style=\"text-align: right;\">\n",
       "      <th></th>\n",
       "      <th>entities_min_1k_count</th>\n",
       "    </tr>\n",
       "    <tr>\n",
       "      <th>t</th>\n",
       "      <th></th>\n",
       "    </tr>\n",
       "  </thead>\n",
       "  <tbody>\n",
       "    <tr>\n",
       "      <th>2019-11-11</th>\n",
       "      <td>1734</td>\n",
       "    </tr>\n",
       "    <tr>\n",
       "      <th>2019-11-12</th>\n",
       "      <td>1733</td>\n",
       "    </tr>\n",
       "  </tbody>\n",
       "</table>\n",
       "</div>"
      ],
      "text/plain": [
       "            entities_min_1k_count\n",
       "t                                \n",
       "2019-11-11                   1734\n",
       "2019-11-12                   1733"
      ]
     },
     "execution_count": 30,
     "metadata": {},
     "output_type": "execute_result"
    }
   ],
   "source": [
    "whales = gn.get('https://api.glassnode.com/v1/metrics/entities/min_1k_count',  a='btc', s='2010', u=today)\n",
    "whales.to_csv('data/whales.csv')\n",
    "print(whales.shape)\n",
    "whales.tail(2)"
   ]
  },
  {
   "cell_type": "code",
   "execution_count": 31,
   "metadata": {},
   "outputs": [
    {
     "name": "stdout",
     "output_type": "stream",
     "text": [
      "(3603, 1)\n"
     ]
    },
    {
     "data": {
      "text/html": [
       "<div>\n",
       "<style scoped>\n",
       "    .dataframe tbody tr th:only-of-type {\n",
       "        vertical-align: middle;\n",
       "    }\n",
       "\n",
       "    .dataframe tbody tr th {\n",
       "        vertical-align: top;\n",
       "    }\n",
       "\n",
       "    .dataframe thead th {\n",
       "        text-align: right;\n",
       "    }\n",
       "</style>\n",
       "<table border=\"1\" class=\"dataframe\">\n",
       "  <thead>\n",
       "    <tr style=\"text-align: right;\">\n",
       "      <th></th>\n",
       "      <th>entities_active_count</th>\n",
       "    </tr>\n",
       "    <tr>\n",
       "      <th>t</th>\n",
       "      <th></th>\n",
       "    </tr>\n",
       "  </thead>\n",
       "  <tbody>\n",
       "    <tr>\n",
       "      <th>2019-11-11</th>\n",
       "      <td>226290</td>\n",
       "    </tr>\n",
       "    <tr>\n",
       "      <th>2019-11-12</th>\n",
       "      <td>222895</td>\n",
       "    </tr>\n",
       "  </tbody>\n",
       "</table>\n",
       "</div>"
      ],
      "text/plain": [
       "            entities_active_count\n",
       "t                                \n",
       "2019-11-11                 226290\n",
       "2019-11-12                 222895"
      ]
     },
     "execution_count": 31,
     "metadata": {},
     "output_type": "execute_result"
    }
   ],
   "source": [
    "active_entities = gn.get('https://api.glassnode.com/v1/metrics/entities/active_count',  a='btc', s='2010', u=today)\n",
    "active_entities.to_csv('data/active_entities.csv')\n",
    "print(active_entities.shape)\n",
    "active_entities.tail(2)"
   ]
  },
  {
   "cell_type": "code",
   "execution_count": 32,
   "metadata": {},
   "outputs": [
    {
     "name": "stdout",
     "output_type": "stream",
     "text": [
      "(3603, 1)\n"
     ]
    },
    {
     "data": {
      "text/html": [
       "<div>\n",
       "<style scoped>\n",
       "    .dataframe tbody tr th:only-of-type {\n",
       "        vertical-align: middle;\n",
       "    }\n",
       "\n",
       "    .dataframe tbody tr th {\n",
       "        vertical-align: top;\n",
       "    }\n",
       "\n",
       "    .dataframe thead th {\n",
       "        text-align: right;\n",
       "    }\n",
       "</style>\n",
       "<table border=\"1\" class=\"dataframe\">\n",
       "  <thead>\n",
       "    <tr style=\"text-align: right;\">\n",
       "      <th></th>\n",
       "      <th>entities_receiving_count</th>\n",
       "    </tr>\n",
       "    <tr>\n",
       "      <th>t</th>\n",
       "      <th></th>\n",
       "    </tr>\n",
       "  </thead>\n",
       "  <tbody>\n",
       "    <tr>\n",
       "      <th>2019-11-11</th>\n",
       "      <td>173562</td>\n",
       "    </tr>\n",
       "    <tr>\n",
       "      <th>2019-11-12</th>\n",
       "      <td>172149</td>\n",
       "    </tr>\n",
       "  </tbody>\n",
       "</table>\n",
       "</div>"
      ],
      "text/plain": [
       "            entities_receiving_count\n",
       "t                                   \n",
       "2019-11-11                    173562\n",
       "2019-11-12                    172149"
      ]
     },
     "execution_count": 32,
     "metadata": {},
     "output_type": "execute_result"
    }
   ],
   "source": [
    "receiving_entities = gn.get('https://api.glassnode.com/v1/metrics/entities/receiving_count',  a='btc', s='2010', u=today)\n",
    "receiving_entities.to_csv('data/receiving_entities.csv')\n",
    "print(receiving_entities.shape)\n",
    "receiving_entities.tail(2)"
   ]
  },
  {
   "cell_type": "code",
   "execution_count": 33,
   "metadata": {},
   "outputs": [
    {
     "name": "stdout",
     "output_type": "stream",
     "text": [
      "(3405, 1)\n"
     ]
    },
    {
     "data": {
      "text/html": [
       "<div>\n",
       "<style scoped>\n",
       "    .dataframe tbody tr th:only-of-type {\n",
       "        vertical-align: middle;\n",
       "    }\n",
       "\n",
       "    .dataframe tbody tr th {\n",
       "        vertical-align: top;\n",
       "    }\n",
       "\n",
       "    .dataframe thead th {\n",
       "        text-align: right;\n",
       "    }\n",
       "</style>\n",
       "<table border=\"1\" class=\"dataframe\">\n",
       "  <thead>\n",
       "    <tr style=\"text-align: right;\">\n",
       "      <th></th>\n",
       "      <th>entities_profit_relative</th>\n",
       "    </tr>\n",
       "    <tr>\n",
       "      <th>t</th>\n",
       "      <th></th>\n",
       "    </tr>\n",
       "  </thead>\n",
       "  <tbody>\n",
       "    <tr>\n",
       "      <th>2019-11-11</th>\n",
       "      <td>0.749356</td>\n",
       "    </tr>\n",
       "    <tr>\n",
       "      <th>2019-11-12</th>\n",
       "      <td>0.756541</td>\n",
       "    </tr>\n",
       "  </tbody>\n",
       "</table>\n",
       "</div>"
      ],
      "text/plain": [
       "            entities_profit_relative\n",
       "t                                   \n",
       "2019-11-11                  0.749356\n",
       "2019-11-12                  0.756541"
      ]
     },
     "execution_count": 33,
     "metadata": {},
     "output_type": "execute_result"
    }
   ],
   "source": [
    "profit_entities = gn.get('https://api.glassnode.com/v1/metrics/entities/profit_relative',  a='btc', s='2010', u=today)\n",
    "profit_entities.to_csv('data/profit_entities.csv')\n",
    "print(profit_entities.shape)\n",
    "profit_entities.tail(2)"
   ]
  },
  {
   "cell_type": "code",
   "execution_count": 34,
   "metadata": {},
   "outputs": [
    {
     "name": "stdout",
     "output_type": "stream",
     "text": [
      "(3603, 1)\n"
     ]
    },
    {
     "data": {
      "text/html": [
       "<div>\n",
       "<style scoped>\n",
       "    .dataframe tbody tr th:only-of-type {\n",
       "        vertical-align: middle;\n",
       "    }\n",
       "\n",
       "    .dataframe tbody tr th {\n",
       "        vertical-align: top;\n",
       "    }\n",
       "\n",
       "    .dataframe thead th {\n",
       "        text-align: right;\n",
       "    }\n",
       "</style>\n",
       "<table border=\"1\" class=\"dataframe\">\n",
       "  <thead>\n",
       "    <tr style=\"text-align: right;\">\n",
       "      <th></th>\n",
       "      <th>o</th>\n",
       "    </tr>\n",
       "    <tr>\n",
       "      <th>t</th>\n",
       "      <th></th>\n",
       "    </tr>\n",
       "  </thead>\n",
       "  <tbody>\n",
       "    <tr>\n",
       "      <th>2019-11-11</th>\n",
       "      <td>{'0001_001': 0.00115673230985817, '001_01': 0....</td>\n",
       "    </tr>\n",
       "    <tr>\n",
       "      <th>2019-11-12</th>\n",
       "      <td>{'0001_001': 0.00115785889037855, '001_01': 0....</td>\n",
       "    </tr>\n",
       "  </tbody>\n",
       "</table>\n",
       "</div>"
      ],
      "text/plain": [
       "                                                            o\n",
       "t                                                            \n",
       "2019-11-11  {'0001_001': 0.00115673230985817, '001_01': 0....\n",
       "2019-11-12  {'0001_001': 0.00115785889037855, '001_01': 0...."
      ]
     },
     "execution_count": 34,
     "metadata": {},
     "output_type": "execute_result"
    }
   ],
   "source": [
    "entities_dist = gn.get('https://api.glassnode.com/v1/metrics/entities/supply_distribution_relative',  a='btc', s='2010', u=today)\n",
    "entities_dist.to_csv('data/entities_dist.csv')\n",
    "print(entities_dist.shape)\n",
    "entities_dist.tail(2)"
   ]
  },
  {
   "cell_type": "code",
   "execution_count": 35,
   "metadata": {},
   "outputs": [],
   "source": [
    "# MARKET"
   ]
  },
  {
   "cell_type": "code",
   "execution_count": 36,
   "metadata": {},
   "outputs": [
    {
     "name": "stdout",
     "output_type": "stream",
     "text": [
      "(3772, 1)\n"
     ]
    },
    {
     "data": {
      "text/html": [
       "<div>\n",
       "<style scoped>\n",
       "    .dataframe tbody tr th:only-of-type {\n",
       "        vertical-align: middle;\n",
       "    }\n",
       "\n",
       "    .dataframe tbody tr th {\n",
       "        vertical-align: top;\n",
       "    }\n",
       "\n",
       "    .dataframe thead th {\n",
       "        text-align: right;\n",
       "    }\n",
       "</style>\n",
       "<table border=\"1\" class=\"dataframe\">\n",
       "  <thead>\n",
       "    <tr style=\"text-align: right;\">\n",
       "      <th></th>\n",
       "      <th>market_price_usd_close</th>\n",
       "    </tr>\n",
       "    <tr>\n",
       "      <th>t</th>\n",
       "      <th></th>\n",
       "    </tr>\n",
       "  </thead>\n",
       "  <tbody>\n",
       "    <tr>\n",
       "      <th>2020-11-11</th>\n",
       "      <td>15693.906873</td>\n",
       "    </tr>\n",
       "    <tr>\n",
       "      <th>2020-11-12</th>\n",
       "      <td>16281.414512</td>\n",
       "    </tr>\n",
       "  </tbody>\n",
       "</table>\n",
       "</div>"
      ],
      "text/plain": [
       "            market_price_usd_close\n",
       "t                                 \n",
       "2020-11-11            15693.906873\n",
       "2020-11-12            16281.414512"
      ]
     },
     "execution_count": 36,
     "metadata": {},
     "output_type": "execute_result"
    }
   ],
   "source": [
    "closing_price = gn.get('https://api.glassnode.com/v1/metrics/market/price_usd_close',  a='btc', s='2010', u=today)\n",
    "closing_price.to_csv('data/closing_price.csv')\n",
    "print(closing_price.shape)\n",
    "closing_price.tail(2)"
   ]
  },
  {
   "cell_type": "code",
   "execution_count": 170,
   "metadata": {},
   "outputs": [
    {
     "name": "stdout",
     "output_type": "stream",
     "text": [
      "(3772, 4)\n"
     ]
    },
    {
     "data": {
      "text/html": [
       "<div>\n",
       "<style scoped>\n",
       "    .dataframe tbody tr th:only-of-type {\n",
       "        vertical-align: middle;\n",
       "    }\n",
       "\n",
       "    .dataframe tbody tr th {\n",
       "        vertical-align: top;\n",
       "    }\n",
       "\n",
       "    .dataframe thead th {\n",
       "        text-align: right;\n",
       "    }\n",
       "</style>\n",
       "<table border=\"1\" class=\"dataframe\">\n",
       "  <thead>\n",
       "    <tr style=\"text-align: right;\">\n",
       "      <th></th>\n",
       "      <th>c</th>\n",
       "      <th>h</th>\n",
       "      <th>l</th>\n",
       "      <th>o</th>\n",
       "    </tr>\n",
       "    <tr>\n",
       "      <th>t</th>\n",
       "      <th></th>\n",
       "      <th></th>\n",
       "      <th></th>\n",
       "      <th></th>\n",
       "    </tr>\n",
       "  </thead>\n",
       "  <tbody>\n",
       "    <tr>\n",
       "      <th>2020-11-11</th>\n",
       "      <td>15693.906873</td>\n",
       "      <td>15908.693496</td>\n",
       "      <td>15290.006817</td>\n",
       "      <td>15305.071062</td>\n",
       "    </tr>\n",
       "    <tr>\n",
       "      <th>2020-11-12</th>\n",
       "      <td>16281.414512</td>\n",
       "      <td>16304.983801</td>\n",
       "      <td>15534.843122</td>\n",
       "      <td>15687.777568</td>\n",
       "    </tr>\n",
       "  </tbody>\n",
       "</table>\n",
       "</div>"
      ],
      "text/plain": [
       "                       c             h             l             o\n",
       "t                                                                 \n",
       "2020-11-11  15693.906873  15908.693496  15290.006817  15305.071062\n",
       "2020-11-12  16281.414512  16304.983801  15534.843122  15687.777568"
      ]
     },
     "execution_count": 170,
     "metadata": {},
     "output_type": "execute_result"
    }
   ],
   "source": [
    "ohlc_price = gn.get('https://api.glassnode.com/v1/metrics/market/price_usd_ohlc',  a='btc', s='2010', u=today)\n",
    "ohlc_price_df = pd.DataFrame()\n",
    "for i in range(len(ohlc_price['o'])):\n",
    "    df = pd.DataFrame(ohlc_price.iloc[i]['o'].values()).T\n",
    "    df.columns = ohlc_price.iloc[i]['o'].keys()\n",
    "    ohlc_price_df =pd.concat([ohlc_price_df, df])\n",
    "ohlc_price_df.index = ohlc_price.index\n",
    "ohlc_price = ohlc_price_df\n",
    "print(ohlc_price.shape)\n",
    "ohlc_price.to_csv('data/ohlc_price.csv')\n",
    "ohlc_price.tail(2)"
   ]
  },
  {
   "cell_type": "code",
   "execution_count": 38,
   "metadata": {},
   "outputs": [
    {
     "name": "stdout",
     "output_type": "stream",
     "text": [
      "(3772, 1)\n"
     ]
    },
    {
     "data": {
      "text/html": [
       "<div>\n",
       "<style scoped>\n",
       "    .dataframe tbody tr th:only-of-type {\n",
       "        vertical-align: middle;\n",
       "    }\n",
       "\n",
       "    .dataframe tbody tr th {\n",
       "        vertical-align: top;\n",
       "    }\n",
       "\n",
       "    .dataframe thead th {\n",
       "        text-align: right;\n",
       "    }\n",
       "</style>\n",
       "<table border=\"1\" class=\"dataframe\">\n",
       "  <thead>\n",
       "    <tr style=\"text-align: right;\">\n",
       "      <th></th>\n",
       "      <th>market_price_drawdown_relative</th>\n",
       "    </tr>\n",
       "    <tr>\n",
       "      <th>t</th>\n",
       "      <th></th>\n",
       "    </tr>\n",
       "  </thead>\n",
       "  <tbody>\n",
       "    <tr>\n",
       "      <th>2020-11-11</th>\n",
       "      <td>-0.207856</td>\n",
       "    </tr>\n",
       "    <tr>\n",
       "      <th>2020-11-12</th>\n",
       "      <td>-0.178202</td>\n",
       "    </tr>\n",
       "  </tbody>\n",
       "</table>\n",
       "</div>"
      ],
      "text/plain": [
       "            market_price_drawdown_relative\n",
       "t                                         \n",
       "2020-11-11                       -0.207856\n",
       "2020-11-12                       -0.178202"
      ]
     },
     "execution_count": 38,
     "metadata": {},
     "output_type": "execute_result"
    }
   ],
   "source": [
    "pct_from_ath = gn.get('https://api.glassnode.com/v1/metrics/market/price_drawdown_relative',  a='btc', s='2010', u=today)\n",
    "pct_from_ath.to_csv('data/pct_from_ath.csv')\n",
    "print(pct_from_ath.shape)\n",
    "pct_from_ath.tail(2)"
   ]
  },
  {
   "cell_type": "code",
   "execution_count": 39,
   "metadata": {},
   "outputs": [
    {
     "name": "stdout",
     "output_type": "stream",
     "text": [
      "(3969, 1)\n"
     ]
    },
    {
     "data": {
      "text/html": [
       "<div>\n",
       "<style scoped>\n",
       "    .dataframe tbody tr th:only-of-type {\n",
       "        vertical-align: middle;\n",
       "    }\n",
       "\n",
       "    .dataframe tbody tr th {\n",
       "        vertical-align: top;\n",
       "    }\n",
       "\n",
       "    .dataframe thead th {\n",
       "        text-align: right;\n",
       "    }\n",
       "</style>\n",
       "<table border=\"1\" class=\"dataframe\">\n",
       "  <thead>\n",
       "    <tr style=\"text-align: right;\">\n",
       "      <th></th>\n",
       "      <th>market_price_realized_usd</th>\n",
       "    </tr>\n",
       "    <tr>\n",
       "      <th>t</th>\n",
       "      <th></th>\n",
       "    </tr>\n",
       "  </thead>\n",
       "  <tbody>\n",
       "    <tr>\n",
       "      <th>2020-11-11</th>\n",
       "      <td>6840.065375</td>\n",
       "    </tr>\n",
       "    <tr>\n",
       "      <th>2020-11-12</th>\n",
       "      <td>6863.084818</td>\n",
       "    </tr>\n",
       "  </tbody>\n",
       "</table>\n",
       "</div>"
      ],
      "text/plain": [
       "            market_price_realized_usd\n",
       "t                                    \n",
       "2020-11-11                6840.065375\n",
       "2020-11-12                6863.084818"
      ]
     },
     "execution_count": 39,
     "metadata": {},
     "output_type": "execute_result"
    }
   ],
   "source": [
    "realized_price = gn.get('https://api.glassnode.com/v1/metrics/market/price_realized_usd',  a='btc', s='2010', u=today)\n",
    "realized_price.to_csv('data/realized_price.csv')\n",
    "print(realized_price.shape)\n",
    "realized_price.tail(2)"
   ]
  },
  {
   "cell_type": "code",
   "execution_count": 40,
   "metadata": {},
   "outputs": [
    {
     "name": "stdout",
     "output_type": "stream",
     "text": [
      "(3772, 1)\n"
     ]
    },
    {
     "data": {
      "text/html": [
       "<div>\n",
       "<style scoped>\n",
       "    .dataframe tbody tr th:only-of-type {\n",
       "        vertical-align: middle;\n",
       "    }\n",
       "\n",
       "    .dataframe tbody tr th {\n",
       "        vertical-align: top;\n",
       "    }\n",
       "\n",
       "    .dataframe thead th {\n",
       "        text-align: right;\n",
       "    }\n",
       "</style>\n",
       "<table border=\"1\" class=\"dataframe\">\n",
       "  <thead>\n",
       "    <tr style=\"text-align: right;\">\n",
       "      <th></th>\n",
       "      <th>market_marketcap_usd</th>\n",
       "    </tr>\n",
       "    <tr>\n",
       "      <th>t</th>\n",
       "      <th></th>\n",
       "    </tr>\n",
       "  </thead>\n",
       "  <tbody>\n",
       "    <tr>\n",
       "      <th>2020-11-11</th>\n",
       "      <td>2.887422e+11</td>\n",
       "    </tr>\n",
       "    <tr>\n",
       "      <th>2020-11-12</th>\n",
       "      <td>2.948325e+11</td>\n",
       "    </tr>\n",
       "  </tbody>\n",
       "</table>\n",
       "</div>"
      ],
      "text/plain": [
       "            market_marketcap_usd\n",
       "t                               \n",
       "2020-11-11          2.887422e+11\n",
       "2020-11-12          2.948325e+11"
      ]
     },
     "execution_count": 40,
     "metadata": {},
     "output_type": "execute_result"
    }
   ],
   "source": [
    "market_cap = gn.get('https://api.glassnode.com/v1/metrics/market/marketcap_usd',  a='btc', s='2010', u=today)\n",
    "market_cap.to_csv('data/market_cap.csv')\n",
    "print(market_cap.shape)\n",
    "market_cap.tail(2)"
   ]
  },
  {
   "cell_type": "code",
   "execution_count": 41,
   "metadata": {},
   "outputs": [
    {
     "name": "stdout",
     "output_type": "stream",
     "text": [
      "(3969, 1)\n"
     ]
    },
    {
     "data": {
      "text/html": [
       "<div>\n",
       "<style scoped>\n",
       "    .dataframe tbody tr th:only-of-type {\n",
       "        vertical-align: middle;\n",
       "    }\n",
       "\n",
       "    .dataframe tbody tr th {\n",
       "        vertical-align: top;\n",
       "    }\n",
       "\n",
       "    .dataframe thead th {\n",
       "        text-align: right;\n",
       "    }\n",
       "</style>\n",
       "<table border=\"1\" class=\"dataframe\">\n",
       "  <thead>\n",
       "    <tr style=\"text-align: right;\">\n",
       "      <th></th>\n",
       "      <th>market_marketcap_realized_usd</th>\n",
       "    </tr>\n",
       "    <tr>\n",
       "      <th>t</th>\n",
       "      <th></th>\n",
       "    </tr>\n",
       "  </thead>\n",
       "  <tbody>\n",
       "    <tr>\n",
       "      <th>2020-11-11</th>\n",
       "      <td>1.268197e+11</td>\n",
       "    </tr>\n",
       "    <tr>\n",
       "      <th>2020-11-12</th>\n",
       "      <td>1.272534e+11</td>\n",
       "    </tr>\n",
       "  </tbody>\n",
       "</table>\n",
       "</div>"
      ],
      "text/plain": [
       "            market_marketcap_realized_usd\n",
       "t                                        \n",
       "2020-11-11                   1.268197e+11\n",
       "2020-11-12                   1.272534e+11"
      ]
     },
     "execution_count": 41,
     "metadata": {},
     "output_type": "execute_result"
    }
   ],
   "source": [
    "realized_mcap = gn.get('https://api.glassnode.com/v1/metrics/market/marketcap_realized_usd',  a='btc', s='2010', u=today)\n",
    "realized_mcap.to_csv('data/realized_mcap.csv')\n",
    "print(realized_mcap.shape)\n",
    "realized_mcap.tail(2)"
   ]
  },
  {
   "cell_type": "code",
   "execution_count": 42,
   "metadata": {},
   "outputs": [
    {
     "name": "stdout",
     "output_type": "stream",
     "text": [
      "(3772, 1)\n"
     ]
    },
    {
     "data": {
      "text/html": [
       "<div>\n",
       "<style scoped>\n",
       "    .dataframe tbody tr th:only-of-type {\n",
       "        vertical-align: middle;\n",
       "    }\n",
       "\n",
       "    .dataframe tbody tr th {\n",
       "        vertical-align: top;\n",
       "    }\n",
       "\n",
       "    .dataframe thead th {\n",
       "        text-align: right;\n",
       "    }\n",
       "</style>\n",
       "<table border=\"1\" class=\"dataframe\">\n",
       "  <thead>\n",
       "    <tr style=\"text-align: right;\">\n",
       "      <th></th>\n",
       "      <th>market_mvrv</th>\n",
       "    </tr>\n",
       "    <tr>\n",
       "      <th>t</th>\n",
       "      <th></th>\n",
       "    </tr>\n",
       "  </thead>\n",
       "  <tbody>\n",
       "    <tr>\n",
       "      <th>2020-11-11</th>\n",
       "      <td>2.276793</td>\n",
       "    </tr>\n",
       "    <tr>\n",
       "      <th>2020-11-12</th>\n",
       "      <td>2.316893</td>\n",
       "    </tr>\n",
       "  </tbody>\n",
       "</table>\n",
       "</div>"
      ],
      "text/plain": [
       "            market_mvrv\n",
       "t                      \n",
       "2020-11-11     2.276793\n",
       "2020-11-12     2.316893"
      ]
     },
     "execution_count": 42,
     "metadata": {},
     "output_type": "execute_result"
    }
   ],
   "source": [
    "mvrv = gn.get('https://api.glassnode.com/v1/metrics/market/mvrv',  a='btc', s='2010', u=today)\n",
    "mvrv.to_csv('data/mvrv.csv')\n",
    "print(mvrv.shape)\n",
    "mvrv.tail(2)"
   ]
  },
  {
   "cell_type": "code",
   "execution_count": 43,
   "metadata": {},
   "outputs": [
    {
     "name": "stdout",
     "output_type": "stream",
     "text": [
      "(3771, 1)\n"
     ]
    },
    {
     "data": {
      "text/html": [
       "<div>\n",
       "<style scoped>\n",
       "    .dataframe tbody tr th:only-of-type {\n",
       "        vertical-align: middle;\n",
       "    }\n",
       "\n",
       "    .dataframe tbody tr th {\n",
       "        vertical-align: top;\n",
       "    }\n",
       "\n",
       "    .dataframe thead th {\n",
       "        text-align: right;\n",
       "    }\n",
       "</style>\n",
       "<table border=\"1\" class=\"dataframe\">\n",
       "  <thead>\n",
       "    <tr style=\"text-align: right;\">\n",
       "      <th></th>\n",
       "      <th>market_mvrv_z_score</th>\n",
       "    </tr>\n",
       "    <tr>\n",
       "      <th>t</th>\n",
       "      <th></th>\n",
       "    </tr>\n",
       "  </thead>\n",
       "  <tbody>\n",
       "    <tr>\n",
       "      <th>2020-11-11</th>\n",
       "      <td>2.411581</td>\n",
       "    </tr>\n",
       "    <tr>\n",
       "      <th>2020-11-12</th>\n",
       "      <td>2.491910</td>\n",
       "    </tr>\n",
       "  </tbody>\n",
       "</table>\n",
       "</div>"
      ],
      "text/plain": [
       "            market_mvrv_z_score\n",
       "t                              \n",
       "2020-11-11             2.411581\n",
       "2020-11-12             2.491910"
      ]
     },
     "execution_count": 43,
     "metadata": {},
     "output_type": "execute_result"
    }
   ],
   "source": [
    "mvrv_z = gn.get('https://api.glassnode.com/v1/metrics/market/mvrv_z_score',  a='btc', s='2010', u=today)\n",
    "mvrv_z.to_csv('data/mvrv_z.csv')\n",
    "print(mvrv_z.shape)\n",
    "mvrv_z.tail(2)"
   ]
  },
  {
   "cell_type": "code",
   "execution_count": 44,
   "metadata": {},
   "outputs": [
    {
     "name": "stdout",
     "output_type": "stream",
     "text": [
      "(3251, 1)\n"
     ]
    },
    {
     "data": {
      "text/html": [
       "<div>\n",
       "<style scoped>\n",
       "    .dataframe tbody tr th:only-of-type {\n",
       "        vertical-align: middle;\n",
       "    }\n",
       "\n",
       "    .dataframe tbody tr th {\n",
       "        vertical-align: top;\n",
       "    }\n",
       "\n",
       "    .dataframe thead th {\n",
       "        text-align: right;\n",
       "    }\n",
       "</style>\n",
       "<table border=\"1\" class=\"dataframe\">\n",
       "  <thead>\n",
       "    <tr style=\"text-align: right;\">\n",
       "      <th></th>\n",
       "      <th>market_mvrv_more_155</th>\n",
       "    </tr>\n",
       "    <tr>\n",
       "      <th>t</th>\n",
       "      <th></th>\n",
       "    </tr>\n",
       "  </thead>\n",
       "  <tbody>\n",
       "    <tr>\n",
       "      <th>2019-11-11</th>\n",
       "      <td>1.847862</td>\n",
       "    </tr>\n",
       "    <tr>\n",
       "      <th>2019-11-12</th>\n",
       "      <td>1.860393</td>\n",
       "    </tr>\n",
       "  </tbody>\n",
       "</table>\n",
       "</div>"
      ],
      "text/plain": [
       "            market_mvrv_more_155\n",
       "t                               \n",
       "2019-11-11              1.847862\n",
       "2019-11-12              1.860393"
      ]
     },
     "execution_count": 44,
     "metadata": {},
     "output_type": "execute_result"
    }
   ],
   "source": [
    "lt_mvrv = gn.get('https://api.glassnode.com/v1/metrics/market/mvrv_more_155',  a='btc', s='2010', u=today)\n",
    "lt_mvrv.to_csv('data/lt_mvrv.csv')\n",
    "print(lt_mvrv.shape)\n",
    "lt_mvrv.tail(2)"
   ]
  },
  {
   "cell_type": "code",
   "execution_count": 45,
   "metadata": {},
   "outputs": [
    {
     "name": "stdout",
     "output_type": "stream",
     "text": [
      "(3406, 1)\n"
     ]
    },
    {
     "data": {
      "text/html": [
       "<div>\n",
       "<style scoped>\n",
       "    .dataframe tbody tr th:only-of-type {\n",
       "        vertical-align: middle;\n",
       "    }\n",
       "\n",
       "    .dataframe tbody tr th {\n",
       "        vertical-align: top;\n",
       "    }\n",
       "\n",
       "    .dataframe thead th {\n",
       "        text-align: right;\n",
       "    }\n",
       "</style>\n",
       "<table border=\"1\" class=\"dataframe\">\n",
       "  <thead>\n",
       "    <tr style=\"text-align: right;\">\n",
       "      <th></th>\n",
       "      <th>market_mvrv_less_155</th>\n",
       "    </tr>\n",
       "    <tr>\n",
       "      <th>t</th>\n",
       "      <th></th>\n",
       "    </tr>\n",
       "  </thead>\n",
       "  <tbody>\n",
       "    <tr>\n",
       "      <th>2019-11-11</th>\n",
       "      <td>0.903754</td>\n",
       "    </tr>\n",
       "    <tr>\n",
       "      <th>2019-11-12</th>\n",
       "      <td>0.910524</td>\n",
       "    </tr>\n",
       "  </tbody>\n",
       "</table>\n",
       "</div>"
      ],
      "text/plain": [
       "            market_mvrv_less_155\n",
       "t                               \n",
       "2019-11-11              0.903754\n",
       "2019-11-12              0.910524"
      ]
     },
     "execution_count": 45,
     "metadata": {},
     "output_type": "execute_result"
    }
   ],
   "source": [
    "st_mvrv = gn.get('https://api.glassnode.com/v1/metrics/market/mvrv_less_155',  a='btc', s='2010', u=today)\n",
    "st_mvrv.to_csv('data/st_mvrv.csv')\n",
    "print(st_mvrv.shape)\n",
    "st_mvrv.tail(2)"
   ]
  },
  {
   "cell_type": "code",
   "execution_count": 46,
   "metadata": {},
   "outputs": [],
   "source": [
    "# FUTURES"
   ]
  },
  {
   "cell_type": "code",
   "execution_count": 47,
   "metadata": {},
   "outputs": [],
   "source": [
    "# EXCHANGES"
   ]
  },
  {
   "cell_type": "code",
   "execution_count": 48,
   "metadata": {},
   "outputs": [],
   "source": [
    "# SUPPLY"
   ]
  },
  {
   "cell_type": "code",
   "execution_count": 49,
   "metadata": {},
   "outputs": [],
   "source": [
    "# UTXO"
   ]
  },
  {
   "cell_type": "code",
   "execution_count": 50,
   "metadata": {},
   "outputs": [],
   "source": [
    "# FEES"
   ]
  },
  {
   "cell_type": "code",
   "execution_count": 51,
   "metadata": {},
   "outputs": [],
   "source": [
    "# MINING"
   ]
  },
  {
   "cell_type": "code",
   "execution_count": 52,
   "metadata": {},
   "outputs": [],
   "source": [
    "# DISTRIBUTION"
   ]
  },
  {
   "cell_type": "code",
   "execution_count": 53,
   "metadata": {},
   "outputs": [],
   "source": [
    "# INDICATORS"
   ]
  },
  {
   "cell_type": "code",
   "execution_count": 54,
   "metadata": {},
   "outputs": [
    {
     "name": "stdout",
     "output_type": "stream",
     "text": [
      "(3762, 1)\n"
     ]
    },
    {
     "data": {
      "text/html": [
       "<div>\n",
       "<style scoped>\n",
       "    .dataframe tbody tr th:only-of-type {\n",
       "        vertical-align: middle;\n",
       "    }\n",
       "\n",
       "    .dataframe tbody tr th {\n",
       "        vertical-align: top;\n",
       "    }\n",
       "\n",
       "    .dataframe thead th {\n",
       "        text-align: right;\n",
       "    }\n",
       "</style>\n",
       "<table border=\"1\" class=\"dataframe\">\n",
       "  <thead>\n",
       "    <tr style=\"text-align: right;\">\n",
       "      <th></th>\n",
       "      <th>indicators_sopr</th>\n",
       "    </tr>\n",
       "    <tr>\n",
       "      <th>t</th>\n",
       "      <th></th>\n",
       "    </tr>\n",
       "  </thead>\n",
       "  <tbody>\n",
       "    <tr>\n",
       "      <th>2020-11-01</th>\n",
       "      <td>1.008232</td>\n",
       "    </tr>\n",
       "    <tr>\n",
       "      <th>2020-11-02</th>\n",
       "      <td>1.009327</td>\n",
       "    </tr>\n",
       "  </tbody>\n",
       "</table>\n",
       "</div>"
      ],
      "text/plain": [
       "            indicators_sopr\n",
       "t                          \n",
       "2020-11-01         1.008232\n",
       "2020-11-02         1.009327"
      ]
     },
     "execution_count": 54,
     "metadata": {},
     "output_type": "execute_result"
    }
   ],
   "source": [
    "sopr = gn.get('https://api.glassnode.com/v1/metrics/indicators/sopr', a = 'btc', s='2010', u='2020-11-03')\n",
    "sopr.to_csv('data/sopr.csv')\n",
    "print(sopr.shape)\n",
    "sopr.tail(2)"
   ]
  },
  {
   "cell_type": "code",
   "execution_count": 55,
   "metadata": {},
   "outputs": [
    {
     "name": "stdout",
     "output_type": "stream",
     "text": [
      "<class 'pandas.core.frame.DataFrame'>\n",
      "DatetimeIndex: 3762 entries, 2010-07-17 to 2020-11-02\n",
      "Data columns (total 1 columns):\n",
      " #   Column           Non-Null Count  Dtype  \n",
      "---  ------           --------------  -----  \n",
      " 0   indicators_sopr  3762 non-null   float64\n",
      "dtypes: float64(1)\n",
      "memory usage: 58.8 KB\n"
     ]
    }
   ],
   "source": [
    "sopr.info()"
   ]
  },
  {
   "cell_type": "code",
   "execution_count": 56,
   "metadata": {},
   "outputs": [
    {
     "data": {
      "image/png": "[encoded data removed]",
      "text/plain": [
       "<Figure size 432x288 with 1 Axes>"
      ]
     },
     "metadata": {
      "needs_background": "light"
     },
     "output_type": "display_data"
    }
   ],
   "source": [
    "plt.plot(sopr);"
   ]
  },
  {
   "cell_type": "code",
   "execution_count": 57,
   "metadata": {},
   "outputs": [
    {
     "name": "stdout",
     "output_type": "stream",
     "text": [
      "(3762, 1)\n"
     ]
    },
    {
     "data": {
      "text/html": [
       "<div>\n",
       "<style scoped>\n",
       "    .dataframe tbody tr th:only-of-type {\n",
       "        vertical-align: middle;\n",
       "    }\n",
       "\n",
       "    .dataframe tbody tr th {\n",
       "        vertical-align: top;\n",
       "    }\n",
       "\n",
       "    .dataframe thead th {\n",
       "        text-align: right;\n",
       "    }\n",
       "</style>\n",
       "<table border=\"1\" class=\"dataframe\">\n",
       "  <thead>\n",
       "    <tr style=\"text-align: right;\">\n",
       "      <th></th>\n",
       "      <th>indicators_sopr_adjusted</th>\n",
       "    </tr>\n",
       "    <tr>\n",
       "      <th>t</th>\n",
       "      <th></th>\n",
       "    </tr>\n",
       "  </thead>\n",
       "  <tbody>\n",
       "    <tr>\n",
       "      <th>2020-11-01</th>\n",
       "      <td>1.043032</td>\n",
       "    </tr>\n",
       "    <tr>\n",
       "      <th>2020-11-02</th>\n",
       "      <td>1.047721</td>\n",
       "    </tr>\n",
       "  </tbody>\n",
       "</table>\n",
       "</div>"
      ],
      "text/plain": [
       "            indicators_sopr_adjusted\n",
       "t                                   \n",
       "2020-11-01                  1.043032\n",
       "2020-11-02                  1.047721"
      ]
     },
     "execution_count": 57,
     "metadata": {},
     "output_type": "execute_result"
    }
   ],
   "source": [
    "adj_sopr = gn.get('https://api.glassnode.com/v1/metrics/indicators/sopr_adjusted', a = 'btc', s='2010', u='2020-11-03')\n",
    "adj_sopr.to_csv('data/adj_sopr.csv')\n",
    "print(adj_sopr.shape)\n",
    "adj_sopr.tail(2)"
   ]
  },
  {
   "cell_type": "code",
   "execution_count": 58,
   "metadata": {},
   "outputs": [
    {
     "name": "stdout",
     "output_type": "stream",
     "text": [
      "(3247, 1)\n"
     ]
    },
    {
     "data": {
      "text/html": [
       "<div>\n",
       "<style scoped>\n",
       "    .dataframe tbody tr th:only-of-type {\n",
       "        vertical-align: middle;\n",
       "    }\n",
       "\n",
       "    .dataframe tbody tr th {\n",
       "        vertical-align: top;\n",
       "    }\n",
       "\n",
       "    .dataframe thead th {\n",
       "        text-align: right;\n",
       "    }\n",
       "</style>\n",
       "<table border=\"1\" class=\"dataframe\">\n",
       "  <thead>\n",
       "    <tr style=\"text-align: right;\">\n",
       "      <th></th>\n",
       "      <th>indicators_sopr_more_155</th>\n",
       "    </tr>\n",
       "    <tr>\n",
       "      <th>t</th>\n",
       "      <th></th>\n",
       "    </tr>\n",
       "  </thead>\n",
       "  <tbody>\n",
       "    <tr>\n",
       "      <th>2019-11-11</th>\n",
       "      <td>1.686662</td>\n",
       "    </tr>\n",
       "    <tr>\n",
       "      <th>2019-11-12</th>\n",
       "      <td>1.099436</td>\n",
       "    </tr>\n",
       "  </tbody>\n",
       "</table>\n",
       "</div>"
      ],
      "text/plain": [
       "            indicators_sopr_more_155\n",
       "t                                   \n",
       "2019-11-11                  1.686662\n",
       "2019-11-12                  1.099436"
      ]
     },
     "execution_count": 58,
     "metadata": {},
     "output_type": "execute_result"
    }
   ],
   "source": [
    "lth_sopr = gn.get('https://api.glassnode.com/v1/metrics/indicators/sopr_more_155', a = 'btc', s='2010', u='2020-11-03')\n",
    "lth_sopr.to_csv('data/lth_sopr.csv')\n",
    "print(lth_sopr.shape)\n",
    "lth_sopr.tail(2)"
   ]
  },
  {
   "cell_type": "code",
   "execution_count": 59,
   "metadata": {},
   "outputs": [
    {
     "name": "stdout",
     "output_type": "stream",
     "text": [
      "(3405, 1)\n"
     ]
    },
    {
     "data": {
      "text/html": [
       "<div>\n",
       "<style scoped>\n",
       "    .dataframe tbody tr th:only-of-type {\n",
       "        vertical-align: middle;\n",
       "    }\n",
       "\n",
       "    .dataframe tbody tr th {\n",
       "        vertical-align: top;\n",
       "    }\n",
       "\n",
       "    .dataframe thead th {\n",
       "        text-align: right;\n",
       "    }\n",
       "</style>\n",
       "<table border=\"1\" class=\"dataframe\">\n",
       "  <thead>\n",
       "    <tr style=\"text-align: right;\">\n",
       "      <th></th>\n",
       "      <th>indicators_sopr_less_155</th>\n",
       "    </tr>\n",
       "    <tr>\n",
       "      <th>t</th>\n",
       "      <th></th>\n",
       "    </tr>\n",
       "  </thead>\n",
       "  <tbody>\n",
       "    <tr>\n",
       "      <th>2019-11-11</th>\n",
       "      <td>0.988730</td>\n",
       "    </tr>\n",
       "    <tr>\n",
       "      <th>2019-11-12</th>\n",
       "      <td>0.989607</td>\n",
       "    </tr>\n",
       "  </tbody>\n",
       "</table>\n",
       "</div>"
      ],
      "text/plain": [
       "            indicators_sopr_less_155\n",
       "t                                   \n",
       "2019-11-11                  0.988730\n",
       "2019-11-12                  0.989607"
      ]
     },
     "execution_count": 59,
     "metadata": {},
     "output_type": "execute_result"
    }
   ],
   "source": [
    "sth_sopr = gn.get('https://api.glassnode.com/v1/metrics/indicators/sopr_less_155', a = 'btc', s='2010', u='2020-11-03')\n",
    "sth_sopr.to_csv('data/sth_sopr.csv')\n",
    "print(sth_sopr.shape)\n",
    "sth_sopr.tail(2)"
   ]
  },
  {
   "cell_type": "code",
   "execution_count": 60,
   "metadata": {},
   "outputs": [
    {
     "name": "stdout",
     "output_type": "stream",
     "text": [
      "(3761, 1)\n"
     ]
    },
    {
     "data": {
      "text/html": [
       "<div>\n",
       "<style scoped>\n",
       "    .dataframe tbody tr th:only-of-type {\n",
       "        vertical-align: middle;\n",
       "    }\n",
       "\n",
       "    .dataframe tbody tr th {\n",
       "        vertical-align: top;\n",
       "    }\n",
       "\n",
       "    .dataframe thead th {\n",
       "        text-align: right;\n",
       "    }\n",
       "</style>\n",
       "<table border=\"1\" class=\"dataframe\">\n",
       "  <thead>\n",
       "    <tr style=\"text-align: right;\">\n",
       "      <th></th>\n",
       "      <th>indicators_nvt</th>\n",
       "    </tr>\n",
       "    <tr>\n",
       "      <th>t</th>\n",
       "      <th></th>\n",
       "    </tr>\n",
       "  </thead>\n",
       "  <tbody>\n",
       "    <tr>\n",
       "      <th>2020-11-01</th>\n",
       "      <td>47.832208</td>\n",
       "    </tr>\n",
       "    <tr>\n",
       "      <th>2020-11-02</th>\n",
       "      <td>29.419122</td>\n",
       "    </tr>\n",
       "  </tbody>\n",
       "</table>\n",
       "</div>"
      ],
      "text/plain": [
       "            indicators_nvt\n",
       "t                         \n",
       "2020-11-01       47.832208\n",
       "2020-11-02       29.419122"
      ]
     },
     "execution_count": 60,
     "metadata": {},
     "output_type": "execute_result"
    }
   ],
   "source": [
    "ntv = gn.get('https://api.glassnode.com/v1/metrics/indicators/nvt', a = 'btc', s='2010', u='2020-11-03')\n",
    "ntv.to_csv('data/ntv.csv')\n",
    "print(ntv.shape)\n",
    "ntv.tail(2)"
   ]
  },
  {
   "cell_type": "code",
   "execution_count": 61,
   "metadata": {},
   "outputs": [
    {
     "name": "stdout",
     "output_type": "stream",
     "text": [
      "(3761, 1)\n"
     ]
    },
    {
     "data": {
      "text/html": [
       "<div>\n",
       "<style scoped>\n",
       "    .dataframe tbody tr th:only-of-type {\n",
       "        vertical-align: middle;\n",
       "    }\n",
       "\n",
       "    .dataframe tbody tr th {\n",
       "        vertical-align: top;\n",
       "    }\n",
       "\n",
       "    .dataframe thead th {\n",
       "        text-align: right;\n",
       "    }\n",
       "</style>\n",
       "<table border=\"1\" class=\"dataframe\">\n",
       "  <thead>\n",
       "    <tr style=\"text-align: right;\">\n",
       "      <th></th>\n",
       "      <th>indicators_nvts</th>\n",
       "    </tr>\n",
       "    <tr>\n",
       "      <th>t</th>\n",
       "      <th></th>\n",
       "    </tr>\n",
       "  </thead>\n",
       "  <tbody>\n",
       "    <tr>\n",
       "      <th>2020-11-01</th>\n",
       "      <td>40.719971</td>\n",
       "    </tr>\n",
       "    <tr>\n",
       "      <th>2020-11-02</th>\n",
       "      <td>40.044418</td>\n",
       "    </tr>\n",
       "  </tbody>\n",
       "</table>\n",
       "</div>"
      ],
      "text/plain": [
       "            indicators_nvts\n",
       "t                          \n",
       "2020-11-01        40.719971\n",
       "2020-11-02        40.044418"
      ]
     },
     "execution_count": 61,
     "metadata": {},
     "output_type": "execute_result"
    }
   ],
   "source": [
    "ntvs = gn.get('https://api.glassnode.com/v1/metrics/indicators/nvts', a = 'btc', s='2010', u='2020-11-03')\n",
    "ntvs.to_csv('data/ntvs.csv')\n",
    "print(ntvs.shape)\n",
    "ntvs.tail(2)"
   ]
  },
  {
   "cell_type": "code",
   "execution_count": 62,
   "metadata": {},
   "outputs": [
    {
     "name": "stdout",
     "output_type": "stream",
     "text": [
      "(3733, 1)\n"
     ]
    },
    {
     "data": {
      "text/html": [
       "<div>\n",
       "<style scoped>\n",
       "    .dataframe tbody tr th:only-of-type {\n",
       "        vertical-align: middle;\n",
       "    }\n",
       "\n",
       "    .dataframe tbody tr th {\n",
       "        vertical-align: top;\n",
       "    }\n",
       "\n",
       "    .dataframe thead th {\n",
       "        text-align: right;\n",
       "    }\n",
       "</style>\n",
       "<table border=\"1\" class=\"dataframe\">\n",
       "  <thead>\n",
       "    <tr style=\"text-align: right;\">\n",
       "      <th></th>\n",
       "      <th>indicators_reserve_risk</th>\n",
       "    </tr>\n",
       "    <tr>\n",
       "      <th>t</th>\n",
       "      <th></th>\n",
       "    </tr>\n",
       "  </thead>\n",
       "  <tbody>\n",
       "    <tr>\n",
       "      <th>2020-11-01</th>\n",
       "      <td>0.002290</td>\n",
       "    </tr>\n",
       "    <tr>\n",
       "      <th>2020-11-02</th>\n",
       "      <td>0.002258</td>\n",
       "    </tr>\n",
       "  </tbody>\n",
       "</table>\n",
       "</div>"
      ],
      "text/plain": [
       "            indicators_reserve_risk\n",
       "t                                  \n",
       "2020-11-01                 0.002290\n",
       "2020-11-02                 0.002258"
      ]
     },
     "execution_count": 62,
     "metadata": {},
     "output_type": "execute_result"
    }
   ],
   "source": [
    "reserve_risk = gn.get('https://api.glassnode.com/v1/metrics/indicators/reserve_risk', a = 'btc', s='2010', u='2020-11-03')\n",
    "reserve_risk.to_csv('data/reserve_risk.csv')\n",
    "print(reserve_risk.shape)\n",
    "reserve_risk.tail(2)"
   ]
  },
  {
   "cell_type": "code",
   "execution_count": 63,
   "metadata": {},
   "outputs": [
    {
     "name": "stdout",
     "output_type": "stream",
     "text": [
      "(3959, 1)\n"
     ]
    },
    {
     "data": {
      "text/html": [
       "<div>\n",
       "<style scoped>\n",
       "    .dataframe tbody tr th:only-of-type {\n",
       "        vertical-align: middle;\n",
       "    }\n",
       "\n",
       "    .dataframe tbody tr th {\n",
       "        vertical-align: top;\n",
       "    }\n",
       "\n",
       "    .dataframe thead th {\n",
       "        text-align: right;\n",
       "    }\n",
       "</style>\n",
       "<table border=\"1\" class=\"dataframe\">\n",
       "  <thead>\n",
       "    <tr style=\"text-align: right;\">\n",
       "      <th></th>\n",
       "      <th>indicators_liveliness</th>\n",
       "    </tr>\n",
       "    <tr>\n",
       "      <th>t</th>\n",
       "      <th></th>\n",
       "    </tr>\n",
       "  </thead>\n",
       "  <tbody>\n",
       "    <tr>\n",
       "      <th>2020-11-01</th>\n",
       "      <td>0.597399</td>\n",
       "    </tr>\n",
       "    <tr>\n",
       "      <th>2020-11-02</th>\n",
       "      <td>0.597476</td>\n",
       "    </tr>\n",
       "  </tbody>\n",
       "</table>\n",
       "</div>"
      ],
      "text/plain": [
       "            indicators_liveliness\n",
       "t                                \n",
       "2020-11-01               0.597399\n",
       "2020-11-02               0.597476"
      ]
     },
     "execution_count": 63,
     "metadata": {},
     "output_type": "execute_result"
    }
   ],
   "source": [
    "liveliness = gn.get('https://api.glassnode.com/v1/metrics/indicators/liveliness', a = 'btc', s='2010', u='2020-11-03')\n",
    "liveliness.to_csv('data/liveliness.csv')\n",
    "print(liveliness.shape)\n",
    "liveliness.tail(2)"
   ]
  },
  {
   "cell_type": "code",
   "execution_count": 64,
   "metadata": {},
   "outputs": [
    {
     "name": "stdout",
     "output_type": "stream",
     "text": [
      "(3762, 1)\n"
     ]
    },
    {
     "data": {
      "text/html": [
       "<div>\n",
       "<style scoped>\n",
       "    .dataframe tbody tr th:only-of-type {\n",
       "        vertical-align: middle;\n",
       "    }\n",
       "\n",
       "    .dataframe tbody tr th {\n",
       "        vertical-align: top;\n",
       "    }\n",
       "\n",
       "    .dataframe thead th {\n",
       "        text-align: right;\n",
       "    }\n",
       "</style>\n",
       "<table border=\"1\" class=\"dataframe\">\n",
       "  <thead>\n",
       "    <tr style=\"text-align: right;\">\n",
       "      <th></th>\n",
       "      <th>indicators_realized_profit</th>\n",
       "    </tr>\n",
       "    <tr>\n",
       "      <th>t</th>\n",
       "      <th></th>\n",
       "    </tr>\n",
       "  </thead>\n",
       "  <tbody>\n",
       "    <tr>\n",
       "      <th>2020-11-01</th>\n",
       "      <td>2.633819e+08</td>\n",
       "    </tr>\n",
       "    <tr>\n",
       "      <th>2020-11-02</th>\n",
       "      <td>3.721412e+08</td>\n",
       "    </tr>\n",
       "  </tbody>\n",
       "</table>\n",
       "</div>"
      ],
      "text/plain": [
       "            indicators_realized_profit\n",
       "t                                     \n",
       "2020-11-01                2.633819e+08\n",
       "2020-11-02                3.721412e+08"
      ]
     },
     "execution_count": 64,
     "metadata": {},
     "output_type": "execute_result"
    }
   ],
   "source": [
    "realized_profit = gn.get('https://api.glassnode.com/v1/metrics/indicators/realized_profit', a = 'btc', s='2010', u='2020-11-03')\n",
    "realized_profit.to_csv('data/realized_profit.csv')\n",
    "print(realized_profit.shape)\n",
    "realized_profit.tail(2)"
   ]
  },
  {
   "cell_type": "code",
   "execution_count": 65,
   "metadata": {},
   "outputs": [
    {
     "name": "stdout",
     "output_type": "stream",
     "text": [
      "(3761, 1)\n"
     ]
    },
    {
     "data": {
      "text/html": [
       "<div>\n",
       "<style scoped>\n",
       "    .dataframe tbody tr th:only-of-type {\n",
       "        vertical-align: middle;\n",
       "    }\n",
       "\n",
       "    .dataframe tbody tr th {\n",
       "        vertical-align: top;\n",
       "    }\n",
       "\n",
       "    .dataframe thead th {\n",
       "        text-align: right;\n",
       "    }\n",
       "</style>\n",
       "<table border=\"1\" class=\"dataframe\">\n",
       "  <thead>\n",
       "    <tr style=\"text-align: right;\">\n",
       "      <th></th>\n",
       "      <th>indicators_net_unrealized_profit_loss</th>\n",
       "    </tr>\n",
       "    <tr>\n",
       "      <th>t</th>\n",
       "      <th></th>\n",
       "    </tr>\n",
       "  </thead>\n",
       "  <tbody>\n",
       "    <tr>\n",
       "      <th>2020-11-01</th>\n",
       "      <td>0.521869</td>\n",
       "    </tr>\n",
       "    <tr>\n",
       "      <th>2020-11-02</th>\n",
       "      <td>0.515162</td>\n",
       "    </tr>\n",
       "  </tbody>\n",
       "</table>\n",
       "</div>"
      ],
      "text/plain": [
       "            indicators_net_unrealized_profit_loss\n",
       "t                                                \n",
       "2020-11-01                               0.521869\n",
       "2020-11-02                               0.515162"
      ]
     },
     "execution_count": 65,
     "metadata": {},
     "output_type": "execute_result"
    }
   ],
   "source": [
    "nupl = gn.get('https://api.glassnode.com/v1/metrics/indicators/net_unrealized_profit_loss', a = 'btc', s='2010', u='2020-11-03')\n",
    "nupl.to_csv('data/nupl.csv')\n",
    "print(nupl.shape)\n",
    "nupl.tail(2)"
   ]
  },
  {
   "cell_type": "code",
   "execution_count": 66,
   "metadata": {},
   "outputs": [
    {
     "name": "stdout",
     "output_type": "stream",
     "text": [
      "(3607, 1)\n"
     ]
    },
    {
     "data": {
      "text/html": [
       "<div>\n",
       "<style scoped>\n",
       "    .dataframe tbody tr th:only-of-type {\n",
       "        vertical-align: middle;\n",
       "    }\n",
       "\n",
       "    .dataframe tbody tr th {\n",
       "        vertical-align: top;\n",
       "    }\n",
       "\n",
       "    .dataframe thead th {\n",
       "        text-align: right;\n",
       "    }\n",
       "</style>\n",
       "<table border=\"1\" class=\"dataframe\">\n",
       "  <thead>\n",
       "    <tr style=\"text-align: right;\">\n",
       "      <th></th>\n",
       "      <th>indicators_nupl_more_155</th>\n",
       "    </tr>\n",
       "    <tr>\n",
       "      <th>t</th>\n",
       "      <th></th>\n",
       "    </tr>\n",
       "  </thead>\n",
       "  <tbody>\n",
       "    <tr>\n",
       "      <th>2020-11-01</th>\n",
       "      <td>0.592573</td>\n",
       "    </tr>\n",
       "    <tr>\n",
       "      <th>2020-11-02</th>\n",
       "      <td>0.588429</td>\n",
       "    </tr>\n",
       "  </tbody>\n",
       "</table>\n",
       "</div>"
      ],
      "text/plain": [
       "            indicators_nupl_more_155\n",
       "t                                   \n",
       "2020-11-01                  0.592573\n",
       "2020-11-02                  0.588429"
      ]
     },
     "execution_count": 66,
     "metadata": {},
     "output_type": "execute_result"
    }
   ],
   "source": [
    "lt_nupl = gn.get('https://api.glassnode.com/v1/metrics/indicators/nupl_more_155', a = 'btc', s='2010', u='2020-11-03')\n",
    "lt_nupl.to_csv('data/lt_nupl.csv')\n",
    "print(lt_nupl.shape)\n",
    "lt_nupl.tail(2)"
   ]
  },
  {
   "cell_type": "code",
   "execution_count": 67,
   "metadata": {},
   "outputs": [
    {
     "name": "stdout",
     "output_type": "stream",
     "text": [
      "(3398, 1)\n"
     ]
    },
    {
     "data": {
      "text/html": [
       "<div>\n",
       "<style scoped>\n",
       "    .dataframe tbody tr th:only-of-type {\n",
       "        vertical-align: middle;\n",
       "    }\n",
       "\n",
       "    .dataframe tbody tr th {\n",
       "        vertical-align: top;\n",
       "    }\n",
       "\n",
       "    .dataframe thead th {\n",
       "        text-align: right;\n",
       "    }\n",
       "</style>\n",
       "<table border=\"1\" class=\"dataframe\">\n",
       "  <thead>\n",
       "    <tr style=\"text-align: right;\">\n",
       "      <th></th>\n",
       "      <th>indicators_puell_multiple</th>\n",
       "    </tr>\n",
       "    <tr>\n",
       "      <th>t</th>\n",
       "      <th></th>\n",
       "    </tr>\n",
       "  </thead>\n",
       "  <tbody>\n",
       "    <tr>\n",
       "      <th>2020-11-01</th>\n",
       "      <td>0.883858</td>\n",
       "    </tr>\n",
       "    <tr>\n",
       "      <th>2020-11-02</th>\n",
       "      <td>0.664141</td>\n",
       "    </tr>\n",
       "  </tbody>\n",
       "</table>\n",
       "</div>"
      ],
      "text/plain": [
       "            indicators_puell_multiple\n",
       "t                                    \n",
       "2020-11-01                   0.883858\n",
       "2020-11-02                   0.664141"
      ]
     },
     "execution_count": 67,
     "metadata": {},
     "output_type": "execute_result"
    }
   ],
   "source": [
    "puell = gn.get('https://api.glassnode.com/v1/metrics/indicators/puell_multiple', a = 'btc', s='2010', u='2020-11-03')\n",
    "puell.to_csv('data/puell.csv')\n",
    "print(puell.shape)\n",
    "puell.tail(2)"
   ]
  },
  {
   "cell_type": "code",
   "execution_count": 68,
   "metadata": {},
   "outputs": [
    {
     "name": "stdout",
     "output_type": "stream",
     "text": [
      "(3603, 1)\n"
     ]
    },
    {
     "data": {
      "text/html": [
       "<div>\n",
       "<style scoped>\n",
       "    .dataframe tbody tr th:only-of-type {\n",
       "        vertical-align: middle;\n",
       "    }\n",
       "\n",
       "    .dataframe tbody tr th {\n",
       "        vertical-align: top;\n",
       "    }\n",
       "\n",
       "    .dataframe thead th {\n",
       "        text-align: right;\n",
       "    }\n",
       "</style>\n",
       "<table border=\"1\" class=\"dataframe\">\n",
       "  <thead>\n",
       "    <tr style=\"text-align: right;\">\n",
       "      <th></th>\n",
       "      <th>indicators_hodled_lost_coins</th>\n",
       "    </tr>\n",
       "    <tr>\n",
       "      <th>t</th>\n",
       "      <th></th>\n",
       "    </tr>\n",
       "  </thead>\n",
       "  <tbody>\n",
       "    <tr>\n",
       "      <th>2019-11-11</th>\n",
       "      <td>7.023522e+06</td>\n",
       "    </tr>\n",
       "    <tr>\n",
       "      <th>2019-11-12</th>\n",
       "      <td>7.026466e+06</td>\n",
       "    </tr>\n",
       "  </tbody>\n",
       "</table>\n",
       "</div>"
      ],
      "text/plain": [
       "            indicators_hodled_lost_coins\n",
       "t                                       \n",
       "2019-11-11                  7.023522e+06\n",
       "2019-11-12                  7.026466e+06"
      ]
     },
     "execution_count": 68,
     "metadata": {},
     "output_type": "execute_result"
    }
   ],
   "source": [
    "hodled_lost = gn.get('https://api.glassnode.com/v1/metrics/indicators/hodled_lost_coins', a = 'btc', s='2010', u='2020-11-03')\n",
    "hodled_lost.to_csv('data/hodled_lost.csv')\n",
    "print(hodled_lost.shape)\n",
    "hodled_lost.tail(2)"
   ]
  },
  {
   "cell_type": "code",
   "execution_count": 69,
   "metadata": {},
   "outputs": [
    {
     "name": "stdout",
     "output_type": "stream",
     "text": [
      "(3958, 1)\n"
     ]
    },
    {
     "data": {
      "text/html": [
       "<div>\n",
       "<style scoped>\n",
       "    .dataframe tbody tr th:only-of-type {\n",
       "        vertical-align: middle;\n",
       "    }\n",
       "\n",
       "    .dataframe tbody tr th {\n",
       "        vertical-align: top;\n",
       "    }\n",
       "\n",
       "    .dataframe thead th {\n",
       "        text-align: right;\n",
       "    }\n",
       "</style>\n",
       "<table border=\"1\" class=\"dataframe\">\n",
       "  <thead>\n",
       "    <tr style=\"text-align: right;\">\n",
       "      <th></th>\n",
       "      <th>o</th>\n",
       "    </tr>\n",
       "    <tr>\n",
       "      <th>t</th>\n",
       "      <th></th>\n",
       "    </tr>\n",
       "  </thead>\n",
       "  <tbody>\n",
       "    <tr>\n",
       "      <th>2020-11-01</th>\n",
       "      <td>{'daysTillHalving': 1274, 'ratio': 23782.09278...</td>\n",
       "    </tr>\n",
       "    <tr>\n",
       "      <th>2020-11-02</th>\n",
       "      <td>{'daysTillHalving': 1273, 'ratio': 23964.59587...</td>\n",
       "    </tr>\n",
       "  </tbody>\n",
       "</table>\n",
       "</div>"
      ],
      "text/plain": [
       "                                                            o\n",
       "t                                                            \n",
       "2020-11-01  {'daysTillHalving': 1274, 'ratio': 23782.09278...\n",
       "2020-11-02  {'daysTillHalving': 1273, 'ratio': 23964.59587..."
      ]
     },
     "execution_count": 69,
     "metadata": {},
     "output_type": "execute_result"
    }
   ],
   "source": [
    "s2f = gn.get('https://api.glassnode.com/v1/metrics/indicators/stock_to_flow_ratio', a = 'btc', s='2010', u='2020-11-03')\n",
    "s2f.to_csv('data/s2f.csv')\n",
    "print(s2f.shape)\n",
    "s2f.tail(2)"
   ]
  },
  {
   "cell_type": "code",
   "execution_count": 70,
   "metadata": {},
   "outputs": [],
   "source": [
    "# s2f.loc['2020-11-02']"
   ]
  },
  {
   "cell_type": "code",
   "execution_count": 71,
   "metadata": {},
   "outputs": [],
   "source": [
    "# s2f['o'][-1]['ratio']"
   ]
  },
  {
   "cell_type": "code",
   "execution_count": 72,
   "metadata": {},
   "outputs": [
    {
     "name": "stdout",
     "output_type": "stream",
     "text": [
      "(3405, 1)\n"
     ]
    },
    {
     "data": {
      "text/html": [
       "<div>\n",
       "<style scoped>\n",
       "    .dataframe tbody tr th:only-of-type {\n",
       "        vertical-align: middle;\n",
       "    }\n",
       "\n",
       "    .dataframe tbody tr th {\n",
       "        vertical-align: top;\n",
       "    }\n",
       "\n",
       "    .dataframe thead th {\n",
       "        text-align: right;\n",
       "    }\n",
       "</style>\n",
       "<table border=\"1\" class=\"dataframe\">\n",
       "  <thead>\n",
       "    <tr style=\"text-align: right;\">\n",
       "      <th></th>\n",
       "      <th>indicators_sopr_account_based</th>\n",
       "    </tr>\n",
       "    <tr>\n",
       "      <th>t</th>\n",
       "      <th></th>\n",
       "    </tr>\n",
       "  </thead>\n",
       "  <tbody>\n",
       "    <tr>\n",
       "      <th>2019-11-11</th>\n",
       "      <td>1.001608</td>\n",
       "    </tr>\n",
       "    <tr>\n",
       "      <th>2019-11-12</th>\n",
       "      <td>0.990341</td>\n",
       "    </tr>\n",
       "  </tbody>\n",
       "</table>\n",
       "</div>"
      ],
      "text/plain": [
       "            indicators_sopr_account_based\n",
       "t                                        \n",
       "2019-11-11                       1.001608\n",
       "2019-11-12                       0.990341"
      ]
     },
     "execution_count": 72,
     "metadata": {},
     "output_type": "execute_result"
    }
   ],
   "source": [
    "ent_adj_sopr = gn.get('https://api.glassnode.com/v1/metrics/indicators/sopr_account_based', a = 'btc', s='2010', u='2020-11-03')\n",
    "ent_adj_sopr.to_csv('data/ent_adj_sopr.csv')\n",
    "print(ent_adj_sopr.shape)\n",
    "ent_adj_sopr.tail(2)"
   ]
  },
  {
   "cell_type": "code",
   "execution_count": 73,
   "metadata": {},
   "outputs": [
    {
     "name": "stdout",
     "output_type": "stream",
     "text": [
      "(3603, 1)\n"
     ]
    },
    {
     "data": {
      "text/html": [
       "<div>\n",
       "<style scoped>\n",
       "    .dataframe tbody tr th:only-of-type {\n",
       "        vertical-align: middle;\n",
       "    }\n",
       "\n",
       "    .dataframe tbody tr th {\n",
       "        vertical-align: top;\n",
       "    }\n",
       "\n",
       "    .dataframe thead th {\n",
       "        text-align: right;\n",
       "    }\n",
       "</style>\n",
       "<table border=\"1\" class=\"dataframe\">\n",
       "  <thead>\n",
       "    <tr style=\"text-align: right;\">\n",
       "      <th></th>\n",
       "      <th>indicators_liveliness_account_based</th>\n",
       "    </tr>\n",
       "    <tr>\n",
       "      <th>t</th>\n",
       "      <th></th>\n",
       "    </tr>\n",
       "  </thead>\n",
       "  <tbody>\n",
       "    <tr>\n",
       "      <th>2019-11-11</th>\n",
       "      <td>0.610319</td>\n",
       "    </tr>\n",
       "    <tr>\n",
       "      <th>2019-11-12</th>\n",
       "      <td>0.610220</td>\n",
       "    </tr>\n",
       "  </tbody>\n",
       "</table>\n",
       "</div>"
      ],
      "text/plain": [
       "            indicators_liveliness_account_based\n",
       "t                                              \n",
       "2019-11-11                             0.610319\n",
       "2019-11-12                             0.610220"
      ]
     },
     "execution_count": 73,
     "metadata": {},
     "output_type": "execute_result"
    }
   ],
   "source": [
    "ent_adj_liv = gn.get('https://api.glassnode.com/v1/metrics/indicators/liveliness_account_based', a = 'btc', s='2010', u='2020-11-03')\n",
    "ent_adj_liv.to_csv('data/ent_adj_liv.csv')\n",
    "print(ent_adj_liv.shape)\n",
    "ent_adj_liv.tail(2)"
   ]
  },
  {
   "cell_type": "code",
   "execution_count": 74,
   "metadata": {},
   "outputs": [
    {
     "name": "stdout",
     "output_type": "stream",
     "text": [
      "(3405, 1)\n"
     ]
    },
    {
     "data": {
      "text/html": [
       "<div>\n",
       "<style scoped>\n",
       "    .dataframe tbody tr th:only-of-type {\n",
       "        vertical-align: middle;\n",
       "    }\n",
       "\n",
       "    .dataframe tbody tr th {\n",
       "        vertical-align: top;\n",
       "    }\n",
       "\n",
       "    .dataframe thead th {\n",
       "        text-align: right;\n",
       "    }\n",
       "</style>\n",
       "<table border=\"1\" class=\"dataframe\">\n",
       "  <thead>\n",
       "    <tr style=\"text-align: right;\">\n",
       "      <th></th>\n",
       "      <th>indicators_mvrv_account_based</th>\n",
       "    </tr>\n",
       "    <tr>\n",
       "      <th>t</th>\n",
       "      <th></th>\n",
       "    </tr>\n",
       "  </thead>\n",
       "  <tbody>\n",
       "    <tr>\n",
       "      <th>2019-11-11</th>\n",
       "      <td>1.503845</td>\n",
       "    </tr>\n",
       "    <tr>\n",
       "      <th>2019-11-12</th>\n",
       "      <td>1.494573</td>\n",
       "    </tr>\n",
       "  </tbody>\n",
       "</table>\n",
       "</div>"
      ],
      "text/plain": [
       "            indicators_mvrv_account_based\n",
       "t                                        \n",
       "2019-11-11                       1.503845\n",
       "2019-11-12                       1.494573"
      ]
     },
     "execution_count": 74,
     "metadata": {},
     "output_type": "execute_result"
    }
   ],
   "source": [
    "ent_adj_mvrv = gn.get('https://api.glassnode.com/v1/metrics/indicators/mvrv_account_based', a = 'btc', s='2010', u='2020-11-03')\n",
    "ent_adj_mvrv.to_csv('data/ent_adj_mvrv.csv')\n",
    "print(ent_adj_mvrv.shape)\n",
    "ent_adj_mvrv.tail(2)"
   ]
  },
  {
   "cell_type": "code",
   "execution_count": 75,
   "metadata": {},
   "outputs": [
    {
     "name": "stdout",
     "output_type": "stream",
     "text": [
      "(3405, 1)\n"
     ]
    },
    {
     "data": {
      "text/html": [
       "<div>\n",
       "<style scoped>\n",
       "    .dataframe tbody tr th:only-of-type {\n",
       "        vertical-align: middle;\n",
       "    }\n",
       "\n",
       "    .dataframe tbody tr th {\n",
       "        vertical-align: top;\n",
       "    }\n",
       "\n",
       "    .dataframe thead th {\n",
       "        text-align: right;\n",
       "    }\n",
       "</style>\n",
       "<table border=\"1\" class=\"dataframe\">\n",
       "  <thead>\n",
       "    <tr style=\"text-align: right;\">\n",
       "      <th></th>\n",
       "      <th>indicators_net_unrealized_profit_loss_account_based</th>\n",
       "    </tr>\n",
       "    <tr>\n",
       "      <th>t</th>\n",
       "      <th></th>\n",
       "    </tr>\n",
       "  </thead>\n",
       "  <tbody>\n",
       "    <tr>\n",
       "      <th>2019-11-11</th>\n",
       "      <td>0.328175</td>\n",
       "    </tr>\n",
       "    <tr>\n",
       "      <th>2019-11-12</th>\n",
       "      <td>0.333054</td>\n",
       "    </tr>\n",
       "  </tbody>\n",
       "</table>\n",
       "</div>"
      ],
      "text/plain": [
       "            indicators_net_unrealized_profit_loss_account_based\n",
       "t                                                              \n",
       "2019-11-11                                           0.328175  \n",
       "2019-11-12                                           0.333054  "
      ]
     },
     "execution_count": 75,
     "metadata": {},
     "output_type": "execute_result"
    }
   ],
   "source": [
    "ent_adj_nupl = gn.get('https://api.glassnode.com/v1/metrics/indicators/net_unrealized_profit_loss_account_based', a = 'btc', s='2010', u='2020-11-03')\n",
    "ent_adj_nupl.to_csv('data/ent_adj_nupl.csv')\n",
    "print(ent_adj_nupl.shape)\n",
    "ent_adj_nupl.tail(2)"
   ]
  },
  {
   "cell_type": "code",
   "execution_count": 76,
   "metadata": {},
   "outputs": [
    {
     "name": "stdout",
     "output_type": "stream",
     "text": [
      "(3405, 1)\n"
     ]
    },
    {
     "data": {
      "text/html": [
       "<div>\n",
       "<style scoped>\n",
       "    .dataframe tbody tr th:only-of-type {\n",
       "        vertical-align: middle;\n",
       "    }\n",
       "\n",
       "    .dataframe tbody tr th {\n",
       "        vertical-align: top;\n",
       "    }\n",
       "\n",
       "    .dataframe thead th {\n",
       "        text-align: right;\n",
       "    }\n",
       "</style>\n",
       "<table border=\"1\" class=\"dataframe\">\n",
       "  <thead>\n",
       "    <tr style=\"text-align: right;\">\n",
       "      <th></th>\n",
       "      <th>indicators_nupl_more_155_account_based</th>\n",
       "    </tr>\n",
       "    <tr>\n",
       "      <th>t</th>\n",
       "      <th></th>\n",
       "    </tr>\n",
       "  </thead>\n",
       "  <tbody>\n",
       "    <tr>\n",
       "      <th>2019-11-11</th>\n",
       "      <td>0.498427</td>\n",
       "    </tr>\n",
       "    <tr>\n",
       "      <th>2019-11-12</th>\n",
       "      <td>0.501686</td>\n",
       "    </tr>\n",
       "  </tbody>\n",
       "</table>\n",
       "</div>"
      ],
      "text/plain": [
       "            indicators_nupl_more_155_account_based\n",
       "t                                                 \n",
       "2019-11-11                                0.498427\n",
       "2019-11-12                                0.501686"
      ]
     },
     "execution_count": 76,
     "metadata": {},
     "output_type": "execute_result"
    }
   ],
   "source": [
    "ent_adj_lth_nupl = gn.get('https://api.glassnode.com/v1/metrics/indicators/nupl_more_155_account_based', a = 'btc', s='2010', u='2020-11-03')\n",
    "ent_adj_lth_nupl.to_csv('data/ent_adj_lth_nupl.csv')\n",
    "print(ent_adj_lth_nupl.shape)\n",
    "ent_adj_lth_nupl.tail(2)"
   ]
  },
  {
   "cell_type": "code",
   "execution_count": 77,
   "metadata": {},
   "outputs": [
    {
     "name": "stdout",
     "output_type": "stream",
     "text": [
      "(3959, 1)\n"
     ]
    },
    {
     "data": {
      "text/html": [
       "<div>\n",
       "<style scoped>\n",
       "    .dataframe tbody tr th:only-of-type {\n",
       "        vertical-align: middle;\n",
       "    }\n",
       "\n",
       "    .dataframe tbody tr th {\n",
       "        vertical-align: top;\n",
       "    }\n",
       "\n",
       "    .dataframe thead th {\n",
       "        text-align: right;\n",
       "    }\n",
       "</style>\n",
       "<table border=\"1\" class=\"dataframe\">\n",
       "  <thead>\n",
       "    <tr style=\"text-align: right;\">\n",
       "      <th></th>\n",
       "      <th>o</th>\n",
       "    </tr>\n",
       "    <tr>\n",
       "      <th>t</th>\n",
       "      <th></th>\n",
       "    </tr>\n",
       "  </thead>\n",
       "  <tbody>\n",
       "    <tr>\n",
       "      <th>2020-11-01</th>\n",
       "      <td>{'ma128': 76540176425025570000000, 'ma14': 858...</td>\n",
       "    </tr>\n",
       "    <tr>\n",
       "      <th>2020-11-02</th>\n",
       "      <td>{'ma128': 76681527546396830000000, 'ma14': 858...</td>\n",
       "    </tr>\n",
       "  </tbody>\n",
       "</table>\n",
       "</div>"
      ],
      "text/plain": [
       "                                                            o\n",
       "t                                                            \n",
       "2020-11-01  {'ma128': 76540176425025570000000, 'ma14': 858...\n",
       "2020-11-02  {'ma128': 76681527546396830000000, 'ma14': 858..."
      ]
     },
     "execution_count": 77,
     "metadata": {},
     "output_type": "execute_result"
    }
   ],
   "source": [
    "diff_ribbon = gn.get('https://api.glassnode.com/v1/metrics/indicators/difficulty_ribbon', a = 'btc', s='2010', u='2020-11-03')\n",
    "diff_ribbon.to_csv('data/diff_ribbon.csv')\n",
    "print(diff_ribbon.shape)\n",
    "diff_ribbon.tail(2)"
   ]
  },
  {
   "cell_type": "code",
   "execution_count": 78,
   "metadata": {},
   "outputs": [
    {
     "name": "stdout",
     "output_type": "stream",
     "text": [
      "(3959, 1)\n"
     ]
    },
    {
     "data": {
      "text/html": [
       "<div>\n",
       "<style scoped>\n",
       "    .dataframe tbody tr th:only-of-type {\n",
       "        vertical-align: middle;\n",
       "    }\n",
       "\n",
       "    .dataframe tbody tr th {\n",
       "        vertical-align: top;\n",
       "    }\n",
       "\n",
       "    .dataframe thead th {\n",
       "        text-align: right;\n",
       "    }\n",
       "</style>\n",
       "<table border=\"1\" class=\"dataframe\">\n",
       "  <thead>\n",
       "    <tr style=\"text-align: right;\">\n",
       "      <th></th>\n",
       "      <th>o</th>\n",
       "    </tr>\n",
       "    <tr>\n",
       "      <th>t</th>\n",
       "      <th></th>\n",
       "    </tr>\n",
       "  </thead>\n",
       "  <tbody>\n",
       "    <tr>\n",
       "      <th>2020-11-01</th>\n",
       "      <td>{'crossed': 0, 'ma30': 132116135061810950000, ...</td>\n",
       "    </tr>\n",
       "    <tr>\n",
       "      <th>2020-11-02</th>\n",
       "      <td>{'crossed': 0, 'ma30': 130467200605520760000, ...</td>\n",
       "    </tr>\n",
       "  </tbody>\n",
       "</table>\n",
       "</div>"
      ],
      "text/plain": [
       "                                                            o\n",
       "t                                                            \n",
       "2020-11-01  {'crossed': 0, 'ma30': 132116135061810950000, ...\n",
       "2020-11-02  {'crossed': 0, 'ma30': 130467200605520760000, ..."
      ]
     },
     "execution_count": 78,
     "metadata": {},
     "output_type": "execute_result"
    }
   ],
   "source": [
    "hash_ribbon = gn.get('https://api.glassnode.com/v1/metrics/indicators/hash_ribbon', a = 'btc', s='2010', u='2020-11-03')\n",
    "hash_ribbon.to_csv('data/hash_ribbon.csv')\n",
    "print(hash_ribbon.shape)\n",
    "hash_ribbon.tail(2)"
   ]
  },
  {
   "cell_type": "code",
   "execution_count": 79,
   "metadata": {},
   "outputs": [],
   "source": [
    "# merging all files into one dataframe\n",
    "directoryPath = 'data/'\n",
    "glued_data = pd.DataFrame()\n",
    "for file_name in glob.glob(directoryPath+'*.csv'):\n",
    "    x = pd.read_csv(file_name, low_memory=False)\n",
    "    glued_data = pd.concat([glued_data,x],axis=0)"
   ]
  },
  {
   "cell_type": "code",
   "execution_count": 80,
   "metadata": {},
   "outputs": [],
   "source": [
    "combined = glued_data.groupby('t').mean()"
   ]
  },
  {
   "cell_type": "code",
   "execution_count": 81,
   "metadata": {},
   "outputs": [
    {
     "name": "stdout",
     "output_type": "stream",
     "text": [
      "<class 'pandas.core.frame.DataFrame'>\n",
      "Index: 3969 entries, 2010-01-01 to 2020-11-12\n",
      "Data columns (total 49 columns):\n",
      " #   Column                                               Non-Null Count  Dtype  \n",
      "---  ------                                               --------------  -----  \n",
      " 0   market_mvrv_more_155                                 3251 non-null   float64\n",
      " 1   addresses_accumulation_balance                       3603 non-null   float64\n",
      " 2   addresses_new_non_zero_count                         3969 non-null   float64\n",
      " 3   indicators_sopr_account_based                        3405 non-null   float64\n",
      " 4   indicators_sopr_adjusted                             3604 non-null   float64\n",
      " 5   transactions_rate                                    3969 non-null   float64\n",
      " 6   market_mvrv                                          3772 non-null   float64\n",
      " 7   addresses_accumulation_count                         3603 non-null   float64\n",
      " 8   entities_receiving_count                             3603 non-null   float64\n",
      " 9   market_marketcap_usd                                 3772 non-null   float64\n",
      " 10  indicators_nvts                                      3761 non-null   float64\n",
      " 11  addresses_min_1k_count                               3969 non-null   float64\n",
      " 12  indicators_puell_multiple                            3398 non-null   float64\n",
      " 13  transactions_transfers_volume_entity_adjusted_sum    3603 non-null   float64\n",
      " 14  entities_net_growth_count                            3603 non-null   float64\n",
      " 15  indicators_sopr_more_155                             3247 non-null   float64\n",
      " 16  market_price_drawdown_relative                       3772 non-null   float64\n",
      " 17  entities_min_1k_count                                3603 non-null   float64\n",
      " 18  market_price_realized_usd                            3969 non-null   float64\n",
      " 19  market_mvrv_less_155                                 3406 non-null   float64\n",
      " 20  indicators_net_unrealized_profit_loss_account_based  3405 non-null   float64\n",
      " 21  transactions_transfers_volume_adjusted_sum           3969 non-null   float64\n",
      " 22  indicators_hodled_lost_coins                         3603 non-null   float64\n",
      " 23  indicators_sopr                                      3762 non-null   float64\n",
      " 24  addresses_profit_relative                            3405 non-null   float64\n",
      " 25  entities_new_count                                   3603 non-null   float64\n",
      " 26  market_mvrv_z_score                                  3771 non-null   float64\n",
      " 27  indicators_mvrv_account_based                        3405 non-null   float64\n",
      " 28  transactions_size_sum                                3957 non-null   float64\n",
      " 29  entities_profit_relative                             3405 non-null   float64\n",
      " 30  transactions_transfers_volume_miners_net             3603 non-null   float64\n",
      " 31  indicators_nupl_more_155_account_based               3405 non-null   float64\n",
      " 32  indicators_liveliness                                3959 non-null   float64\n",
      " 33  indicators_liveliness_account_based                  3603 non-null   float64\n",
      " 34  transactions_entity_adjusted_count                   3603 non-null   float64\n",
      " 35  transactions_count                                   3969 non-null   float64\n",
      " 36  addresses_min_10k_count                              3969 non-null   float64\n",
      " 37  indicators_reserve_risk                              3733 non-null   float64\n",
      " 38  indicators_realized_profit                           3762 non-null   float64\n",
      " 39  addresses_count                                      3969 non-null   float64\n",
      " 40  indicators_nupl_more_155                             3607 non-null   float64\n",
      " 41  addresses_active_count                               3969 non-null   float64\n",
      " 42  market_marketcap_realized_usd                        3969 non-null   float64\n",
      " 43  market_price_usd_close                               3772 non-null   float64\n",
      " 44  addresses_non_zero_count                             3969 non-null   float64\n",
      " 45  indicators_nvt                                       3761 non-null   float64\n",
      " 46  entities_active_count                                3603 non-null   float64\n",
      " 47  indicators_net_unrealized_profit_loss                3761 non-null   float64\n",
      " 48  indicators_sopr_less_155                             3405 non-null   float64\n",
      "dtypes: float64(49)\n",
      "memory usage: 1.5+ MB\n"
     ]
    }
   ],
   "source": [
    "combined.info()"
   ]
  },
  {
   "cell_type": "code",
   "execution_count": 82,
   "metadata": {},
   "outputs": [
    {
     "data": {
      "text/plain": [
       "indicators_sopr_more_155                               18.190980\n",
       "market_mvrv_more_155                                   18.090199\n",
       "indicators_puell_multiple                              14.386495\n",
       "indicators_nupl_more_155_account_based                 14.210128\n",
       "indicators_sopr_account_based                          14.210128\n",
       "indicators_net_unrealized_profit_loss_account_based    14.210128\n",
       "indicators_mvrv_account_based                          14.210128\n",
       "entities_profit_relative                               14.210128\n",
       "indicators_sopr_less_155                               14.210128\n",
       "addresses_profit_relative                              14.210128\n",
       "market_mvrv_less_155                                   14.184933\n",
       "entities_net_growth_count                               9.221466\n",
       "entities_receiving_count                                9.221466\n",
       "addresses_accumulation_balance                          9.221466\n",
       "transactions_entity_adjusted_count                      9.221466\n",
       "indicators_liveliness_account_based                     9.221466\n",
       "transactions_transfers_volume_miners_net                9.221466\n",
       "addresses_accumulation_count                            9.221466\n",
       "entities_min_1k_count                                   9.221466\n",
       "entities_active_count                                   9.221466\n",
       "transactions_transfers_volume_entity_adjusted_sum       9.221466\n",
       "entities_new_count                                      9.221466\n",
       "indicators_hodled_lost_coins                            9.221466\n",
       "indicators_sopr_adjusted                                9.196271\n",
       "indicators_nupl_more_155                                9.120685\n",
       "indicators_reserve_risk                                 5.946082\n",
       "indicators_net_unrealized_profit_loss                   5.240615\n",
       "indicators_nvts                                         5.240615\n",
       "indicators_nvt                                          5.240615\n",
       "indicators_sopr                                         5.215420\n",
       "indicators_realized_profit                              5.215420\n",
       "market_mvrv_z_score                                     4.988662\n",
       "market_price_drawdown_relative                          4.963467\n",
       "market_mvrv                                             4.963467\n",
       "market_price_usd_close                                  4.963467\n",
       "market_marketcap_usd                                    4.963467\n",
       "transactions_size_sum                                   0.302343\n",
       "indicators_liveliness                                   0.251953\n",
       "transactions_rate                                       0.000000\n",
       "addresses_new_non_zero_count                            0.000000\n",
       "market_price_realized_usd                               0.000000\n",
       "addresses_min_1k_count                                  0.000000\n",
       "addresses_non_zero_count                                0.000000\n",
       "addresses_min_10k_count                                 0.000000\n",
       "transactions_transfers_volume_adjusted_sum              0.000000\n",
       "market_marketcap_realized_usd                           0.000000\n",
       "addresses_active_count                                  0.000000\n",
       "transactions_count                                      0.000000\n",
       "addresses_count                                         0.000000\n",
       "dtype: float64"
      ]
     },
     "execution_count": 82,
     "metadata": {},
     "output_type": "execute_result"
    }
   ],
   "source": [
    "((combined.isnull().sum())/len(combined)*100).sort_values(ascending = False)"
   ]
  },
  {
   "cell_type": "code",
   "execution_count": 83,
   "metadata": {},
   "outputs": [
    {
     "data": {
      "text/plain": [
       "49"
      ]
     },
     "execution_count": 83,
     "metadata": {},
     "output_type": "execute_result"
    }
   ],
   "source": [
    "len(combined.columns)"
   ]
  },
  {
   "cell_type": "code",
   "execution_count": 84,
   "metadata": {},
   "outputs": [],
   "source": [
    "combined.to_csv('data/combined.csv')"
   ]
  },
  {
   "cell_type": "markdown",
   "metadata": {},
   "source": [
    "## Coinmetrics API"
   ]
  },
  {
   "cell_type": "code",
   "execution_count": 85,
   "metadata": {},
   "outputs": [],
   "source": [
    "import coinmetrics"
   ]
  },
  {
   "cell_type": "code",
   "execution_count": 86,
   "metadata": {},
   "outputs": [
    {
     "data": {
      "text/plain": [
       "'Market Specific Metrics'"
      ]
     },
     "execution_count": 86,
     "metadata": {},
     "output_type": "execute_result"
    }
   ],
   "source": [
    "# https://github.com/checkmatey/checkonchain/blob/master/general/coinmetrics_api.py\n",
    "# Import Coinmetrics API\n",
    "# from checkonchain.general.__init__ import *\n",
    "import coinmetrics\n",
    "\n",
    "cm = coinmetrics.Community() # Initialize a reference object, in this case `cm` for the Community API\n",
    "\n",
    "class Coinmetrics_api:\n",
    "       \n",
    "    def __init__(self,asset,begin_timestamp,end_timestamp):\n",
    "        print('...Fetching Coinmetrics API for '+asset+'...')\n",
    "        # List all available metrics for BTC.\n",
    "        self.asset = asset\n",
    "        self.begin_timestamp=begin_timestamp\n",
    "        self.end_timestamp=end_timestamp\n",
    "        self.topcapconst = 35\n",
    "\n",
    "    def collect_data(self):\n",
    "        available_data_types = cm.get_available_data_types_for_asset(self.asset)\n",
    "        metric_list = str((','.join(available_data_types))) #setup complete metric list\n",
    "        #print(metric_list)\n",
    "        asset_data = cm.get_asset_data_for_time_range(self.asset, metric_list, self.begin_timestamp, self.end_timestamp)\n",
    "        return asset_data\n",
    "    \n",
    "    def convert_to_pd(self):\n",
    "        asset_data = Coinmetrics_api.collect_data(self)\n",
    "        df = coinmetrics.cm_to_pandas(asset_data)\n",
    "        #Extract Data as column for ease of application\n",
    "        df.index.name = 'date'\n",
    "        df.reset_index(inplace=True)\n",
    "        df['date'] = pd.to_datetime(df['date'])\n",
    "        #Calc - block height\n",
    "        df['blk']=df['BlkCnt'].cumsum()\n",
    "        #Realised Price (Only if present, excludes XMR and ZEC et al.)\n",
    "        if 'CapRealUSD' in df:\n",
    "            df['PriceRealUSD'] = df['CapRealUSD']/df['SplyCur']\n",
    "        #Calc - approx btc block height (Noting BTC blocks were mined from 9/Jan/09)\n",
    "        df['btc_blk_est'] = (df['date'] - pd.to_datetime(np.datetime64('2009-01-09'),utc=True))\n",
    "        df['btc_blk_est'] = df['btc_blk_est']/np.timedelta64(1,'D') #convert from timedelta to Days (float)\n",
    "        df['btc_blk_est'] = df['btc_blk_est']*(24*6) #Note - corrected for neg values in loop below\n",
    "        #Calc - Daily Issuance\n",
    "        for i in range(0,len(df.index)):\n",
    "            #Correct btc_blk_est\n",
    "            df.loc[i,'btc_blk_est'] = max(0,df.loc[i,'btc_blk_est'])\n",
    "            if i == 0:\n",
    "                df.loc[i,'DailyIssuedNtv'] = df.loc[i,'SplyCur']\n",
    "            else:\n",
    "                df.loc[i,'DailyIssuedNtv'] = df.loc[i,'SplyCur'] - df.loc[i-1,'SplyCur']\n",
    "        # Calc - inflation Rate,  S2F, S2F Model, S2F Price\n",
    "        df['DailyIssuedUSD'] = df['DailyIssuedNtv'] * df['PriceUSD']            \n",
    "        df['inf_pct_ann'] = df['DailyIssuedNtv']*365/df['SplyCur']\n",
    "        df['S2F'] = 1/df['inf_pct_ann']     \n",
    "        df = df.set_index('date')\n",
    "        df.index = pd.to_datetime(df.index, unit='D')\n",
    "        df = df.sort_index()\n",
    "        return df\n",
    "\n",
    "\"\"\"#############################  \n",
    "    Coinmetrics Community API\n",
    "BTC = Coinmetrics_api('btc',\"2009-01-03\",\"2019-10-07\").convert_to_pd()  \n",
    "################################\"\"\"\n",
    "\n",
    "\"\"\"Example Calculations\"\"\"\n",
    "#BTC = Coinmetrics_api('btc',\"2009-01-03\",\"2019-10-07\").convert_to_pd()\n",
    "#LTC = Coinmetrics_api('ltc',\"2011-10-07\",today).convert_to_pd()\n",
    "#BCH = Coinmetrics_api('bch',\"2017-08-01\",today).convert_to_pd()\n",
    "#DASH = Coinmetrics_api('dash',\"2014-01-19\",today).convert_to_pd()\n",
    "#DCR = Coinmetrics_api('dcr',\"2016-02-08\",today).convert_to_pd()\n",
    "#XMR = Coinmetrics_api('xmr',\"2014-04-18\",today).convert_to_pd()\n",
    "#ZEC = Coinmetrics_api('zec',\"2016-10-28\",today).convert_to_pd()\n",
    "#ETH = Coinmetrics_api('eth',\"2015-07-30\",today).convert_to_pd()\n",
    "\n",
    "\"\"\"Time Metrics\"\"\"\n",
    "# date               -datetime64[ns, UTC]\n",
    "# blk                -ADDED METRIC - block height (Sum of BlkCnt)\n",
    "# btc_blk_est        -ADDED METRIC - Estimated Bitcoin block-height (Assumes 10min block-times)\n",
    "\n",
    "\"\"\"Blockchain Metrics\"\"\"\n",
    "# AdrActCnt          -Active Addresses\n",
    "# BlkCnt             -Block Count (Daily)\n",
    "# BlkSizeByte        -Block Size (Bytes)\n",
    "# BlkSizeMeanByte    -Block Size Average (Bytes)\n",
    "# SplyCur            -Current Coin Supply\n",
    "# inf_pct_ann        -ADDED METRIC - Inflation % annual\n",
    "# S2F                -ADDED METRIC - Stock-to-Flow Ratio\n",
    "\n",
    "\"\"\"Network Valuation Models\"\"\"\n",
    "# CapMrktCurUSD      - Market Cap\n",
    "# CapRealUSD         - Realised Cap\n",
    "\n",
    "\"\"\"Network Pricing Models\"\"\"\n",
    "# PriceUSD           - Coin Price USD\n",
    "# PriceRealised      - Realised Price USD\n",
    "\n",
    "\"\"\"Network Valuation Oscillators\"\"\"\n",
    "# CapMVRVCur         - MVRV Ratio - Market Cap / Realised Cap\n",
    "# NVTAdj             - NVT Ratio (Adjusted Volume)\n",
    "# NVTAdj90           - NVT Ratio 90D MA (Adjusted Volume)\n",
    "\n",
    "\"\"\"Transaction Flow Metrics\"\"\"\n",
    "# TxCnt              -Count of Transactions\n",
    "# TxTfrCnt           -Count of Transaction Transfers (Cleaned Data)\n",
    "# TxTfrValAdjNtv     -Native Units Transferred (Adjusted Data)\n",
    "# TxTfrValAdjUSD     -USD Value Transferred (Adjusted Data)\n",
    "# TxTfrValNtv        -Total Native Units Value Transferred\n",
    "# TxTfrValUSD        -Total USD Value Transferred\n",
    "# TxTfrValMeanNtv    -Mean Native Units Transferred\n",
    "# TxTfrValMeanUSD    -Mean USD Value Transferred\n",
    "# TxTfrValMedNtv     -Median Native Units Transferred\n",
    "# TxTfrValMedUSD     -Median USD Value Transferred\n",
    "\n",
    "\"\"\"Miner Metrics\"\"\"\n",
    "# DiffMean          - Average Difficulty\n",
    "# FeeMeanNtv        - Mean Fee paid in Native Coins (Daily)\n",
    "# FeeMeanUSD        - Mean Fee paid in USD (Daily)\n",
    "# FeeMedNtv         - Median Fee paid in Native Coins (Daily)\n",
    "# FeeMedUSD         - Mean Fee paid in USD (Daily)\n",
    "# FeeTotNtv         - Total Fees paid in Native Coins (Daily)\n",
    "# FeeTotUSD         - Total Fees paid in Native Coins (Daily)\n",
    "# IssContNtv        - Daily Issued Native Coins to Miners/Validators\n",
    "# IssContPctAnn     - Annualised Inflation Rate\n",
    "# IssContUSD        - Daily Issued USD to Miners/Validators\n",
    "# IssTotNtvDaily    - Issued Native Coins to Miners/Validators (Daily)\n",
    "# IssTotUSD         - Daily Issued USD Value to Miners/Validators (Daily)\n",
    "# DailyIssuedNtv    - ADDED METRIC - Daily Issued Native Units (Sply_n - Sply_n-1)\n",
    "# DailyIssuedUSD    - ADDED METRIC - Daily Issued USD Value (Sply_n - Sply_n-1)\n",
    "\n",
    "\"\"\"Market Specific Metrics\"\"\"\n",
    "# ROI1yr\n",
    "# ROI30d\n",
    "# VtyDayRet180d\n",
    "# VtyDayRet30d\n",
    "# VtyDayRet60d"
   ]
  },
  {
   "cell_type": "code",
   "execution_count": 87,
   "metadata": {},
   "outputs": [
    {
     "name": "stdout",
     "output_type": "stream",
     "text": [
      "...Fetching Coinmetrics API for btc...\n"
     ]
    }
   ],
   "source": [
    "btc = Coinmetrics_api('btc',\"2009-01-03\",\"2020-11-11\").convert_to_pd()"
   ]
  },
  {
   "cell_type": "code",
   "execution_count": 88,
   "metadata": {},
   "outputs": [
    {
     "data": {
      "text/html": [
       "<div>\n",
       "<style scoped>\n",
       "    .dataframe tbody tr th:only-of-type {\n",
       "        vertical-align: middle;\n",
       "    }\n",
       "\n",
       "    .dataframe tbody tr th {\n",
       "        vertical-align: top;\n",
       "    }\n",
       "\n",
       "    .dataframe thead th {\n",
       "        text-align: right;\n",
       "    }\n",
       "</style>\n",
       "<table border=\"1\" class=\"dataframe\">\n",
       "  <thead>\n",
       "    <tr style=\"text-align: right;\">\n",
       "      <th></th>\n",
       "      <th>AdrActCnt</th>\n",
       "      <th>BlkCnt</th>\n",
       "      <th>BlkSizeByte</th>\n",
       "      <th>BlkSizeMeanByte</th>\n",
       "      <th>CapMVRVCur</th>\n",
       "      <th>CapMrktCurUSD</th>\n",
       "      <th>CapRealUSD</th>\n",
       "      <th>DiffMean</th>\n",
       "      <th>FeeMeanNtv</th>\n",
       "      <th>FeeMeanUSD</th>\n",
       "      <th>...</th>\n",
       "      <th>VtyDayRet180d</th>\n",
       "      <th>VtyDayRet30d</th>\n",
       "      <th>VtyDayRet60d</th>\n",
       "      <th>blk</th>\n",
       "      <th>PriceRealUSD</th>\n",
       "      <th>btc_blk_est</th>\n",
       "      <th>DailyIssuedNtv</th>\n",
       "      <th>DailyIssuedUSD</th>\n",
       "      <th>inf_pct_ann</th>\n",
       "      <th>S2F</th>\n",
       "    </tr>\n",
       "    <tr>\n",
       "      <th>date</th>\n",
       "      <th></th>\n",
       "      <th></th>\n",
       "      <th></th>\n",
       "      <th></th>\n",
       "      <th></th>\n",
       "      <th></th>\n",
       "      <th></th>\n",
       "      <th></th>\n",
       "      <th></th>\n",
       "      <th></th>\n",
       "      <th></th>\n",
       "      <th></th>\n",
       "      <th></th>\n",
       "      <th></th>\n",
       "      <th></th>\n",
       "      <th></th>\n",
       "      <th></th>\n",
       "      <th></th>\n",
       "      <th></th>\n",
       "      <th></th>\n",
       "      <th></th>\n",
       "    </tr>\n",
       "  </thead>\n",
       "  <tbody>\n",
       "    <tr>\n",
       "      <th>2009-01-03 00:00:00+00:00</th>\n",
       "      <td>0.0</td>\n",
       "      <td>0.0</td>\n",
       "      <td>0.0</td>\n",
       "      <td>NaN</td>\n",
       "      <td>NaN</td>\n",
       "      <td>NaN</td>\n",
       "      <td>0.000000e+00</td>\n",
       "      <td>NaN</td>\n",
       "      <td>NaN</td>\n",
       "      <td>NaN</td>\n",
       "      <td>...</td>\n",
       "      <td>NaN</td>\n",
       "      <td>NaN</td>\n",
       "      <td>NaN</td>\n",
       "      <td>0.0</td>\n",
       "      <td>NaN</td>\n",
       "      <td>0.0</td>\n",
       "      <td>0.00</td>\n",
       "      <td>NaN</td>\n",
       "      <td>NaN</td>\n",
       "      <td>NaN</td>\n",
       "    </tr>\n",
       "    <tr>\n",
       "      <th>2009-01-04 00:00:00+00:00</th>\n",
       "      <td>0.0</td>\n",
       "      <td>0.0</td>\n",
       "      <td>0.0</td>\n",
       "      <td>NaN</td>\n",
       "      <td>NaN</td>\n",
       "      <td>NaN</td>\n",
       "      <td>0.000000e+00</td>\n",
       "      <td>NaN</td>\n",
       "      <td>NaN</td>\n",
       "      <td>NaN</td>\n",
       "      <td>...</td>\n",
       "      <td>NaN</td>\n",
       "      <td>NaN</td>\n",
       "      <td>NaN</td>\n",
       "      <td>0.0</td>\n",
       "      <td>NaN</td>\n",
       "      <td>0.0</td>\n",
       "      <td>0.00</td>\n",
       "      <td>NaN</td>\n",
       "      <td>NaN</td>\n",
       "      <td>NaN</td>\n",
       "    </tr>\n",
       "    <tr>\n",
       "      <th>2009-01-05 00:00:00+00:00</th>\n",
       "      <td>0.0</td>\n",
       "      <td>0.0</td>\n",
       "      <td>0.0</td>\n",
       "      <td>NaN</td>\n",
       "      <td>NaN</td>\n",
       "      <td>NaN</td>\n",
       "      <td>0.000000e+00</td>\n",
       "      <td>NaN</td>\n",
       "      <td>NaN</td>\n",
       "      <td>NaN</td>\n",
       "      <td>...</td>\n",
       "      <td>NaN</td>\n",
       "      <td>NaN</td>\n",
       "      <td>NaN</td>\n",
       "      <td>0.0</td>\n",
       "      <td>NaN</td>\n",
       "      <td>0.0</td>\n",
       "      <td>0.00</td>\n",
       "      <td>NaN</td>\n",
       "      <td>NaN</td>\n",
       "      <td>NaN</td>\n",
       "    </tr>\n",
       "    <tr>\n",
       "      <th>2009-01-06 00:00:00+00:00</th>\n",
       "      <td>0.0</td>\n",
       "      <td>0.0</td>\n",
       "      <td>0.0</td>\n",
       "      <td>NaN</td>\n",
       "      <td>NaN</td>\n",
       "      <td>NaN</td>\n",
       "      <td>0.000000e+00</td>\n",
       "      <td>NaN</td>\n",
       "      <td>NaN</td>\n",
       "      <td>NaN</td>\n",
       "      <td>...</td>\n",
       "      <td>NaN</td>\n",
       "      <td>NaN</td>\n",
       "      <td>NaN</td>\n",
       "      <td>0.0</td>\n",
       "      <td>NaN</td>\n",
       "      <td>0.0</td>\n",
       "      <td>0.00</td>\n",
       "      <td>NaN</td>\n",
       "      <td>NaN</td>\n",
       "      <td>NaN</td>\n",
       "    </tr>\n",
       "    <tr>\n",
       "      <th>2009-01-07 00:00:00+00:00</th>\n",
       "      <td>0.0</td>\n",
       "      <td>0.0</td>\n",
       "      <td>0.0</td>\n",
       "      <td>NaN</td>\n",
       "      <td>NaN</td>\n",
       "      <td>NaN</td>\n",
       "      <td>0.000000e+00</td>\n",
       "      <td>NaN</td>\n",
       "      <td>NaN</td>\n",
       "      <td>NaN</td>\n",
       "      <td>...</td>\n",
       "      <td>NaN</td>\n",
       "      <td>NaN</td>\n",
       "      <td>NaN</td>\n",
       "      <td>0.0</td>\n",
       "      <td>NaN</td>\n",
       "      <td>0.0</td>\n",
       "      <td>0.00</td>\n",
       "      <td>NaN</td>\n",
       "      <td>NaN</td>\n",
       "      <td>NaN</td>\n",
       "    </tr>\n",
       "    <tr>\n",
       "      <th>...</th>\n",
       "      <td>...</td>\n",
       "      <td>...</td>\n",
       "      <td>...</td>\n",
       "      <td>...</td>\n",
       "      <td>...</td>\n",
       "      <td>...</td>\n",
       "      <td>...</td>\n",
       "      <td>...</td>\n",
       "      <td>...</td>\n",
       "      <td>...</td>\n",
       "      <td>...</td>\n",
       "      <td>...</td>\n",
       "      <td>...</td>\n",
       "      <td>...</td>\n",
       "      <td>...</td>\n",
       "      <td>...</td>\n",
       "      <td>...</td>\n",
       "      <td>...</td>\n",
       "      <td>...</td>\n",
       "      <td>...</td>\n",
       "      <td>...</td>\n",
       "    </tr>\n",
       "    <tr>\n",
       "      <th>2020-11-07 00:00:00+00:00</th>\n",
       "      <td>1055012.0</td>\n",
       "      <td>146.0</td>\n",
       "      <td>198604086.0</td>\n",
       "      <td>1.360302e+06</td>\n",
       "      <td>2.187115</td>\n",
       "      <td>2.755732e+11</td>\n",
       "      <td>1.259985e+11</td>\n",
       "      <td>1.678778e+13</td>\n",
       "      <td>0.000500</td>\n",
       "      <td>7.437259</td>\n",
       "      <td>...</td>\n",
       "      <td>0.026023</td>\n",
       "      <td>0.027211</td>\n",
       "      <td>0.022916</td>\n",
       "      <td>655902.0</td>\n",
       "      <td>6797.245754</td>\n",
       "      <td>622080.0</td>\n",
       "      <td>912.50</td>\n",
       "      <td>1.356555e+07</td>\n",
       "      <td>0.017968</td>\n",
       "      <td>55.655328</td>\n",
       "    </tr>\n",
       "    <tr>\n",
       "      <th>2020-11-08 00:00:00+00:00</th>\n",
       "      <td>920529.0</td>\n",
       "      <td>138.0</td>\n",
       "      <td>189145770.0</td>\n",
       "      <td>1.370622e+06</td>\n",
       "      <td>2.269764</td>\n",
       "      <td>2.873323e+11</td>\n",
       "      <td>1.265912e+11</td>\n",
       "      <td>1.678778e+13</td>\n",
       "      <td>0.000384</td>\n",
       "      <td>5.955396</td>\n",
       "      <td>...</td>\n",
       "      <td>0.026128</td>\n",
       "      <td>0.027797</td>\n",
       "      <td>0.023359</td>\n",
       "      <td>656040.0</td>\n",
       "      <td>6828.902721</td>\n",
       "      <td>622224.0</td>\n",
       "      <td>862.50</td>\n",
       "      <td>1.336875e+07</td>\n",
       "      <td>0.016982</td>\n",
       "      <td>58.884464</td>\n",
       "    </tr>\n",
       "    <tr>\n",
       "      <th>2020-11-09 00:00:00+00:00</th>\n",
       "      <td>1188873.0</td>\n",
       "      <td>185.0</td>\n",
       "      <td>252934375.0</td>\n",
       "      <td>1.367213e+06</td>\n",
       "      <td>2.237517</td>\n",
       "      <td>2.840099e+11</td>\n",
       "      <td>1.269308e+11</td>\n",
       "      <td>1.678778e+13</td>\n",
       "      <td>0.000440</td>\n",
       "      <td>6.745236</td>\n",
       "      <td>...</td>\n",
       "      <td>0.025851</td>\n",
       "      <td>0.028047</td>\n",
       "      <td>0.023476</td>\n",
       "      <td>656225.0</td>\n",
       "      <td>6846.795593</td>\n",
       "      <td>622368.0</td>\n",
       "      <td>1156.25</td>\n",
       "      <td>1.771354e+07</td>\n",
       "      <td>0.022765</td>\n",
       "      <td>43.927367</td>\n",
       "    </tr>\n",
       "    <tr>\n",
       "      <th>2020-11-10 00:00:00+00:00</th>\n",
       "      <td>1026623.0</td>\n",
       "      <td>147.0</td>\n",
       "      <td>180843729.0</td>\n",
       "      <td>1.230229e+06</td>\n",
       "      <td>2.232287</td>\n",
       "      <td>2.840139e+11</td>\n",
       "      <td>1.272300e+11</td>\n",
       "      <td>1.678778e+13</td>\n",
       "      <td>0.000507</td>\n",
       "      <td>7.768952</td>\n",
       "      <td>...</td>\n",
       "      <td>0.025607</td>\n",
       "      <td>0.028102</td>\n",
       "      <td>0.023490</td>\n",
       "      <td>656372.0</td>\n",
       "      <td>6862.592583</td>\n",
       "      <td>622512.0</td>\n",
       "      <td>918.75</td>\n",
       "      <td>1.407458e+07</td>\n",
       "      <td>0.018088</td>\n",
       "      <td>55.285480</td>\n",
       "    </tr>\n",
       "    <tr>\n",
       "      <th>2020-11-11 00:00:00+00:00</th>\n",
       "      <td>1004339.0</td>\n",
       "      <td>147.0</td>\n",
       "      <td>188599811.0</td>\n",
       "      <td>1.282992e+06</td>\n",
       "      <td>2.285633</td>\n",
       "      <td>2.916660e+11</td>\n",
       "      <td>1.276084e+11</td>\n",
       "      <td>1.678778e+13</td>\n",
       "      <td>0.000332</td>\n",
       "      <td>5.227790</td>\n",
       "      <td>...</td>\n",
       "      <td>0.025370</td>\n",
       "      <td>0.028254</td>\n",
       "      <td>0.023631</td>\n",
       "      <td>656519.0</td>\n",
       "      <td>6882.663478</td>\n",
       "      <td>622656.0</td>\n",
       "      <td>918.75</td>\n",
       "      <td>1.445308e+07</td>\n",
       "      <td>0.018087</td>\n",
       "      <td>55.288220</td>\n",
       "    </tr>\n",
       "  </tbody>\n",
       "</table>\n",
       "<p>4331 rows × 49 columns</p>\n",
       "</div>"
      ],
      "text/plain": [
       "                           AdrActCnt  BlkCnt  BlkSizeByte  BlkSizeMeanByte  \\\n",
       "date                                                                         \n",
       "2009-01-03 00:00:00+00:00        0.0     0.0          0.0              NaN   \n",
       "2009-01-04 00:00:00+00:00        0.0     0.0          0.0              NaN   \n",
       "2009-01-05 00:00:00+00:00        0.0     0.0          0.0              NaN   \n",
       "2009-01-06 00:00:00+00:00        0.0     0.0          0.0              NaN   \n",
       "2009-01-07 00:00:00+00:00        0.0     0.0          0.0              NaN   \n",
       "...                              ...     ...          ...              ...   \n",
       "2020-11-07 00:00:00+00:00  1055012.0   146.0  198604086.0     1.360302e+06   \n",
       "2020-11-08 00:00:00+00:00   920529.0   138.0  189145770.0     1.370622e+06   \n",
       "2020-11-09 00:00:00+00:00  1188873.0   185.0  252934375.0     1.367213e+06   \n",
       "2020-11-10 00:00:00+00:00  1026623.0   147.0  180843729.0     1.230229e+06   \n",
       "2020-11-11 00:00:00+00:00  1004339.0   147.0  188599811.0     1.282992e+06   \n",
       "\n",
       "                           CapMVRVCur  CapMrktCurUSD    CapRealUSD  \\\n",
       "date                                                                 \n",
       "2009-01-03 00:00:00+00:00         NaN            NaN  0.000000e+00   \n",
       "2009-01-04 00:00:00+00:00         NaN            NaN  0.000000e+00   \n",
       "2009-01-05 00:00:00+00:00         NaN            NaN  0.000000e+00   \n",
       "2009-01-06 00:00:00+00:00         NaN            NaN  0.000000e+00   \n",
       "2009-01-07 00:00:00+00:00         NaN            NaN  0.000000e+00   \n",
       "...                               ...            ...           ...   \n",
       "2020-11-07 00:00:00+00:00    2.187115   2.755732e+11  1.259985e+11   \n",
       "2020-11-08 00:00:00+00:00    2.269764   2.873323e+11  1.265912e+11   \n",
       "2020-11-09 00:00:00+00:00    2.237517   2.840099e+11  1.269308e+11   \n",
       "2020-11-10 00:00:00+00:00    2.232287   2.840139e+11  1.272300e+11   \n",
       "2020-11-11 00:00:00+00:00    2.285633   2.916660e+11  1.276084e+11   \n",
       "\n",
       "                               DiffMean  FeeMeanNtv  FeeMeanUSD  ...  \\\n",
       "date                                                             ...   \n",
       "2009-01-03 00:00:00+00:00           NaN         NaN         NaN  ...   \n",
       "2009-01-04 00:00:00+00:00           NaN         NaN         NaN  ...   \n",
       "2009-01-05 00:00:00+00:00           NaN         NaN         NaN  ...   \n",
       "2009-01-06 00:00:00+00:00           NaN         NaN         NaN  ...   \n",
       "2009-01-07 00:00:00+00:00           NaN         NaN         NaN  ...   \n",
       "...                                 ...         ...         ...  ...   \n",
       "2020-11-07 00:00:00+00:00  1.678778e+13    0.000500    7.437259  ...   \n",
       "2020-11-08 00:00:00+00:00  1.678778e+13    0.000384    5.955396  ...   \n",
       "2020-11-09 00:00:00+00:00  1.678778e+13    0.000440    6.745236  ...   \n",
       "2020-11-10 00:00:00+00:00  1.678778e+13    0.000507    7.768952  ...   \n",
       "2020-11-11 00:00:00+00:00  1.678778e+13    0.000332    5.227790  ...   \n",
       "\n",
       "                           VtyDayRet180d  VtyDayRet30d  VtyDayRet60d  \\\n",
       "date                                                                   \n",
       "2009-01-03 00:00:00+00:00            NaN           NaN           NaN   \n",
       "2009-01-04 00:00:00+00:00            NaN           NaN           NaN   \n",
       "2009-01-05 00:00:00+00:00            NaN           NaN           NaN   \n",
       "2009-01-06 00:00:00+00:00            NaN           NaN           NaN   \n",
       "2009-01-07 00:00:00+00:00            NaN           NaN           NaN   \n",
       "...                                  ...           ...           ...   \n",
       "2020-11-07 00:00:00+00:00       0.026023      0.027211      0.022916   \n",
       "2020-11-08 00:00:00+00:00       0.026128      0.027797      0.023359   \n",
       "2020-11-09 00:00:00+00:00       0.025851      0.028047      0.023476   \n",
       "2020-11-10 00:00:00+00:00       0.025607      0.028102      0.023490   \n",
       "2020-11-11 00:00:00+00:00       0.025370      0.028254      0.023631   \n",
       "\n",
       "                                blk  PriceRealUSD  btc_blk_est  \\\n",
       "date                                                             \n",
       "2009-01-03 00:00:00+00:00       0.0           NaN          0.0   \n",
       "2009-01-04 00:00:00+00:00       0.0           NaN          0.0   \n",
       "2009-01-05 00:00:00+00:00       0.0           NaN          0.0   \n",
       "2009-01-06 00:00:00+00:00       0.0           NaN          0.0   \n",
       "2009-01-07 00:00:00+00:00       0.0           NaN          0.0   \n",
       "...                             ...           ...          ...   \n",
       "2020-11-07 00:00:00+00:00  655902.0   6797.245754     622080.0   \n",
       "2020-11-08 00:00:00+00:00  656040.0   6828.902721     622224.0   \n",
       "2020-11-09 00:00:00+00:00  656225.0   6846.795593     622368.0   \n",
       "2020-11-10 00:00:00+00:00  656372.0   6862.592583     622512.0   \n",
       "2020-11-11 00:00:00+00:00  656519.0   6882.663478     622656.0   \n",
       "\n",
       "                           DailyIssuedNtv  DailyIssuedUSD  inf_pct_ann  \\\n",
       "date                                                                     \n",
       "2009-01-03 00:00:00+00:00            0.00             NaN          NaN   \n",
       "2009-01-04 00:00:00+00:00            0.00             NaN          NaN   \n",
       "2009-01-05 00:00:00+00:00            0.00             NaN          NaN   \n",
       "2009-01-06 00:00:00+00:00            0.00             NaN          NaN   \n",
       "2009-01-07 00:00:00+00:00            0.00             NaN          NaN   \n",
       "...                                   ...             ...          ...   \n",
       "2020-11-07 00:00:00+00:00          912.50    1.356555e+07     0.017968   \n",
       "2020-11-08 00:00:00+00:00          862.50    1.336875e+07     0.016982   \n",
       "2020-11-09 00:00:00+00:00         1156.25    1.771354e+07     0.022765   \n",
       "2020-11-10 00:00:00+00:00          918.75    1.407458e+07     0.018088   \n",
       "2020-11-11 00:00:00+00:00          918.75    1.445308e+07     0.018087   \n",
       "\n",
       "                                 S2F  \n",
       "date                                  \n",
       "2009-01-03 00:00:00+00:00        NaN  \n",
       "2009-01-04 00:00:00+00:00        NaN  \n",
       "2009-01-05 00:00:00+00:00        NaN  \n",
       "2009-01-06 00:00:00+00:00        NaN  \n",
       "2009-01-07 00:00:00+00:00        NaN  \n",
       "...                              ...  \n",
       "2020-11-07 00:00:00+00:00  55.655328  \n",
       "2020-11-08 00:00:00+00:00  58.884464  \n",
       "2020-11-09 00:00:00+00:00  43.927367  \n",
       "2020-11-10 00:00:00+00:00  55.285480  \n",
       "2020-11-11 00:00:00+00:00  55.288220  \n",
       "\n",
       "[4331 rows x 49 columns]"
      ]
     },
     "execution_count": 88,
     "metadata": {},
     "output_type": "execute_result"
    }
   ],
   "source": [
    "btc"
   ]
  },
  {
   "cell_type": "code",
   "execution_count": 89,
   "metadata": {},
   "outputs": [
    {
     "name": "stdout",
     "output_type": "stream",
     "text": [
      "<class 'pandas.core.frame.DataFrame'>\n",
      "DatetimeIndex: 4331 entries, 2009-01-03 00:00:00+00:00 to 2020-11-11 00:00:00+00:00\n",
      "Data columns (total 49 columns):\n",
      " #   Column              Non-Null Count  Dtype  \n",
      "---  ------              --------------  -----  \n",
      " 0   AdrActCnt           4331 non-null   float64\n",
      " 1   BlkCnt              4331 non-null   float64\n",
      " 2   BlkSizeByte         4331 non-null   float64\n",
      " 3   BlkSizeMeanByte     4325 non-null   float64\n",
      " 4   CapMVRVCur          3770 non-null   float64\n",
      " 5   CapMrktCurUSD       3770 non-null   float64\n",
      " 6   CapRealUSD          4331 non-null   float64\n",
      " 7   DiffMean            4325 non-null   float64\n",
      " 8   FeeMeanNtv          4073 non-null   float64\n",
      " 9   FeeMeanUSD          3770 non-null   float64\n",
      " 10  FeeMedNtv           4073 non-null   float64\n",
      " 11  FeeMedUSD           3770 non-null   float64\n",
      " 12  FeeTotNtv           4331 non-null   float64\n",
      " 13  FeeTotUSD           3770 non-null   float64\n",
      " 14  HashRate            4325 non-null   float64\n",
      " 15  IssContNtv          4325 non-null   float64\n",
      " 16  IssContPctAnn       4325 non-null   float64\n",
      " 17  IssContUSD          3770 non-null   float64\n",
      " 18  IssTotNtv           4325 non-null   float64\n",
      " 19  IssTotUSD           3770 non-null   float64\n",
      " 20  NVTAdj              4071 non-null   float64\n",
      " 21  NVTAdj90            3681 non-null   float64\n",
      " 22  PriceBTC            4331 non-null   float64\n",
      " 23  PriceUSD            3770 non-null   float64\n",
      " 24  ROI1yr              3405 non-null   float64\n",
      " 25  ROI30d              3740 non-null   float64\n",
      " 26  SplyCur             4331 non-null   float64\n",
      " 27  SplyExpFut10yrCMBI  4325 non-null   float64\n",
      " 28  SplyFF              4331 non-null   float64\n",
      " 29  TxCnt               4331 non-null   float64\n",
      " 30  TxTfrCnt            4331 non-null   float64\n",
      " 31  TxTfrValAdjNtv      4331 non-null   float64\n",
      " 32  TxTfrValAdjUSD      3770 non-null   float64\n",
      " 33  TxTfrValMeanNtv     4073 non-null   float64\n",
      " 34  TxTfrValMeanUSD     3770 non-null   float64\n",
      " 35  TxTfrValMedNtv      4073 non-null   float64\n",
      " 36  TxTfrValMedUSD      3770 non-null   float64\n",
      " 37  TxTfrValNtv         4331 non-null   float64\n",
      " 38  TxTfrValUSD         3770 non-null   float64\n",
      " 39  VtyDayRet180d       3590 non-null   float64\n",
      " 40  VtyDayRet30d        3740 non-null   float64\n",
      " 41  VtyDayRet60d        3710 non-null   float64\n",
      " 42  blk                 4331 non-null   float64\n",
      " 43  PriceRealUSD        4325 non-null   float64\n",
      " 44  btc_blk_est         4331 non-null   float64\n",
      " 45  DailyIssuedNtv      4331 non-null   float64\n",
      " 46  DailyIssuedUSD      3770 non-null   float64\n",
      " 47  inf_pct_ann         4325 non-null   float64\n",
      " 48  S2F                 4325 non-null   float64\n",
      "dtypes: float64(49)\n",
      "memory usage: 1.7 MB\n"
     ]
    }
   ],
   "source": [
    "btc.info()"
   ]
  },
  {
   "cell_type": "code",
   "execution_count": 90,
   "metadata": {},
   "outputs": [
    {
     "data": {
      "text/html": [
       "<div>\n",
       "<style scoped>\n",
       "    .dataframe tbody tr th:only-of-type {\n",
       "        vertical-align: middle;\n",
       "    }\n",
       "\n",
       "    .dataframe tbody tr th {\n",
       "        vertical-align: top;\n",
       "    }\n",
       "\n",
       "    .dataframe thead th {\n",
       "        text-align: right;\n",
       "    }\n",
       "</style>\n",
       "<table border=\"1\" class=\"dataframe\">\n",
       "  <thead>\n",
       "    <tr style=\"text-align: right;\">\n",
       "      <th></th>\n",
       "      <th>count</th>\n",
       "      <th>mean</th>\n",
       "      <th>std</th>\n",
       "      <th>min</th>\n",
       "      <th>25%</th>\n",
       "      <th>50%</th>\n",
       "      <th>75%</th>\n",
       "      <th>max</th>\n",
       "    </tr>\n",
       "  </thead>\n",
       "  <tbody>\n",
       "    <tr>\n",
       "      <th>AdrActCnt</th>\n",
       "      <td>4331.0</td>\n",
       "      <td>3.385188e+05</td>\n",
       "      <td>3.313102e+05</td>\n",
       "      <td>0.000000e+00</td>\n",
       "      <td>1.657250e+04</td>\n",
       "      <td>2.226280e+05</td>\n",
       "      <td>6.376275e+05</td>\n",
       "      <td>1.290363e+06</td>\n",
       "    </tr>\n",
       "    <tr>\n",
       "      <th>BlkCnt</th>\n",
       "      <td>4331.0</td>\n",
       "      <td>1.515860e+02</td>\n",
       "      <td>3.539967e+01</td>\n",
       "      <td>0.000000e+00</td>\n",
       "      <td>1.380000e+02</td>\n",
       "      <td>1.520000e+02</td>\n",
       "      <td>1.660000e+02</td>\n",
       "      <td>6.920000e+02</td>\n",
       "    </tr>\n",
       "    <tr>\n",
       "      <th>BlkSizeByte</th>\n",
       "      <td>4331.0</td>\n",
       "      <td>7.151933e+07</td>\n",
       "      <td>6.590006e+07</td>\n",
       "      <td>0.000000e+00</td>\n",
       "      <td>3.243560e+06</td>\n",
       "      <td>4.909272e+07</td>\n",
       "      <td>1.346478e+08</td>\n",
       "      <td>2.565337e+08</td>\n",
       "    </tr>\n",
       "    <tr>\n",
       "      <th>BlkSizeMeanByte</th>\n",
       "      <td>4325.0</td>\n",
       "      <td>4.794857e+05</td>\n",
       "      <td>4.465189e+05</td>\n",
       "      <td>2.150000e+02</td>\n",
       "      <td>2.186920e+04</td>\n",
       "      <td>3.326637e+05</td>\n",
       "      <td>9.241188e+05</td>\n",
       "      <td>1.427240e+06</td>\n",
       "    </tr>\n",
       "    <tr>\n",
       "      <th>CapMVRVCur</th>\n",
       "      <td>3770.0</td>\n",
       "      <td>2.031872e+00</td>\n",
       "      <td>3.023176e+00</td>\n",
       "      <td>3.868285e-01</td>\n",
       "      <td>1.240460e+00</td>\n",
       "      <td>1.667594e+00</td>\n",
       "      <td>2.213414e+00</td>\n",
       "      <td>1.460383e+02</td>\n",
       "    </tr>\n",
       "    <tr>\n",
       "      <th>CapMrktCurUSD</th>\n",
       "      <td>3770.0</td>\n",
       "      <td>4.857693e+10</td>\n",
       "      <td>7.017752e+10</td>\n",
       "      <td>1.776705e+05</td>\n",
       "      <td>2.906799e+08</td>\n",
       "      <td>6.791451e+09</td>\n",
       "      <td>9.712132e+10</td>\n",
       "      <td>3.288988e+11</td>\n",
       "    </tr>\n",
       "    <tr>\n",
       "      <th>CapRealUSD</th>\n",
       "      <td>4331.0</td>\n",
       "      <td>2.597384e+10</td>\n",
       "      <td>3.997987e+10</td>\n",
       "      <td>0.000000e+00</td>\n",
       "      <td>4.298830e+07</td>\n",
       "      <td>4.163219e+09</td>\n",
       "      <td>4.541698e+10</td>\n",
       "      <td>1.276084e+11</td>\n",
       "    </tr>\n",
       "    <tr>\n",
       "      <th>DiffMean</th>\n",
       "      <td>4325.0</td>\n",
       "      <td>2.463861e+12</td>\n",
       "      <td>4.848286e+12</td>\n",
       "      <td>1.000000e+00</td>\n",
       "      <td>1.508590e+06</td>\n",
       "      <td>4.000747e+10</td>\n",
       "      <td>1.452840e+12</td>\n",
       "      <td>1.999734e+13</td>\n",
       "    </tr>\n",
       "    <tr>\n",
       "      <th>FeeMeanNtv</th>\n",
       "      <td>4073.0</td>\n",
       "      <td>9.251890e-04</td>\n",
       "      <td>7.781066e-03</td>\n",
       "      <td>0.000000e+00</td>\n",
       "      <td>1.381825e-04</td>\n",
       "      <td>2.317134e-04</td>\n",
       "      <td>6.831250e-04</td>\n",
       "      <td>2.200000e-01</td>\n",
       "    </tr>\n",
       "    <tr>\n",
       "      <th>FeeMeanUSD</th>\n",
       "      <td>3770.0</td>\n",
       "      <td>1.116054e+00</td>\n",
       "      <td>3.734099e+00</td>\n",
       "      <td>0.000000e+00</td>\n",
       "      <td>3.152316e-02</td>\n",
       "      <td>1.100606e-01</td>\n",
       "      <td>7.391014e-01</td>\n",
       "      <td>5.630812e+01</td>\n",
       "    </tr>\n",
       "    <tr>\n",
       "      <th>FeeMedNtv</th>\n",
       "      <td>4073.0</td>\n",
       "      <td>4.173618e-04</td>\n",
       "      <td>5.873417e-03</td>\n",
       "      <td>0.000000e+00</td>\n",
       "      <td>1.512000e-05</td>\n",
       "      <td>1.000000e-04</td>\n",
       "      <td>2.260000e-04</td>\n",
       "      <td>2.200000e-01</td>\n",
       "    </tr>\n",
       "    <tr>\n",
       "      <th>FeeMedUSD</th>\n",
       "      <td>3770.0</td>\n",
       "      <td>5.987006e-01</td>\n",
       "      <td>2.179972e+00</td>\n",
       "      <td>0.000000e+00</td>\n",
       "      <td>1.346383e-02</td>\n",
       "      <td>5.835855e-02</td>\n",
       "      <td>2.593334e-01</td>\n",
       "      <td>3.369854e+01</td>\n",
       "    </tr>\n",
       "    <tr>\n",
       "      <th>FeeTotNtv</th>\n",
       "      <td>4331.0</td>\n",
       "      <td>5.271107e+01</td>\n",
       "      <td>1.003797e+02</td>\n",
       "      <td>0.000000e+00</td>\n",
       "      <td>7.668729e+00</td>\n",
       "      <td>2.216171e+01</td>\n",
       "      <td>4.817691e+01</td>\n",
       "      <td>1.495749e+03</td>\n",
       "    </tr>\n",
       "    <tr>\n",
       "      <th>FeeTotUSD</th>\n",
       "      <td>3770.0</td>\n",
       "      <td>3.304815e+05</td>\n",
       "      <td>1.226971e+06</td>\n",
       "      <td>0.000000e+00</td>\n",
       "      <td>1.334850e+03</td>\n",
       "      <td>1.100940e+04</td>\n",
       "      <td>2.005790e+05</td>\n",
       "      <td>2.139776e+07</td>\n",
       "    </tr>\n",
       "    <tr>\n",
       "      <th>HashRate</th>\n",
       "      <td>4325.0</td>\n",
       "      <td>1.793344e+07</td>\n",
       "      <td>3.516224e+07</td>\n",
       "      <td>1.988411e-07</td>\n",
       "      <td>1.096960e+01</td>\n",
       "      <td>2.894002e+05</td>\n",
       "      <td>1.132691e+07</td>\n",
       "      <td>1.622631e+08</td>\n",
       "    </tr>\n",
       "    <tr>\n",
       "      <th>IssContNtv</th>\n",
       "      <td>4325.0</td>\n",
       "      <td>4.286867e+03</td>\n",
       "      <td>2.844912e+03</td>\n",
       "      <td>2.000000e+02</td>\n",
       "      <td>1.925000e+03</td>\n",
       "      <td>3.750000e+03</td>\n",
       "      <td>6.050000e+03</td>\n",
       "      <td>3.460000e+04</td>\n",
       "    </tr>\n",
       "    <tr>\n",
       "      <th>IssContPctAnn</th>\n",
       "      <td>4325.0</td>\n",
       "      <td>8.165756e+01</td>\n",
       "      <td>8.493699e+02</td>\n",
       "      <td>1.169460e+00</td>\n",
       "      <td>4.189089e+00</td>\n",
       "      <td>1.023905e+01</td>\n",
       "      <td>3.284273e+01</td>\n",
       "      <td>3.650000e+04</td>\n",
       "    </tr>\n",
       "    <tr>\n",
       "      <th>IssContUSD</th>\n",
       "      <td>3770.0</td>\n",
       "      <td>4.998677e+06</td>\n",
       "      <td>6.686904e+06</td>\n",
       "      <td>3.070000e+02</td>\n",
       "      <td>1.617191e+05</td>\n",
       "      <td>1.583613e+06</td>\n",
       "      <td>8.676410e+06</td>\n",
       "      <td>4.451671e+07</td>\n",
       "    </tr>\n",
       "    <tr>\n",
       "      <th>IssTotNtv</th>\n",
       "      <td>4325.0</td>\n",
       "      <td>4.286867e+03</td>\n",
       "      <td>2.844912e+03</td>\n",
       "      <td>2.000000e+02</td>\n",
       "      <td>1.925000e+03</td>\n",
       "      <td>3.750000e+03</td>\n",
       "      <td>6.050000e+03</td>\n",
       "      <td>3.460000e+04</td>\n",
       "    </tr>\n",
       "    <tr>\n",
       "      <th>IssTotUSD</th>\n",
       "      <td>3770.0</td>\n",
       "      <td>4.998677e+06</td>\n",
       "      <td>6.686904e+06</td>\n",
       "      <td>3.070000e+02</td>\n",
       "      <td>1.617191e+05</td>\n",
       "      <td>1.583613e+06</td>\n",
       "      <td>8.676410e+06</td>\n",
       "      <td>4.451671e+07</td>\n",
       "    </tr>\n",
       "    <tr>\n",
       "      <th>NVTAdj</th>\n",
       "      <td>4071.0</td>\n",
       "      <td>3.596414e+04</td>\n",
       "      <td>1.577649e+06</td>\n",
       "      <td>3.717399e+00</td>\n",
       "      <td>3.784369e+01</td>\n",
       "      <td>5.700585e+01</td>\n",
       "      <td>8.318117e+01</td>\n",
       "      <td>8.145000e+07</td>\n",
       "    </tr>\n",
       "    <tr>\n",
       "      <th>NVTAdj90</th>\n",
       "      <td>3681.0</td>\n",
       "      <td>6.174377e+01</td>\n",
       "      <td>3.271763e+01</td>\n",
       "      <td>1.181012e+01</td>\n",
       "      <td>4.097595e+01</td>\n",
       "      <td>5.269425e+01</td>\n",
       "      <td>7.568111e+01</td>\n",
       "      <td>3.559313e+02</td>\n",
       "    </tr>\n",
       "    <tr>\n",
       "      <th>PriceBTC</th>\n",
       "      <td>4331.0</td>\n",
       "      <td>1.000000e+00</td>\n",
       "      <td>0.000000e+00</td>\n",
       "      <td>1.000000e+00</td>\n",
       "      <td>1.000000e+00</td>\n",
       "      <td>1.000000e+00</td>\n",
       "      <td>1.000000e+00</td>\n",
       "      <td>1.000000e+00</td>\n",
       "    </tr>\n",
       "    <tr>\n",
       "      <th>PriceUSD</th>\n",
       "      <td>3770.0</td>\n",
       "      <td>2.789150e+03</td>\n",
       "      <td>3.940243e+03</td>\n",
       "      <td>5.054062e-02</td>\n",
       "      <td>2.719905e+01</td>\n",
       "      <td>4.744861e+02</td>\n",
       "      <td>5.691233e+03</td>\n",
       "      <td>1.964051e+04</td>\n",
       "    </tr>\n",
       "    <tr>\n",
       "      <th>ROI1yr</th>\n",
       "      <td>3405.0</td>\n",
       "      <td>8.087697e+02</td>\n",
       "      <td>2.385942e+03</td>\n",
       "      <td>-8.373049e+01</td>\n",
       "      <td>1.734334e+01</td>\n",
       "      <td>1.417432e+02</td>\n",
       "      <td>5.747222e+02</td>\n",
       "      <td>2.766663e+04</td>\n",
       "    </tr>\n",
       "    <tr>\n",
       "      <th>ROI30d</th>\n",
       "      <td>3740.0</td>\n",
       "      <td>1.961215e+01</td>\n",
       "      <td>6.610803e+01</td>\n",
       "      <td>-6.166827e+01</td>\n",
       "      <td>-9.906297e+00</td>\n",
       "      <td>4.288417e+00</td>\n",
       "      <td>2.637905e+01</td>\n",
       "      <td>7.748640e+02</td>\n",
       "    </tr>\n",
       "    <tr>\n",
       "      <th>SplyCur</th>\n",
       "      <td>4331.0</td>\n",
       "      <td>1.194749e+07</td>\n",
       "      <td>5.610863e+06</td>\n",
       "      <td>0.000000e+00</td>\n",
       "      <td>7.929800e+06</td>\n",
       "      <td>1.358714e+07</td>\n",
       "      <td>1.670034e+07</td>\n",
       "      <td>1.854056e+07</td>\n",
       "    </tr>\n",
       "    <tr>\n",
       "      <th>SplyExpFut10yrCMBI</th>\n",
       "      <td>4325.0</td>\n",
       "      <td>1.939564e+07</td>\n",
       "      <td>1.008977e+06</td>\n",
       "      <td>1.707025e+07</td>\n",
       "      <td>1.871819e+07</td>\n",
       "      <td>1.974852e+07</td>\n",
       "      <td>2.025585e+07</td>\n",
       "      <td>2.055019e+07</td>\n",
       "    </tr>\n",
       "    <tr>\n",
       "      <th>SplyFF</th>\n",
       "      <td>4331.0</td>\n",
       "      <td>1.044944e+07</td>\n",
       "      <td>4.384703e+06</td>\n",
       "      <td>0.000000e+00</td>\n",
       "      <td>7.927188e+06</td>\n",
       "      <td>1.255293e+07</td>\n",
       "      <td>1.388444e+07</td>\n",
       "      <td>1.443530e+07</td>\n",
       "    </tr>\n",
       "    <tr>\n",
       "      <th>TxCnt</th>\n",
       "      <td>4331.0</td>\n",
       "      <td>1.351479e+05</td>\n",
       "      <td>1.257465e+05</td>\n",
       "      <td>0.000000e+00</td>\n",
       "      <td>7.020500e+03</td>\n",
       "      <td>8.547800e+04</td>\n",
       "      <td>2.512315e+05</td>\n",
       "      <td>4.981420e+05</td>\n",
       "    </tr>\n",
       "    <tr>\n",
       "      <th>TxTfrCnt</th>\n",
       "      <td>4331.0</td>\n",
       "      <td>3.250224e+05</td>\n",
       "      <td>3.003515e+05</td>\n",
       "      <td>0.000000e+00</td>\n",
       "      <td>1.552900e+04</td>\n",
       "      <td>2.299900e+05</td>\n",
       "      <td>5.909480e+05</td>\n",
       "      <td>2.041653e+06</td>\n",
       "    </tr>\n",
       "    <tr>\n",
       "      <th>TxTfrValAdjNtv</th>\n",
       "      <td>4331.0</td>\n",
       "      <td>2.477530e+05</td>\n",
       "      <td>1.774510e+05</td>\n",
       "      <td>0.000000e+00</td>\n",
       "      <td>1.290862e+05</td>\n",
       "      <td>2.341727e+05</td>\n",
       "      <td>3.505013e+05</td>\n",
       "      <td>2.090898e+06</td>\n",
       "    </tr>\n",
       "    <tr>\n",
       "      <th>TxTfrValAdjUSD</th>\n",
       "      <td>3770.0</td>\n",
       "      <td>7.960491e+08</td>\n",
       "      <td>1.239924e+09</td>\n",
       "      <td>4.647065e+02</td>\n",
       "      <td>1.185388e+07</td>\n",
       "      <td>1.455257e+08</td>\n",
       "      <td>1.386239e+09</td>\n",
       "      <td>1.082210e+10</td>\n",
       "    </tr>\n",
       "    <tr>\n",
       "      <th>TxTfrValMeanNtv</th>\n",
       "      <td>4073.0</td>\n",
       "      <td>9.599090e+01</td>\n",
       "      <td>6.810958e+02</td>\n",
       "      <td>1.000000e-02</td>\n",
       "      <td>1.531485e+00</td>\n",
       "      <td>3.531033e+00</td>\n",
       "      <td>2.184307e+01</td>\n",
       "      <td>2.217500e+04</td>\n",
       "    </tr>\n",
       "    <tr>\n",
       "      <th>TxTfrValMeanUSD</th>\n",
       "      <td>3770.0</td>\n",
       "      <td>3.990395e+03</td>\n",
       "      <td>5.441037e+03</td>\n",
       "      <td>7.628727e-01</td>\n",
       "      <td>5.203556e+02</td>\n",
       "      <td>1.691792e+03</td>\n",
       "      <td>6.199124e+03</td>\n",
       "      <td>5.112477e+04</td>\n",
       "    </tr>\n",
       "    <tr>\n",
       "      <th>TxTfrValMedNtv</th>\n",
       "      <td>4073.0</td>\n",
       "      <td>5.531400e+01</td>\n",
       "      <td>6.437061e+02</td>\n",
       "      <td>1.000000e-08</td>\n",
       "      <td>1.185949e-02</td>\n",
       "      <td>2.874078e-02</td>\n",
       "      <td>1.000000e-01</td>\n",
       "      <td>2.217500e+04</td>\n",
       "    </tr>\n",
       "    <tr>\n",
       "      <th>TxTfrValMedUSD</th>\n",
       "      <td>3770.0</td>\n",
       "      <td>3.738230e+01</td>\n",
       "      <td>5.177986e+01</td>\n",
       "      <td>8.203471e-08</td>\n",
       "      <td>3.376537e+00</td>\n",
       "      <td>1.476306e+01</td>\n",
       "      <td>6.582998e+01</td>\n",
       "      <td>5.348536e+02</td>\n",
       "    </tr>\n",
       "    <tr>\n",
       "      <th>TxTfrValNtv</th>\n",
       "      <td>4331.0</td>\n",
       "      <td>1.052378e+06</td>\n",
       "      <td>1.924686e+06</td>\n",
       "      <td>0.000000e+00</td>\n",
       "      <td>3.575087e+05</td>\n",
       "      <td>6.789640e+05</td>\n",
       "      <td>1.284488e+06</td>\n",
       "      <td>6.725965e+07</td>\n",
       "    </tr>\n",
       "    <tr>\n",
       "      <th>TxTfrValUSD</th>\n",
       "      <td>3770.0</td>\n",
       "      <td>2.480823e+09</td>\n",
       "      <td>4.357916e+09</td>\n",
       "      <td>5.874592e+02</td>\n",
       "      <td>4.792345e+07</td>\n",
       "      <td>5.448449e+08</td>\n",
       "      <td>3.824213e+09</td>\n",
       "      <td>4.877049e+10</td>\n",
       "    </tr>\n",
       "    <tr>\n",
       "      <th>VtyDayRet180d</th>\n",
       "      <td>3590.0</td>\n",
       "      <td>4.894274e-02</td>\n",
       "      <td>2.126140e-02</td>\n",
       "      <td>2.029803e-02</td>\n",
       "      <td>3.266870e-02</td>\n",
       "      <td>4.259557e-02</td>\n",
       "      <td>5.910999e-02</td>\n",
       "      <td>1.095320e-01</td>\n",
       "    </tr>\n",
       "    <tr>\n",
       "      <th>VtyDayRet30d</th>\n",
       "      <td>3740.0</td>\n",
       "      <td>4.394140e-02</td>\n",
       "      <td>2.976390e-02</td>\n",
       "      <td>7.480537e-03</td>\n",
       "      <td>2.465738e-02</td>\n",
       "      <td>3.543518e-02</td>\n",
       "      <td>5.327059e-02</td>\n",
       "      <td>1.917221e-01</td>\n",
       "    </tr>\n",
       "    <tr>\n",
       "      <th>VtyDayRet60d</th>\n",
       "      <td>3710.0</td>\n",
       "      <td>4.598093e-02</td>\n",
       "      <td>2.684905e-02</td>\n",
       "      <td>1.040645e-02</td>\n",
       "      <td>2.767013e-02</td>\n",
       "      <td>3.844497e-02</td>\n",
       "      <td>5.778925e-02</td>\n",
       "      <td>1.432690e-01</td>\n",
       "    </tr>\n",
       "    <tr>\n",
       "      <th>blk</th>\n",
       "      <td>4331.0</td>\n",
       "      <td>3.267195e+05</td>\n",
       "      <td>1.950476e+05</td>\n",
       "      <td>0.000000e+00</td>\n",
       "      <td>1.585980e+05</td>\n",
       "      <td>3.334910e+05</td>\n",
       "      <td>4.960390e+05</td>\n",
       "      <td>6.565190e+05</td>\n",
       "    </tr>\n",
       "    <tr>\n",
       "      <th>PriceRealUSD</th>\n",
       "      <td>4325.0</td>\n",
       "      <td>1.489445e+03</td>\n",
       "      <td>2.235248e+03</td>\n",
       "      <td>0.000000e+00</td>\n",
       "      <td>4.998369e+00</td>\n",
       "      <td>3.015149e+02</td>\n",
       "      <td>2.783247e+03</td>\n",
       "      <td>6.882663e+03</td>\n",
       "    </tr>\n",
       "    <tr>\n",
       "      <th>btc_blk_est</th>\n",
       "      <td>4331.0</td>\n",
       "      <td>3.108967e+05</td>\n",
       "      <td>1.800559e+05</td>\n",
       "      <td>0.000000e+00</td>\n",
       "      <td>1.550160e+05</td>\n",
       "      <td>3.108960e+05</td>\n",
       "      <td>4.667760e+05</td>\n",
       "      <td>6.226560e+05</td>\n",
       "    </tr>\n",
       "    <tr>\n",
       "      <th>DailyIssuedNtv</th>\n",
       "      <td>4331.0</td>\n",
       "      <td>4.280896e+03</td>\n",
       "      <td>2.847344e+03</td>\n",
       "      <td>0.000000e+00</td>\n",
       "      <td>1.925000e+03</td>\n",
       "      <td>3.750000e+03</td>\n",
       "      <td>6.049999e+03</td>\n",
       "      <td>3.460000e+04</td>\n",
       "    </tr>\n",
       "    <tr>\n",
       "      <th>DailyIssuedUSD</th>\n",
       "      <td>3770.0</td>\n",
       "      <td>4.998595e+06</td>\n",
       "      <td>6.686747e+06</td>\n",
       "      <td>3.070000e+02</td>\n",
       "      <td>1.617191e+05</td>\n",
       "      <td>1.583613e+06</td>\n",
       "      <td>8.676410e+06</td>\n",
       "      <td>4.451671e+07</td>\n",
       "    </tr>\n",
       "    <tr>\n",
       "      <th>inf_pct_ann</th>\n",
       "      <td>4325.0</td>\n",
       "      <td>8.165736e-01</td>\n",
       "      <td>8.493699e+00</td>\n",
       "      <td>1.169427e-02</td>\n",
       "      <td>4.189089e-02</td>\n",
       "      <td>1.023905e-01</td>\n",
       "      <td>3.284273e-01</td>\n",
       "      <td>3.650000e+02</td>\n",
       "    </tr>\n",
       "    <tr>\n",
       "      <th>S2F</th>\n",
       "      <td>4325.0</td>\n",
       "      <td>1.407454e+01</td>\n",
       "      <td>1.351829e+01</td>\n",
       "      <td>2.739726e-03</td>\n",
       "      <td>3.044814e+00</td>\n",
       "      <td>9.766529e+00</td>\n",
       "      <td>2.387154e+01</td>\n",
       "      <td>8.551197e+01</td>\n",
       "    </tr>\n",
       "  </tbody>\n",
       "</table>\n",
       "</div>"
      ],
      "text/plain": [
       "                     count          mean           std           min  \\\n",
       "AdrActCnt           4331.0  3.385188e+05  3.313102e+05  0.000000e+00   \n",
       "BlkCnt              4331.0  1.515860e+02  3.539967e+01  0.000000e+00   \n",
       "BlkSizeByte         4331.0  7.151933e+07  6.590006e+07  0.000000e+00   \n",
       "BlkSizeMeanByte     4325.0  4.794857e+05  4.465189e+05  2.150000e+02   \n",
       "CapMVRVCur          3770.0  2.031872e+00  3.023176e+00  3.868285e-01   \n",
       "CapMrktCurUSD       3770.0  4.857693e+10  7.017752e+10  1.776705e+05   \n",
       "CapRealUSD          4331.0  2.597384e+10  3.997987e+10  0.000000e+00   \n",
       "DiffMean            4325.0  2.463861e+12  4.848286e+12  1.000000e+00   \n",
       "FeeMeanNtv          4073.0  9.251890e-04  7.781066e-03  0.000000e+00   \n",
       "FeeMeanUSD          3770.0  1.116054e+00  3.734099e+00  0.000000e+00   \n",
       "FeeMedNtv           4073.0  4.173618e-04  5.873417e-03  0.000000e+00   \n",
       "FeeMedUSD           3770.0  5.987006e-01  2.179972e+00  0.000000e+00   \n",
       "FeeTotNtv           4331.0  5.271107e+01  1.003797e+02  0.000000e+00   \n",
       "FeeTotUSD           3770.0  3.304815e+05  1.226971e+06  0.000000e+00   \n",
       "HashRate            4325.0  1.793344e+07  3.516224e+07  1.988411e-07   \n",
       "IssContNtv          4325.0  4.286867e+03  2.844912e+03  2.000000e+02   \n",
       "IssContPctAnn       4325.0  8.165756e+01  8.493699e+02  1.169460e+00   \n",
       "IssContUSD          3770.0  4.998677e+06  6.686904e+06  3.070000e+02   \n",
       "IssTotNtv           4325.0  4.286867e+03  2.844912e+03  2.000000e+02   \n",
       "IssTotUSD           3770.0  4.998677e+06  6.686904e+06  3.070000e+02   \n",
       "NVTAdj              4071.0  3.596414e+04  1.577649e+06  3.717399e+00   \n",
       "NVTAdj90            3681.0  6.174377e+01  3.271763e+01  1.181012e+01   \n",
       "PriceBTC            4331.0  1.000000e+00  0.000000e+00  1.000000e+00   \n",
       "PriceUSD            3770.0  2.789150e+03  3.940243e+03  5.054062e-02   \n",
       "ROI1yr              3405.0  8.087697e+02  2.385942e+03 -8.373049e+01   \n",
       "ROI30d              3740.0  1.961215e+01  6.610803e+01 -6.166827e+01   \n",
       "SplyCur             4331.0  1.194749e+07  5.610863e+06  0.000000e+00   \n",
       "SplyExpFut10yrCMBI  4325.0  1.939564e+07  1.008977e+06  1.707025e+07   \n",
       "SplyFF              4331.0  1.044944e+07  4.384703e+06  0.000000e+00   \n",
       "TxCnt               4331.0  1.351479e+05  1.257465e+05  0.000000e+00   \n",
       "TxTfrCnt            4331.0  3.250224e+05  3.003515e+05  0.000000e+00   \n",
       "TxTfrValAdjNtv      4331.0  2.477530e+05  1.774510e+05  0.000000e+00   \n",
       "TxTfrValAdjUSD      3770.0  7.960491e+08  1.239924e+09  4.647065e+02   \n",
       "TxTfrValMeanNtv     4073.0  9.599090e+01  6.810958e+02  1.000000e-02   \n",
       "TxTfrValMeanUSD     3770.0  3.990395e+03  5.441037e+03  7.628727e-01   \n",
       "TxTfrValMedNtv      4073.0  5.531400e+01  6.437061e+02  1.000000e-08   \n",
       "TxTfrValMedUSD      3770.0  3.738230e+01  5.177986e+01  8.203471e-08   \n",
       "TxTfrValNtv         4331.0  1.052378e+06  1.924686e+06  0.000000e+00   \n",
       "TxTfrValUSD         3770.0  2.480823e+09  4.357916e+09  5.874592e+02   \n",
       "VtyDayRet180d       3590.0  4.894274e-02  2.126140e-02  2.029803e-02   \n",
       "VtyDayRet30d        3740.0  4.394140e-02  2.976390e-02  7.480537e-03   \n",
       "VtyDayRet60d        3710.0  4.598093e-02  2.684905e-02  1.040645e-02   \n",
       "blk                 4331.0  3.267195e+05  1.950476e+05  0.000000e+00   \n",
       "PriceRealUSD        4325.0  1.489445e+03  2.235248e+03  0.000000e+00   \n",
       "btc_blk_est         4331.0  3.108967e+05  1.800559e+05  0.000000e+00   \n",
       "DailyIssuedNtv      4331.0  4.280896e+03  2.847344e+03  0.000000e+00   \n",
       "DailyIssuedUSD      3770.0  4.998595e+06  6.686747e+06  3.070000e+02   \n",
       "inf_pct_ann         4325.0  8.165736e-01  8.493699e+00  1.169427e-02   \n",
       "S2F                 4325.0  1.407454e+01  1.351829e+01  2.739726e-03   \n",
       "\n",
       "                             25%           50%           75%           max  \n",
       "AdrActCnt           1.657250e+04  2.226280e+05  6.376275e+05  1.290363e+06  \n",
       "BlkCnt              1.380000e+02  1.520000e+02  1.660000e+02  6.920000e+02  \n",
       "BlkSizeByte         3.243560e+06  4.909272e+07  1.346478e+08  2.565337e+08  \n",
       "BlkSizeMeanByte     2.186920e+04  3.326637e+05  9.241188e+05  1.427240e+06  \n",
       "CapMVRVCur          1.240460e+00  1.667594e+00  2.213414e+00  1.460383e+02  \n",
       "CapMrktCurUSD       2.906799e+08  6.791451e+09  9.712132e+10  3.288988e+11  \n",
       "CapRealUSD          4.298830e+07  4.163219e+09  4.541698e+10  1.276084e+11  \n",
       "DiffMean            1.508590e+06  4.000747e+10  1.452840e+12  1.999734e+13  \n",
       "FeeMeanNtv          1.381825e-04  2.317134e-04  6.831250e-04  2.200000e-01  \n",
       "FeeMeanUSD          3.152316e-02  1.100606e-01  7.391014e-01  5.630812e+01  \n",
       "FeeMedNtv           1.512000e-05  1.000000e-04  2.260000e-04  2.200000e-01  \n",
       "FeeMedUSD           1.346383e-02  5.835855e-02  2.593334e-01  3.369854e+01  \n",
       "FeeTotNtv           7.668729e+00  2.216171e+01  4.817691e+01  1.495749e+03  \n",
       "FeeTotUSD           1.334850e+03  1.100940e+04  2.005790e+05  2.139776e+07  \n",
       "HashRate            1.096960e+01  2.894002e+05  1.132691e+07  1.622631e+08  \n",
       "IssContNtv          1.925000e+03  3.750000e+03  6.050000e+03  3.460000e+04  \n",
       "IssContPctAnn       4.189089e+00  1.023905e+01  3.284273e+01  3.650000e+04  \n",
       "IssContUSD          1.617191e+05  1.583613e+06  8.676410e+06  4.451671e+07  \n",
       "IssTotNtv           1.925000e+03  3.750000e+03  6.050000e+03  3.460000e+04  \n",
       "IssTotUSD           1.617191e+05  1.583613e+06  8.676410e+06  4.451671e+07  \n",
       "NVTAdj              3.784369e+01  5.700585e+01  8.318117e+01  8.145000e+07  \n",
       "NVTAdj90            4.097595e+01  5.269425e+01  7.568111e+01  3.559313e+02  \n",
       "PriceBTC            1.000000e+00  1.000000e+00  1.000000e+00  1.000000e+00  \n",
       "PriceUSD            2.719905e+01  4.744861e+02  5.691233e+03  1.964051e+04  \n",
       "ROI1yr              1.734334e+01  1.417432e+02  5.747222e+02  2.766663e+04  \n",
       "ROI30d             -9.906297e+00  4.288417e+00  2.637905e+01  7.748640e+02  \n",
       "SplyCur             7.929800e+06  1.358714e+07  1.670034e+07  1.854056e+07  \n",
       "SplyExpFut10yrCMBI  1.871819e+07  1.974852e+07  2.025585e+07  2.055019e+07  \n",
       "SplyFF              7.927188e+06  1.255293e+07  1.388444e+07  1.443530e+07  \n",
       "TxCnt               7.020500e+03  8.547800e+04  2.512315e+05  4.981420e+05  \n",
       "TxTfrCnt            1.552900e+04  2.299900e+05  5.909480e+05  2.041653e+06  \n",
       "TxTfrValAdjNtv      1.290862e+05  2.341727e+05  3.505013e+05  2.090898e+06  \n",
       "TxTfrValAdjUSD      1.185388e+07  1.455257e+08  1.386239e+09  1.082210e+10  \n",
       "TxTfrValMeanNtv     1.531485e+00  3.531033e+00  2.184307e+01  2.217500e+04  \n",
       "TxTfrValMeanUSD     5.203556e+02  1.691792e+03  6.199124e+03  5.112477e+04  \n",
       "TxTfrValMedNtv      1.185949e-02  2.874078e-02  1.000000e-01  2.217500e+04  \n",
       "TxTfrValMedUSD      3.376537e+00  1.476306e+01  6.582998e+01  5.348536e+02  \n",
       "TxTfrValNtv         3.575087e+05  6.789640e+05  1.284488e+06  6.725965e+07  \n",
       "TxTfrValUSD         4.792345e+07  5.448449e+08  3.824213e+09  4.877049e+10  \n",
       "VtyDayRet180d       3.266870e-02  4.259557e-02  5.910999e-02  1.095320e-01  \n",
       "VtyDayRet30d        2.465738e-02  3.543518e-02  5.327059e-02  1.917221e-01  \n",
       "VtyDayRet60d        2.767013e-02  3.844497e-02  5.778925e-02  1.432690e-01  \n",
       "blk                 1.585980e+05  3.334910e+05  4.960390e+05  6.565190e+05  \n",
       "PriceRealUSD        4.998369e+00  3.015149e+02  2.783247e+03  6.882663e+03  \n",
       "btc_blk_est         1.550160e+05  3.108960e+05  4.667760e+05  6.226560e+05  \n",
       "DailyIssuedNtv      1.925000e+03  3.750000e+03  6.049999e+03  3.460000e+04  \n",
       "DailyIssuedUSD      1.617191e+05  1.583613e+06  8.676410e+06  4.451671e+07  \n",
       "inf_pct_ann         4.189089e-02  1.023905e-01  3.284273e-01  3.650000e+02  \n",
       "S2F                 3.044814e+00  9.766529e+00  2.387154e+01  8.551197e+01  "
      ]
     },
     "execution_count": 90,
     "metadata": {},
     "output_type": "execute_result"
    }
   ],
   "source": [
    "btc.describe().T"
   ]
  },
  {
   "cell_type": "code",
   "execution_count": 91,
   "metadata": {},
   "outputs": [
    {
     "data": {
      "text/html": [
       "<div>\n",
       "<style scoped>\n",
       "    .dataframe tbody tr th:only-of-type {\n",
       "        vertical-align: middle;\n",
       "    }\n",
       "\n",
       "    .dataframe tbody tr th {\n",
       "        vertical-align: top;\n",
       "    }\n",
       "\n",
       "    .dataframe thead th {\n",
       "        text-align: right;\n",
       "    }\n",
       "</style>\n",
       "<table border=\"1\" class=\"dataframe\">\n",
       "  <thead>\n",
       "    <tr style=\"text-align: right;\">\n",
       "      <th></th>\n",
       "      <th>PriceUSD</th>\n",
       "    </tr>\n",
       "  </thead>\n",
       "  <tbody>\n",
       "    <tr>\n",
       "      <th>PriceUSD</th>\n",
       "      <td>1.000000</td>\n",
       "    </tr>\n",
       "    <tr>\n",
       "      <th>CapMrktCurUSD</th>\n",
       "      <td>0.998868</td>\n",
       "    </tr>\n",
       "    <tr>\n",
       "      <th>IssTotUSD</th>\n",
       "      <td>0.938538</td>\n",
       "    </tr>\n",
       "    <tr>\n",
       "      <th>IssContUSD</th>\n",
       "      <td>0.938538</td>\n",
       "    </tr>\n",
       "    <tr>\n",
       "      <th>DailyIssuedUSD</th>\n",
       "      <td>0.938533</td>\n",
       "    </tr>\n",
       "    <tr>\n",
       "      <th>PriceRealUSD</th>\n",
       "      <td>0.932083</td>\n",
       "    </tr>\n",
       "    <tr>\n",
       "      <th>CapRealUSD</th>\n",
       "      <td>0.929990</td>\n",
       "    </tr>\n",
       "    <tr>\n",
       "      <th>TxTfrValAdjUSD</th>\n",
       "      <td>0.897306</td>\n",
       "    </tr>\n",
       "    <tr>\n",
       "      <th>TxTfrValMedUSD</th>\n",
       "      <td>0.867453</td>\n",
       "    </tr>\n",
       "    <tr>\n",
       "      <th>AdrActCnt</th>\n",
       "      <td>0.814975</td>\n",
       "    </tr>\n",
       "    <tr>\n",
       "      <th>HashRate</th>\n",
       "      <td>0.807490</td>\n",
       "    </tr>\n",
       "    <tr>\n",
       "      <th>DiffMean</th>\n",
       "      <td>0.803992</td>\n",
       "    </tr>\n",
       "    <tr>\n",
       "      <th>btc_blk_est</th>\n",
       "      <td>0.793618</td>\n",
       "    </tr>\n",
       "    <tr>\n",
       "      <th>blk</th>\n",
       "      <td>0.786961</td>\n",
       "    </tr>\n",
       "    <tr>\n",
       "      <th>S2F</th>\n",
       "      <td>0.782744</td>\n",
       "    </tr>\n",
       "    <tr>\n",
       "      <th>TxTfrValUSD</th>\n",
       "      <td>0.768611</td>\n",
       "    </tr>\n",
       "    <tr>\n",
       "      <th>TxTfrValMeanUSD</th>\n",
       "      <td>0.768204</td>\n",
       "    </tr>\n",
       "    <tr>\n",
       "      <th>BlkSizeByte</th>\n",
       "      <td>0.760625</td>\n",
       "    </tr>\n",
       "    <tr>\n",
       "      <th>BlkSizeMeanByte</th>\n",
       "      <td>0.758555</td>\n",
       "    </tr>\n",
       "    <tr>\n",
       "      <th>TxTfrCnt</th>\n",
       "      <td>0.740577</td>\n",
       "    </tr>\n",
       "    <tr>\n",
       "      <th>TxCnt</th>\n",
       "      <td>0.732660</td>\n",
       "    </tr>\n",
       "    <tr>\n",
       "      <th>SplyExpFut10yrCMBI</th>\n",
       "      <td>0.680011</td>\n",
       "    </tr>\n",
       "    <tr>\n",
       "      <th>SplyCur</th>\n",
       "      <td>0.667801</td>\n",
       "    </tr>\n",
       "    <tr>\n",
       "      <th>SplyFF</th>\n",
       "      <td>0.554074</td>\n",
       "    </tr>\n",
       "    <tr>\n",
       "      <th>FeeMeanUSD</th>\n",
       "      <td>0.548146</td>\n",
       "    </tr>\n",
       "    <tr>\n",
       "      <th>FeeTotUSD</th>\n",
       "      <td>0.535459</td>\n",
       "    </tr>\n",
       "    <tr>\n",
       "      <th>FeeMedUSD</th>\n",
       "      <td>0.515309</td>\n",
       "    </tr>\n",
       "    <tr>\n",
       "      <th>FeeTotNtv</th>\n",
       "      <td>0.389350</td>\n",
       "    </tr>\n",
       "    <tr>\n",
       "      <th>NVTAdj90</th>\n",
       "      <td>0.190437</td>\n",
       "    </tr>\n",
       "    <tr>\n",
       "      <th>NVTAdj</th>\n",
       "      <td>0.168459</td>\n",
       "    </tr>\n",
       "    <tr>\n",
       "      <th>FeeMedNtv</th>\n",
       "      <td>0.066005</td>\n",
       "    </tr>\n",
       "    <tr>\n",
       "      <th>TxTfrValAdjNtv</th>\n",
       "      <td>0.006590</td>\n",
       "    </tr>\n",
       "    <tr>\n",
       "      <th>CapMVRVCur</th>\n",
       "      <td>-0.046181</td>\n",
       "    </tr>\n",
       "    <tr>\n",
       "      <th>ROI30d</th>\n",
       "      <td>-0.080712</td>\n",
       "    </tr>\n",
       "    <tr>\n",
       "      <th>FeeMeanNtv</th>\n",
       "      <td>-0.086509</td>\n",
       "    </tr>\n",
       "    <tr>\n",
       "      <th>VtyDayRet30d</th>\n",
       "      <td>-0.103396</td>\n",
       "    </tr>\n",
       "    <tr>\n",
       "      <th>TxTfrValMedNtv</th>\n",
       "      <td>-0.103970</td>\n",
       "    </tr>\n",
       "    <tr>\n",
       "      <th>TxTfrValNtv</th>\n",
       "      <td>-0.111574</td>\n",
       "    </tr>\n",
       "    <tr>\n",
       "      <th>VtyDayRet60d</th>\n",
       "      <td>-0.133447</td>\n",
       "    </tr>\n",
       "    <tr>\n",
       "      <th>ROI1yr</th>\n",
       "      <td>-0.152940</td>\n",
       "    </tr>\n",
       "    <tr>\n",
       "      <th>BlkCnt</th>\n",
       "      <td>-0.180333</td>\n",
       "    </tr>\n",
       "    <tr>\n",
       "      <th>VtyDayRet180d</th>\n",
       "      <td>-0.185449</td>\n",
       "    </tr>\n",
       "    <tr>\n",
       "      <th>TxTfrValMeanNtv</th>\n",
       "      <td>-0.208057</td>\n",
       "    </tr>\n",
       "    <tr>\n",
       "      <th>IssContPctAnn</th>\n",
       "      <td>-0.433022</td>\n",
       "    </tr>\n",
       "    <tr>\n",
       "      <th>inf_pct_ann</th>\n",
       "      <td>-0.433035</td>\n",
       "    </tr>\n",
       "    <tr>\n",
       "      <th>IssTotNtv</th>\n",
       "      <td>-0.596887</td>\n",
       "    </tr>\n",
       "    <tr>\n",
       "      <th>IssContNtv</th>\n",
       "      <td>-0.596887</td>\n",
       "    </tr>\n",
       "    <tr>\n",
       "      <th>DailyIssuedNtv</th>\n",
       "      <td>-0.596904</td>\n",
       "    </tr>\n",
       "    <tr>\n",
       "      <th>PriceBTC</th>\n",
       "      <td>NaN</td>\n",
       "    </tr>\n",
       "  </tbody>\n",
       "</table>\n",
       "</div>"
      ],
      "text/plain": [
       "                    PriceUSD\n",
       "PriceUSD            1.000000\n",
       "CapMrktCurUSD       0.998868\n",
       "IssTotUSD           0.938538\n",
       "IssContUSD          0.938538\n",
       "DailyIssuedUSD      0.938533\n",
       "PriceRealUSD        0.932083\n",
       "CapRealUSD          0.929990\n",
       "TxTfrValAdjUSD      0.897306\n",
       "TxTfrValMedUSD      0.867453\n",
       "AdrActCnt           0.814975\n",
       "HashRate            0.807490\n",
       "DiffMean            0.803992\n",
       "btc_blk_est         0.793618\n",
       "blk                 0.786961\n",
       "S2F                 0.782744\n",
       "TxTfrValUSD         0.768611\n",
       "TxTfrValMeanUSD     0.768204\n",
       "BlkSizeByte         0.760625\n",
       "BlkSizeMeanByte     0.758555\n",
       "TxTfrCnt            0.740577\n",
       "TxCnt               0.732660\n",
       "SplyExpFut10yrCMBI  0.680011\n",
       "SplyCur             0.667801\n",
       "SplyFF              0.554074\n",
       "FeeMeanUSD          0.548146\n",
       "FeeTotUSD           0.535459\n",
       "FeeMedUSD           0.515309\n",
       "FeeTotNtv           0.389350\n",
       "NVTAdj90            0.190437\n",
       "NVTAdj              0.168459\n",
       "FeeMedNtv           0.066005\n",
       "TxTfrValAdjNtv      0.006590\n",
       "CapMVRVCur         -0.046181\n",
       "ROI30d             -0.080712\n",
       "FeeMeanNtv         -0.086509\n",
       "VtyDayRet30d       -0.103396\n",
       "TxTfrValMedNtv     -0.103970\n",
       "TxTfrValNtv        -0.111574\n",
       "VtyDayRet60d       -0.133447\n",
       "ROI1yr             -0.152940\n",
       "BlkCnt             -0.180333\n",
       "VtyDayRet180d      -0.185449\n",
       "TxTfrValMeanNtv    -0.208057\n",
       "IssContPctAnn      -0.433022\n",
       "inf_pct_ann        -0.433035\n",
       "IssTotNtv          -0.596887\n",
       "IssContNtv         -0.596887\n",
       "DailyIssuedNtv     -0.596904\n",
       "PriceBTC                 NaN"
      ]
     },
     "execution_count": 91,
     "metadata": {},
     "output_type": "execute_result"
    }
   ],
   "source": [
    "btc.corr()[['PriceUSD']].sort_values('PriceUSD', ascending = False)"
   ]
  },
  {
   "cell_type": "code",
   "execution_count": 92,
   "metadata": {},
   "outputs": [
    {
     "data": {
      "text/html": [
       "<div>\n",
       "<style scoped>\n",
       "    .dataframe tbody tr th:only-of-type {\n",
       "        vertical-align: middle;\n",
       "    }\n",
       "\n",
       "    .dataframe tbody tr th {\n",
       "        vertical-align: top;\n",
       "    }\n",
       "\n",
       "    .dataframe thead th {\n",
       "        text-align: right;\n",
       "    }\n",
       "</style>\n",
       "<table border=\"1\" class=\"dataframe\">\n",
       "  <thead>\n",
       "    <tr style=\"text-align: right;\">\n",
       "      <th></th>\n",
       "      <th>PriceUSD</th>\n",
       "    </tr>\n",
       "  </thead>\n",
       "  <tbody>\n",
       "    <tr>\n",
       "      <th>PriceUSD</th>\n",
       "      <td>1.000000</td>\n",
       "    </tr>\n",
       "    <tr>\n",
       "      <th>CapMrktCurUSD</th>\n",
       "      <td>0.998868</td>\n",
       "    </tr>\n",
       "    <tr>\n",
       "      <th>IssTotUSD</th>\n",
       "      <td>0.938538</td>\n",
       "    </tr>\n",
       "    <tr>\n",
       "      <th>IssContUSD</th>\n",
       "      <td>0.938538</td>\n",
       "    </tr>\n",
       "    <tr>\n",
       "      <th>DailyIssuedUSD</th>\n",
       "      <td>0.938533</td>\n",
       "    </tr>\n",
       "    <tr>\n",
       "      <th>PriceRealUSD</th>\n",
       "      <td>0.932083</td>\n",
       "    </tr>\n",
       "    <tr>\n",
       "      <th>CapRealUSD</th>\n",
       "      <td>0.929990</td>\n",
       "    </tr>\n",
       "    <tr>\n",
       "      <th>TxTfrValAdjUSD</th>\n",
       "      <td>0.897306</td>\n",
       "    </tr>\n",
       "    <tr>\n",
       "      <th>TxTfrValMedUSD</th>\n",
       "      <td>0.867453</td>\n",
       "    </tr>\n",
       "    <tr>\n",
       "      <th>AdrActCnt</th>\n",
       "      <td>0.814975</td>\n",
       "    </tr>\n",
       "    <tr>\n",
       "      <th>HashRate</th>\n",
       "      <td>0.807490</td>\n",
       "    </tr>\n",
       "    <tr>\n",
       "      <th>DiffMean</th>\n",
       "      <td>0.803992</td>\n",
       "    </tr>\n",
       "    <tr>\n",
       "      <th>btc_blk_est</th>\n",
       "      <td>0.793618</td>\n",
       "    </tr>\n",
       "    <tr>\n",
       "      <th>blk</th>\n",
       "      <td>0.786961</td>\n",
       "    </tr>\n",
       "    <tr>\n",
       "      <th>S2F</th>\n",
       "      <td>0.782744</td>\n",
       "    </tr>\n",
       "    <tr>\n",
       "      <th>TxTfrValUSD</th>\n",
       "      <td>0.768611</td>\n",
       "    </tr>\n",
       "    <tr>\n",
       "      <th>TxTfrValMeanUSD</th>\n",
       "      <td>0.768204</td>\n",
       "    </tr>\n",
       "    <tr>\n",
       "      <th>BlkSizeByte</th>\n",
       "      <td>0.760625</td>\n",
       "    </tr>\n",
       "    <tr>\n",
       "      <th>BlkSizeMeanByte</th>\n",
       "      <td>0.758555</td>\n",
       "    </tr>\n",
       "    <tr>\n",
       "      <th>TxTfrCnt</th>\n",
       "      <td>0.740577</td>\n",
       "    </tr>\n",
       "  </tbody>\n",
       "</table>\n",
       "</div>"
      ],
      "text/plain": [
       "                 PriceUSD\n",
       "PriceUSD         1.000000\n",
       "CapMrktCurUSD    0.998868\n",
       "IssTotUSD        0.938538\n",
       "IssContUSD       0.938538\n",
       "DailyIssuedUSD   0.938533\n",
       "PriceRealUSD     0.932083\n",
       "CapRealUSD       0.929990\n",
       "TxTfrValAdjUSD   0.897306\n",
       "TxTfrValMedUSD   0.867453\n",
       "AdrActCnt        0.814975\n",
       "HashRate         0.807490\n",
       "DiffMean         0.803992\n",
       "btc_blk_est      0.793618\n",
       "blk              0.786961\n",
       "S2F              0.782744\n",
       "TxTfrValUSD      0.768611\n",
       "TxTfrValMeanUSD  0.768204\n",
       "BlkSizeByte      0.760625\n",
       "BlkSizeMeanByte  0.758555\n",
       "TxTfrCnt         0.740577"
      ]
     },
     "execution_count": 92,
     "metadata": {},
     "output_type": "execute_result"
    }
   ],
   "source": [
    "abs(btc.corr()[['PriceUSD']]).sort_values('PriceUSD', ascending = False).head(20)"
   ]
  },
  {
   "cell_type": "code",
   "execution_count": 93,
   "metadata": {},
   "outputs": [
    {
     "data": {
      "image/png": "[encoded data removed]",
      "text/plain": [
       "<Figure size 1080x720 with 2 Axes>"
      ]
     },
     "metadata": {
      "needs_background": "light"
     },
     "output_type": "display_data"
    }
   ],
   "source": [
    "plt.figure(figsize = (15, 10))\n",
    "sns.heatmap(abs(btc.corr()[['PriceUSD']]).sort_values('PriceUSD', ascending = False))\n",
    "plt.tight_layout()"
   ]
  },
  {
   "cell_type": "code",
   "execution_count": 94,
   "metadata": {},
   "outputs": [],
   "source": [
    "\"\"\"Time Metrics\"\"\"\n",
    "# date               -datetime64[ns, UTC]\n",
    "# blk                -ADDED METRIC - block height (Sum of BlkCnt)\n",
    "# btc_blk_est        -ADDED METRIC - Estimated Bitcoin block-height (Assumes 10min block-times)\n",
    "time_cols = ['date', 'blk', 'btc_blk_est']"
   ]
  },
  {
   "cell_type": "code",
   "execution_count": 95,
   "metadata": {},
   "outputs": [],
   "source": [
    "\"\"\"Blockchain Metrics\"\"\"\n",
    "# AdrActCnt          -Active Addresses\n",
    "# BlkCnt             -Block Count (Daily)\n",
    "# BlkSizeByte        -Block Size (Bytes)\n",
    "# BlkSizeMeanByte    -Block Size Average (Bytes)\n",
    "# SplyCur            -Current Coin Supply\n",
    "# inf_pct_ann        -ADDED METRIC - Inflation % annual\n",
    "# S2F                -ADDED METRIC - Stock-to-Flow Ratio\n",
    "blockchain_cols = ['AdrActCnt', 'BlkCnt', 'BlkSizeByte', 'BlkSizeMeanByte', 'SplyCur', 'inf_pct_ann', 'S2F']"
   ]
  },
  {
   "cell_type": "code",
   "execution_count": 96,
   "metadata": {},
   "outputs": [],
   "source": [
    "\"\"\"Network Valuation Models\"\"\"\n",
    "# CapMrktCurUSD      - Market Cap\n",
    "# CapRealUSD         - Realised Cap\n",
    "market_val_cols = ['CapMrktCurUSD', 'CapRealUSD', 'Market Cap', 'Realised Cap']"
   ]
  },
  {
   "cell_type": "code",
   "execution_count": 97,
   "metadata": {},
   "outputs": [],
   "source": [
    "\"\"\"Network Pricing Models\"\"\"\n",
    "# PriceUSD           - Coin Price USD\n",
    "# PriceRealised      - Realised Price USD\n",
    "market_pricing_cols = ['PriceUSD', 'PriceRealised', 'Coin Price USD', 'Realised Price USD']"
   ]
  },
  {
   "cell_type": "code",
   "execution_count": 98,
   "metadata": {},
   "outputs": [],
   "source": [
    "\"\"\"Network Valuation Oscillators\"\"\"\n",
    "# CapMVRVCur         - MVRV Ratio - Market Cap / Realised Cap\n",
    "# NVTAdj             - NVT Ratio (Adjusted Volume)\n",
    "# NVTAdj90           - NVT Ratio 90D MA (Adjusted Volume)\n",
    "market_oscil_cols = ['CapMVRVCur', 'NVTAdj', 'NVTAdj90', 'MVRV Ratio - Market Cap / Realised Cap', \n",
    "                      'NVT Ratio (Adjusted Volume)', 'NVT Ratio 90D MA (Adjusted Volume)']"
   ]
  },
  {
   "cell_type": "code",
   "execution_count": 99,
   "metadata": {},
   "outputs": [],
   "source": [
    "\"\"\"Transaction Flow Metrics\"\"\"\n",
    "# TxCnt              -Count of Transactions\n",
    "# TxTfrCnt           -Count of Transaction Transfers (Cleaned Data)\n",
    "# TxTfrValAdjNtv     -Native Units Transferred (Adjusted Data)\n",
    "# TxTfrValAdjUSD     -USD Value Transferred (Adjusted Data)\n",
    "# TxTfrValNtv        -Total Native Units Value Transferred\n",
    "# TxTfrValUSD        -Total USD Value Transferred\n",
    "# TxTfrValMeanNtv    -Mean Native Units Transferred\n",
    "# TxTfrValMeanUSD    -Mean USD Value Transferred\n",
    "# TxTfrValMedNtv     -Median Native Units Transferred\n",
    "# TxTfrValMedUSD     -Median USD Value Transferred\n",
    "transaction_cols = ['TxCnt', 'TxTfrCnt', 'TxTfrValAdjNtv', 'TxTfrValAdjUSD', 'TxTfrValNtv', 'TxTfrValUSD', \n",
    "                    'TxTfrValMeanNtv', 'TxTfrValMeanUSD' ,'TxTfrValMedNtv', 'TxTfrValMedUSD']"
   ]
  },
  {
   "cell_type": "code",
   "execution_count": 100,
   "metadata": {},
   "outputs": [],
   "source": [
    "\"\"\"Miner Metrics\"\"\"\n",
    "# DiffMean          - Average Difficulty\n",
    "# FeeMeanNtv        - Mean Fee paid in Native Coins (Daily)\n",
    "# FeeMeanUSD        - Mean Fee paid in USD (Daily)\n",
    "# FeeMedNtv         - Median Fee paid in Native Coins (Daily)\n",
    "# FeeMedUSD         - Mean Fee paid in USD (Daily)\n",
    "# FeeTotNtv         - Total Fees paid in Native Coins (Daily)\n",
    "# FeeTotUSD         - Total Fees paid in Native Coins (Daily)\n",
    "# IssContNtv        - Daily Issued Native Coins to Miners/Validators\n",
    "# IssContPctAnn     - Annualised Inflation Rate\n",
    "# IssContUSD        - Daily Issued USD to Miners/Validators\n",
    "# IssTotNtvDaily    - Issued Native Coins to Miners/Validators (Daily)\n",
    "# IssTotUSD         - Daily Issued USD Value to Miners/Validators (Daily)\n",
    "# DailyIssuedNtv    - ADDED METRIC - Daily Issued Native Units (Sply_n - Sply_n-1)\n",
    "# DailyIssuedUSD    - ADDED METRIC - Daily Issued USD Value (Sply_n - Sply_n-1)\n",
    "miner_cols = ['DiffMean', 'FeeMeanNtv', 'FeeMeanUSD', 'FeeMedNtv', 'FeeMedUSD', 'FeeTotNtv', 'FeeTotUSD',\n",
    "              'IssContNtv', 'IssContPctAnn', 'IssContUSD', 'IssTotNtvDaily', 'IssTotUSD' ,'DailyIssuedNtv', \n",
    "              'DailyIssuedUSD']"
   ]
  },
  {
   "cell_type": "code",
   "execution_count": 101,
   "metadata": {},
   "outputs": [],
   "source": [
    "\"\"\"Market Specific Metrics\"\"\"\n",
    "# ROI1yr\n",
    "# ROI30d\n",
    "# VtyDayRet180d\n",
    "# VtyDayRet30d\n",
    "# VtyDayRet60d\n",
    "market_metrics_cols = ['ROI1yr', 'ROI30d', 'VtyDayRet180d', 'VtyDayRet30d', 'VtyDayRet60d']"
   ]
  },
  {
   "cell_type": "code",
   "execution_count": 102,
   "metadata": {},
   "outputs": [
    {
     "data": {
      "text/html": [
       "        <script type=\"text/javascript\">\n",
       "        window.PlotlyConfig = {MathJaxConfig: 'local'};\n",
       "        if (window.MathJax) {MathJax.Hub.Config({SVG: {font: \"STIX-Web\"}});}\n",
       "        if (typeof require !== 'undefined') {\n",
       "        require.undef(\"plotly\");\n",
       "        requirejs.config({\n",
       "            paths: {\n",
       "                'plotly': ['https://cdn.plot.ly/plotly-latest.min']\n",
       "            }\n",
       "        });\n",
       "        require(['plotly'], function(Plotly) {\n",
       "            window._Plotly = Plotly;\n",
       "        });\n",
       "        }\n",
       "        </script>\n",
       "        "
      ]
     },
     "metadata": {},
     "output_type": "display_data"
    }
   ],
   "source": [
    "from chart_studio.plotly import plotly as py\n",
    "from plotly import tools\n",
    "from plotly.offline import init_notebook_mode, iplot\n",
    "init_notebook_mode(connected=True)\n",
    "import plotly.graph_objs as go\n",
    "import gc"
   ]
  },
  {
   "cell_type": "code",
   "execution_count": null,
   "metadata": {},
   "outputs": [],
   "source": []
  }
 ],
 "metadata": {
  "kernelspec": {
   "display_name": "Python 3",
   "language": "python",
   "name": "python3"
  },
  "language_info": {
   "codemirror_mode": {
    "name": "ipython",
    "version": 3
   },
   "file_extension": ".py",
   "mimetype": "text/x-python",
   "name": "python",
   "nbconvert_exporter": "python",
   "pygments_lexer": "ipython3",
   "version": "3.7.9"
  }
 },
 "nbformat": 4,
 "nbformat_minor": 4
}
